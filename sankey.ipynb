{
 "cells": [
  {
   "cell_type": "markdown",
   "id": "f9a91d66-7385-4a55-be69-c1c499332b6c",
   "metadata": {},
   "source": [
    "# Flux de patients selon les GHM et diagrammes de Sankey"
   ]
  },
  {
   "cell_type": "code",
   "execution_count": 17,
   "id": "ecea607a-07f6-4e8d-bb3f-d5b9a4998783",
   "metadata": {
    "tags": []
   },
   "outputs": [
    {
     "name": "stdout",
     "output_type": "stream",
     "text": [
      "Requirement already satisfied: prefixspan in /opt/mamba/lib/python3.10/site-packages (0.5.2)\n",
      "Requirement already satisfied: docopt>=0.6.2 in /opt/mamba/lib/python3.10/site-packages (from prefixspan) (0.6.2)\n",
      "Requirement already satisfied: extratools>=0.8.1 in /opt/mamba/lib/python3.10/site-packages (from prefixspan) (0.8.2.1)\n",
      "Requirement already satisfied: sortedcontainers>=1.5.10 in /opt/mamba/lib/python3.10/site-packages (from extratools>=0.8.1->prefixspan) (2.4.0)\n",
      "Requirement already satisfied: toolz>=0.9.0 in /opt/mamba/lib/python3.10/site-packages (from extratools>=0.8.1->prefixspan) (0.12.0)\n"
     ]
    }
   ],
   "source": [
    "!pip install prefixspan"
   ]
  },
  {
   "cell_type": "code",
   "execution_count": 18,
   "id": "70c8716a-db20-4e50-a0f2-d87a48c33d4d",
   "metadata": {
    "tags": []
   },
   "outputs": [],
   "source": [
    "from prefixspan import PrefixSpan\n",
    "import pandas as pd\n",
    "import numpy as np\n",
    "from tqdm import tqdm"
   ]
  },
  {
   "cell_type": "markdown",
   "id": "e1a6e307-1b23-44fc-8222-cfb394708d4e",
   "metadata": {},
   "source": [
    "## Import des parcours de soins"
   ]
  },
  {
   "cell_type": "code",
   "execution_count": 26,
   "id": "1abeb0a2-6824-469a-abbf-acffe7808c23",
   "metadata": {
    "tags": []
   },
   "outputs": [
    {
     "name": "stderr",
     "output_type": "stream",
     "text": [
      "/tmp/ipykernel_1102/1911939854.py:1: DtypeWarning: Columns (82,83,84,85,86,87,88,89,90,91,92,93,94,95,96,97,98,99,100,101,102,103,104,105,106,107,108,109,110,111,112,113,114,115,116,117,118,119,120,121,122,123,124,125,126,127,128,129,130,131,132,133,134,135,136,137,138,139,140,141,142,143,144,145,146,147,148,149,150,151,152,153,154,155,156,157,158,159,160,161,162,163,164,165,166,167,168,169,170,171,172,173,174,175,176,177,178,179,180,181,182,183,184,185,186,187,188,189,190,191,192,193,194,195,196,197,198,199,200,201,202,203,204,205,206,207,208,209,210,211,212,213,214,215,216,217,218,219,220,221,222,223,224,225,226,227,228,229,230,231,232,233,234,235,236,237,238,239,240,241,242,243,244,245,246,247,248,249,250,251,252,253,254,255,256) have mixed types. Specify dtype option on import or set low_memory=False.\n",
      "  p_soins=pd.read_csv(\"./data/p_soins.csv\", index_col=0)\n"
     ]
    }
   ],
   "source": [
    "p_soins=pd.read_csv(\"./data/p_soins.csv\", index_col=0)\n",
    "p_soins_IC=pd.read_csv(\"./data/p_soins_IC.csv\", index_col=0)"
   ]
  },
  {
   "cell_type": "code",
   "execution_count": 48,
   "id": "fdab1a67-0319-41fb-848b-cd45efd483fb",
   "metadata": {
    "tags": []
   },
   "outputs": [],
   "source": [
    "p_soins=p_soins.rename(columns={\"0\": \"CODE_PATIENT\", \"1\": \"cluster\"})\n",
    "p_soins_IC=p_soins_IC.rename(columns={\"0\": \"CODE_PATIENT\", \"1\": \"cluster\"})"
   ]
  },
  {
   "cell_type": "code",
   "execution_count": 49,
   "id": "60f4add6-958e-460e-ade0-4894da47fcc4",
   "metadata": {
    "tags": []
   },
   "outputs": [
    {
     "data": {
      "text/html": [
       "<div>\n",
       "<style scoped>\n",
       "    .dataframe tbody tr th:only-of-type {\n",
       "        vertical-align: middle;\n",
       "    }\n",
       "\n",
       "    .dataframe tbody tr th {\n",
       "        vertical-align: top;\n",
       "    }\n",
       "\n",
       "    .dataframe thead th {\n",
       "        text-align: right;\n",
       "    }\n",
       "</style>\n",
       "<table border=\"1\" class=\"dataframe\">\n",
       "  <thead>\n",
       "    <tr style=\"text-align: right;\">\n",
       "      <th></th>\n",
       "      <th>CODE_PATIENT</th>\n",
       "      <th>cluster</th>\n",
       "      <th>2</th>\n",
       "      <th>3</th>\n",
       "      <th>4</th>\n",
       "      <th>5</th>\n",
       "      <th>6</th>\n",
       "      <th>7</th>\n",
       "      <th>8</th>\n",
       "      <th>9</th>\n",
       "      <th>...</th>\n",
       "      <th>115</th>\n",
       "      <th>116</th>\n",
       "      <th>117</th>\n",
       "      <th>118</th>\n",
       "      <th>119</th>\n",
       "      <th>120</th>\n",
       "      <th>121</th>\n",
       "      <th>122</th>\n",
       "      <th>123</th>\n",
       "      <th>124</th>\n",
       "    </tr>\n",
       "  </thead>\n",
       "  <tbody>\n",
       "    <tr>\n",
       "      <th>0</th>\n",
       "      <td>P0</td>\n",
       "      <td>4</td>\n",
       "      <td>05M09T</td>\n",
       "      <td>05M092</td>\n",
       "      <td>05C191</td>\n",
       "      <td>05M20Z</td>\n",
       "      <td>05M20Z</td>\n",
       "      <td>05C191</td>\n",
       "      <td>NaN</td>\n",
       "      <td>NaN</td>\n",
       "      <td>...</td>\n",
       "      <td>NaN</td>\n",
       "      <td>NaN</td>\n",
       "      <td>NaN</td>\n",
       "      <td>NaN</td>\n",
       "      <td>NaN</td>\n",
       "      <td>NaN</td>\n",
       "      <td>NaN</td>\n",
       "      <td>NaN</td>\n",
       "      <td>NaN</td>\n",
       "      <td>NaN</td>\n",
       "    </tr>\n",
       "    <tr>\n",
       "      <th>1</th>\n",
       "      <td>P6</td>\n",
       "      <td>4</td>\n",
       "      <td>05M093</td>\n",
       "      <td>04M132</td>\n",
       "      <td>05C222</td>\n",
       "      <td>23M103</td>\n",
       "      <td>04M053</td>\n",
       "      <td>04M24E</td>\n",
       "      <td>Décès</td>\n",
       "      <td>NaN</td>\n",
       "      <td>...</td>\n",
       "      <td>NaN</td>\n",
       "      <td>NaN</td>\n",
       "      <td>NaN</td>\n",
       "      <td>NaN</td>\n",
       "      <td>NaN</td>\n",
       "      <td>NaN</td>\n",
       "      <td>NaN</td>\n",
       "      <td>NaN</td>\n",
       "      <td>NaN</td>\n",
       "      <td>NaN</td>\n",
       "    </tr>\n",
       "    <tr>\n",
       "      <th>2</th>\n",
       "      <td>P17</td>\n",
       "      <td>5</td>\n",
       "      <td>05M093</td>\n",
       "      <td>04M143</td>\n",
       "      <td>11M044</td>\n",
       "      <td>04M053</td>\n",
       "      <td>09M063</td>\n",
       "      <td>05K251</td>\n",
       "      <td>09M062</td>\n",
       "      <td>09M063</td>\n",
       "      <td>...</td>\n",
       "      <td>NaN</td>\n",
       "      <td>NaN</td>\n",
       "      <td>NaN</td>\n",
       "      <td>NaN</td>\n",
       "      <td>NaN</td>\n",
       "      <td>NaN</td>\n",
       "      <td>NaN</td>\n",
       "      <td>NaN</td>\n",
       "      <td>NaN</td>\n",
       "      <td>NaN</td>\n",
       "    </tr>\n",
       "    <tr>\n",
       "      <th>3</th>\n",
       "      <td>P24</td>\n",
       "      <td>1</td>\n",
       "      <td>05M091</td>\n",
       "      <td>05M171</td>\n",
       "      <td>05M13T</td>\n",
       "      <td>05M13T</td>\n",
       "      <td>05M13T</td>\n",
       "      <td>05K061</td>\n",
       "      <td>05M13T</td>\n",
       "      <td>05M13T</td>\n",
       "      <td>...</td>\n",
       "      <td>NaN</td>\n",
       "      <td>NaN</td>\n",
       "      <td>NaN</td>\n",
       "      <td>NaN</td>\n",
       "      <td>NaN</td>\n",
       "      <td>NaN</td>\n",
       "      <td>NaN</td>\n",
       "      <td>NaN</td>\n",
       "      <td>NaN</td>\n",
       "      <td>NaN</td>\n",
       "    </tr>\n",
       "    <tr>\n",
       "      <th>4</th>\n",
       "      <td>P25</td>\n",
       "      <td>4</td>\n",
       "      <td>05M091</td>\n",
       "      <td>23K02Z</td>\n",
       "      <td>09C081</td>\n",
       "      <td>09C082</td>\n",
       "      <td>19M02T</td>\n",
       "      <td>NaN</td>\n",
       "      <td>NaN</td>\n",
       "      <td>NaN</td>\n",
       "      <td>...</td>\n",
       "      <td>NaN</td>\n",
       "      <td>NaN</td>\n",
       "      <td>NaN</td>\n",
       "      <td>NaN</td>\n",
       "      <td>NaN</td>\n",
       "      <td>NaN</td>\n",
       "      <td>NaN</td>\n",
       "      <td>NaN</td>\n",
       "      <td>NaN</td>\n",
       "      <td>NaN</td>\n",
       "    </tr>\n",
       "  </tbody>\n",
       "</table>\n",
       "<p>5 rows × 125 columns</p>\n",
       "</div>"
      ],
      "text/plain": [
       "  CODE_PATIENT  cluster       2       3       4       5       6       7   \n",
       "0           P0        4  05M09T  05M092  05C191  05M20Z  05M20Z  05C191  \\\n",
       "1           P6        4  05M093  04M132  05C222  23M103  04M053  04M24E   \n",
       "2          P17        5  05M093  04M143  11M044  04M053  09M063  05K251   \n",
       "3          P24        1  05M091  05M171  05M13T  05M13T  05M13T  05K061   \n",
       "4          P25        4  05M091  23K02Z  09C081  09C082  19M02T     NaN   \n",
       "\n",
       "        8       9  ...  115  116  117  118  119  120  121  122  123  124  \n",
       "0     NaN     NaN  ...  NaN  NaN  NaN  NaN  NaN  NaN  NaN  NaN  NaN  NaN  \n",
       "1   Décès     NaN  ...  NaN  NaN  NaN  NaN  NaN  NaN  NaN  NaN  NaN  NaN  \n",
       "2  09M062  09M063  ...  NaN  NaN  NaN  NaN  NaN  NaN  NaN  NaN  NaN  NaN  \n",
       "3  05M13T  05M13T  ...  NaN  NaN  NaN  NaN  NaN  NaN  NaN  NaN  NaN  NaN  \n",
       "4     NaN     NaN  ...  NaN  NaN  NaN  NaN  NaN  NaN  NaN  NaN  NaN  NaN  \n",
       "\n",
       "[5 rows x 125 columns]"
      ]
     },
     "execution_count": 49,
     "metadata": {},
     "output_type": "execute_result"
    }
   ],
   "source": [
    "p_soins_IC.head()"
   ]
  },
  {
   "cell_type": "markdown",
   "id": "06d25b0f-6b09-4172-89a3-5f74330f5dad",
   "metadata": {},
   "source": [
    "## Flux de GHM pour l'ensemble de la population avec IC"
   ]
  },
  {
   "cell_type": "code",
   "execution_count": 57,
   "id": "0a169a9a-6816-48a1-aa58-e962107b9e86",
   "metadata": {
    "tags": []
   },
   "outputs": [
    {
     "data": {
      "text/html": [
       "<div>\n",
       "<style scoped>\n",
       "    .dataframe tbody tr th:only-of-type {\n",
       "        vertical-align: middle;\n",
       "    }\n",
       "\n",
       "    .dataframe tbody tr th {\n",
       "        vertical-align: top;\n",
       "    }\n",
       "\n",
       "    .dataframe thead th {\n",
       "        text-align: right;\n",
       "    }\n",
       "</style>\n",
       "<table border=\"1\" class=\"dataframe\">\n",
       "  <thead>\n",
       "    <tr style=\"text-align: right;\">\n",
       "      <th></th>\n",
       "      <th>2</th>\n",
       "      <th>3</th>\n",
       "    </tr>\n",
       "  </thead>\n",
       "  <tbody>\n",
       "    <tr>\n",
       "      <th>0</th>\n",
       "      <td>05M09T</td>\n",
       "      <td>05M092</td>\n",
       "    </tr>\n",
       "    <tr>\n",
       "      <th>1</th>\n",
       "      <td>05M093</td>\n",
       "      <td>04M132</td>\n",
       "    </tr>\n",
       "    <tr>\n",
       "      <th>2</th>\n",
       "      <td>05M093</td>\n",
       "      <td>04M143</td>\n",
       "    </tr>\n",
       "    <tr>\n",
       "      <th>3</th>\n",
       "      <td>05M091</td>\n",
       "      <td>05M171</td>\n",
       "    </tr>\n",
       "    <tr>\n",
       "      <th>4</th>\n",
       "      <td>05M091</td>\n",
       "      <td>23K02Z</td>\n",
       "    </tr>\n",
       "  </tbody>\n",
       "</table>\n",
       "</div>"
      ],
      "text/plain": [
       "        2       3\n",
       "0  05M09T  05M092\n",
       "1  05M093  04M132\n",
       "2  05M093  04M143\n",
       "3  05M091  05M171\n",
       "4  05M091  23K02Z"
      ]
     },
     "execution_count": 57,
     "metadata": {},
     "output_type": "execute_result"
    }
   ],
   "source": [
    "p_soins_IC_12=p_soins_IC.iloc[:,2:4]\n",
    "p_soins_IC_12.head()"
   ]
  },
  {
   "cell_type": "code",
   "execution_count": 58,
   "id": "c7182251-4567-43b5-9798-baddca8c12ec",
   "metadata": {
    "tags": []
   },
   "outputs": [],
   "source": [
    "corpus_IC=[]\n",
    "for patient in range(len(p_soins_IC_12)):\n",
    "    corpus_IC.append([p_soins_IC_12.iloc[patient][0], p_soins_IC_12.iloc[patient][1]])"
   ]
  },
  {
   "cell_type": "code",
   "execution_count": 66,
   "id": "6e808531-a425-44b3-9f98-bc2ffbee69a6",
   "metadata": {
    "tags": []
   },
   "outputs": [],
   "source": [
    "ps = PrefixSpan(corpus_IC)\n",
    "ps.minlen=2\n",
    "output=ps.topk(k=10)"
   ]
  },
  {
   "cell_type": "code",
   "execution_count": 67,
   "id": "d750370a-dc85-4beb-b7c0-37e3b883e68b",
   "metadata": {
    "tags": []
   },
   "outputs": [
    {
     "name": "stdout",
     "output_type": "stream",
     "text": [
      "['05M093' ,'Décès ', 0.056 ],\n",
      "['05M092' ,'Décès ', 0.04 ],\n",
      "['05M09T' ,'Décès ', 0.032 ],\n",
      "['05M092' ,'05M092 ', 0.027 ],\n",
      "['05M094' ,'Décès ', 0.026 ],\n",
      "['05M092' ,'05M093 ', 0.015 ],\n",
      "['05M093' ,'05M093 ', 0.015 ],\n",
      "['05M093' ,'05M092 ', 0.014 ],\n",
      "['05M093' ,'nan ', 0.011 ],\n",
      "['05M091' ,'05M092 ', 0.011 ],\n"
     ]
    }
   ],
   "source": [
    "for i in output:\n",
    "    ghm1=str(i[1][0])\n",
    "    ghm2=str(i[1][1])\n",
    "    print(\"['\"+ghm1+'\\'',\",\\'\"+ghm2+\" ',\",round(i[0]/len(corpus_IC),3),\"],\")"
   ]
  },
  {
   "cell_type": "code",
   "execution_count": 68,
   "id": "080bee11-3396-46a1-9180-c983e14694d2",
   "metadata": {
    "tags": []
   },
   "outputs": [
    {
     "data": {
      "text/html": [
       "<div>\n",
       "<style scoped>\n",
       "    .dataframe tbody tr th:only-of-type {\n",
       "        vertical-align: middle;\n",
       "    }\n",
       "\n",
       "    .dataframe tbody tr th {\n",
       "        vertical-align: top;\n",
       "    }\n",
       "\n",
       "    .dataframe thead th {\n",
       "        text-align: right;\n",
       "    }\n",
       "</style>\n",
       "<table border=\"1\" class=\"dataframe\">\n",
       "  <thead>\n",
       "    <tr style=\"text-align: right;\">\n",
       "      <th></th>\n",
       "      <th>3</th>\n",
       "      <th>4</th>\n",
       "    </tr>\n",
       "  </thead>\n",
       "  <tbody>\n",
       "    <tr>\n",
       "      <th>0</th>\n",
       "      <td>05M092</td>\n",
       "      <td>05C191</td>\n",
       "    </tr>\n",
       "    <tr>\n",
       "      <th>1</th>\n",
       "      <td>04M132</td>\n",
       "      <td>05C222</td>\n",
       "    </tr>\n",
       "    <tr>\n",
       "      <th>2</th>\n",
       "      <td>04M143</td>\n",
       "      <td>11M044</td>\n",
       "    </tr>\n",
       "    <tr>\n",
       "      <th>3</th>\n",
       "      <td>05M171</td>\n",
       "      <td>05M13T</td>\n",
       "    </tr>\n",
       "    <tr>\n",
       "      <th>4</th>\n",
       "      <td>23K02Z</td>\n",
       "      <td>09C081</td>\n",
       "    </tr>\n",
       "  </tbody>\n",
       "</table>\n",
       "</div>"
      ],
      "text/plain": [
       "        3       4\n",
       "0  05M092  05C191\n",
       "1  04M132  05C222\n",
       "2  04M143  11M044\n",
       "3  05M171  05M13T\n",
       "4  23K02Z  09C081"
      ]
     },
     "execution_count": 68,
     "metadata": {},
     "output_type": "execute_result"
    }
   ],
   "source": [
    "p_soins_IC_23=p_soins_IC.iloc[:,3:5]\n",
    "p_soins_IC_23.head()"
   ]
  },
  {
   "cell_type": "code",
   "execution_count": 79,
   "id": "91a09782-a3c9-41ba-8644-7b4be140f711",
   "metadata": {
    "tags": []
   },
   "outputs": [
    {
     "data": {
      "text/html": [
       "<div>\n",
       "<style scoped>\n",
       "    .dataframe tbody tr th:only-of-type {\n",
       "        vertical-align: middle;\n",
       "    }\n",
       "\n",
       "    .dataframe tbody tr th {\n",
       "        vertical-align: top;\n",
       "    }\n",
       "\n",
       "    .dataframe thead th {\n",
       "        text-align: right;\n",
       "    }\n",
       "</style>\n",
       "<table border=\"1\" class=\"dataframe\">\n",
       "  <thead>\n",
       "    <tr style=\"text-align: right;\">\n",
       "      <th></th>\n",
       "      <th>3</th>\n",
       "      <th>4</th>\n",
       "    </tr>\n",
       "  </thead>\n",
       "  <tbody>\n",
       "    <tr>\n",
       "      <th>0</th>\n",
       "      <td>05M092</td>\n",
       "      <td>05C191</td>\n",
       "    </tr>\n",
       "    <tr>\n",
       "      <th>1</th>\n",
       "      <td>04M132</td>\n",
       "      <td>05C222</td>\n",
       "    </tr>\n",
       "    <tr>\n",
       "      <th>2</th>\n",
       "      <td>04M143</td>\n",
       "      <td>11M044</td>\n",
       "    </tr>\n",
       "    <tr>\n",
       "      <th>3</th>\n",
       "      <td>05M171</td>\n",
       "      <td>05M13T</td>\n",
       "    </tr>\n",
       "    <tr>\n",
       "      <th>4</th>\n",
       "      <td>23K02Z</td>\n",
       "      <td>09C081</td>\n",
       "    </tr>\n",
       "    <tr>\n",
       "      <th>...</th>\n",
       "      <td>...</td>\n",
       "      <td>...</td>\n",
       "    </tr>\n",
       "    <tr>\n",
       "      <th>4632</th>\n",
       "      <td>23M20Z</td>\n",
       "      <td>04M22Z</td>\n",
       "    </tr>\n",
       "    <tr>\n",
       "      <th>4633</th>\n",
       "      <td>23K02Z</td>\n",
       "      <td>05M062</td>\n",
       "    </tr>\n",
       "    <tr>\n",
       "      <th>4634</th>\n",
       "      <td>10M182</td>\n",
       "      <td>04M132</td>\n",
       "    </tr>\n",
       "    <tr>\n",
       "      <th>4635</th>\n",
       "      <td>05M09T</td>\n",
       "      <td>05K052</td>\n",
       "    </tr>\n",
       "    <tr>\n",
       "      <th>4636</th>\n",
       "      <td>04M173</td>\n",
       "      <td>04M171</td>\n",
       "    </tr>\n",
       "  </tbody>\n",
       "</table>\n",
       "<p>4637 rows × 2 columns</p>\n",
       "</div>"
      ],
      "text/plain": [
       "           3       4\n",
       "0     05M092  05C191\n",
       "1     04M132  05C222\n",
       "2     04M143  11M044\n",
       "3     05M171  05M13T\n",
       "4     23K02Z  09C081\n",
       "...      ...     ...\n",
       "4632  23M20Z  04M22Z\n",
       "4633  23K02Z  05M062\n",
       "4634  10M182  04M132\n",
       "4635  05M09T  05K052\n",
       "4636  04M173  04M171\n",
       "\n",
       "[4637 rows x 2 columns]"
      ]
     },
     "execution_count": 79,
     "metadata": {},
     "output_type": "execute_result"
    }
   ],
   "source": [
    "p_soins_IC_23"
   ]
  },
  {
   "cell_type": "code",
   "execution_count": 69,
   "id": "b7061735-458b-478f-a48a-059de23fd5ca",
   "metadata": {
    "tags": []
   },
   "outputs": [],
   "source": [
    "corpus_IC_2=[]\n",
    "for patient in range(len(p_soins_IC_23)):\n",
    "    if str(p_soins_IC_23.iloc[patient][1])!='nan':\n",
    "        corpus_IC_2.append([p_soins_IC_23.iloc[patient][0], p_soins_IC_23.iloc[patient][1]])\n",
    "    else:\n",
    "        corpus_IC_2.append([p_soins_IC_23.iloc[patient][0], 'nan'])"
   ]
  },
  {
   "cell_type": "code",
   "execution_count": 70,
   "id": "8da7f769-6817-439f-a445-6de7db7fabfc",
   "metadata": {
    "tags": []
   },
   "outputs": [],
   "source": [
    "ps = PrefixSpan(corpus_IC_2)\n",
    "ps.minlen=2\n",
    "output=ps.topk(k=10)"
   ]
  },
  {
   "cell_type": "code",
   "execution_count": 71,
   "id": "532c3ee0-ca45-4cb3-903c-a23fc15ab313",
   "metadata": {
    "tags": []
   },
   "outputs": [
    {
     "name": "stdout",
     "output_type": "stream",
     "text": [
      "['Décès ' ,' nan ', 0.16 ],\n",
      "['nan ' ,' nan ', 0.032 ],\n",
      "['05M093 ' ,' Décès ', 0.01 ],\n",
      "['05M092 ' ,' 05M092 ', 0.009 ],\n",
      "['05M092 ' ,' Décès ', 0.008 ],\n",
      "['23Z02Z ' ,' Décès ', 0.006 ],\n",
      "['05M092 ' ,' 05M093 ', 0.005 ],\n",
      "['05M094 ' ,' Décès ', 0.005 ],\n",
      "['02C05J ' ,' nan ', 0.004 ],\n",
      "['05M093 ' ,' 05M092 ', 0.004 ],\n"
     ]
    }
   ],
   "source": [
    "for i in output:\n",
    "    ghm1=str(i[1][0])\n",
    "    ghm2=str(i[1][1])\n",
    "    print(\"['\"+ghm1+' \\'',\",\\' \"+ghm2+\" ',\",round(i[0]/len(corpus_IC),3),\"],\")"
   ]
  },
  {
   "cell_type": "markdown",
   "id": "e4210d09-8035-49bc-8976-fcfb85c105d8",
   "metadata": {},
   "source": [
    "## Flux de patients par clusters"
   ]
  },
  {
   "cell_type": "code",
   "execution_count": 88,
   "id": "51576d98-3866-4418-bd40-d179aab536e6",
   "metadata": {
    "tags": []
   },
   "outputs": [],
   "source": [
    "def generate3stepsSankey(cluster_n, GHM_len=5):\n",
    "    p_soins_IC_12_cluster_n=p_soins_IC[p_soins_IC[\"cluster\"]==cluster_n].iloc[:,2:4]\n",
    "    p_soins_IC_23_cluster_n=p_soins_IC[p_soins_IC[\"cluster\"]==cluster_n].iloc[:,3:5]\n",
    "\n",
    "    corpus_IC=[]\n",
    "    for patient in range(len(p_soins_IC_12_cluster_n)):\n",
    "        corpus_IC.append([p_soins_IC_12_cluster_n.iloc[patient][0], p_soins_IC_12_cluster_n.iloc[patient][1]])\n",
    "\n",
    "    ps = PrefixSpan(corpus_IC)\n",
    "    ps.minlen=2\n",
    "    output=ps.topk(k=20)\n",
    "\n",
    "    for i in output:\n",
    "        ghm1=str(i[1][0])\n",
    "        ghm2=str(i[1][1])\n",
    "        print(\"['\"+ghm1+'\\'',\",\\'\"+ghm2+\" ',\",round(i[0]/len(corpus_IC),3),\"],\")\n",
    "\n",
    "    print(\"\\n\")\n",
    "\n",
    "    corpus_IC_2=[]\n",
    "    for patient in range(len(p_soins_IC_23_cluster_n)):\n",
    "        if str(p_soins_IC_23_cluster_n.iloc[patient][1])!='nan':\n",
    "            corpus_IC_2.append([p_soins_IC_23_cluster_n.iloc[patient][0], p_soins_IC_23_cluster_n.iloc[patient][1]])\n",
    "        else:\n",
    "            corpus_IC_2.append([p_soins_IC_23_cluster_n.iloc[patient][0], 'nan'])\n",
    "\n",
    "    ps = PrefixSpan(corpus_IC_2)\n",
    "    ps.minlen=2\n",
    "    output=ps.topk(k=20)\n",
    "\n",
    "    for i in output:\n",
    "        ghm1=str(i[1][0])\n",
    "        ghm2=str(i[1][1])\n",
    "        print(\"['\"+ghm1+' \\'',\",\\' \"+ghm2+\" ',\",round(i[0]/len(corpus_IC_2),3),\"],\")"
   ]
  },
  {
   "cell_type": "code",
   "execution_count": 89,
   "id": "9c275703-98e8-4e13-be7c-f96153a0f085",
   "metadata": {
    "tags": []
   },
   "outputs": [
    {
     "name": "stdout",
     "output_type": "stream",
     "text": [
      "['05M092' ,'05M092 ', 0.027 ],\n",
      "['05M093' ,'Décès ', 0.026 ],\n",
      "['05M094' ,'Décès ', 0.018 ],\n",
      "['05M092' ,'05M093 ', 0.016 ],\n",
      "['05M092' ,'Décès ', 0.016 ],\n",
      "['05M093' ,'05M092 ', 0.015 ],\n",
      "['05M091' ,'05M092 ', 0.014 ],\n",
      "['05M092' ,'05K101 ', 0.013 ],\n",
      "['05M092' ,'05M091 ', 0.013 ],\n",
      "['05M093' ,'05M093 ', 0.013 ],\n",
      "['05M09T' ,'05M092 ', 0.012 ],\n",
      "['05M09T' ,'Décès ', 0.012 ],\n",
      "['05M091' ,'05K101 ', 0.011 ],\n",
      "['05M093' ,'nan ', 0.009 ],\n",
      "['05M091' ,'05M091 ', 0.009 ],\n",
      "['05M092' ,'nan ', 0.009 ],\n",
      "['05M09T' ,'05M093 ', 0.008 ],\n",
      "['05M092' ,'05M09T ', 0.006 ],\n",
      "['05M093' ,'05K101 ', 0.006 ],\n",
      "['05M092' ,'05M08T ', 0.005 ],\n",
      "\n",
      "\n",
      "['Décès ' ,' nan ', 0.074 ],\n",
      "['nan ' ,' nan ', 0.023 ],\n",
      "['05M092 ' ,' 05M092 ', 0.011 ],\n",
      "['05M093 ' ,' Décès ', 0.008 ],\n",
      "['05M092 ' ,' 05M093 ', 0.006 ],\n",
      "['23Z02Z ' ,' Décès ', 0.005 ],\n",
      "['05M091 ' ,' 05M092 ', 0.004 ],\n",
      "['05M093 ' ,' 05M092 ', 0.004 ],\n",
      "['05M093 ' ,' 05M093 ', 0.004 ],\n",
      "['05M09T ' ,' 05M093 ', 0.004 ],\n",
      "['05M091 ' ,' 05M093 ', 0.003 ],\n",
      "['05M092 ' ,' 05M091 ', 0.003 ],\n",
      "['04M133 ' ,' Décès ', 0.003 ],\n",
      "['05M093 ' ,' 05M091 ', 0.003 ],\n",
      "['05K101 ' ,' 05C192 ', 0.002 ],\n",
      "['05K101 ' ,' 05M092 ', 0.002 ],\n",
      "['05M092 ' ,' 05M09T ', 0.002 ],\n",
      "['05M092 ' ,' Décès ', 0.002 ],\n",
      "['05M092 ' ,' nan ', 0.002 ],\n",
      "['05M09T ' ,' 05M092 ', 0.002 ],\n"
     ]
    }
   ],
   "source": [
    "generate3stepsSankey(4)"
   ]
  },
  {
   "cell_type": "code",
   "execution_count": null,
   "id": "9f269711-21e4-4360-b70a-6e35644ac9a4",
   "metadata": {},
   "outputs": [],
   "source": []
  }
 ],
 "metadata": {
  "kernelspec": {
   "display_name": "Python 3 (ipykernel)",
   "language": "python",
   "name": "python3"
  },
  "language_info": {
   "codemirror_mode": {
    "name": "ipython",
    "version": 3
   },
   "file_extension": ".py",
   "mimetype": "text/x-python",
   "name": "python",
   "nbconvert_exporter": "python",
   "pygments_lexer": "ipython3",
   "version": "3.10.9"
  }
 },
 "nbformat": 4,
 "nbformat_minor": 5
}
