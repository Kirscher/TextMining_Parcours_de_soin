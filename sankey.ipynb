{
 "cells": [
  {
   "cell_type": "markdown",
   "id": "f9a91d66-7385-4a55-be69-c1c499332b6c",
   "metadata": {},
   "source": [
    "# Flux de patients selon les GHM et diagrammes de Sankey"
   ]
  },
  {
   "cell_type": "code",
   "execution_count": 1,
   "id": "ecea607a-07f6-4e8d-bb3f-d5b9a4998783",
   "metadata": {
    "tags": []
   },
   "outputs": [
    {
     "name": "stdout",
     "output_type": "stream",
     "text": [
      "Requirement already satisfied: prefixspan in /opt/mamba/lib/python3.10/site-packages (0.5.2)\n",
      "Requirement already satisfied: docopt>=0.6.2 in /opt/mamba/lib/python3.10/site-packages (from prefixspan) (0.6.2)\n",
      "Requirement already satisfied: extratools>=0.8.1 in /opt/mamba/lib/python3.10/site-packages (from prefixspan) (0.8.2.1)\n",
      "Requirement already satisfied: sortedcontainers>=1.5.10 in /opt/mamba/lib/python3.10/site-packages (from extratools>=0.8.1->prefixspan) (2.4.0)\n",
      "Requirement already satisfied: toolz>=0.9.0 in /opt/mamba/lib/python3.10/site-packages (from extratools>=0.8.1->prefixspan) (0.12.0)\n"
     ]
    }
   ],
   "source": [
    "!pip install prefixspan"
   ]
  },
  {
   "cell_type": "code",
   "execution_count": 2,
   "id": "70c8716a-db20-4e50-a0f2-d87a48c33d4d",
   "metadata": {
    "tags": []
   },
   "outputs": [],
   "source": [
    "from prefixspan import PrefixSpan\n",
    "import pandas as pd\n",
    "import numpy as np\n",
    "from tqdm import tqdm"
   ]
  },
  {
   "cell_type": "markdown",
   "id": "e1a6e307-1b23-44fc-8222-cfb394708d4e",
   "metadata": {},
   "source": [
    "## Import des parcours de soins"
   ]
  },
  {
   "cell_type": "code",
   "execution_count": 3,
   "id": "1abeb0a2-6824-469a-abbf-acffe7808c23",
   "metadata": {
    "tags": []
   },
   "outputs": [],
   "source": [
    "p_soins_IC=pd.read_csv(\"./data/p_soins_IC.csv\", index_col=0)"
   ]
  },
  {
   "cell_type": "code",
   "execution_count": 4,
   "id": "fdab1a67-0319-41fb-848b-cd45efd483fb",
   "metadata": {
    "tags": []
   },
   "outputs": [],
   "source": [
    "p_soins_IC=p_soins_IC.rename(columns={\"0\": \"CODE_PATIENT\", \"1\": \"cluster\"})"
   ]
  },
  {
   "cell_type": "code",
   "execution_count": 5,
   "id": "791970e8-b886-4acb-8e66-13ddd460b70b",
   "metadata": {
    "tags": []
   },
   "outputs": [],
   "source": [
    "def truncateGHM(df):\n",
    "    for i in tqdm(range(2, df.shape[1])):\n",
    "        df[str(i)]=df[str(i)].map(lambda x: str(x)[:5])\n",
    "    df = df.replace('nan', np.nan)"
   ]
  },
  {
   "cell_type": "code",
   "execution_count": 6,
   "id": "1064731b-8198-4079-98ca-cb5bef1e70c1",
   "metadata": {
    "tags": []
   },
   "outputs": [
    {
     "name": "stderr",
     "output_type": "stream",
     "text": [
      "100%|██████████| 123/123 [00:00<00:00, 486.87it/s]\n"
     ]
    }
   ],
   "source": [
    "truncateGHM(p_soins_IC)\n",
    "p_soins_IC=p_soins_IC.replace('nan', np.nan)"
   ]
  },
  {
   "cell_type": "code",
   "execution_count": 7,
   "id": "60f4add6-958e-460e-ade0-4894da47fcc4",
   "metadata": {
    "tags": []
   },
   "outputs": [
    {
     "data": {
      "text/html": [
       "<div>\n",
       "<style scoped>\n",
       "    .dataframe tbody tr th:only-of-type {\n",
       "        vertical-align: middle;\n",
       "    }\n",
       "\n",
       "    .dataframe tbody tr th {\n",
       "        vertical-align: top;\n",
       "    }\n",
       "\n",
       "    .dataframe thead th {\n",
       "        text-align: right;\n",
       "    }\n",
       "</style>\n",
       "<table border=\"1\" class=\"dataframe\">\n",
       "  <thead>\n",
       "    <tr style=\"text-align: right;\">\n",
       "      <th></th>\n",
       "      <th>CODE_PATIENT</th>\n",
       "      <th>cluster</th>\n",
       "      <th>2</th>\n",
       "      <th>3</th>\n",
       "      <th>4</th>\n",
       "      <th>5</th>\n",
       "      <th>6</th>\n",
       "      <th>7</th>\n",
       "      <th>8</th>\n",
       "      <th>9</th>\n",
       "      <th>...</th>\n",
       "      <th>115</th>\n",
       "      <th>116</th>\n",
       "      <th>117</th>\n",
       "      <th>118</th>\n",
       "      <th>119</th>\n",
       "      <th>120</th>\n",
       "      <th>121</th>\n",
       "      <th>122</th>\n",
       "      <th>123</th>\n",
       "      <th>124</th>\n",
       "    </tr>\n",
       "  </thead>\n",
       "  <tbody>\n",
       "    <tr>\n",
       "      <th>0</th>\n",
       "      <td>P0</td>\n",
       "      <td>4</td>\n",
       "      <td>05M09</td>\n",
       "      <td>05M09</td>\n",
       "      <td>05C19</td>\n",
       "      <td>05M20</td>\n",
       "      <td>05M20</td>\n",
       "      <td>05C19</td>\n",
       "      <td>NaN</td>\n",
       "      <td>NaN</td>\n",
       "      <td>...</td>\n",
       "      <td>NaN</td>\n",
       "      <td>NaN</td>\n",
       "      <td>NaN</td>\n",
       "      <td>NaN</td>\n",
       "      <td>NaN</td>\n",
       "      <td>NaN</td>\n",
       "      <td>NaN</td>\n",
       "      <td>NaN</td>\n",
       "      <td>NaN</td>\n",
       "      <td>NaN</td>\n",
       "    </tr>\n",
       "    <tr>\n",
       "      <th>1</th>\n",
       "      <td>P6</td>\n",
       "      <td>4</td>\n",
       "      <td>05M09</td>\n",
       "      <td>04M13</td>\n",
       "      <td>05C22</td>\n",
       "      <td>23M10</td>\n",
       "      <td>04M05</td>\n",
       "      <td>04M24</td>\n",
       "      <td>Décès</td>\n",
       "      <td>NaN</td>\n",
       "      <td>...</td>\n",
       "      <td>NaN</td>\n",
       "      <td>NaN</td>\n",
       "      <td>NaN</td>\n",
       "      <td>NaN</td>\n",
       "      <td>NaN</td>\n",
       "      <td>NaN</td>\n",
       "      <td>NaN</td>\n",
       "      <td>NaN</td>\n",
       "      <td>NaN</td>\n",
       "      <td>NaN</td>\n",
       "    </tr>\n",
       "    <tr>\n",
       "      <th>2</th>\n",
       "      <td>P17</td>\n",
       "      <td>5</td>\n",
       "      <td>05M09</td>\n",
       "      <td>04M14</td>\n",
       "      <td>11M04</td>\n",
       "      <td>04M05</td>\n",
       "      <td>09M06</td>\n",
       "      <td>05K25</td>\n",
       "      <td>09M06</td>\n",
       "      <td>09M06</td>\n",
       "      <td>...</td>\n",
       "      <td>NaN</td>\n",
       "      <td>NaN</td>\n",
       "      <td>NaN</td>\n",
       "      <td>NaN</td>\n",
       "      <td>NaN</td>\n",
       "      <td>NaN</td>\n",
       "      <td>NaN</td>\n",
       "      <td>NaN</td>\n",
       "      <td>NaN</td>\n",
       "      <td>NaN</td>\n",
       "    </tr>\n",
       "    <tr>\n",
       "      <th>3</th>\n",
       "      <td>P24</td>\n",
       "      <td>1</td>\n",
       "      <td>05M09</td>\n",
       "      <td>05M17</td>\n",
       "      <td>05M13</td>\n",
       "      <td>05M13</td>\n",
       "      <td>05M13</td>\n",
       "      <td>05K06</td>\n",
       "      <td>05M13</td>\n",
       "      <td>05M13</td>\n",
       "      <td>...</td>\n",
       "      <td>NaN</td>\n",
       "      <td>NaN</td>\n",
       "      <td>NaN</td>\n",
       "      <td>NaN</td>\n",
       "      <td>NaN</td>\n",
       "      <td>NaN</td>\n",
       "      <td>NaN</td>\n",
       "      <td>NaN</td>\n",
       "      <td>NaN</td>\n",
       "      <td>NaN</td>\n",
       "    </tr>\n",
       "    <tr>\n",
       "      <th>4</th>\n",
       "      <td>P25</td>\n",
       "      <td>4</td>\n",
       "      <td>05M09</td>\n",
       "      <td>23K02</td>\n",
       "      <td>09C08</td>\n",
       "      <td>09C08</td>\n",
       "      <td>19M02</td>\n",
       "      <td>NaN</td>\n",
       "      <td>NaN</td>\n",
       "      <td>NaN</td>\n",
       "      <td>...</td>\n",
       "      <td>NaN</td>\n",
       "      <td>NaN</td>\n",
       "      <td>NaN</td>\n",
       "      <td>NaN</td>\n",
       "      <td>NaN</td>\n",
       "      <td>NaN</td>\n",
       "      <td>NaN</td>\n",
       "      <td>NaN</td>\n",
       "      <td>NaN</td>\n",
       "      <td>NaN</td>\n",
       "    </tr>\n",
       "  </tbody>\n",
       "</table>\n",
       "<p>5 rows × 125 columns</p>\n",
       "</div>"
      ],
      "text/plain": [
       "  CODE_PATIENT  cluster      2      3      4      5      6      7      8   \n",
       "0           P0        4  05M09  05M09  05C19  05M20  05M20  05C19    NaN  \\\n",
       "1           P6        4  05M09  04M13  05C22  23M10  04M05  04M24  Décès   \n",
       "2          P17        5  05M09  04M14  11M04  04M05  09M06  05K25  09M06   \n",
       "3          P24        1  05M09  05M17  05M13  05M13  05M13  05K06  05M13   \n",
       "4          P25        4  05M09  23K02  09C08  09C08  19M02    NaN    NaN   \n",
       "\n",
       "       9  ...  115  116  117  118  119  120  121  122  123  124  \n",
       "0    NaN  ...  NaN  NaN  NaN  NaN  NaN  NaN  NaN  NaN  NaN  NaN  \n",
       "1    NaN  ...  NaN  NaN  NaN  NaN  NaN  NaN  NaN  NaN  NaN  NaN  \n",
       "2  09M06  ...  NaN  NaN  NaN  NaN  NaN  NaN  NaN  NaN  NaN  NaN  \n",
       "3  05M13  ...  NaN  NaN  NaN  NaN  NaN  NaN  NaN  NaN  NaN  NaN  \n",
       "4    NaN  ...  NaN  NaN  NaN  NaN  NaN  NaN  NaN  NaN  NaN  NaN  \n",
       "\n",
       "[5 rows x 125 columns]"
      ]
     },
     "execution_count": 7,
     "metadata": {},
     "output_type": "execute_result"
    }
   ],
   "source": [
    "p_soins_IC.head()"
   ]
  },
  {
   "cell_type": "markdown",
   "id": "06d25b0f-6b09-4172-89a3-5f74330f5dad",
   "metadata": {},
   "source": [
    "## Flux de GHM pour l'ensemble de la population avec IC"
   ]
  },
  {
   "cell_type": "code",
   "execution_count": 8,
   "id": "0a169a9a-6816-48a1-aa58-e962107b9e86",
   "metadata": {
    "tags": []
   },
   "outputs": [
    {
     "data": {
      "text/html": [
       "<div>\n",
       "<style scoped>\n",
       "    .dataframe tbody tr th:only-of-type {\n",
       "        vertical-align: middle;\n",
       "    }\n",
       "\n",
       "    .dataframe tbody tr th {\n",
       "        vertical-align: top;\n",
       "    }\n",
       "\n",
       "    .dataframe thead th {\n",
       "        text-align: right;\n",
       "    }\n",
       "</style>\n",
       "<table border=\"1\" class=\"dataframe\">\n",
       "  <thead>\n",
       "    <tr style=\"text-align: right;\">\n",
       "      <th></th>\n",
       "      <th>2</th>\n",
       "      <th>3</th>\n",
       "    </tr>\n",
       "  </thead>\n",
       "  <tbody>\n",
       "    <tr>\n",
       "      <th>0</th>\n",
       "      <td>05M09</td>\n",
       "      <td>05M09</td>\n",
       "    </tr>\n",
       "    <tr>\n",
       "      <th>1</th>\n",
       "      <td>05M09</td>\n",
       "      <td>04M13</td>\n",
       "    </tr>\n",
       "    <tr>\n",
       "      <th>2</th>\n",
       "      <td>05M09</td>\n",
       "      <td>04M14</td>\n",
       "    </tr>\n",
       "    <tr>\n",
       "      <th>3</th>\n",
       "      <td>05M09</td>\n",
       "      <td>05M17</td>\n",
       "    </tr>\n",
       "    <tr>\n",
       "      <th>4</th>\n",
       "      <td>05M09</td>\n",
       "      <td>23K02</td>\n",
       "    </tr>\n",
       "  </tbody>\n",
       "</table>\n",
       "</div>"
      ],
      "text/plain": [
       "       2      3\n",
       "0  05M09  05M09\n",
       "1  05M09  04M13\n",
       "2  05M09  04M14\n",
       "3  05M09  05M17\n",
       "4  05M09  23K02"
      ]
     },
     "execution_count": 8,
     "metadata": {},
     "output_type": "execute_result"
    }
   ],
   "source": [
    "p_soins_IC_12=p_soins_IC.iloc[:,2:4]\n",
    "p_soins_IC_12.head()"
   ]
  },
  {
   "cell_type": "code",
   "execution_count": 9,
   "id": "c7182251-4567-43b5-9798-baddca8c12ec",
   "metadata": {
    "tags": []
   },
   "outputs": [],
   "source": [
    "corpus_IC=[]\n",
    "for patient in range(len(p_soins_IC_12)):\n",
    "    corpus_IC.append([p_soins_IC_12.iloc[patient][0], p_soins_IC_12.iloc[patient][1]])"
   ]
  },
  {
   "cell_type": "code",
   "execution_count": 10,
   "id": "6e808531-a425-44b3-9f98-bc2ffbee69a6",
   "metadata": {
    "tags": []
   },
   "outputs": [],
   "source": [
    "ps = PrefixSpan(corpus_IC)\n",
    "ps.minlen=2\n",
    "output=ps.topk(k=10)"
   ]
  },
  {
   "cell_type": "code",
   "execution_count": 11,
   "id": "d750370a-dc85-4beb-b7c0-37e3b883e68b",
   "metadata": {
    "tags": []
   },
   "outputs": [
    {
     "name": "stdout",
     "output_type": "stream",
     "text": [
      "['05M09' ,'05M09 ', 0.164 ],\n",
      "['05M09' ,'Décès ', 0.16 ],\n",
      "['05M09' ,'05K10 ', 0.042 ],\n",
      "['05M09' ,'nan ', 0.032 ],\n",
      "['05M09' ,'05M08 ', 0.024 ],\n",
      "['05M09' ,'04M05 ', 0.022 ],\n",
      "['05M09' ,'23M20 ', 0.018 ],\n",
      "['05M09' ,'04M13 ', 0.016 ],\n",
      "['05M09' ,'02C05 ', 0.016 ],\n",
      "['05M09' ,'16M11 ', 0.014 ],\n"
     ]
    }
   ],
   "source": [
    "for i in output:\n",
    "    ghm1=str(i[1][0])\n",
    "    ghm2=str(i[1][1])\n",
    "    print(\"['\"+ghm1+'\\'',\",\\'\"+ghm2+\" ',\",round(i[0]/len(corpus_IC),3),\"],\")"
   ]
  },
  {
   "cell_type": "code",
   "execution_count": 12,
   "id": "080bee11-3396-46a1-9180-c983e14694d2",
   "metadata": {
    "tags": []
   },
   "outputs": [
    {
     "data": {
      "text/html": [
       "<div>\n",
       "<style scoped>\n",
       "    .dataframe tbody tr th:only-of-type {\n",
       "        vertical-align: middle;\n",
       "    }\n",
       "\n",
       "    .dataframe tbody tr th {\n",
       "        vertical-align: top;\n",
       "    }\n",
       "\n",
       "    .dataframe thead th {\n",
       "        text-align: right;\n",
       "    }\n",
       "</style>\n",
       "<table border=\"1\" class=\"dataframe\">\n",
       "  <thead>\n",
       "    <tr style=\"text-align: right;\">\n",
       "      <th></th>\n",
       "      <th>3</th>\n",
       "      <th>4</th>\n",
       "    </tr>\n",
       "  </thead>\n",
       "  <tbody>\n",
       "    <tr>\n",
       "      <th>0</th>\n",
       "      <td>05M09</td>\n",
       "      <td>05C19</td>\n",
       "    </tr>\n",
       "    <tr>\n",
       "      <th>1</th>\n",
       "      <td>04M13</td>\n",
       "      <td>05C22</td>\n",
       "    </tr>\n",
       "    <tr>\n",
       "      <th>2</th>\n",
       "      <td>04M14</td>\n",
       "      <td>11M04</td>\n",
       "    </tr>\n",
       "    <tr>\n",
       "      <th>3</th>\n",
       "      <td>05M17</td>\n",
       "      <td>05M13</td>\n",
       "    </tr>\n",
       "    <tr>\n",
       "      <th>4</th>\n",
       "      <td>23K02</td>\n",
       "      <td>09C08</td>\n",
       "    </tr>\n",
       "  </tbody>\n",
       "</table>\n",
       "</div>"
      ],
      "text/plain": [
       "       3      4\n",
       "0  05M09  05C19\n",
       "1  04M13  05C22\n",
       "2  04M14  11M04\n",
       "3  05M17  05M13\n",
       "4  23K02  09C08"
      ]
     },
     "execution_count": 12,
     "metadata": {},
     "output_type": "execute_result"
    }
   ],
   "source": [
    "p_soins_IC_23=p_soins_IC.iloc[:,3:5]\n",
    "p_soins_IC_23.head()"
   ]
  },
  {
   "cell_type": "code",
   "execution_count": 13,
   "id": "91a09782-a3c9-41ba-8644-7b4be140f711",
   "metadata": {
    "tags": []
   },
   "outputs": [
    {
     "data": {
      "text/html": [
       "<div>\n",
       "<style scoped>\n",
       "    .dataframe tbody tr th:only-of-type {\n",
       "        vertical-align: middle;\n",
       "    }\n",
       "\n",
       "    .dataframe tbody tr th {\n",
       "        vertical-align: top;\n",
       "    }\n",
       "\n",
       "    .dataframe thead th {\n",
       "        text-align: right;\n",
       "    }\n",
       "</style>\n",
       "<table border=\"1\" class=\"dataframe\">\n",
       "  <thead>\n",
       "    <tr style=\"text-align: right;\">\n",
       "      <th></th>\n",
       "      <th>3</th>\n",
       "      <th>4</th>\n",
       "    </tr>\n",
       "  </thead>\n",
       "  <tbody>\n",
       "    <tr>\n",
       "      <th>0</th>\n",
       "      <td>05M09</td>\n",
       "      <td>05C19</td>\n",
       "    </tr>\n",
       "    <tr>\n",
       "      <th>1</th>\n",
       "      <td>04M13</td>\n",
       "      <td>05C22</td>\n",
       "    </tr>\n",
       "    <tr>\n",
       "      <th>2</th>\n",
       "      <td>04M14</td>\n",
       "      <td>11M04</td>\n",
       "    </tr>\n",
       "    <tr>\n",
       "      <th>3</th>\n",
       "      <td>05M17</td>\n",
       "      <td>05M13</td>\n",
       "    </tr>\n",
       "    <tr>\n",
       "      <th>4</th>\n",
       "      <td>23K02</td>\n",
       "      <td>09C08</td>\n",
       "    </tr>\n",
       "    <tr>\n",
       "      <th>...</th>\n",
       "      <td>...</td>\n",
       "      <td>...</td>\n",
       "    </tr>\n",
       "    <tr>\n",
       "      <th>4632</th>\n",
       "      <td>23M20</td>\n",
       "      <td>04M22</td>\n",
       "    </tr>\n",
       "    <tr>\n",
       "      <th>4633</th>\n",
       "      <td>23K02</td>\n",
       "      <td>05M06</td>\n",
       "    </tr>\n",
       "    <tr>\n",
       "      <th>4634</th>\n",
       "      <td>10M18</td>\n",
       "      <td>04M13</td>\n",
       "    </tr>\n",
       "    <tr>\n",
       "      <th>4635</th>\n",
       "      <td>05M09</td>\n",
       "      <td>05K05</td>\n",
       "    </tr>\n",
       "    <tr>\n",
       "      <th>4636</th>\n",
       "      <td>04M17</td>\n",
       "      <td>04M17</td>\n",
       "    </tr>\n",
       "  </tbody>\n",
       "</table>\n",
       "<p>4637 rows × 2 columns</p>\n",
       "</div>"
      ],
      "text/plain": [
       "          3      4\n",
       "0     05M09  05C19\n",
       "1     04M13  05C22\n",
       "2     04M14  11M04\n",
       "3     05M17  05M13\n",
       "4     23K02  09C08\n",
       "...     ...    ...\n",
       "4632  23M20  04M22\n",
       "4633  23K02  05M06\n",
       "4634  10M18  04M13\n",
       "4635  05M09  05K05\n",
       "4636  04M17  04M17\n",
       "\n",
       "[4637 rows x 2 columns]"
      ]
     },
     "execution_count": 13,
     "metadata": {},
     "output_type": "execute_result"
    }
   ],
   "source": [
    "p_soins_IC_23"
   ]
  },
  {
   "cell_type": "code",
   "execution_count": 14,
   "id": "b7061735-458b-478f-a48a-059de23fd5ca",
   "metadata": {
    "tags": []
   },
   "outputs": [],
   "source": [
    "corpus_IC_2=[]\n",
    "for patient in range(len(p_soins_IC_23)):\n",
    "    if str(p_soins_IC_23.iloc[patient][1])!='nan':\n",
    "        corpus_IC_2.append([p_soins_IC_23.iloc[patient][0], p_soins_IC_23.iloc[patient][1]])\n",
    "    else:\n",
    "        corpus_IC_2.append([p_soins_IC_23.iloc[patient][0], 'nan'])"
   ]
  },
  {
   "cell_type": "code",
   "execution_count": 15,
   "id": "8da7f769-6817-439f-a445-6de7db7fabfc",
   "metadata": {
    "tags": []
   },
   "outputs": [],
   "source": [
    "ps = PrefixSpan(corpus_IC_2)\n",
    "ps.minlen=2\n",
    "output=ps.topk(k=10)"
   ]
  },
  {
   "cell_type": "code",
   "execution_count": 16,
   "id": "532c3ee0-ca45-4cb3-903c-a23fc15ab313",
   "metadata": {
    "tags": []
   },
   "outputs": [
    {
     "name": "stdout",
     "output_type": "stream",
     "text": [
      "['Décès ' ,' nan ', 0.16 ],\n",
      "['05M09 ' ,' 05M09 ', 0.045 ],\n",
      "['nan ' ,' nan ', 0.032 ],\n",
      "['05M09 ' ,' Décès ', 0.027 ],\n",
      "['05M09 ' ,' nan ', 0.006 ],\n",
      "['05K10 ' ,' 05M09 ', 0.006 ],\n",
      "['23Z02 ' ,' Décès ', 0.006 ],\n",
      "['02C05 ' ,' nan ', 0.004 ],\n",
      "['04M05 ' ,' Décès ', 0.004 ],\n",
      "['05M09 ' ,' 05K10 ', 0.004 ],\n"
     ]
    }
   ],
   "source": [
    "for i in output:\n",
    "    ghm1=str(i[1][0])\n",
    "    ghm2=str(i[1][1])\n",
    "    print(\"['\"+ghm1+' \\'',\",\\' \"+ghm2+\" ',\",round(i[0]/len(corpus_IC),3),\"],\")"
   ]
  },
  {
   "cell_type": "markdown",
   "id": "e4210d09-8035-49bc-8976-fcfb85c105d8",
   "metadata": {},
   "source": [
    "## Flux de patients par clusters"
   ]
  },
  {
   "cell_type": "code",
   "execution_count": 35,
   "id": "51576d98-3866-4418-bd40-d179aab536e6",
   "metadata": {
    "tags": []
   },
   "outputs": [],
   "source": [
    "def generate3stepsSankey(cluster_n, GHM_len=5):\n",
    "    p_soins_IC_12_cluster_n=p_soins_IC[p_soins_IC[\"cluster\"]==cluster_n].astype(str).iloc[:,2:4]\n",
    "    p_soins_IC_23_cluster_n=p_soins_IC[p_soins_IC[\"cluster\"]==cluster_n].astype(str).iloc[:,3:5]\n",
    "\n",
    "    corpus_IC=[]\n",
    "    for patient in range(len(p_soins_IC_12_cluster_n)):\n",
    "        corpus_IC.append([p_soins_IC_12_cluster_n.iloc[patient][0], p_soins_IC_12_cluster_n.iloc[patient][1]])\n",
    "\n",
    "    ps = PrefixSpan(corpus_IC)\n",
    "    ps.minlen=2\n",
    "    output=ps.topk(k=20)\n",
    "\n",
    "    for i in output:\n",
    "        ghm1=str(i[1][0])\n",
    "        ghm2=str(i[1][1])\n",
    "        print(\"['\"+ghm1+'\\'',\",\\'\"+ghm2+\" ',\",round(i[0],3),\"],\")\n",
    "\n",
    "    print(\"\\n\")\n",
    "\n",
    "    corpus_IC_2=[]\n",
    "    for patient in range(len(p_soins_IC_23_cluster_n)):\n",
    "        if str(p_soins_IC_23_cluster_n.iloc[patient][1])!='nan':\n",
    "            corpus_IC_2.append([p_soins_IC_23_cluster_n.iloc[patient][0], p_soins_IC_23_cluster_n.iloc[patient][1]])\n",
    "        else:\n",
    "            corpus_IC_2.append([p_soins_IC_23_cluster_n.iloc[patient][0], 'nan'])\n",
    "\n",
    "    ps = PrefixSpan(corpus_IC_2)\n",
    "    ps.minlen=2\n",
    "    output=ps.topk(k=20)\n",
    "\n",
    "    for i in output:\n",
    "        ghm1=str(i[1][0])\n",
    "        ghm2=str(i[1][1])\n",
    "        print(\"['\"+ghm1+' \\'',\",\\' \"+ghm2+\" ',\",round(i[0],3),\"],\")"
   ]
  },
  {
   "cell_type": "code",
   "execution_count": 36,
   "id": "9c275703-98e8-4e13-be7c-f96153a0f085",
   "metadata": {
    "tags": []
   },
   "outputs": [
    {
     "name": "stdout",
     "output_type": "stream",
     "text": [
      "['05M09' ,'05M09 ', 161 ],\n",
      "['05M09' ,'05K10 ', 37 ],\n",
      "['05M09' ,'Décès ', 33 ],\n",
      "['05M09' ,'04M05 ', 26 ],\n",
      "['05M09' ,'05M08 ', 25 ],\n",
      "['05M09' ,'11M06 ', 15 ],\n",
      "['05M09' ,'04M13 ', 14 ],\n",
      "['05M09' ,'16M11 ', 14 ],\n",
      "['05M09' ,'23M20 ', 14 ],\n",
      "['05M09' ,'04M03 ', 11 ],\n",
      "['05M09' ,'02C05 ', 10 ],\n",
      "['05M09' ,'05M17 ', 10 ],\n",
      "['05M09' ,'04M20 ', 9 ],\n",
      "['05M09' ,'05M06 ', 9 ],\n",
      "['05M09' ,'11K02 ', 8 ],\n",
      "['05M09' ,'04M11 ', 7 ],\n",
      "['05M09' ,'05C14 ', 7 ],\n",
      "['05M09' ,'06M12 ', 7 ],\n",
      "['05M09' ,'19M06 ', 7 ],\n",
      "['05M09' ,'nan ', 7 ],\n",
      "\n",
      "\n",
      "['05M09 ' ,' 05M09 ', 52 ],\n",
      "['Décès ' ,' nan ', 33 ],\n",
      "['04M05 ' ,' 05M09 ', 8 ],\n",
      "['05M09 ' ,' Décès ', 7 ],\n",
      "['nan ' ,' nan ', 7 ],\n",
      "['05M09 ' ,' 05K10 ', 6 ],\n",
      "['05M08 ' ,' 05M09 ', 5 ],\n",
      "['05M09 ' ,' 05K06 ', 5 ],\n",
      "['05M09 ' ,' 11M04 ', 5 ],\n",
      "['01M20 ' ,' 05M09 ', 4 ],\n",
      "['04M03 ' ,' 05M09 ', 4 ],\n",
      "['05K10 ' ,' 05K10 ', 4 ],\n",
      "['05K10 ' ,' 05M09 ', 4 ],\n",
      "['05K10 ' ,' 23M10 ', 4 ],\n",
      "['05M09 ' ,' 04M13 ', 4 ],\n",
      "['09C03 ' ,' 05M09 ', 4 ],\n",
      "['11M06 ' ,' 05M09 ', 4 ],\n",
      "['05M09 ' ,' 05M15 ', 3 ],\n",
      "['05M09 ' ,' 06M12 ', 3 ],\n",
      "['16M11 ' ,' 06M09 ', 3 ],\n"
     ]
    }
   ],
   "source": [
    "generate3stepsSankey(1)"
   ]
  },
  {
   "cell_type": "code",
   "execution_count": null,
   "id": "9f269711-21e4-4360-b70a-6e35644ac9a4",
   "metadata": {},
   "outputs": [],
   "source": []
  }
 ],
 "metadata": {
  "kernelspec": {
   "display_name": "Python 3 (ipykernel)",
   "language": "python",
   "name": "python3"
  },
  "language_info": {
   "codemirror_mode": {
    "name": "ipython",
    "version": 3
   },
   "file_extension": ".py",
   "mimetype": "text/x-python",
   "name": "python",
   "nbconvert_exporter": "python",
   "pygments_lexer": "ipython3",
   "version": "3.10.9"
  }
 },
 "nbformat": 4,
 "nbformat_minor": 5
}
