{
 "cells": [
  {
   "cell_type": "markdown",
   "id": "9b7c2376-a3a3-4ccd-99ad-0f3aa0c8bec3",
   "metadata": {
    "tags": []
   },
   "source": [
    "# Base séquentielle des parcours de soins patients\n",
    "\n",
    "Ce notebook a pour objectif de déterminer les flux de patients, c'est-à-dire visualiser les proportions de GHM et DP selon les hospitalisations successives."
   ]
  },
  {
   "cell_type": "code",
   "execution_count": 115,
   "id": "51f4a44f-a0d9-4666-b88c-cc391624e495",
   "metadata": {
    "tags": []
   },
   "outputs": [],
   "source": [
    "#Import des librairies\n",
    "\n",
    "import pandas as pd\n",
    "import matplotlib.pyplot as plt\n",
    "from tqdm import tqdm\n",
    "import plotly.express as px"
   ]
  },
  {
   "cell_type": "code",
   "execution_count": 116,
   "id": "66608cad-5b0c-4420-89cf-1708e1693d11",
   "metadata": {
    "tags": []
   },
   "outputs": [],
   "source": [
    "%%capture capt\n",
    "p_soins=pd.read_csv(\"./data/parcours_soins.csv\")"
   ]
  },
  {
   "cell_type": "code",
   "execution_count": 117,
   "id": "12bef3e0-297c-4b6f-b6db-7b84688023cd",
   "metadata": {
    "tags": []
   },
   "outputs": [
    {
     "data": {
      "text/html": [
       "<div>\n",
       "<style scoped>\n",
       "    .dataframe tbody tr th:only-of-type {\n",
       "        vertical-align: middle;\n",
       "    }\n",
       "\n",
       "    .dataframe tbody tr th {\n",
       "        vertical-align: top;\n",
       "    }\n",
       "\n",
       "    .dataframe thead th {\n",
       "        text-align: right;\n",
       "    }\n",
       "</style>\n",
       "<table border=\"1\" class=\"dataframe\">\n",
       "  <thead>\n",
       "    <tr style=\"text-align: right;\">\n",
       "      <th></th>\n",
       "      <th>BEN_NIR_IDT</th>\n",
       "      <th>2008-01-15</th>\n",
       "      <th>2008-02-15</th>\n",
       "      <th>2008-03-15</th>\n",
       "      <th>2008-04-15</th>\n",
       "      <th>2008-05-15</th>\n",
       "      <th>2008-06-15</th>\n",
       "      <th>2008-07-15</th>\n",
       "      <th>2008-08-15</th>\n",
       "      <th>2008-09-15</th>\n",
       "      <th>...</th>\n",
       "      <th>2018-12-19</th>\n",
       "      <th>2018-12-20</th>\n",
       "      <th>2018-12-21</th>\n",
       "      <th>2018-12-22</th>\n",
       "      <th>2018-12-24</th>\n",
       "      <th>2018-12-25</th>\n",
       "      <th>2018-12-26</th>\n",
       "      <th>2018-12-27</th>\n",
       "      <th>2018-12-28</th>\n",
       "      <th>2018-12-29</th>\n",
       "    </tr>\n",
       "  </thead>\n",
       "  <tbody>\n",
       "    <tr>\n",
       "      <th>0</th>\n",
       "      <td>P0</td>\n",
       "      <td>NaN</td>\n",
       "      <td>NaN</td>\n",
       "      <td>NaN</td>\n",
       "      <td>NaN</td>\n",
       "      <td>NaN</td>\n",
       "      <td>NaN</td>\n",
       "      <td>NaN</td>\n",
       "      <td>NaN</td>\n",
       "      <td>NaN</td>\n",
       "      <td>...</td>\n",
       "      <td>NaN</td>\n",
       "      <td>NaN</td>\n",
       "      <td>NaN</td>\n",
       "      <td>NaN</td>\n",
       "      <td>NaN</td>\n",
       "      <td>NaN</td>\n",
       "      <td>NaN</td>\n",
       "      <td>NaN</td>\n",
       "      <td>NaN</td>\n",
       "      <td>NaN</td>\n",
       "    </tr>\n",
       "    <tr>\n",
       "      <th>1</th>\n",
       "      <td>P6</td>\n",
       "      <td>NaN</td>\n",
       "      <td>NaN</td>\n",
       "      <td>NaN</td>\n",
       "      <td>NaN</td>\n",
       "      <td>NaN</td>\n",
       "      <td>NaN</td>\n",
       "      <td>NaN</td>\n",
       "      <td>NaN</td>\n",
       "      <td>NaN</td>\n",
       "      <td>...</td>\n",
       "      <td>NaN</td>\n",
       "      <td>NaN</td>\n",
       "      <td>NaN</td>\n",
       "      <td>NaN</td>\n",
       "      <td>NaN</td>\n",
       "      <td>NaN</td>\n",
       "      <td>NaN</td>\n",
       "      <td>NaN</td>\n",
       "      <td>NaN</td>\n",
       "      <td>NaN</td>\n",
       "    </tr>\n",
       "    <tr>\n",
       "      <th>2</th>\n",
       "      <td>P8</td>\n",
       "      <td>NaN</td>\n",
       "      <td>NaN</td>\n",
       "      <td>NaN</td>\n",
       "      <td>NaN</td>\n",
       "      <td>NaN</td>\n",
       "      <td>NaN</td>\n",
       "      <td>NaN</td>\n",
       "      <td>NaN</td>\n",
       "      <td>NaN</td>\n",
       "      <td>...</td>\n",
       "      <td>NaN</td>\n",
       "      <td>NaN</td>\n",
       "      <td>NaN</td>\n",
       "      <td>NaN</td>\n",
       "      <td>NaN</td>\n",
       "      <td>NaN</td>\n",
       "      <td>NaN</td>\n",
       "      <td>NaN</td>\n",
       "      <td>NaN</td>\n",
       "      <td>NaN</td>\n",
       "    </tr>\n",
       "    <tr>\n",
       "      <th>3</th>\n",
       "      <td>P13</td>\n",
       "      <td>NaN</td>\n",
       "      <td>NaN</td>\n",
       "      <td>NaN</td>\n",
       "      <td>NaN</td>\n",
       "      <td>NaN</td>\n",
       "      <td>NaN</td>\n",
       "      <td>NaN</td>\n",
       "      <td>NaN</td>\n",
       "      <td>NaN</td>\n",
       "      <td>...</td>\n",
       "      <td>NaN</td>\n",
       "      <td>NaN</td>\n",
       "      <td>NaN</td>\n",
       "      <td>NaN</td>\n",
       "      <td>NaN</td>\n",
       "      <td>NaN</td>\n",
       "      <td>NaN</td>\n",
       "      <td>NaN</td>\n",
       "      <td>NaN</td>\n",
       "      <td>NaN</td>\n",
       "    </tr>\n",
       "    <tr>\n",
       "      <th>4</th>\n",
       "      <td>P16</td>\n",
       "      <td>NaN</td>\n",
       "      <td>NaN</td>\n",
       "      <td>NaN</td>\n",
       "      <td>NaN</td>\n",
       "      <td>NaN</td>\n",
       "      <td>NaN</td>\n",
       "      <td>NaN</td>\n",
       "      <td>NaN</td>\n",
       "      <td>NaN</td>\n",
       "      <td>...</td>\n",
       "      <td>NaN</td>\n",
       "      <td>NaN</td>\n",
       "      <td>NaN</td>\n",
       "      <td>NaN</td>\n",
       "      <td>NaN</td>\n",
       "      <td>NaN</td>\n",
       "      <td>NaN</td>\n",
       "      <td>NaN</td>\n",
       "      <td>NaN</td>\n",
       "      <td>NaN</td>\n",
       "    </tr>\n",
       "  </tbody>\n",
       "</table>\n",
       "<p>5 rows × 3676 columns</p>\n",
       "</div>"
      ],
      "text/plain": [
       "  BEN_NIR_IDT 2008-01-15 2008-02-15 2008-03-15 2008-04-15 2008-05-15  \\\n",
       "0          P0        NaN        NaN        NaN        NaN        NaN   \n",
       "1          P6        NaN        NaN        NaN        NaN        NaN   \n",
       "2          P8        NaN        NaN        NaN        NaN        NaN   \n",
       "3         P13        NaN        NaN        NaN        NaN        NaN   \n",
       "4         P16        NaN        NaN        NaN        NaN        NaN   \n",
       "\n",
       "  2008-06-15 2008-07-15 2008-08-15 2008-09-15  ... 2018-12-19 2018-12-20  \\\n",
       "0        NaN        NaN        NaN        NaN  ...        NaN        NaN   \n",
       "1        NaN        NaN        NaN        NaN  ...        NaN        NaN   \n",
       "2        NaN        NaN        NaN        NaN  ...        NaN        NaN   \n",
       "3        NaN        NaN        NaN        NaN  ...        NaN        NaN   \n",
       "4        NaN        NaN        NaN        NaN  ...        NaN        NaN   \n",
       "\n",
       "  2018-12-21 2018-12-22 2018-12-24 2018-12-25 2018-12-26 2018-12-27  \\\n",
       "0        NaN        NaN        NaN        NaN        NaN        NaN   \n",
       "1        NaN        NaN        NaN        NaN        NaN        NaN   \n",
       "2        NaN        NaN        NaN        NaN        NaN        NaN   \n",
       "3        NaN        NaN        NaN        NaN        NaN        NaN   \n",
       "4        NaN        NaN        NaN        NaN        NaN        NaN   \n",
       "\n",
       "  2018-12-28 2018-12-29  \n",
       "0        NaN        NaN  \n",
       "1        NaN        NaN  \n",
       "2        NaN        NaN  \n",
       "3        NaN        NaN  \n",
       "4        NaN        NaN  \n",
       "\n",
       "[5 rows x 3676 columns]"
      ]
     },
     "execution_count": 117,
     "metadata": {},
     "output_type": "execute_result"
    }
   ],
   "source": [
    "p_soins.head()"
   ]
  },
  {
   "cell_type": "markdown",
   "id": "b888814a-aeef-4bdf-962a-4aebb3c3fc47",
   "metadata": {},
   "source": [
    "## Création de la base séquentielle d'hospitalisations\n",
    "\n",
    "### Pour l'ensemble de la population"
   ]
  },
  {
   "cell_type": "code",
   "execution_count": 118,
   "id": "f6596406-6648-4c5f-a595-daca45cfa636",
   "metadata": {
    "tags": []
   },
   "outputs": [
    {
     "name": "stderr",
     "output_type": "stream",
     "text": [
      "100%|███████████████████████████████████████████████████████████████████████████| 10051/10051 [00:16<00:00, 598.36it/s]\n"
     ]
    }
   ],
   "source": [
    "p_soins_list=[]\n",
    "for patient in tqdm(range(len(p_soins))):\n",
    "    p_soins_list.append(p_soins.iloc[patient].dropna().tolist()[0:-1])"
   ]
  },
  {
   "cell_type": "markdown",
   "id": "c8db5f91-3fa4-4a52-9d78-eac3041d87c2",
   "metadata": {},
   "source": [
    "Dans la base séquentielle ci-dessous, les différentes colonnes correspondent aux hospitalisations successives. Ainsi, on trouve dans la 1ère colonne le GHM de la 1ère hospitalisation, pour chacun des patients suivis."
   ]
  },
  {
   "cell_type": "code",
   "execution_count": 119,
   "id": "29602190-98f0-4e61-928b-9e0acaa54114",
   "metadata": {
    "tags": []
   },
   "outputs": [
    {
     "data": {
      "text/html": [
       "<div>\n",
       "<style scoped>\n",
       "    .dataframe tbody tr th:only-of-type {\n",
       "        vertical-align: middle;\n",
       "    }\n",
       "\n",
       "    .dataframe tbody tr th {\n",
       "        vertical-align: top;\n",
       "    }\n",
       "\n",
       "    .dataframe thead th {\n",
       "        text-align: right;\n",
       "    }\n",
       "</style>\n",
       "<table border=\"1\" class=\"dataframe\">\n",
       "  <thead>\n",
       "    <tr style=\"text-align: right;\">\n",
       "      <th></th>\n",
       "      <th>0</th>\n",
       "      <th>1</th>\n",
       "      <th>2</th>\n",
       "      <th>3</th>\n",
       "      <th>4</th>\n",
       "      <th>5</th>\n",
       "      <th>6</th>\n",
       "      <th>7</th>\n",
       "      <th>8</th>\n",
       "      <th>9</th>\n",
       "      <th>...</th>\n",
       "      <th>244</th>\n",
       "      <th>245</th>\n",
       "      <th>246</th>\n",
       "      <th>247</th>\n",
       "      <th>248</th>\n",
       "      <th>249</th>\n",
       "      <th>250</th>\n",
       "      <th>251</th>\n",
       "      <th>252</th>\n",
       "      <th>253</th>\n",
       "    </tr>\n",
       "  </thead>\n",
       "  <tbody>\n",
       "    <tr>\n",
       "      <th>0</th>\n",
       "      <td>P0</td>\n",
       "      <td>05K051</td>\n",
       "      <td>05M042</td>\n",
       "      <td>05M16T</td>\n",
       "      <td>05M09T</td>\n",
       "      <td>05M092</td>\n",
       "      <td>05C191</td>\n",
       "      <td>05M20Z</td>\n",
       "      <td>05M20Z</td>\n",
       "      <td>None</td>\n",
       "      <td>...</td>\n",
       "      <td>None</td>\n",
       "      <td>None</td>\n",
       "      <td>None</td>\n",
       "      <td>None</td>\n",
       "      <td>None</td>\n",
       "      <td>None</td>\n",
       "      <td>None</td>\n",
       "      <td>None</td>\n",
       "      <td>None</td>\n",
       "      <td>None</td>\n",
       "    </tr>\n",
       "    <tr>\n",
       "      <th>1</th>\n",
       "      <td>P6</td>\n",
       "      <td>02C05J</td>\n",
       "      <td>02C05J</td>\n",
       "      <td>05M093</td>\n",
       "      <td>04M132</td>\n",
       "      <td>05C222</td>\n",
       "      <td>23M103</td>\n",
       "      <td>04M053</td>\n",
       "      <td>None</td>\n",
       "      <td>None</td>\n",
       "      <td>...</td>\n",
       "      <td>None</td>\n",
       "      <td>None</td>\n",
       "      <td>None</td>\n",
       "      <td>None</td>\n",
       "      <td>None</td>\n",
       "      <td>None</td>\n",
       "      <td>None</td>\n",
       "      <td>None</td>\n",
       "      <td>None</td>\n",
       "      <td>None</td>\n",
       "    </tr>\n",
       "    <tr>\n",
       "      <th>2</th>\n",
       "      <td>P8</td>\n",
       "      <td>11M041</td>\n",
       "      <td>None</td>\n",
       "      <td>None</td>\n",
       "      <td>None</td>\n",
       "      <td>None</td>\n",
       "      <td>None</td>\n",
       "      <td>None</td>\n",
       "      <td>None</td>\n",
       "      <td>None</td>\n",
       "      <td>...</td>\n",
       "      <td>None</td>\n",
       "      <td>None</td>\n",
       "      <td>None</td>\n",
       "      <td>None</td>\n",
       "      <td>None</td>\n",
       "      <td>None</td>\n",
       "      <td>None</td>\n",
       "      <td>None</td>\n",
       "      <td>None</td>\n",
       "      <td>None</td>\n",
       "    </tr>\n",
       "    <tr>\n",
       "      <th>3</th>\n",
       "      <td>P13</td>\n",
       "      <td>05M04T</td>\n",
       "      <td>None</td>\n",
       "      <td>None</td>\n",
       "      <td>None</td>\n",
       "      <td>None</td>\n",
       "      <td>None</td>\n",
       "      <td>None</td>\n",
       "      <td>None</td>\n",
       "      <td>None</td>\n",
       "      <td>...</td>\n",
       "      <td>None</td>\n",
       "      <td>None</td>\n",
       "      <td>None</td>\n",
       "      <td>None</td>\n",
       "      <td>None</td>\n",
       "      <td>None</td>\n",
       "      <td>None</td>\n",
       "      <td>None</td>\n",
       "      <td>None</td>\n",
       "      <td>None</td>\n",
       "    </tr>\n",
       "    <tr>\n",
       "      <th>4</th>\n",
       "      <td>P16</td>\n",
       "      <td>08C11V</td>\n",
       "      <td>23M15Z</td>\n",
       "      <td>05K102</td>\n",
       "      <td>05M08T</td>\n",
       "      <td>05K102</td>\n",
       "      <td>05C191</td>\n",
       "      <td>23M101</td>\n",
       "      <td>05K191</td>\n",
       "      <td>None</td>\n",
       "      <td>...</td>\n",
       "      <td>None</td>\n",
       "      <td>None</td>\n",
       "      <td>None</td>\n",
       "      <td>None</td>\n",
       "      <td>None</td>\n",
       "      <td>None</td>\n",
       "      <td>None</td>\n",
       "      <td>None</td>\n",
       "      <td>None</td>\n",
       "      <td>None</td>\n",
       "    </tr>\n",
       "  </tbody>\n",
       "</table>\n",
       "<p>5 rows × 254 columns</p>\n",
       "</div>"
      ],
      "text/plain": [
       "   0       1       2       3       4       5       6       7       8     9    \\\n",
       "0   P0  05K051  05M042  05M16T  05M09T  05M092  05C191  05M20Z  05M20Z  None   \n",
       "1   P6  02C05J  02C05J  05M093  04M132  05C222  23M103  04M053    None  None   \n",
       "2   P8  11M041    None    None    None    None    None    None    None  None   \n",
       "3  P13  05M04T    None    None    None    None    None    None    None  None   \n",
       "4  P16  08C11V  23M15Z  05K102  05M08T  05K102  05C191  23M101  05K191  None   \n",
       "\n",
       "   ...   244   245   246   247   248   249   250   251   252   253  \n",
       "0  ...  None  None  None  None  None  None  None  None  None  None  \n",
       "1  ...  None  None  None  None  None  None  None  None  None  None  \n",
       "2  ...  None  None  None  None  None  None  None  None  None  None  \n",
       "3  ...  None  None  None  None  None  None  None  None  None  None  \n",
       "4  ...  None  None  None  None  None  None  None  None  None  None  \n",
       "\n",
       "[5 rows x 254 columns]"
      ]
     },
     "execution_count": 119,
     "metadata": {},
     "output_type": "execute_result"
    }
   ],
   "source": [
    "p_soins_df=pd.DataFrame(p_soins_list)\n",
    "p_soins_df.head()"
   ]
  },
  {
   "cell_type": "markdown",
   "id": "ca5fcb85-6cac-424a-baff-c6f6e1640187",
   "metadata": {
    "tags": []
   },
   "source": [
    "### CdF du nombre d'hospitalisations"
   ]
  },
  {
   "cell_type": "code",
   "execution_count": 120,
   "id": "63bd3dc3-07d0-40ea-8847-2c0ccb4d86b4",
   "metadata": {
    "tags": []
   },
   "outputs": [
    {
     "data": {
      "text/html": [
       "<div>\n",
       "<style scoped>\n",
       "    .dataframe tbody tr th:only-of-type {\n",
       "        vertical-align: middle;\n",
       "    }\n",
       "\n",
       "    .dataframe tbody tr th {\n",
       "        vertical-align: top;\n",
       "    }\n",
       "\n",
       "    .dataframe thead th {\n",
       "        text-align: right;\n",
       "    }\n",
       "</style>\n",
       "<table border=\"1\" class=\"dataframe\">\n",
       "  <thead>\n",
       "    <tr style=\"text-align: right;\">\n",
       "      <th></th>\n",
       "      <th>0</th>\n",
       "      <th>1</th>\n",
       "      <th>2</th>\n",
       "      <th>3</th>\n",
       "      <th>4</th>\n",
       "      <th>5</th>\n",
       "      <th>6</th>\n",
       "      <th>7</th>\n",
       "      <th>8</th>\n",
       "      <th>9</th>\n",
       "      <th>...</th>\n",
       "      <th>244</th>\n",
       "      <th>245</th>\n",
       "      <th>246</th>\n",
       "      <th>247</th>\n",
       "      <th>248</th>\n",
       "      <th>249</th>\n",
       "      <th>250</th>\n",
       "      <th>251</th>\n",
       "      <th>252</th>\n",
       "      <th>253</th>\n",
       "    </tr>\n",
       "  </thead>\n",
       "  <tbody>\n",
       "    <tr>\n",
       "      <th>count</th>\n",
       "      <td>10051</td>\n",
       "      <td>9543</td>\n",
       "      <td>8786</td>\n",
       "      <td>7830</td>\n",
       "      <td>6868</td>\n",
       "      <td>5868</td>\n",
       "      <td>4986</td>\n",
       "      <td>4223</td>\n",
       "      <td>3567</td>\n",
       "      <td>3034</td>\n",
       "      <td>...</td>\n",
       "      <td>1</td>\n",
       "      <td>1</td>\n",
       "      <td>1</td>\n",
       "      <td>1</td>\n",
       "      <td>1</td>\n",
       "      <td>1</td>\n",
       "      <td>1</td>\n",
       "      <td>1</td>\n",
       "      <td>1</td>\n",
       "      <td>1</td>\n",
       "    </tr>\n",
       "    <tr>\n",
       "      <th>unique</th>\n",
       "      <td>10051</td>\n",
       "      <td>1410</td>\n",
       "      <td>1391</td>\n",
       "      <td>1251</td>\n",
       "      <td>1166</td>\n",
       "      <td>1074</td>\n",
       "      <td>972</td>\n",
       "      <td>901</td>\n",
       "      <td>835</td>\n",
       "      <td>768</td>\n",
       "      <td>...</td>\n",
       "      <td>1</td>\n",
       "      <td>1</td>\n",
       "      <td>1</td>\n",
       "      <td>1</td>\n",
       "      <td>1</td>\n",
       "      <td>1</td>\n",
       "      <td>1</td>\n",
       "      <td>1</td>\n",
       "      <td>1</td>\n",
       "      <td>1</td>\n",
       "    </tr>\n",
       "    <tr>\n",
       "      <th>top</th>\n",
       "      <td>P0</td>\n",
       "      <td>02C05J</td>\n",
       "      <td>02C05J</td>\n",
       "      <td>02C05J</td>\n",
       "      <td>05M092</td>\n",
       "      <td>05M092</td>\n",
       "      <td>05M092</td>\n",
       "      <td>05M092</td>\n",
       "      <td>05M092</td>\n",
       "      <td>05M092</td>\n",
       "      <td>...</td>\n",
       "      <td>04M17T</td>\n",
       "      <td>04M17T</td>\n",
       "      <td>04M17T</td>\n",
       "      <td>04M17T</td>\n",
       "      <td>04M17T</td>\n",
       "      <td>04M17T</td>\n",
       "      <td>04M17T</td>\n",
       "      <td>04M17T</td>\n",
       "      <td>04M17T</td>\n",
       "      <td>04M17T</td>\n",
       "    </tr>\n",
       "    <tr>\n",
       "      <th>freq</th>\n",
       "      <td>1</td>\n",
       "      <td>358</td>\n",
       "      <td>452</td>\n",
       "      <td>291</td>\n",
       "      <td>270</td>\n",
       "      <td>197</td>\n",
       "      <td>187</td>\n",
       "      <td>167</td>\n",
       "      <td>123</td>\n",
       "      <td>130</td>\n",
       "      <td>...</td>\n",
       "      <td>1</td>\n",
       "      <td>1</td>\n",
       "      <td>1</td>\n",
       "      <td>1</td>\n",
       "      <td>1</td>\n",
       "      <td>1</td>\n",
       "      <td>1</td>\n",
       "      <td>1</td>\n",
       "      <td>1</td>\n",
       "      <td>1</td>\n",
       "    </tr>\n",
       "  </tbody>\n",
       "</table>\n",
       "<p>4 rows × 254 columns</p>\n",
       "</div>"
      ],
      "text/plain": [
       "          0       1       2       3       4       5       6       7       8    \\\n",
       "count   10051    9543    8786    7830    6868    5868    4986    4223    3567   \n",
       "unique  10051    1410    1391    1251    1166    1074     972     901     835   \n",
       "top        P0  02C05J  02C05J  02C05J  05M092  05M092  05M092  05M092  05M092   \n",
       "freq        1     358     452     291     270     197     187     167     123   \n",
       "\n",
       "           9    ...     244     245     246     247     248     249     250  \\\n",
       "count     3034  ...       1       1       1       1       1       1       1   \n",
       "unique     768  ...       1       1       1       1       1       1       1   \n",
       "top     05M092  ...  04M17T  04M17T  04M17T  04M17T  04M17T  04M17T  04M17T   \n",
       "freq       130  ...       1       1       1       1       1       1       1   \n",
       "\n",
       "           251     252     253  \n",
       "count        1       1       1  \n",
       "unique       1       1       1  \n",
       "top     04M17T  04M17T  04M17T  \n",
       "freq         1       1       1  \n",
       "\n",
       "[4 rows x 254 columns]"
      ]
     },
     "execution_count": 120,
     "metadata": {},
     "output_type": "execute_result"
    }
   ],
   "source": [
    "p_soins_df.describe()"
   ]
  },
  {
   "cell_type": "code",
   "execution_count": 121,
   "id": "9548ccb9-b209-4554-b921-68f60cb1f1a6",
   "metadata": {
    "tags": []
   },
   "outputs": [
    {
     "data": {
      "image/png": "[encoded data removed]",
      "text/plain": [
       "<Figure size 640x480 with 1 Axes>"
      ]
     },
     "metadata": {},
     "output_type": "display_data"
    }
   ],
   "source": [
    "(1-p_soins_df.describe().iloc[0]/len(p_soins_list)).plot()\n",
    "#plt.axhline(y = 0.5, color='r', linestyle='-', label=\"0.5\")\n",
    "#plt.axhline(y = 0.05, color='r', linestyle='--', label=\"0.05\")\n",
    "plt.axhline(y = 0.95, color='r', linestyle='-.', label=\"0.95\")\n",
    "plt.axvline(x = 20, color='r', linestyle='-.')\n",
    "plt.xlabel(\"Nombre d'hospitalisations\")\n",
    "plt.ylabel(\"Probabilité\")\n",
    "plt.legend()\n",
    "plt.title(\"CdF du nombre d'hospitalisations\")\n",
    "plt.show()"
   ]
  },
  {
   "cell_type": "markdown",
   "id": "6c44858a",
   "metadata": {},
   "source": [
    "95% des patients de la population étudiée connaissent moins de 20 hospitalisations (on ne considère pas les hospitalisations chroniques)."
   ]
  },
  {
   "cell_type": "markdown",
   "id": "87bbb419-a221-4e5d-af9f-c68f4c1d2c84",
   "metadata": {
    "tags": []
   },
   "source": [
    "### Pour les patients avec une hospitalisation pour un GHM '05M09x', en considérant cette hospitalisation comme début de parcours "
   ]
  },
  {
   "cell_type": "code",
   "execution_count": 155,
   "id": "0f99bfad-1aa3-4a2c-b982-8871723bcc13",
   "metadata": {
    "tags": []
   },
   "outputs": [
    {
     "name": "stderr",
     "output_type": "stream",
     "text": [
      "100%|███████████████████████████████████████████████████████████████████████████| 10051/10051 [00:26<00:00, 372.77it/s]\n"
     ]
    }
   ],
   "source": [
    "p_soins_IC=[]\n",
    "for patient in tqdm(range(len(p_soins))):\n",
    "    parcours=p_soins.iloc[patient].dropna()\n",
    "    #Si on trouve un GHM de type '05M09x' dans le parcours de soin du patient\n",
    "    if parcours.eq('05M091').any() or parcours.eq('05M092').any() or parcours.eq('05M093').any() or parcours.eq('05M094').any() or parcours.eq('05M09T').any():\n",
    "        start=0\n",
    "        #On cherche la 1ère hospitalisation pour IC, pour regarder le parcours de soins à partir de celle-ci\n",
    "        while parcours.tolist()[start] not in ['05M091', '05M092', '05M093', '05M094','05M09T']:\n",
    "            start+=1\n",
    "        p_soins_IC.append([parcours[0]]+parcours.tolist()[start:-1])"
   ]
  },
  {
   "cell_type": "code",
   "execution_count": 158,
   "id": "4ed43326-362b-4a0d-99ec-97fa1e409e46",
   "metadata": {
    "scrolled": true,
    "tags": []
   },
   "outputs": [
    {
     "data": {
      "text/html": [
       "<div>\n",
       "<style scoped>\n",
       "    .dataframe tbody tr th:only-of-type {\n",
       "        vertical-align: middle;\n",
       "    }\n",
       "\n",
       "    .dataframe tbody tr th {\n",
       "        vertical-align: top;\n",
       "    }\n",
       "\n",
       "    .dataframe thead th {\n",
       "        text-align: right;\n",
       "    }\n",
       "</style>\n",
       "<table border=\"1\" class=\"dataframe\">\n",
       "  <thead>\n",
       "    <tr style=\"text-align: right;\">\n",
       "      <th></th>\n",
       "      <th>0</th>\n",
       "      <th>1</th>\n",
       "      <th>2</th>\n",
       "      <th>3</th>\n",
       "      <th>4</th>\n",
       "      <th>5</th>\n",
       "      <th>6</th>\n",
       "      <th>7</th>\n",
       "      <th>8</th>\n",
       "      <th>9</th>\n",
       "      <th>...</th>\n",
       "      <th>113</th>\n",
       "      <th>114</th>\n",
       "      <th>115</th>\n",
       "      <th>116</th>\n",
       "      <th>117</th>\n",
       "      <th>118</th>\n",
       "      <th>119</th>\n",
       "      <th>120</th>\n",
       "      <th>121</th>\n",
       "      <th>122</th>\n",
       "    </tr>\n",
       "  </thead>\n",
       "  <tbody>\n",
       "    <tr>\n",
       "      <th>0</th>\n",
       "      <td>P0</td>\n",
       "      <td>05M09T</td>\n",
       "      <td>05M092</td>\n",
       "      <td>05C191</td>\n",
       "      <td>05M20Z</td>\n",
       "      <td>05M20Z</td>\n",
       "      <td>None</td>\n",
       "      <td>None</td>\n",
       "      <td>None</td>\n",
       "      <td>None</td>\n",
       "      <td>...</td>\n",
       "      <td>None</td>\n",
       "      <td>None</td>\n",
       "      <td>None</td>\n",
       "      <td>None</td>\n",
       "      <td>None</td>\n",
       "      <td>None</td>\n",
       "      <td>None</td>\n",
       "      <td>None</td>\n",
       "      <td>None</td>\n",
       "      <td>None</td>\n",
       "    </tr>\n",
       "    <tr>\n",
       "      <th>1</th>\n",
       "      <td>P6</td>\n",
       "      <td>05M093</td>\n",
       "      <td>04M132</td>\n",
       "      <td>05C222</td>\n",
       "      <td>23M103</td>\n",
       "      <td>04M053</td>\n",
       "      <td>None</td>\n",
       "      <td>None</td>\n",
       "      <td>None</td>\n",
       "      <td>None</td>\n",
       "      <td>...</td>\n",
       "      <td>None</td>\n",
       "      <td>None</td>\n",
       "      <td>None</td>\n",
       "      <td>None</td>\n",
       "      <td>None</td>\n",
       "      <td>None</td>\n",
       "      <td>None</td>\n",
       "      <td>None</td>\n",
       "      <td>None</td>\n",
       "      <td>None</td>\n",
       "    </tr>\n",
       "    <tr>\n",
       "      <th>2</th>\n",
       "      <td>P17</td>\n",
       "      <td>05M093</td>\n",
       "      <td>04M143</td>\n",
       "      <td>11M044</td>\n",
       "      <td>04M053</td>\n",
       "      <td>09M063</td>\n",
       "      <td>05K251</td>\n",
       "      <td>09M062</td>\n",
       "      <td>09M063</td>\n",
       "      <td>05K062</td>\n",
       "      <td>...</td>\n",
       "      <td>None</td>\n",
       "      <td>None</td>\n",
       "      <td>None</td>\n",
       "      <td>None</td>\n",
       "      <td>None</td>\n",
       "      <td>None</td>\n",
       "      <td>None</td>\n",
       "      <td>None</td>\n",
       "      <td>None</td>\n",
       "      <td>None</td>\n",
       "    </tr>\n",
       "    <tr>\n",
       "      <th>3</th>\n",
       "      <td>P24</td>\n",
       "      <td>05M091</td>\n",
       "      <td>05M171</td>\n",
       "      <td>05M13T</td>\n",
       "      <td>05M13T</td>\n",
       "      <td>05M13T</td>\n",
       "      <td>05K061</td>\n",
       "      <td>05M13T</td>\n",
       "      <td>05M13T</td>\n",
       "      <td>05M13T</td>\n",
       "      <td>...</td>\n",
       "      <td>None</td>\n",
       "      <td>None</td>\n",
       "      <td>None</td>\n",
       "      <td>None</td>\n",
       "      <td>None</td>\n",
       "      <td>None</td>\n",
       "      <td>None</td>\n",
       "      <td>None</td>\n",
       "      <td>None</td>\n",
       "      <td>None</td>\n",
       "    </tr>\n",
       "    <tr>\n",
       "      <th>4</th>\n",
       "      <td>P25</td>\n",
       "      <td>05M091</td>\n",
       "      <td>23K02Z</td>\n",
       "      <td>09C081</td>\n",
       "      <td>09C082</td>\n",
       "      <td>None</td>\n",
       "      <td>None</td>\n",
       "      <td>None</td>\n",
       "      <td>None</td>\n",
       "      <td>None</td>\n",
       "      <td>...</td>\n",
       "      <td>None</td>\n",
       "      <td>None</td>\n",
       "      <td>None</td>\n",
       "      <td>None</td>\n",
       "      <td>None</td>\n",
       "      <td>None</td>\n",
       "      <td>None</td>\n",
       "      <td>None</td>\n",
       "      <td>None</td>\n",
       "      <td>None</td>\n",
       "    </tr>\n",
       "  </tbody>\n",
       "</table>\n",
       "<p>5 rows × 123 columns</p>\n",
       "</div>"
      ],
      "text/plain": [
       "   0       1       2       3       4       5       6       7       8    \\\n",
       "0   P0  05M09T  05M092  05C191  05M20Z  05M20Z    None    None    None   \n",
       "1   P6  05M093  04M132  05C222  23M103  04M053    None    None    None   \n",
       "2  P17  05M093  04M143  11M044  04M053  09M063  05K251  09M062  09M063   \n",
       "3  P24  05M091  05M171  05M13T  05M13T  05M13T  05K061  05M13T  05M13T   \n",
       "4  P25  05M091  23K02Z  09C081  09C082    None    None    None    None   \n",
       "\n",
       "      9    ...   113   114   115   116   117   118   119   120   121   122  \n",
       "0    None  ...  None  None  None  None  None  None  None  None  None  None  \n",
       "1    None  ...  None  None  None  None  None  None  None  None  None  None  \n",
       "2  05K062  ...  None  None  None  None  None  None  None  None  None  None  \n",
       "3  05M13T  ...  None  None  None  None  None  None  None  None  None  None  \n",
       "4    None  ...  None  None  None  None  None  None  None  None  None  None  \n",
       "\n",
       "[5 rows x 123 columns]"
      ]
     },
     "execution_count": 158,
     "metadata": {},
     "output_type": "execute_result"
    }
   ],
   "source": [
    "p_soins_IC_df=pd.DataFrame(p_soins_IC)\n",
    "p_soins_IC_df.head()"
   ]
  },
  {
   "cell_type": "markdown",
   "id": "934cd578",
   "metadata": {},
   "source": [
    "### CdF du nombre d'hospitalisations après une 1ère hospitalisation pour IC"
   ]
  },
  {
   "cell_type": "code",
   "execution_count": 161,
   "id": "44996f0b-42c8-4c56-ada9-575981369135",
   "metadata": {
    "tags": []
   },
   "outputs": [
    {
     "data": {
      "image/png": "[encoded data removed]",
      "text/plain": [
       "<Figure size 640x480 with 1 Axes>"
      ]
     },
     "metadata": {},
     "output_type": "display_data"
    }
   ],
   "source": [
    "(1-p_soins_IC_df.drop(0, axis=1).describe().iloc[0]/len(p_soins_IC)).plot()\n",
    "#plt.axhline(y = 0.5, color='r', linestyle='-', label=\"0.5\")\n",
    "#plt.axhline(y = 0.05, color='r', linestyle='--', label=\"0.05\")\n",
    "plt.axvline(x = 14, color='r', linestyle='-.')\n",
    "plt.axvline(x = 3, color='orange', linestyle='-.')\n",
    "plt.axhline(y = 0.95, color='r', linestyle='-.', label=\"0.95\")\n",
    "plt.axhline(y = 0.5, color='orange', linestyle='-.', label=\"0.5\")\n",
    "plt.xlabel(\"Nombre d'hospitalisations\")\n",
    "plt.ylabel(\"Probabilité\")\n",
    "plt.legend()\n",
    "plt.title(\"CdF du nombre d'hospitalisations après une 1ère hospitalisation pour IC\")\n",
    "plt.show()"
   ]
  },
  {
   "cell_type": "markdown",
   "id": "c792bbb1",
   "metadata": {},
   "source": [
    "+ 95% des patients connaissent moins de 14 hospitalisations après une première hospitalisation pour IC\n",
    "+ 50% des patients connaissent moins de 4 hospitalisations après une première hospitalisation pour IC."
   ]
  },
  {
   "cell_type": "markdown",
   "id": "95d4b14e-60a7-4c2f-a7f1-304ec716510e",
   "metadata": {
    "tags": []
   },
   "source": [
    "## Différents GHM pour la nième hospitalisation"
   ]
  },
  {
   "cell_type": "code",
   "execution_count": 162,
   "id": "51fb41a3-8fcb-45d6-b0c2-92e20c39b769",
   "metadata": {
    "tags": []
   },
   "outputs": [],
   "source": [
    "# On retire les entrées n'ayant aucune hospitalisation\n",
    "p_soins_IC_df = p_soins_IC_df.drop(0, axis=1).dropna(thresh=1).reset_index(drop=True)"
   ]
  },
  {
   "cell_type": "code",
   "execution_count": 164,
   "id": "c68c6337",
   "metadata": {},
   "outputs": [],
   "source": [
    "p_soins_IC_df.to_csv(\"data\\p_soins_IC.csv\")"
   ]
  },
  {
   "cell_type": "code",
   "execution_count": 163,
   "id": "58660b32-9619-4950-85a9-843e58fc9860",
   "metadata": {
    "tags": []
   },
   "outputs": [
    {
     "data": {
      "text/html": [
       "<div>\n",
       "<style scoped>\n",
       "    .dataframe tbody tr th:only-of-type {\n",
       "        vertical-align: middle;\n",
       "    }\n",
       "\n",
       "    .dataframe tbody tr th {\n",
       "        vertical-align: top;\n",
       "    }\n",
       "\n",
       "    .dataframe thead th {\n",
       "        text-align: right;\n",
       "    }\n",
       "</style>\n",
       "<table border=\"1\" class=\"dataframe\">\n",
       "  <thead>\n",
       "    <tr style=\"text-align: right;\">\n",
       "      <th></th>\n",
       "      <th>1</th>\n",
       "      <th>2</th>\n",
       "      <th>3</th>\n",
       "      <th>4</th>\n",
       "      <th>5</th>\n",
       "      <th>6</th>\n",
       "      <th>7</th>\n",
       "      <th>8</th>\n",
       "      <th>9</th>\n",
       "      <th>10</th>\n",
       "      <th>...</th>\n",
       "      <th>113</th>\n",
       "      <th>114</th>\n",
       "      <th>115</th>\n",
       "      <th>116</th>\n",
       "      <th>117</th>\n",
       "      <th>118</th>\n",
       "      <th>119</th>\n",
       "      <th>120</th>\n",
       "      <th>121</th>\n",
       "      <th>122</th>\n",
       "    </tr>\n",
       "  </thead>\n",
       "  <tbody>\n",
       "    <tr>\n",
       "      <th>count</th>\n",
       "      <td>3749</td>\n",
       "      <td>3053</td>\n",
       "      <td>2437</td>\n",
       "      <td>1956</td>\n",
       "      <td>1571</td>\n",
       "      <td>1243</td>\n",
       "      <td>980</td>\n",
       "      <td>772</td>\n",
       "      <td>623</td>\n",
       "      <td>502</td>\n",
       "      <td>...</td>\n",
       "      <td>1</td>\n",
       "      <td>1</td>\n",
       "      <td>1</td>\n",
       "      <td>1</td>\n",
       "      <td>1</td>\n",
       "      <td>1</td>\n",
       "      <td>1</td>\n",
       "      <td>1</td>\n",
       "      <td>1</td>\n",
       "      <td>1</td>\n",
       "    </tr>\n",
       "    <tr>\n",
       "      <th>unique</th>\n",
       "      <td>5</td>\n",
       "      <td>648</td>\n",
       "      <td>625</td>\n",
       "      <td>580</td>\n",
       "      <td>522</td>\n",
       "      <td>449</td>\n",
       "      <td>405</td>\n",
       "      <td>342</td>\n",
       "      <td>317</td>\n",
       "      <td>279</td>\n",
       "      <td>...</td>\n",
       "      <td>1</td>\n",
       "      <td>1</td>\n",
       "      <td>1</td>\n",
       "      <td>1</td>\n",
       "      <td>1</td>\n",
       "      <td>1</td>\n",
       "      <td>1</td>\n",
       "      <td>1</td>\n",
       "      <td>1</td>\n",
       "      <td>1</td>\n",
       "    </tr>\n",
       "    <tr>\n",
       "      <th>top</th>\n",
       "      <td>05M092</td>\n",
       "      <td>05M092</td>\n",
       "      <td>05M092</td>\n",
       "      <td>05M092</td>\n",
       "      <td>05M092</td>\n",
       "      <td>05M092</td>\n",
       "      <td>05M092</td>\n",
       "      <td>05M092</td>\n",
       "      <td>05M092</td>\n",
       "      <td>05M092</td>\n",
       "      <td>...</td>\n",
       "      <td>04M17T</td>\n",
       "      <td>04M17T</td>\n",
       "      <td>04M17T</td>\n",
       "      <td>04M17T</td>\n",
       "      <td>04M17T</td>\n",
       "      <td>04M17T</td>\n",
       "      <td>04M17T</td>\n",
       "      <td>04M17T</td>\n",
       "      <td>04M17T</td>\n",
       "      <td>04M17T</td>\n",
       "    </tr>\n",
       "    <tr>\n",
       "      <th>freq</th>\n",
       "      <td>1359</td>\n",
       "      <td>239</td>\n",
       "      <td>193</td>\n",
       "      <td>126</td>\n",
       "      <td>101</td>\n",
       "      <td>78</td>\n",
       "      <td>60</td>\n",
       "      <td>40</td>\n",
       "      <td>30</td>\n",
       "      <td>31</td>\n",
       "      <td>...</td>\n",
       "      <td>1</td>\n",
       "      <td>1</td>\n",
       "      <td>1</td>\n",
       "      <td>1</td>\n",
       "      <td>1</td>\n",
       "      <td>1</td>\n",
       "      <td>1</td>\n",
       "      <td>1</td>\n",
       "      <td>1</td>\n",
       "      <td>1</td>\n",
       "    </tr>\n",
       "  </tbody>\n",
       "</table>\n",
       "<p>4 rows × 122 columns</p>\n",
       "</div>"
      ],
      "text/plain": [
       "           1       2       3       4       5       6       7       8    \\\n",
       "count     3749    3053    2437    1956    1571    1243     980     772   \n",
       "unique       5     648     625     580     522     449     405     342   \n",
       "top     05M092  05M092  05M092  05M092  05M092  05M092  05M092  05M092   \n",
       "freq      1359     239     193     126     101      78      60      40   \n",
       "\n",
       "           9       10   ...     113     114     115     116     117     118  \\\n",
       "count      623     502  ...       1       1       1       1       1       1   \n",
       "unique     317     279  ...       1       1       1       1       1       1   \n",
       "top     05M092  05M092  ...  04M17T  04M17T  04M17T  04M17T  04M17T  04M17T   \n",
       "freq        30      31  ...       1       1       1       1       1       1   \n",
       "\n",
       "           119     120     121     122  \n",
       "count        1       1       1       1  \n",
       "unique       1       1       1       1  \n",
       "top     04M17T  04M17T  04M17T  04M17T  \n",
       "freq         1       1       1       1  \n",
       "\n",
       "[4 rows x 122 columns]"
      ]
     },
     "execution_count": 163,
     "metadata": {},
     "output_type": "execute_result"
    }
   ],
   "source": [
    "p_soins_IC_df.describe()"
   ]
  },
  {
   "cell_type": "code",
   "execution_count": null,
   "id": "e8a43029",
   "metadata": {},
   "outputs": [],
   "source": [
    "p_soins_IC_df"
   ]
  },
  {
   "cell_type": "code",
   "execution_count": 128,
   "id": "89548e0a-4d04-4bf1-b850-c9b5b20363c8",
   "metadata": {
    "tags": []
   },
   "outputs": [
    {
     "data": {
      "text/html": [
       "<div>\n",
       "<style scoped>\n",
       "    .dataframe tbody tr th:only-of-type {\n",
       "        vertical-align: middle;\n",
       "    }\n",
       "\n",
       "    .dataframe tbody tr th {\n",
       "        vertical-align: top;\n",
       "    }\n",
       "\n",
       "    .dataframe thead th {\n",
       "        text-align: right;\n",
       "    }\n",
       "</style>\n",
       "<table border=\"1\" class=\"dataframe\">\n",
       "  <thead>\n",
       "    <tr style=\"text-align: right;\">\n",
       "      <th></th>\n",
       "      <th>count</th>\n",
       "    </tr>\n",
       "  </thead>\n",
       "  <tbody>\n",
       "    <tr>\n",
       "      <th>1</th>\n",
       "      <td>3749</td>\n",
       "    </tr>\n",
       "    <tr>\n",
       "      <th>2</th>\n",
       "      <td>3053</td>\n",
       "    </tr>\n",
       "    <tr>\n",
       "      <th>3</th>\n",
       "      <td>2437</td>\n",
       "    </tr>\n",
       "    <tr>\n",
       "      <th>4</th>\n",
       "      <td>1956</td>\n",
       "    </tr>\n",
       "    <tr>\n",
       "      <th>5</th>\n",
       "      <td>1571</td>\n",
       "    </tr>\n",
       "  </tbody>\n",
       "</table>\n",
       "</div>"
      ],
      "text/plain": [
       "  count\n",
       "1  3749\n",
       "2  3053\n",
       "3  2437\n",
       "4  1956\n",
       "5  1571"
      ]
     },
     "execution_count": 128,
     "metadata": {},
     "output_type": "execute_result"
    }
   ],
   "source": [
    "# On récupère le nombre de patients qui connaissent une nième hospitalisation\n",
    "hospit_n=p_soins_IC_df.describe().iloc[0]\n",
    "hospit_n=pd.DataFrame(hospit_n)\n",
    "hospit_n.head()"
   ]
  },
  {
   "cell_type": "code",
   "execution_count": 129,
   "id": "7897bbe3-07ce-415b-adb0-5aa072ab506a",
   "metadata": {
    "tags": []
   },
   "outputs": [],
   "source": [
    "df=pd.DataFrame()\n",
    "for i in range(1,p_soins_IC_df.shape[1]):\n",
    "    df=pd.concat([df, pd.DataFrame(p_soins_IC_df[i].value_counts())], axis=1)"
   ]
  },
  {
   "cell_type": "code",
   "execution_count": 130,
   "id": "a61aa5e2-850d-47fc-933e-728b0113cb5d",
   "metadata": {
    "tags": []
   },
   "outputs": [
    {
     "data": {
      "text/html": [
       "<div>\n",
       "<style scoped>\n",
       "    .dataframe tbody tr th:only-of-type {\n",
       "        vertical-align: middle;\n",
       "    }\n",
       "\n",
       "    .dataframe tbody tr th {\n",
       "        vertical-align: top;\n",
       "    }\n",
       "\n",
       "    .dataframe thead th {\n",
       "        text-align: right;\n",
       "    }\n",
       "</style>\n",
       "<table border=\"1\" class=\"dataframe\">\n",
       "  <thead>\n",
       "    <tr style=\"text-align: right;\">\n",
       "      <th></th>\n",
       "      <th>05M092</th>\n",
       "      <th>05M093</th>\n",
       "      <th>05M091</th>\n",
       "      <th>05M09T</th>\n",
       "      <th>05M094</th>\n",
       "      <th>05K101</th>\n",
       "      <th>02C05J</th>\n",
       "      <th>04M053</th>\n",
       "      <th>23M20Z</th>\n",
       "      <th>05K102</th>\n",
       "      <th>...</th>\n",
       "      <th>04C034</th>\n",
       "      <th>17M163</th>\n",
       "      <th>01M35T</th>\n",
       "      <th>05C214</th>\n",
       "      <th>09M111</th>\n",
       "      <th>21M152</th>\n",
       "      <th>03M073</th>\n",
       "      <th>13M051</th>\n",
       "      <th>21M151</th>\n",
       "      <th>07C071</th>\n",
       "    </tr>\n",
       "  </thead>\n",
       "  <tbody>\n",
       "    <tr>\n",
       "      <th>1</th>\n",
       "      <td>1359.0</td>\n",
       "      <td>962.0</td>\n",
       "      <td>722.0</td>\n",
       "      <td>511.0</td>\n",
       "      <td>195.0</td>\n",
       "      <td>NaN</td>\n",
       "      <td>NaN</td>\n",
       "      <td>NaN</td>\n",
       "      <td>NaN</td>\n",
       "      <td>NaN</td>\n",
       "      <td>...</td>\n",
       "      <td>NaN</td>\n",
       "      <td>NaN</td>\n",
       "      <td>NaN</td>\n",
       "      <td>NaN</td>\n",
       "      <td>NaN</td>\n",
       "      <td>NaN</td>\n",
       "      <td>NaN</td>\n",
       "      <td>NaN</td>\n",
       "      <td>NaN</td>\n",
       "      <td>NaN</td>\n",
       "    </tr>\n",
       "    <tr>\n",
       "      <th>2</th>\n",
       "      <td>239.0</td>\n",
       "      <td>150.0</td>\n",
       "      <td>108.0</td>\n",
       "      <td>74.0</td>\n",
       "      <td>34.0</td>\n",
       "      <td>120.0</td>\n",
       "      <td>58.0</td>\n",
       "      <td>49.0</td>\n",
       "      <td>45.0</td>\n",
       "      <td>39.0</td>\n",
       "      <td>...</td>\n",
       "      <td>NaN</td>\n",
       "      <td>NaN</td>\n",
       "      <td>NaN</td>\n",
       "      <td>NaN</td>\n",
       "      <td>NaN</td>\n",
       "      <td>NaN</td>\n",
       "      <td>NaN</td>\n",
       "      <td>NaN</td>\n",
       "      <td>NaN</td>\n",
       "      <td>NaN</td>\n",
       "    </tr>\n",
       "    <tr>\n",
       "      <th>3</th>\n",
       "      <td>193.0</td>\n",
       "      <td>99.0</td>\n",
       "      <td>74.0</td>\n",
       "      <td>52.0</td>\n",
       "      <td>21.0</td>\n",
       "      <td>33.0</td>\n",
       "      <td>63.0</td>\n",
       "      <td>36.0</td>\n",
       "      <td>32.0</td>\n",
       "      <td>20.0</td>\n",
       "      <td>...</td>\n",
       "      <td>NaN</td>\n",
       "      <td>NaN</td>\n",
       "      <td>NaN</td>\n",
       "      <td>NaN</td>\n",
       "      <td>NaN</td>\n",
       "      <td>NaN</td>\n",
       "      <td>NaN</td>\n",
       "      <td>NaN</td>\n",
       "      <td>NaN</td>\n",
       "      <td>NaN</td>\n",
       "    </tr>\n",
       "    <tr>\n",
       "      <th>4</th>\n",
       "      <td>126.0</td>\n",
       "      <td>90.0</td>\n",
       "      <td>54.0</td>\n",
       "      <td>38.0</td>\n",
       "      <td>19.0</td>\n",
       "      <td>28.0</td>\n",
       "      <td>47.0</td>\n",
       "      <td>36.0</td>\n",
       "      <td>25.0</td>\n",
       "      <td>12.0</td>\n",
       "      <td>...</td>\n",
       "      <td>NaN</td>\n",
       "      <td>NaN</td>\n",
       "      <td>NaN</td>\n",
       "      <td>NaN</td>\n",
       "      <td>NaN</td>\n",
       "      <td>NaN</td>\n",
       "      <td>NaN</td>\n",
       "      <td>NaN</td>\n",
       "      <td>NaN</td>\n",
       "      <td>NaN</td>\n",
       "    </tr>\n",
       "    <tr>\n",
       "      <th>5</th>\n",
       "      <td>101.0</td>\n",
       "      <td>60.0</td>\n",
       "      <td>30.0</td>\n",
       "      <td>34.0</td>\n",
       "      <td>13.0</td>\n",
       "      <td>23.0</td>\n",
       "      <td>36.0</td>\n",
       "      <td>18.0</td>\n",
       "      <td>18.0</td>\n",
       "      <td>5.0</td>\n",
       "      <td>...</td>\n",
       "      <td>NaN</td>\n",
       "      <td>NaN</td>\n",
       "      <td>NaN</td>\n",
       "      <td>NaN</td>\n",
       "      <td>NaN</td>\n",
       "      <td>NaN</td>\n",
       "      <td>NaN</td>\n",
       "      <td>NaN</td>\n",
       "      <td>NaN</td>\n",
       "      <td>NaN</td>\n",
       "    </tr>\n",
       "  </tbody>\n",
       "</table>\n",
       "<p>5 rows × 1243 columns</p>\n",
       "</div>"
      ],
      "text/plain": [
       "   05M092  05M093  05M091  05M09T  05M094  05K101  02C05J  04M053  23M20Z  \\\n",
       "1  1359.0   962.0   722.0   511.0   195.0     NaN     NaN     NaN     NaN   \n",
       "2   239.0   150.0   108.0    74.0    34.0   120.0    58.0    49.0    45.0   \n",
       "3   193.0    99.0    74.0    52.0    21.0    33.0    63.0    36.0    32.0   \n",
       "4   126.0    90.0    54.0    38.0    19.0    28.0    47.0    36.0    25.0   \n",
       "5   101.0    60.0    30.0    34.0    13.0    23.0    36.0    18.0    18.0   \n",
       "\n",
       "   05K102  ...  04C034  17M163  01M35T  05C214  09M111  21M152  03M073  \\\n",
       "1     NaN  ...     NaN     NaN     NaN     NaN     NaN     NaN     NaN   \n",
       "2    39.0  ...     NaN     NaN     NaN     NaN     NaN     NaN     NaN   \n",
       "3    20.0  ...     NaN     NaN     NaN     NaN     NaN     NaN     NaN   \n",
       "4    12.0  ...     NaN     NaN     NaN     NaN     NaN     NaN     NaN   \n",
       "5     5.0  ...     NaN     NaN     NaN     NaN     NaN     NaN     NaN   \n",
       "\n",
       "   13M051  21M151  07C071  \n",
       "1     NaN     NaN     NaN  \n",
       "2     NaN     NaN     NaN  \n",
       "3     NaN     NaN     NaN  \n",
       "4     NaN     NaN     NaN  \n",
       "5     NaN     NaN     NaN  \n",
       "\n",
       "[5 rows x 1243 columns]"
      ]
     },
     "execution_count": 130,
     "metadata": {},
     "output_type": "execute_result"
    }
   ],
   "source": [
    "df=df.transpose()\n",
    "df.head()"
   ]
  },
  {
   "cell_type": "markdown",
   "id": "f928f526",
   "metadata": {},
   "source": [
    "Dans le dataframe ci-dessus, les colonnes correspondent aux différents GHM et les lignes à la nième hospitalisation des patients insuffisants cardiaques. On retrouve donc dans chaque case le nombre d'hospitalisations pour un GHM donné, pour la nième hospitalisation."
   ]
  },
  {
   "cell_type": "code",
   "execution_count": 131,
   "id": "da0cb1d6",
   "metadata": {},
   "outputs": [
    {
     "data": {
      "image/png": "[encoded data removed]",
      "text/plain": [
       "<Figure size 640x480 with 1 Axes>"
      ]
     },
     "metadata": {},
     "output_type": "display_data"
    }
   ],
   "source": [
    "df.iloc[0].dropna().plot.bar()\n",
    "plt.title('GHM de la première hospitalisation pour IC')\n",
    "plt.show()"
   ]
  },
  {
   "cell_type": "code",
   "execution_count": 132,
   "id": "ce21c07e-4acf-4750-8224-79f080ee6373",
   "metadata": {
    "tags": []
   },
   "outputs": [],
   "source": [
    "# Export des différents types d'hospitalisations et de leur nombre\n",
    "df.to_csv(\"./data/hospit_IC.csv\")"
   ]
  },
  {
   "cell_type": "markdown",
   "id": "b8643ec7-9194-4409-bddc-53e01dab39f7",
   "metadata": {
    "tags": []
   },
   "source": [
    "### On regroupe les GHM pour Insuffisances cardiaques ('05M091', '05M092', '05M093' et '05M09T')"
   ]
  },
  {
   "cell_type": "code",
   "execution_count": 133,
   "id": "5c4fbb8b-9fa4-4662-92b0-7ae65e7bd6d1",
   "metadata": {
    "tags": []
   },
   "outputs": [],
   "source": [
    "df['05M09x']=df[['05M091', '05M092', '05M093', '05M094', '05M09T']].sum(axis=1)\n",
    "df=df.drop(['05M091', '05M092', '05M093','05M094', '05M09T'], axis=1)"
   ]
  },
  {
   "cell_type": "code",
   "execution_count": 134,
   "id": "b32d5ba1-15c6-4049-9002-fb5fd6e0a338",
   "metadata": {
    "tags": []
   },
   "outputs": [],
   "source": [
    "cols = list(df.columns)\n",
    "cols=['05M09x']+cols[:-1]\n",
    "df=df[cols]"
   ]
  },
  {
   "cell_type": "code",
   "execution_count": 135,
   "id": "07130871-c85f-445d-80b0-4321c57d3b45",
   "metadata": {
    "tags": []
   },
   "outputs": [
    {
     "data": {
      "text/html": [
       "<div>\n",
       "<style scoped>\n",
       "    .dataframe tbody tr th:only-of-type {\n",
       "        vertical-align: middle;\n",
       "    }\n",
       "\n",
       "    .dataframe tbody tr th {\n",
       "        vertical-align: top;\n",
       "    }\n",
       "\n",
       "    .dataframe thead th {\n",
       "        text-align: right;\n",
       "    }\n",
       "</style>\n",
       "<table border=\"1\" class=\"dataframe\">\n",
       "  <thead>\n",
       "    <tr style=\"text-align: right;\">\n",
       "      <th></th>\n",
       "      <th>05M09x</th>\n",
       "      <th>05K101</th>\n",
       "      <th>02C05J</th>\n",
       "      <th>04M053</th>\n",
       "      <th>23M20Z</th>\n",
       "      <th>05K102</th>\n",
       "      <th>05M081</th>\n",
       "      <th>23M20T</th>\n",
       "      <th>05M08T</th>\n",
       "      <th>05K062</th>\n",
       "      <th>...</th>\n",
       "      <th>04C034</th>\n",
       "      <th>17M163</th>\n",
       "      <th>01M35T</th>\n",
       "      <th>05C214</th>\n",
       "      <th>09M111</th>\n",
       "      <th>21M152</th>\n",
       "      <th>03M073</th>\n",
       "      <th>13M051</th>\n",
       "      <th>21M151</th>\n",
       "      <th>07C071</th>\n",
       "    </tr>\n",
       "  </thead>\n",
       "  <tbody>\n",
       "    <tr>\n",
       "      <th>1</th>\n",
       "      <td>3749.0</td>\n",
       "      <td>NaN</td>\n",
       "      <td>NaN</td>\n",
       "      <td>NaN</td>\n",
       "      <td>NaN</td>\n",
       "      <td>NaN</td>\n",
       "      <td>NaN</td>\n",
       "      <td>NaN</td>\n",
       "      <td>NaN</td>\n",
       "      <td>NaN</td>\n",
       "      <td>...</td>\n",
       "      <td>NaN</td>\n",
       "      <td>NaN</td>\n",
       "      <td>NaN</td>\n",
       "      <td>NaN</td>\n",
       "      <td>NaN</td>\n",
       "      <td>NaN</td>\n",
       "      <td>NaN</td>\n",
       "      <td>NaN</td>\n",
       "      <td>NaN</td>\n",
       "      <td>NaN</td>\n",
       "    </tr>\n",
       "    <tr>\n",
       "      <th>2</th>\n",
       "      <td>605.0</td>\n",
       "      <td>120.0</td>\n",
       "      <td>58.0</td>\n",
       "      <td>49.0</td>\n",
       "      <td>45.0</td>\n",
       "      <td>39.0</td>\n",
       "      <td>32.0</td>\n",
       "      <td>30.0</td>\n",
       "      <td>27.0</td>\n",
       "      <td>25.0</td>\n",
       "      <td>...</td>\n",
       "      <td>NaN</td>\n",
       "      <td>NaN</td>\n",
       "      <td>NaN</td>\n",
       "      <td>NaN</td>\n",
       "      <td>NaN</td>\n",
       "      <td>NaN</td>\n",
       "      <td>NaN</td>\n",
       "      <td>NaN</td>\n",
       "      <td>NaN</td>\n",
       "      <td>NaN</td>\n",
       "    </tr>\n",
       "    <tr>\n",
       "      <th>3</th>\n",
       "      <td>439.0</td>\n",
       "      <td>33.0</td>\n",
       "      <td>63.0</td>\n",
       "      <td>36.0</td>\n",
       "      <td>32.0</td>\n",
       "      <td>20.0</td>\n",
       "      <td>13.0</td>\n",
       "      <td>29.0</td>\n",
       "      <td>14.0</td>\n",
       "      <td>12.0</td>\n",
       "      <td>...</td>\n",
       "      <td>NaN</td>\n",
       "      <td>NaN</td>\n",
       "      <td>NaN</td>\n",
       "      <td>NaN</td>\n",
       "      <td>NaN</td>\n",
       "      <td>NaN</td>\n",
       "      <td>NaN</td>\n",
       "      <td>NaN</td>\n",
       "      <td>NaN</td>\n",
       "      <td>NaN</td>\n",
       "    </tr>\n",
       "    <tr>\n",
       "      <th>4</th>\n",
       "      <td>327.0</td>\n",
       "      <td>28.0</td>\n",
       "      <td>47.0</td>\n",
       "      <td>36.0</td>\n",
       "      <td>25.0</td>\n",
       "      <td>12.0</td>\n",
       "      <td>11.0</td>\n",
       "      <td>18.0</td>\n",
       "      <td>12.0</td>\n",
       "      <td>9.0</td>\n",
       "      <td>...</td>\n",
       "      <td>NaN</td>\n",
       "      <td>NaN</td>\n",
       "      <td>NaN</td>\n",
       "      <td>NaN</td>\n",
       "      <td>NaN</td>\n",
       "      <td>NaN</td>\n",
       "      <td>NaN</td>\n",
       "      <td>NaN</td>\n",
       "      <td>NaN</td>\n",
       "      <td>NaN</td>\n",
       "    </tr>\n",
       "    <tr>\n",
       "      <th>5</th>\n",
       "      <td>238.0</td>\n",
       "      <td>23.0</td>\n",
       "      <td>36.0</td>\n",
       "      <td>18.0</td>\n",
       "      <td>18.0</td>\n",
       "      <td>5.0</td>\n",
       "      <td>1.0</td>\n",
       "      <td>20.0</td>\n",
       "      <td>5.0</td>\n",
       "      <td>11.0</td>\n",
       "      <td>...</td>\n",
       "      <td>NaN</td>\n",
       "      <td>NaN</td>\n",
       "      <td>NaN</td>\n",
       "      <td>NaN</td>\n",
       "      <td>NaN</td>\n",
       "      <td>NaN</td>\n",
       "      <td>NaN</td>\n",
       "      <td>NaN</td>\n",
       "      <td>NaN</td>\n",
       "      <td>NaN</td>\n",
       "    </tr>\n",
       "  </tbody>\n",
       "</table>\n",
       "<p>5 rows × 1239 columns</p>\n",
       "</div>"
      ],
      "text/plain": [
       "   05M09x  05K101  02C05J  04M053  23M20Z  05K102  05M081  23M20T  05M08T  \\\n",
       "1  3749.0     NaN     NaN     NaN     NaN     NaN     NaN     NaN     NaN   \n",
       "2   605.0   120.0    58.0    49.0    45.0    39.0    32.0    30.0    27.0   \n",
       "3   439.0    33.0    63.0    36.0    32.0    20.0    13.0    29.0    14.0   \n",
       "4   327.0    28.0    47.0    36.0    25.0    12.0    11.0    18.0    12.0   \n",
       "5   238.0    23.0    36.0    18.0    18.0     5.0     1.0    20.0     5.0   \n",
       "\n",
       "   05K062  ...  04C034  17M163  01M35T  05C214  09M111  21M152  03M073  \\\n",
       "1     NaN  ...     NaN     NaN     NaN     NaN     NaN     NaN     NaN   \n",
       "2    25.0  ...     NaN     NaN     NaN     NaN     NaN     NaN     NaN   \n",
       "3    12.0  ...     NaN     NaN     NaN     NaN     NaN     NaN     NaN   \n",
       "4     9.0  ...     NaN     NaN     NaN     NaN     NaN     NaN     NaN   \n",
       "5    11.0  ...     NaN     NaN     NaN     NaN     NaN     NaN     NaN   \n",
       "\n",
       "   13M051  21M151  07C071  \n",
       "1     NaN     NaN     NaN  \n",
       "2     NaN     NaN     NaN  \n",
       "3     NaN     NaN     NaN  \n",
       "4     NaN     NaN     NaN  \n",
       "5     NaN     NaN     NaN  \n",
       "\n",
       "[5 rows x 1239 columns]"
      ]
     },
     "execution_count": 135,
     "metadata": {},
     "output_type": "execute_result"
    }
   ],
   "source": [
    "df.head()"
   ]
  },
  {
   "cell_type": "markdown",
   "id": "30a9b178-440e-47d4-9602-ee4f4de7e7eb",
   "metadata": {
    "tags": []
   },
   "source": [
    "### Graphique HTML plotly : pour l'ensemble du dataset"
   ]
  },
  {
   "cell_type": "code",
   "execution_count": 136,
   "id": "4013eb46-28bb-43cb-b968-57fa6f088509",
   "metadata": {
    "tags": []
   },
   "outputs": [],
   "source": [
    "%%capture capt\n",
    "fig = px.area(df, title=\"GHM après une hospitalisation pour insuffisance cardiaque\",\n",
    "             labels={\n",
    "                     \"value\": \"Nombre de patients\",\n",
    "                     \"index\": \"Hospitalisation n°\",\n",
    "                     \"variable\" : \"GHM\"\n",
    "                 })\n",
    "fig.write_html(\"data/GHM_apres_IC.html\")"
   ]
  },
  {
   "cell_type": "markdown",
   "id": "5e3af551-8c1a-499c-ba2d-38dcbd4138a6",
   "metadata": {},
   "source": [
    "## En considérant seulement les GHMs les plus fréquentes"
   ]
  },
  {
   "cell_type": "code",
   "execution_count": 137,
   "id": "b69a7393",
   "metadata": {},
   "outputs": [
    {
     "data": {
      "text/plain": [
       "05M09x    605.0\n",
       "05K101    120.0\n",
       "02C05J     58.0\n",
       "04M053     49.0\n",
       "23M20Z     45.0\n",
       "          ...  \n",
       "21M152      NaN\n",
       "03M073      NaN\n",
       "13M051      NaN\n",
       "21M151      NaN\n",
       "07C071      NaN\n",
       "Name: 2, Length: 1239, dtype: float64"
      ]
     },
     "execution_count": 137,
     "metadata": {},
     "output_type": "execute_result"
    }
   ],
   "source": [
    "df.iloc[1].sort_values(ascending=False)"
   ]
  },
  {
   "cell_type": "code",
   "execution_count": 138,
   "id": "22ede295-2002-45ca-b41c-56cacd608be7",
   "metadata": {
    "tags": []
   },
   "outputs": [
    {
     "data": {
      "text/html": [
       "<div>\n",
       "<style scoped>\n",
       "    .dataframe tbody tr th:only-of-type {\n",
       "        vertical-align: middle;\n",
       "    }\n",
       "\n",
       "    .dataframe tbody tr th {\n",
       "        vertical-align: top;\n",
       "    }\n",
       "\n",
       "    .dataframe thead th {\n",
       "        text-align: right;\n",
       "    }\n",
       "</style>\n",
       "<table border=\"1\" class=\"dataframe\">\n",
       "  <thead>\n",
       "    <tr style=\"text-align: right;\">\n",
       "      <th></th>\n",
       "      <th>02C05J</th>\n",
       "      <th>04M052</th>\n",
       "      <th>04M053</th>\n",
       "      <th>05K061</th>\n",
       "      <th>05K101</th>\n",
       "      <th>05M09x</th>\n",
       "      <th>10M163</th>\n",
       "      <th>16M112</th>\n",
       "      <th>23K02Z</th>\n",
       "      <th>23M20T</th>\n",
       "      <th>23M20Z</th>\n",
       "    </tr>\n",
       "  </thead>\n",
       "  <tbody>\n",
       "    <tr>\n",
       "      <th>0</th>\n",
       "      <td>NaN</td>\n",
       "      <td>NaN</td>\n",
       "      <td>NaN</td>\n",
       "      <td>NaN</td>\n",
       "      <td>NaN</td>\n",
       "      <td>3749.0</td>\n",
       "      <td>NaN</td>\n",
       "      <td>NaN</td>\n",
       "      <td>NaN</td>\n",
       "      <td>NaN</td>\n",
       "      <td>NaN</td>\n",
       "    </tr>\n",
       "    <tr>\n",
       "      <th>1</th>\n",
       "      <td>58.0</td>\n",
       "      <td>NaN</td>\n",
       "      <td>49.0</td>\n",
       "      <td>NaN</td>\n",
       "      <td>120.0</td>\n",
       "      <td>605.0</td>\n",
       "      <td>NaN</td>\n",
       "      <td>NaN</td>\n",
       "      <td>NaN</td>\n",
       "      <td>NaN</td>\n",
       "      <td>45.0</td>\n",
       "    </tr>\n",
       "    <tr>\n",
       "      <th>2</th>\n",
       "      <td>63.0</td>\n",
       "      <td>NaN</td>\n",
       "      <td>36.0</td>\n",
       "      <td>NaN</td>\n",
       "      <td>33.0</td>\n",
       "      <td>439.0</td>\n",
       "      <td>NaN</td>\n",
       "      <td>NaN</td>\n",
       "      <td>NaN</td>\n",
       "      <td>NaN</td>\n",
       "      <td>32.0</td>\n",
       "    </tr>\n",
       "    <tr>\n",
       "      <th>3</th>\n",
       "      <td>47.0</td>\n",
       "      <td>NaN</td>\n",
       "      <td>36.0</td>\n",
       "      <td>NaN</td>\n",
       "      <td>28.0</td>\n",
       "      <td>327.0</td>\n",
       "      <td>NaN</td>\n",
       "      <td>NaN</td>\n",
       "      <td>NaN</td>\n",
       "      <td>NaN</td>\n",
       "      <td>25.0</td>\n",
       "    </tr>\n",
       "    <tr>\n",
       "      <th>4</th>\n",
       "      <td>36.0</td>\n",
       "      <td>NaN</td>\n",
       "      <td>18.0</td>\n",
       "      <td>NaN</td>\n",
       "      <td>23.0</td>\n",
       "      <td>238.0</td>\n",
       "      <td>NaN</td>\n",
       "      <td>NaN</td>\n",
       "      <td>NaN</td>\n",
       "      <td>20.0</td>\n",
       "      <td>NaN</td>\n",
       "    </tr>\n",
       "  </tbody>\n",
       "</table>\n",
       "</div>"
      ],
      "text/plain": [
       "   02C05J  04M052  04M053  05K061  05K101  05M09x  10M163  16M112  23K02Z  \\\n",
       "0     NaN     NaN     NaN     NaN     NaN  3749.0     NaN     NaN     NaN   \n",
       "1    58.0     NaN    49.0     NaN   120.0   605.0     NaN     NaN     NaN   \n",
       "2    63.0     NaN    36.0     NaN    33.0   439.0     NaN     NaN     NaN   \n",
       "3    47.0     NaN    36.0     NaN    28.0   327.0     NaN     NaN     NaN   \n",
       "4    36.0     NaN    18.0     NaN    23.0   238.0     NaN     NaN     NaN   \n",
       "\n",
       "   23M20T  23M20Z  \n",
       "0     NaN     NaN  \n",
       "1     NaN    45.0  \n",
       "2     NaN    32.0  \n",
       "3     NaN    25.0  \n",
       "4    20.0     NaN  "
      ]
     },
     "execution_count": 138,
     "metadata": {},
     "output_type": "execute_result"
    }
   ],
   "source": [
    "len_parcours=10\n",
    "top_k=5\n",
    "\n",
    "L=[]\n",
    "for i in range(len_parcours):\n",
    "    L.append(df.iloc[i].sort_values(ascending=False)[:top_k])\n",
    "    \n",
    "database={}\n",
    "for i in range(len_parcours):\n",
    "    database[f'{i}']=L[i].sort_values(ascending=False)[:top_k]\n",
    "\n",
    "database= pd.DataFrame(database)\n",
    "database= database.transpose()\n",
    "database.head()"
   ]
  },
  {
   "cell_type": "code",
   "execution_count": 139,
   "id": "9c29c76a-bbc2-42b2-ae0f-45112446dcf3",
   "metadata": {
    "tags": []
   },
   "outputs": [],
   "source": [
    "# on met le GHM pour IC en position 0\n",
    "colonnes = list(database.columns)\n",
    "colonnes.remove('05M09x')\n",
    "colonnes=['05M09x']+colonnes\n",
    "database=database[colonnes]"
   ]
  },
  {
   "cell_type": "code",
   "execution_count": 140,
   "id": "a735f400-008a-46b6-a3f8-852a70632cb3",
   "metadata": {
    "tags": []
   },
   "outputs": [
    {
     "data": {
      "image/png": "[encoded data removed]",
      "text/plain": [
       "<Figure size 640x480 with 1 Axes>"
      ]
     },
     "metadata": {},
     "output_type": "display_data"
    }
   ],
   "source": [
    "database.plot(kind='area')\n",
    "### Graphique HTML plotly : pour le subset du dataset\n",
    "fig = px.area(database, title=\"GHM les plus fréquents après une hospitalisation pour insuffisance cardiaque\",\n",
    "             labels={\n",
    "                     \"value\": \"Nombre de patients\",\n",
    "                     \"index\": \"Hospitalisation n°\",\n",
    "                     \"variable\" : \"GHM\"\n",
    "                 })\n",
    "fig.write_html(\"data/GHM_apres_IC_subset.html\")"
   ]
  },
  {
   "cell_type": "code",
   "execution_count": 141,
   "id": "f084dae7-38af-4003-8a14-1d1d221b5111",
   "metadata": {
    "tags": []
   },
   "outputs": [
    {
     "data": {
      "image/png": "[encoded data removed]",
      "text/plain": [
       "<Figure size 1000x600 with 1 Axes>"
      ]
     },
     "metadata": {},
     "output_type": "display_data"
    }
   ],
   "source": [
    "database.plot(kind='bar', stacked=True, colormap='tab20', figsize=(10, 6))\n",
    "plt.legend(loc=\"upper right\", ncol=2)\n",
    "plt.xlabel(\"N° hospitalisation\")\n",
    "plt.ylabel(\"Nombre de patients\")\n",
    "plt.title('Top 5 des GHM les plus fréquents pour la nième hospitalisation après IC')\n",
    "plt.show()"
   ]
  },
  {
   "cell_type": "markdown",
   "id": "c9731993",
   "metadata": {},
   "source": [
    "## Calcul des proportions"
   ]
  },
  {
   "cell_type": "code",
   "execution_count": 142,
   "id": "5e64c11c",
   "metadata": {
    "tags": []
   },
   "outputs": [],
   "source": [
    "prop=hospit_n[hospit_n.columns.repeat(df.shape[1])]\n",
    "cols=df.columns\n",
    "prop.columns=cols"
   ]
  },
  {
   "cell_type": "code",
   "execution_count": 143,
   "id": "06ef00ad",
   "metadata": {
    "tags": []
   },
   "outputs": [
    {
     "data": {
      "text/html": [
       "<div>\n",
       "<style scoped>\n",
       "    .dataframe tbody tr th:only-of-type {\n",
       "        vertical-align: middle;\n",
       "    }\n",
       "\n",
       "    .dataframe tbody tr th {\n",
       "        vertical-align: top;\n",
       "    }\n",
       "\n",
       "    .dataframe thead th {\n",
       "        text-align: right;\n",
       "    }\n",
       "</style>\n",
       "<table border=\"1\" class=\"dataframe\">\n",
       "  <thead>\n",
       "    <tr style=\"text-align: right;\">\n",
       "      <th></th>\n",
       "      <th>05M09x</th>\n",
       "      <th>05K101</th>\n",
       "      <th>02C05J</th>\n",
       "      <th>04M053</th>\n",
       "      <th>23M20Z</th>\n",
       "      <th>05K102</th>\n",
       "      <th>05M081</th>\n",
       "      <th>23M20T</th>\n",
       "      <th>05M08T</th>\n",
       "      <th>05K062</th>\n",
       "      <th>...</th>\n",
       "      <th>04C034</th>\n",
       "      <th>17M163</th>\n",
       "      <th>01M35T</th>\n",
       "      <th>05C214</th>\n",
       "      <th>09M111</th>\n",
       "      <th>21M152</th>\n",
       "      <th>03M073</th>\n",
       "      <th>13M051</th>\n",
       "      <th>21M151</th>\n",
       "      <th>07C071</th>\n",
       "    </tr>\n",
       "  </thead>\n",
       "  <tbody>\n",
       "    <tr>\n",
       "      <th>1</th>\n",
       "      <td>3749</td>\n",
       "      <td>3749</td>\n",
       "      <td>3749</td>\n",
       "      <td>3749</td>\n",
       "      <td>3749</td>\n",
       "      <td>3749</td>\n",
       "      <td>3749</td>\n",
       "      <td>3749</td>\n",
       "      <td>3749</td>\n",
       "      <td>3749</td>\n",
       "      <td>...</td>\n",
       "      <td>3749</td>\n",
       "      <td>3749</td>\n",
       "      <td>3749</td>\n",
       "      <td>3749</td>\n",
       "      <td>3749</td>\n",
       "      <td>3749</td>\n",
       "      <td>3749</td>\n",
       "      <td>3749</td>\n",
       "      <td>3749</td>\n",
       "      <td>3749</td>\n",
       "    </tr>\n",
       "    <tr>\n",
       "      <th>2</th>\n",
       "      <td>3053</td>\n",
       "      <td>3053</td>\n",
       "      <td>3053</td>\n",
       "      <td>3053</td>\n",
       "      <td>3053</td>\n",
       "      <td>3053</td>\n",
       "      <td>3053</td>\n",
       "      <td>3053</td>\n",
       "      <td>3053</td>\n",
       "      <td>3053</td>\n",
       "      <td>...</td>\n",
       "      <td>3053</td>\n",
       "      <td>3053</td>\n",
       "      <td>3053</td>\n",
       "      <td>3053</td>\n",
       "      <td>3053</td>\n",
       "      <td>3053</td>\n",
       "      <td>3053</td>\n",
       "      <td>3053</td>\n",
       "      <td>3053</td>\n",
       "      <td>3053</td>\n",
       "    </tr>\n",
       "    <tr>\n",
       "      <th>3</th>\n",
       "      <td>2437</td>\n",
       "      <td>2437</td>\n",
       "      <td>2437</td>\n",
       "      <td>2437</td>\n",
       "      <td>2437</td>\n",
       "      <td>2437</td>\n",
       "      <td>2437</td>\n",
       "      <td>2437</td>\n",
       "      <td>2437</td>\n",
       "      <td>2437</td>\n",
       "      <td>...</td>\n",
       "      <td>2437</td>\n",
       "      <td>2437</td>\n",
       "      <td>2437</td>\n",
       "      <td>2437</td>\n",
       "      <td>2437</td>\n",
       "      <td>2437</td>\n",
       "      <td>2437</td>\n",
       "      <td>2437</td>\n",
       "      <td>2437</td>\n",
       "      <td>2437</td>\n",
       "    </tr>\n",
       "    <tr>\n",
       "      <th>4</th>\n",
       "      <td>1956</td>\n",
       "      <td>1956</td>\n",
       "      <td>1956</td>\n",
       "      <td>1956</td>\n",
       "      <td>1956</td>\n",
       "      <td>1956</td>\n",
       "      <td>1956</td>\n",
       "      <td>1956</td>\n",
       "      <td>1956</td>\n",
       "      <td>1956</td>\n",
       "      <td>...</td>\n",
       "      <td>1956</td>\n",
       "      <td>1956</td>\n",
       "      <td>1956</td>\n",
       "      <td>1956</td>\n",
       "      <td>1956</td>\n",
       "      <td>1956</td>\n",
       "      <td>1956</td>\n",
       "      <td>1956</td>\n",
       "      <td>1956</td>\n",
       "      <td>1956</td>\n",
       "    </tr>\n",
       "    <tr>\n",
       "      <th>5</th>\n",
       "      <td>1571</td>\n",
       "      <td>1571</td>\n",
       "      <td>1571</td>\n",
       "      <td>1571</td>\n",
       "      <td>1571</td>\n",
       "      <td>1571</td>\n",
       "      <td>1571</td>\n",
       "      <td>1571</td>\n",
       "      <td>1571</td>\n",
       "      <td>1571</td>\n",
       "      <td>...</td>\n",
       "      <td>1571</td>\n",
       "      <td>1571</td>\n",
       "      <td>1571</td>\n",
       "      <td>1571</td>\n",
       "      <td>1571</td>\n",
       "      <td>1571</td>\n",
       "      <td>1571</td>\n",
       "      <td>1571</td>\n",
       "      <td>1571</td>\n",
       "      <td>1571</td>\n",
       "    </tr>\n",
       "  </tbody>\n",
       "</table>\n",
       "<p>5 rows × 1239 columns</p>\n",
       "</div>"
      ],
      "text/plain": [
       "  05M09x 05K101 02C05J 04M053 23M20Z 05K102 05M081 23M20T 05M08T 05K062  ...  \\\n",
       "1   3749   3749   3749   3749   3749   3749   3749   3749   3749   3749  ...   \n",
       "2   3053   3053   3053   3053   3053   3053   3053   3053   3053   3053  ...   \n",
       "3   2437   2437   2437   2437   2437   2437   2437   2437   2437   2437  ...   \n",
       "4   1956   1956   1956   1956   1956   1956   1956   1956   1956   1956  ...   \n",
       "5   1571   1571   1571   1571   1571   1571   1571   1571   1571   1571  ...   \n",
       "\n",
       "  04C034 17M163 01M35T 05C214 09M111 21M152 03M073 13M051 21M151 07C071  \n",
       "1   3749   3749   3749   3749   3749   3749   3749   3749   3749   3749  \n",
       "2   3053   3053   3053   3053   3053   3053   3053   3053   3053   3053  \n",
       "3   2437   2437   2437   2437   2437   2437   2437   2437   2437   2437  \n",
       "4   1956   1956   1956   1956   1956   1956   1956   1956   1956   1956  \n",
       "5   1571   1571   1571   1571   1571   1571   1571   1571   1571   1571  \n",
       "\n",
       "[5 rows x 1239 columns]"
      ]
     },
     "execution_count": 143,
     "metadata": {},
     "output_type": "execute_result"
    }
   ],
   "source": [
    "prop.head()"
   ]
  },
  {
   "cell_type": "code",
   "execution_count": 144,
   "id": "a65f6767",
   "metadata": {
    "tags": []
   },
   "outputs": [],
   "source": [
    "df=df/prop"
   ]
  },
  {
   "cell_type": "code",
   "execution_count": 145,
   "id": "11a0c49d",
   "metadata": {
    "tags": []
   },
   "outputs": [
    {
     "data": {
      "text/html": [
       "<div>\n",
       "<style scoped>\n",
       "    .dataframe tbody tr th:only-of-type {\n",
       "        vertical-align: middle;\n",
       "    }\n",
       "\n",
       "    .dataframe tbody tr th {\n",
       "        vertical-align: top;\n",
       "    }\n",
       "\n",
       "    .dataframe thead th {\n",
       "        text-align: right;\n",
       "    }\n",
       "</style>\n",
       "<table border=\"1\" class=\"dataframe\">\n",
       "  <thead>\n",
       "    <tr style=\"text-align: right;\">\n",
       "      <th></th>\n",
       "      <th>05M09x</th>\n",
       "      <th>05K101</th>\n",
       "      <th>02C05J</th>\n",
       "      <th>04M053</th>\n",
       "      <th>23M20Z</th>\n",
       "      <th>05K102</th>\n",
       "      <th>05M081</th>\n",
       "      <th>23M20T</th>\n",
       "      <th>05M08T</th>\n",
       "      <th>05K062</th>\n",
       "      <th>...</th>\n",
       "      <th>04C034</th>\n",
       "      <th>17M163</th>\n",
       "      <th>01M35T</th>\n",
       "      <th>05C214</th>\n",
       "      <th>09M111</th>\n",
       "      <th>21M152</th>\n",
       "      <th>03M073</th>\n",
       "      <th>13M051</th>\n",
       "      <th>21M151</th>\n",
       "      <th>07C071</th>\n",
       "    </tr>\n",
       "  </thead>\n",
       "  <tbody>\n",
       "    <tr>\n",
       "      <th>1</th>\n",
       "      <td>1.0</td>\n",
       "      <td>NaN</td>\n",
       "      <td>NaN</td>\n",
       "      <td>NaN</td>\n",
       "      <td>NaN</td>\n",
       "      <td>NaN</td>\n",
       "      <td>NaN</td>\n",
       "      <td>NaN</td>\n",
       "      <td>NaN</td>\n",
       "      <td>NaN</td>\n",
       "      <td>...</td>\n",
       "      <td>NaN</td>\n",
       "      <td>NaN</td>\n",
       "      <td>NaN</td>\n",
       "      <td>NaN</td>\n",
       "      <td>NaN</td>\n",
       "      <td>NaN</td>\n",
       "      <td>NaN</td>\n",
       "      <td>NaN</td>\n",
       "      <td>NaN</td>\n",
       "      <td>NaN</td>\n",
       "    </tr>\n",
       "    <tr>\n",
       "      <th>2</th>\n",
       "      <td>0.198166</td>\n",
       "      <td>0.039306</td>\n",
       "      <td>0.018998</td>\n",
       "      <td>0.01605</td>\n",
       "      <td>0.01474</td>\n",
       "      <td>0.012774</td>\n",
       "      <td>0.010481</td>\n",
       "      <td>0.009826</td>\n",
       "      <td>0.008844</td>\n",
       "      <td>0.008189</td>\n",
       "      <td>...</td>\n",
       "      <td>NaN</td>\n",
       "      <td>NaN</td>\n",
       "      <td>NaN</td>\n",
       "      <td>NaN</td>\n",
       "      <td>NaN</td>\n",
       "      <td>NaN</td>\n",
       "      <td>NaN</td>\n",
       "      <td>NaN</td>\n",
       "      <td>NaN</td>\n",
       "      <td>NaN</td>\n",
       "    </tr>\n",
       "    <tr>\n",
       "      <th>3</th>\n",
       "      <td>0.18014</td>\n",
       "      <td>0.013541</td>\n",
       "      <td>0.025851</td>\n",
       "      <td>0.014772</td>\n",
       "      <td>0.013131</td>\n",
       "      <td>0.008207</td>\n",
       "      <td>0.005334</td>\n",
       "      <td>0.0119</td>\n",
       "      <td>0.005745</td>\n",
       "      <td>0.004924</td>\n",
       "      <td>...</td>\n",
       "      <td>NaN</td>\n",
       "      <td>NaN</td>\n",
       "      <td>NaN</td>\n",
       "      <td>NaN</td>\n",
       "      <td>NaN</td>\n",
       "      <td>NaN</td>\n",
       "      <td>NaN</td>\n",
       "      <td>NaN</td>\n",
       "      <td>NaN</td>\n",
       "      <td>NaN</td>\n",
       "    </tr>\n",
       "    <tr>\n",
       "      <th>4</th>\n",
       "      <td>0.167178</td>\n",
       "      <td>0.014315</td>\n",
       "      <td>0.024029</td>\n",
       "      <td>0.018405</td>\n",
       "      <td>0.012781</td>\n",
       "      <td>0.006135</td>\n",
       "      <td>0.005624</td>\n",
       "      <td>0.009202</td>\n",
       "      <td>0.006135</td>\n",
       "      <td>0.004601</td>\n",
       "      <td>...</td>\n",
       "      <td>NaN</td>\n",
       "      <td>NaN</td>\n",
       "      <td>NaN</td>\n",
       "      <td>NaN</td>\n",
       "      <td>NaN</td>\n",
       "      <td>NaN</td>\n",
       "      <td>NaN</td>\n",
       "      <td>NaN</td>\n",
       "      <td>NaN</td>\n",
       "      <td>NaN</td>\n",
       "    </tr>\n",
       "    <tr>\n",
       "      <th>5</th>\n",
       "      <td>0.151496</td>\n",
       "      <td>0.01464</td>\n",
       "      <td>0.022915</td>\n",
       "      <td>0.011458</td>\n",
       "      <td>0.011458</td>\n",
       "      <td>0.003183</td>\n",
       "      <td>0.000637</td>\n",
       "      <td>0.012731</td>\n",
       "      <td>0.003183</td>\n",
       "      <td>0.007002</td>\n",
       "      <td>...</td>\n",
       "      <td>NaN</td>\n",
       "      <td>NaN</td>\n",
       "      <td>NaN</td>\n",
       "      <td>NaN</td>\n",
       "      <td>NaN</td>\n",
       "      <td>NaN</td>\n",
       "      <td>NaN</td>\n",
       "      <td>NaN</td>\n",
       "      <td>NaN</td>\n",
       "      <td>NaN</td>\n",
       "    </tr>\n",
       "  </tbody>\n",
       "</table>\n",
       "<p>5 rows × 1239 columns</p>\n",
       "</div>"
      ],
      "text/plain": [
       "     05M09x    05K101    02C05J    04M053    23M20Z    05K102    05M081  \\\n",
       "1       1.0       NaN       NaN       NaN       NaN       NaN       NaN   \n",
       "2  0.198166  0.039306  0.018998   0.01605   0.01474  0.012774  0.010481   \n",
       "3   0.18014  0.013541  0.025851  0.014772  0.013131  0.008207  0.005334   \n",
       "4  0.167178  0.014315  0.024029  0.018405  0.012781  0.006135  0.005624   \n",
       "5  0.151496   0.01464  0.022915  0.011458  0.011458  0.003183  0.000637   \n",
       "\n",
       "     23M20T    05M08T    05K062  ... 04C034 17M163 01M35T 05C214 09M111  \\\n",
       "1       NaN       NaN       NaN  ...    NaN    NaN    NaN    NaN    NaN   \n",
       "2  0.009826  0.008844  0.008189  ...    NaN    NaN    NaN    NaN    NaN   \n",
       "3    0.0119  0.005745  0.004924  ...    NaN    NaN    NaN    NaN    NaN   \n",
       "4  0.009202  0.006135  0.004601  ...    NaN    NaN    NaN    NaN    NaN   \n",
       "5  0.012731  0.003183  0.007002  ...    NaN    NaN    NaN    NaN    NaN   \n",
       "\n",
       "  21M152 03M073 13M051 21M151 07C071  \n",
       "1    NaN    NaN    NaN    NaN    NaN  \n",
       "2    NaN    NaN    NaN    NaN    NaN  \n",
       "3    NaN    NaN    NaN    NaN    NaN  \n",
       "4    NaN    NaN    NaN    NaN    NaN  \n",
       "5    NaN    NaN    NaN    NaN    NaN  \n",
       "\n",
       "[5 rows x 1239 columns]"
      ]
     },
     "execution_count": 145,
     "metadata": {},
     "output_type": "execute_result"
    }
   ],
   "source": [
    "df.head()"
   ]
  },
  {
   "cell_type": "code",
   "execution_count": 146,
   "id": "bcaf1e6a-0cda-44f2-ab48-31ccace1955a",
   "metadata": {
    "tags": []
   },
   "outputs": [],
   "source": [
    "# Export des différents types d'hospitalisations et de leurs proportions\n",
    "df.to_csv(\"./data/hospit_IC_prop.csv\")"
   ]
  },
  {
   "cell_type": "code",
   "execution_count": 147,
   "id": "f58bcc36-789b-4209-a7d1-1bb302a7a0aa",
   "metadata": {
    "tags": []
   },
   "outputs": [],
   "source": [
    "%%capture capt\n",
    "fig = px.area(df, title=\"Proportions de GHM après une hospitalisation pour insuffisance cardiaque\",\n",
    "             labels={\n",
    "                     \"value\": \"Proportion\",\n",
    "                     \"index\": \"Hospitalisation n°\",\n",
    "                     \"variable\" : \"GHM\"\n",
    "                 })\n",
    "fig.write_html(\"data/GHM_apres_IC_prop.html\")"
   ]
  },
  {
   "cell_type": "code",
   "execution_count": 148,
   "id": "456643f9-41a6-42f0-a20c-d09108b036b4",
   "metadata": {
    "tags": []
   },
   "outputs": [
    {
     "data": {
      "text/html": [
       "<div>\n",
       "<style scoped>\n",
       "    .dataframe tbody tr th:only-of-type {\n",
       "        vertical-align: middle;\n",
       "    }\n",
       "\n",
       "    .dataframe tbody tr th {\n",
       "        vertical-align: top;\n",
       "    }\n",
       "\n",
       "    .dataframe thead th {\n",
       "        text-align: right;\n",
       "    }\n",
       "</style>\n",
       "<table border=\"1\" class=\"dataframe\">\n",
       "  <thead>\n",
       "    <tr style=\"text-align: right;\">\n",
       "      <th></th>\n",
       "      <th>05M09x</th>\n",
       "      <th>02C05J</th>\n",
       "      <th>04M052</th>\n",
       "      <th>04M053</th>\n",
       "      <th>05K061</th>\n",
       "      <th>05K101</th>\n",
       "      <th>10M163</th>\n",
       "      <th>16M112</th>\n",
       "      <th>23K02Z</th>\n",
       "      <th>23M20T</th>\n",
       "      <th>23M20Z</th>\n",
       "    </tr>\n",
       "  </thead>\n",
       "  <tbody>\n",
       "    <tr>\n",
       "      <th>0</th>\n",
       "      <td>1.0</td>\n",
       "      <td>NaN</td>\n",
       "      <td>NaN</td>\n",
       "      <td>NaN</td>\n",
       "      <td>NaN</td>\n",
       "      <td>NaN</td>\n",
       "      <td>NaN</td>\n",
       "      <td>NaN</td>\n",
       "      <td>NaN</td>\n",
       "      <td>NaN</td>\n",
       "      <td>NaN</td>\n",
       "    </tr>\n",
       "    <tr>\n",
       "      <th>1</th>\n",
       "      <td>0.198166</td>\n",
       "      <td>0.018998</td>\n",
       "      <td>NaN</td>\n",
       "      <td>0.01605</td>\n",
       "      <td>NaN</td>\n",
       "      <td>0.039306</td>\n",
       "      <td>NaN</td>\n",
       "      <td>NaN</td>\n",
       "      <td>NaN</td>\n",
       "      <td>NaN</td>\n",
       "      <td>0.01474</td>\n",
       "    </tr>\n",
       "    <tr>\n",
       "      <th>2</th>\n",
       "      <td>0.18014</td>\n",
       "      <td>0.025851</td>\n",
       "      <td>NaN</td>\n",
       "      <td>0.014772</td>\n",
       "      <td>NaN</td>\n",
       "      <td>0.013541</td>\n",
       "      <td>NaN</td>\n",
       "      <td>NaN</td>\n",
       "      <td>NaN</td>\n",
       "      <td>NaN</td>\n",
       "      <td>0.013131</td>\n",
       "    </tr>\n",
       "    <tr>\n",
       "      <th>3</th>\n",
       "      <td>0.167178</td>\n",
       "      <td>0.024029</td>\n",
       "      <td>NaN</td>\n",
       "      <td>0.018405</td>\n",
       "      <td>NaN</td>\n",
       "      <td>0.014315</td>\n",
       "      <td>NaN</td>\n",
       "      <td>NaN</td>\n",
       "      <td>NaN</td>\n",
       "      <td>NaN</td>\n",
       "      <td>0.012781</td>\n",
       "    </tr>\n",
       "    <tr>\n",
       "      <th>4</th>\n",
       "      <td>0.151496</td>\n",
       "      <td>0.022915</td>\n",
       "      <td>NaN</td>\n",
       "      <td>0.011458</td>\n",
       "      <td>NaN</td>\n",
       "      <td>0.01464</td>\n",
       "      <td>NaN</td>\n",
       "      <td>NaN</td>\n",
       "      <td>NaN</td>\n",
       "      <td>0.012731</td>\n",
       "      <td>NaN</td>\n",
       "    </tr>\n",
       "  </tbody>\n",
       "</table>\n",
       "</div>"
      ],
      "text/plain": [
       "     05M09x    02C05J 04M052    04M053 05K061    05K101 10M163 16M112 23K02Z  \\\n",
       "0       1.0       NaN    NaN       NaN    NaN       NaN    NaN    NaN    NaN   \n",
       "1  0.198166  0.018998    NaN   0.01605    NaN  0.039306    NaN    NaN    NaN   \n",
       "2   0.18014  0.025851    NaN  0.014772    NaN  0.013541    NaN    NaN    NaN   \n",
       "3  0.167178  0.024029    NaN  0.018405    NaN  0.014315    NaN    NaN    NaN   \n",
       "4  0.151496  0.022915    NaN  0.011458    NaN   0.01464    NaN    NaN    NaN   \n",
       "\n",
       "     23M20T    23M20Z  \n",
       "0       NaN       NaN  \n",
       "1       NaN   0.01474  \n",
       "2       NaN  0.013131  \n",
       "3       NaN  0.012781  \n",
       "4  0.012731       NaN  "
      ]
     },
     "execution_count": 148,
     "metadata": {},
     "output_type": "execute_result"
    }
   ],
   "source": [
    "len_parcours=10\n",
    "top_k=5\n",
    "\n",
    "L=[]\n",
    "for i in range(len_parcours):\n",
    "    L.append(df.iloc[i].sort_values(ascending=False)[:top_k])\n",
    "    \n",
    "database={}\n",
    "for i in range(len_parcours):\n",
    "    database[f'{i}']=L[i].sort_values(ascending=False)[:top_k]\n",
    "\n",
    "database= pd.DataFrame(database)\n",
    "database= database.transpose()\n",
    "\n",
    "# on met le GHM pour IC en position 0\n",
    "colonnes = list(database.columns)\n",
    "colonnes.remove('05M09x')\n",
    "colonnes=['05M09x']+colonnes\n",
    "database=database[colonnes]\n",
    "\n",
    "database.head()"
   ]
  },
  {
   "cell_type": "code",
   "execution_count": 149,
   "id": "d81d8df6",
   "metadata": {
    "tags": []
   },
   "outputs": [
    {
     "data": {
      "image/png": "[encoded data removed]",
      "text/plain": [
       "<Figure size 1000x600 with 1 Axes>"
      ]
     },
     "metadata": {},
     "output_type": "display_data"
    }
   ],
   "source": [
    "database.plot(kind='bar', stacked=True, colormap='tab20', figsize=(10, 6))\n",
    "plt.legend(loc=\"upper right\", ncol=2)\n",
    "plt.xlabel(\"Hospitalisation numéro\")\n",
    "plt.ylabel(\"Proportion\")\n",
    "plt.title('Proportions de GHM les plus fréquents après une hospitalisation pour insuffisance cardiaque')\n",
    "plt.show()"
   ]
  },
  {
   "cell_type": "code",
   "execution_count": 150,
   "id": "006ebad9-bd3a-49b3-886e-eebd4ad7e15e",
   "metadata": {
    "tags": []
   },
   "outputs": [
    {
     "data": {
      "application/vnd.plotly.v1+json": {
       "config": {
        "plotlyServerURL": "https://plot.ly"
       },
       "data": [
        {
         "fillpattern": {
          "shape": ""
         },
         "hovertemplate": "GHM=05M09x<br>Hospitalisation n°=%{x}<br>Proportion=%{y}<extra></extra>",
         "legendgroup": "05M09x",
         "line": {
          "color": "#636efa"
         },
         "marker": {
          "symbol": "circle"
         },
         "mode": "lines",
         "name": "05M09x",
         "orientation": "v",
         "showlegend": true,
         "stackgroup": "1",
         "type": "scatter",
         "x": [
          "0",
          "1",
          "2",
          "3",
          "4",
          "5",
          "6",
          "7",
          "8",
          "9"
         ],
         "xaxis": "x",
         "y": [
          1,
          0.19816573861775302,
          0.18013951579811244,
          0.16717791411042945,
          0.1514958625079567,
          0.15366049879324215,
          0.15816326530612246,
          0.13860103626943004,
          0.12680577849117175,
          0.13745019920318724
         ],
         "yaxis": "y"
        },
        {
         "fillpattern": {
          "shape": ""
         },
         "hovertemplate": "GHM=02C05J<br>Hospitalisation n°=%{x}<br>Proportion=%{y}<extra></extra>",
         "legendgroup": "02C05J",
         "line": {
          "color": "#EF553B"
         },
         "marker": {
          "symbol": "circle"
         },
         "mode": "lines",
         "name": "02C05J",
         "orientation": "v",
         "showlegend": true,
         "stackgroup": "1",
         "type": "scatter",
         "x": [
          "0",
          "1",
          "2",
          "3",
          "4",
          "5",
          "6",
          "7",
          "8",
          "9"
         ],
         "xaxis": "x",
         "y": [
          null,
          0.01899770717327219,
          0.025851456709068528,
          0.024028629856850715,
          0.022915340547422024,
          0.02413515687851971,
          0.02346938775510204,
          0.027202072538860103,
          0.016051364365971106,
          null
         ],
         "yaxis": "y"
        },
        {
         "fillpattern": {
          "shape": ""
         },
         "hovertemplate": "GHM=04M052<br>Hospitalisation n°=%{x}<br>Proportion=%{y}<extra></extra>",
         "legendgroup": "04M052",
         "line": {
          "color": "#00cc96"
         },
         "marker": {
          "symbol": "circle"
         },
         "mode": "lines",
         "name": "04M052",
         "orientation": "v",
         "showlegend": true,
         "stackgroup": "1",
         "type": "scatter",
         "x": [
          "0",
          "1",
          "2",
          "3",
          "4",
          "5",
          "6",
          "7",
          "8",
          "9"
         ],
         "xaxis": "x",
         "y": [
          null,
          null,
          null,
          null,
          null,
          0.011263073209975865,
          null,
          null,
          null,
          0.013944223107569721
         ],
         "yaxis": "y"
        },
        {
         "fillpattern": {
          "shape": ""
         },
         "hovertemplate": "GHM=04M053<br>Hospitalisation n°=%{x}<br>Proportion=%{y}<extra></extra>",
         "legendgroup": "04M053",
         "line": {
          "color": "#ab63fa"
         },
         "marker": {
          "symbol": "circle"
         },
         "mode": "lines",
         "name": "04M053",
         "orientation": "v",
         "showlegend": true,
         "stackgroup": "1",
         "type": "scatter",
         "x": [
          "0",
          "1",
          "2",
          "3",
          "4",
          "5",
          "6",
          "7",
          "8",
          "9"
         ],
         "xaxis": "x",
         "y": [
          null,
          0.01604978709466099,
          0.014772260976610586,
          0.018404907975460124,
          0.011457670273711012,
          null,
          0.015306122448979591,
          null,
          null,
          null
         ],
         "yaxis": "y"
        },
        {
         "fillpattern": {
          "shape": ""
         },
         "hovertemplate": "GHM=05K061<br>Hospitalisation n°=%{x}<br>Proportion=%{y}<extra></extra>",
         "legendgroup": "05K061",
         "line": {
          "color": "#FFA15A"
         },
         "marker": {
          "symbol": "circle"
         },
         "mode": "lines",
         "name": "05K061",
         "orientation": "v",
         "showlegend": true,
         "stackgroup": "1",
         "type": "scatter",
         "x": [
          "0",
          "1",
          "2",
          "3",
          "4",
          "5",
          "6",
          "7",
          "8",
          "9"
         ],
         "xaxis": "x",
         "y": [
          null,
          null,
          null,
          null,
          null,
          null,
          null,
          0.012953367875647668,
          null,
          null
         ],
         "yaxis": "y"
        },
        {
         "fillpattern": {
          "shape": ""
         },
         "hovertemplate": "GHM=05K101<br>Hospitalisation n°=%{x}<br>Proportion=%{y}<extra></extra>",
         "legendgroup": "05K101",
         "line": {
          "color": "#19d3f3"
         },
         "marker": {
          "symbol": "circle"
         },
         "mode": "lines",
         "name": "05K101",
         "orientation": "v",
         "showlegend": true,
         "stackgroup": "1",
         "type": "scatter",
         "x": [
          "0",
          "1",
          "2",
          "3",
          "4",
          "5",
          "6",
          "7",
          "8",
          "9"
         ],
         "xaxis": "x",
         "y": [
          null,
          0.03930560104814936,
          0.013541239228559704,
          0.014314928425357873,
          0.01464035646085296,
          0.015285599356395816,
          0.015306122448979591,
          0.019430051813471502,
          0.012841091492776886,
          0.01195219123505976
         ],
         "yaxis": "y"
        },
        {
         "fillpattern": {
          "shape": ""
         },
         "hovertemplate": "GHM=10M163<br>Hospitalisation n°=%{x}<br>Proportion=%{y}<extra></extra>",
         "legendgroup": "10M163",
         "line": {
          "color": "#FF6692"
         },
         "marker": {
          "symbol": "circle"
         },
         "mode": "lines",
         "name": "10M163",
         "orientation": "v",
         "showlegend": true,
         "stackgroup": "1",
         "type": "scatter",
         "x": [
          "0",
          "1",
          "2",
          "3",
          "4",
          "5",
          "6",
          "7",
          "8",
          "9"
         ],
         "xaxis": "x",
         "y": [
          null,
          null,
          null,
          null,
          null,
          null,
          null,
          null,
          null,
          0.01195219123505976
         ],
         "yaxis": "y"
        },
        {
         "fillpattern": {
          "shape": ""
         },
         "hovertemplate": "GHM=16M112<br>Hospitalisation n°=%{x}<br>Proportion=%{y}<extra></extra>",
         "legendgroup": "16M112",
         "line": {
          "color": "#B6E880"
         },
         "marker": {
          "symbol": "circle"
         },
         "mode": "lines",
         "name": "16M112",
         "orientation": "v",
         "showlegend": true,
         "stackgroup": "1",
         "type": "scatter",
         "x": [
          "0",
          "1",
          "2",
          "3",
          "4",
          "5",
          "6",
          "7",
          "8",
          "9"
         ],
         "xaxis": "x",
         "y": [
          null,
          null,
          null,
          null,
          null,
          null,
          null,
          null,
          null,
          0.01195219123505976
         ],
         "yaxis": "y"
        },
        {
         "fillpattern": {
          "shape": ""
         },
         "hovertemplate": "GHM=23K02Z<br>Hospitalisation n°=%{x}<br>Proportion=%{y}<extra></extra>",
         "legendgroup": "23K02Z",
         "line": {
          "color": "#FF97FF"
         },
         "marker": {
          "symbol": "circle"
         },
         "mode": "lines",
         "name": "23K02Z",
         "orientation": "v",
         "showlegend": true,
         "stackgroup": "1",
         "type": "scatter",
         "x": [
          "0",
          "1",
          "2",
          "3",
          "4",
          "5",
          "6",
          "7",
          "8",
          "9"
         ],
         "xaxis": "x",
         "y": [
          null,
          null,
          null,
          null,
          null,
          null,
          null,
          null,
          0.014446227929373997,
          null
         ],
         "yaxis": "y"
        },
        {
         "fillpattern": {
          "shape": ""
         },
         "hovertemplate": "GHM=23M20T<br>Hospitalisation n°=%{x}<br>Proportion=%{y}<extra></extra>",
         "legendgroup": "23M20T",
         "line": {
          "color": "#FECB52"
         },
         "marker": {
          "symbol": "circle"
         },
         "mode": "lines",
         "name": "23M20T",
         "orientation": "v",
         "showlegend": true,
         "stackgroup": "1",
         "type": "scatter",
         "x": [
          "0",
          "1",
          "2",
          "3",
          "4",
          "5",
          "6",
          "7",
          "8",
          "9"
         ],
         "xaxis": "x",
         "y": [
          null,
          null,
          null,
          null,
          0.012730744748567792,
          null,
          0.012244897959183673,
          null,
          null,
          null
         ],
         "yaxis": "y"
        },
        {
         "fillpattern": {
          "shape": ""
         },
         "hovertemplate": "GHM=23M20Z<br>Hospitalisation n°=%{x}<br>Proportion=%{y}<extra></extra>",
         "legendgroup": "23M20Z",
         "line": {
          "color": "#636efa"
         },
         "marker": {
          "symbol": "circle"
         },
         "mode": "lines",
         "name": "23M20Z",
         "orientation": "v",
         "showlegend": true,
         "stackgroup": "1",
         "type": "scatter",
         "x": [
          "0",
          "1",
          "2",
          "3",
          "4",
          "5",
          "6",
          "7",
          "8",
          "9"
         ],
         "xaxis": "x",
         "y": [
          null,
          0.01473960039305601,
          0.013130898645876077,
          0.01278118609406953,
          null,
          0.012872083668543845,
          null,
          0.015544041450777202,
          0.014446227929373997,
          null
         ],
         "yaxis": "y"
        }
       ],
       "layout": {
        "legend": {
         "title": {
          "text": "GHM"
         },
         "tracegroupgap": 0
        },
        "template": {
         "data": {
          "bar": [
           {
            "error_x": {
             "color": "#2a3f5f"
            },
            "error_y": {
             "color": "#2a3f5f"
            },
            "marker": {
             "line": {
              "color": "#E5ECF6",
              "width": 0.5
             },
             "pattern": {
              "fillmode": "overlay",
              "size": 10,
              "solidity": 0.2
             }
            },
            "type": "bar"
           }
          ],
          "barpolar": [
           {
            "marker": {
             "line": {
              "color": "#E5ECF6",
              "width": 0.5
             },
             "pattern": {
              "fillmode": "overlay",
              "size": 10,
              "solidity": 0.2
             }
            },
            "type": "barpolar"
           }
          ],
          "carpet": [
           {
            "aaxis": {
             "endlinecolor": "#2a3f5f",
             "gridcolor": "white",
             "linecolor": "white",
             "minorgridcolor": "white",
             "startlinecolor": "#2a3f5f"
            },
            "baxis": {
             "endlinecolor": "#2a3f5f",
             "gridcolor": "white",
             "linecolor": "white",
             "minorgridcolor": "white",
             "startlinecolor": "#2a3f5f"
            },
            "type": "carpet"
           }
          ],
          "choropleth": [
           {
            "colorbar": {
             "outlinewidth": 0,
             "ticks": ""
            },
            "type": "choropleth"
           }
          ],
          "contour": [
           {
            "colorbar": {
             "outlinewidth": 0,
             "ticks": ""
            },
            "colorscale": [
             [
              0,
              "#0d0887"
             ],
             [
              0.1111111111111111,
              "#46039f"
             ],
             [
              0.2222222222222222,
              "#7201a8"
             ],
             [
              0.3333333333333333,
              "#9c179e"
             ],
             [
              0.4444444444444444,
              "#bd3786"
             ],
             [
              0.5555555555555556,
              "#d8576b"
             ],
             [
              0.6666666666666666,
              "#ed7953"
             ],
             [
              0.7777777777777778,
              "#fb9f3a"
             ],
             [
              0.8888888888888888,
              "#fdca26"
             ],
             [
              1,
              "#f0f921"
             ]
            ],
            "type": "contour"
           }
          ],
          "contourcarpet": [
           {
            "colorbar": {
             "outlinewidth": 0,
             "ticks": ""
            },
            "type": "contourcarpet"
           }
          ],
          "heatmap": [
           {
            "colorbar": {
             "outlinewidth": 0,
             "ticks": ""
            },
            "colorscale": [
             [
              0,
              "#0d0887"
             ],
             [
              0.1111111111111111,
              "#46039f"
             ],
             [
              0.2222222222222222,
              "#7201a8"
             ],
             [
              0.3333333333333333,
              "#9c179e"
             ],
             [
              0.4444444444444444,
              "#bd3786"
             ],
             [
              0.5555555555555556,
              "#d8576b"
             ],
             [
              0.6666666666666666,
              "#ed7953"
             ],
             [
              0.7777777777777778,
              "#fb9f3a"
             ],
             [
              0.8888888888888888,
              "#fdca26"
             ],
             [
              1,
              "#f0f921"
             ]
            ],
            "type": "heatmap"
           }
          ],
          "heatmapgl": [
           {
            "colorbar": {
             "outlinewidth": 0,
             "ticks": ""
            },
            "colorscale": [
             [
              0,
              "#0d0887"
             ],
             [
              0.1111111111111111,
              "#46039f"
             ],
             [
              0.2222222222222222,
              "#7201a8"
             ],
             [
              0.3333333333333333,
              "#9c179e"
             ],
             [
              0.4444444444444444,
              "#bd3786"
             ],
             [
              0.5555555555555556,
              "#d8576b"
             ],
             [
              0.6666666666666666,
              "#ed7953"
             ],
             [
              0.7777777777777778,
              "#fb9f3a"
             ],
             [
              0.8888888888888888,
              "#fdca26"
             ],
             [
              1,
              "#f0f921"
             ]
            ],
            "type": "heatmapgl"
           }
          ],
          "histogram": [
           {
            "marker": {
             "pattern": {
              "fillmode": "overlay",
              "size": 10,
              "solidity": 0.2
             }
            },
            "type": "histogram"
           }
          ],
          "histogram2d": [
           {
            "colorbar": {
             "outlinewidth": 0,
             "ticks": ""
            },
            "colorscale": [
             [
              0,
              "#0d0887"
             ],
             [
              0.1111111111111111,
              "#46039f"
             ],
             [
              0.2222222222222222,
              "#7201a8"
             ],
             [
              0.3333333333333333,
              "#9c179e"
             ],
             [
              0.4444444444444444,
              "#bd3786"
             ],
             [
              0.5555555555555556,
              "#d8576b"
             ],
             [
              0.6666666666666666,
              "#ed7953"
             ],
             [
              0.7777777777777778,
              "#fb9f3a"
             ],
             [
              0.8888888888888888,
              "#fdca26"
             ],
             [
              1,
              "#f0f921"
             ]
            ],
            "type": "histogram2d"
           }
          ],
          "histogram2dcontour": [
           {
            "colorbar": {
             "outlinewidth": 0,
             "ticks": ""
            },
            "colorscale": [
             [
              0,
              "#0d0887"
             ],
             [
              0.1111111111111111,
              "#46039f"
             ],
             [
              0.2222222222222222,
              "#7201a8"
             ],
             [
              0.3333333333333333,
              "#9c179e"
             ],
             [
              0.4444444444444444,
              "#bd3786"
             ],
             [
              0.5555555555555556,
              "#d8576b"
             ],
             [
              0.6666666666666666,
              "#ed7953"
             ],
             [
              0.7777777777777778,
              "#fb9f3a"
             ],
             [
              0.8888888888888888,
              "#fdca26"
             ],
             [
              1,
              "#f0f921"
             ]
            ],
            "type": "histogram2dcontour"
           }
          ],
          "mesh3d": [
           {
            "colorbar": {
             "outlinewidth": 0,
             "ticks": ""
            },
            "type": "mesh3d"
           }
          ],
          "parcoords": [
           {
            "line": {
             "colorbar": {
              "outlinewidth": 0,
              "ticks": ""
             }
            },
            "type": "parcoords"
           }
          ],
          "pie": [
           {
            "automargin": true,
            "type": "pie"
           }
          ],
          "scatter": [
           {
            "fillpattern": {
             "fillmode": "overlay",
             "size": 10,
             "solidity": 0.2
            },
            "type": "scatter"
           }
          ],
          "scatter3d": [
           {
            "line": {
             "colorbar": {
              "outlinewidth": 0,
              "ticks": ""
             }
            },
            "marker": {
             "colorbar": {
              "outlinewidth": 0,
              "ticks": ""
             }
            },
            "type": "scatter3d"
           }
          ],
          "scattercarpet": [
           {
            "marker": {
             "colorbar": {
              "outlinewidth": 0,
              "ticks": ""
             }
            },
            "type": "scattercarpet"
           }
          ],
          "scattergeo": [
           {
            "marker": {
             "colorbar": {
              "outlinewidth": 0,
              "ticks": ""
             }
            },
            "type": "scattergeo"
           }
          ],
          "scattergl": [
           {
            "marker": {
             "colorbar": {
              "outlinewidth": 0,
              "ticks": ""
             }
            },
            "type": "scattergl"
           }
          ],
          "scattermapbox": [
           {
            "marker": {
             "colorbar": {
              "outlinewidth": 0,
              "ticks": ""
             }
            },
            "type": "scattermapbox"
           }
          ],
          "scatterpolar": [
           {
            "marker": {
             "colorbar": {
              "outlinewidth": 0,
              "ticks": ""
             }
            },
            "type": "scatterpolar"
           }
          ],
          "scatterpolargl": [
           {
            "marker": {
             "colorbar": {
              "outlinewidth": 0,
              "ticks": ""
             }
            },
            "type": "scatterpolargl"
           }
          ],
          "scatterternary": [
           {
            "marker": {
             "colorbar": {
              "outlinewidth": 0,
              "ticks": ""
             }
            },
            "type": "scatterternary"
           }
          ],
          "surface": [
           {
            "colorbar": {
             "outlinewidth": 0,
             "ticks": ""
            },
            "colorscale": [
             [
              0,
              "#0d0887"
             ],
             [
              0.1111111111111111,
              "#46039f"
             ],
             [
              0.2222222222222222,
              "#7201a8"
             ],
             [
              0.3333333333333333,
              "#9c179e"
             ],
             [
              0.4444444444444444,
              "#bd3786"
             ],
             [
              0.5555555555555556,
              "#d8576b"
             ],
             [
              0.6666666666666666,
              "#ed7953"
             ],
             [
              0.7777777777777778,
              "#fb9f3a"
             ],
             [
              0.8888888888888888,
              "#fdca26"
             ],
             [
              1,
              "#f0f921"
             ]
            ],
            "type": "surface"
           }
          ],
          "table": [
           {
            "cells": {
             "fill": {
              "color": "#EBF0F8"
             },
             "line": {
              "color": "white"
             }
            },
            "header": {
             "fill": {
              "color": "#C8D4E3"
             },
             "line": {
              "color": "white"
             }
            },
            "type": "table"
           }
          ]
         },
         "layout": {
          "annotationdefaults": {
           "arrowcolor": "#2a3f5f",
           "arrowhead": 0,
           "arrowwidth": 1
          },
          "autotypenumbers": "strict",
          "coloraxis": {
           "colorbar": {
            "outlinewidth": 0,
            "ticks": ""
           }
          },
          "colorscale": {
           "diverging": [
            [
             0,
             "#8e0152"
            ],
            [
             0.1,
             "#c51b7d"
            ],
            [
             0.2,
             "#de77ae"
            ],
            [
             0.3,
             "#f1b6da"
            ],
            [
             0.4,
             "#fde0ef"
            ],
            [
             0.5,
             "#f7f7f7"
            ],
            [
             0.6,
             "#e6f5d0"
            ],
            [
             0.7,
             "#b8e186"
            ],
            [
             0.8,
             "#7fbc41"
            ],
            [
             0.9,
             "#4d9221"
            ],
            [
             1,
             "#276419"
            ]
           ],
           "sequential": [
            [
             0,
             "#0d0887"
            ],
            [
             0.1111111111111111,
             "#46039f"
            ],
            [
             0.2222222222222222,
             "#7201a8"
            ],
            [
             0.3333333333333333,
             "#9c179e"
            ],
            [
             0.4444444444444444,
             "#bd3786"
            ],
            [
             0.5555555555555556,
             "#d8576b"
            ],
            [
             0.6666666666666666,
             "#ed7953"
            ],
            [
             0.7777777777777778,
             "#fb9f3a"
            ],
            [
             0.8888888888888888,
             "#fdca26"
            ],
            [
             1,
             "#f0f921"
            ]
           ],
           "sequentialminus": [
            [
             0,
             "#0d0887"
            ],
            [
             0.1111111111111111,
             "#46039f"
            ],
            [
             0.2222222222222222,
             "#7201a8"
            ],
            [
             0.3333333333333333,
             "#9c179e"
            ],
            [
             0.4444444444444444,
             "#bd3786"
            ],
            [
             0.5555555555555556,
             "#d8576b"
            ],
            [
             0.6666666666666666,
             "#ed7953"
            ],
            [
             0.7777777777777778,
             "#fb9f3a"
            ],
            [
             0.8888888888888888,
             "#fdca26"
            ],
            [
             1,
             "#f0f921"
            ]
           ]
          },
          "colorway": [
           "#636efa",
           "#EF553B",
           "#00cc96",
           "#ab63fa",
           "#FFA15A",
           "#19d3f3",
           "#FF6692",
           "#B6E880",
           "#FF97FF",
           "#FECB52"
          ],
          "font": {
           "color": "#2a3f5f"
          },
          "geo": {
           "bgcolor": "white",
           "lakecolor": "white",
           "landcolor": "#E5ECF6",
           "showlakes": true,
           "showland": true,
           "subunitcolor": "white"
          },
          "hoverlabel": {
           "align": "left"
          },
          "hovermode": "closest",
          "mapbox": {
           "style": "light"
          },
          "paper_bgcolor": "white",
          "plot_bgcolor": "#E5ECF6",
          "polar": {
           "angularaxis": {
            "gridcolor": "white",
            "linecolor": "white",
            "ticks": ""
           },
           "bgcolor": "#E5ECF6",
           "radialaxis": {
            "gridcolor": "white",
            "linecolor": "white",
            "ticks": ""
           }
          },
          "scene": {
           "xaxis": {
            "backgroundcolor": "#E5ECF6",
            "gridcolor": "white",
            "gridwidth": 2,
            "linecolor": "white",
            "showbackground": true,
            "ticks": "",
            "zerolinecolor": "white"
           },
           "yaxis": {
            "backgroundcolor": "#E5ECF6",
            "gridcolor": "white",
            "gridwidth": 2,
            "linecolor": "white",
            "showbackground": true,
            "ticks": "",
            "zerolinecolor": "white"
           },
           "zaxis": {
            "backgroundcolor": "#E5ECF6",
            "gridcolor": "white",
            "gridwidth": 2,
            "linecolor": "white",
            "showbackground": true,
            "ticks": "",
            "zerolinecolor": "white"
           }
          },
          "shapedefaults": {
           "line": {
            "color": "#2a3f5f"
           }
          },
          "ternary": {
           "aaxis": {
            "gridcolor": "white",
            "linecolor": "white",
            "ticks": ""
           },
           "baxis": {
            "gridcolor": "white",
            "linecolor": "white",
            "ticks": ""
           },
           "bgcolor": "#E5ECF6",
           "caxis": {
            "gridcolor": "white",
            "linecolor": "white",
            "ticks": ""
           }
          },
          "title": {
           "x": 0.05
          },
          "xaxis": {
           "automargin": true,
           "gridcolor": "white",
           "linecolor": "white",
           "ticks": "",
           "title": {
            "standoff": 15
           },
           "zerolinecolor": "white",
           "zerolinewidth": 2
          },
          "yaxis": {
           "automargin": true,
           "gridcolor": "white",
           "linecolor": "white",
           "ticks": "",
           "title": {
            "standoff": 15
           },
           "zerolinecolor": "white",
           "zerolinewidth": 2
          }
         }
        },
        "title": {
         "text": "Proportions de GHM les plus fréquents après une hospitalisation pour insuffisance cardiaque"
        },
        "xaxis": {
         "anchor": "y",
         "domain": [
          0,
          1
         ],
         "title": {
          "text": "Hospitalisation n°"
         }
        },
        "yaxis": {
         "anchor": "x",
         "domain": [
          0,
          1
         ],
         "title": {
          "text": "Proportion"
         }
        }
       }
      },
      "text/html": [
       "<div>                            <div id=\"16fd9500-fbf7-4370-8957-fb283829663a\" class=\"plotly-graph-div\" style=\"height:525px; width:100%;\"></div>            <script type=\"text/javascript\">                require([\"plotly\"], function(Plotly) {                    window.PLOTLYENV=window.PLOTLYENV || {};                                    if (document.getElementById(\"16fd9500-fbf7-4370-8957-fb283829663a\")) {                    Plotly.newPlot(                        \"16fd9500-fbf7-4370-8957-fb283829663a\",                        [{\"fillpattern\":{\"shape\":\"\"},\"hovertemplate\":\"GHM=05M09x<br>Hospitalisation n\\u00b0=%{x}<br>Proportion=%{y}<extra></extra>\",\"legendgroup\":\"05M09x\",\"line\":{\"color\":\"#636efa\"},\"marker\":{\"symbol\":\"circle\"},\"mode\":\"lines\",\"name\":\"05M09x\",\"orientation\":\"v\",\"showlegend\":true,\"stackgroup\":\"1\",\"x\":[\"0\",\"1\",\"2\",\"3\",\"4\",\"5\",\"6\",\"7\",\"8\",\"9\"],\"xaxis\":\"x\",\"y\":[1.0,0.19816573861775302,0.18013951579811244,0.16717791411042945,0.1514958625079567,0.15366049879324215,0.15816326530612246,0.13860103626943004,0.12680577849117175,0.13745019920318724],\"yaxis\":\"y\",\"type\":\"scatter\"},{\"fillpattern\":{\"shape\":\"\"},\"hovertemplate\":\"GHM=02C05J<br>Hospitalisation n\\u00b0=%{x}<br>Proportion=%{y}<extra></extra>\",\"legendgroup\":\"02C05J\",\"line\":{\"color\":\"#EF553B\"},\"marker\":{\"symbol\":\"circle\"},\"mode\":\"lines\",\"name\":\"02C05J\",\"orientation\":\"v\",\"showlegend\":true,\"stackgroup\":\"1\",\"x\":[\"0\",\"1\",\"2\",\"3\",\"4\",\"5\",\"6\",\"7\",\"8\",\"9\"],\"xaxis\":\"x\",\"y\":[null,0.01899770717327219,0.025851456709068528,0.024028629856850715,0.022915340547422024,0.02413515687851971,0.02346938775510204,0.027202072538860103,0.016051364365971106,null],\"yaxis\":\"y\",\"type\":\"scatter\"},{\"fillpattern\":{\"shape\":\"\"},\"hovertemplate\":\"GHM=04M052<br>Hospitalisation n\\u00b0=%{x}<br>Proportion=%{y}<extra></extra>\",\"legendgroup\":\"04M052\",\"line\":{\"color\":\"#00cc96\"},\"marker\":{\"symbol\":\"circle\"},\"mode\":\"lines\",\"name\":\"04M052\",\"orientation\":\"v\",\"showlegend\":true,\"stackgroup\":\"1\",\"x\":[\"0\",\"1\",\"2\",\"3\",\"4\",\"5\",\"6\",\"7\",\"8\",\"9\"],\"xaxis\":\"x\",\"y\":[null,null,null,null,null,0.011263073209975865,null,null,null,0.013944223107569721],\"yaxis\":\"y\",\"type\":\"scatter\"},{\"fillpattern\":{\"shape\":\"\"},\"hovertemplate\":\"GHM=04M053<br>Hospitalisation n\\u00b0=%{x}<br>Proportion=%{y}<extra></extra>\",\"legendgroup\":\"04M053\",\"line\":{\"color\":\"#ab63fa\"},\"marker\":{\"symbol\":\"circle\"},\"mode\":\"lines\",\"name\":\"04M053\",\"orientation\":\"v\",\"showlegend\":true,\"stackgroup\":\"1\",\"x\":[\"0\",\"1\",\"2\",\"3\",\"4\",\"5\",\"6\",\"7\",\"8\",\"9\"],\"xaxis\":\"x\",\"y\":[null,0.01604978709466099,0.014772260976610586,0.018404907975460124,0.011457670273711012,null,0.015306122448979591,null,null,null],\"yaxis\":\"y\",\"type\":\"scatter\"},{\"fillpattern\":{\"shape\":\"\"},\"hovertemplate\":\"GHM=05K061<br>Hospitalisation n\\u00b0=%{x}<br>Proportion=%{y}<extra></extra>\",\"legendgroup\":\"05K061\",\"line\":{\"color\":\"#FFA15A\"},\"marker\":{\"symbol\":\"circle\"},\"mode\":\"lines\",\"name\":\"05K061\",\"orientation\":\"v\",\"showlegend\":true,\"stackgroup\":\"1\",\"x\":[\"0\",\"1\",\"2\",\"3\",\"4\",\"5\",\"6\",\"7\",\"8\",\"9\"],\"xaxis\":\"x\",\"y\":[null,null,null,null,null,null,null,0.012953367875647668,null,null],\"yaxis\":\"y\",\"type\":\"scatter\"},{\"fillpattern\":{\"shape\":\"\"},\"hovertemplate\":\"GHM=05K101<br>Hospitalisation n\\u00b0=%{x}<br>Proportion=%{y}<extra></extra>\",\"legendgroup\":\"05K101\",\"line\":{\"color\":\"#19d3f3\"},\"marker\":{\"symbol\":\"circle\"},\"mode\":\"lines\",\"name\":\"05K101\",\"orientation\":\"v\",\"showlegend\":true,\"stackgroup\":\"1\",\"x\":[\"0\",\"1\",\"2\",\"3\",\"4\",\"5\",\"6\",\"7\",\"8\",\"9\"],\"xaxis\":\"x\",\"y\":[null,0.03930560104814936,0.013541239228559704,0.014314928425357873,0.01464035646085296,0.015285599356395816,0.015306122448979591,0.019430051813471502,0.012841091492776886,0.01195219123505976],\"yaxis\":\"y\",\"type\":\"scatter\"},{\"fillpattern\":{\"shape\":\"\"},\"hovertemplate\":\"GHM=10M163<br>Hospitalisation n\\u00b0=%{x}<br>Proportion=%{y}<extra></extra>\",\"legendgroup\":\"10M163\",\"line\":{\"color\":\"#FF6692\"},\"marker\":{\"symbol\":\"circle\"},\"mode\":\"lines\",\"name\":\"10M163\",\"orientation\":\"v\",\"showlegend\":true,\"stackgroup\":\"1\",\"x\":[\"0\",\"1\",\"2\",\"3\",\"4\",\"5\",\"6\",\"7\",\"8\",\"9\"],\"xaxis\":\"x\",\"y\":[null,null,null,null,null,null,null,null,null,0.01195219123505976],\"yaxis\":\"y\",\"type\":\"scatter\"},{\"fillpattern\":{\"shape\":\"\"},\"hovertemplate\":\"GHM=16M112<br>Hospitalisation n\\u00b0=%{x}<br>Proportion=%{y}<extra></extra>\",\"legendgroup\":\"16M112\",\"line\":{\"color\":\"#B6E880\"},\"marker\":{\"symbol\":\"circle\"},\"mode\":\"lines\",\"name\":\"16M112\",\"orientation\":\"v\",\"showlegend\":true,\"stackgroup\":\"1\",\"x\":[\"0\",\"1\",\"2\",\"3\",\"4\",\"5\",\"6\",\"7\",\"8\",\"9\"],\"xaxis\":\"x\",\"y\":[null,null,null,null,null,null,null,null,null,0.01195219123505976],\"yaxis\":\"y\",\"type\":\"scatter\"},{\"fillpattern\":{\"shape\":\"\"},\"hovertemplate\":\"GHM=23K02Z<br>Hospitalisation n\\u00b0=%{x}<br>Proportion=%{y}<extra></extra>\",\"legendgroup\":\"23K02Z\",\"line\":{\"color\":\"#FF97FF\"},\"marker\":{\"symbol\":\"circle\"},\"mode\":\"lines\",\"name\":\"23K02Z\",\"orientation\":\"v\",\"showlegend\":true,\"stackgroup\":\"1\",\"x\":[\"0\",\"1\",\"2\",\"3\",\"4\",\"5\",\"6\",\"7\",\"8\",\"9\"],\"xaxis\":\"x\",\"y\":[null,null,null,null,null,null,null,null,0.014446227929373997,null],\"yaxis\":\"y\",\"type\":\"scatter\"},{\"fillpattern\":{\"shape\":\"\"},\"hovertemplate\":\"GHM=23M20T<br>Hospitalisation n\\u00b0=%{x}<br>Proportion=%{y}<extra></extra>\",\"legendgroup\":\"23M20T\",\"line\":{\"color\":\"#FECB52\"},\"marker\":{\"symbol\":\"circle\"},\"mode\":\"lines\",\"name\":\"23M20T\",\"orientation\":\"v\",\"showlegend\":true,\"stackgroup\":\"1\",\"x\":[\"0\",\"1\",\"2\",\"3\",\"4\",\"5\",\"6\",\"7\",\"8\",\"9\"],\"xaxis\":\"x\",\"y\":[null,null,null,null,0.012730744748567792,null,0.012244897959183673,null,null,null],\"yaxis\":\"y\",\"type\":\"scatter\"},{\"fillpattern\":{\"shape\":\"\"},\"hovertemplate\":\"GHM=23M20Z<br>Hospitalisation n\\u00b0=%{x}<br>Proportion=%{y}<extra></extra>\",\"legendgroup\":\"23M20Z\",\"line\":{\"color\":\"#636efa\"},\"marker\":{\"symbol\":\"circle\"},\"mode\":\"lines\",\"name\":\"23M20Z\",\"orientation\":\"v\",\"showlegend\":true,\"stackgroup\":\"1\",\"x\":[\"0\",\"1\",\"2\",\"3\",\"4\",\"5\",\"6\",\"7\",\"8\",\"9\"],\"xaxis\":\"x\",\"y\":[null,0.01473960039305601,0.013130898645876077,0.01278118609406953,null,0.012872083668543845,null,0.015544041450777202,0.014446227929373997,null],\"yaxis\":\"y\",\"type\":\"scatter\"}],                        {\"template\":{\"data\":{\"histogram2dcontour\":[{\"type\":\"histogram2dcontour\",\"colorbar\":{\"outlinewidth\":0,\"ticks\":\"\"},\"colorscale\":[[0.0,\"#0d0887\"],[0.1111111111111111,\"#46039f\"],[0.2222222222222222,\"#7201a8\"],[0.3333333333333333,\"#9c179e\"],[0.4444444444444444,\"#bd3786\"],[0.5555555555555556,\"#d8576b\"],[0.6666666666666666,\"#ed7953\"],[0.7777777777777778,\"#fb9f3a\"],[0.8888888888888888,\"#fdca26\"],[1.0,\"#f0f921\"]]}],\"choropleth\":[{\"type\":\"choropleth\",\"colorbar\":{\"outlinewidth\":0,\"ticks\":\"\"}}],\"histogram2d\":[{\"type\":\"histogram2d\",\"colorbar\":{\"outlinewidth\":0,\"ticks\":\"\"},\"colorscale\":[[0.0,\"#0d0887\"],[0.1111111111111111,\"#46039f\"],[0.2222222222222222,\"#7201a8\"],[0.3333333333333333,\"#9c179e\"],[0.4444444444444444,\"#bd3786\"],[0.5555555555555556,\"#d8576b\"],[0.6666666666666666,\"#ed7953\"],[0.7777777777777778,\"#fb9f3a\"],[0.8888888888888888,\"#fdca26\"],[1.0,\"#f0f921\"]]}],\"heatmap\":[{\"type\":\"heatmap\",\"colorbar\":{\"outlinewidth\":0,\"ticks\":\"\"},\"colorscale\":[[0.0,\"#0d0887\"],[0.1111111111111111,\"#46039f\"],[0.2222222222222222,\"#7201a8\"],[0.3333333333333333,\"#9c179e\"],[0.4444444444444444,\"#bd3786\"],[0.5555555555555556,\"#d8576b\"],[0.6666666666666666,\"#ed7953\"],[0.7777777777777778,\"#fb9f3a\"],[0.8888888888888888,\"#fdca26\"],[1.0,\"#f0f921\"]]}],\"heatmapgl\":[{\"type\":\"heatmapgl\",\"colorbar\":{\"outlinewidth\":0,\"ticks\":\"\"},\"colorscale\":[[0.0,\"#0d0887\"],[0.1111111111111111,\"#46039f\"],[0.2222222222222222,\"#7201a8\"],[0.3333333333333333,\"#9c179e\"],[0.4444444444444444,\"#bd3786\"],[0.5555555555555556,\"#d8576b\"],[0.6666666666666666,\"#ed7953\"],[0.7777777777777778,\"#fb9f3a\"],[0.8888888888888888,\"#fdca26\"],[1.0,\"#f0f921\"]]}],\"contourcarpet\":[{\"type\":\"contourcarpet\",\"colorbar\":{\"outlinewidth\":0,\"ticks\":\"\"}}],\"contour\":[{\"type\":\"contour\",\"colorbar\":{\"outlinewidth\":0,\"ticks\":\"\"},\"colorscale\":[[0.0,\"#0d0887\"],[0.1111111111111111,\"#46039f\"],[0.2222222222222222,\"#7201a8\"],[0.3333333333333333,\"#9c179e\"],[0.4444444444444444,\"#bd3786\"],[0.5555555555555556,\"#d8576b\"],[0.6666666666666666,\"#ed7953\"],[0.7777777777777778,\"#fb9f3a\"],[0.8888888888888888,\"#fdca26\"],[1.0,\"#f0f921\"]]}],\"surface\":[{\"type\":\"surface\",\"colorbar\":{\"outlinewidth\":0,\"ticks\":\"\"},\"colorscale\":[[0.0,\"#0d0887\"],[0.1111111111111111,\"#46039f\"],[0.2222222222222222,\"#7201a8\"],[0.3333333333333333,\"#9c179e\"],[0.4444444444444444,\"#bd3786\"],[0.5555555555555556,\"#d8576b\"],[0.6666666666666666,\"#ed7953\"],[0.7777777777777778,\"#fb9f3a\"],[0.8888888888888888,\"#fdca26\"],[1.0,\"#f0f921\"]]}],\"mesh3d\":[{\"type\":\"mesh3d\",\"colorbar\":{\"outlinewidth\":0,\"ticks\":\"\"}}],\"scatter\":[{\"fillpattern\":{\"fillmode\":\"overlay\",\"size\":10,\"solidity\":0.2},\"type\":\"scatter\"}],\"parcoords\":[{\"type\":\"parcoords\",\"line\":{\"colorbar\":{\"outlinewidth\":0,\"ticks\":\"\"}}}],\"scatterpolargl\":[{\"type\":\"scatterpolargl\",\"marker\":{\"colorbar\":{\"outlinewidth\":0,\"ticks\":\"\"}}}],\"bar\":[{\"error_x\":{\"color\":\"#2a3f5f\"},\"error_y\":{\"color\":\"#2a3f5f\"},\"marker\":{\"line\":{\"color\":\"#E5ECF6\",\"width\":0.5},\"pattern\":{\"fillmode\":\"overlay\",\"size\":10,\"solidity\":0.2}},\"type\":\"bar\"}],\"scattergeo\":[{\"type\":\"scattergeo\",\"marker\":{\"colorbar\":{\"outlinewidth\":0,\"ticks\":\"\"}}}],\"scatterpolar\":[{\"type\":\"scatterpolar\",\"marker\":{\"colorbar\":{\"outlinewidth\":0,\"ticks\":\"\"}}}],\"histogram\":[{\"marker\":{\"pattern\":{\"fillmode\":\"overlay\",\"size\":10,\"solidity\":0.2}},\"type\":\"histogram\"}],\"scattergl\":[{\"type\":\"scattergl\",\"marker\":{\"colorbar\":{\"outlinewidth\":0,\"ticks\":\"\"}}}],\"scatter3d\":[{\"type\":\"scatter3d\",\"line\":{\"colorbar\":{\"outlinewidth\":0,\"ticks\":\"\"}},\"marker\":{\"colorbar\":{\"outlinewidth\":0,\"ticks\":\"\"}}}],\"scattermapbox\":[{\"type\":\"scattermapbox\",\"marker\":{\"colorbar\":{\"outlinewidth\":0,\"ticks\":\"\"}}}],\"scatterternary\":[{\"type\":\"scatterternary\",\"marker\":{\"colorbar\":{\"outlinewidth\":0,\"ticks\":\"\"}}}],\"scattercarpet\":[{\"type\":\"scattercarpet\",\"marker\":{\"colorbar\":{\"outlinewidth\":0,\"ticks\":\"\"}}}],\"carpet\":[{\"aaxis\":{\"endlinecolor\":\"#2a3f5f\",\"gridcolor\":\"white\",\"linecolor\":\"white\",\"minorgridcolor\":\"white\",\"startlinecolor\":\"#2a3f5f\"},\"baxis\":{\"endlinecolor\":\"#2a3f5f\",\"gridcolor\":\"white\",\"linecolor\":\"white\",\"minorgridcolor\":\"white\",\"startlinecolor\":\"#2a3f5f\"},\"type\":\"carpet\"}],\"table\":[{\"cells\":{\"fill\":{\"color\":\"#EBF0F8\"},\"line\":{\"color\":\"white\"}},\"header\":{\"fill\":{\"color\":\"#C8D4E3\"},\"line\":{\"color\":\"white\"}},\"type\":\"table\"}],\"barpolar\":[{\"marker\":{\"line\":{\"color\":\"#E5ECF6\",\"width\":0.5},\"pattern\":{\"fillmode\":\"overlay\",\"size\":10,\"solidity\":0.2}},\"type\":\"barpolar\"}],\"pie\":[{\"automargin\":true,\"type\":\"pie\"}]},\"layout\":{\"autotypenumbers\":\"strict\",\"colorway\":[\"#636efa\",\"#EF553B\",\"#00cc96\",\"#ab63fa\",\"#FFA15A\",\"#19d3f3\",\"#FF6692\",\"#B6E880\",\"#FF97FF\",\"#FECB52\"],\"font\":{\"color\":\"#2a3f5f\"},\"hovermode\":\"closest\",\"hoverlabel\":{\"align\":\"left\"},\"paper_bgcolor\":\"white\",\"plot_bgcolor\":\"#E5ECF6\",\"polar\":{\"bgcolor\":\"#E5ECF6\",\"angularaxis\":{\"gridcolor\":\"white\",\"linecolor\":\"white\",\"ticks\":\"\"},\"radialaxis\":{\"gridcolor\":\"white\",\"linecolor\":\"white\",\"ticks\":\"\"}},\"ternary\":{\"bgcolor\":\"#E5ECF6\",\"aaxis\":{\"gridcolor\":\"white\",\"linecolor\":\"white\",\"ticks\":\"\"},\"baxis\":{\"gridcolor\":\"white\",\"linecolor\":\"white\",\"ticks\":\"\"},\"caxis\":{\"gridcolor\":\"white\",\"linecolor\":\"white\",\"ticks\":\"\"}},\"coloraxis\":{\"colorbar\":{\"outlinewidth\":0,\"ticks\":\"\"}},\"colorscale\":{\"sequential\":[[0.0,\"#0d0887\"],[0.1111111111111111,\"#46039f\"],[0.2222222222222222,\"#7201a8\"],[0.3333333333333333,\"#9c179e\"],[0.4444444444444444,\"#bd3786\"],[0.5555555555555556,\"#d8576b\"],[0.6666666666666666,\"#ed7953\"],[0.7777777777777778,\"#fb9f3a\"],[0.8888888888888888,\"#fdca26\"],[1.0,\"#f0f921\"]],\"sequentialminus\":[[0.0,\"#0d0887\"],[0.1111111111111111,\"#46039f\"],[0.2222222222222222,\"#7201a8\"],[0.3333333333333333,\"#9c179e\"],[0.4444444444444444,\"#bd3786\"],[0.5555555555555556,\"#d8576b\"],[0.6666666666666666,\"#ed7953\"],[0.7777777777777778,\"#fb9f3a\"],[0.8888888888888888,\"#fdca26\"],[1.0,\"#f0f921\"]],\"diverging\":[[0,\"#8e0152\"],[0.1,\"#c51b7d\"],[0.2,\"#de77ae\"],[0.3,\"#f1b6da\"],[0.4,\"#fde0ef\"],[0.5,\"#f7f7f7\"],[0.6,\"#e6f5d0\"],[0.7,\"#b8e186\"],[0.8,\"#7fbc41\"],[0.9,\"#4d9221\"],[1,\"#276419\"]]},\"xaxis\":{\"gridcolor\":\"white\",\"linecolor\":\"white\",\"ticks\":\"\",\"title\":{\"standoff\":15},\"zerolinecolor\":\"white\",\"automargin\":true,\"zerolinewidth\":2},\"yaxis\":{\"gridcolor\":\"white\",\"linecolor\":\"white\",\"ticks\":\"\",\"title\":{\"standoff\":15},\"zerolinecolor\":\"white\",\"automargin\":true,\"zerolinewidth\":2},\"scene\":{\"xaxis\":{\"backgroundcolor\":\"#E5ECF6\",\"gridcolor\":\"white\",\"linecolor\":\"white\",\"showbackground\":true,\"ticks\":\"\",\"zerolinecolor\":\"white\",\"gridwidth\":2},\"yaxis\":{\"backgroundcolor\":\"#E5ECF6\",\"gridcolor\":\"white\",\"linecolor\":\"white\",\"showbackground\":true,\"ticks\":\"\",\"zerolinecolor\":\"white\",\"gridwidth\":2},\"zaxis\":{\"backgroundcolor\":\"#E5ECF6\",\"gridcolor\":\"white\",\"linecolor\":\"white\",\"showbackground\":true,\"ticks\":\"\",\"zerolinecolor\":\"white\",\"gridwidth\":2}},\"shapedefaults\":{\"line\":{\"color\":\"#2a3f5f\"}},\"annotationdefaults\":{\"arrowcolor\":\"#2a3f5f\",\"arrowhead\":0,\"arrowwidth\":1},\"geo\":{\"bgcolor\":\"white\",\"landcolor\":\"#E5ECF6\",\"subunitcolor\":\"white\",\"showland\":true,\"showlakes\":true,\"lakecolor\":\"white\"},\"title\":{\"x\":0.05},\"mapbox\":{\"style\":\"light\"}}},\"xaxis\":{\"anchor\":\"y\",\"domain\":[0.0,1.0],\"title\":{\"text\":\"Hospitalisation n\\u00b0\"}},\"yaxis\":{\"anchor\":\"x\",\"domain\":[0.0,1.0],\"title\":{\"text\":\"Proportion\"}},\"legend\":{\"title\":{\"text\":\"GHM\"},\"tracegroupgap\":0},\"title\":{\"text\":\"Proportions de GHM les plus fr\\u00e9quents apr\\u00e8s une hospitalisation pour insuffisance cardiaque\"}},                        {\"responsive\": true}                    ).then(function(){\n",
       "                            \n",
       "var gd = document.getElementById('16fd9500-fbf7-4370-8957-fb283829663a');\n",
       "var x = new MutationObserver(function (mutations, observer) {{\n",
       "        var display = window.getComputedStyle(gd).display;\n",
       "        if (!display || display === 'none') {{\n",
       "            console.log([gd, 'removed!']);\n",
       "            Plotly.purge(gd);\n",
       "            observer.disconnect();\n",
       "        }}\n",
       "}});\n",
       "\n",
       "// Listen for the removal of the full notebook cells\n",
       "var notebookContainer = gd.closest('#notebook-container');\n",
       "if (notebookContainer) {{\n",
       "    x.observe(notebookContainer, {childList: true});\n",
       "}}\n",
       "\n",
       "// Listen for the clearing of the current output cell\n",
       "var outputEl = gd.closest('.output');\n",
       "if (outputEl) {{\n",
       "    x.observe(outputEl, {childList: true});\n",
       "}}\n",
       "\n",
       "                        })                };                });            </script>        </div>"
      ]
     },
     "metadata": {},
     "output_type": "display_data"
    }
   ],
   "source": [
    "fig = px.area(database, title=\"Proportions de GHM les plus fréquents après une hospitalisation pour insuffisance cardiaque\",\n",
    "             labels={\n",
    "                     \"value\": \"Proportion\",\n",
    "                     \"index\": \"Hospitalisation n°\",\n",
    "                     \"variable\" : \"GHM\"\n",
    "                 })\n",
    "fig.show()\n",
    "fig.write_html(\"data/GHM_apres_IC_prop_subset.html\")"
   ]
  },
  {
   "cell_type": "markdown",
   "id": "885ef82f-7377-4e51-bb4b-cb64dd40d639",
   "metadata": {},
   "source": [
    "## Différents DP pour la nième hospitalisation"
   ]
  },
  {
   "cell_type": "code",
   "execution_count": 97,
   "id": "a5982c86-bc8c-4ba8-83a2-f3f3619eb6ac",
   "metadata": {
    "tags": []
   },
   "outputs": [],
   "source": [
    "%%capture capt\n",
    "p_soins_dp=pd.read_csv(\"./data/parcours_soins_dgn_pal.csv\")"
   ]
  },
  {
   "cell_type": "code",
   "execution_count": 98,
   "id": "643240e5-4183-4db3-bf63-7a9f31e66e73",
   "metadata": {
    "tags": []
   },
   "outputs": [
    {
     "data": {
      "text/html": [
       "<div>\n",
       "<style scoped>\n",
       "    .dataframe tbody tr th:only-of-type {\n",
       "        vertical-align: middle;\n",
       "    }\n",
       "\n",
       "    .dataframe tbody tr th {\n",
       "        vertical-align: top;\n",
       "    }\n",
       "\n",
       "    .dataframe thead th {\n",
       "        text-align: right;\n",
       "    }\n",
       "</style>\n",
       "<table border=\"1\" class=\"dataframe\">\n",
       "  <thead>\n",
       "    <tr style=\"text-align: right;\">\n",
       "      <th></th>\n",
       "      <th>BEN_NIR_IDT</th>\n",
       "      <th>2008-01-15</th>\n",
       "      <th>2008-02-15</th>\n",
       "      <th>2008-03-15</th>\n",
       "      <th>2008-04-15</th>\n",
       "      <th>2008-05-15</th>\n",
       "      <th>2008-06-15</th>\n",
       "      <th>2008-07-15</th>\n",
       "      <th>2008-08-15</th>\n",
       "      <th>2008-09-15</th>\n",
       "      <th>...</th>\n",
       "      <th>2018-12-19</th>\n",
       "      <th>2018-12-20</th>\n",
       "      <th>2018-12-21</th>\n",
       "      <th>2018-12-22</th>\n",
       "      <th>2018-12-24</th>\n",
       "      <th>2018-12-25</th>\n",
       "      <th>2018-12-26</th>\n",
       "      <th>2018-12-27</th>\n",
       "      <th>2018-12-28</th>\n",
       "      <th>2018-12-29</th>\n",
       "    </tr>\n",
       "  </thead>\n",
       "  <tbody>\n",
       "    <tr>\n",
       "      <th>0</th>\n",
       "      <td>P0</td>\n",
       "      <td>NaN</td>\n",
       "      <td>NaN</td>\n",
       "      <td>NaN</td>\n",
       "      <td>NaN</td>\n",
       "      <td>NaN</td>\n",
       "      <td>NaN</td>\n",
       "      <td>NaN</td>\n",
       "      <td>NaN</td>\n",
       "      <td>NaN</td>\n",
       "      <td>...</td>\n",
       "      <td>NaN</td>\n",
       "      <td>NaN</td>\n",
       "      <td>NaN</td>\n",
       "      <td>NaN</td>\n",
       "      <td>NaN</td>\n",
       "      <td>NaN</td>\n",
       "      <td>NaN</td>\n",
       "      <td>NaN</td>\n",
       "      <td>NaN</td>\n",
       "      <td>NaN</td>\n",
       "    </tr>\n",
       "    <tr>\n",
       "      <th>1</th>\n",
       "      <td>P6</td>\n",
       "      <td>NaN</td>\n",
       "      <td>NaN</td>\n",
       "      <td>NaN</td>\n",
       "      <td>NaN</td>\n",
       "      <td>NaN</td>\n",
       "      <td>NaN</td>\n",
       "      <td>NaN</td>\n",
       "      <td>NaN</td>\n",
       "      <td>NaN</td>\n",
       "      <td>...</td>\n",
       "      <td>NaN</td>\n",
       "      <td>NaN</td>\n",
       "      <td>NaN</td>\n",
       "      <td>NaN</td>\n",
       "      <td>NaN</td>\n",
       "      <td>NaN</td>\n",
       "      <td>NaN</td>\n",
       "      <td>NaN</td>\n",
       "      <td>NaN</td>\n",
       "      <td>NaN</td>\n",
       "    </tr>\n",
       "    <tr>\n",
       "      <th>2</th>\n",
       "      <td>P8</td>\n",
       "      <td>NaN</td>\n",
       "      <td>NaN</td>\n",
       "      <td>NaN</td>\n",
       "      <td>NaN</td>\n",
       "      <td>NaN</td>\n",
       "      <td>NaN</td>\n",
       "      <td>NaN</td>\n",
       "      <td>NaN</td>\n",
       "      <td>NaN</td>\n",
       "      <td>...</td>\n",
       "      <td>NaN</td>\n",
       "      <td>NaN</td>\n",
       "      <td>NaN</td>\n",
       "      <td>NaN</td>\n",
       "      <td>NaN</td>\n",
       "      <td>NaN</td>\n",
       "      <td>NaN</td>\n",
       "      <td>NaN</td>\n",
       "      <td>NaN</td>\n",
       "      <td>NaN</td>\n",
       "    </tr>\n",
       "    <tr>\n",
       "      <th>3</th>\n",
       "      <td>P13</td>\n",
       "      <td>NaN</td>\n",
       "      <td>NaN</td>\n",
       "      <td>NaN</td>\n",
       "      <td>NaN</td>\n",
       "      <td>NaN</td>\n",
       "      <td>NaN</td>\n",
       "      <td>NaN</td>\n",
       "      <td>NaN</td>\n",
       "      <td>NaN</td>\n",
       "      <td>...</td>\n",
       "      <td>NaN</td>\n",
       "      <td>NaN</td>\n",
       "      <td>NaN</td>\n",
       "      <td>NaN</td>\n",
       "      <td>NaN</td>\n",
       "      <td>NaN</td>\n",
       "      <td>NaN</td>\n",
       "      <td>NaN</td>\n",
       "      <td>NaN</td>\n",
       "      <td>NaN</td>\n",
       "    </tr>\n",
       "    <tr>\n",
       "      <th>4</th>\n",
       "      <td>P16</td>\n",
       "      <td>NaN</td>\n",
       "      <td>NaN</td>\n",
       "      <td>NaN</td>\n",
       "      <td>NaN</td>\n",
       "      <td>NaN</td>\n",
       "      <td>NaN</td>\n",
       "      <td>NaN</td>\n",
       "      <td>NaN</td>\n",
       "      <td>NaN</td>\n",
       "      <td>...</td>\n",
       "      <td>NaN</td>\n",
       "      <td>NaN</td>\n",
       "      <td>NaN</td>\n",
       "      <td>NaN</td>\n",
       "      <td>NaN</td>\n",
       "      <td>NaN</td>\n",
       "      <td>NaN</td>\n",
       "      <td>NaN</td>\n",
       "      <td>NaN</td>\n",
       "      <td>NaN</td>\n",
       "    </tr>\n",
       "  </tbody>\n",
       "</table>\n",
       "<p>5 rows × 3676 columns</p>\n",
       "</div>"
      ],
      "text/plain": [
       "  BEN_NIR_IDT 2008-01-15 2008-02-15 2008-03-15 2008-04-15 2008-05-15  \\\n",
       "0          P0        NaN        NaN        NaN        NaN        NaN   \n",
       "1          P6        NaN        NaN        NaN        NaN        NaN   \n",
       "2          P8        NaN        NaN        NaN        NaN        NaN   \n",
       "3         P13        NaN        NaN        NaN        NaN        NaN   \n",
       "4         P16        NaN        NaN        NaN        NaN        NaN   \n",
       "\n",
       "  2008-06-15 2008-07-15 2008-08-15 2008-09-15  ... 2018-12-19 2018-12-20  \\\n",
       "0        NaN        NaN        NaN        NaN  ...        NaN        NaN   \n",
       "1        NaN        NaN        NaN        NaN  ...        NaN        NaN   \n",
       "2        NaN        NaN        NaN        NaN  ...        NaN        NaN   \n",
       "3        NaN        NaN        NaN        NaN  ...        NaN        NaN   \n",
       "4        NaN        NaN        NaN        NaN  ...        NaN        NaN   \n",
       "\n",
       "  2018-12-21 2018-12-22 2018-12-24 2018-12-25 2018-12-26 2018-12-27  \\\n",
       "0        NaN        NaN        NaN        NaN        NaN        NaN   \n",
       "1        NaN        NaN        NaN        NaN        NaN        NaN   \n",
       "2        NaN        NaN        NaN        NaN        NaN        NaN   \n",
       "3        NaN        NaN        NaN        NaN        NaN        NaN   \n",
       "4        NaN        NaN        NaN        NaN        NaN        NaN   \n",
       "\n",
       "  2018-12-28 2018-12-29  \n",
       "0        NaN        NaN  \n",
       "1        NaN        NaN  \n",
       "2        NaN        NaN  \n",
       "3        NaN        NaN  \n",
       "4        NaN        NaN  \n",
       "\n",
       "[5 rows x 3676 columns]"
      ]
     },
     "execution_count": 98,
     "metadata": {},
     "output_type": "execute_result"
    }
   ],
   "source": [
    "p_soins_dp.head()"
   ]
  },
  {
   "cell_type": "code",
   "execution_count": 99,
   "id": "1c05f192-8bd2-4e07-baf5-d09e291d9b61",
   "metadata": {
    "tags": []
   },
   "outputs": [
    {
     "name": "stderr",
     "output_type": "stream",
     "text": [
      "100%|██████████████████████████████████████████████████████████████████████████| 10051/10051 [00:05<00:00, 1721.19it/s]\n"
     ]
    }
   ],
   "source": [
    "p_soins_dp_list=[]\n",
    "for patient in tqdm(range(len(p_soins_dp))):\n",
    "    p_soins_dp_list.append(p_soins_dp.iloc[patient].dropna().tolist()[1:-1])"
   ]
  },
  {
   "cell_type": "code",
   "execution_count": 151,
   "id": "ee4dd56b",
   "metadata": {},
   "outputs": [
    {
     "data": {
      "text/html": [
       "<div>\n",
       "<style scoped>\n",
       "    .dataframe tbody tr th:only-of-type {\n",
       "        vertical-align: middle;\n",
       "    }\n",
       "\n",
       "    .dataframe tbody tr th {\n",
       "        vertical-align: top;\n",
       "    }\n",
       "\n",
       "    .dataframe thead th {\n",
       "        text-align: right;\n",
       "    }\n",
       "</style>\n",
       "<table border=\"1\" class=\"dataframe\">\n",
       "  <thead>\n",
       "    <tr style=\"text-align: right;\">\n",
       "      <th></th>\n",
       "      <th>1</th>\n",
       "      <th>2</th>\n",
       "    </tr>\n",
       "  </thead>\n",
       "  <tbody>\n",
       "    <tr>\n",
       "      <th>0</th>\n",
       "      <td>05M09T</td>\n",
       "      <td>05M092</td>\n",
       "    </tr>\n",
       "    <tr>\n",
       "      <th>1</th>\n",
       "      <td>05M093</td>\n",
       "      <td>04M132</td>\n",
       "    </tr>\n",
       "    <tr>\n",
       "      <th>2</th>\n",
       "      <td>05M093</td>\n",
       "      <td>04M143</td>\n",
       "    </tr>\n",
       "    <tr>\n",
       "      <th>3</th>\n",
       "      <td>05M091</td>\n",
       "      <td>05M171</td>\n",
       "    </tr>\n",
       "    <tr>\n",
       "      <th>4</th>\n",
       "      <td>05M091</td>\n",
       "      <td>23K02Z</td>\n",
       "    </tr>\n",
       "    <tr>\n",
       "      <th>...</th>\n",
       "      <td>...</td>\n",
       "      <td>...</td>\n",
       "    </tr>\n",
       "    <tr>\n",
       "      <th>3744</th>\n",
       "      <td>05M093</td>\n",
       "      <td>23M20Z</td>\n",
       "    </tr>\n",
       "    <tr>\n",
       "      <th>3745</th>\n",
       "      <td>05M091</td>\n",
       "      <td>23K02Z</td>\n",
       "    </tr>\n",
       "    <tr>\n",
       "      <th>3746</th>\n",
       "      <td>05M093</td>\n",
       "      <td>10M182</td>\n",
       "    </tr>\n",
       "    <tr>\n",
       "      <th>3747</th>\n",
       "      <td>05M094</td>\n",
       "      <td>05M09T</td>\n",
       "    </tr>\n",
       "    <tr>\n",
       "      <th>3748</th>\n",
       "      <td>05M091</td>\n",
       "      <td>04M173</td>\n",
       "    </tr>\n",
       "  </tbody>\n",
       "</table>\n",
       "<p>3749 rows × 2 columns</p>\n",
       "</div>"
      ],
      "text/plain": [
       "           1       2\n",
       "0     05M09T  05M092\n",
       "1     05M093  04M132\n",
       "2     05M093  04M143\n",
       "3     05M091  05M171\n",
       "4     05M091  23K02Z\n",
       "...      ...     ...\n",
       "3744  05M093  23M20Z\n",
       "3745  05M091  23K02Z\n",
       "3746  05M093  10M182\n",
       "3747  05M094  05M09T\n",
       "3748  05M091  04M173\n",
       "\n",
       "[3749 rows x 2 columns]"
      ]
     },
     "execution_count": 151,
     "metadata": {},
     "output_type": "execute_result"
    }
   ],
   "source": [
    "p_soins_IC_df.iloc[:,:2]"
   ]
  }
 ],
 "metadata": {
  "kernelspec": {
   "display_name": "Python 3 (ipykernel)",
   "language": "python",
   "name": "python3"
  },
  "language_info": {
   "codemirror_mode": {
    "name": "ipython",
    "version": 3
   },
   "file_extension": ".py",
   "mimetype": "text/x-python",
   "name": "python",
   "nbconvert_exporter": "python",
   "pygments_lexer": "ipython3",
   "version": "3.9.13"
  }
 },
 "nbformat": 4,
 "nbformat_minor": 5
}
