{
 "cells": [
  {
   "cell_type": "code",
   "execution_count": 1,
   "id": "7c544be9-f28c-485d-8228-e4ac2a4442b2",
   "metadata": {
    "tags": []
   },
   "outputs": [],
   "source": [
    "%%capture capt\n",
    "!pip install scikit-learn==1.1.2\n",
    "!pip install -U scikit-survival\n",
    "from tqdm import tqdm\n",
    "import numpy as np\n",
    "import pandas as pd\n",
    "from matplotlib import pyplot as plt\n",
    "\n",
    "%matplotlib inline\n",
    "\n",
    "from sklearn import set_config\n",
    "from sklearn.model_selection import train_test_split\n",
    "from sklearn.preprocessing import OrdinalEncoder\n",
    "from sksurv.preprocessing import OneHotEncoder\n",
    "from sksurv.ensemble import RandomSurvivalForest\n",
    "\n",
    "set_config(display=\"text\")  # displays text representation of estimators"
   ]
  },
  {
   "cell_type": "markdown",
   "id": "e9e317f2-c1fe-4367-8d9d-312a48178c17",
   "metadata": {},
   "source": [
    "## Test Example"
   ]
  },
  {
   "cell_type": "code",
   "execution_count": 3,
   "id": "01b4be6b-98cd-486f-839e-cee10bacb7b1",
   "metadata": {
    "tags": []
   },
   "outputs": [
    {
     "name": "stderr",
     "output_type": "stream",
     "text": [
      "/opt/mamba/lib/python3.10/site-packages/sksurv/column.py:142: FutureWarning: iteritems is deprecated and will be removed in a future version. Use .items instead.\n",
      "  for name, series in table.iteritems():\n"
     ]
    }
   ],
   "source": [
    "from sksurv.datasets import load_gbsg2\n",
    "X, y = load_gbsg2()\n",
    "\n",
    "grade_str = X.loc[:, \"tgrade\"].astype(object).values[:, np.newaxis]\n",
    "grade_num = OrdinalEncoder(categories=[[\"I\", \"II\", \"III\"]]).fit_transform(grade_str)\n",
    "\n",
    "X_no_grade = X.drop(\"tgrade\", axis=1)\n",
    "Xt = OneHotEncoder().fit_transform(X_no_grade)\n",
    "Xt.loc[:, \"tgrade\"] = grade_num"
   ]
  },
  {
   "cell_type": "code",
   "execution_count": 6,
   "id": "da209277-e31d-4ead-b334-096e1f6eb047",
   "metadata": {
    "tags": []
   },
   "outputs": [
    {
     "data": {
      "text/html": [
       "<div>\n",
       "<style scoped>\n",
       "    .dataframe tbody tr th:only-of-type {\n",
       "        vertical-align: middle;\n",
       "    }\n",
       "\n",
       "    .dataframe tbody tr th {\n",
       "        vertical-align: top;\n",
       "    }\n",
       "\n",
       "    .dataframe thead th {\n",
       "        text-align: right;\n",
       "    }\n",
       "</style>\n",
       "<table border=\"1\" class=\"dataframe\">\n",
       "  <thead>\n",
       "    <tr style=\"text-align: right;\">\n",
       "      <th></th>\n",
       "      <th>age</th>\n",
       "      <th>estrec</th>\n",
       "      <th>horTh=yes</th>\n",
       "      <th>menostat=Post</th>\n",
       "      <th>pnodes</th>\n",
       "      <th>progrec</th>\n",
       "      <th>tsize</th>\n",
       "      <th>tgrade</th>\n",
       "    </tr>\n",
       "  </thead>\n",
       "  <tbody>\n",
       "    <tr>\n",
       "      <th>0</th>\n",
       "      <td>70.0</td>\n",
       "      <td>66.0</td>\n",
       "      <td>0.0</td>\n",
       "      <td>1.0</td>\n",
       "      <td>3.0</td>\n",
       "      <td>48.0</td>\n",
       "      <td>21.0</td>\n",
       "      <td>1.0</td>\n",
       "    </tr>\n",
       "    <tr>\n",
       "      <th>1</th>\n",
       "      <td>56.0</td>\n",
       "      <td>77.0</td>\n",
       "      <td>1.0</td>\n",
       "      <td>1.0</td>\n",
       "      <td>7.0</td>\n",
       "      <td>61.0</td>\n",
       "      <td>12.0</td>\n",
       "      <td>1.0</td>\n",
       "    </tr>\n",
       "    <tr>\n",
       "      <th>2</th>\n",
       "      <td>58.0</td>\n",
       "      <td>271.0</td>\n",
       "      <td>1.0</td>\n",
       "      <td>1.0</td>\n",
       "      <td>9.0</td>\n",
       "      <td>52.0</td>\n",
       "      <td>35.0</td>\n",
       "      <td>1.0</td>\n",
       "    </tr>\n",
       "    <tr>\n",
       "      <th>3</th>\n",
       "      <td>59.0</td>\n",
       "      <td>29.0</td>\n",
       "      <td>1.0</td>\n",
       "      <td>1.0</td>\n",
       "      <td>4.0</td>\n",
       "      <td>60.0</td>\n",
       "      <td>17.0</td>\n",
       "      <td>1.0</td>\n",
       "    </tr>\n",
       "    <tr>\n",
       "      <th>4</th>\n",
       "      <td>73.0</td>\n",
       "      <td>65.0</td>\n",
       "      <td>0.0</td>\n",
       "      <td>1.0</td>\n",
       "      <td>1.0</td>\n",
       "      <td>26.0</td>\n",
       "      <td>35.0</td>\n",
       "      <td>1.0</td>\n",
       "    </tr>\n",
       "    <tr>\n",
       "      <th>...</th>\n",
       "      <td>...</td>\n",
       "      <td>...</td>\n",
       "      <td>...</td>\n",
       "      <td>...</td>\n",
       "      <td>...</td>\n",
       "      <td>...</td>\n",
       "      <td>...</td>\n",
       "      <td>...</td>\n",
       "    </tr>\n",
       "    <tr>\n",
       "      <th>681</th>\n",
       "      <td>49.0</td>\n",
       "      <td>84.0</td>\n",
       "      <td>0.0</td>\n",
       "      <td>0.0</td>\n",
       "      <td>3.0</td>\n",
       "      <td>1.0</td>\n",
       "      <td>30.0</td>\n",
       "      <td>2.0</td>\n",
       "    </tr>\n",
       "    <tr>\n",
       "      <th>682</th>\n",
       "      <td>53.0</td>\n",
       "      <td>0.0</td>\n",
       "      <td>1.0</td>\n",
       "      <td>1.0</td>\n",
       "      <td>17.0</td>\n",
       "      <td>0.0</td>\n",
       "      <td>25.0</td>\n",
       "      <td>2.0</td>\n",
       "    </tr>\n",
       "    <tr>\n",
       "      <th>683</th>\n",
       "      <td>51.0</td>\n",
       "      <td>0.0</td>\n",
       "      <td>0.0</td>\n",
       "      <td>0.0</td>\n",
       "      <td>5.0</td>\n",
       "      <td>43.0</td>\n",
       "      <td>25.0</td>\n",
       "      <td>2.0</td>\n",
       "    </tr>\n",
       "    <tr>\n",
       "      <th>684</th>\n",
       "      <td>52.0</td>\n",
       "      <td>34.0</td>\n",
       "      <td>0.0</td>\n",
       "      <td>1.0</td>\n",
       "      <td>3.0</td>\n",
       "      <td>15.0</td>\n",
       "      <td>23.0</td>\n",
       "      <td>1.0</td>\n",
       "    </tr>\n",
       "    <tr>\n",
       "      <th>685</th>\n",
       "      <td>55.0</td>\n",
       "      <td>15.0</td>\n",
       "      <td>0.0</td>\n",
       "      <td>1.0</td>\n",
       "      <td>9.0</td>\n",
       "      <td>116.0</td>\n",
       "      <td>23.0</td>\n",
       "      <td>1.0</td>\n",
       "    </tr>\n",
       "  </tbody>\n",
       "</table>\n",
       "<p>686 rows × 8 columns</p>\n",
       "</div>"
      ],
      "text/plain": [
       "      age  estrec  horTh=yes  menostat=Post  pnodes  progrec  tsize  tgrade\n",
       "0    70.0    66.0        0.0            1.0     3.0     48.0   21.0     1.0\n",
       "1    56.0    77.0        1.0            1.0     7.0     61.0   12.0     1.0\n",
       "2    58.0   271.0        1.0            1.0     9.0     52.0   35.0     1.0\n",
       "3    59.0    29.0        1.0            1.0     4.0     60.0   17.0     1.0\n",
       "4    73.0    65.0        0.0            1.0     1.0     26.0   35.0     1.0\n",
       "..    ...     ...        ...            ...     ...      ...    ...     ...\n",
       "681  49.0    84.0        0.0            0.0     3.0      1.0   30.0     2.0\n",
       "682  53.0     0.0        1.0            1.0    17.0      0.0   25.0     2.0\n",
       "683  51.0     0.0        0.0            0.0     5.0     43.0   25.0     2.0\n",
       "684  52.0    34.0        0.0            1.0     3.0     15.0   23.0     1.0\n",
       "685  55.0    15.0        0.0            1.0     9.0    116.0   23.0     1.0\n",
       "\n",
       "[686 rows x 8 columns]"
      ]
     },
     "execution_count": 6,
     "metadata": {},
     "output_type": "execute_result"
    }
   ],
   "source": [
    "Xt"
   ]
  },
  {
   "cell_type": "code",
   "execution_count": 106,
   "id": "a4b9ff6a-085c-43f0-b862-b9d1762e9c7c",
   "metadata": {
    "tags": []
   },
   "outputs": [
    {
     "data": {
      "text/plain": [
       "array([( True, 1814.), ( True, 2018.), ( True,  712.)],\n",
       "      dtype=[('cens', '?'), ('time', '<f8')])"
      ]
     },
     "execution_count": 106,
     "metadata": {},
     "output_type": "execute_result"
    }
   ],
   "source": [
    "y[0:3]"
   ]
  },
  {
   "cell_type": "markdown",
   "id": "464bba69-9e2b-4c70-a681-82924822987a",
   "metadata": {
    "tags": []
   },
   "source": [
    "## Notre base"
   ]
  },
  {
   "cell_type": "code",
   "execution_count": 93,
   "id": "0e26135b-ce92-4e05-bee4-fd209a921622",
   "metadata": {
    "tags": []
   },
   "outputs": [
    {
     "data": {
      "text/html": [
       "<div>\n",
       "<style scoped>\n",
       "    .dataframe tbody tr th:only-of-type {\n",
       "        vertical-align: middle;\n",
       "    }\n",
       "\n",
       "    .dataframe tbody tr th {\n",
       "        vertical-align: top;\n",
       "    }\n",
       "\n",
       "    .dataframe thead th {\n",
       "        text-align: right;\n",
       "    }\n",
       "</style>\n",
       "<table border=\"1\" class=\"dataframe\">\n",
       "  <thead>\n",
       "    <tr style=\"text-align: right;\">\n",
       "      <th></th>\n",
       "      <th>CODE_PATIENT</th>\n",
       "      <th>date_h0</th>\n",
       "      <th>y_nais</th>\n",
       "      <th>BEN_RES_DPT</th>\n",
       "      <th>BEN_SEX_COD</th>\n",
       "      <th>dte_deces</th>\n",
       "      <th>Mort</th>\n",
       "      <th>Nb_survie</th>\n",
       "      <th>Nb_hospit</th>\n",
       "      <th>CHOC</th>\n",
       "      <th>Nb_jours_sej</th>\n",
       "      <th>cat_age</th>\n",
       "      <th>cat_nb_hospit</th>\n",
       "      <th>cat_nb_jours_sej</th>\n",
       "      <th>cluster</th>\n",
       "    </tr>\n",
       "  </thead>\n",
       "  <tbody>\n",
       "    <tr>\n",
       "      <th>0</th>\n",
       "      <td>P0</td>\n",
       "      <td>2011-11-22</td>\n",
       "      <td>1949</td>\n",
       "      <td>11</td>\n",
       "      <td>1</td>\n",
       "      <td>NaN</td>\n",
       "      <td>False</td>\n",
       "      <td>2596</td>\n",
       "      <td>9</td>\n",
       "      <td>0</td>\n",
       "      <td>23</td>\n",
       "      <td>1</td>\n",
       "      <td>1</td>\n",
       "      <td>1</td>\n",
       "      <td>0</td>\n",
       "    </tr>\n",
       "    <tr>\n",
       "      <th>1</th>\n",
       "      <td>P6</td>\n",
       "      <td>2013-12-05</td>\n",
       "      <td>1929</td>\n",
       "      <td>14</td>\n",
       "      <td>2</td>\n",
       "      <td>2015-03</td>\n",
       "      <td>True</td>\n",
       "      <td>456</td>\n",
       "      <td>8</td>\n",
       "      <td>0</td>\n",
       "      <td>51</td>\n",
       "      <td>2</td>\n",
       "      <td>1</td>\n",
       "      <td>1</td>\n",
       "      <td>1</td>\n",
       "    </tr>\n",
       "    <tr>\n",
       "      <th>2</th>\n",
       "      <td>P8</td>\n",
       "      <td>2015-07-02</td>\n",
       "      <td>1967</td>\n",
       "      <td>54</td>\n",
       "      <td>2</td>\n",
       "      <td>2015-08</td>\n",
       "      <td>True</td>\n",
       "      <td>41</td>\n",
       "      <td>3</td>\n",
       "      <td>1</td>\n",
       "      <td>43</td>\n",
       "      <td>0</td>\n",
       "      <td>1</td>\n",
       "      <td>1</td>\n",
       "      <td>2</td>\n",
       "    </tr>\n",
       "    <tr>\n",
       "      <th>3</th>\n",
       "      <td>P13</td>\n",
       "      <td>2011-05-19</td>\n",
       "      <td>1959</td>\n",
       "      <td>974</td>\n",
       "      <td>1</td>\n",
       "      <td>NaN</td>\n",
       "      <td>False</td>\n",
       "      <td>2783</td>\n",
       "      <td>2</td>\n",
       "      <td>0</td>\n",
       "      <td>3</td>\n",
       "      <td>0</td>\n",
       "      <td>1</td>\n",
       "      <td>0</td>\n",
       "      <td>3</td>\n",
       "    </tr>\n",
       "    <tr>\n",
       "      <th>4</th>\n",
       "      <td>P16</td>\n",
       "      <td>2010-03-18</td>\n",
       "      <td>1947</td>\n",
       "      <td>76</td>\n",
       "      <td>1</td>\n",
       "      <td>NaN</td>\n",
       "      <td>False</td>\n",
       "      <td>3210</td>\n",
       "      <td>9</td>\n",
       "      <td>0</td>\n",
       "      <td>28</td>\n",
       "      <td>1</td>\n",
       "      <td>1</td>\n",
       "      <td>1</td>\n",
       "      <td>0</td>\n",
       "    </tr>\n",
       "    <tr>\n",
       "      <th>...</th>\n",
       "      <td>...</td>\n",
       "      <td>...</td>\n",
       "      <td>...</td>\n",
       "      <td>...</td>\n",
       "      <td>...</td>\n",
       "      <td>...</td>\n",
       "      <td>...</td>\n",
       "      <td>...</td>\n",
       "      <td>...</td>\n",
       "      <td>...</td>\n",
       "      <td>...</td>\n",
       "      <td>...</td>\n",
       "      <td>...</td>\n",
       "      <td>...</td>\n",
       "      <td>...</td>\n",
       "    </tr>\n",
       "    <tr>\n",
       "      <th>10046</th>\n",
       "      <td>P24302</td>\n",
       "      <td>2014-02-08</td>\n",
       "      <td>1920</td>\n",
       "      <td>29</td>\n",
       "      <td>1</td>\n",
       "      <td>2014-12</td>\n",
       "      <td>True</td>\n",
       "      <td>318</td>\n",
       "      <td>8</td>\n",
       "      <td>0</td>\n",
       "      <td>47</td>\n",
       "      <td>2</td>\n",
       "      <td>1</td>\n",
       "      <td>1</td>\n",
       "      <td>12</td>\n",
       "    </tr>\n",
       "    <tr>\n",
       "      <th>10047</th>\n",
       "      <td>P24303</td>\n",
       "      <td>2012-02-09</td>\n",
       "      <td>1927</td>\n",
       "      <td>61</td>\n",
       "      <td>1</td>\n",
       "      <td>2017-05</td>\n",
       "      <td>True</td>\n",
       "      <td>1924</td>\n",
       "      <td>12</td>\n",
       "      <td>0</td>\n",
       "      <td>86</td>\n",
       "      <td>2</td>\n",
       "      <td>2</td>\n",
       "      <td>2</td>\n",
       "      <td>6</td>\n",
       "    </tr>\n",
       "    <tr>\n",
       "      <th>10048</th>\n",
       "      <td>P24304</td>\n",
       "      <td>2010-07-27</td>\n",
       "      <td>1924</td>\n",
       "      <td>999</td>\n",
       "      <td>1</td>\n",
       "      <td>2010-08</td>\n",
       "      <td>True</td>\n",
       "      <td>5</td>\n",
       "      <td>1</td>\n",
       "      <td>0</td>\n",
       "      <td>10</td>\n",
       "      <td>2</td>\n",
       "      <td>0</td>\n",
       "      <td>1</td>\n",
       "      <td>13</td>\n",
       "    </tr>\n",
       "    <tr>\n",
       "      <th>10049</th>\n",
       "      <td>P24308</td>\n",
       "      <td>2011-11-25</td>\n",
       "      <td>1925</td>\n",
       "      <td>13</td>\n",
       "      <td>2</td>\n",
       "      <td>2013-03</td>\n",
       "      <td>True</td>\n",
       "      <td>484</td>\n",
       "      <td>7</td>\n",
       "      <td>0</td>\n",
       "      <td>99</td>\n",
       "      <td>2</td>\n",
       "      <td>1</td>\n",
       "      <td>2</td>\n",
       "      <td>1</td>\n",
       "    </tr>\n",
       "    <tr>\n",
       "      <th>10050</th>\n",
       "      <td>P24310</td>\n",
       "      <td>2010-12-18</td>\n",
       "      <td>1941</td>\n",
       "      <td>81</td>\n",
       "      <td>2</td>\n",
       "      <td>NaN</td>\n",
       "      <td>False</td>\n",
       "      <td>2935</td>\n",
       "      <td>4</td>\n",
       "      <td>0</td>\n",
       "      <td>29</td>\n",
       "      <td>1</td>\n",
       "      <td>1</td>\n",
       "      <td>1</td>\n",
       "      <td>7</td>\n",
       "    </tr>\n",
       "  </tbody>\n",
       "</table>\n",
       "<p>10051 rows × 15 columns</p>\n",
       "</div>"
      ],
      "text/plain": [
       "      CODE_PATIENT     date_h0  y_nais BEN_RES_DPT  BEN_SEX_COD dte_deces  \\\n",
       "0               P0  2011-11-22    1949          11            1       NaN   \n",
       "1               P6  2013-12-05    1929          14            2   2015-03   \n",
       "2               P8  2015-07-02    1967          54            2   2015-08   \n",
       "3              P13  2011-05-19    1959         974            1       NaN   \n",
       "4              P16  2010-03-18    1947          76            1       NaN   \n",
       "...            ...         ...     ...         ...          ...       ...   \n",
       "10046       P24302  2014-02-08    1920          29            1   2014-12   \n",
       "10047       P24303  2012-02-09    1927          61            1   2017-05   \n",
       "10048       P24304  2010-07-27    1924         999            1   2010-08   \n",
       "10049       P24308  2011-11-25    1925          13            2   2013-03   \n",
       "10050       P24310  2010-12-18    1941          81            2       NaN   \n",
       "\n",
       "        Mort  Nb_survie  Nb_hospit  CHOC  Nb_jours_sej  cat_age  \\\n",
       "0      False       2596          9     0            23        1   \n",
       "1       True        456          8     0            51        2   \n",
       "2       True         41          3     1            43        0   \n",
       "3      False       2783          2     0             3        0   \n",
       "4      False       3210          9     0            28        1   \n",
       "...      ...        ...        ...   ...           ...      ...   \n",
       "10046   True        318          8     0            47        2   \n",
       "10047   True       1924         12     0            86        2   \n",
       "10048   True          5          1     0            10        2   \n",
       "10049   True        484          7     0            99        2   \n",
       "10050  False       2935          4     0            29        1   \n",
       "\n",
       "       cat_nb_hospit  cat_nb_jours_sej  cluster  \n",
       "0                  1                 1        0  \n",
       "1                  1                 1        1  \n",
       "2                  1                 1        2  \n",
       "3                  1                 0        3  \n",
       "4                  1                 1        0  \n",
       "...              ...               ...      ...  \n",
       "10046              1                 1       12  \n",
       "10047              2                 2        6  \n",
       "10048              0                 1       13  \n",
       "10049              1                 2        1  \n",
       "10050              1                 1        7  \n",
       "\n",
       "[10051 rows x 15 columns]"
      ]
     },
     "execution_count": 93,
     "metadata": {},
     "output_type": "execute_result"
    }
   ],
   "source": [
    "profil_patient=pd.read_csv(\"../data/profil_patient.csv\")\n",
    "profil_patient['CHOC']=profil_patient['CHOC'].astype(int)\n",
    "profil_patient"
   ]
  },
  {
   "cell_type": "code",
   "execution_count": 100,
   "id": "4e38b209-9964-41ee-b155-567ac37fc337",
   "metadata": {
    "tags": []
   },
   "outputs": [
    {
     "name": "stdout",
     "output_type": "stream",
     "text": [
      "True 456\n"
     ]
    }
   ],
   "source": [
    "data=profil_patient[['y_nais','BEN_SEX_COD','Nb_hospit','CHOC','Nb_jours_sej','cluster']]\n",
    "Label= profil_patient[['Mort','Nb_survie']].to_records(index=False)\n",
    "Label"
   ]
  },
  {
   "cell_type": "code",
   "execution_count": 109,
   "id": "92c75f56-3828-4825-9ac2-8704f6ef199d",
   "metadata": {
    "tags": []
   },
   "outputs": [],
   "source": [
    "random_state = 20\n",
    "\n",
    "X_train, X_test, y_train, y_test = train_test_split(data, Label, test_size=0.25, random_state=random_state)"
   ]
  },
  {
   "cell_type": "code",
   "execution_count": 110,
   "id": "810dc57d-cc53-4313-a612-dbfa92763ff1",
   "metadata": {
    "tags": []
   },
   "outputs": [
    {
     "data": {
      "text/plain": [
       "RandomSurvivalForest(min_samples_leaf=15, min_samples_split=10,\n",
       "                     n_estimators=1000, n_jobs=-1, random_state=20)"
      ]
     },
     "execution_count": 110,
     "metadata": {},
     "output_type": "execute_result"
    }
   ],
   "source": [
    "rsf = RandomSurvivalForest(n_estimators=1000,\n",
    "                           min_samples_split=10,\n",
    "                           min_samples_leaf=15,\n",
    "                           n_jobs=-1,\n",
    "                           random_state=random_state,\n",
    "                           verbose=10)\n",
    "rsf.fit(X_train, y_train)"
   ]
  },
  {
   "cell_type": "code",
   "execution_count": 111,
   "id": "479e65c7-4138-4c7f-9066-0d3c4e093dbf",
   "metadata": {
    "tags": []
   },
   "outputs": [
    {
     "data": {
      "text/plain": [
       "0.6807206893779263"
      ]
     },
     "execution_count": 111,
     "metadata": {},
     "output_type": "execute_result"
    }
   ],
   "source": [
    "rsf.score(X_test, y_test)"
   ]
  },
  {
   "cell_type": "code",
   "execution_count": 113,
   "id": "9d646ff6-6cee-409f-885f-2f2ea9c3a8f4",
   "metadata": {
    "tags": []
   },
   "outputs": [
    {
     "data": {
      "text/html": [
       "<div>\n",
       "<style scoped>\n",
       "    .dataframe tbody tr th:only-of-type {\n",
       "        vertical-align: middle;\n",
       "    }\n",
       "\n",
       "    .dataframe tbody tr th {\n",
       "        vertical-align: top;\n",
       "    }\n",
       "\n",
       "    .dataframe thead th {\n",
       "        text-align: right;\n",
       "    }\n",
       "</style>\n",
       "<table border=\"1\" class=\"dataframe\">\n",
       "  <thead>\n",
       "    <tr style=\"text-align: right;\">\n",
       "      <th></th>\n",
       "      <th>y_nais</th>\n",
       "      <th>BEN_SEX_COD</th>\n",
       "      <th>Nb_hospit</th>\n",
       "      <th>CHOC</th>\n",
       "      <th>Nb_jours_sej</th>\n",
       "      <th>cluster</th>\n",
       "    </tr>\n",
       "  </thead>\n",
       "  <tbody>\n",
       "    <tr>\n",
       "      <th>5471</th>\n",
       "      <td>1909</td>\n",
       "      <td>2</td>\n",
       "      <td>5</td>\n",
       "      <td>0</td>\n",
       "      <td>35</td>\n",
       "      <td>1</td>\n",
       "    </tr>\n",
       "    <tr>\n",
       "      <th>1275</th>\n",
       "      <td>1910</td>\n",
       "      <td>2</td>\n",
       "      <td>2</td>\n",
       "      <td>0</td>\n",
       "      <td>4</td>\n",
       "      <td>1</td>\n",
       "    </tr>\n",
       "    <tr>\n",
       "      <th>4626</th>\n",
       "      <td>1910</td>\n",
       "      <td>2</td>\n",
       "      <td>6</td>\n",
       "      <td>0</td>\n",
       "      <td>62</td>\n",
       "      <td>1</td>\n",
       "    </tr>\n",
       "    <tr>\n",
       "      <th>9775</th>\n",
       "      <td>1990</td>\n",
       "      <td>1</td>\n",
       "      <td>3</td>\n",
       "      <td>0</td>\n",
       "      <td>48</td>\n",
       "      <td>3</td>\n",
       "    </tr>\n",
       "    <tr>\n",
       "      <th>472</th>\n",
       "      <td>1991</td>\n",
       "      <td>1</td>\n",
       "      <td>19</td>\n",
       "      <td>0</td>\n",
       "      <td>67</td>\n",
       "      <td>5</td>\n",
       "    </tr>\n",
       "    <tr>\n",
       "      <th>6602</th>\n",
       "      <td>1994</td>\n",
       "      <td>2</td>\n",
       "      <td>62</td>\n",
       "      <td>1</td>\n",
       "      <td>135</td>\n",
       "      <td>15</td>\n",
       "    </tr>\n",
       "  </tbody>\n",
       "</table>\n",
       "</div>"
      ],
      "text/plain": [
       "      y_nais  BEN_SEX_COD  Nb_hospit  CHOC  Nb_jours_sej  cluster\n",
       "5471    1909            2          5     0            35        1\n",
       "1275    1910            2          2     0             4        1\n",
       "4626    1910            2          6     0            62        1\n",
       "9775    1990            1          3     0            48        3\n",
       "472     1991            1         19     0            67        5\n",
       "6602    1994            2         62     1           135       15"
      ]
     },
     "execution_count": 113,
     "metadata": {},
     "output_type": "execute_result"
    }
   ],
   "source": [
    "X_test_sorted = X_test.sort_values(by=['y_nais'])\n",
    "X_test_sel = pd.concat((X_test_sorted.head(3), X_test_sorted.tail(3)))\n",
    "\n",
    "X_test_sel"
   ]
  },
  {
   "cell_type": "code",
   "execution_count": 114,
   "id": "4be2b5ae-017b-4450-be7f-d15469d55849",
   "metadata": {
    "tags": []
   },
   "outputs": [
    {
     "data": {
      "text/plain": [
       "0    3160.879601\n",
       "1    3315.282432\n",
       "2    2463.374281\n",
       "3    1158.473107\n",
       "4     380.825466\n",
       "5     454.293035\n",
       "dtype: float64"
      ]
     },
     "execution_count": 114,
     "metadata": {},
     "output_type": "execute_result"
    }
   ],
   "source": [
    "pd.Series(rsf.predict(X_test_sel))"
   ]
  },
  {
   "cell_type": "code",
   "execution_count": 115,
   "id": "5a511d4e-0e13-404a-ad69-7a4e34533f93",
   "metadata": {
    "tags": []
   },
   "outputs": [
    {
     "data": {
      "image/png": "[encoded data removed]",
      "text/plain": [
       "<Figure size 640x480 with 1 Axes>"
      ]
     },
     "metadata": {},
     "output_type": "display_data"
    }
   ],
   "source": [
    "surv = rsf.predict_survival_function(X_test_sel, return_array=True)\n",
    "\n",
    "for i, s in enumerate(surv):\n",
    "    plt.step(rsf.event_times_, s, where=\"post\", label=str(i))\n",
    "plt.ylabel(\"Survival probability\")\n",
    "plt.xlabel(\"Time in days\")\n",
    "plt.legend()\n",
    "plt.grid(True)"
   ]
  },
  {
   "cell_type": "code",
   "execution_count": 116,
   "id": "ec226998-86b0-4425-8e26-2f7992f0ee8a",
   "metadata": {
    "tags": []
   },
   "outputs": [
    {
     "data": {
      "image/png": "[encoded data removed]",
      "text/plain": [
       "<Figure size 640x480 with 1 Axes>"
      ]
     },
     "metadata": {},
     "output_type": "display_data"
    }
   ],
   "source": [
    "surv = rsf.predict_cumulative_hazard_function(X_test_sel, return_array=True)\n",
    "\n",
    "for i, s in enumerate(surv):\n",
    "    plt.step(rsf.event_times_, s, where=\"post\", label=str(i))\n",
    "plt.ylabel(\"Cumulative hazard\")\n",
    "plt.xlabel(\"Time in days\")\n",
    "plt.legend()\n",
    "plt.grid(True)"
   ]
  },
  {
   "cell_type": "code",
   "execution_count": 117,
   "id": "4c95c42e-c1ca-4b93-874a-569c06ee10a8",
   "metadata": {
    "tags": []
   },
   "outputs": [],
   "source": [
    "from sklearn.inspection import permutation_importance\n",
    "\n",
    "result = permutation_importance(rsf, X_test, y_test, n_repeats=15, random_state=random_state)"
   ]
  },
  {
   "cell_type": "code",
   "execution_count": 118,
   "id": "c55b683c-b066-4cfe-9f80-70567db3914a",
   "metadata": {
    "tags": []
   },
   "outputs": [
    {
     "data": {
      "text/html": [
       "<div>\n",
       "<style scoped>\n",
       "    .dataframe tbody tr th:only-of-type {\n",
       "        vertical-align: middle;\n",
       "    }\n",
       "\n",
       "    .dataframe tbody tr th {\n",
       "        vertical-align: top;\n",
       "    }\n",
       "\n",
       "    .dataframe thead th {\n",
       "        text-align: right;\n",
       "    }\n",
       "</style>\n",
       "<table border=\"1\" class=\"dataframe\">\n",
       "  <thead>\n",
       "    <tr style=\"text-align: right;\">\n",
       "      <th></th>\n",
       "      <th>importances_mean</th>\n",
       "      <th>importances_std</th>\n",
       "    </tr>\n",
       "  </thead>\n",
       "  <tbody>\n",
       "    <tr>\n",
       "      <th>y_nais</th>\n",
       "      <td>0.076927</td>\n",
       "      <td>0.006315</td>\n",
       "    </tr>\n",
       "    <tr>\n",
       "      <th>Nb_hospit</th>\n",
       "      <td>0.070946</td>\n",
       "      <td>0.003016</td>\n",
       "    </tr>\n",
       "    <tr>\n",
       "      <th>Nb_jours_sej</th>\n",
       "      <td>0.034826</td>\n",
       "      <td>0.002130</td>\n",
       "    </tr>\n",
       "    <tr>\n",
       "      <th>cluster</th>\n",
       "      <td>0.008921</td>\n",
       "      <td>0.001933</td>\n",
       "    </tr>\n",
       "    <tr>\n",
       "      <th>CHOC</th>\n",
       "      <td>0.008184</td>\n",
       "      <td>0.001062</td>\n",
       "    </tr>\n",
       "    <tr>\n",
       "      <th>BEN_SEX_COD</th>\n",
       "      <td>-0.000037</td>\n",
       "      <td>0.000794</td>\n",
       "    </tr>\n",
       "  </tbody>\n",
       "</table>\n",
       "</div>"
      ],
      "text/plain": [
       "              importances_mean  importances_std\n",
       "y_nais                0.076927         0.006315\n",
       "Nb_hospit             0.070946         0.003016\n",
       "Nb_jours_sej          0.034826         0.002130\n",
       "cluster               0.008921         0.001933\n",
       "CHOC                  0.008184         0.001062\n",
       "BEN_SEX_COD          -0.000037         0.000794"
      ]
     },
     "execution_count": 118,
     "metadata": {},
     "output_type": "execute_result"
    }
   ],
   "source": [
    "pd.DataFrame(\n",
    "    {k: result[k] for k in (\"importances_mean\", \"importances_std\",)},\n",
    "    index=X_test.columns\n",
    ").sort_values(by=\"importances_mean\", ascending=False)"
   ]
  },
  {
   "cell_type": "markdown",
   "id": "2b51260d-e5c1-4358-b080-e91164a818d3",
   "metadata": {},
   "source": [
    "## Essai 2"
   ]
  },
  {
   "cell_type": "code",
   "execution_count": 143,
   "id": "72411fac-4768-4955-bcda-6b877e3d1a3a",
   "metadata": {
    "tags": []
   },
   "outputs": [
    {
     "data": {
      "text/plain": [
       "rec.array([(False, 2596), ( True,  456), ( True,   41), ...,\n",
       "           ( True,    5), ( True,  484), (False, 2935)],\n",
       "          dtype=[('Mort', '?'), ('Nb_survie', '<i8')])"
      ]
     },
     "execution_count": 143,
     "metadata": {},
     "output_type": "execute_result"
    }
   ],
   "source": [
    "data=profil_patient[['y_nais','BEN_SEX_COD','Nb_hospit','CHOC','Nb_jours_sej']]\n",
    "Label= profil_patient[['Mort','Nb_survie']].to_records(index=False)\n",
    "Label"
   ]
  },
  {
   "cell_type": "code",
   "execution_count": 144,
   "id": "4ec3f9f3-3892-409f-9af0-373128698b51",
   "metadata": {
    "tags": []
   },
   "outputs": [],
   "source": [
    "random_state = 20\n",
    "\n",
    "X_train, X_test, y_train, y_test = train_test_split(data, Label, test_size=0.25, random_state=random_state)"
   ]
  },
  {
   "cell_type": "code",
   "execution_count": null,
   "id": "de4f8b45-f378-49b4-bd0f-3834ef9c2f12",
   "metadata": {
    "tags": []
   },
   "outputs": [],
   "source": [
    "rsf = RandomSurvivalForest(n_estimators=500,\n",
    "                           min_samples_split=10,\n",
    "                           min_samples_leaf=15,\n",
    "                           n_jobs=-1,\n",
    "                           random_state=random_state,\n",
    "                           verbose=5)\n",
    "rsf.fit(X_train, y_train)"
   ]
  },
  {
   "cell_type": "code",
   "execution_count": 146,
   "id": "8de6c6f5-d3c7-47b9-b793-ee845f77e9dd",
   "metadata": {
    "tags": []
   },
   "outputs": [
    {
     "name": "stderr",
     "output_type": "stream",
     "text": [
      "[Parallel(n_jobs=30)]: Using backend ThreadingBackend with 30 concurrent workers.\n",
      "[Parallel(n_jobs=30)]: Done  12 tasks      | elapsed:    0.2s\n",
      "[Parallel(n_jobs=30)]: Done 102 tasks      | elapsed:    0.5s\n",
      "[Parallel(n_jobs=30)]: Done 228 tasks      | elapsed:    1.1s\n",
      "[Parallel(n_jobs=30)]: Done 390 tasks      | elapsed:    1.7s\n",
      "[Parallel(n_jobs=30)]: Done 500 out of 500 | elapsed:    2.1s finished\n"
     ]
    },
    {
     "data": {
      "text/plain": [
       "0.6808967082775095"
      ]
     },
     "execution_count": 146,
     "metadata": {},
     "output_type": "execute_result"
    }
   ],
   "source": [
    "rsf.score(X_test, y_test)"
   ]
  },
  {
   "cell_type": "code",
   "execution_count": 147,
   "id": "13e2c28a-04bb-47e1-81fc-9d5c2261b7c7",
   "metadata": {
    "tags": []
   },
   "outputs": [
    {
     "data": {
      "text/html": [
       "<div>\n",
       "<style scoped>\n",
       "    .dataframe tbody tr th:only-of-type {\n",
       "        vertical-align: middle;\n",
       "    }\n",
       "\n",
       "    .dataframe tbody tr th {\n",
       "        vertical-align: top;\n",
       "    }\n",
       "\n",
       "    .dataframe thead th {\n",
       "        text-align: right;\n",
       "    }\n",
       "</style>\n",
       "<table border=\"1\" class=\"dataframe\">\n",
       "  <thead>\n",
       "    <tr style=\"text-align: right;\">\n",
       "      <th></th>\n",
       "      <th>y_nais</th>\n",
       "      <th>BEN_SEX_COD</th>\n",
       "      <th>Nb_hospit</th>\n",
       "      <th>CHOC</th>\n",
       "      <th>Nb_jours_sej</th>\n",
       "    </tr>\n",
       "  </thead>\n",
       "  <tbody>\n",
       "    <tr>\n",
       "      <th>5471</th>\n",
       "      <td>1909</td>\n",
       "      <td>2</td>\n",
       "      <td>5</td>\n",
       "      <td>0</td>\n",
       "      <td>35</td>\n",
       "    </tr>\n",
       "    <tr>\n",
       "      <th>1275</th>\n",
       "      <td>1910</td>\n",
       "      <td>2</td>\n",
       "      <td>2</td>\n",
       "      <td>0</td>\n",
       "      <td>4</td>\n",
       "    </tr>\n",
       "    <tr>\n",
       "      <th>4626</th>\n",
       "      <td>1910</td>\n",
       "      <td>2</td>\n",
       "      <td>6</td>\n",
       "      <td>0</td>\n",
       "      <td>62</td>\n",
       "    </tr>\n",
       "    <tr>\n",
       "      <th>6656</th>\n",
       "      <td>1911</td>\n",
       "      <td>2</td>\n",
       "      <td>3</td>\n",
       "      <td>0</td>\n",
       "      <td>21</td>\n",
       "    </tr>\n",
       "    <tr>\n",
       "      <th>7931</th>\n",
       "      <td>1911</td>\n",
       "      <td>2</td>\n",
       "      <td>1</td>\n",
       "      <td>0</td>\n",
       "      <td>3</td>\n",
       "    </tr>\n",
       "    <tr>\n",
       "      <th>2839</th>\n",
       "      <td>1989</td>\n",
       "      <td>1</td>\n",
       "      <td>11</td>\n",
       "      <td>0</td>\n",
       "      <td>31</td>\n",
       "    </tr>\n",
       "    <tr>\n",
       "      <th>4785</th>\n",
       "      <td>1990</td>\n",
       "      <td>2</td>\n",
       "      <td>69</td>\n",
       "      <td>0</td>\n",
       "      <td>534</td>\n",
       "    </tr>\n",
       "    <tr>\n",
       "      <th>9775</th>\n",
       "      <td>1990</td>\n",
       "      <td>1</td>\n",
       "      <td>3</td>\n",
       "      <td>0</td>\n",
       "      <td>48</td>\n",
       "    </tr>\n",
       "    <tr>\n",
       "      <th>472</th>\n",
       "      <td>1991</td>\n",
       "      <td>1</td>\n",
       "      <td>19</td>\n",
       "      <td>0</td>\n",
       "      <td>67</td>\n",
       "    </tr>\n",
       "    <tr>\n",
       "      <th>6602</th>\n",
       "      <td>1994</td>\n",
       "      <td>2</td>\n",
       "      <td>62</td>\n",
       "      <td>1</td>\n",
       "      <td>135</td>\n",
       "    </tr>\n",
       "  </tbody>\n",
       "</table>\n",
       "</div>"
      ],
      "text/plain": [
       "      y_nais  BEN_SEX_COD  Nb_hospit  CHOC  Nb_jours_sej\n",
       "5471    1909            2          5     0            35\n",
       "1275    1910            2          2     0             4\n",
       "4626    1910            2          6     0            62\n",
       "6656    1911            2          3     0            21\n",
       "7931    1911            2          1     0             3\n",
       "2839    1989            1         11     0            31\n",
       "4785    1990            2         69     0           534\n",
       "9775    1990            1          3     0            48\n",
       "472     1991            1         19     0            67\n",
       "6602    1994            2         62     1           135"
      ]
     },
     "execution_count": 147,
     "metadata": {},
     "output_type": "execute_result"
    }
   ],
   "source": [
    "X_test_sorted = X_test.sort_values(by=['y_nais'])\n",
    "X_test_sel = pd.concat((X_test_sorted.head(5), X_test_sorted.tail(5)))\n",
    "\n",
    "X_test_sel"
   ]
  },
  {
   "cell_type": "code",
   "execution_count": 148,
   "id": "549bfdef-eb3a-4cd5-b516-e860f756d91e",
   "metadata": {
    "tags": []
   },
   "outputs": [
    {
     "name": "stderr",
     "output_type": "stream",
     "text": [
      "[Parallel(n_jobs=30)]: Using backend ThreadingBackend with 30 concurrent workers.\n",
      "[Parallel(n_jobs=30)]: Done  12 tasks      | elapsed:    0.0s\n",
      "[Parallel(n_jobs=30)]: Done 102 tasks      | elapsed:    0.1s\n",
      "[Parallel(n_jobs=30)]: Done 228 tasks      | elapsed:    0.1s\n",
      "[Parallel(n_jobs=30)]: Done 390 tasks      | elapsed:    0.2s\n",
      "[Parallel(n_jobs=30)]: Done 500 out of 500 | elapsed:    0.3s finished\n"
     ]
    },
    {
     "data": {
      "text/plain": [
       "0    3337.484628\n",
       "1    3442.453171\n",
       "2    2418.257128\n",
       "3    3633.403401\n",
       "4    3710.089553\n",
       "5     365.409662\n",
       "6     389.915013\n",
       "7    1217.103469\n",
       "8     412.726880\n",
       "9     502.934446\n",
       "dtype: float64"
      ]
     },
     "execution_count": 148,
     "metadata": {},
     "output_type": "execute_result"
    }
   ],
   "source": [
    "pd.Series(rsf.predict(X_test_sel))"
   ]
  },
  {
   "cell_type": "code",
   "execution_count": 149,
   "id": "553793ac-d1f0-4a01-bfa3-d9d32af19283",
   "metadata": {
    "tags": []
   },
   "outputs": [
    {
     "name": "stderr",
     "output_type": "stream",
     "text": [
      "[Parallel(n_jobs=30)]: Using backend ThreadingBackend with 30 concurrent workers.\n",
      "[Parallel(n_jobs=30)]: Done  12 tasks      | elapsed:    0.0s\n",
      "[Parallel(n_jobs=30)]: Done 102 tasks      | elapsed:    0.1s\n",
      "[Parallel(n_jobs=30)]: Done 228 tasks      | elapsed:    0.2s\n",
      "[Parallel(n_jobs=30)]: Done 390 tasks      | elapsed:    0.3s\n",
      "[Parallel(n_jobs=30)]: Done 500 out of 500 | elapsed:    0.4s finished\n"
     ]
    },
    {
     "data": {
      "image/png": "[encoded data removed]",
      "text/plain": [
       "<Figure size 640x480 with 1 Axes>"
      ]
     },
     "metadata": {},
     "output_type": "display_data"
    }
   ],
   "source": [
    "surv = rsf.predict_survival_function(X_test_sel, return_array=True)\n",
    "\n",
    "for i, s in enumerate(surv):\n",
    "    plt.step(rsf.event_times_, s, where=\"post\", label=str(i))\n",
    "plt.ylabel(\"Survival probability\")\n",
    "plt.xlabel(\"Time in days\")\n",
    "plt.legend()\n",
    "plt.grid(True)"
   ]
  },
  {
   "cell_type": "code",
   "execution_count": null,
   "id": "c3c8947b-4db7-4cc2-8217-f4efbf730010",
   "metadata": {
    "tags": []
   },
   "outputs": [],
   "source": [
    "from sklearn.inspection import permutation_importance\n",
    "\n",
    "result = permutation_importance(rsf, X_test, y_test, n_repeats=10, random_state=random_state)"
   ]
  },
  {
   "cell_type": "code",
   "execution_count": 151,
   "id": "5b221bf2-6457-49ec-98a0-cf9d4e083a96",
   "metadata": {
    "tags": []
   },
   "outputs": [
    {
     "data": {
      "text/html": [
       "<div>\n",
       "<style scoped>\n",
       "    .dataframe tbody tr th:only-of-type {\n",
       "        vertical-align: middle;\n",
       "    }\n",
       "\n",
       "    .dataframe tbody tr th {\n",
       "        vertical-align: top;\n",
       "    }\n",
       "\n",
       "    .dataframe thead th {\n",
       "        text-align: right;\n",
       "    }\n",
       "</style>\n",
       "<table border=\"1\" class=\"dataframe\">\n",
       "  <thead>\n",
       "    <tr style=\"text-align: right;\">\n",
       "      <th></th>\n",
       "      <th>importances_mean</th>\n",
       "      <th>importances_std</th>\n",
       "    </tr>\n",
       "  </thead>\n",
       "  <tbody>\n",
       "    <tr>\n",
       "      <th>y_nais</th>\n",
       "      <td>0.096716</td>\n",
       "      <td>0.005796</td>\n",
       "    </tr>\n",
       "    <tr>\n",
       "      <th>Nb_hospit</th>\n",
       "      <td>0.094094</td>\n",
       "      <td>0.003398</td>\n",
       "    </tr>\n",
       "    <tr>\n",
       "      <th>Nb_jours_sej</th>\n",
       "      <td>0.039792</td>\n",
       "      <td>0.001675</td>\n",
       "    </tr>\n",
       "    <tr>\n",
       "      <th>CHOC</th>\n",
       "      <td>0.010568</td>\n",
       "      <td>0.001184</td>\n",
       "    </tr>\n",
       "    <tr>\n",
       "      <th>BEN_SEX_COD</th>\n",
       "      <td>0.006734</td>\n",
       "      <td>0.000910</td>\n",
       "    </tr>\n",
       "  </tbody>\n",
       "</table>\n",
       "</div>"
      ],
      "text/plain": [
       "              importances_mean  importances_std\n",
       "y_nais                0.096716         0.005796\n",
       "Nb_hospit             0.094094         0.003398\n",
       "Nb_jours_sej          0.039792         0.001675\n",
       "CHOC                  0.010568         0.001184\n",
       "BEN_SEX_COD           0.006734         0.000910"
      ]
     },
     "execution_count": 151,
     "metadata": {},
     "output_type": "execute_result"
    }
   ],
   "source": [
    "pd.DataFrame(\n",
    "    {k: result[k] for k in (\"importances_mean\", \"importances_std\",)},\n",
    "    index=X_test.columns\n",
    ").sort_values(by=\"importances_mean\", ascending=False)"
   ]
  },
  {
   "cell_type": "code",
   "execution_count": 154,
   "id": "afb35aa3-d86b-4ae3-bb49-f5d966757098",
   "metadata": {
    "tags": []
   },
   "outputs": [
    {
     "name": "stderr",
     "output_type": "stream",
     "text": [
      "[Parallel(n_jobs=-1)]: Using backend ThreadingBackend with 30 concurrent workers.\n",
      "[Parallel(n_jobs=-1)]: Done  12 tasks      | elapsed:    0.1s\n",
      "[Parallel(n_jobs=-1)]: Done 102 tasks      | elapsed:    0.2s\n",
      "[Parallel(n_jobs=-1)]: Done 228 tasks      | elapsed:    0.4s\n",
      "[Parallel(n_jobs=-1)]: Done 390 tasks      | elapsed:    0.6s\n",
      "[Parallel(n_jobs=-1)]: Done 500 out of 500 | elapsed:    0.7s finished\n"
     ]
    },
    {
     "data": {
      "text/plain": [
       "(<7538x209934 sparse matrix of type '<class 'numpy.int64'>'\n",
       " \twith 38995630 stored elements in Compressed Sparse Row format>,\n",
       " array([     0,    413,    784,   1241,   1662,   2061,   2508,   2977,\n",
       "          3342,   3781,   4142,   4569,   4982,   5377,   5840,   6295,\n",
       "          6726,   7137,   7562,   7995,   8442,   8871,   9296,   9731,\n",
       "         10120,  10525,  10942,  11357,  11788,  12215,  12578,  13023,\n",
       "         13386,  13849,  14310,  14735,  15186,  15609,  16008,  16421,\n",
       "         16876,  17289,  17748,  18121,  18544,  18943,  19310,  19671,\n",
       "         20048,  20417,  20722,  21115,  21524,  21931,  22310,  22719,\n",
       "         23106,  23553,  23972,  24367,  24802,  25243,  25690,  26091,\n",
       "         26562,  27001,  27438,  27821,  28202,  28635,  28998,  29317,\n",
       "         29746,  30201,  30638,  30993,  31376,  31807,  32236,  32661,\n",
       "         32990,  33411,  33820,  34213,  34610,  35029,  35502,  35965,\n",
       "         36398,  36823,  37256,  37651,  38084,  38527,  38958,  39365,\n",
       "         39750,  40193,  40620,  41023,  41396,  41839,  42242,  42635,\n",
       "         42980,  43427,  43884,  44317,  44768,  45175,  45580,  46031,\n",
       "         46480,  46927,  47302,  47715,  48172,  48597,  49018,  49467,\n",
       "         49920,  50373,  50754,  51143,  51530,  51985,  52450,  52815,\n",
       "         53194,  53653,  54122,  54499,  54908,  55249,  55682,  56145,\n",
       "         56530,  56965,  57396,  57855,  58306,  58737,  59198,  59591,\n",
       "         60022,  60447,  60910,  61323,  61750,  62073,  62490,  62965,\n",
       "         63348,  63769,  64166,  64579,  65010,  65465,  65840,  66223,\n",
       "         66674,  67107,  67562,  68003,  68380,  68771,  69202,  69599,\n",
       "         70056,  70457,  70872,  71293,  71730,  72135,  72566,  73001,\n",
       "         73450,  73911,  74362,  74791,  75184,  75561,  76014,  76429,\n",
       "         76832,  77285,  77744,  78119,  78536,  78983,  79394,  79807,\n",
       "         80276,  80739,  81174,  81637,  82014,  82403,  82836,  83209,\n",
       "         83594,  84043,  84436,  84885,  85318,  85739,  86114,  86539,\n",
       "         86968,  87387,  87830,  88291,  88732,  89107,  89524,  89963,\n",
       "         90396,  90797,  91260,  91705,  92120,  92541,  92982,  93453,\n",
       "         93836,  94271,  94670,  95107,  95508,  95941,  96320,  96757,\n",
       "         97108,  97511,  97928,  98361,  98702,  99149,  99556,  99965,\n",
       "        100342, 100735, 101116, 101545, 102012, 102469, 102942, 103385,\n",
       "        103832, 104293, 104754, 105173, 105656, 106071, 106538, 106945,\n",
       "        107276, 107685, 108132, 108579, 109024, 109455, 109842, 110185,\n",
       "        110650, 111061, 111430, 111895, 112290, 112745, 113156, 113539,\n",
       "        113986, 114387, 114812, 115209, 115602, 116031, 116444, 116905,\n",
       "        117336, 117757, 118206, 118609, 118986, 119427, 119846, 120297,\n",
       "        120658, 121079, 121474, 121853, 122286, 122713, 123100, 123493,\n",
       "        123856, 124299, 124724, 125201, 125658, 126111, 126552, 126991,\n",
       "        127426, 127847, 128270, 128677, 129128, 129525, 129994, 130429,\n",
       "        130896, 131303, 131702, 132169, 132558, 133025, 133388, 133819,\n",
       "        134206, 134579, 135002, 135425, 135900, 136329, 136782, 137145,\n",
       "        137564, 137995, 138382, 138771, 139194, 139581, 139998, 140335,\n",
       "        140736, 141183, 141612, 142021, 142396, 142787, 143200, 143623,\n",
       "        144086, 144495, 144962, 145373, 145796, 146133, 146470, 146917,\n",
       "        147328, 147763, 148142, 148577, 148982, 149441, 149868, 150317,\n",
       "        150750, 151209, 151614, 152027, 152408, 152829, 153182, 153579,\n",
       "        154000, 154455, 154850, 155285, 155764, 156215, 156670, 157101,\n",
       "        157572, 157995, 158436, 158809, 159224, 159607, 160060, 160441,\n",
       "        160876, 161341, 161720, 162173, 162558, 162959, 163362, 163831,\n",
       "        164248, 164665, 165054, 165451, 165872, 166297, 166718, 167133,\n",
       "        167544, 167979, 168376, 168753, 169164, 169613, 170056, 170513,\n",
       "        170936, 171335, 171778, 172227, 172598, 173003, 173460, 173921,\n",
       "        174388, 174837, 175282, 175697, 176110, 176537, 177006, 177461,\n",
       "        177912, 178345, 178742, 179161, 179586, 179953, 180366, 180741,\n",
       "        181200, 181619, 182032, 182499, 182898, 183277, 183724, 184183,\n",
       "        184626, 185061, 185498, 185911, 186324, 186691, 187110, 187515,\n",
       "        187944, 188357, 188778, 189255, 189662, 190021, 190386, 190803,\n",
       "        191258, 191735, 192098, 192563, 192954, 193403, 193744, 194201,\n",
       "        194610, 195003, 195460, 195915, 196316, 196743, 197158, 197579,\n",
       "        197982, 198435, 198878, 199327, 199758, 200203, 200636, 201043,\n",
       "        201496, 201945, 202350, 202761, 203200, 203565, 204014, 204411,\n",
       "        204846, 205225, 205680, 206123, 206466, 206903, 207356, 207827,\n",
       "        208266, 208683, 209122, 209503, 209934]))"
      ]
     },
     "execution_count": 154,
     "metadata": {},
     "output_type": "execute_result"
    }
   ],
   "source": [
    "rsf.decision_path(X_train)"
   ]
  },
  {
   "cell_type": "code",
   "execution_count": 166,
   "id": "88009133-7ef9-4e98-afeb-823ed53a8891",
   "metadata": {
    "tags": []
   },
   "outputs": [
    {
     "name": "stdout",
     "output_type": "stream",
     "text": [
      "Compares the pooled hazard rate with each group-specific hazard rate.\n",
      "The alternative hypothesis is that the hazard rate of at least one group differs from the others at some time.\n",
      "Valeur de la statistique | p-valeur\n"
     ]
    },
    {
     "data": {
      "text/plain": [
       "(204.9744519431937, 1.280361921944441e-21)"
      ]
     },
     "execution_count": 166,
     "metadata": {},
     "output_type": "execute_result"
    }
   ],
   "source": [
    "from sksurv.compare import compare_survival\n",
    "print(\"Compares the pooled hazard rate with each group-specific hazard rate.\")\n",
    "print(\"The alternative hypothesis is that the hazard rate of at least one group differs from the others at some time.\")\n",
    "print(\"Valeur de la statistique | p-valeur\")\n",
    "compare_survival(Label[0:20], X_test[0:20], return_stats=False)"
   ]
  },
  {
   "cell_type": "markdown",
   "id": "73cc8468-edd2-459b-86dc-64c1d35bda72",
   "metadata": {},
   "source": [
    "## Gradient boosting"
   ]
  },
  {
   "cell_type": "code",
   "execution_count": 168,
   "id": "cb294fe5-4e9c-44e8-a484-3f561c70c00c",
   "metadata": {
    "tags": []
   },
   "outputs": [],
   "source": [
    "from sksurv.ensemble import ComponentwiseGradientBoostingSurvivalAnalysis\n",
    "from sksurv.ensemble import GradientBoostingSurvivalAnalysis\n",
    "data=profil_patient[['y_nais','BEN_SEX_COD','Nb_hospit','CHOC','Nb_jours_sej']]\n",
    "Label= profil_patient[['Mort','Nb_survie']].to_records(index=False)"
   ]
  },
  {
   "cell_type": "code",
   "execution_count": 169,
   "id": "d4e1c21c-468b-4283-8e19-e6cbac9fe922",
   "metadata": {
    "tags": []
   },
   "outputs": [],
   "source": [
    "random_state = 20\n",
    "X_train, X_test, y_train, y_test = train_test_split(data, Label, test_size=0.25, random_state=random_state)"
   ]
  },
  {
   "cell_type": "code",
   "execution_count": null,
   "id": "c8078c29-f7f9-4f34-8e6d-60bf65fff696",
   "metadata": {
    "tags": []
   },
   "outputs": [],
   "source": [
    "est_cph_tree = GradientBoostingSurvivalAnalysis(n_estimators=100, learning_rate=1.0, max_depth=1, random_state=0, verbose=3)\n",
    "est_cph_tree.fit(X_train, y_train)\n",
    "cindex = est_cph_tree.score(X_test, y_test)\n",
    "print(round(cindex, 3))"
   ]
  },
  {
   "cell_type": "code",
   "execution_count": null,
   "id": "6fad2a6d-2c8b-476a-94c1-2aef4a29da49",
   "metadata": {
    "tags": []
   },
   "outputs": [],
   "source": [
    "scores_cph_tree = {}\n",
    "est_cph_tree = GradientBoostingSurvivalAnalysis(learning_rate=1.0, max_depth=1, random_state=0, verbose=3)\n",
    "for i in range(1, 20,2):\n",
    "    n_estimators = i * 5\n",
    "    est_cph_tree.set_params(n_estimators=n_estimators)\n",
    "    est_cph_tree.fit(X_train, y_train)\n",
    "    scores_cph_tree[n_estimators] = est_cph_tree.score(X_test, y_test)"
   ]
  },
  {
   "cell_type": "code",
   "execution_count": 178,
   "id": "49d15e54-a6e9-4cad-a123-4b454eea021d",
   "metadata": {
    "tags": []
   },
   "outputs": [
    {
     "data": {
      "image/png": "[encoded data removed]",
      "text/plain": [
       "<Figure size 640x480 with 1 Axes>"
      ]
     },
     "metadata": {},
     "output_type": "display_data"
    }
   ],
   "source": [
    "x, y = zip(*scores_cph_tree.items())\n",
    "plt.plot(x, y)\n",
    "plt.xlabel(\"n_estimator\")\n",
    "plt.ylabel(\"concordance index\")\n",
    "plt.grid(True)"
   ]
  },
  {
   "cell_type": "code",
   "execution_count": null,
   "id": "bf4fac70-fa62-487a-855b-23ed1768f4f2",
   "metadata": {
    "tags": []
   },
   "outputs": [],
   "source": [
    "scores_cph_ls = {}\n",
    "\n",
    "est_cph_ls = ComponentwiseGradientBoostingSurvivalAnalysis(learning_rate=1.0, random_state=0,verbose=3)\n",
    "for i in range(1, 20,2):\n",
    "    n_estimators = i * 10\n",
    "    est_cph_ls.set_params(n_estimators=n_estimators)\n",
    "    est_cph_ls.fit(X_train, y_train)\n",
    "    scores_cph_ls[n_estimators] = est_cph_ls.score(X_test, y_test)"
   ]
  },
  {
   "cell_type": "code",
   "execution_count": 181,
   "id": "ce0078e4-7174-47e9-ace7-ee51f408648c",
   "metadata": {
    "tags": []
   },
   "outputs": [
    {
     "data": {
      "image/png": "[encoded data removed]",
      "text/plain": [
       "<Figure size 640x480 with 1 Axes>"
      ]
     },
     "metadata": {},
     "output_type": "display_data"
    }
   ],
   "source": [
    "x, y = zip(*scores_cph_ls.items())\n",
    "plt.plot(x, y)\n",
    "plt.xlabel(\"n_estimator\")\n",
    "plt.ylabel(\"concordance index\")\n",
    "plt.grid(True)"
   ]
  },
  {
   "cell_type": "code",
   "execution_count": 183,
   "id": "5f44280d-b05c-4790-98a4-a0f31f42b7ef",
   "metadata": {
    "tags": []
   },
   "outputs": [
    {
     "name": "stdout",
     "output_type": "stream",
     "text": [
      "Number of non-zero coefficients: 4\n"
     ]
    },
    {
     "data": {
      "text/plain": [
       "CHOC            0.388351\n",
       "Nb_hospit      -0.061323\n",
       "Nb_jours_sej    0.004844\n",
       "y_nais         -0.000106\n",
       "dtype: float64"
      ]
     },
     "execution_count": 183,
     "metadata": {},
     "output_type": "execute_result"
    }
   ],
   "source": [
    "coef = pd.Series(est_cph_ls.coef_, [\"Intercept\"] + data.columns.tolist())\n",
    "\n",
    "print(\"Number of non-zero coefficients:\", (coef != 0).sum())\n",
    "coef_nz = coef[coef != 0]\n",
    "coef_order = coef_nz.abs().sort_values(ascending=False).index\n",
    "coef_nz.loc[coef_order]"
   ]
  },
  {
   "cell_type": "code",
   "execution_count": null,
   "id": "5555c044-fd22-4cec-86c2-ca322d526160",
   "metadata": {
    "tags": []
   },
   "outputs": [],
   "source": [
    "est_aft_ls = ComponentwiseGradientBoostingSurvivalAnalysis(loss=\"ipcwls\", n_estimators=300, learning_rate=1.0, random_state=0).fit(X_train, y_train)\n",
    "cindex = est_aft_ls.score(X_test, y_test)\n",
    "print(round(cindex, 3))"
   ]
  },
  {
   "cell_type": "code",
   "execution_count": null,
   "id": "b9ae94f7-a45e-4e0d-a0d2-de355f2449cd",
   "metadata": {
    "tags": []
   },
   "outputs": [],
   "source": [
    "n_estimators = [i * 5 for i in range(1, 21)]\n",
    "\n",
    "estimators = {\n",
    "    \"no regularization\": GradientBoostingSurvivalAnalysis(\n",
    "        learning_rate=1.0, max_depth=1, random_state=0,verbose=3),\n",
    "    \"learning rate\": GradientBoostingSurvivalAnalysis(\n",
    "        learning_rate=0.1, max_depth=1, random_state=0,verbose=3),\n",
    "    \"dropout\": GradientBoostingSurvivalAnalysis(\n",
    "        learning_rate=1.0, dropout_rate=0.1, max_depth=1, random_state=0,verbose=3),\n",
    "    \"subsample\": GradientBoostingSurvivalAnalysis(\n",
    "        learning_rate=1.0, subsample=0.5, max_depth=1, random_state=0,verbose=3),\n",
    "}\n",
    "\n",
    "scores_reg = {k: [] for k in estimators.keys()}\n",
    "for n in n_estimators:\n",
    "    for name, est in estimators.items():\n",
    "        est.set_params(n_estimators=n)\n",
    "        est.fit(X_train, y_train)\n",
    "        cindex = est.score(X_test, y_test)\n",
    "        scores_reg[name].append(cindex)\n",
    "\n",
    "scores_reg = pd.DataFrame(scores_reg, index=n_estimators)"
   ]
  },
  {
   "cell_type": "code",
   "execution_count": null,
   "id": "7c14797f-e0eb-40ba-92b6-3b5b497d0f4b",
   "metadata": {
    "tags": []
   },
   "outputs": [],
   "source": [
    "ax = scores_reg.plot(xlabel=\"n_estimators\", ylabel=\"concordance index\")\n",
    "ax.grid(True)"
   ]
  },
  {
   "cell_type": "code",
   "execution_count": null,
   "id": "757da9fc-9c33-43cc-8dac-cb70ab710063",
   "metadata": {
    "tags": []
   },
   "outputs": [],
   "source": [
    "class EarlyStoppingMonitor:\n",
    "\n",
    "    def __init__(self, window_size, max_iter_without_improvement):\n",
    "        self.window_size = window_size\n",
    "        self.max_iter_without_improvement = max_iter_without_improvement\n",
    "        self._best_step = -1\n",
    "\n",
    "    def __call__(self, iteration, estimator, args):\n",
    "        # continue training for first self.window_size iterations\n",
    "        if iteration < self.window_size:\n",
    "            return False\n",
    "\n",
    "        # compute average improvement in last self.window_size iterations.\n",
    "        # oob_improvement_ is the different in negative log partial likelihood\n",
    "        # between the previous and current iteration.\n",
    "        start = iteration - self.window_size + 1\n",
    "        end = iteration + 1\n",
    "        improvement = np.mean(estimator.oob_improvement_[start:end])\n",
    "\n",
    "        if improvement > 1e-6:\n",
    "            self._best_step = iteration\n",
    "            return False  # continue fitting\n",
    "\n",
    "        # stop fitting if there was no improvement\n",
    "        # in last max_iter_without_improvement iterations\n",
    "        diff = iteration - self._best_step\n",
    "        return diff >= self.max_iter_without_improvement\n",
    "\n",
    "\n",
    "est_early_stopping = GradientBoostingSurvivalAnalysis(\n",
    "    n_estimators=1000, learning_rate=0.05, subsample=0.5,\n",
    "    max_depth=1, random_state=0\n",
    ")\n",
    "\n",
    "monitor = EarlyStoppingMonitor(25, 50)\n",
    "\n",
    "est_early_stopping.fit(X_train, y_train, monitor=monitor)\n",
    "\n",
    "print(\"Fitted base learners:\", est_early_stopping.n_estimators_)\n",
    "\n",
    "cindex = est_early_stopping.score(X_test, y_test)\n",
    "print(\"Performance on test set\", round(cindex, 3))"
   ]
  },
  {
   "cell_type": "code",
   "execution_count": 188,
   "id": "17e58710-6793-4fc6-b4da-82f9c708ec04",
   "metadata": {
    "tags": []
   },
   "outputs": [
    {
     "data": {
      "image/png": "[encoded data removed]",
      "text/plain": [
       "<Figure size 640x480 with 1 Axes>"
      ]
     },
     "metadata": {},
     "output_type": "display_data"
    }
   ],
   "source": [
    "improvement = pd.Series(\n",
    "    est_early_stopping.oob_improvement_,\n",
    "    index=np.arange(1, 1 + len(est_early_stopping.oob_improvement_))\n",
    ")\n",
    "ax = improvement.plot(xlabel=\"iteration\", ylabel=\"oob improvement\")\n",
    "ax.axhline(0.0, linestyle=\"--\", color=\"gray\")\n",
    "cutoff = len(improvement) - monitor.max_iter_without_improvement\n",
    "ax.axvline(cutoff, linestyle=\"--\", color=\"C3\")\n",
    "\n",
    "_ = improvement.rolling(monitor.window_size).mean().plot(ax=ax, linestyle=\":\")"
   ]
  },
  {
   "cell_type": "code",
   "execution_count": 189,
   "id": "f5842381-f28b-455d-b937-5b0fb42b1352",
   "metadata": {
    "tags": []
   },
   "outputs": [],
   "source": [
    "#https://scikit-survival.readthedocs.io/en/stable/user_guide/random-survival-forest.html"
   ]
  },
  {
   "cell_type": "code",
   "execution_count": null,
   "id": "2ffc647f-7914-4350-893a-9ece5d3f1daf",
   "metadata": {},
   "outputs": [],
   "source": []
  }
 ],
 "metadata": {
  "kernelspec": {
   "display_name": "Python 3 (ipykernel)",
   "language": "python",
   "name": "python3"
  },
  "language_info": {
   "codemirror_mode": {
    "name": "ipython",
    "version": 3
   },
   "file_extension": ".py",
   "mimetype": "text/x-python",
   "name": "python",
   "nbconvert_exporter": "python",
   "pygments_lexer": "ipython3",
   "version": "3.10.8"
  }
 },
 "nbformat": 4,
 "nbformat_minor": 5
}
