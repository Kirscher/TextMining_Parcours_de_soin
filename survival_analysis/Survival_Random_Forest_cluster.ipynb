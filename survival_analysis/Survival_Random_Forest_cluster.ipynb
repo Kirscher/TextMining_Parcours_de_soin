{
 "cells": [
  {
   "cell_type": "code",
   "execution_count": 1,
   "id": "7c544be9-f28c-485d-8228-e4ac2a4442b2",
   "metadata": {
    "tags": []
   },
   "outputs": [],
   "source": [
    "%%capture capt\n",
    "!pip install scikit-learn==1.1.2\n",
    "!pip install -U scikit-survival\n",
    "from tqdm import tqdm\n",
    "import numpy as np\n",
    "import pandas as pd\n",
    "from matplotlib import pyplot as plt\n",
    "\n",
    "%matplotlib inline\n",
    "\n",
    "from sklearn import set_config\n",
    "from sklearn.model_selection import train_test_split\n",
    "from sklearn.preprocessing import OrdinalEncoder\n",
    "from sksurv.preprocessing import OneHotEncoder\n",
    "from sksurv.ensemble import RandomSurvivalForest\n",
    "\n",
    "set_config(display=\"text\")  # displays text representation of estimators"
   ]
  },
  {
   "cell_type": "raw",
   "id": "3851c2b9-b53f-49c8-b4ad-82dfac173412",
   "metadata": {
    "tags": []
   },
   "source": [
    "from sksurv.datasets import load_gbsg2\n",
    "X, y = load_gbsg2()\n",
    "\n",
    "grade_str = X.loc[:, \"tgrade\"].astype(object).values[:, np.newaxis]\n",
    "grade_num = OrdinalEncoder(categories=[[\"I\", \"II\", \"III\"]]).fit_transform(grade_str)\n",
    "\n",
    "X_no_grade = X.drop(\"tgrade\", axis=1)\n",
    "Xt = OneHotEncoder().fit_transform(X_no_grade)\n",
    "Xt.loc[:, \"tgrade\"] = grade_num"
   ]
  },
  {
   "cell_type": "raw",
   "id": "af8d5fdc-a010-4047-9716-e74482f91472",
   "metadata": {
    "tags": []
   },
   "source": [
    "Xt"
   ]
  },
  {
   "cell_type": "raw",
   "id": "547323c8-f8ea-4e06-82f8-d7c026087fb1",
   "metadata": {
    "tags": []
   },
   "source": [
    "y[0:3]"
   ]
  },
  {
   "cell_type": "markdown",
   "id": "464bba69-9e2b-4c70-a681-82924822987a",
   "metadata": {
    "tags": []
   },
   "source": [
    "## Notre base"
   ]
  },
  {
   "cell_type": "code",
   "execution_count": 2,
   "id": "0e26135b-ce92-4e05-bee4-fd209a921622",
   "metadata": {
    "tags": []
   },
   "outputs": [
    {
     "data": {
      "text/html": [
       "<div>\n",
       "<style scoped>\n",
       "    .dataframe tbody tr th:only-of-type {\n",
       "        vertical-align: middle;\n",
       "    }\n",
       "\n",
       "    .dataframe tbody tr th {\n",
       "        vertical-align: top;\n",
       "    }\n",
       "\n",
       "    .dataframe thead th {\n",
       "        text-align: right;\n",
       "    }\n",
       "</style>\n",
       "<table border=\"1\" class=\"dataframe\">\n",
       "  <thead>\n",
       "    <tr style=\"text-align: right;\">\n",
       "      <th></th>\n",
       "      <th>CODE_PATIENT</th>\n",
       "      <th>date_h0</th>\n",
       "      <th>y_nais</th>\n",
       "      <th>BEN_RES_DPT</th>\n",
       "      <th>BEN_SEX_COD</th>\n",
       "      <th>dte_deces</th>\n",
       "      <th>Mort</th>\n",
       "      <th>Nb_survie</th>\n",
       "      <th>Nb_hospit</th>\n",
       "      <th>CHOC</th>\n",
       "      <th>...</th>\n",
       "      <th>cluster12</th>\n",
       "      <th>cluster13</th>\n",
       "      <th>cluster14</th>\n",
       "      <th>cluster15</th>\n",
       "      <th>cluster16</th>\n",
       "      <th>cluster17</th>\n",
       "      <th>cluster18</th>\n",
       "      <th>cluster19</th>\n",
       "      <th>cluster20</th>\n",
       "      <th>p_soins</th>\n",
       "    </tr>\n",
       "  </thead>\n",
       "  <tbody>\n",
       "    <tr>\n",
       "      <th>0</th>\n",
       "      <td>P0</td>\n",
       "      <td>2011-11-22</td>\n",
       "      <td>1949</td>\n",
       "      <td>11</td>\n",
       "      <td>1</td>\n",
       "      <td>NaN</td>\n",
       "      <td>False</td>\n",
       "      <td>2596</td>\n",
       "      <td>9</td>\n",
       "      <td>0</td>\n",
       "      <td>...</td>\n",
       "      <td>0</td>\n",
       "      <td>0</td>\n",
       "      <td>0</td>\n",
       "      <td>0</td>\n",
       "      <td>0</td>\n",
       "      <td>0</td>\n",
       "      <td>0</td>\n",
       "      <td>0</td>\n",
       "      <td>0</td>\n",
       "      <td>05K051,05M042,05M16T,05M09T,05M092,05C191,05M2...</td>\n",
       "    </tr>\n",
       "    <tr>\n",
       "      <th>1</th>\n",
       "      <td>P6</td>\n",
       "      <td>2013-12-05</td>\n",
       "      <td>1929</td>\n",
       "      <td>14</td>\n",
       "      <td>2</td>\n",
       "      <td>2015-03</td>\n",
       "      <td>True</td>\n",
       "      <td>456</td>\n",
       "      <td>8</td>\n",
       "      <td>0</td>\n",
       "      <td>...</td>\n",
       "      <td>0</td>\n",
       "      <td>0</td>\n",
       "      <td>0</td>\n",
       "      <td>0</td>\n",
       "      <td>0</td>\n",
       "      <td>1</td>\n",
       "      <td>0</td>\n",
       "      <td>0</td>\n",
       "      <td>0</td>\n",
       "      <td>02C05J,02C05J,05M093,04M132,05C222,23M103,04M0...</td>\n",
       "    </tr>\n",
       "    <tr>\n",
       "      <th>2</th>\n",
       "      <td>P8</td>\n",
       "      <td>2015-07-02</td>\n",
       "      <td>1967</td>\n",
       "      <td>54</td>\n",
       "      <td>2</td>\n",
       "      <td>2015-08</td>\n",
       "      <td>True</td>\n",
       "      <td>41</td>\n",
       "      <td>3</td>\n",
       "      <td>1</td>\n",
       "      <td>...</td>\n",
       "      <td>0</td>\n",
       "      <td>0</td>\n",
       "      <td>0</td>\n",
       "      <td>0</td>\n",
       "      <td>0</td>\n",
       "      <td>0</td>\n",
       "      <td>1</td>\n",
       "      <td>0</td>\n",
       "      <td>0</td>\n",
       "      <td>11M041,06C194</td>\n",
       "    </tr>\n",
       "    <tr>\n",
       "      <th>3</th>\n",
       "      <td>P13</td>\n",
       "      <td>2011-05-19</td>\n",
       "      <td>1959</td>\n",
       "      <td>974</td>\n",
       "      <td>1</td>\n",
       "      <td>NaN</td>\n",
       "      <td>False</td>\n",
       "      <td>2783</td>\n",
       "      <td>2</td>\n",
       "      <td>0</td>\n",
       "      <td>...</td>\n",
       "      <td>0</td>\n",
       "      <td>0</td>\n",
       "      <td>0</td>\n",
       "      <td>0</td>\n",
       "      <td>0</td>\n",
       "      <td>0</td>\n",
       "      <td>0</td>\n",
       "      <td>0</td>\n",
       "      <td>0</td>\n",
       "      <td>05M04T,05K051</td>\n",
       "    </tr>\n",
       "    <tr>\n",
       "      <th>4</th>\n",
       "      <td>P16</td>\n",
       "      <td>2010-03-18</td>\n",
       "      <td>1947</td>\n",
       "      <td>76</td>\n",
       "      <td>1</td>\n",
       "      <td>NaN</td>\n",
       "      <td>False</td>\n",
       "      <td>3210</td>\n",
       "      <td>9</td>\n",
       "      <td>0</td>\n",
       "      <td>...</td>\n",
       "      <td>0</td>\n",
       "      <td>0</td>\n",
       "      <td>0</td>\n",
       "      <td>0</td>\n",
       "      <td>0</td>\n",
       "      <td>0</td>\n",
       "      <td>1</td>\n",
       "      <td>0</td>\n",
       "      <td>0</td>\n",
       "      <td>08C11V,23M15Z,05K102,05M08T,05K102,05C191,23M1...</td>\n",
       "    </tr>\n",
       "    <tr>\n",
       "      <th>...</th>\n",
       "      <td>...</td>\n",
       "      <td>...</td>\n",
       "      <td>...</td>\n",
       "      <td>...</td>\n",
       "      <td>...</td>\n",
       "      <td>...</td>\n",
       "      <td>...</td>\n",
       "      <td>...</td>\n",
       "      <td>...</td>\n",
       "      <td>...</td>\n",
       "      <td>...</td>\n",
       "      <td>...</td>\n",
       "      <td>...</td>\n",
       "      <td>...</td>\n",
       "      <td>...</td>\n",
       "      <td>...</td>\n",
       "      <td>...</td>\n",
       "      <td>...</td>\n",
       "      <td>...</td>\n",
       "      <td>...</td>\n",
       "      <td>...</td>\n",
       "    </tr>\n",
       "    <tr>\n",
       "      <th>10046</th>\n",
       "      <td>P24302</td>\n",
       "      <td>2014-02-08</td>\n",
       "      <td>1920</td>\n",
       "      <td>29</td>\n",
       "      <td>1</td>\n",
       "      <td>2014-12</td>\n",
       "      <td>True</td>\n",
       "      <td>318</td>\n",
       "      <td>8</td>\n",
       "      <td>0</td>\n",
       "      <td>...</td>\n",
       "      <td>0</td>\n",
       "      <td>0</td>\n",
       "      <td>0</td>\n",
       "      <td>1</td>\n",
       "      <td>0</td>\n",
       "      <td>0</td>\n",
       "      <td>0</td>\n",
       "      <td>0</td>\n",
       "      <td>0</td>\n",
       "      <td>04M05V,23M20T,05M082,06M033,09M031,05M093,10M1...</td>\n",
       "    </tr>\n",
       "    <tr>\n",
       "      <th>10047</th>\n",
       "      <td>P24303</td>\n",
       "      <td>2012-02-09</td>\n",
       "      <td>1927</td>\n",
       "      <td>61</td>\n",
       "      <td>1</td>\n",
       "      <td>2017-05</td>\n",
       "      <td>True</td>\n",
       "      <td>1924</td>\n",
       "      <td>12</td>\n",
       "      <td>0</td>\n",
       "      <td>...</td>\n",
       "      <td>0</td>\n",
       "      <td>1</td>\n",
       "      <td>0</td>\n",
       "      <td>0</td>\n",
       "      <td>0</td>\n",
       "      <td>0</td>\n",
       "      <td>0</td>\n",
       "      <td>0</td>\n",
       "      <td>0</td>\n",
       "      <td>05M094,05M09T,05K052,23M101,09M053,05C143,23M1...</td>\n",
       "    </tr>\n",
       "    <tr>\n",
       "      <th>10048</th>\n",
       "      <td>P24304</td>\n",
       "      <td>2010-07-27</td>\n",
       "      <td>1924</td>\n",
       "      <td>999</td>\n",
       "      <td>1</td>\n",
       "      <td>2010-08</td>\n",
       "      <td>True</td>\n",
       "      <td>5</td>\n",
       "      <td>1</td>\n",
       "      <td>0</td>\n",
       "      <td>...</td>\n",
       "      <td>0</td>\n",
       "      <td>0</td>\n",
       "      <td>0</td>\n",
       "      <td>0</td>\n",
       "      <td>0</td>\n",
       "      <td>0</td>\n",
       "      <td>1</td>\n",
       "      <td>0</td>\n",
       "      <td>0</td>\n",
       "      <td>05M082</td>\n",
       "    </tr>\n",
       "    <tr>\n",
       "      <th>10049</th>\n",
       "      <td>P24308</td>\n",
       "      <td>2011-11-25</td>\n",
       "      <td>1925</td>\n",
       "      <td>13</td>\n",
       "      <td>2</td>\n",
       "      <td>2013-03</td>\n",
       "      <td>True</td>\n",
       "      <td>484</td>\n",
       "      <td>7</td>\n",
       "      <td>0</td>\n",
       "      <td>...</td>\n",
       "      <td>0</td>\n",
       "      <td>0</td>\n",
       "      <td>0</td>\n",
       "      <td>0</td>\n",
       "      <td>1</td>\n",
       "      <td>0</td>\n",
       "      <td>0</td>\n",
       "      <td>0</td>\n",
       "      <td>0</td>\n",
       "      <td>05M091,04M173,04M171,04C042,23M061,07M023,04M174</td>\n",
       "    </tr>\n",
       "    <tr>\n",
       "      <th>10050</th>\n",
       "      <td>P24310</td>\n",
       "      <td>2010-12-18</td>\n",
       "      <td>1941</td>\n",
       "      <td>81</td>\n",
       "      <td>2</td>\n",
       "      <td>NaN</td>\n",
       "      <td>False</td>\n",
       "      <td>2935</td>\n",
       "      <td>4</td>\n",
       "      <td>0</td>\n",
       "      <td>...</td>\n",
       "      <td>0</td>\n",
       "      <td>0</td>\n",
       "      <td>0</td>\n",
       "      <td>0</td>\n",
       "      <td>0</td>\n",
       "      <td>1</td>\n",
       "      <td>0</td>\n",
       "      <td>0</td>\n",
       "      <td>0</td>\n",
       "      <td>08C322,08C14J,08C322,13C122</td>\n",
       "    </tr>\n",
       "  </tbody>\n",
       "</table>\n",
       "<p>10051 rows × 35 columns</p>\n",
       "</div>"
      ],
      "text/plain": [
       "      CODE_PATIENT     date_h0  y_nais BEN_RES_DPT  BEN_SEX_COD dte_deces  \\\n",
       "0               P0  2011-11-22    1949          11            1       NaN   \n",
       "1               P6  2013-12-05    1929          14            2   2015-03   \n",
       "2               P8  2015-07-02    1967          54            2   2015-08   \n",
       "3              P13  2011-05-19    1959         974            1       NaN   \n",
       "4              P16  2010-03-18    1947          76            1       NaN   \n",
       "...            ...         ...     ...         ...          ...       ...   \n",
       "10046       P24302  2014-02-08    1920          29            1   2014-12   \n",
       "10047       P24303  2012-02-09    1927          61            1   2017-05   \n",
       "10048       P24304  2010-07-27    1924         999            1   2010-08   \n",
       "10049       P24308  2011-11-25    1925          13            2   2013-03   \n",
       "10050       P24310  2010-12-18    1941          81            2       NaN   \n",
       "\n",
       "        Mort  Nb_survie  Nb_hospit  CHOC  ...  cluster12  cluster13  \\\n",
       "0      False       2596          9     0  ...          0          0   \n",
       "1       True        456          8     0  ...          0          0   \n",
       "2       True         41          3     1  ...          0          0   \n",
       "3      False       2783          2     0  ...          0          0   \n",
       "4      False       3210          9     0  ...          0          0   \n",
       "...      ...        ...        ...   ...  ...        ...        ...   \n",
       "10046   True        318          8     0  ...          0          0   \n",
       "10047   True       1924         12     0  ...          0          1   \n",
       "10048   True          5          1     0  ...          0          0   \n",
       "10049   True        484          7     0  ...          0          0   \n",
       "10050  False       2935          4     0  ...          0          0   \n",
       "\n",
       "       cluster14  cluster15  cluster16  cluster17  cluster18  cluster19  \\\n",
       "0              0          0          0          0          0          0   \n",
       "1              0          0          0          1          0          0   \n",
       "2              0          0          0          0          1          0   \n",
       "3              0          0          0          0          0          0   \n",
       "4              0          0          0          0          1          0   \n",
       "...          ...        ...        ...        ...        ...        ...   \n",
       "10046          0          1          0          0          0          0   \n",
       "10047          0          0          0          0          0          0   \n",
       "10048          0          0          0          0          1          0   \n",
       "10049          0          0          1          0          0          0   \n",
       "10050          0          0          0          1          0          0   \n",
       "\n",
       "       cluster20                                            p_soins  \n",
       "0              0  05K051,05M042,05M16T,05M09T,05M092,05C191,05M2...  \n",
       "1              0  02C05J,02C05J,05M093,04M132,05C222,23M103,04M0...  \n",
       "2              0                                      11M041,06C194  \n",
       "3              0                                      05M04T,05K051  \n",
       "4              0  08C11V,23M15Z,05K102,05M08T,05K102,05C191,23M1...  \n",
       "...          ...                                                ...  \n",
       "10046          0  04M05V,23M20T,05M082,06M033,09M031,05M093,10M1...  \n",
       "10047          0  05M094,05M09T,05K052,23M101,09M053,05C143,23M1...  \n",
       "10048          0                                             05M082  \n",
       "10049          0   05M091,04M173,04M171,04C042,23M061,07M023,04M174  \n",
       "10050          0                        08C322,08C14J,08C322,13C122  \n",
       "\n",
       "[10051 rows x 35 columns]"
      ]
     },
     "execution_count": 2,
     "metadata": {},
     "output_type": "execute_result"
    }
   ],
   "source": [
    "profil_patient=pd.read_csv(\"../data/profil_patient_cluster.csv\")\n",
    "profil_patient['CHOC']=profil_patient['CHOC'].astype(int)\n",
    "profil_patient"
   ]
  },
  {
   "cell_type": "code",
   "execution_count": 4,
   "id": "4e38b209-9964-41ee-b155-567ac37fc337",
   "metadata": {
    "tags": []
   },
   "outputs": [
    {
     "data": {
      "text/plain": [
       "rec.array([(False, 2596), ( True,  456), ( True,   41), ...,\n",
       "           ( True,    5), ( True,  484), (False, 2935)],\n",
       "          dtype=[('Mort', '?'), ('Nb_survie', '<i8')])"
      ]
     },
     "execution_count": 4,
     "metadata": {},
     "output_type": "execute_result"
    }
   ],
   "source": [
    "Liste_label=['y_nais','BEN_SEX_COD','Nb_hospit','CHOC','Nb_jours_sej']\n",
    "for i in range(1,21):\n",
    "    Liste_label.append('cluster' + str(i))\n",
    "data=profil_patient[Liste_label]\n",
    "Label= profil_patient[['Mort','Nb_survie']].to_records(index=False)\n",
    "Label"
   ]
  },
  {
   "cell_type": "code",
   "execution_count": 6,
   "id": "281e8201-ab4a-4fb6-a6e0-ee23ca172301",
   "metadata": {
    "tags": []
   },
   "outputs": [
    {
     "data": {
      "text/html": [
       "<div>\n",
       "<style scoped>\n",
       "    .dataframe tbody tr th:only-of-type {\n",
       "        vertical-align: middle;\n",
       "    }\n",
       "\n",
       "    .dataframe tbody tr th {\n",
       "        vertical-align: top;\n",
       "    }\n",
       "\n",
       "    .dataframe thead th {\n",
       "        text-align: right;\n",
       "    }\n",
       "</style>\n",
       "<table border=\"1\" class=\"dataframe\">\n",
       "  <thead>\n",
       "    <tr style=\"text-align: right;\">\n",
       "      <th></th>\n",
       "      <th>y_nais</th>\n",
       "      <th>BEN_SEX_COD</th>\n",
       "      <th>Nb_hospit</th>\n",
       "      <th>CHOC</th>\n",
       "      <th>Nb_jours_sej</th>\n",
       "      <th>cluster1</th>\n",
       "      <th>cluster2</th>\n",
       "      <th>cluster3</th>\n",
       "      <th>cluster4</th>\n",
       "      <th>cluster5</th>\n",
       "      <th>...</th>\n",
       "      <th>cluster11</th>\n",
       "      <th>cluster12</th>\n",
       "      <th>cluster13</th>\n",
       "      <th>cluster14</th>\n",
       "      <th>cluster15</th>\n",
       "      <th>cluster16</th>\n",
       "      <th>cluster17</th>\n",
       "      <th>cluster18</th>\n",
       "      <th>cluster19</th>\n",
       "      <th>cluster20</th>\n",
       "    </tr>\n",
       "  </thead>\n",
       "  <tbody>\n",
       "    <tr>\n",
       "      <th>0</th>\n",
       "      <td>1949</td>\n",
       "      <td>1</td>\n",
       "      <td>9</td>\n",
       "      <td>0</td>\n",
       "      <td>23</td>\n",
       "      <td>0</td>\n",
       "      <td>0</td>\n",
       "      <td>0</td>\n",
       "      <td>0</td>\n",
       "      <td>0</td>\n",
       "      <td>...</td>\n",
       "      <td>0</td>\n",
       "      <td>0</td>\n",
       "      <td>0</td>\n",
       "      <td>0</td>\n",
       "      <td>0</td>\n",
       "      <td>0</td>\n",
       "      <td>0</td>\n",
       "      <td>0</td>\n",
       "      <td>0</td>\n",
       "      <td>0</td>\n",
       "    </tr>\n",
       "    <tr>\n",
       "      <th>1</th>\n",
       "      <td>1929</td>\n",
       "      <td>2</td>\n",
       "      <td>8</td>\n",
       "      <td>0</td>\n",
       "      <td>51</td>\n",
       "      <td>0</td>\n",
       "      <td>0</td>\n",
       "      <td>0</td>\n",
       "      <td>0</td>\n",
       "      <td>0</td>\n",
       "      <td>...</td>\n",
       "      <td>0</td>\n",
       "      <td>0</td>\n",
       "      <td>0</td>\n",
       "      <td>0</td>\n",
       "      <td>0</td>\n",
       "      <td>0</td>\n",
       "      <td>1</td>\n",
       "      <td>0</td>\n",
       "      <td>0</td>\n",
       "      <td>0</td>\n",
       "    </tr>\n",
       "    <tr>\n",
       "      <th>2</th>\n",
       "      <td>1967</td>\n",
       "      <td>2</td>\n",
       "      <td>3</td>\n",
       "      <td>1</td>\n",
       "      <td>43</td>\n",
       "      <td>0</td>\n",
       "      <td>0</td>\n",
       "      <td>0</td>\n",
       "      <td>0</td>\n",
       "      <td>0</td>\n",
       "      <td>...</td>\n",
       "      <td>0</td>\n",
       "      <td>0</td>\n",
       "      <td>0</td>\n",
       "      <td>0</td>\n",
       "      <td>0</td>\n",
       "      <td>0</td>\n",
       "      <td>0</td>\n",
       "      <td>1</td>\n",
       "      <td>0</td>\n",
       "      <td>0</td>\n",
       "    </tr>\n",
       "    <tr>\n",
       "      <th>3</th>\n",
       "      <td>1959</td>\n",
       "      <td>1</td>\n",
       "      <td>2</td>\n",
       "      <td>0</td>\n",
       "      <td>3</td>\n",
       "      <td>0</td>\n",
       "      <td>0</td>\n",
       "      <td>0</td>\n",
       "      <td>0</td>\n",
       "      <td>0</td>\n",
       "      <td>...</td>\n",
       "      <td>0</td>\n",
       "      <td>0</td>\n",
       "      <td>0</td>\n",
       "      <td>0</td>\n",
       "      <td>0</td>\n",
       "      <td>0</td>\n",
       "      <td>0</td>\n",
       "      <td>0</td>\n",
       "      <td>0</td>\n",
       "      <td>0</td>\n",
       "    </tr>\n",
       "    <tr>\n",
       "      <th>4</th>\n",
       "      <td>1947</td>\n",
       "      <td>1</td>\n",
       "      <td>9</td>\n",
       "      <td>0</td>\n",
       "      <td>28</td>\n",
       "      <td>0</td>\n",
       "      <td>0</td>\n",
       "      <td>0</td>\n",
       "      <td>0</td>\n",
       "      <td>0</td>\n",
       "      <td>...</td>\n",
       "      <td>0</td>\n",
       "      <td>0</td>\n",
       "      <td>0</td>\n",
       "      <td>0</td>\n",
       "      <td>0</td>\n",
       "      <td>0</td>\n",
       "      <td>0</td>\n",
       "      <td>1</td>\n",
       "      <td>0</td>\n",
       "      <td>0</td>\n",
       "    </tr>\n",
       "  </tbody>\n",
       "</table>\n",
       "<p>5 rows × 25 columns</p>\n",
       "</div>"
      ],
      "text/plain": [
       "   y_nais  BEN_SEX_COD  Nb_hospit  CHOC  Nb_jours_sej  cluster1  cluster2  \\\n",
       "0    1949            1          9     0            23         0         0   \n",
       "1    1929            2          8     0            51         0         0   \n",
       "2    1967            2          3     1            43         0         0   \n",
       "3    1959            1          2     0             3         0         0   \n",
       "4    1947            1          9     0            28         0         0   \n",
       "\n",
       "   cluster3  cluster4  cluster5  ...  cluster11  cluster12  cluster13  \\\n",
       "0         0         0         0  ...          0          0          0   \n",
       "1         0         0         0  ...          0          0          0   \n",
       "2         0         0         0  ...          0          0          0   \n",
       "3         0         0         0  ...          0          0          0   \n",
       "4         0         0         0  ...          0          0          0   \n",
       "\n",
       "   cluster14  cluster15  cluster16  cluster17  cluster18  cluster19  cluster20  \n",
       "0          0          0          0          0          0          0          0  \n",
       "1          0          0          0          1          0          0          0  \n",
       "2          0          0          0          0          1          0          0  \n",
       "3          0          0          0          0          0          0          0  \n",
       "4          0          0          0          0          1          0          0  \n",
       "\n",
       "[5 rows x 25 columns]"
      ]
     },
     "execution_count": 6,
     "metadata": {},
     "output_type": "execute_result"
    }
   ],
   "source": [
    "data.head()"
   ]
  },
  {
   "cell_type": "code",
   "execution_count": 7,
   "id": "92c75f56-3828-4825-9ac2-8704f6ef199d",
   "metadata": {
    "tags": []
   },
   "outputs": [],
   "source": [
    "random_state = 20\n",
    "\n",
    "X_train, X_test, y_train, y_test = train_test_split(data, Label, test_size=0.25, random_state=random_state)"
   ]
  },
  {
   "cell_type": "code",
   "execution_count": 8,
   "id": "810dc57d-cc53-4313-a612-dbfa92763ff1",
   "metadata": {
    "tags": []
   },
   "outputs": [
    {
     "data": {
      "text/plain": [
       "RandomSurvivalForest(min_samples_leaf=15, min_samples_split=10, n_estimators=10,\n",
       "                     n_jobs=-1, random_state=20)"
      ]
     },
     "execution_count": 8,
     "metadata": {},
     "output_type": "execute_result"
    }
   ],
   "source": [
    "rsf = RandomSurvivalForest(n_estimators=10,\n",
    "                           min_samples_split=10,\n",
    "                           min_samples_leaf=15,\n",
    "                           n_jobs=-1,\n",
    "                           random_state=random_state,\n",
    "                           verbose=0)\n",
    "rsf.fit(X_train, y_train)"
   ]
  },
  {
   "cell_type": "code",
   "execution_count": 9,
   "id": "479e65c7-4138-4c7f-9066-0d3c4e093dbf",
   "metadata": {
    "tags": []
   },
   "outputs": [
    {
     "data": {
      "text/plain": [
       "0.6770998096666498"
      ]
     },
     "execution_count": 9,
     "metadata": {},
     "output_type": "execute_result"
    }
   ],
   "source": [
    "rsf.score(X_test, y_test)"
   ]
  },
  {
   "cell_type": "code",
   "execution_count": 10,
   "id": "9d646ff6-6cee-409f-885f-2f2ea9c3a8f4",
   "metadata": {
    "tags": []
   },
   "outputs": [
    {
     "data": {
      "text/html": [
       "<div>\n",
       "<style scoped>\n",
       "    .dataframe tbody tr th:only-of-type {\n",
       "        vertical-align: middle;\n",
       "    }\n",
       "\n",
       "    .dataframe tbody tr th {\n",
       "        vertical-align: top;\n",
       "    }\n",
       "\n",
       "    .dataframe thead th {\n",
       "        text-align: right;\n",
       "    }\n",
       "</style>\n",
       "<table border=\"1\" class=\"dataframe\">\n",
       "  <thead>\n",
       "    <tr style=\"text-align: right;\">\n",
       "      <th></th>\n",
       "      <th>y_nais</th>\n",
       "      <th>BEN_SEX_COD</th>\n",
       "      <th>Nb_hospit</th>\n",
       "      <th>CHOC</th>\n",
       "      <th>Nb_jours_sej</th>\n",
       "      <th>cluster1</th>\n",
       "      <th>cluster2</th>\n",
       "      <th>cluster3</th>\n",
       "      <th>cluster4</th>\n",
       "      <th>cluster5</th>\n",
       "      <th>...</th>\n",
       "      <th>cluster11</th>\n",
       "      <th>cluster12</th>\n",
       "      <th>cluster13</th>\n",
       "      <th>cluster14</th>\n",
       "      <th>cluster15</th>\n",
       "      <th>cluster16</th>\n",
       "      <th>cluster17</th>\n",
       "      <th>cluster18</th>\n",
       "      <th>cluster19</th>\n",
       "      <th>cluster20</th>\n",
       "    </tr>\n",
       "  </thead>\n",
       "  <tbody>\n",
       "    <tr>\n",
       "      <th>5471</th>\n",
       "      <td>1909</td>\n",
       "      <td>2</td>\n",
       "      <td>5</td>\n",
       "      <td>0</td>\n",
       "      <td>35</td>\n",
       "      <td>0</td>\n",
       "      <td>0</td>\n",
       "      <td>0</td>\n",
       "      <td>0</td>\n",
       "      <td>0</td>\n",
       "      <td>...</td>\n",
       "      <td>0</td>\n",
       "      <td>0</td>\n",
       "      <td>0</td>\n",
       "      <td>0</td>\n",
       "      <td>0</td>\n",
       "      <td>0</td>\n",
       "      <td>0</td>\n",
       "      <td>0</td>\n",
       "      <td>0</td>\n",
       "      <td>0</td>\n",
       "    </tr>\n",
       "    <tr>\n",
       "      <th>1275</th>\n",
       "      <td>1910</td>\n",
       "      <td>2</td>\n",
       "      <td>2</td>\n",
       "      <td>0</td>\n",
       "      <td>4</td>\n",
       "      <td>0</td>\n",
       "      <td>0</td>\n",
       "      <td>0</td>\n",
       "      <td>0</td>\n",
       "      <td>0</td>\n",
       "      <td>...</td>\n",
       "      <td>0</td>\n",
       "      <td>0</td>\n",
       "      <td>0</td>\n",
       "      <td>0</td>\n",
       "      <td>0</td>\n",
       "      <td>0</td>\n",
       "      <td>0</td>\n",
       "      <td>1</td>\n",
       "      <td>0</td>\n",
       "      <td>0</td>\n",
       "    </tr>\n",
       "    <tr>\n",
       "      <th>4626</th>\n",
       "      <td>1910</td>\n",
       "      <td>2</td>\n",
       "      <td>6</td>\n",
       "      <td>0</td>\n",
       "      <td>62</td>\n",
       "      <td>0</td>\n",
       "      <td>0</td>\n",
       "      <td>0</td>\n",
       "      <td>1</td>\n",
       "      <td>0</td>\n",
       "      <td>...</td>\n",
       "      <td>0</td>\n",
       "      <td>0</td>\n",
       "      <td>0</td>\n",
       "      <td>0</td>\n",
       "      <td>0</td>\n",
       "      <td>0</td>\n",
       "      <td>0</td>\n",
       "      <td>0</td>\n",
       "      <td>0</td>\n",
       "      <td>0</td>\n",
       "    </tr>\n",
       "    <tr>\n",
       "      <th>9775</th>\n",
       "      <td>1990</td>\n",
       "      <td>1</td>\n",
       "      <td>3</td>\n",
       "      <td>0</td>\n",
       "      <td>48</td>\n",
       "      <td>0</td>\n",
       "      <td>0</td>\n",
       "      <td>0</td>\n",
       "      <td>0</td>\n",
       "      <td>0</td>\n",
       "      <td>...</td>\n",
       "      <td>0</td>\n",
       "      <td>0</td>\n",
       "      <td>0</td>\n",
       "      <td>0</td>\n",
       "      <td>0</td>\n",
       "      <td>0</td>\n",
       "      <td>0</td>\n",
       "      <td>0</td>\n",
       "      <td>0</td>\n",
       "      <td>0</td>\n",
       "    </tr>\n",
       "    <tr>\n",
       "      <th>472</th>\n",
       "      <td>1991</td>\n",
       "      <td>1</td>\n",
       "      <td>19</td>\n",
       "      <td>0</td>\n",
       "      <td>67</td>\n",
       "      <td>0</td>\n",
       "      <td>0</td>\n",
       "      <td>0</td>\n",
       "      <td>0</td>\n",
       "      <td>0</td>\n",
       "      <td>...</td>\n",
       "      <td>0</td>\n",
       "      <td>0</td>\n",
       "      <td>0</td>\n",
       "      <td>0</td>\n",
       "      <td>0</td>\n",
       "      <td>0</td>\n",
       "      <td>0</td>\n",
       "      <td>0</td>\n",
       "      <td>1</td>\n",
       "      <td>0</td>\n",
       "    </tr>\n",
       "    <tr>\n",
       "      <th>6602</th>\n",
       "      <td>1994</td>\n",
       "      <td>2</td>\n",
       "      <td>62</td>\n",
       "      <td>1</td>\n",
       "      <td>135</td>\n",
       "      <td>0</td>\n",
       "      <td>0</td>\n",
       "      <td>1</td>\n",
       "      <td>0</td>\n",
       "      <td>0</td>\n",
       "      <td>...</td>\n",
       "      <td>0</td>\n",
       "      <td>0</td>\n",
       "      <td>0</td>\n",
       "      <td>0</td>\n",
       "      <td>0</td>\n",
       "      <td>0</td>\n",
       "      <td>0</td>\n",
       "      <td>0</td>\n",
       "      <td>0</td>\n",
       "      <td>0</td>\n",
       "    </tr>\n",
       "  </tbody>\n",
       "</table>\n",
       "<p>6 rows × 25 columns</p>\n",
       "</div>"
      ],
      "text/plain": [
       "      y_nais  BEN_SEX_COD  Nb_hospit  CHOC  Nb_jours_sej  cluster1  cluster2  \\\n",
       "5471    1909            2          5     0            35         0         0   \n",
       "1275    1910            2          2     0             4         0         0   \n",
       "4626    1910            2          6     0            62         0         0   \n",
       "9775    1990            1          3     0            48         0         0   \n",
       "472     1991            1         19     0            67         0         0   \n",
       "6602    1994            2         62     1           135         0         0   \n",
       "\n",
       "      cluster3  cluster4  cluster5  ...  cluster11  cluster12  cluster13  \\\n",
       "5471         0         0         0  ...          0          0          0   \n",
       "1275         0         0         0  ...          0          0          0   \n",
       "4626         0         1         0  ...          0          0          0   \n",
       "9775         0         0         0  ...          0          0          0   \n",
       "472          0         0         0  ...          0          0          0   \n",
       "6602         1         0         0  ...          0          0          0   \n",
       "\n",
       "      cluster14  cluster15  cluster16  cluster17  cluster18  cluster19  \\\n",
       "5471          0          0          0          0          0          0   \n",
       "1275          0          0          0          0          1          0   \n",
       "4626          0          0          0          0          0          0   \n",
       "9775          0          0          0          0          0          0   \n",
       "472           0          0          0          0          0          1   \n",
       "6602          0          0          0          0          0          0   \n",
       "\n",
       "      cluster20  \n",
       "5471          0  \n",
       "1275          0  \n",
       "4626          0  \n",
       "9775          0  \n",
       "472           0  \n",
       "6602          0  \n",
       "\n",
       "[6 rows x 25 columns]"
      ]
     },
     "execution_count": 10,
     "metadata": {},
     "output_type": "execute_result"
    }
   ],
   "source": [
    "X_test_sorted = X_test.sort_values(by=['y_nais'])\n",
    "X_test_sel = pd.concat((X_test_sorted.head(3), X_test_sorted.tail(3)))\n",
    "\n",
    "X_test_sel"
   ]
  },
  {
   "cell_type": "code",
   "execution_count": 11,
   "id": "4be2b5ae-017b-4450-be7f-d15469d55849",
   "metadata": {
    "tags": []
   },
   "outputs": [
    {
     "data": {
      "text/plain": [
       "0    2754.910410\n",
       "1    3131.925104\n",
       "2    2043.682374\n",
       "3    1160.871091\n",
       "4     496.648648\n",
       "5     929.438986\n",
       "dtype: float64"
      ]
     },
     "execution_count": 11,
     "metadata": {},
     "output_type": "execute_result"
    }
   ],
   "source": [
    "pd.Series(rsf.predict(X_test_sel))"
   ]
  },
  {
   "cell_type": "code",
   "execution_count": 12,
   "id": "5a511d4e-0e13-404a-ad69-7a4e34533f93",
   "metadata": {
    "tags": []
   },
   "outputs": [
    {
     "data": {
      "image/png": "[encoded data removed]",
      "text/plain": [
       "<Figure size 640x480 with 1 Axes>"
      ]
     },
     "metadata": {},
     "output_type": "display_data"
    }
   ],
   "source": [
    "surv = rsf.predict_survival_function(X_test_sel, return_array=True)\n",
    "\n",
    "for i, s in enumerate(surv):\n",
    "    plt.step(rsf.event_times_, s, where=\"post\", label=str(i))\n",
    "plt.ylabel(\"Survival probability\")\n",
    "plt.xlabel(\"Time in days\")\n",
    "plt.legend()\n",
    "plt.grid(True)"
   ]
  },
  {
   "cell_type": "code",
   "execution_count": 13,
   "id": "ec226998-86b0-4425-8e26-2f7992f0ee8a",
   "metadata": {
    "tags": []
   },
   "outputs": [
    {
     "data": {
      "image/png": "[encoded data removed]",
      "text/plain": [
       "<Figure size 640x480 with 1 Axes>"
      ]
     },
     "metadata": {},
     "output_type": "display_data"
    }
   ],
   "source": [
    "surv = rsf.predict_cumulative_hazard_function(X_test_sel, return_array=True)\n",
    "\n",
    "for i, s in enumerate(surv):\n",
    "    plt.step(rsf.event_times_, s, where=\"post\", label=str(i))\n",
    "plt.ylabel(\"Cumulative hazard\")\n",
    "plt.xlabel(\"Time in days\")\n",
    "plt.legend()\n",
    "plt.grid(True)"
   ]
  },
  {
   "cell_type": "code",
   "execution_count": 14,
   "id": "4c95c42e-c1ca-4b93-874a-569c06ee10a8",
   "metadata": {
    "tags": []
   },
   "outputs": [],
   "source": [
    "from sklearn.inspection import permutation_importance\n",
    "\n",
    "result = permutation_importance(rsf, X_test, y_test, n_repeats=15, random_state=random_state)"
   ]
  },
  {
   "cell_type": "code",
   "execution_count": 15,
   "id": "c55b683c-b066-4cfe-9f80-70567db3914a",
   "metadata": {
    "tags": []
   },
   "outputs": [
    {
     "data": {
      "text/html": [
       "<div>\n",
       "<style scoped>\n",
       "    .dataframe tbody tr th:only-of-type {\n",
       "        vertical-align: middle;\n",
       "    }\n",
       "\n",
       "    .dataframe tbody tr th {\n",
       "        vertical-align: top;\n",
       "    }\n",
       "\n",
       "    .dataframe thead th {\n",
       "        text-align: right;\n",
       "    }\n",
       "</style>\n",
       "<table border=\"1\" class=\"dataframe\">\n",
       "  <thead>\n",
       "    <tr style=\"text-align: right;\">\n",
       "      <th></th>\n",
       "      <th>importances_mean</th>\n",
       "      <th>importances_std</th>\n",
       "    </tr>\n",
       "  </thead>\n",
       "  <tbody>\n",
       "    <tr>\n",
       "      <th>y_nais</th>\n",
       "      <td>0.100121</td>\n",
       "      <td>0.006677</td>\n",
       "    </tr>\n",
       "    <tr>\n",
       "      <th>Nb_hospit</th>\n",
       "      <td>0.056541</td>\n",
       "      <td>0.003494</td>\n",
       "    </tr>\n",
       "    <tr>\n",
       "      <th>Nb_jours_sej</th>\n",
       "      <td>0.036000</td>\n",
       "      <td>0.002567</td>\n",
       "    </tr>\n",
       "    <tr>\n",
       "      <th>cluster19</th>\n",
       "      <td>0.007927</td>\n",
       "      <td>0.000923</td>\n",
       "    </tr>\n",
       "    <tr>\n",
       "      <th>BEN_SEX_COD</th>\n",
       "      <td>0.006646</td>\n",
       "      <td>0.001083</td>\n",
       "    </tr>\n",
       "    <tr>\n",
       "      <th>CHOC</th>\n",
       "      <td>0.004827</td>\n",
       "      <td>0.000676</td>\n",
       "    </tr>\n",
       "    <tr>\n",
       "      <th>cluster18</th>\n",
       "      <td>0.001644</td>\n",
       "      <td>0.000828</td>\n",
       "    </tr>\n",
       "    <tr>\n",
       "      <th>cluster3</th>\n",
       "      <td>0.001253</td>\n",
       "      <td>0.000271</td>\n",
       "    </tr>\n",
       "    <tr>\n",
       "      <th>cluster15</th>\n",
       "      <td>0.000942</td>\n",
       "      <td>0.000383</td>\n",
       "    </tr>\n",
       "    <tr>\n",
       "      <th>cluster7</th>\n",
       "      <td>0.000804</td>\n",
       "      <td>0.000459</td>\n",
       "    </tr>\n",
       "    <tr>\n",
       "      <th>cluster1</th>\n",
       "      <td>0.000601</td>\n",
       "      <td>0.000286</td>\n",
       "    </tr>\n",
       "    <tr>\n",
       "      <th>cluster11</th>\n",
       "      <td>0.000426</td>\n",
       "      <td>0.000239</td>\n",
       "    </tr>\n",
       "    <tr>\n",
       "      <th>cluster12</th>\n",
       "      <td>0.000340</td>\n",
       "      <td>0.000178</td>\n",
       "    </tr>\n",
       "    <tr>\n",
       "      <th>cluster10</th>\n",
       "      <td>0.000287</td>\n",
       "      <td>0.000265</td>\n",
       "    </tr>\n",
       "    <tr>\n",
       "      <th>cluster17</th>\n",
       "      <td>0.000257</td>\n",
       "      <td>0.000382</td>\n",
       "    </tr>\n",
       "    <tr>\n",
       "      <th>cluster6</th>\n",
       "      <td>0.000210</td>\n",
       "      <td>0.000258</td>\n",
       "    </tr>\n",
       "    <tr>\n",
       "      <th>cluster13</th>\n",
       "      <td>0.000197</td>\n",
       "      <td>0.000173</td>\n",
       "    </tr>\n",
       "    <tr>\n",
       "      <th>cluster2</th>\n",
       "      <td>0.000176</td>\n",
       "      <td>0.000077</td>\n",
       "    </tr>\n",
       "    <tr>\n",
       "      <th>cluster5</th>\n",
       "      <td>0.000169</td>\n",
       "      <td>0.000158</td>\n",
       "    </tr>\n",
       "    <tr>\n",
       "      <th>cluster4</th>\n",
       "      <td>0.000090</td>\n",
       "      <td>0.000134</td>\n",
       "    </tr>\n",
       "    <tr>\n",
       "      <th>cluster16</th>\n",
       "      <td>0.000041</td>\n",
       "      <td>0.000189</td>\n",
       "    </tr>\n",
       "    <tr>\n",
       "      <th>cluster9</th>\n",
       "      <td>0.000036</td>\n",
       "      <td>0.000263</td>\n",
       "    </tr>\n",
       "    <tr>\n",
       "      <th>cluster8</th>\n",
       "      <td>-0.000177</td>\n",
       "      <td>0.000120</td>\n",
       "    </tr>\n",
       "    <tr>\n",
       "      <th>cluster14</th>\n",
       "      <td>-0.000217</td>\n",
       "      <td>0.000241</td>\n",
       "    </tr>\n",
       "    <tr>\n",
       "      <th>cluster20</th>\n",
       "      <td>-0.000265</td>\n",
       "      <td>0.000314</td>\n",
       "    </tr>\n",
       "  </tbody>\n",
       "</table>\n",
       "</div>"
      ],
      "text/plain": [
       "              importances_mean  importances_std\n",
       "y_nais                0.100121         0.006677\n",
       "Nb_hospit             0.056541         0.003494\n",
       "Nb_jours_sej          0.036000         0.002567\n",
       "cluster19             0.007927         0.000923\n",
       "BEN_SEX_COD           0.006646         0.001083\n",
       "CHOC                  0.004827         0.000676\n",
       "cluster18             0.001644         0.000828\n",
       "cluster3              0.001253         0.000271\n",
       "cluster15             0.000942         0.000383\n",
       "cluster7              0.000804         0.000459\n",
       "cluster1              0.000601         0.000286\n",
       "cluster11             0.000426         0.000239\n",
       "cluster12             0.000340         0.000178\n",
       "cluster10             0.000287         0.000265\n",
       "cluster17             0.000257         0.000382\n",
       "cluster6              0.000210         0.000258\n",
       "cluster13             0.000197         0.000173\n",
       "cluster2              0.000176         0.000077\n",
       "cluster5              0.000169         0.000158\n",
       "cluster4              0.000090         0.000134\n",
       "cluster16             0.000041         0.000189\n",
       "cluster9              0.000036         0.000263\n",
       "cluster8             -0.000177         0.000120\n",
       "cluster14            -0.000217         0.000241\n",
       "cluster20            -0.000265         0.000314"
      ]
     },
     "execution_count": 15,
     "metadata": {},
     "output_type": "execute_result"
    }
   ],
   "source": [
    "pd.DataFrame(\n",
    "    {k: result[k] for k in (\"importances_mean\", \"importances_std\",)},\n",
    "    index=X_test.columns\n",
    ").sort_values(by=\"importances_mean\", ascending=False)"
   ]
  },
  {
   "cell_type": "markdown",
   "id": "2b51260d-e5c1-4358-b080-e91164a818d3",
   "metadata": {},
   "source": [
    "## Essai 2"
   ]
  },
  {
   "cell_type": "code",
   "execution_count": 16,
   "id": "72411fac-4768-4955-bcda-6b877e3d1a3a",
   "metadata": {
    "tags": []
   },
   "outputs": [
    {
     "data": {
      "text/plain": [
       "rec.array([(False, 2596), ( True,  456), ( True,   41), ...,\n",
       "           ( True,    5), ( True,  484), (False, 2935)],\n",
       "          dtype=[('Mort', '?'), ('Nb_survie', '<i8')])"
      ]
     },
     "execution_count": 16,
     "metadata": {},
     "output_type": "execute_result"
    }
   ],
   "source": [
    "profil_patient=pd.read_csv(\"../data/profil_patient_cluster.csv\")\n",
    "profil_patient['CHOC']=profil_patient['CHOC'].astype(int)\n",
    "Liste_label=['y_nais','BEN_SEX_COD','Nb_hospit','CHOC','Nb_jours_sej']\n",
    "for i in range(1,21):\n",
    "    Liste_label.append('cluster' + str(i))\n",
    "data=profil_patient[Liste_label]\n",
    "Label= profil_patient[['Mort','Nb_survie']].to_records(index=False)\n",
    "Label"
   ]
  },
  {
   "cell_type": "code",
   "execution_count": 17,
   "id": "4ec3f9f3-3892-409f-9af0-373128698b51",
   "metadata": {
    "tags": []
   },
   "outputs": [],
   "source": [
    "random_state = 20\n",
    "\n",
    "X_train, X_test, y_train, y_test = train_test_split(data, Label, test_size=0.25, random_state=random_state)"
   ]
  },
  {
   "cell_type": "code",
   "execution_count": 18,
   "id": "de4f8b45-f378-49b4-bd0f-3834ef9c2f12",
   "metadata": {
    "tags": []
   },
   "outputs": [
    {
     "data": {
      "text/plain": [
       "RandomSurvivalForest(min_samples_leaf=15, min_samples_split=10, n_estimators=10,\n",
       "                     n_jobs=-1, random_state=20)"
      ]
     },
     "execution_count": 18,
     "metadata": {},
     "output_type": "execute_result"
    }
   ],
   "source": [
    "rsf = RandomSurvivalForest(n_estimators=10,\n",
    "                           min_samples_split=10,\n",
    "                           min_samples_leaf=15,\n",
    "                           n_jobs=-1,\n",
    "                           random_state=random_state,\n",
    "                           verbose=0)\n",
    "rsf.fit(X_train, y_train)"
   ]
  },
  {
   "cell_type": "code",
   "execution_count": 19,
   "id": "8de6c6f5-d3c7-47b9-b793-ee845f77e9dd",
   "metadata": {
    "tags": []
   },
   "outputs": [
    {
     "data": {
      "text/plain": [
       "0.6770998096666498"
      ]
     },
     "execution_count": 19,
     "metadata": {},
     "output_type": "execute_result"
    }
   ],
   "source": [
    "rsf.score(X_test, y_test)"
   ]
  },
  {
   "cell_type": "code",
   "execution_count": 20,
   "id": "13e2c28a-04bb-47e1-81fc-9d5c2261b7c7",
   "metadata": {
    "tags": []
   },
   "outputs": [
    {
     "data": {
      "text/html": [
       "<div>\n",
       "<style scoped>\n",
       "    .dataframe tbody tr th:only-of-type {\n",
       "        vertical-align: middle;\n",
       "    }\n",
       "\n",
       "    .dataframe tbody tr th {\n",
       "        vertical-align: top;\n",
       "    }\n",
       "\n",
       "    .dataframe thead th {\n",
       "        text-align: right;\n",
       "    }\n",
       "</style>\n",
       "<table border=\"1\" class=\"dataframe\">\n",
       "  <thead>\n",
       "    <tr style=\"text-align: right;\">\n",
       "      <th></th>\n",
       "      <th>y_nais</th>\n",
       "      <th>BEN_SEX_COD</th>\n",
       "      <th>Nb_hospit</th>\n",
       "      <th>CHOC</th>\n",
       "      <th>Nb_jours_sej</th>\n",
       "      <th>cluster1</th>\n",
       "      <th>cluster2</th>\n",
       "      <th>cluster3</th>\n",
       "      <th>cluster4</th>\n",
       "      <th>cluster5</th>\n",
       "      <th>...</th>\n",
       "      <th>cluster11</th>\n",
       "      <th>cluster12</th>\n",
       "      <th>cluster13</th>\n",
       "      <th>cluster14</th>\n",
       "      <th>cluster15</th>\n",
       "      <th>cluster16</th>\n",
       "      <th>cluster17</th>\n",
       "      <th>cluster18</th>\n",
       "      <th>cluster19</th>\n",
       "      <th>cluster20</th>\n",
       "    </tr>\n",
       "  </thead>\n",
       "  <tbody>\n",
       "    <tr>\n",
       "      <th>5471</th>\n",
       "      <td>1909</td>\n",
       "      <td>2</td>\n",
       "      <td>5</td>\n",
       "      <td>0</td>\n",
       "      <td>35</td>\n",
       "      <td>0</td>\n",
       "      <td>0</td>\n",
       "      <td>0</td>\n",
       "      <td>0</td>\n",
       "      <td>0</td>\n",
       "      <td>...</td>\n",
       "      <td>0</td>\n",
       "      <td>0</td>\n",
       "      <td>0</td>\n",
       "      <td>0</td>\n",
       "      <td>0</td>\n",
       "      <td>0</td>\n",
       "      <td>0</td>\n",
       "      <td>0</td>\n",
       "      <td>0</td>\n",
       "      <td>0</td>\n",
       "    </tr>\n",
       "    <tr>\n",
       "      <th>1275</th>\n",
       "      <td>1910</td>\n",
       "      <td>2</td>\n",
       "      <td>2</td>\n",
       "      <td>0</td>\n",
       "      <td>4</td>\n",
       "      <td>0</td>\n",
       "      <td>0</td>\n",
       "      <td>0</td>\n",
       "      <td>0</td>\n",
       "      <td>0</td>\n",
       "      <td>...</td>\n",
       "      <td>0</td>\n",
       "      <td>0</td>\n",
       "      <td>0</td>\n",
       "      <td>0</td>\n",
       "      <td>0</td>\n",
       "      <td>0</td>\n",
       "      <td>0</td>\n",
       "      <td>1</td>\n",
       "      <td>0</td>\n",
       "      <td>0</td>\n",
       "    </tr>\n",
       "    <tr>\n",
       "      <th>4626</th>\n",
       "      <td>1910</td>\n",
       "      <td>2</td>\n",
       "      <td>6</td>\n",
       "      <td>0</td>\n",
       "      <td>62</td>\n",
       "      <td>0</td>\n",
       "      <td>0</td>\n",
       "      <td>0</td>\n",
       "      <td>1</td>\n",
       "      <td>0</td>\n",
       "      <td>...</td>\n",
       "      <td>0</td>\n",
       "      <td>0</td>\n",
       "      <td>0</td>\n",
       "      <td>0</td>\n",
       "      <td>0</td>\n",
       "      <td>0</td>\n",
       "      <td>0</td>\n",
       "      <td>0</td>\n",
       "      <td>0</td>\n",
       "      <td>0</td>\n",
       "    </tr>\n",
       "    <tr>\n",
       "      <th>6656</th>\n",
       "      <td>1911</td>\n",
       "      <td>2</td>\n",
       "      <td>3</td>\n",
       "      <td>0</td>\n",
       "      <td>21</td>\n",
       "      <td>0</td>\n",
       "      <td>0</td>\n",
       "      <td>0</td>\n",
       "      <td>0</td>\n",
       "      <td>0</td>\n",
       "      <td>...</td>\n",
       "      <td>0</td>\n",
       "      <td>0</td>\n",
       "      <td>0</td>\n",
       "      <td>0</td>\n",
       "      <td>0</td>\n",
       "      <td>0</td>\n",
       "      <td>0</td>\n",
       "      <td>0</td>\n",
       "      <td>0</td>\n",
       "      <td>0</td>\n",
       "    </tr>\n",
       "    <tr>\n",
       "      <th>7931</th>\n",
       "      <td>1911</td>\n",
       "      <td>2</td>\n",
       "      <td>1</td>\n",
       "      <td>0</td>\n",
       "      <td>3</td>\n",
       "      <td>0</td>\n",
       "      <td>0</td>\n",
       "      <td>0</td>\n",
       "      <td>0</td>\n",
       "      <td>0</td>\n",
       "      <td>...</td>\n",
       "      <td>0</td>\n",
       "      <td>0</td>\n",
       "      <td>0</td>\n",
       "      <td>0</td>\n",
       "      <td>0</td>\n",
       "      <td>1</td>\n",
       "      <td>0</td>\n",
       "      <td>0</td>\n",
       "      <td>0</td>\n",
       "      <td>0</td>\n",
       "    </tr>\n",
       "    <tr>\n",
       "      <th>2839</th>\n",
       "      <td>1989</td>\n",
       "      <td>1</td>\n",
       "      <td>11</td>\n",
       "      <td>0</td>\n",
       "      <td>31</td>\n",
       "      <td>0</td>\n",
       "      <td>0</td>\n",
       "      <td>0</td>\n",
       "      <td>0</td>\n",
       "      <td>0</td>\n",
       "      <td>...</td>\n",
       "      <td>0</td>\n",
       "      <td>0</td>\n",
       "      <td>0</td>\n",
       "      <td>0</td>\n",
       "      <td>0</td>\n",
       "      <td>0</td>\n",
       "      <td>0</td>\n",
       "      <td>0</td>\n",
       "      <td>1</td>\n",
       "      <td>0</td>\n",
       "    </tr>\n",
       "    <tr>\n",
       "      <th>4785</th>\n",
       "      <td>1990</td>\n",
       "      <td>2</td>\n",
       "      <td>69</td>\n",
       "      <td>0</td>\n",
       "      <td>534</td>\n",
       "      <td>0</td>\n",
       "      <td>0</td>\n",
       "      <td>0</td>\n",
       "      <td>0</td>\n",
       "      <td>0</td>\n",
       "      <td>...</td>\n",
       "      <td>0</td>\n",
       "      <td>0</td>\n",
       "      <td>0</td>\n",
       "      <td>0</td>\n",
       "      <td>0</td>\n",
       "      <td>0</td>\n",
       "      <td>0</td>\n",
       "      <td>0</td>\n",
       "      <td>1</td>\n",
       "      <td>0</td>\n",
       "    </tr>\n",
       "    <tr>\n",
       "      <th>9775</th>\n",
       "      <td>1990</td>\n",
       "      <td>1</td>\n",
       "      <td>3</td>\n",
       "      <td>0</td>\n",
       "      <td>48</td>\n",
       "      <td>0</td>\n",
       "      <td>0</td>\n",
       "      <td>0</td>\n",
       "      <td>0</td>\n",
       "      <td>0</td>\n",
       "      <td>...</td>\n",
       "      <td>0</td>\n",
       "      <td>0</td>\n",
       "      <td>0</td>\n",
       "      <td>0</td>\n",
       "      <td>0</td>\n",
       "      <td>0</td>\n",
       "      <td>0</td>\n",
       "      <td>0</td>\n",
       "      <td>0</td>\n",
       "      <td>0</td>\n",
       "    </tr>\n",
       "    <tr>\n",
       "      <th>472</th>\n",
       "      <td>1991</td>\n",
       "      <td>1</td>\n",
       "      <td>19</td>\n",
       "      <td>0</td>\n",
       "      <td>67</td>\n",
       "      <td>0</td>\n",
       "      <td>0</td>\n",
       "      <td>0</td>\n",
       "      <td>0</td>\n",
       "      <td>0</td>\n",
       "      <td>...</td>\n",
       "      <td>0</td>\n",
       "      <td>0</td>\n",
       "      <td>0</td>\n",
       "      <td>0</td>\n",
       "      <td>0</td>\n",
       "      <td>0</td>\n",
       "      <td>0</td>\n",
       "      <td>0</td>\n",
       "      <td>1</td>\n",
       "      <td>0</td>\n",
       "    </tr>\n",
       "    <tr>\n",
       "      <th>6602</th>\n",
       "      <td>1994</td>\n",
       "      <td>2</td>\n",
       "      <td>62</td>\n",
       "      <td>1</td>\n",
       "      <td>135</td>\n",
       "      <td>0</td>\n",
       "      <td>0</td>\n",
       "      <td>1</td>\n",
       "      <td>0</td>\n",
       "      <td>0</td>\n",
       "      <td>...</td>\n",
       "      <td>0</td>\n",
       "      <td>0</td>\n",
       "      <td>0</td>\n",
       "      <td>0</td>\n",
       "      <td>0</td>\n",
       "      <td>0</td>\n",
       "      <td>0</td>\n",
       "      <td>0</td>\n",
       "      <td>0</td>\n",
       "      <td>0</td>\n",
       "    </tr>\n",
       "  </tbody>\n",
       "</table>\n",
       "<p>10 rows × 25 columns</p>\n",
       "</div>"
      ],
      "text/plain": [
       "      y_nais  BEN_SEX_COD  Nb_hospit  CHOC  Nb_jours_sej  cluster1  cluster2  \\\n",
       "5471    1909            2          5     0            35         0         0   \n",
       "1275    1910            2          2     0             4         0         0   \n",
       "4626    1910            2          6     0            62         0         0   \n",
       "6656    1911            2          3     0            21         0         0   \n",
       "7931    1911            2          1     0             3         0         0   \n",
       "2839    1989            1         11     0            31         0         0   \n",
       "4785    1990            2         69     0           534         0         0   \n",
       "9775    1990            1          3     0            48         0         0   \n",
       "472     1991            1         19     0            67         0         0   \n",
       "6602    1994            2         62     1           135         0         0   \n",
       "\n",
       "      cluster3  cluster4  cluster5  ...  cluster11  cluster12  cluster13  \\\n",
       "5471         0         0         0  ...          0          0          0   \n",
       "1275         0         0         0  ...          0          0          0   \n",
       "4626         0         1         0  ...          0          0          0   \n",
       "6656         0         0         0  ...          0          0          0   \n",
       "7931         0         0         0  ...          0          0          0   \n",
       "2839         0         0         0  ...          0          0          0   \n",
       "4785         0         0         0  ...          0          0          0   \n",
       "9775         0         0         0  ...          0          0          0   \n",
       "472          0         0         0  ...          0          0          0   \n",
       "6602         1         0         0  ...          0          0          0   \n",
       "\n",
       "      cluster14  cluster15  cluster16  cluster17  cluster18  cluster19  \\\n",
       "5471          0          0          0          0          0          0   \n",
       "1275          0          0          0          0          1          0   \n",
       "4626          0          0          0          0          0          0   \n",
       "6656          0          0          0          0          0          0   \n",
       "7931          0          0          1          0          0          0   \n",
       "2839          0          0          0          0          0          1   \n",
       "4785          0          0          0          0          0          1   \n",
       "9775          0          0          0          0          0          0   \n",
       "472           0          0          0          0          0          1   \n",
       "6602          0          0          0          0          0          0   \n",
       "\n",
       "      cluster20  \n",
       "5471          0  \n",
       "1275          0  \n",
       "4626          0  \n",
       "6656          0  \n",
       "7931          0  \n",
       "2839          0  \n",
       "4785          0  \n",
       "9775          0  \n",
       "472           0  \n",
       "6602          0  \n",
       "\n",
       "[10 rows x 25 columns]"
      ]
     },
     "execution_count": 20,
     "metadata": {},
     "output_type": "execute_result"
    }
   ],
   "source": [
    "X_test_sorted = X_test.sort_values(by=['y_nais'])\n",
    "X_test_sel = pd.concat((X_test_sorted.head(5), X_test_sorted.tail(5)))\n",
    "\n",
    "X_test_sel"
   ]
  },
  {
   "cell_type": "code",
   "execution_count": 21,
   "id": "549bfdef-eb3a-4cd5-b516-e860f756d91e",
   "metadata": {
    "tags": []
   },
   "outputs": [
    {
     "data": {
      "text/plain": [
       "0    2754.910410\n",
       "1    3131.925104\n",
       "2    2043.682374\n",
       "3    3411.107750\n",
       "4    3189.366580\n",
       "5     379.463675\n",
       "6     517.850596\n",
       "7    1160.871091\n",
       "8     496.648648\n",
       "9     929.438986\n",
       "dtype: float64"
      ]
     },
     "execution_count": 21,
     "metadata": {},
     "output_type": "execute_result"
    }
   ],
   "source": [
    "pd.Series(rsf.predict(X_test_sel))"
   ]
  },
  {
   "cell_type": "code",
   "execution_count": 22,
   "id": "553793ac-d1f0-4a01-bfa3-d9d32af19283",
   "metadata": {
    "tags": []
   },
   "outputs": [
    {
     "data": {
      "image/png": "[encoded data removed]",
      "text/plain": [
       "<Figure size 640x480 with 1 Axes>"
      ]
     },
     "metadata": {},
     "output_type": "display_data"
    }
   ],
   "source": [
    "surv = rsf.predict_survival_function(X_test_sel, return_array=True)\n",
    "\n",
    "for i, s in enumerate(surv):\n",
    "    plt.step(rsf.event_times_, s, where=\"post\", label=str(i))\n",
    "plt.ylabel(\"Survival probability\")\n",
    "plt.xlabel(\"Time in days\")\n",
    "plt.legend()\n",
    "plt.grid(True)"
   ]
  },
  {
   "cell_type": "code",
   "execution_count": 23,
   "id": "c3c8947b-4db7-4cc2-8217-f4efbf730010",
   "metadata": {
    "tags": []
   },
   "outputs": [],
   "source": [
    "from sklearn.inspection import permutation_importance\n",
    "\n",
    "result = permutation_importance(rsf, X_test, y_test, n_repeats=10, random_state=random_state)"
   ]
  },
  {
   "cell_type": "code",
   "execution_count": 24,
   "id": "5b221bf2-6457-49ec-98a0-cf9d4e083a96",
   "metadata": {
    "tags": []
   },
   "outputs": [
    {
     "data": {
      "text/html": [
       "<div>\n",
       "<style scoped>\n",
       "    .dataframe tbody tr th:only-of-type {\n",
       "        vertical-align: middle;\n",
       "    }\n",
       "\n",
       "    .dataframe tbody tr th {\n",
       "        vertical-align: top;\n",
       "    }\n",
       "\n",
       "    .dataframe thead th {\n",
       "        text-align: right;\n",
       "    }\n",
       "</style>\n",
       "<table border=\"1\" class=\"dataframe\">\n",
       "  <thead>\n",
       "    <tr style=\"text-align: right;\">\n",
       "      <th></th>\n",
       "      <th>importances_mean</th>\n",
       "      <th>importances_std</th>\n",
       "    </tr>\n",
       "  </thead>\n",
       "  <tbody>\n",
       "    <tr>\n",
       "      <th>y_nais</th>\n",
       "      <td>0.101501</td>\n",
       "      <td>0.005839</td>\n",
       "    </tr>\n",
       "    <tr>\n",
       "      <th>Nb_hospit</th>\n",
       "      <td>0.056006</td>\n",
       "      <td>0.003741</td>\n",
       "    </tr>\n",
       "    <tr>\n",
       "      <th>Nb_jours_sej</th>\n",
       "      <td>0.035959</td>\n",
       "      <td>0.001665</td>\n",
       "    </tr>\n",
       "    <tr>\n",
       "      <th>cluster19</th>\n",
       "      <td>0.007964</td>\n",
       "      <td>0.000979</td>\n",
       "    </tr>\n",
       "    <tr>\n",
       "      <th>BEN_SEX_COD</th>\n",
       "      <td>0.007052</td>\n",
       "      <td>0.000827</td>\n",
       "    </tr>\n",
       "    <tr>\n",
       "      <th>CHOC</th>\n",
       "      <td>0.004903</td>\n",
       "      <td>0.000691</td>\n",
       "    </tr>\n",
       "    <tr>\n",
       "      <th>cluster18</th>\n",
       "      <td>0.001853</td>\n",
       "      <td>0.000825</td>\n",
       "    </tr>\n",
       "    <tr>\n",
       "      <th>cluster3</th>\n",
       "      <td>0.001234</td>\n",
       "      <td>0.000261</td>\n",
       "    </tr>\n",
       "    <tr>\n",
       "      <th>cluster15</th>\n",
       "      <td>0.000875</td>\n",
       "      <td>0.000374</td>\n",
       "    </tr>\n",
       "    <tr>\n",
       "      <th>cluster7</th>\n",
       "      <td>0.000655</td>\n",
       "      <td>0.000468</td>\n",
       "    </tr>\n",
       "    <tr>\n",
       "      <th>cluster1</th>\n",
       "      <td>0.000603</td>\n",
       "      <td>0.000303</td>\n",
       "    </tr>\n",
       "    <tr>\n",
       "      <th>cluster11</th>\n",
       "      <td>0.000433</td>\n",
       "      <td>0.000246</td>\n",
       "    </tr>\n",
       "    <tr>\n",
       "      <th>cluster12</th>\n",
       "      <td>0.000390</td>\n",
       "      <td>0.000118</td>\n",
       "    </tr>\n",
       "    <tr>\n",
       "      <th>cluster10</th>\n",
       "      <td>0.000338</td>\n",
       "      <td>0.000143</td>\n",
       "    </tr>\n",
       "    <tr>\n",
       "      <th>cluster6</th>\n",
       "      <td>0.000212</td>\n",
       "      <td>0.000261</td>\n",
       "    </tr>\n",
       "    <tr>\n",
       "      <th>cluster2</th>\n",
       "      <td>0.000204</td>\n",
       "      <td>0.000049</td>\n",
       "    </tr>\n",
       "    <tr>\n",
       "      <th>cluster13</th>\n",
       "      <td>0.000175</td>\n",
       "      <td>0.000125</td>\n",
       "    </tr>\n",
       "    <tr>\n",
       "      <th>cluster5</th>\n",
       "      <td>0.000155</td>\n",
       "      <td>0.000165</td>\n",
       "    </tr>\n",
       "    <tr>\n",
       "      <th>cluster17</th>\n",
       "      <td>0.000115</td>\n",
       "      <td>0.000224</td>\n",
       "    </tr>\n",
       "    <tr>\n",
       "      <th>cluster4</th>\n",
       "      <td>0.000037</td>\n",
       "      <td>0.000118</td>\n",
       "    </tr>\n",
       "    <tr>\n",
       "      <th>cluster9</th>\n",
       "      <td>0.000017</td>\n",
       "      <td>0.000261</td>\n",
       "    </tr>\n",
       "    <tr>\n",
       "      <th>cluster16</th>\n",
       "      <td>0.000016</td>\n",
       "      <td>0.000186</td>\n",
       "    </tr>\n",
       "    <tr>\n",
       "      <th>cluster14</th>\n",
       "      <td>-0.000166</td>\n",
       "      <td>0.000276</td>\n",
       "    </tr>\n",
       "    <tr>\n",
       "      <th>cluster8</th>\n",
       "      <td>-0.000179</td>\n",
       "      <td>0.000123</td>\n",
       "    </tr>\n",
       "    <tr>\n",
       "      <th>cluster20</th>\n",
       "      <td>-0.000298</td>\n",
       "      <td>0.000228</td>\n",
       "    </tr>\n",
       "  </tbody>\n",
       "</table>\n",
       "</div>"
      ],
      "text/plain": [
       "              importances_mean  importances_std\n",
       "y_nais                0.101501         0.005839\n",
       "Nb_hospit             0.056006         0.003741\n",
       "Nb_jours_sej          0.035959         0.001665\n",
       "cluster19             0.007964         0.000979\n",
       "BEN_SEX_COD           0.007052         0.000827\n",
       "CHOC                  0.004903         0.000691\n",
       "cluster18             0.001853         0.000825\n",
       "cluster3              0.001234         0.000261\n",
       "cluster15             0.000875         0.000374\n",
       "cluster7              0.000655         0.000468\n",
       "cluster1              0.000603         0.000303\n",
       "cluster11             0.000433         0.000246\n",
       "cluster12             0.000390         0.000118\n",
       "cluster10             0.000338         0.000143\n",
       "cluster6              0.000212         0.000261\n",
       "cluster2              0.000204         0.000049\n",
       "cluster13             0.000175         0.000125\n",
       "cluster5              0.000155         0.000165\n",
       "cluster17             0.000115         0.000224\n",
       "cluster4              0.000037         0.000118\n",
       "cluster9              0.000017         0.000261\n",
       "cluster16             0.000016         0.000186\n",
       "cluster14            -0.000166         0.000276\n",
       "cluster8             -0.000179         0.000123\n",
       "cluster20            -0.000298         0.000228"
      ]
     },
     "execution_count": 24,
     "metadata": {},
     "output_type": "execute_result"
    }
   ],
   "source": [
    "pd.DataFrame(\n",
    "    {k: result[k] for k in (\"importances_mean\", \"importances_std\",)},\n",
    "    index=X_test.columns\n",
    ").sort_values(by=\"importances_mean\", ascending=False)"
   ]
  },
  {
   "cell_type": "code",
   "execution_count": 49,
   "id": "afb35aa3-d86b-4ae3-bb49-f5d966757098",
   "metadata": {
    "tags": []
   },
   "outputs": [
    {
     "data": {
      "text/plain": [
       "(<7538x4142 sparse matrix of type '<class 'numpy.int64'>'\n",
       " \twith 784406 stored elements in Compressed Sparse Row format>,\n",
       " array([   0,  413,  784, 1241, 1662, 2061, 2508, 2977, 3342, 3781, 4142]))"
      ]
     },
     "execution_count": 49,
     "metadata": {},
     "output_type": "execute_result"
    }
   ],
   "source": [
    "rsf.decision_path(X_train)"
   ]
  },
  {
   "cell_type": "code",
   "execution_count": 25,
   "id": "88009133-7ef9-4e98-afeb-823ed53a8891",
   "metadata": {
    "tags": []
   },
   "outputs": [
    {
     "name": "stdout",
     "output_type": "stream",
     "text": [
      "Compares the pooled hazard rate with each group-specific hazard rate.\n",
      "The alternative hypothesis is that the hazard rate of at least one group differs from the others at some time.\n",
      "Valeur de la statistique | p-valeur\n"
     ]
    },
    {
     "data": {
      "text/plain": [
       "(200.27193268454198, 8.025439605924745e-21)"
      ]
     },
     "execution_count": 25,
     "metadata": {},
     "output_type": "execute_result"
    }
   ],
   "source": [
    "from sksurv.compare import compare_survival\n",
    "print(\"Compares the pooled hazard rate with each group-specific hazard rate.\")\n",
    "print(\"The alternative hypothesis is that the hazard rate of at least one group differs from the others at some time.\")\n",
    "print(\"Valeur de la statistique | p-valeur\")\n",
    "compare_survival(Label[0:20], X_test[0:20], return_stats=False)"
   ]
  },
  {
   "cell_type": "markdown",
   "id": "58d060af-6e04-40a7-bd8f-36e24284623f",
   "metadata": {
    "tags": []
   },
   "source": [
    "## Recherche du bon nombre d'estimateurs pour les Survival Random Forest "
   ]
  },
  {
   "cell_type": "code",
   "execution_count": 26,
   "id": "255fa004-534a-40ac-b303-08d00e994972",
   "metadata": {
    "tags": []
   },
   "outputs": [
    {
     "data": {
      "text/plain": [
       "rec.array([(False, 2596), ( True,  456), ( True,   41), ...,\n",
       "           ( True,    5), ( True,  484), (False, 2935)],\n",
       "          dtype=[('Mort', '?'), ('Nb_survie', '<i8')])"
      ]
     },
     "execution_count": 26,
     "metadata": {},
     "output_type": "execute_result"
    }
   ],
   "source": [
    "profil_patient=pd.read_csv(\"../data/profil_patient_cluster.csv\")\n",
    "profil_patient['CHOC']=profil_patient['CHOC'].astype(int)\n",
    "Liste_label=['y_nais','BEN_SEX_COD','Nb_hospit','CHOC','Nb_jours_sej']\n",
    "for i in range(1,21):\n",
    "    Liste_label.append('cluster' + str(i))\n",
    "data=profil_patient[Liste_label]\n",
    "Label= profil_patient[['Mort','Nb_survie']].to_records(index=False)\n",
    "Label"
   ]
  },
  {
   "cell_type": "code",
   "execution_count": 27,
   "id": "242373f5-8f44-4fa4-88ae-f7f7440f1e51",
   "metadata": {
    "tags": []
   },
   "outputs": [],
   "source": [
    "random_state = 20\n",
    "\n",
    "X_train, X_test, y_train, y_test = train_test_split(data, Label, test_size=0.25, random_state=random_state)"
   ]
  },
  {
   "cell_type": "code",
   "execution_count": 28,
   "id": "d13534c3-ba33-4dd5-9435-5c59b80cb3b6",
   "metadata": {
    "tags": []
   },
   "outputs": [
    {
     "name": "stdout",
     "output_type": "stream",
     "text": [
      "0.647912419608017\n",
      "0.6627105933696668\n",
      "0.6704058315794061\n",
      "0.6710041455550437\n",
      "0.6711271897164386\n",
      "0.6731980887015028\n",
      "0.6731362848402831\n",
      "0.6751651046006869\n",
      "0.6763752580170316\n",
      "0.6770998096666498\n",
      "0.6771185950348018\n",
      "0.6766718789801499\n",
      "0.6768935463243422\n",
      "0.6783524180150178\n",
      "0.6790760303962285\n",
      "0.6787414629894434\n",
      "0.6785267462314672\n",
      "0.6790848595192599\n",
      "0.6790651348827004\n"
     ]
    },
    {
     "data": {
      "image/png": "[encoded data removed]",
      "text/plain": [
       "<Figure size 640x480 with 1 Axes>"
      ]
     },
     "metadata": {},
     "output_type": "display_data"
    }
   ],
   "source": [
    "Liste_score = []\n",
    "Liste_nb_estimators= []\n",
    "rsf = RandomSurvivalForest(min_samples_split=10,\n",
    "                           min_samples_leaf=15,\n",
    "                           n_jobs=-1,\n",
    "                           random_state=random_state,\n",
    "                           verbose=0)\n",
    "for i in range(1, 20):\n",
    "    n_estimators = i * 1\n",
    "    rsf.set_params(n_estimators=n_estimators)\n",
    "    rsf.fit(X_train, y_train)\n",
    "    Liste_score.append(rsf.score(X_test, y_test))\n",
    "    Liste_nb_estimators.append(n_estimators)\n",
    "    print(rsf.score(X_test, y_test))\n",
    "    \n",
    "\n",
    "plt.plot(Liste_nb_estimators, Liste_score)\n",
    "plt.xlabel(\"Nombre de paramètres dans la forêt\")\n",
    "plt.ylabel(\"Concordance index\")\n",
    "plt.grid(True)"
   ]
  },
  {
   "cell_type": "markdown",
   "id": "73cc8468-edd2-459b-86dc-64c1d35bda72",
   "metadata": {},
   "source": [
    "## Gradient boosting"
   ]
  },
  {
   "cell_type": "code",
   "execution_count": 29,
   "id": "cb294fe5-4e9c-44e8-a484-3f561c70c00c",
   "metadata": {
    "tags": []
   },
   "outputs": [
    {
     "data": {
      "text/plain": [
       "rec.array([(False, 2596), ( True,  456), ( True,   41), ...,\n",
       "           ( True,    5), ( True,  484), (False, 2935)],\n",
       "          dtype=[('Mort', '?'), ('Nb_survie', '<i8')])"
      ]
     },
     "execution_count": 29,
     "metadata": {},
     "output_type": "execute_result"
    }
   ],
   "source": [
    "from sksurv.ensemble import ComponentwiseGradientBoostingSurvivalAnalysis\n",
    "from sksurv.ensemble import GradientBoostingSurvivalAnalysis\n",
    "profil_patient=pd.read_csv(\"../data/profil_patient_cluster.csv\")\n",
    "profil_patient['CHOC']=profil_patient['CHOC'].astype(int)\n",
    "Liste_label=['y_nais','BEN_SEX_COD','Nb_hospit','CHOC','Nb_jours_sej']\n",
    "for i in range(1,21):\n",
    "    Liste_label.append('cluster' + str(i))\n",
    "data=profil_patient[Liste_label]\n",
    "Label= profil_patient[['Mort','Nb_survie']].to_records(index=False)\n",
    "Label"
   ]
  },
  {
   "cell_type": "code",
   "execution_count": 30,
   "id": "d4e1c21c-468b-4283-8e19-e6cbac9fe922",
   "metadata": {
    "tags": []
   },
   "outputs": [],
   "source": [
    "random_state = 20\n",
    "X_train, X_test, y_train, y_test = train_test_split(data, Label, test_size=0.25, random_state=random_state)"
   ]
  },
  {
   "cell_type": "code",
   "execution_count": 31,
   "id": "c8078c29-f7f9-4f34-8e6d-60bf65fff696",
   "metadata": {
    "tags": []
   },
   "outputs": [
    {
     "name": "stdout",
     "output_type": "stream",
     "text": [
      "      Iter       Train Loss   Remaining Time \n",
      "         1       41144.3828           10.02s\n",
      "         2       41048.9260            8.88s\n",
      "         3       40973.7307            7.71s\n",
      "         4       40924.5716            6.58s\n",
      "         5       40895.6392            5.52s\n",
      "         6       40867.9464            4.38s\n",
      "         7       40840.2105            3.28s\n",
      "         8       40815.7319            2.19s\n",
      "         9       40786.0066            1.10s\n",
      "        10       40763.6747            0.00s\n",
      "0.664\n"
     ]
    }
   ],
   "source": [
    "est_cph_tree = GradientBoostingSurvivalAnalysis(n_estimators=10, learning_rate=1.0, max_depth=1, random_state=0, verbose=1)\n",
    "est_cph_tree.fit(X_train, y_train)\n",
    "cindex = est_cph_tree.score(X_test, y_test)\n",
    "print(round(cindex, 3))"
   ]
  },
  {
   "cell_type": "code",
   "execution_count": null,
   "id": "6fad2a6d-2c8b-476a-94c1-2aef4a29da49",
   "metadata": {
    "tags": []
   },
   "outputs": [],
   "source": [
    "scores_cph_tree = {}\n",
    "est_cph_tree = GradientBoostingSurvivalAnalysis(learning_rate=1.0, max_depth=1, random_state=0, verbose=1)\n",
    "for i in range(1, 40,2):\n",
    "    n_estimators = i \n",
    "    est_cph_tree.set_params(n_estimators=n_estimators)\n",
    "    est_cph_tree.fit(X_train, y_train)\n",
    "    scores_cph_tree[n_estimators] = est_cph_tree.score(X_test, y_test)"
   ]
  },
  {
   "cell_type": "code",
   "execution_count": 33,
   "id": "49d15e54-a6e9-4cad-a123-4b454eea021d",
   "metadata": {
    "tags": []
   },
   "outputs": [
    {
     "data": {
      "image/png": "[encoded data removed]",
      "text/plain": [
       "<Figure size 640x480 with 1 Axes>"
      ]
     },
     "metadata": {},
     "output_type": "display_data"
    }
   ],
   "source": [
    "x, y = zip(*scores_cph_tree.items())\n",
    "plt.plot(x, y)\n",
    "plt.xlabel(\"n_estimator\")\n",
    "plt.ylabel(\"concordance index\")\n",
    "plt.grid(True)"
   ]
  },
  {
   "cell_type": "code",
   "execution_count": 35,
   "id": "bf4fac70-fa62-487a-855b-23ed1768f4f2",
   "metadata": {
    "tags": []
   },
   "outputs": [
    {
     "name": "stdout",
     "output_type": "stream",
     "text": [
      "      Iter       Train Loss   Remaining Time \n",
      "         1       41429.9447            0.00s\n",
      "      Iter       Train Loss   Remaining Time \n",
      "         1       41429.9447            2.27s\n",
      "         2       41399.3352            1.15s\n",
      "         3       41375.7698            0.00s\n",
      "      Iter       Train Loss   Remaining Time \n",
      "         1       41429.9447            4.11s\n",
      "         2       41399.3352            3.15s\n",
      "         3       41375.7698            2.12s\n",
      "         4       41362.9708            1.06s\n",
      "         5       41350.4741            0.00s\n",
      "      Iter       Train Loss   Remaining Time \n",
      "         1       41429.9447            6.26s\n",
      "         2       41399.3352            5.32s\n",
      "         3       41375.7698            4.35s\n",
      "         4       41362.9708            3.27s\n",
      "         5       41350.4741            2.17s\n",
      "         6       41335.0989            1.08s\n",
      "         7       41324.1149            0.00s\n",
      "      Iter       Train Loss   Remaining Time \n",
      "         1       41429.9447            8.48s\n",
      "         2       41399.3352            7.42s\n",
      "         3       41375.7698            6.33s\n",
      "         4       41362.9708            5.30s\n",
      "         5       41350.4741            4.27s\n",
      "         6       41335.0989            3.26s\n",
      "         7       41324.1149            2.17s\n",
      "         8       41312.9129            1.08s\n",
      "         9       41303.2534            0.00s\n",
      "      Iter       Train Loss   Remaining Time \n",
      "         1       41429.9447           10.50s\n",
      "         2       41399.3352            9.43s\n",
      "         3       41375.7698            8.39s\n",
      "         4       41362.9708            7.39s\n",
      "         5       41350.4741            6.39s\n",
      "         6       41335.0989            5.38s\n",
      "         7       41324.1149            4.29s\n",
      "         8       41312.9129            3.22s\n",
      "         9       41303.2534            2.14s\n",
      "        10       41295.0589            1.07s\n",
      "      Iter       Train Loss   Remaining Time \n",
      "         1       41429.9447           12.70s\n",
      "         2       41399.3352           11.82s\n",
      "         3       41375.7698           10.85s\n",
      "         4       41362.9708            9.89s\n",
      "         5       41350.4741            8.97s\n",
      "         6       41335.0989            7.77s\n",
      "         7       41324.1149            6.60s\n",
      "         8       41312.9129            5.49s\n",
      "         9       41303.2534            4.36s\n",
      "        10       41295.0589            3.25s\n"
     ]
    }
   ],
   "source": [
    "scores_cph_ls = {}\n",
    "\n",
    "est_cph_ls = ComponentwiseGradientBoostingSurvivalAnalysis(learning_rate=1.0, random_state=0,verbose=1)\n",
    "for i in range(1, 15,2):\n",
    "    n_estimators = i \n",
    "    est_cph_ls.set_params(n_estimators=n_estimators)\n",
    "    est_cph_ls.fit(X_train, y_train)\n",
    "    scores_cph_ls[n_estimators] = est_cph_ls.score(X_test, y_test)"
   ]
  },
  {
   "cell_type": "code",
   "execution_count": 36,
   "id": "ce0078e4-7174-47e9-ace7-ee51f408648c",
   "metadata": {
    "tags": []
   },
   "outputs": [
    {
     "data": {
      "image/png": "[encoded data removed]",
      "text/plain": [
       "<Figure size 640x480 with 1 Axes>"
      ]
     },
     "metadata": {},
     "output_type": "display_data"
    }
   ],
   "source": [
    "x, y = zip(*scores_cph_ls.items())\n",
    "plt.plot(x, y)\n",
    "plt.xlabel(\"n_estimator\")\n",
    "plt.ylabel(\"concordance index\")\n",
    "plt.grid(True)"
   ]
  },
  {
   "cell_type": "code",
   "execution_count": 37,
   "id": "5f44280d-b05c-4790-98a4-a0f31f42b7ef",
   "metadata": {
    "tags": []
   },
   "outputs": [
    {
     "name": "stdout",
     "output_type": "stream",
     "text": [
      "Number of non-zero coefficients: 6\n"
     ]
    },
    {
     "data": {
      "text/plain": [
       "cluster7       -0.355055\n",
       "cluster19      -0.251682\n",
       "CHOC            0.229819\n",
       "cluster1        0.147902\n",
       "Nb_hospit      -0.018420\n",
       "Nb_jours_sej    0.001996\n",
       "dtype: float64"
      ]
     },
     "execution_count": 37,
     "metadata": {},
     "output_type": "execute_result"
    }
   ],
   "source": [
    "coef = pd.Series(est_cph_ls.coef_, [\"Intercept\"] + data.columns.tolist())\n",
    "\n",
    "print(\"Number of non-zero coefficients:\", (coef != 0).sum())\n",
    "coef_nz = coef[coef != 0]\n",
    "coef_order = coef_nz.abs().sort_values(ascending=False).index\n",
    "coef_nz.loc[coef_order]"
   ]
  },
  {
   "cell_type": "code",
   "execution_count": 38,
   "id": "5555c044-fd22-4cec-86c2-ca322d526160",
   "metadata": {
    "tags": []
   },
   "outputs": [
    {
     "name": "stderr",
     "output_type": "stream",
     "text": [
      "/opt/mamba/lib/python3.10/site-packages/sksurv/ensemble/boosting.py:308: RuntimeWarning: divide by zero encountered in log\n",
      "  time = np.log(time)\n",
      "/opt/mamba/lib/python3.10/site-packages/sksurv/ensemble/boosting.py:74: RuntimeWarning: invalid value encountered in subtract\n",
      "  error[component] = squared_norm(residuals - l_pred)\n"
     ]
    },
    {
     "ename": "ValueError",
     "evalue": "All-NaN slice encountered",
     "output_type": "error",
     "traceback": [
      "\u001b[0;31m---------------------------------------------------------------------------\u001b[0m",
      "\u001b[0;31mValueError\u001b[0m                                Traceback (most recent call last)",
      "Cell \u001b[0;32mIn[38], line 9\u001b[0m\n\u001b[1;32m      7\u001b[0m random_state \u001b[38;5;241m=\u001b[39m \u001b[38;5;241m20\u001b[39m\n\u001b[1;32m      8\u001b[0m X_train, X_test, y_train, y_test \u001b[38;5;241m=\u001b[39m train_test_split(data, Label, test_size\u001b[38;5;241m=\u001b[39m\u001b[38;5;241m0.25\u001b[39m, random_state\u001b[38;5;241m=\u001b[39mrandom_state)\n\u001b[0;32m----> 9\u001b[0m est_aft_ls \u001b[38;5;241m=\u001b[39m \u001b[43mComponentwiseGradientBoostingSurvivalAnalysis\u001b[49m\u001b[43m(\u001b[49m\u001b[43mloss\u001b[49m\u001b[38;5;241;43m=\u001b[39;49m\u001b[38;5;124;43m\"\u001b[39;49m\u001b[38;5;124;43mipcwls\u001b[39;49m\u001b[38;5;124;43m\"\u001b[39;49m\u001b[43m,\u001b[49m\u001b[43m \u001b[49m\u001b[43mn_estimators\u001b[49m\u001b[38;5;241;43m=\u001b[39;49m\u001b[38;5;241;43m300\u001b[39;49m\u001b[43m,\u001b[49m\u001b[43m \u001b[49m\u001b[43mlearning_rate\u001b[49m\u001b[38;5;241;43m=\u001b[39;49m\u001b[38;5;241;43m1.0\u001b[39;49m\u001b[43m,\u001b[49m\u001b[43m \u001b[49m\u001b[43mrandom_state\u001b[49m\u001b[38;5;241;43m=\u001b[39;49m\u001b[38;5;241;43m0\u001b[39;49m\u001b[43m)\u001b[49m\u001b[38;5;241;43m.\u001b[39;49m\u001b[43mfit\u001b[49m\u001b[43m(\u001b[49m\u001b[43mX_train\u001b[49m\u001b[43m,\u001b[49m\u001b[43m \u001b[49m\u001b[43my_train\u001b[49m\u001b[43m)\u001b[49m\n\u001b[1;32m     11\u001b[0m cindex \u001b[38;5;241m=\u001b[39m est_aft_ls\u001b[38;5;241m.\u001b[39mscore(X_test, y_test)\n\u001b[1;32m     12\u001b[0m \u001b[38;5;28mprint\u001b[39m(\u001b[38;5;28mround\u001b[39m(cindex, \u001b[38;5;241m3\u001b[39m))\n",
      "File \u001b[0;32m/opt/mamba/lib/python3.10/site-packages/sksurv/ensemble/boosting.py:315\u001b[0m, in \u001b[0;36mComponentwiseGradientBoostingSurvivalAnalysis.fit\u001b[0;34m(self, X, y, sample_weight)\u001b[0m\n\u001b[1;32m    312\u001b[0m \u001b[38;5;28;01mif\u001b[39;00m \u001b[38;5;28mself\u001b[39m\u001b[38;5;241m.\u001b[39msubsample \u001b[38;5;241m<\u001b[39m \u001b[38;5;241m1.0\u001b[39m:\n\u001b[1;32m    313\u001b[0m     \u001b[38;5;28mself\u001b[39m\u001b[38;5;241m.\u001b[39moob_improvement_ \u001b[38;5;241m=\u001b[39m np\u001b[38;5;241m.\u001b[39mzeros(\u001b[38;5;28mself\u001b[39m\u001b[38;5;241m.\u001b[39mn_estimators, dtype\u001b[38;5;241m=\u001b[39mnp\u001b[38;5;241m.\u001b[39mfloat64)\n\u001b[0;32m--> 315\u001b[0m \u001b[38;5;28;43mself\u001b[39;49m\u001b[38;5;241;43m.\u001b[39;49m\u001b[43m_fit\u001b[49m\u001b[43m(\u001b[49m\u001b[43mX\u001b[49m\u001b[43m,\u001b[49m\u001b[43m \u001b[49m\u001b[43mevent\u001b[49m\u001b[43m,\u001b[49m\u001b[43m \u001b[49m\u001b[43mtime\u001b[49m\u001b[43m,\u001b[49m\u001b[43m \u001b[49m\u001b[43msample_weight\u001b[49m\u001b[43m,\u001b[49m\u001b[43m \u001b[49m\u001b[43mrandom_state\u001b[49m\u001b[43m)\u001b[49m\n\u001b[1;32m    317\u001b[0m \u001b[38;5;28;01mif\u001b[39;00m \u001b[38;5;28misinstance\u001b[39m(\u001b[38;5;28mself\u001b[39m\u001b[38;5;241m.\u001b[39m_loss, CoxPH):\n\u001b[1;32m    318\u001b[0m     risk_scores \u001b[38;5;241m=\u001b[39m \u001b[38;5;28mself\u001b[39m\u001b[38;5;241m.\u001b[39m_predict(X)\n",
      "File \u001b[0;32m/opt/mamba/lib/python3.10/site-packages/sksurv/ensemble/boosting.py:239\u001b[0m, in \u001b[0;36mComponentwiseGradientBoostingSurvivalAnalysis._fit\u001b[0;34m(self, X, event, time, sample_weight, random_state)\u001b[0m\n\u001b[1;32m    235\u001b[0m     subsample_weight \u001b[38;5;241m=\u001b[39m sample_weight\n\u001b[1;32m    237\u001b[0m residuals \u001b[38;5;241m=\u001b[39m \u001b[38;5;28mself\u001b[39m\u001b[38;5;241m.\u001b[39m_loss\u001b[38;5;241m.\u001b[39mnegative_gradient(y, y_pred, sample_weight\u001b[38;5;241m=\u001b[39msample_weight)\n\u001b[0;32m--> 239\u001b[0m best_learner \u001b[38;5;241m=\u001b[39m \u001b[43m_fit_stage_componentwise\u001b[49m\u001b[43m(\u001b[49m\u001b[43mXi\u001b[49m\u001b[43m,\u001b[49m\u001b[43m \u001b[49m\u001b[43mresiduals\u001b[49m\u001b[43m,\u001b[49m\u001b[43m \u001b[49m\u001b[43msubsample_weight\u001b[49m\u001b[43m)\u001b[49m\n\u001b[1;32m    240\u001b[0m \u001b[38;5;28mself\u001b[39m\u001b[38;5;241m.\u001b[39mestimators_\u001b[38;5;241m.\u001b[39mappend(best_learner)\n\u001b[1;32m    242\u001b[0m \u001b[38;5;28;01mif\u001b[39;00m do_dropout:\n",
      "File \u001b[0;32m/opt/mamba/lib/python3.10/site-packages/sksurv/ensemble/boosting.py:78\u001b[0m, in \u001b[0;36m_fit_stage_componentwise\u001b[0;34m(X, residuals, sample_weight, **fit_params)\u001b[0m\n\u001b[1;32m     75\u001b[0m     base_learners\u001b[38;5;241m.\u001b[39mappend(learner)\n\u001b[1;32m     77\u001b[0m \u001b[38;5;66;03m# TODO: could use bottleneck.nanargmin for speed\u001b[39;00m\n\u001b[0;32m---> 78\u001b[0m best_component \u001b[38;5;241m=\u001b[39m \u001b[43mnp\u001b[49m\u001b[38;5;241;43m.\u001b[39;49m\u001b[43mnanargmin\u001b[49m\u001b[43m(\u001b[49m\u001b[43merror\u001b[49m\u001b[43m)\u001b[49m\n\u001b[1;32m     79\u001b[0m best_learner \u001b[38;5;241m=\u001b[39m base_learners[best_component]\n\u001b[1;32m     80\u001b[0m \u001b[38;5;28;01mreturn\u001b[39;00m best_learner\n",
      "File \u001b[0;32m<__array_function__ internals>:180\u001b[0m, in \u001b[0;36mnanargmin\u001b[0;34m(*args, **kwargs)\u001b[0m\n",
      "File \u001b[0;32m/opt/mamba/lib/python3.10/site-packages/numpy/lib/nanfunctions.py:552\u001b[0m, in \u001b[0;36mnanargmin\u001b[0;34m(a, axis, out, keepdims)\u001b[0m\n\u001b[1;32m    550\u001b[0m     mask \u001b[38;5;241m=\u001b[39m np\u001b[38;5;241m.\u001b[39mall(mask, axis\u001b[38;5;241m=\u001b[39maxis)\n\u001b[1;32m    551\u001b[0m     \u001b[38;5;28;01mif\u001b[39;00m np\u001b[38;5;241m.\u001b[39many(mask):\n\u001b[0;32m--> 552\u001b[0m         \u001b[38;5;28;01mraise\u001b[39;00m \u001b[38;5;167;01mValueError\u001b[39;00m(\u001b[38;5;124m\"\u001b[39m\u001b[38;5;124mAll-NaN slice encountered\u001b[39m\u001b[38;5;124m\"\u001b[39m)\n\u001b[1;32m    553\u001b[0m res \u001b[38;5;241m=\u001b[39m np\u001b[38;5;241m.\u001b[39margmin(a, axis\u001b[38;5;241m=\u001b[39maxis, out\u001b[38;5;241m=\u001b[39mout, keepdims\u001b[38;5;241m=\u001b[39mkeepdims)\n\u001b[1;32m    554\u001b[0m \u001b[38;5;28;01mreturn\u001b[39;00m res\n",
      "\u001b[0;31mValueError\u001b[0m: All-NaN slice encountered"
     ]
    }
   ],
   "source": [
    "profil_patient=profil_patient.dropna()\n",
    "data=profil_patient[['y_nais','BEN_SEX_COD','Nb_hospit','CHOC','Nb_jours_sej']]\n",
    "Label= profil_patient[['Mort','Nb_survie']].to_records(index=False)\n",
    "\n",
    "data=data.dropna()\n",
    "\n",
    "random_state = 20\n",
    "X_train, X_test, y_train, y_test = train_test_split(data, Label, test_size=0.25, random_state=random_state)\n",
    "est_aft_ls = ComponentwiseGradientBoostingSurvivalAnalysis(loss=\"ipcwls\", n_estimators=300, learning_rate=1.0, random_state=0).fit(X_train, y_train)\n",
    "\n",
    "cindex = est_aft_ls.score(X_test, y_test)\n",
    "print(round(cindex, 3))"
   ]
  },
  {
   "cell_type": "code",
   "execution_count": null,
   "id": "b9ae94f7-a45e-4e0d-a0d2-de355f2449cd",
   "metadata": {
    "tags": []
   },
   "outputs": [],
   "source": [
    "n_estimators = [i for i in range(1, 20,2)]\n",
    "\n",
    "estimators = {\n",
    "    \"no regularization\": GradientBoostingSurvivalAnalysis(\n",
    "        learning_rate=1.0, max_depth=1, random_state=0,verbose=3),\n",
    "    \"learning rate\": GradientBoostingSurvivalAnalysis(\n",
    "        learning_rate=0.1, max_depth=1, random_state=0,verbose=3),\n",
    "    \"dropout\": GradientBoostingSurvivalAnalysis(\n",
    "        learning_rate=1.0, dropout_rate=0.1, max_depth=1, random_state=0,verbose=3),\n",
    "    \"subsample\": GradientBoostingSurvivalAnalysis(\n",
    "        learning_rate=1.0, subsample=0.5, max_depth=1, random_state=0,verbose=3),\n",
    "}\n",
    "\n",
    "scores_reg = {k: [] for k in estimators.keys()}\n",
    "for n in n_estimators:\n",
    "    for name, est in estimators.items():\n",
    "        est.set_params(n_estimators=n)\n",
    "        est.fit(X_train, y_train)\n",
    "        cindex = est.score(X_test, y_test)\n",
    "        scores_reg[name].append(cindex)\n",
    "\n",
    "scores_reg = pd.DataFrame(scores_reg, index=n_estimators)"
   ]
  },
  {
   "cell_type": "code",
   "execution_count": 40,
   "id": "7c14797f-e0eb-40ba-92b6-3b5b497d0f4b",
   "metadata": {
    "tags": []
   },
   "outputs": [
    {
     "data": {
      "image/png": "[encoded data removed]",
      "text/plain": [
       "<Figure size 640x480 with 1 Axes>"
      ]
     },
     "metadata": {},
     "output_type": "display_data"
    }
   ],
   "source": [
    "ax = scores_reg.plot(xlabel=\"n_estimators\", ylabel=\"concordance index\")\n",
    "ax.grid(True)"
   ]
  },
  {
   "cell_type": "code",
   "execution_count": 41,
   "id": "757da9fc-9c33-43cc-8dac-cb70ab710063",
   "metadata": {
    "tags": []
   },
   "outputs": [
    {
     "name": "stdout",
     "output_type": "stream",
     "text": [
      "      Iter       Train Loss      OOB Improve   Remaining Time \n",
      "         1       16766.9873         103.1033           19.04s\n",
      "         2       16761.8927          47.8038           18.66s\n",
      "         3       16729.4648           4.7958           17.79s\n",
      "         4       16768.3856          -9.5449           17.00s\n",
      "         5       16735.5174           3.1363           16.56s\n",
      "         6       16675.1418           6.3072           16.11s\n",
      "         7       16718.5157           5.5981           16.07s\n",
      "         8       16676.1871          -0.1658           15.60s\n",
      "         9       16671.8749          16.6443           15.14s\n",
      "        10       16666.8794           2.6078           14.75s\n",
      "        20       16660.0963          -3.4479           10.93s\n",
      "        30       16683.8356          -1.8287            7.44s\n",
      "        40       16651.7556         -16.0992            3.72s\n",
      "        50       16665.6190          -2.1295            0.00s\n",
      "Fitted base learners: 50\n",
      "Performance on test set 0.668\n"
     ]
    }
   ],
   "source": [
    "class EarlyStoppingMonitor:\n",
    "\n",
    "    def __init__(self, window_size, max_iter_without_improvement):\n",
    "        self.window_size = window_size\n",
    "        self.max_iter_without_improvement = max_iter_without_improvement\n",
    "        self._best_step = -1\n",
    "\n",
    "    def __call__(self, iteration, estimator, args):\n",
    "        # continue training for first self.window_size iterations\n",
    "        if iteration < self.window_size:\n",
    "            return False\n",
    "\n",
    "        # compute average improvement in last self.window_size iterations.\n",
    "        # oob_improvement_ is the different in negative log partial likelihood\n",
    "        # between the previous and current iteration.\n",
    "        start = iteration - self.window_size + 1\n",
    "        end = iteration + 1\n",
    "        improvement = np.mean(estimator.oob_improvement_[start:end])\n",
    "\n",
    "        if improvement > 1e-6:\n",
    "            self._best_step = iteration\n",
    "            return False  # continue fitting\n",
    "\n",
    "        # stop fitting if there was no improvement\n",
    "        # in last max_iter_without_improvement iterations\n",
    "        diff = iteration - self._best_step\n",
    "        return diff >= self.max_iter_without_improvement\n",
    "\n",
    "\n",
    "est_early_stopping = GradientBoostingSurvivalAnalysis(\n",
    "    n_estimators=50, learning_rate=1, subsample=0.5,\n",
    "    max_depth=1, random_state=0,verbose=1)\n",
    "\n",
    "monitor = EarlyStoppingMonitor(25, 50)\n",
    "\n",
    "est_early_stopping.fit(X_train, y_train, monitor=monitor)\n",
    "\n",
    "print(\"Fitted base learners:\", est_early_stopping.n_estimators_)\n",
    "\n",
    "cindex = est_early_stopping.score(X_test, y_test)\n",
    "print(\"Performance on test set\", round(cindex, 3))"
   ]
  },
  {
   "cell_type": "code",
   "execution_count": 42,
   "id": "17e58710-6793-4fc6-b4da-82f9c708ec04",
   "metadata": {
    "tags": []
   },
   "outputs": [
    {
     "data": {
      "image/png": "[encoded data removed]",
      "text/plain": [
       "<Figure size 640x480 with 1 Axes>"
      ]
     },
     "metadata": {},
     "output_type": "display_data"
    }
   ],
   "source": [
    "improvement = pd.Series(\n",
    "    est_early_stopping.oob_improvement_,\n",
    "    index=np.arange(1, 1 + len(est_early_stopping.oob_improvement_))\n",
    ")\n",
    "ax = improvement.plot(xlabel=\"iteration\", ylabel=\"oob improvement\")\n",
    "ax.axhline(0.0, linestyle=\"--\", color=\"gray\")\n",
    "cutoff = len(improvement) - monitor.max_iter_without_improvement\n",
    "ax.axvline(cutoff, linestyle=\"--\", color=\"C3\")\n",
    "\n",
    "_ = improvement.rolling(monitor.window_size).mean().plot(ax=ax, linestyle=\":\")"
   ]
  },
  {
   "cell_type": "code",
   "execution_count": 189,
   "id": "f5842381-f28b-455d-b937-5b0fb42b1352",
   "metadata": {
    "tags": []
   },
   "outputs": [],
   "source": [
    "#https://scikit-survival.readthedocs.io/en/stable/user_guide/random-survival-forest.html"
   ]
  },
  {
   "cell_type": "code",
   "execution_count": null,
   "id": "2ffc647f-7914-4350-893a-9ece5d3f1daf",
   "metadata": {},
   "outputs": [],
   "source": []
  }
 ],
 "metadata": {
  "kernelspec": {
   "display_name": "Python 3 (ipykernel)",
   "language": "python",
   "name": "python3"
  },
  "language_info": {
   "codemirror_mode": {
    "name": "ipython",
    "version": 3
   },
   "file_extension": ".py",
   "mimetype": "text/x-python",
   "name": "python",
   "nbconvert_exporter": "python",
   "pygments_lexer": "ipython3",
   "version": "3.10.8"
  }
 },
 "nbformat": 4,
 "nbformat_minor": 5
}
