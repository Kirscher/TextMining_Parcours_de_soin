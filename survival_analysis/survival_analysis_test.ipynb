{
 "cells": [
  {
   "cell_type": "code",
   "execution_count": null,
   "id": "01d5d6b7-cfd4-4098-b065-e7cd72ccef89",
   "metadata": {},
   "outputs": [],
   "source": [
    "! pip install pandas\n",
    "!pip install numpy\n",
    "!pip install scikit-survival\n",
    "!pip install tqdm"
   ]
  },
  {
   "cell_type": "code",
   "execution_count": null,
   "id": "cedf4921-6692-4e74-93df-7a2b6dd5fc6d",
   "metadata": {},
   "outputs": [],
   "source": [
    "import pandas as pd\n",
    "hospit_non_chr=pd.read_csv(\"base_hospit_non_chr_anonyme.csv\")\n",
    "hospit_full_hospit=pd.read_csv(\"base_full_hospit_anonyme.csv\")\n",
    "consommant=pd.read_csv(\"consommant_anonyme.csv\")\n",
    "patient=pd.read_csv(\"patient_anonyme.csv\")"
   ]
  },
  {
   "cell_type": "code",
   "execution_count": null,
   "id": "facb5764-b016-43c0-b56f-497632c402da",
   "metadata": {},
   "outputs": [],
   "source": [
    "hospit_non_chr"
   ]
  },
  {
   "cell_type": "code",
   "execution_count": null,
   "id": "dad2dc81-2524-4063-b91c-29d894e2503e",
   "metadata": {},
   "outputs": [],
   "source": [
    "patient"
   ]
  },
  {
   "cell_type": "code",
   "execution_count": null,
   "id": "84d59d55-4217-46bd-a550-8196bd59bb4d",
   "metadata": {},
   "outputs": [],
   "source": [
    "patient[\"date_h0\"]=pd.to_datetime(patient[\"date_h0\"])\n",
    "patient[\"dte_deces\"]=pd.to_datetime(patient[\"dte_deces\"])"
   ]
  },
  {
   "cell_type": "code",
   "execution_count": null,
   "id": "bea0e500-400f-422b-9cb1-094e384c8d49",
   "metadata": {},
   "outputs": [],
   "source": [
    "patient[\"Nb_survie\"]=patient[\"dte_deces\"]-patient[\"date_h0\"]\n",
    "patient[\"Mort\"]= [x.days>0 for x in patient[\"Nb_survie\"]]\n",
    "#patient=patient.drop(columns=[\"Survie\"])"
   ]
  },
  {
   "cell_type": "code",
   "execution_count": null,
   "id": "ca09f08a-d7d5-4bc4-b9ca-b7a5d56ab498",
   "metadata": {},
   "outputs": [],
   "source": [
    "patient[\"Nb_survie\"]=patient[\"Nb_survie\"].fillna(pd.Timedelta(3500, \"d\"))"
   ]
  },
  {
   "cell_type": "code",
   "execution_count": null,
   "id": "d3f89980-a70c-4ca5-9c89-b825a28c53ad",
   "metadata": {},
   "outputs": [],
   "source": [
    "patient"
   ]
  },
  {
   "cell_type": "code",
   "execution_count": null,
   "id": "803b409b-754f-4ba7-b47e-19ad7047c98e",
   "metadata": {},
   "outputs": [],
   "source": [
    "%matplotlib inline\n",
    "import matplotlib.pyplot as plt\n",
    "import numpy as np\n",
    "from sksurv.nonparametric import kaplan_meier_estimator\n",
    "\n",
    "time, survival_prob = kaplan_meier_estimator(patient[\"Mort\"], patient[\"Nb_survie\"])\n",
    "days=time.astype('timedelta64[D]')\n",
    "days/np.timedelta64(1,'D')\n",
    "plt.step(days, survival_prob, where=\"post\")\n",
    "plt.ylabel(\"Probabilité de survie $\\hat{S}(t)$\")\n",
    "plt.xlabel(\"Temps en jours $t$\")"
   ]
  },
  {
   "cell_type": "code",
   "execution_count": null,
   "id": "a2b75640-8e48-44f8-bbcd-6dfdbf5cbe11",
   "metadata": {},
   "outputs": [],
   "source": [
    "patient"
   ]
  },
  {
   "cell_type": "code",
   "execution_count": null,
   "id": "82bcff2f-64fc-4923-9651-573fa0d5811e",
   "metadata": {},
   "outputs": [],
   "source": [
    "hospit_full_hospit"
   ]
  },
  {
   "cell_type": "code",
   "execution_count": null,
   "id": "7086ab1e-ab23-486c-aba3-9cf78a4baf2d",
   "metadata": {},
   "outputs": [],
   "source": [
    "from tqdm import tqdm\n",
    "\n",
    "patient_mort=patient.loc[patient[\"Mort\"]]\n",
    "hospit_mort = []\n",
    "hospit_nb_survie=[]\n",
    "code_patient_mort=np.array(patient_mort.CODE_PATIENT_ENC)\n",
    "for i in tqdm(range(len(hospit_full_hospit.BEN_NIR_IDT_ENC))):\n",
    "    x=hospit_full_hospit.BEN_NIR_IDT_ENC.iloc[i]\n",
    "    hospit_nb_survie.append(patient[patient[\"CODE_PATIENT_ENC\"]==x][\"Nb_survie\"].iloc[0])\n",
    "    if x in code_patient_mort:\n",
    "        hospit_mort.append(True)\n",
    "    else:\n",
    "        hospit_mort.append(False)\n",
    "hospit_full_hospit[\"Mort\"]=hospit_mort\n",
    "hospit_full_hospit[\"Nb_survie\"]=hospit_nb_survie"
   ]
  },
  {
   "cell_type": "code",
   "execution_count": null,
   "id": "3fa992e4-46c6-4e40-8dec-832102520841",
   "metadata": {},
   "outputs": [],
   "source": [
    "hospit_full_hospit"
   ]
  },
  {
   "cell_type": "code",
   "execution_count": null,
   "id": "fee1313e-7309-48b3-8b5a-c6a7a874dd20",
   "metadata": {},
   "outputs": [],
   "source": [
    "patient[\"Mort\"].sum()"
   ]
  },
  {
   "cell_type": "code",
   "execution_count": null,
   "id": "7b4a08cf-1f53-43d5-97aa-dd93cd5df859",
   "metadata": {},
   "outputs": [],
   "source": [
    "hospit_full_hospit[\"Mort\"].sum()"
   ]
  },
  {
   "cell_type": "code",
   "execution_count": null,
   "id": "bac3a97b-5cb6-4d0c-b723-6e68e246af72",
   "metadata": {},
   "outputs": [],
   "source": [
    "hospit_nb_survie[0]"
   ]
  },
  {
   "cell_type": "code",
   "execution_count": null,
   "id": "26b33d01-6b48-4130-99ed-296f077f4b1d",
   "metadata": {},
   "outputs": [],
   "source": [
    "for treatment_type in (0, 1):\n",
    "    mask_treat = hospit_full_hospit[\"CHOC\"] == treatment_type\n",
    "    time_treatment, survival_prob_treatment = kaplan_meier_estimator(\n",
    "        hospit_full_hospit[\"Mort\"][mask_treat],\n",
    "        hospit_full_hospit[\"Nb_survie\"][mask_treat])\n",
    "    days=time_treatment.astype('timedelta64[D]')\n",
    "    days/np.timedelta64(1,'D')\n",
    "    plt.step(days, survival_prob_treatment, where=\"post\",\n",
    "             label=\"Choc = %s\" % treatment_type)\n",
    "\n",
    "plt.ylabel(\"Probabilté de survie $\\hat{S}(t)$\")\n",
    "plt.xlabel(\"Temps en jours $t$\")\n",
    "plt.title(\"Comparaison avec ou sans choc\")\n",
    "plt.legend(loc=\"best\")"
   ]
  },
  {
   "cell_type": "code",
   "execution_count": null,
   "id": "bd22ad95-4cf3-4108-b65d-ea27a3fd8603",
   "metadata": {},
   "outputs": [],
   "source": [
    "for treatment_type in (0, 1):\n",
    "    mask_treat = hospit_full_hospit[\"CHIMIO\"] == treatment_type\n",
    "    time_treatment, survival_prob_treatment = kaplan_meier_estimator(\n",
    "        hospit_full_hospit[\"Mort\"][mask_treat],\n",
    "        hospit_full_hospit[\"Nb_survie\"][mask_treat])\n",
    "    days=time_treatment.astype('timedelta64[D]')\n",
    "    days/np.timedelta64(1,'D')\n",
    "    plt.step(days, survival_prob_treatment, where=\"post\",\n",
    "             label=\"Chimiothérapie = %s\" % treatment_type)\n",
    "\n",
    "plt.ylabel(\"Probabilté de survie $\\hat{S}(t)$\")\n",
    "plt.xlabel(\"Temps en jours $t$\")\n",
    "plt.title(\"Comparaison avec ou sans chimiothérapie\")\n",
    "plt.legend(loc=\"best\")"
   ]
  },
  {
   "cell_type": "code",
   "execution_count": null,
   "id": "9a315aa4-720e-4547-87f8-f326243dcd9a",
   "metadata": {},
   "outputs": [],
   "source": [
    "for treatment_type in (0, 1):\n",
    "    mask_treat = hospit_full_hospit[\"HEMOD\"] == treatment_type\n",
    "    time_treatment, survival_prob_treatment = kaplan_meier_estimator(\n",
    "        hospit_full_hospit[\"Mort\"][mask_treat],\n",
    "        hospit_full_hospit[\"Nb_survie\"][mask_treat])\n",
    "    days=time_treatment.astype('timedelta64[D]')\n",
    "    days/np.timedelta64(1,'D')\n",
    "    plt.step(days, survival_prob_treatment, where=\"post\",\n",
    "             label=\"Hémodialyse = %s\" % treatment_type)\n",
    "\n",
    "plt.ylabel(\"Probabilté de survie $\\hat{S}(t)$\")\n",
    "plt.xlabel(\"Temps en jours $t$\")\n",
    "plt.title(\"Comparaison avec ou sans hémodialyse\")\n",
    "plt.legend(loc=\"best\")"
   ]
  },
  {
   "cell_type": "code",
   "execution_count": null,
   "id": "09697202-ed34-4056-9264-303d66e90386",
   "metadata": {},
   "outputs": [],
   "source": [
    "# for treatment_type in (range(0,50,10)):\n",
    "#     mask_treat =hospit_full_hospit[\"SEJ_NBJ\"] <= treatment_type and hospit_full_hospit[\"SEJ_NBJ\"]> treatment_type-10\n",
    "#     time_treatment, survival_prob_treatment = kaplan_meier_estimator(\n",
    "#         hospit_full_hospit[\"Mort\"][mask_treat],\n",
    "#         hospit_full_hospit[\"Nb_survie\"][mask_treat])\n",
    "#     days=time_treatment.astype('timedelta64[D]')\n",
    "#     days/np.timedelta64(1,'D')\n",
    "#     plt.step(days, survival_prob_treatment, where=\"post\",\n",
    "#              label=\"Durée de séjours à l'hopital <= %s\" % treatment_type)\n",
    "\n",
    "# plt.ylabel(\"Probabilté de survie $\\hat{S}(t)$\")\n",
    "# plt.xlabel(\"Temps en jours $t$\")\n",
    "# plt.title(\"Comparaison avec la durée de séjour\")\n",
    "# plt.legend(loc=\"best\")"
   ]
  },
  {
   "cell_type": "code",
   "execution_count": null,
   "id": "cc28861e-c1a4-4215-a64f-22922c31917e",
   "metadata": {},
   "outputs": [],
   "source": []
  }
 ],
 "metadata": {
  "kernelspec": {
   "display_name": "Python 3 (ipykernel)",
   "language": "python",
   "name": "python3"
  },
  "language_info": {
   "codemirror_mode": {
    "name": "ipython",
    "version": 3
   },
   "file_extension": ".py",
   "mimetype": "text/x-python",
   "name": "python",
   "nbconvert_exporter": "python",
   "pygments_lexer": "ipython3",
   "version": "3.10.4"
  }
 },
 "nbformat": 4,
 "nbformat_minor": 5
}
