{
 "cells": [
  {
   "cell_type": "code",
   "execution_count": null,
   "metadata": {
    "id": "U_Kj2ZIn-VuS",
    "tags": []
   },
   "outputs": [],
   "source": [
    "%%capture capt\n",
    "!pip install scikit-learn-extra --upgrade\n",
    "!pip install -U scikit-learn --upgrade"
   ]
  },
  {
   "cell_type": "code",
   "execution_count": null,
   "metadata": {
    "id": "zW0edWkj5Zy4",
    "tags": []
   },
   "outputs": [],
   "source": [
    "%%capture capt\n",
    "import numpy as np\n",
    "from sklearn.cluster import *\n",
    "from sklearn.metrics import silhouette_score\n",
    "from sklearn_extra.cluster import KMedoids\n",
    "import pandas as pd\n",
    "from tqdm import tqdm\n",
    "import matplotlib.pyplot as plt\n",
    "from time import time"
   ]
  },
  {
   "cell_type": "markdown",
   "metadata": {},
   "source": [
    "# Useful functions"
   ]
  },
  {
   "cell_type": "code",
   "execution_count": null,
   "metadata": {
    "tags": []
   },
   "outputs": [],
   "source": [
    "def display_time(start, stop):\n",
    "    total = stop - start\n",
    "    hours = total // 3600\n",
    "    minutes = (total - 3600*hours) // 60\n",
    "    seconds = int((total - 3600*hours) % 60)\n",
    "    \n",
    "    if hours > 0:\n",
    "        print(f\"Process took {hours}h, {minutes}min, {seconds}s to run\")\n",
    "    elif minutes > 0:\n",
    "        print(f\"Process took {minutes}min, {seconds}s to run\")\n",
    "    else:\n",
    "        print(f\"Process took {seconds}s to run\")"
   ]
  },
  {
   "cell_type": "markdown",
   "metadata": {
    "id": "wZBNUO1251f6"
   },
   "source": [
    "# Importation data"
   ]
  },
  {
   "cell_type": "code",
   "execution_count": null,
   "metadata": {
    "id": "GBQ0Skq553R1",
    "tags": []
   },
   "outputs": [],
   "source": [
    "base_patient = pd.read_csv(\"../data/profil_patient.csv\")"
   ]
  },
  {
   "cell_type": "code",
   "execution_count": null,
   "metadata": {
    "id": "i1bjTV0W54TN",
    "tags": []
   },
   "outputs": [],
   "source": [
    "%%capture capt\n",
    "p_soins = pd.read_csv(\"../data/parcours_soins.csv\")"
   ]
  },
  {
   "cell_type": "markdown",
   "metadata": {
    "id": "egl-f3mZ6Fzd"
   },
   "source": [
    "# Data Pre-processing"
   ]
  },
  {
   "cell_type": "code",
   "execution_count": null,
   "metadata": {
    "id": "6dDq15Gk6Ieh",
    "tags": []
   },
   "outputs": [],
   "source": [
    "base_patient.Mort = base_patient.Mort.astype(int)\n",
    "base_patient.CHOC = base_patient.CHOC.astype(int)\n",
    "base_patient.BEN_SEX_COD = base_patient.BEN_SEX_COD-1"
   ]
  },
  {
   "cell_type": "code",
   "execution_count": null,
   "metadata": {
    "id": "is0u-vE56JkB",
    "tags": []
   },
   "outputs": [],
   "source": [
    "# on ne conserve que l'annee de la premiere hospitalisation\n",
    "\n",
    "base_patient.date_h0 = pd.to_datetime(base_patient.date_h0).apply(lambda date: int(date.year))"
   ]
  },
  {
   "cell_type": "markdown",
   "metadata": {
    "id": "iMI809B-6XQa"
   },
   "source": [
    "# Vecteur sur lequel appliquer le clustering"
   ]
  },
  {
   "cell_type": "code",
   "execution_count": null,
   "metadata": {
    "id": "gVyHDaWk6blg",
    "tags": []
   },
   "outputs": [],
   "source": [
    "items_to_keep = [\"date_h0\", \"y_nais\", \"BEN_SEX_COD\", \"Mort\", \"Nb_survie\", \"Nb_hospit\", \"CHOC\"]"
   ]
  },
  {
   "cell_type": "code",
   "execution_count": null,
   "metadata": {
    "id": "VVs2kPAC6cMg",
    "tags": []
   },
   "outputs": [],
   "source": [
    "X_patient = base_patient[items_to_keep]"
   ]
  },
  {
   "cell_type": "code",
   "execution_count": null,
   "metadata": {
    "colab": {
     "base_uri": "https://localhost:8080/",
     "height": 143
    },
    "id": "DQgRGwyj63Ji",
    "outputId": "c1a43f03-9085-4059-d5bb-14cc02905689",
    "tags": []
   },
   "outputs": [],
   "source": [
    "X_patient.head(3)"
   ]
  },
  {
   "cell_type": "markdown",
   "metadata": {
    "id": "iI4S0Sqw7nON"
   },
   "source": [
    "# K-Means/K-Medoids"
   ]
  },
  {
   "cell_type": "code",
   "execution_count": null,
   "metadata": {
    "tags": []
   },
   "outputs": [],
   "source": [
    "import warnings\n",
    "warnings.simplefilter(\"ignore\")"
   ]
  },
  {
   "cell_type": "code",
   "execution_count": null,
   "metadata": {
    "id": "kW_ueaMd7ppC",
    "tags": []
   },
   "outputs": [],
   "source": [
    "def get_model(X, method, n_clusters, agglo_metric=None, agglo_link='ward', fit=True, show_fit=False):\n",
    " \n",
    "    if method == 'kmeans':\n",
    "        model = KMeans(n_clusters = n_clusters, n_init='auto')\n",
    "    elif method == 'kmedoids':\n",
    "        model = KMedoids(n_clusters=n_clusters, init='k-medoids++')\n",
    "    elif method == 'kmedoids_precomputed':\n",
    "        model = KMedoids(n_clusters=n_clusters, metric='precomputed', init='k-medoids++')\n",
    "    elif method == 'bisecting_kmeans':\n",
    "        model = BisectingKMeans(n_clusters=n_clusters, init='k-means++')\n",
    "    elif method == 'agglomerative':\n",
    "        model = AgglomerativeClustering(n_clusters=n_clusters, metric=agglo_metric,\n",
    "                                    linkage=agglo_link)\n",
    "    else:\n",
    "        print(\"method was not in list.\")\n",
    "        print(\"Choose in ['kmeans', 'kmedoids', 'kmedoids_precomputed', 'bisecting_kmeans', 'agglomerative']\")\n",
    "        return\n",
    "\n",
    "    if fit:\n",
    "        print(\"The model is being fitted\") if show_fit else None\n",
    "        start = time()\n",
    "        model.fit(X)\n",
    "        stop = time()\n",
    "        display_time(start, stop) if show_fit else None\n",
    "    return model"
   ]
  },
  {
   "cell_type": "code",
   "execution_count": 68,
   "metadata": {
    "tags": []
   },
   "outputs": [],
   "source": [
    "def bic_score(X, labels):\n",
    "\n",
    "    n_points = len(labels)\n",
    "    n_clusters = len(set(labels))\n",
    "    n_dimensions = np.shape(X)[1]\n",
    "\n",
    "    n_parameters = (n_clusters - 1) + (n_dimensions * n_clusters) + 1\n",
    "\n",
    "    loglikelihood = 0\n",
    "    for label_name in set(labels):\n",
    "        X_cluster = X[labels == label_name]\n",
    "        n_points_cluster = len(X_cluster)\n",
    "        centroid = np.mean(X_cluster, axis=0)\n",
    "        variance = np.sum((X_cluster - centroid) ** 2) / (len(X_cluster) - 1)\n",
    "        loglikelihood += \\\n",
    "          n_points_cluster * np.log(n_points_cluster) \\\n",
    "          - n_points_cluster * np.log(n_points) \\\n",
    "          - n_points_cluster * n_dimensions / 2 * np.log(2 * np.pi * variance) \\\n",
    "          - (n_points_cluster - 1) / 2\n",
    "\n",
    "        bic = loglikelihood - (n_parameters / 2) * np.log(n_points)\n",
    "\n",
    "    return bic"
   ]
  },
  {
   "cell_type": "code",
   "execution_count": 72,
   "metadata": {
    "tags": []
   },
   "outputs": [],
   "source": [
    "def calculate_scores(X, model):\n",
    "    results = {}\n",
    "    try:\n",
    "        results[\"inertia\"] = model.inertia_\n",
    "    except:\n",
    "        results[\"inertia\"] = float('inf')\n",
    "        print(f\"This model {model} has no inertia\")\n",
    "    \n",
    "    try:\n",
    "        results[\"silhouette\"] = silhouette_score(X_patient, model.labels_)\n",
    "    except:\n",
    "        results[\"silhouette\"] = float('inf')\n",
    "    \n",
    "    try:\n",
    "        results[\"bic\"] = bic_score(X_patient.values, model.labels_)\n",
    "    except:\n",
    "        results[\"bic\"] = -float('inf')\n",
    "    return results"
   ]
  },
  {
   "cell_type": "code",
   "execution_count": 116,
   "metadata": {
    "tags": []
   },
   "outputs": [],
   "source": [
    "%%capture capt\n",
    "!pip install kneed[plot]\n",
    "\n",
    "from kneed import KneeLocator\n",
    "\n",
    "def find_elbow(inertia):\n",
    "    k_elbow = KneeLocator(\n",
    "      x=range(2, len(inertia)+2), \n",
    "      y=inertia, \n",
    "      curve=\"convex\", \n",
    "      direction=\"decreasing\").elbow\n",
    "    return k_elbow"
   ]
  },
  {
   "cell_type": "code",
   "execution_count": 117,
   "metadata": {
    "tags": []
   },
   "outputs": [],
   "source": [
    "def calculate_scores_all_clusters(X, method, max_n_cluster = int(np.sqrt(len(X_patient))), agglo_metric=None, agglo_link='ward'):\n",
    "    inertia = []\n",
    "    bic = []\n",
    "    silhouette = []\n",
    "   \n",
    "    for n_clusters in tqdm(range(2, max_n_cluster)):\n",
    "        model = get_model(X, method, n_clusters, agglo_metric, agglo_link, fit=True)\n",
    "        scores = calculate_scores(X, model)\n",
    "        inertia.append(scores[\"inertia\"])\n",
    "        bic.append(scores[\"bic\"])\n",
    "        silhouette.append(scores[\"silhouette\"])\n",
    "                \n",
    "    return inertia, bic, silhouette"
   ]
  },
  {
   "cell_type": "code",
   "execution_count": 129,
   "metadata": {
    "tags": []
   },
   "outputs": [],
   "source": [
    "def plot_scores(method, plots, names):\n",
    "    \n",
    "    for i, name in enumerate(names):\n",
    "        if name == \"inertia\" or name == \"inertie\":\n",
    "            elbow = find_elbow(plots[i])\n",
    "            print(f\"La méthode du coude --> nombre de clusters = {elbow} pour le modele {method}\\n\")\n",
    "    \n",
    "    fig, ax = plt.subplots(1, len(plots), figsize=(6*len(plots), 6))\n",
    "    plt.suptitle(f\"Plots for method {method}\")\n",
    "    for i, plot in enumerate(plots):\n",
    "        ax[i].plot(range(2, len(plot)+2), plot, c = 'r', label = str(names[i]), marker='o')\n",
    "        ax[i].legend(loc='best')\n",
    "        ax[i].grid('on')\n",
    "        ax[i].set_xlabel('Nombre de clusters')\n",
    "        ax[i].set_ylabel('Score = ' + str(names[i]))\n",
    "        \n",
    "    plt.show()"
   ]
  },
  {
   "cell_type": "code",
   "execution_count": 147,
   "metadata": {
    "tags": []
   },
   "outputs": [],
   "source": [
    "def do_all(X, method, max_n_cluster = int(np.sqrt(len(X_patient))), agglo_metric=None, agglo_link='ward'):\n",
    "    inertia, bic, silhouette = calculate_scores_all_clusters(X, method, max_n_cluster, agglo_metric, agglo_link)\n",
    "    \n",
    "    plots, names = [], []\n",
    "    if len(np.unique(inertia)) > 1:\n",
    "        plots.append(inertia)\n",
    "        names.append(\"inertia\")\n",
    "    if len(np.unique(bic)) > 1:\n",
    "        plots.append(bic)\n",
    "        names.append(\"bic\")\n",
    "    if len(np.unique(silhouette)) > 1:\n",
    "        plots.append(silhouette)\n",
    "        names.append(\"silhouette\")\n",
    "    \n",
    "    plot_scores(method, plots, names)"
   ]
  },
  {
   "cell_type": "code",
   "execution_count": null,
   "metadata": {
    "tags": []
   },
   "outputs": [],
   "source": [
    "do_all(X_patient, 'agglomerative', max_n_cluster=15)"
   ]
  },
  {
   "cell_type": "code",
   "execution_count": null,
   "metadata": {},
   "outputs": [],
   "source": []
  }
 ],
 "metadata": {
  "colab": {
   "provenance": []
  },
  "kernelspec": {
   "display_name": "Python 3 (ipykernel)",
   "language": "python",
   "name": "python3"
  },
  "language_info": {
   "codemirror_mode": {
    "name": "ipython",
    "version": 3
   },
   "file_extension": ".py",
   "mimetype": "text/x-python",
   "name": "python",
   "nbconvert_exporter": "python",
   "pygments_lexer": "ipython3",
   "version": "3.10.8"
  }
 },
 "nbformat": 4,
 "nbformat_minor": 4
}
