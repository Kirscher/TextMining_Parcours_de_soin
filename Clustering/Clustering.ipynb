{
 "cells": [
  {
   "cell_type": "code",
   "execution_count": 1,
   "id": "4233a5b6-9782-4954-98df-083837656b05",
   "metadata": {
    "tags": []
   },
   "outputs": [],
   "source": [
    "%%capture capt\n",
    "import numpy as np\n",
    "import pandas as pd\n",
    "from tqdm import tqdm"
   ]
  },
  {
   "cell_type": "markdown",
   "id": "119e1309-c642-41f1-8fd8-59e563620a52",
   "metadata": {},
   "source": [
    "### Importation data"
   ]
  },
  {
   "cell_type": "code",
   "execution_count": 2,
   "id": "a7afd725-c17d-4425-94b6-d78854baec48",
   "metadata": {
    "tags": []
   },
   "outputs": [],
   "source": [
    "base_patient = pd.read_csv(\"../data/profil_patient.csv\")"
   ]
  },
  {
   "cell_type": "code",
   "execution_count": 3,
   "id": "2dc6c7ce-1bc3-40c9-bf68-36a09ed62cff",
   "metadata": {
    "tags": []
   },
   "outputs": [],
   "source": [
    "%%capture capt\n",
    "p_soins = pd.read_csv(\"../data/parcours_soins.csv\")"
   ]
  },
  {
   "cell_type": "code",
   "execution_count": 4,
   "id": "7faab721-81bc-457f-bc66-787595c482d9",
   "metadata": {
    "tags": []
   },
   "outputs": [
    {
     "data": {
      "text/html": [
       "<div>\n",
       "<style scoped>\n",
       "    .dataframe tbody tr th:only-of-type {\n",
       "        vertical-align: middle;\n",
       "    }\n",
       "\n",
       "    .dataframe tbody tr th {\n",
       "        vertical-align: top;\n",
       "    }\n",
       "\n",
       "    .dataframe thead th {\n",
       "        text-align: right;\n",
       "    }\n",
       "</style>\n",
       "<table border=\"1\" class=\"dataframe\">\n",
       "  <thead>\n",
       "    <tr style=\"text-align: right;\">\n",
       "      <th></th>\n",
       "      <th>BEN_NIR_IDT</th>\n",
       "      <th>2008-01-15</th>\n",
       "      <th>2008-02-15</th>\n",
       "      <th>2008-03-15</th>\n",
       "      <th>2008-04-15</th>\n",
       "      <th>2008-05-15</th>\n",
       "      <th>2008-06-15</th>\n",
       "      <th>2008-07-15</th>\n",
       "      <th>2008-08-15</th>\n",
       "      <th>2008-09-15</th>\n",
       "      <th>...</th>\n",
       "      <th>2018-12-19</th>\n",
       "      <th>2018-12-20</th>\n",
       "      <th>2018-12-21</th>\n",
       "      <th>2018-12-22</th>\n",
       "      <th>2018-12-24</th>\n",
       "      <th>2018-12-25</th>\n",
       "      <th>2018-12-26</th>\n",
       "      <th>2018-12-27</th>\n",
       "      <th>2018-12-28</th>\n",
       "      <th>2018-12-29</th>\n",
       "    </tr>\n",
       "  </thead>\n",
       "  <tbody>\n",
       "    <tr>\n",
       "      <th>0</th>\n",
       "      <td>P0</td>\n",
       "      <td>NaN</td>\n",
       "      <td>NaN</td>\n",
       "      <td>NaN</td>\n",
       "      <td>NaN</td>\n",
       "      <td>NaN</td>\n",
       "      <td>NaN</td>\n",
       "      <td>NaN</td>\n",
       "      <td>NaN</td>\n",
       "      <td>NaN</td>\n",
       "      <td>...</td>\n",
       "      <td>NaN</td>\n",
       "      <td>NaN</td>\n",
       "      <td>NaN</td>\n",
       "      <td>NaN</td>\n",
       "      <td>NaN</td>\n",
       "      <td>NaN</td>\n",
       "      <td>NaN</td>\n",
       "      <td>NaN</td>\n",
       "      <td>NaN</td>\n",
       "      <td>NaN</td>\n",
       "    </tr>\n",
       "    <tr>\n",
       "      <th>1</th>\n",
       "      <td>P6</td>\n",
       "      <td>NaN</td>\n",
       "      <td>NaN</td>\n",
       "      <td>NaN</td>\n",
       "      <td>NaN</td>\n",
       "      <td>NaN</td>\n",
       "      <td>NaN</td>\n",
       "      <td>NaN</td>\n",
       "      <td>NaN</td>\n",
       "      <td>NaN</td>\n",
       "      <td>...</td>\n",
       "      <td>NaN</td>\n",
       "      <td>NaN</td>\n",
       "      <td>NaN</td>\n",
       "      <td>NaN</td>\n",
       "      <td>NaN</td>\n",
       "      <td>NaN</td>\n",
       "      <td>NaN</td>\n",
       "      <td>NaN</td>\n",
       "      <td>NaN</td>\n",
       "      <td>NaN</td>\n",
       "    </tr>\n",
       "    <tr>\n",
       "      <th>2</th>\n",
       "      <td>P8</td>\n",
       "      <td>NaN</td>\n",
       "      <td>NaN</td>\n",
       "      <td>NaN</td>\n",
       "      <td>NaN</td>\n",
       "      <td>NaN</td>\n",
       "      <td>NaN</td>\n",
       "      <td>NaN</td>\n",
       "      <td>NaN</td>\n",
       "      <td>NaN</td>\n",
       "      <td>...</td>\n",
       "      <td>NaN</td>\n",
       "      <td>NaN</td>\n",
       "      <td>NaN</td>\n",
       "      <td>NaN</td>\n",
       "      <td>NaN</td>\n",
       "      <td>NaN</td>\n",
       "      <td>NaN</td>\n",
       "      <td>NaN</td>\n",
       "      <td>NaN</td>\n",
       "      <td>NaN</td>\n",
       "    </tr>\n",
       "  </tbody>\n",
       "</table>\n",
       "<p>3 rows × 3676 columns</p>\n",
       "</div>"
      ],
      "text/plain": [
       "  BEN_NIR_IDT 2008-01-15 2008-02-15 2008-03-15 2008-04-15 2008-05-15  \\\n",
       "0          P0        NaN        NaN        NaN        NaN        NaN   \n",
       "1          P6        NaN        NaN        NaN        NaN        NaN   \n",
       "2          P8        NaN        NaN        NaN        NaN        NaN   \n",
       "\n",
       "  2008-06-15 2008-07-15 2008-08-15 2008-09-15  ... 2018-12-19 2018-12-20  \\\n",
       "0        NaN        NaN        NaN        NaN  ...        NaN        NaN   \n",
       "1        NaN        NaN        NaN        NaN  ...        NaN        NaN   \n",
       "2        NaN        NaN        NaN        NaN  ...        NaN        NaN   \n",
       "\n",
       "  2018-12-21 2018-12-22 2018-12-24 2018-12-25 2018-12-26 2018-12-27  \\\n",
       "0        NaN        NaN        NaN        NaN        NaN        NaN   \n",
       "1        NaN        NaN        NaN        NaN        NaN        NaN   \n",
       "2        NaN        NaN        NaN        NaN        NaN        NaN   \n",
       "\n",
       "  2018-12-28 2018-12-29  \n",
       "0        NaN        NaN  \n",
       "1        NaN        NaN  \n",
       "2        NaN        NaN  \n",
       "\n",
       "[3 rows x 3676 columns]"
      ]
     },
     "execution_count": 4,
     "metadata": {},
     "output_type": "execute_result"
    }
   ],
   "source": [
    "p_soins.head(3)"
   ]
  },
  {
   "cell_type": "code",
   "execution_count": 5,
   "id": "f64b4a9c-d79d-4b62-bffe-0fa6794eba35",
   "metadata": {
    "tags": []
   },
   "outputs": [
    {
     "data": {
      "text/html": [
       "<div>\n",
       "<style scoped>\n",
       "    .dataframe tbody tr th:only-of-type {\n",
       "        vertical-align: middle;\n",
       "    }\n",
       "\n",
       "    .dataframe tbody tr th {\n",
       "        vertical-align: top;\n",
       "    }\n",
       "\n",
       "    .dataframe thead th {\n",
       "        text-align: right;\n",
       "    }\n",
       "</style>\n",
       "<table border=\"1\" class=\"dataframe\">\n",
       "  <thead>\n",
       "    <tr style=\"text-align: right;\">\n",
       "      <th></th>\n",
       "      <th>CODE_PATIENT</th>\n",
       "      <th>date_h0</th>\n",
       "      <th>y_nais</th>\n",
       "      <th>BEN_RES_DPT</th>\n",
       "      <th>BEN_SEX_COD</th>\n",
       "      <th>dte_deces</th>\n",
       "      <th>Mort</th>\n",
       "      <th>Nb_survie</th>\n",
       "      <th>Nb_hospit</th>\n",
       "      <th>CHOC</th>\n",
       "      <th>Nb_jours_sej</th>\n",
       "      <th>cat_age</th>\n",
       "      <th>cat_nb_hospit</th>\n",
       "      <th>cat_nb_jours_sej</th>\n",
       "      <th>cluster</th>\n",
       "    </tr>\n",
       "  </thead>\n",
       "  <tbody>\n",
       "    <tr>\n",
       "      <th>0</th>\n",
       "      <td>P0</td>\n",
       "      <td>2011-11-22</td>\n",
       "      <td>1949</td>\n",
       "      <td>11</td>\n",
       "      <td>1</td>\n",
       "      <td>NaN</td>\n",
       "      <td>False</td>\n",
       "      <td>2596</td>\n",
       "      <td>9</td>\n",
       "      <td>False</td>\n",
       "      <td>23</td>\n",
       "      <td>1</td>\n",
       "      <td>1</td>\n",
       "      <td>1</td>\n",
       "      <td>0</td>\n",
       "    </tr>\n",
       "    <tr>\n",
       "      <th>1</th>\n",
       "      <td>P6</td>\n",
       "      <td>2013-12-05</td>\n",
       "      <td>1929</td>\n",
       "      <td>14</td>\n",
       "      <td>2</td>\n",
       "      <td>2015-03</td>\n",
       "      <td>True</td>\n",
       "      <td>456</td>\n",
       "      <td>8</td>\n",
       "      <td>False</td>\n",
       "      <td>51</td>\n",
       "      <td>2</td>\n",
       "      <td>1</td>\n",
       "      <td>1</td>\n",
       "      <td>1</td>\n",
       "    </tr>\n",
       "    <tr>\n",
       "      <th>2</th>\n",
       "      <td>P8</td>\n",
       "      <td>2015-07-02</td>\n",
       "      <td>1967</td>\n",
       "      <td>54</td>\n",
       "      <td>2</td>\n",
       "      <td>2015-08</td>\n",
       "      <td>True</td>\n",
       "      <td>41</td>\n",
       "      <td>3</td>\n",
       "      <td>True</td>\n",
       "      <td>43</td>\n",
       "      <td>0</td>\n",
       "      <td>1</td>\n",
       "      <td>1</td>\n",
       "      <td>2</td>\n",
       "    </tr>\n",
       "  </tbody>\n",
       "</table>\n",
       "</div>"
      ],
      "text/plain": [
       "  CODE_PATIENT     date_h0  y_nais BEN_RES_DPT  BEN_SEX_COD dte_deces   Mort  \\\n",
       "0           P0  2011-11-22    1949          11            1       NaN  False   \n",
       "1           P6  2013-12-05    1929          14            2   2015-03   True   \n",
       "2           P8  2015-07-02    1967          54            2   2015-08   True   \n",
       "\n",
       "   Nb_survie  Nb_hospit   CHOC  Nb_jours_sej  cat_age  cat_nb_hospit  \\\n",
       "0       2596          9  False            23        1              1   \n",
       "1        456          8  False            51        2              1   \n",
       "2         41          3   True            43        0              1   \n",
       "\n",
       "   cat_nb_jours_sej  cluster  \n",
       "0                 1        0  \n",
       "1                 1        1  \n",
       "2                 1        2  "
      ]
     },
     "execution_count": 5,
     "metadata": {},
     "output_type": "execute_result"
    }
   ],
   "source": [
    "base_patient.head(3)"
   ]
  },
  {
   "cell_type": "markdown",
   "id": "149532a0-6f48-49e6-8688-dbe5a7c3d88e",
   "metadata": {},
   "source": [
    "### Data Pre-processing"
   ]
  },
  {
   "cell_type": "code",
   "execution_count": 6,
   "id": "96cbd7f0-48d2-4f52-aedc-1eed41a68e7b",
   "metadata": {
    "tags": []
   },
   "outputs": [],
   "source": [
    "base_patient.Mort = base_patient.Mort.astype(int)\n",
    "base_patient.CHOC = base_patient.CHOC.astype(int)\n",
    "base_patient.BEN_SEX_COD = base_patient.BEN_SEX_COD-1"
   ]
  },
  {
   "cell_type": "code",
   "execution_count": 7,
   "id": "4ca513f7-2799-4d57-a688-409892e63bb2",
   "metadata": {
    "tags": []
   },
   "outputs": [],
   "source": [
    "# on ne conserve que l'annee de la premiere hospitalisation\n",
    "\n",
    "base_patient.date_h0 = pd.to_datetime(base_patient.date_h0).apply(lambda date: int(date.year))"
   ]
  },
  {
   "cell_type": "markdown",
   "id": "2a5b768c-7ac2-414a-9362-814fc82cd5ce",
   "metadata": {},
   "source": [
    "### One-Hot Encoding des GHM"
   ]
  },
  {
   "cell_type": "markdown",
   "id": "5f8d84ad-6e28-4b86-b322-41080cd1bf5b",
   "metadata": {},
   "source": [
    "##### On recupere tous les differents GHM qui existent dans notre base"
   ]
  },
  {
   "cell_type": "code",
   "execution_count": 8,
   "id": "4a9c0753-7942-482e-9de9-08feb69e5369",
   "metadata": {
    "tags": []
   },
   "outputs": [],
   "source": [
    "all_ghm = set()\n",
    "for i in range(len(p_soins)):\n",
    "    ghm_row = set(p_soins.iloc[i].dropna().tolist()[1:])\n",
    "    all_ghm = all_ghm.union(ghm_row)    "
   ]
  },
  {
   "cell_type": "code",
   "execution_count": 9,
   "id": "9391fb70-fd1b-42a9-a65f-1c3ab202238d",
   "metadata": {
    "tags": []
   },
   "outputs": [
    {
     "name": "stdout",
     "output_type": "stream",
     "text": [
      "2346\n"
     ]
    }
   ],
   "source": [
    "nb_ghm = len(all_ghm)\n",
    "print(nb_ghm)"
   ]
  },
  {
   "cell_type": "markdown",
   "id": "eaaa8aa3-b4a2-471f-8151-070571231c12",
   "metadata": {},
   "source": [
    "##### On fait un One-Hot Encoding de chaque GHM, qu'on stocke dans un dictionnaire"
   ]
  },
  {
   "cell_type": "code",
   "execution_count": 10,
   "id": "26fc173a-d803-4d0f-9e62-dd01f94a379f",
   "metadata": {
    "tags": []
   },
   "outputs": [],
   "source": [
    "encoding_ghm = dict()\n",
    "encoding_ghm[''] = encoding = [0]*nb_ghm\n",
    "cur_index_to_encode_ghm = 0\n",
    "for ghm in all_ghm:\n",
    "    if encoding_ghm.get(ghm) != None:\n",
    "        pass #le ghm a deja ete encode\n",
    "    else:\n",
    "        encoding = [0]*nb_ghm\n",
    "        encoding[cur_index_to_encode_ghm] = 1\n",
    "        cur_index_to_encode_ghm+=1\n",
    "        encoding_ghm[ghm] = encoding"
   ]
  },
  {
   "cell_type": "code",
   "execution_count": 11,
   "id": "74e1321d-29c0-4794-9275-e4250fa40245",
   "metadata": {
    "tags": []
   },
   "outputs": [
    {
     "name": "stdout",
     "output_type": "stream",
     "text": [
      "\n"
     ]
    }
   ],
   "source": [
    "# on verifie que l'encodage a ete bien fait\n",
    "# i.e on verifie que chaque ghm a bien un encodage unique\n",
    "# si la boucle ne print rien, c'est que l'encodage ne presente pas de probleme\n",
    "cur_ghm = -1\n",
    "for ghm in encoding_ghm.keys():\n",
    "    if np.argmax(encoding_ghm[ghm]) != cur_ghm:\n",
    "        print(ghm)\n",
    "    cur_ghm += 1"
   ]
  },
  {
   "cell_type": "code",
   "execution_count": 12,
   "id": "fd2bbc23-e112-41c1-a578-4af5d65196e4",
   "metadata": {
    "tags": []
   },
   "outputs": [
    {
     "name": "stderr",
     "output_type": "stream",
     "text": [
      "100%|██████████| 10051/10051 [00:05<00:00, 1840.71it/s]\n"
     ]
    }
   ],
   "source": [
    "ghm_patient_encoded = []\n",
    "for i in tqdm(range(len(base_patient))):\n",
    "    ghm_row = p_soins.iloc[i].dropna().tolist()[1:]\n",
    "    encoding_ghm_row = []\n",
    "    for ghm in ghm_row:\n",
    "        encoded_ghm = encoding_ghm[ghm]\n",
    "        encoding_ghm_row.append(encoded_ghm)\n",
    "    ghm_patient_encoded.append(encoding_ghm_row)"
   ]
  },
  {
   "cell_type": "code",
   "execution_count": 13,
   "id": "5f61e329-4ed5-4a6f-841e-5289307761d2",
   "metadata": {
    "tags": []
   },
   "outputs": [
    {
     "name": "stdout",
     "output_type": "stream",
     "text": [
      "254\n"
     ]
    }
   ],
   "source": [
    "max_len = 0\n",
    "for p_soins_encoded in ghm_patient_encoded:\n",
    "    max_len = max(max_len, len(p_soins_encoded))\n",
    "    \n",
    "print(max_len)"
   ]
  },
  {
   "cell_type": "code",
   "execution_count": 14,
   "id": "6d6672df-5cd4-4d16-8517-65681a5b86ca",
   "metadata": {
    "tags": []
   },
   "outputs": [],
   "source": [
    "for i in range(len(ghm_patient_encoded)):\n",
    "    while len(ghm_patient_encoded[i]) < max_len:\n",
    "        ghm_patient_encoded[i].append(encoding_ghm[''])"
   ]
  },
  {
   "cell_type": "markdown",
   "id": "8861e315-5594-43e3-9393-2dc1f1bb92f4",
   "metadata": {},
   "source": [
    "### Encoding des patients"
   ]
  },
  {
   "cell_type": "code",
   "execution_count": 15,
   "id": "91f966dd-7184-490a-a1a8-d98908e35145",
   "metadata": {
    "tags": []
   },
   "outputs": [],
   "source": [
    "items_to_keep = [\"date_h0\", \"y_nais\", \"BEN_SEX_COD\", \"Mort\", \"Nb_survie\", \"Nb_hospit\", \"CHOC\"]"
   ]
  },
  {
   "cell_type": "code",
   "execution_count": 16,
   "id": "ec6291ce-cefa-473a-8043-a4d2dc3f98a9",
   "metadata": {
    "tags": []
   },
   "outputs": [],
   "source": [
    "patient = base_patient[items_to_keep]"
   ]
  },
  {
   "cell_type": "code",
   "execution_count": 17,
   "id": "ab3aa0b9-d860-4b97-88aa-cd0e7b1d1dc1",
   "metadata": {
    "tags": []
   },
   "outputs": [],
   "source": [
    "def flatten(l):\n",
    "    return [item for sublist in l for item in sublist]"
   ]
  },
  {
   "cell_type": "code",
   "execution_count": 18,
   "id": "0b482fd7-9d06-48ab-8295-5fb6f1f13c66",
   "metadata": {
    "tags": []
   },
   "outputs": [
    {
     "name": "stderr",
     "output_type": "stream",
     "text": [
      "100%|██████████| 10051/10051 [03:54<00:00, 42.91it/s]\n"
     ]
    }
   ],
   "source": [
    "X_patient = []\n",
    "for i in tqdm(range(len(patient))):\n",
    "    row_patient = list(patient.iloc[i])\n",
    "    ghm_patient = flatten(ghm_patient_encoded[i])\n",
    "    X_patient_i = row_patient + ghm_patient\n",
    "    X_patient.append(X_patient_i)"
   ]
  },
  {
   "cell_type": "markdown",
   "id": "8cbd74be-00c5-4a53-9907-ed6e6be56632",
   "metadata": {},
   "source": [
    "One-Hot Encoding est trop lourd: pouir chaque patient, on a un vecteur de dimension 254 x 2346 pour encoder les GHM"
   ]
  },
  {
   "cell_type": "markdown",
   "id": "7da0c58b-5f36-44f8-96ca-9be4a036c260",
   "metadata": {},
   "source": [
    "### Label Encoder"
   ]
  },
  {
   "cell_type": "code",
   "execution_count": 23,
   "id": "48b42e0b-54ff-49ac-8685-b8d3016dcb5f",
   "metadata": {
    "tags": []
   },
   "outputs": [],
   "source": [
    "label_encoding_ghm = dict()\n",
    "label_encoding_ghm[''] = 0\n",
    "cur_label = 1\n",
    "for ghm in all_ghm:\n",
    "    if label_encoding_ghm.get(ghm) != None:\n",
    "        pass #le ghm a deja ete encode\n",
    "    else:\n",
    "        encoding = cur_label/nb_ghm\n",
    "        cur_label += 1\n",
    "        label_encoding_ghm[ghm] = encoding"
   ]
  },
  {
   "cell_type": "code",
   "execution_count": 24,
   "id": "c8403e7b-fa93-4433-ac46-957cc4c9c716",
   "metadata": {
    "tags": []
   },
   "outputs": [],
   "source": [
    "# on verifie que l'encodage a ete bien fait\n",
    "# i.e on verifie que chaque ghm a bien un encodage unique\n",
    "# si la boucle ne print rien, c'est que l'encodage ne presente pas de probleme\n",
    "cur_label = 0\n",
    "for ghm in label_encoding_ghm.keys():\n",
    "    if label_encoding_ghm[ghm] != cur_label/nb_ghm:\n",
    "        print(ghm)\n",
    "    cur_label += 1"
   ]
  },
  {
   "cell_type": "code",
   "execution_count": 25,
   "id": "6491fea8-5070-4a9c-9934-d96ddce9a3cf",
   "metadata": {
    "tags": []
   },
   "outputs": [
    {
     "name": "stderr",
     "output_type": "stream",
     "text": [
      "100%|██████████| 10051/10051 [00:04<00:00, 2016.82it/s]\n"
     ]
    }
   ],
   "source": [
    "ghm_patient_label_encoded = []\n",
    "for i in tqdm(range(len(base_patient))):\n",
    "    ghm_row = p_soins.iloc[i].dropna().tolist()[1:]\n",
    "    encoding_ghm_row = []\n",
    "    for ghm in ghm_row:\n",
    "        encoded_ghm = label_encoding_ghm[ghm]\n",
    "        encoding_ghm_row.append(encoded_ghm)\n",
    "    ghm_patient_label_encoded.append(encoding_ghm_row)"
   ]
  },
  {
   "cell_type": "code",
   "execution_count": 26,
   "id": "03bc16ac-3bc2-4b34-9812-46e712774651",
   "metadata": {
    "tags": []
   },
   "outputs": [
    {
     "name": "stdout",
     "output_type": "stream",
     "text": [
      "254\n"
     ]
    }
   ],
   "source": [
    "max_len = 0\n",
    "for p_soins_encoded in ghm_patient_label_encoded:\n",
    "    max_len = max(max_len, len(p_soins_encoded))\n",
    "    \n",
    "print(max_len)"
   ]
  },
  {
   "cell_type": "code",
   "execution_count": 27,
   "id": "caba8309-ea7b-4cab-b9b5-7479f1c04275",
   "metadata": {
    "tags": []
   },
   "outputs": [],
   "source": [
    "for i in range(len(ghm_patient_label_encoded)):\n",
    "    while len(ghm_patient_label_encoded[i]) < max_len:\n",
    "        ghm_patient_label_encoded[i].append(label_encoding_ghm[''])"
   ]
  },
  {
   "cell_type": "code",
   "execution_count": null,
   "id": "30a54b51-ee1d-4424-b27f-2ac18f3c5139",
   "metadata": {
    "tags": []
   },
   "outputs": [
    {
     "name": "stderr",
     "output_type": "stream",
     "text": [
      " 72%|███████▏  | 7213/10051 [00:00<00:00, 24325.84it/s]"
     ]
    }
   ],
   "source": [
    "X_patient = []\n",
    "for i in tqdm(range(len(patient))):\n",
    "    row_patient = list(patient.iloc[i])\n",
    "    ghm_patient = ghm_patient_label_encoded[i]\n",
    "    X_patient_i = row_patient + ghm_patient\n",
    "    X_patient.append(X_patient_i)"
   ]
  },
  {
   "cell_type": "code",
   "execution_count": null,
   "id": "fa517fe6-f6eb-4146-b4e9-ae5d9f4d9c95",
   "metadata": {},
   "outputs": [],
   "source": []
  }
 ],
 "metadata": {
  "kernelspec": {
   "display_name": "Python 3 (ipykernel)",
   "language": "python",
   "name": "python3"
  },
  "language_info": {
   "codemirror_mode": {
    "name": "ipython",
    "version": 3
   },
   "file_extension": ".py",
   "mimetype": "text/x-python",
   "name": "python",
   "nbconvert_exporter": "python",
   "pygments_lexer": "ipython3",
   "version": "3.10.8"
  }
 },
 "nbformat": 4,
 "nbformat_minor": 5
}
