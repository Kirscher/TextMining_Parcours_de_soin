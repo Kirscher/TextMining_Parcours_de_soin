{
 "cells": [
  {
   "cell_type": "code",
   "execution_count": 1,
   "id": "2c6edb99-251b-47f4-bd68-dc4f88479ecf",
   "metadata": {
    "tags": []
   },
   "outputs": [],
   "source": [
    "%%capture capt\n",
    "!pip install scikit-learn-extra"
   ]
  },
  {
   "cell_type": "code",
   "execution_count": 2,
   "id": "1fca53a4-1b42-4bf0-aa25-18b45b42d3a4",
   "metadata": {
    "tags": []
   },
   "outputs": [],
   "source": [
    "%%capture capt\n",
    "import numpy as np\n",
    "from sklearn_extra.cluster import KMedoids\n",
    "from sklearn.metrics.pairwise import pairwise_distances\n",
    "from sklearn.metrics import silhouette_score\n",
    "from sklearn.preprocessing import MinMaxScaler\n",
    "import pandas as pd\n",
    "from tqdm import tqdm\n",
    "import matplotlib.pyplot as plt\n",
    "import multiprocessing\n",
    "from multiprocessing import Pool\n",
    "import pickle\n",
    "import random"
   ]
  },
  {
   "cell_type": "markdown",
   "id": "14d6eeb9-75c7-46ac-96ea-4eda76342efb",
   "metadata": {},
   "source": [
    "### Importation Data"
   ]
  },
  {
   "cell_type": "code",
   "execution_count": 3,
   "id": "012be864-176f-45c9-a6bf-e385512e9f15",
   "metadata": {
    "tags": []
   },
   "outputs": [],
   "source": [
    "base_patient = pd.read_csv(\"../data/profil_patient.csv\")"
   ]
  },
  {
   "cell_type": "code",
   "execution_count": 4,
   "id": "20ccfe54-c99e-4265-98f1-9e68875ce389",
   "metadata": {
    "tags": []
   },
   "outputs": [],
   "source": [
    "%%capture capt\n",
    "p_soins = pd.read_csv(\"../data/parcours_soins.csv\")"
   ]
  },
  {
   "cell_type": "code",
   "execution_count": 5,
   "id": "56b52225-a8b7-4efe-91fd-248f2415ea3f",
   "metadata": {
    "tags": []
   },
   "outputs": [],
   "source": [
    "X_patient = []\n",
    "for i in range(len(base_patient)):\n",
    "    ghm_row = p_soins.iloc[i].dropna().tolist()[1:]\n",
    "    X_patient.append(ghm_row)"
   ]
  },
  {
   "cell_type": "markdown",
   "id": "a8e95c5f-0cae-4a01-a61a-cfd67dda7c0c",
   "metadata": {},
   "source": [
    "### Acceder aux fonctions de métrique"
   ]
  },
  {
   "cell_type": "code",
   "execution_count": 6,
   "id": "06dc3ee4-4dcb-4707-8217-f80eb0bd4aa1",
   "metadata": {
    "tags": []
   },
   "outputs": [
    {
     "name": "stdout",
     "output_type": "stream",
     "text": [
      "Installation/Importation des librairies necessaires.\n"
     ]
    }
   ],
   "source": [
    "%run Metriques.ipynb"
   ]
  },
  {
   "cell_type": "code",
   "execution_count": 7,
   "id": "59c134eb-ea39-4683-907b-a6640dc852bd",
   "metadata": {
    "tags": []
   },
   "outputs": [],
   "source": [
    "weights = [1, 1, 1]\n",
    "\n",
    "def custom_dist(arr1, arr2):\n",
    "    return custom_distance(arr1, arr2, weights=weights)\n",
    "\n",
    "def custom_dist_norm(arr1, arr2):\n",
    "    return custom_distance_norm(arr1, arr2, weights=weights)\n",
    "\n",
    "def filter_dist(arr1, arr2):\n",
    "    return distance_filter(arr1, arr2, weights=weights)"
   ]
  },
  {
   "cell_type": "markdown",
   "id": "060ded09-a0ed-495c-a653-da1f03e1034f",
   "metadata": {},
   "source": [
    "### Calculer les distances"
   ]
  },
  {
   "cell_type": "code",
   "execution_count": 8,
   "id": "c68068ab-8f24-4a87-a55f-2ba095974770",
   "metadata": {
    "tags": []
   },
   "outputs": [
    {
     "name": "stdout",
     "output_type": "stream",
     "text": [
      "CPU cores available -> 72\n"
     ]
    }
   ],
   "source": [
    "nb_cpu_cores = multiprocessing.cpu_count()\n",
    "print(f\"CPU cores available -> {nb_cpu_cores}\")"
   ]
  },
  {
   "cell_type": "code",
   "execution_count": 9,
   "id": "49f9985f-a687-4ea5-b4ac-fba8092fb281",
   "metadata": {
    "tags": []
   },
   "outputs": [],
   "source": [
    "%run Distances.ipynb"
   ]
  },
  {
   "cell_type": "markdown",
   "id": "665be765-4a5d-40b9-b3e2-5a30a9c4d334",
   "metadata": {},
   "source": [
    "### Grid Search"
   ]
  },
  {
   "cell_type": "markdown",
   "id": "5dcfda1f-1755-4c05-af5f-432e13285b7d",
   "metadata": {},
   "source": [
    "### Parameters"
   ]
  },
  {
   "cell_type": "code",
   "execution_count": 10,
   "id": "74fd3ed7-3566-400b-90a9-9dfbd78b93cc",
   "metadata": {
    "tags": []
   },
   "outputs": [],
   "source": [
    "list_weights = [[i, j, k] for i in range(0, 101, 5) for j in range(0, i, 5) for k in range(0, j, 5)]"
   ]
  },
  {
   "cell_type": "code",
   "execution_count": 11,
   "id": "8e5dfbdc-3ea0-494c-8860-4fbf545913f1",
   "metadata": {
    "tags": []
   },
   "outputs": [],
   "source": [
    "for i in range(len(list_weights)):\n",
    "    for k in range(3):\n",
    "        if list_weights[i][k] == 0:\n",
    "            list_weights[i][k] = 1"
   ]
  },
  {
   "cell_type": "code",
   "execution_count": 12,
   "id": "f59c8a35-70cf-406e-a750-360bc9d83060",
   "metadata": {
    "tags": []
   },
   "outputs": [],
   "source": [
    "random.shuffle(list_weights)"
   ]
  },
  {
   "cell_type": "code",
   "execution_count": 13,
   "id": "4872b479-3bea-407b-aac8-38d97d4deef8",
   "metadata": {
    "tags": []
   },
   "outputs": [],
   "source": [
    "list_weights = [[1, 1, 1]] + list_weights"
   ]
  },
  {
   "cell_type": "code",
   "execution_count": 14,
   "id": "b8f6fd07-5af2-4e07-ad60-e56e673bf0ce",
   "metadata": {
    "tags": []
   },
   "outputs": [],
   "source": [
    "clusters = range(5, 32, 2)"
   ]
  },
  {
   "cell_type": "markdown",
   "id": "7ca46392-cfac-4060-a4b5-2e244bbfba92",
   "metadata": {},
   "source": [
    "#### Calculate distances"
   ]
  },
  {
   "cell_type": "code",
   "execution_count": 15,
   "id": "03aa4d12-aee4-4b4b-943d-b0aa6f16b96d",
   "metadata": {
    "tags": []
   },
   "outputs": [],
   "source": [
    "weights = list_weights[0]"
   ]
  },
  {
   "cell_type": "code",
   "execution_count": 16,
   "id": "399abfdf-fa1e-4cf3-ad1b-5f0ffcbb5a65",
   "metadata": {
    "tags": []
   },
   "outputs": [],
   "source": [
    "dict_distance_function = dict()\n",
    "dict_distance_function['jaro_winkler'] = jaro_winkler_distance\n",
    "dict_distance_function['levenshtein'] = levenshtein_distance\n",
    "dict_distance_function['custom'] = custom_dist\n",
    "dict_distance_function['custom_norm'] = custom_dist_norm\n",
    "dict_distance_function['filter_dist'] = filter_dist"
   ]
  },
  {
   "cell_type": "code",
   "execution_count": 17,
   "id": "f95fecce-c506-4f0f-b0e5-c4e594d749cc",
   "metadata": {
    "tags": []
   },
   "outputs": [],
   "source": [
    "def calculate_distances(data, distance, scaled=False):\n",
    "    distance_function = dict_distance_function[distance]\n",
    "    distances = custom_pairwise_distances(data, distance_function)\n",
    "    \n",
    "    if scaled:\n",
    "        scale_distances(distances)\n",
    "    return distances"
   ]
  },
  {
   "cell_type": "markdown",
   "id": "72ae5728-2065-47cc-a0c1-14a79477e62f",
   "metadata": {},
   "source": [
    "### Calculate clusters"
   ]
  },
  {
   "cell_type": "code",
   "execution_count": 18,
   "id": "0740de27-7dea-41ac-b99a-a69f9366224d",
   "metadata": {
    "tags": []
   },
   "outputs": [],
   "source": [
    "def get_kmedoids(n_clusters, distances):\n",
    "    kmedoids = KMedoids(n_clusters=n_clusters, metric='precomputed', init='k-medoids++')\n",
    "    kmedoids.fit(distances)\n",
    "    return kmedoids"
   ]
  },
  {
   "cell_type": "code",
   "execution_count": 19,
   "id": "920eeb6a-8db1-4b1a-96be-6ea784007365",
   "metadata": {
    "tags": []
   },
   "outputs": [],
   "source": [
    "def ajout_cluster_base(kmedoids):\n",
    "    base_patient_cluster = base_patient.drop(columns=[\"cluster\"])\n",
    "    for i in range(1, n_clusters+1):\n",
    "        base_patient_cluster[\"cluster\"+str(i)] = [0]*len(base_patient_cluster)\n",
    "    for i, label in enumerate(kmedoids.labels_):\n",
    "        base_patient_cluster.loc[i, \"cluster\"+str(label+1)] = 1\n",
    "    return base_patient_cluster\n",
    "        \n",
    "def ajout_p_soins(base_patient_cluster):\n",
    "    base_patient_cluster['p_soins'] = ['']*len(base_patient_cluster)\n",
    "    for i, patient in enumerate(X_patient):\n",
    "        p_soin = convert_to_sentence(patient)\n",
    "        base_patient_cluster.loc[i, 'p_soins'] = p_soin\n",
    "    return base_patient_cluster"
   ]
  },
  {
   "cell_type": "code",
   "execution_count": 20,
   "id": "785085e1-0ff6-4907-85cf-0133596a51cf",
   "metadata": {
    "tags": []
   },
   "outputs": [],
   "source": [
    "def get_cluster_score(n_clusters, distances):\n",
    "    kmedoids = get_kmedoids(n_clusters, distances)\n",
    "    base_patient_cluster = ajout_cluster_base(kmedoids)\n",
    "    base_patient_cluster = ajout_p_soins(base_patient_cluster)\n",
    "    base_patient_cluster.to_csv(\"../data/custom_metric/grid_search.csv\", index=False)\n",
    "    %run Cluster_assessment.ipynb\n",
    "    score = get_score()\n",
    "    return score"
   ]
  },
  {
   "cell_type": "markdown",
   "id": "f8a5b24d-0239-4404-9c55-fc48673340f4",
   "metadata": {},
   "source": [
    "### Perform Grid Search"
   ]
  },
  {
   "cell_type": "code",
   "execution_count": 21,
   "id": "c5bacdbd-3e39-4331-9277-6802d464d250",
   "metadata": {
    "tags": []
   },
   "outputs": [],
   "source": [
    "path_dict = '../data/grid_search/gridSearch_filter.pickle'"
   ]
  },
  {
   "cell_type": "code",
   "execution_count": 22,
   "id": "6c12d6cb-ddaf-4f2c-8d8b-a869134ac894",
   "metadata": {
    "tags": []
   },
   "outputs": [],
   "source": [
    "try:\n",
    "    with open(path_dict, 'rb') as handle:\n",
    "        grid_search = pickle.load(handle)\n",
    "except:\n",
    "    grid_search = {}"
   ]
  },
  {
   "cell_type": "code",
   "execution_count": 23,
   "id": "e8bd6b67-0c78-4c87-aa76-bb1f86884fec",
   "metadata": {
    "tags": []
   },
   "outputs": [
    {
     "data": {
      "text/plain": [
       "4584"
      ]
     },
     "execution_count": 23,
     "metadata": {},
     "output_type": "execute_result"
    }
   ],
   "source": [
    "len(grid_search)"
   ]
  },
  {
   "cell_type": "code",
   "execution_count": 24,
   "id": "1300eff4-d7cf-444b-8e6b-252caf43d2c4",
   "metadata": {
    "tags": []
   },
   "outputs": [],
   "source": [
    "def get_str(c, w):\n",
    "    return 'n_clusters:' + str(c) + ', weights:' + str(w[0]) + ' ' + str(w[1]) + ' ' + str(w[2])"
   ]
  },
  {
   "cell_type": "code",
   "execution_count": 25,
   "id": "9ed9c4ef-d103-476a-b8d0-16b289b2e7f3",
   "metadata": {
    "tags": []
   },
   "outputs": [],
   "source": [
    "import warnings\n",
    "warnings.filterwarnings(\"ignore\")"
   ]
  },
  {
   "cell_type": "code",
   "execution_count": 26,
   "id": "ff9a1efa-77ee-4827-9f88-5945e979ac0d",
   "metadata": {
    "tags": []
   },
   "outputs": [],
   "source": [
    "def check_if_clusters_all_calculated_for_distance(grid_search, clusters, weights):\n",
    "    for cluster in clusters:\n",
    "        key_grid_search = get_str(cluster, weights)\n",
    "        if grid_search.get(key_grid_search) == None:\n",
    "            return False\n",
    "        return True"
   ]
  },
  {
   "cell_type": "code",
   "execution_count": 27,
   "id": "c902360e-5b3d-45ae-a44c-60bd22d0ae33",
   "metadata": {
    "tags": []
   },
   "outputs": [],
   "source": [
    "def best_from_dict(dic):\n",
    "    max_score = -float('inf')\n",
    "    max_key = ''\n",
    "\n",
    "    for key in grid_search.keys():\n",
    "        if grid_search[key] >= max_score:\n",
    "            max_score = grid_search[key]\n",
    "            max_key = key\n",
    "    return max_score, max_key"
   ]
  },
  {
   "cell_type": "markdown",
   "id": "371864bb-d3db-409a-b7a4-b92ce720aa43",
   "metadata": {},
   "source": [
    "### Distance avec filtre, scaling et cluster assessment prend en compte la taille du cluster"
   ]
  },
  {
   "cell_type": "code",
   "execution_count": null,
   "id": "645fcb94-95ae-4ac3-a8ce-557fbfc24e05",
   "metadata": {
    "tags": []
   },
   "outputs": [
    {
     "name": "stdout",
     "output_type": "stream",
     "text": [
      "Nb calculated -> 4584, amounts for 24.6%, best so far -> (1.8567908109912595e-05, 'n_clusters:5, weights:100 60 45') // current weights -> [90, 60, 35]\r"
     ]
    }
   ],
   "source": [
    "nb_done = len(grid_search)\n",
    "if __name__ == '__main__':\n",
    "    for i in range(len(list_weights)):\n",
    "        weights = list_weights[i]\n",
    "        print(f\"Nb calculated -> {nb_done}, amounts for {round(100*len(grid_search)/(len(clusters)*len(list_weights)), 2)}%, best so far -> {best_from_dict(grid_search)} // current weights -> {weights}\", end='\\r')\n",
    "        if check_if_clusters_all_calculated_for_distance(grid_search, clusters, weights):\n",
    "            pass\n",
    "        else:\n",
    "            distances = calculate_distances(X_patient, 'filter_dist', scaled=True)\n",
    "\n",
    "            for n_clusters in clusters:\n",
    "                key_grid_search = get_str(n_clusters, weights)\n",
    "                if grid_search.get(key_grid_search) != None:\n",
    "                    pass\n",
    "                else:\n",
    "                    score = get_cluster_score(n_clusters, distances)\n",
    "                    grid_search[key_grid_search] = score\n",
    "                    with open(path_dict, 'wb') as handle:\n",
    "                        pickle.dump(grid_search, handle)\n",
    "                    nb_done += 1"
   ]
  },
  {
   "cell_type": "markdown",
   "id": "7d56ba41-eeeb-44a7-ba9f-db223163408e",
   "metadata": {
    "tags": []
   },
   "source": [
    "### Meilleurs weights"
   ]
  },
  {
   "cell_type": "code",
   "execution_count": 28,
   "id": "6577e136-d9bb-4f8b-8e1c-fb6480994a5c",
   "metadata": {
    "tags": []
   },
   "outputs": [],
   "source": [
    "max_score, max_key = best_from_dict(grid_search)"
   ]
  },
  {
   "cell_type": "code",
   "execution_count": 29,
   "id": "b6c5b54d-fca2-40b6-bca2-c85b2d909099",
   "metadata": {
    "tags": []
   },
   "outputs": [
    {
     "data": {
      "text/plain": [
       "1.8567908109912595e-05"
      ]
     },
     "execution_count": 29,
     "metadata": {},
     "output_type": "execute_result"
    }
   ],
   "source": [
    "max_score"
   ]
  },
  {
   "cell_type": "code",
   "execution_count": 30,
   "id": "71c56edf-6b72-49aa-b944-27f1520edb9e",
   "metadata": {
    "tags": []
   },
   "outputs": [
    {
     "data": {
      "text/plain": [
       "'n_clusters:5, weights:100 60 45'"
      ]
     },
     "execution_count": 30,
     "metadata": {},
     "output_type": "execute_result"
    }
   ],
   "source": [
    "max_key"
   ]
  }
 ],
 "metadata": {
  "kernelspec": {
   "display_name": "Python 3 (ipykernel)",
   "language": "python",
   "name": "python3"
  },
  "language_info": {
   "codemirror_mode": {
    "name": "ipython",
    "version": 3
   },
   "file_extension": ".py",
   "mimetype": "text/x-python",
   "name": "python",
   "nbconvert_exporter": "python",
   "pygments_lexer": "ipython3",
   "version": "3.11.4"
  }
 },
 "nbformat": 4,
 "nbformat_minor": 5
}
