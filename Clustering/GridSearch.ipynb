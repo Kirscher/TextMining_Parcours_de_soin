{
 "cells": [
  {
   "cell_type": "code",
   "execution_count": 1,
   "id": "1fca53a4-1b42-4bf0-aa25-18b45b42d3a4",
   "metadata": {
    "tags": []
   },
   "outputs": [],
   "source": [
    "%%capture capt\n",
    "import numpy as np\n",
    "from sklearn_extra.cluster import KMedoids\n",
    "from sklearn.metrics.pairwise import pairwise_distances\n",
    "from sklearn.metrics import silhouette_score\n",
    "import pandas as pd\n",
    "from tqdm import tqdm\n",
    "import matplotlib.pyplot as plt\n",
    "import multiprocessing\n",
    "from multiprocessing import Pool\n",
    "import pickle"
   ]
  },
  {
   "cell_type": "markdown",
   "id": "14d6eeb9-75c7-46ac-96ea-4eda76342efb",
   "metadata": {},
   "source": [
    "### Importation Data"
   ]
  },
  {
   "cell_type": "code",
   "execution_count": 2,
   "id": "012be864-176f-45c9-a6bf-e385512e9f15",
   "metadata": {
    "tags": []
   },
   "outputs": [],
   "source": [
    "base_patient = pd.read_csv(\"../data/profil_patient.csv\")"
   ]
  },
  {
   "cell_type": "code",
   "execution_count": 3,
   "id": "20ccfe54-c99e-4265-98f1-9e68875ce389",
   "metadata": {
    "tags": []
   },
   "outputs": [],
   "source": [
    "%%capture capt\n",
    "p_soins = pd.read_csv(\"../data/parcours_soins.csv\")"
   ]
  },
  {
   "cell_type": "code",
   "execution_count": 4,
   "id": "56b52225-a8b7-4efe-91fd-248f2415ea3f",
   "metadata": {
    "tags": []
   },
   "outputs": [],
   "source": [
    "X_patient = []\n",
    "for i in range(len(base_patient)):\n",
    "    ghm_row = p_soins.iloc[i].dropna().tolist()[1:]\n",
    "    X_patient.append(ghm_row)"
   ]
  },
  {
   "cell_type": "markdown",
   "id": "a8e95c5f-0cae-4a01-a61a-cfd67dda7c0c",
   "metadata": {},
   "source": [
    "### Acceder aux fonctions de métrique"
   ]
  },
  {
   "cell_type": "code",
   "execution_count": 5,
   "id": "06dc3ee4-4dcb-4707-8217-f80eb0bd4aa1",
   "metadata": {
    "tags": []
   },
   "outputs": [
    {
     "name": "stdout",
     "output_type": "stream",
     "text": [
      "Installation/Importation des librairies necessaires.\n"
     ]
    }
   ],
   "source": [
    "%run Metriques.ipynb"
   ]
  },
  {
   "cell_type": "code",
   "execution_count": 6,
   "id": "59c134eb-ea39-4683-907b-a6640dc852bd",
   "metadata": {
    "tags": []
   },
   "outputs": [],
   "source": [
    "weights = [1, 1, 1]\n",
    "\n",
    "def custom_dist(arr1, arr2):\n",
    "    return custom_distance(arr1, arr2, weights=weights)\n",
    "\n",
    "def custom_dist_norm(arr1, arr2):\n",
    "    return custom_distance_norm(arr1, arr2, weights=weights)"
   ]
  },
  {
   "cell_type": "markdown",
   "id": "060ded09-a0ed-495c-a653-da1f03e1034f",
   "metadata": {},
   "source": [
    "### Calculer les distances"
   ]
  },
  {
   "cell_type": "code",
   "execution_count": 7,
   "id": "c68068ab-8f24-4a87-a55f-2ba095974770",
   "metadata": {
    "tags": []
   },
   "outputs": [
    {
     "name": "stdout",
     "output_type": "stream",
     "text": [
      "CPU cores available -> 56\n"
     ]
    }
   ],
   "source": [
    "nb_cpu_cores = multiprocessing.cpu_count()\n",
    "print(f\"CPU cores available -> {nb_cpu_cores}\")"
   ]
  },
  {
   "cell_type": "code",
   "execution_count": 8,
   "id": "8be96f08-f04c-4a68-bfbc-8553b90aefb8",
   "metadata": {
    "tags": []
   },
   "outputs": [],
   "source": [
    "def custom_pairwise_distances_i_triangle(data, distance_function, i):\n",
    "    distance_i = [distance_function(data[i], data[j]) for j in range(i)]\n",
    "    distance_i.append(0)\n",
    "    return distance_i\n",
    "\n",
    "def custom_pairwise_distances_triangle_for_multithread(global_data, distance_function, starting_index, length):\n",
    "    distances = [custom_pairwise_distances_i_triangle(global_data, distance_function, i+starting_index) for i in range(length)]\n",
    "    return distances\n",
    "\n",
    "def get_starting_indices(len_data, divide_into):\n",
    "    linspace = np.linspace(0, len_data, divide_into)\n",
    "    indices = [math.floor(x) for x in linspace]\n",
    "    return indices    \n",
    "\n",
    "def get_lengths(len_data, indices):\n",
    "    if len(indices) <= 1:\n",
    "        return [len_data]\n",
    "    lengths = [indices[1]]\n",
    "    for i in range(2, len(indices)):\n",
    "        lengths.append(indices[i]-indices[i-1])\n",
    "    lengths.append(len_data-indices[-1])\n",
    "    return lengths\n",
    "\n",
    "def custom_pairwise_distances_triangle_multithread(data, distance_function, divide_into=nb_cpu_cores):\n",
    "    distances = []    \n",
    "    starting_indices = get_starting_indices(len(data), divide_into)\n",
    "    lengths = get_lengths(len(data), starting_indices)\n",
    "    \n",
    "    with Pool() as p:\n",
    "        async_results = [p.apply_async(custom_pairwise_distances_triangle_for_multithread, \n",
    "                                       args=(data, distance_function, starting_indices[i], lengths[i])) for i in range(len(lengths))]\n",
    "        \n",
    "        for i in range(len(lengths)):\n",
    "            distances += async_results[i].get()\n",
    "    return distances\n",
    "    \n",
    "def custom_pairwise_distances(data, distance_function, divide_into=nb_cpu_cores):\n",
    "    distances_triangle = custom_pairwise_distances_triangle_multithread(data, distance_function, divide_into=divide_into)\n",
    "    for i in range(len(data)):\n",
    "        for j in range(i+1, len(data)):\n",
    "            distances_triangle[i].append(distances_triangle[j][i])\n",
    "    return np.array(distances_triangle)"
   ]
  },
  {
   "cell_type": "markdown",
   "id": "665be765-4a5d-40b9-b3e2-5a30a9c4d334",
   "metadata": {},
   "source": [
    "### Grid Search"
   ]
  },
  {
   "cell_type": "markdown",
   "id": "5dcfda1f-1755-4c05-af5f-432e13285b7d",
   "metadata": {},
   "source": [
    "### Parameters"
   ]
  },
  {
   "cell_type": "code",
   "execution_count": 9,
   "id": "74fd3ed7-3566-400b-90a9-9dfbd78b93cc",
   "metadata": {
    "tags": []
   },
   "outputs": [],
   "source": [
    "list_weights = [[i, j, k] for i in range(0, 41, 5) for j in range(0, i+1, 5) for k in range(0, j, 5)]"
   ]
  },
  {
   "cell_type": "code",
   "execution_count": 10,
   "id": "8e5dfbdc-3ea0-494c-8860-4fbf545913f1",
   "metadata": {
    "tags": []
   },
   "outputs": [],
   "source": [
    "for i in range(len(list_weights)):\n",
    "    for k in range(3):\n",
    "        if list_weights[i][k] == 0:\n",
    "            list_weights[i][k] = 1"
   ]
  },
  {
   "cell_type": "code",
   "execution_count": 11,
   "id": "4872b479-3bea-407b-aac8-38d97d4deef8",
   "metadata": {
    "tags": []
   },
   "outputs": [],
   "source": [
    "list_weights = [[1, 1, 1]] + list_weights"
   ]
  },
  {
   "cell_type": "markdown",
   "id": "7ca46392-cfac-4060-a4b5-2e244bbfba92",
   "metadata": {},
   "source": [
    "#### Calculate distances"
   ]
  },
  {
   "cell_type": "code",
   "execution_count": 12,
   "id": "03aa4d12-aee4-4b4b-943d-b0aa6f16b96d",
   "metadata": {
    "tags": []
   },
   "outputs": [],
   "source": [
    "weights = list_weights[0]"
   ]
  },
  {
   "cell_type": "code",
   "execution_count": 13,
   "id": "399abfdf-fa1e-4cf3-ad1b-5f0ffcbb5a65",
   "metadata": {
    "tags": []
   },
   "outputs": [],
   "source": [
    "dict_distance_function = dict()\n",
    "dict_distance_function['jaro_winkler'] = jaro_winkler_distance\n",
    "dict_distance_function['levenshtein'] = levenshtein_distance\n",
    "dict_distance_function['custom'] = custom_dist\n",
    "dict_distance_function['custom_norm'] = custom_dist_norm"
   ]
  },
  {
   "cell_type": "code",
   "execution_count": 14,
   "id": "f95fecce-c506-4f0f-b0e5-c4e594d749cc",
   "metadata": {
    "tags": []
   },
   "outputs": [],
   "source": [
    "def calculate_distances(data, distance):\n",
    "    distance_function = dict_distance_function[distance]\n",
    "    distances = custom_pairwise_distances(data, distance_function)\n",
    "    return distances"
   ]
  },
  {
   "cell_type": "markdown",
   "id": "72ae5728-2065-47cc-a0c1-14a79477e62f",
   "metadata": {},
   "source": [
    "### Calculate clusters"
   ]
  },
  {
   "cell_type": "code",
   "execution_count": 15,
   "id": "99702296-a77b-4fe1-99fd-e32ba76ba895",
   "metadata": {
    "tags": []
   },
   "outputs": [],
   "source": [
    "n_clusters=20"
   ]
  },
  {
   "cell_type": "code",
   "execution_count": 16,
   "id": "0740de27-7dea-41ac-b99a-a69f9366224d",
   "metadata": {
    "tags": []
   },
   "outputs": [],
   "source": [
    "def get_kmedoids(n_clusters, distances):\n",
    "    kmedoids = KMedoids(n_clusters=n_clusters, metric='precomputed')\n",
    "    kmedoids.fit(distances)\n",
    "    return kmedoids"
   ]
  },
  {
   "cell_type": "code",
   "execution_count": 33,
   "id": "920eeb6a-8db1-4b1a-96be-6ea784007365",
   "metadata": {
    "tags": []
   },
   "outputs": [],
   "source": [
    "def ajout_cluster_base(kmedoids):\n",
    "    base_patient_cluster = base_patient.drop(columns=[\"cluster\"])\n",
    "    for i in range(1, n_clusters+1):\n",
    "        base_patient_cluster[\"cluster\"+str(i)] = [0]*len(base_patient_cluster)\n",
    "    for i, label in enumerate(kmedoids.labels_):\n",
    "        base_patient_cluster.loc[i, \"cluster\"+str(label+1)] = 1\n",
    "    return base_patient_cluster\n",
    "        \n",
    "def ajout_p_soins(base_patient_cluster):\n",
    "    base_patient_cluster['p_soins'] = ['']*len(base_patient_cluster)\n",
    "    for i, patient in enumerate(X_patient):\n",
    "        p_soin = convert_to_sentence(patient)\n",
    "        base_patient_cluster.loc[i, 'p_soins'] = p_soin\n",
    "    return base_patient_cluster"
   ]
  },
  {
   "cell_type": "code",
   "execution_count": 36,
   "id": "785085e1-0ff6-4907-85cf-0133596a51cf",
   "metadata": {
    "tags": []
   },
   "outputs": [],
   "source": [
    "def get_cluster_score(n_clusters, distances):\n",
    "    kmedoids = get_kmedoids(n_clusters, distances)\n",
    "    base_patient_cluster = ajout_cluster_base(kmedoids)\n",
    "    base_patient_cluster = ajout_p_soins(base_patient_cluster)\n",
    "    base_patient_cluster.to_csv(\"../data/custom_metric/grid_search.csv\", index=False)\n",
    "    %run Cluster_assessment.ipynb\n",
    "    score = get_score()\n",
    "    return score"
   ]
  },
  {
   "cell_type": "markdown",
   "id": "f8a5b24d-0239-4404-9c55-fc48673340f4",
   "metadata": {},
   "source": [
    "### Perform Grid Search"
   ]
  },
  {
   "cell_type": "code",
   "execution_count": 24,
   "id": "6c12d6cb-ddaf-4f2c-8d8b-a869134ac894",
   "metadata": {
    "tags": []
   },
   "outputs": [],
   "source": [
    "try:\n",
    "    with open('../data/gridSearch.pickle', 'rb') as handle:\n",
    "        grid_search = pickle.load(handle)\n",
    "except:\n",
    "    grid_search = {}"
   ]
  },
  {
   "cell_type": "code",
   "execution_count": 25,
   "id": "1300eff4-d7cf-444b-8e6b-252caf43d2c4",
   "metadata": {
    "tags": []
   },
   "outputs": [],
   "source": [
    "def get_str(w):\n",
    "    return str(w[0]) + ' ' + str(w[1]) + ' ' + str(w[2])"
   ]
  },
  {
   "cell_type": "code",
   "execution_count": 26,
   "id": "dcbce353-be7a-4cd6-a184-bf86496aebbc",
   "metadata": {
    "tags": []
   },
   "outputs": [
    {
     "name": "stderr",
     "output_type": "stream",
     "text": [
      "  0%|          | 0/121 [06:41<?, ?it/s]\n"
     ]
    },
    {
     "ename": "UnboundLocalError",
     "evalue": "local variable 'ajout_cluster_base' referenced before assignment",
     "output_type": "error",
     "traceback": [
      "\u001b[0;31m---------------------------------------------------------------------------\u001b[0m",
      "\u001b[0;31mUnboundLocalError\u001b[0m                         Traceback (most recent call last)",
      "Cell \u001b[0;32mIn[26], line 9\u001b[0m\n\u001b[1;32m      7\u001b[0m \u001b[38;5;28;01mif\u001b[39;00m \u001b[38;5;18m__name__\u001b[39m \u001b[38;5;241m==\u001b[39m \u001b[38;5;124m'\u001b[39m\u001b[38;5;124m__main__\u001b[39m\u001b[38;5;124m'\u001b[39m:\n\u001b[1;32m      8\u001b[0m     distances \u001b[38;5;241m=\u001b[39m calculate_distances(X_patient, \u001b[38;5;124m'\u001b[39m\u001b[38;5;124mcustom_norm\u001b[39m\u001b[38;5;124m'\u001b[39m)\n\u001b[0;32m----> 9\u001b[0m score \u001b[38;5;241m=\u001b[39m \u001b[43mget_cluster_score\u001b[49m\u001b[43m(\u001b[49m\u001b[43mn_clusters\u001b[49m\u001b[43m,\u001b[49m\u001b[43m \u001b[49m\u001b[43mdistances\u001b[49m\u001b[43m)\u001b[49m\n\u001b[1;32m     11\u001b[0m grid_search[get_str(weights)] \u001b[38;5;241m=\u001b[39m score\n\u001b[1;32m     12\u001b[0m \u001b[38;5;28;01mwith\u001b[39;00m \u001b[38;5;28mopen\u001b[39m(\u001b[38;5;124m'\u001b[39m\u001b[38;5;124m../data/gridSearch.pickle\u001b[39m\u001b[38;5;124m'\u001b[39m, \u001b[38;5;124m'\u001b[39m\u001b[38;5;124mwb\u001b[39m\u001b[38;5;124m'\u001b[39m) \u001b[38;5;28;01mas\u001b[39;00m handle:\n",
      "Cell \u001b[0;32mIn[18], line 3\u001b[0m, in \u001b[0;36mget_cluster_score\u001b[0;34m(n_clusters, distances)\u001b[0m\n\u001b[1;32m      1\u001b[0m \u001b[38;5;28;01mdef\u001b[39;00m \u001b[38;5;21mget_cluster_score\u001b[39m(n_clusters, distances):\n\u001b[1;32m      2\u001b[0m     kmedoids \u001b[38;5;241m=\u001b[39m get_kmedoids(n_clusters, distances)\n\u001b[0;32m----> 3\u001b[0m     base_patient_cluster \u001b[38;5;241m=\u001b[39m \u001b[43majout_cluster_base\u001b[49m(kmedoids)\n\u001b[1;32m      4\u001b[0m     ajout_cluster_base \u001b[38;5;241m=\u001b[39m ajout_p_soins(ajout_p_soins)\n\u001b[1;32m      5\u001b[0m     base_patient_cluster\u001b[38;5;241m.\u001b[39mto_csv(\u001b[38;5;124m\"\u001b[39m\u001b[38;5;124m../data/custom_metric/grid_search.csv\u001b[39m\u001b[38;5;124m\"\u001b[39m, index\u001b[38;5;241m=\u001b[39m\u001b[38;5;28;01mFalse\u001b[39;00m)\n",
      "\u001b[0;31mUnboundLocalError\u001b[0m: local variable 'ajout_cluster_base' referenced before assignment"
     ]
    }
   ],
   "source": [
    "for i in tqdm(range(len(list_weights))):\n",
    "    weights = list_weights[i]\n",
    "    print(weights, end='\\r')\n",
    "    str_weights = get_str(weights)\n",
    "    if grid_search.get(str_weights) != None:\n",
    "        pass\n",
    "    else:\n",
    "        if __name__ == '__main__':\n",
    "            distances = calculate_distances(X_patient, 'custom_norm')\n",
    "        score = get_cluster_score(n_clusters, distances)\n",
    "\n",
    "        grid_search[get_str(weights)] = score\n",
    "        with open('../data/gridSearch.pickle', 'wb') as handle:\n",
    "            pickle.dump(grid_search, handle)"
   ]
  },
  {
   "cell_type": "markdown",
   "id": "7d56ba41-eeeb-44a7-ba9f-db223163408e",
   "metadata": {
    "tags": []
   },
   "source": [
    "### Meilleurs weights"
   ]
  },
  {
   "cell_type": "code",
   "execution_count": null,
   "id": "6577e136-d9bb-4f8b-8e1c-fb6480994a5c",
   "metadata": {},
   "outputs": [],
   "source": [
    "max_score = -float('inf')\n",
    "max_key = ''\n",
    "\n",
    "for key in grid_search.keys():\n",
    "    if grid_search[key] >= max_score:\n",
    "        max_score = grid_search[key]\n",
    "        max_key = key"
   ]
  }
 ],
 "metadata": {
  "kernelspec": {
   "display_name": "Python 3 (ipykernel)",
   "language": "python",
   "name": "python3"
  },
  "language_info": {
   "codemirror_mode": {
    "name": "ipython",
    "version": 3
   },
   "file_extension": ".py",
   "mimetype": "text/x-python",
   "name": "python",
   "nbconvert_exporter": "python",
   "pygments_lexer": "ipython3",
   "version": "3.10.9"
  }
 },
 "nbformat": 4,
 "nbformat_minor": 5
}
