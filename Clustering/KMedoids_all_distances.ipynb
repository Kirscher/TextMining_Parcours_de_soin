{
 "cells": [
  {
   "cell_type": "code",
   "execution_count": null,
   "id": "dcad0d2d-d7fc-499c-a634-7c900e0985b4",
   "metadata": {},
   "outputs": [],
   "source": [
    "%%capture capt\n",
    "!pip install scikit-learn-extra\n",
    "!pip install kneed[plot]"
   ]
  },
  {
   "cell_type": "code",
   "execution_count": 2,
   "id": "4233a5b6-9782-4954-98df-083837656b05",
   "metadata": {
    "tags": []
   },
   "outputs": [],
   "source": [
    "%%capture capt\n",
    "import numpy as np\n",
    "from sklearn_extra.cluster import KMedoids\n",
    "from sklearn.metrics.pairwise import pairwise_distances\n",
    "from sklearn.metrics import silhouette_score\n",
    "from matplotlib.ticker import PercentFormatter\n",
    "import pandas as pd\n",
    "from tqdm import tqdm\n",
    "import matplotlib.pyplot as plt\n",
    "from kneed import KneeLocator\n",
    "import multiprocessing\n",
    "from multiprocessing import Pool\n",
    "import concurrent.futures\n",
    "import math"
   ]
  },
  {
   "cell_type": "markdown",
   "id": "119e1309-c642-41f1-8fd8-59e563620a52",
   "metadata": {},
   "source": [
    "# Importation data"
   ]
  },
  {
   "cell_type": "code",
   "execution_count": 3,
   "id": "a7afd725-c17d-4425-94b6-d78854baec48",
   "metadata": {
    "tags": []
   },
   "outputs": [],
   "source": [
    "base_patient = pd.read_csv(\"../data/profil_patient.csv\")"
   ]
  },
  {
   "cell_type": "code",
   "execution_count": 4,
   "id": "2dc6c7ce-1bc3-40c9-bf68-36a09ed62cff",
   "metadata": {
    "tags": []
   },
   "outputs": [],
   "source": [
    "%%capture capt\n",
    "p_soins = pd.read_csv(\"../data/parcours_soins.csv\")"
   ]
  },
  {
   "cell_type": "code",
   "execution_count": 5,
   "id": "7faab721-81bc-457f-bc66-787595c482d9",
   "metadata": {
    "tags": []
   },
   "outputs": [
    {
     "data": {
      "text/html": [
       "<div>\n",
       "<style scoped>\n",
       "    .dataframe tbody tr th:only-of-type {\n",
       "        vertical-align: middle;\n",
       "    }\n",
       "\n",
       "    .dataframe tbody tr th {\n",
       "        vertical-align: top;\n",
       "    }\n",
       "\n",
       "    .dataframe thead th {\n",
       "        text-align: right;\n",
       "    }\n",
       "</style>\n",
       "<table border=\"1\" class=\"dataframe\">\n",
       "  <thead>\n",
       "    <tr style=\"text-align: right;\">\n",
       "      <th></th>\n",
       "      <th>BEN_NIR_IDT</th>\n",
       "      <th>2008-01-15</th>\n",
       "      <th>2008-02-15</th>\n",
       "      <th>2008-03-15</th>\n",
       "      <th>2008-04-15</th>\n",
       "      <th>2008-05-15</th>\n",
       "      <th>2008-06-15</th>\n",
       "      <th>2008-07-15</th>\n",
       "      <th>2008-08-15</th>\n",
       "      <th>2008-09-15</th>\n",
       "      <th>...</th>\n",
       "      <th>2018-12-19</th>\n",
       "      <th>2018-12-20</th>\n",
       "      <th>2018-12-21</th>\n",
       "      <th>2018-12-22</th>\n",
       "      <th>2018-12-24</th>\n",
       "      <th>2018-12-25</th>\n",
       "      <th>2018-12-26</th>\n",
       "      <th>2018-12-27</th>\n",
       "      <th>2018-12-28</th>\n",
       "      <th>2018-12-29</th>\n",
       "    </tr>\n",
       "  </thead>\n",
       "  <tbody>\n",
       "    <tr>\n",
       "      <th>0</th>\n",
       "      <td>P0</td>\n",
       "      <td>NaN</td>\n",
       "      <td>NaN</td>\n",
       "      <td>NaN</td>\n",
       "      <td>NaN</td>\n",
       "      <td>NaN</td>\n",
       "      <td>NaN</td>\n",
       "      <td>NaN</td>\n",
       "      <td>NaN</td>\n",
       "      <td>NaN</td>\n",
       "      <td>...</td>\n",
       "      <td>NaN</td>\n",
       "      <td>NaN</td>\n",
       "      <td>NaN</td>\n",
       "      <td>NaN</td>\n",
       "      <td>NaN</td>\n",
       "      <td>NaN</td>\n",
       "      <td>NaN</td>\n",
       "      <td>NaN</td>\n",
       "      <td>NaN</td>\n",
       "      <td>NaN</td>\n",
       "    </tr>\n",
       "    <tr>\n",
       "      <th>1</th>\n",
       "      <td>P6</td>\n",
       "      <td>NaN</td>\n",
       "      <td>NaN</td>\n",
       "      <td>NaN</td>\n",
       "      <td>NaN</td>\n",
       "      <td>NaN</td>\n",
       "      <td>NaN</td>\n",
       "      <td>NaN</td>\n",
       "      <td>NaN</td>\n",
       "      <td>NaN</td>\n",
       "      <td>...</td>\n",
       "      <td>NaN</td>\n",
       "      <td>NaN</td>\n",
       "      <td>NaN</td>\n",
       "      <td>NaN</td>\n",
       "      <td>NaN</td>\n",
       "      <td>NaN</td>\n",
       "      <td>NaN</td>\n",
       "      <td>NaN</td>\n",
       "      <td>NaN</td>\n",
       "      <td>NaN</td>\n",
       "    </tr>\n",
       "    <tr>\n",
       "      <th>2</th>\n",
       "      <td>P8</td>\n",
       "      <td>NaN</td>\n",
       "      <td>NaN</td>\n",
       "      <td>NaN</td>\n",
       "      <td>NaN</td>\n",
       "      <td>NaN</td>\n",
       "      <td>NaN</td>\n",
       "      <td>NaN</td>\n",
       "      <td>NaN</td>\n",
       "      <td>NaN</td>\n",
       "      <td>...</td>\n",
       "      <td>NaN</td>\n",
       "      <td>NaN</td>\n",
       "      <td>NaN</td>\n",
       "      <td>NaN</td>\n",
       "      <td>NaN</td>\n",
       "      <td>NaN</td>\n",
       "      <td>NaN</td>\n",
       "      <td>NaN</td>\n",
       "      <td>NaN</td>\n",
       "      <td>NaN</td>\n",
       "    </tr>\n",
       "  </tbody>\n",
       "</table>\n",
       "<p>3 rows × 3676 columns</p>\n",
       "</div>"
      ],
      "text/plain": [
       "  BEN_NIR_IDT 2008-01-15 2008-02-15 2008-03-15 2008-04-15 2008-05-15  \\\n",
       "0          P0        NaN        NaN        NaN        NaN        NaN   \n",
       "1          P6        NaN        NaN        NaN        NaN        NaN   \n",
       "2          P8        NaN        NaN        NaN        NaN        NaN   \n",
       "\n",
       "  2008-06-15 2008-07-15 2008-08-15 2008-09-15  ... 2018-12-19 2018-12-20  \\\n",
       "0        NaN        NaN        NaN        NaN  ...        NaN        NaN   \n",
       "1        NaN        NaN        NaN        NaN  ...        NaN        NaN   \n",
       "2        NaN        NaN        NaN        NaN  ...        NaN        NaN   \n",
       "\n",
       "  2018-12-21 2018-12-22 2018-12-24 2018-12-25 2018-12-26 2018-12-27  \\\n",
       "0        NaN        NaN        NaN        NaN        NaN        NaN   \n",
       "1        NaN        NaN        NaN        NaN        NaN        NaN   \n",
       "2        NaN        NaN        NaN        NaN        NaN        NaN   \n",
       "\n",
       "  2018-12-28 2018-12-29  \n",
       "0        NaN        NaN  \n",
       "1        NaN        NaN  \n",
       "2        NaN        NaN  \n",
       "\n",
       "[3 rows x 3676 columns]"
      ]
     },
     "execution_count": 5,
     "metadata": {},
     "output_type": "execute_result"
    }
   ],
   "source": [
    "p_soins.head(3)"
   ]
  },
  {
   "cell_type": "code",
   "execution_count": 67,
   "id": "f64b4a9c-d79d-4b62-bffe-0fa6794eba35",
   "metadata": {
    "tags": []
   },
   "outputs": [
    {
     "data": {
      "text/html": [
       "<div>\n",
       "<style scoped>\n",
       "    .dataframe tbody tr th:only-of-type {\n",
       "        vertical-align: middle;\n",
       "    }\n",
       "\n",
       "    .dataframe tbody tr th {\n",
       "        vertical-align: top;\n",
       "    }\n",
       "\n",
       "    .dataframe thead th {\n",
       "        text-align: right;\n",
       "    }\n",
       "</style>\n",
       "<table border=\"1\" class=\"dataframe\">\n",
       "  <thead>\n",
       "    <tr style=\"text-align: right;\">\n",
       "      <th></th>\n",
       "      <th>CODE_PATIENT</th>\n",
       "      <th>date_h0</th>\n",
       "      <th>y_nais</th>\n",
       "      <th>BEN_RES_DPT</th>\n",
       "      <th>BEN_SEX_COD</th>\n",
       "      <th>dte_deces</th>\n",
       "      <th>Mort</th>\n",
       "      <th>Nb_survie</th>\n",
       "      <th>Nb_hospit</th>\n",
       "      <th>CHOC</th>\n",
       "      <th>Nb_jours_sej</th>\n",
       "      <th>cat_age</th>\n",
       "      <th>cat_nb_hospit</th>\n",
       "      <th>cat_nb_jours_sej</th>\n",
       "      <th>cluster</th>\n",
       "    </tr>\n",
       "  </thead>\n",
       "  <tbody>\n",
       "    <tr>\n",
       "      <th>0</th>\n",
       "      <td>P0</td>\n",
       "      <td>2011</td>\n",
       "      <td>1949</td>\n",
       "      <td>11</td>\n",
       "      <td>0</td>\n",
       "      <td>NaN</td>\n",
       "      <td>0</td>\n",
       "      <td>2596</td>\n",
       "      <td>9</td>\n",
       "      <td>0</td>\n",
       "      <td>23</td>\n",
       "      <td>1</td>\n",
       "      <td>1</td>\n",
       "      <td>1</td>\n",
       "      <td>0</td>\n",
       "    </tr>\n",
       "    <tr>\n",
       "      <th>1</th>\n",
       "      <td>P6</td>\n",
       "      <td>2013</td>\n",
       "      <td>1929</td>\n",
       "      <td>14</td>\n",
       "      <td>1</td>\n",
       "      <td>2015-03</td>\n",
       "      <td>1</td>\n",
       "      <td>456</td>\n",
       "      <td>8</td>\n",
       "      <td>0</td>\n",
       "      <td>51</td>\n",
       "      <td>2</td>\n",
       "      <td>1</td>\n",
       "      <td>1</td>\n",
       "      <td>1</td>\n",
       "    </tr>\n",
       "    <tr>\n",
       "      <th>2</th>\n",
       "      <td>P8</td>\n",
       "      <td>2015</td>\n",
       "      <td>1967</td>\n",
       "      <td>54</td>\n",
       "      <td>1</td>\n",
       "      <td>2015-08</td>\n",
       "      <td>1</td>\n",
       "      <td>41</td>\n",
       "      <td>3</td>\n",
       "      <td>1</td>\n",
       "      <td>43</td>\n",
       "      <td>0</td>\n",
       "      <td>1</td>\n",
       "      <td>1</td>\n",
       "      <td>2</td>\n",
       "    </tr>\n",
       "  </tbody>\n",
       "</table>\n",
       "</div>"
      ],
      "text/plain": [
       "  CODE_PATIENT  date_h0  y_nais BEN_RES_DPT  BEN_SEX_COD dte_deces  Mort  \\\n",
       "0           P0     2011    1949          11            0       NaN     0   \n",
       "1           P6     2013    1929          14            1   2015-03     1   \n",
       "2           P8     2015    1967          54            1   2015-08     1   \n",
       "\n",
       "   Nb_survie  Nb_hospit  CHOC  Nb_jours_sej  cat_age  cat_nb_hospit  \\\n",
       "0       2596          9     0            23        1              1   \n",
       "1        456          8     0            51        2              1   \n",
       "2         41          3     1            43        0              1   \n",
       "\n",
       "   cat_nb_jours_sej  cluster  \n",
       "0                 1        0  \n",
       "1                 1        1  \n",
       "2                 1        2  "
      ]
     },
     "execution_count": 67,
     "metadata": {},
     "output_type": "execute_result"
    }
   ],
   "source": [
    "base_patient.head(3)"
   ]
  },
  {
   "cell_type": "markdown",
   "id": "149532a0-6f48-49e6-8688-dbe5a7c3d88e",
   "metadata": {},
   "source": [
    "# Data Pre-processing"
   ]
  },
  {
   "cell_type": "code",
   "execution_count": 7,
   "id": "96cbd7f0-48d2-4f52-aedc-1eed41a68e7b",
   "metadata": {
    "tags": []
   },
   "outputs": [],
   "source": [
    "base_patient.Mort = base_patient.Mort.astype(int)\n",
    "base_patient.CHOC = base_patient.CHOC.astype(int)\n",
    "base_patient.BEN_SEX_COD = base_patient.BEN_SEX_COD-1"
   ]
  },
  {
   "cell_type": "code",
   "execution_count": 8,
   "id": "4ca513f7-2799-4d57-a688-409892e63bb2",
   "metadata": {
    "tags": []
   },
   "outputs": [],
   "source": [
    "# on ne conserve que l'annee de la premiere hospitalisation\n",
    "\n",
    "base_patient.date_h0 = pd.to_datetime(base_patient.date_h0).apply(lambda date: int(date.year))"
   ]
  },
  {
   "cell_type": "markdown",
   "id": "7da0c58b-5f36-44f8-96ca-9be4a036c260",
   "metadata": {},
   "source": [
    "# Vecteur des parcours de GHM"
   ]
  },
  {
   "cell_type": "code",
   "execution_count": 9,
   "id": "6491fea8-5070-4a9c-9934-d96ddce9a3cf",
   "metadata": {
    "tags": []
   },
   "outputs": [],
   "source": [
    "X_patient = []\n",
    "for i in range(len(base_patient)):\n",
    "    ghm_row = p_soins.iloc[i].dropna().tolist()[1:]\n",
    "    X_patient.append(ghm_row)"
   ]
  },
  {
   "cell_type": "markdown",
   "id": "992cfaa1-9410-46c1-a3d6-a904539102af",
   "metadata": {
    "tags": []
   },
   "source": [
    "# Formules de distance entre string"
   ]
  },
  {
   "cell_type": "code",
   "execution_count": 103,
   "id": "ee0acecb-06cd-4ae9-8eb0-eb0a5a384333",
   "metadata": {
    "tags": []
   },
   "outputs": [
    {
     "name": "stdout",
     "output_type": "stream",
     "text": [
      "Installation/Importation des librairies necessaires.\n"
     ]
    }
   ],
   "source": [
    "# on importe les fonctions de metriques depuis un autre notebook\n",
    "%run Metriques.ipynb"
   ]
  },
  {
   "cell_type": "markdown",
   "id": "8d67caab-199b-446f-9840-de54ec27ebef",
   "metadata": {},
   "source": [
    "Tous les GHM ont 6 caractères"
   ]
  },
  {
   "cell_type": "code",
   "execution_count": 13,
   "id": "c841b50e-6e72-4642-b3e6-e666b1405ed8",
   "metadata": {
    "tags": []
   },
   "outputs": [],
   "source": [
    "def custom_ghm_distance(ghm1, ghm2, distance=string_distance_levenshtein, weights=[50,10,1]):\n",
    "    return (weights[0]*distance(ghm1[:2], ghm2[:2]) + weights[1]*distance(ghm1[2], ghm2[2]) + weights[2]*distance(ghm1[2:], ghm2[2:])) / np.sum(weights)\n",
    "\n",
    "def custom_distance(arr1, arr2, distance_ghm=string_distance_levenshtein):\n",
    "    min_length = min(len(arr1), len(arr2))\n",
    "    max_length = max(len(arr1), len(arr2))\n",
    "    distance = np.sum([custom_ghm_distance(arr1[i], arr2[i], distance=distance_ghm) for i in range(min_length)]) + (max_length - min_length)\n",
    "    return distance / max_length"
   ]
  },
  {
   "cell_type": "markdown",
   "id": "721d2af5-63dc-420a-b124-3b02418f3b07",
   "metadata": {
    "tags": []
   },
   "source": [
    "#### Calcul des matrices de distance"
   ]
  },
  {
   "cell_type": "code",
   "execution_count": 68,
   "id": "3647fcb0-5d96-4c56-b81c-e9808a372268",
   "metadata": {
    "tags": []
   },
   "outputs": [
    {
     "name": "stdout",
     "output_type": "stream",
     "text": [
      "CPU cores available -> 104\n"
     ]
    }
   ],
   "source": [
    "nb_cpu_cores = multiprocessing.cpu_count()\n",
    "print(f\"CPU cores available -> {nb_cpu_cores}\")"
   ]
  },
  {
   "cell_type": "code",
   "execution_count": 15,
   "id": "73aba930-90c0-4c5e-ab72-2a7a0e0a60cb",
   "metadata": {
    "tags": []
   },
   "outputs": [],
   "source": [
    "def custom_pairwise_distances_i_triangle(data, distance_function, i):\n",
    "    distance_i = [distance_function(data[i], data[j]) for j in range(i)]\n",
    "    distance_i.append(0)\n",
    "    return distance_i\n",
    "\n",
    "def custom_pairwise_distances_triangle_for_multithread(global_data, distance_function, starting_index, length):\n",
    "    distances = [custom_pairwise_distances_i_triangle(global_data, distance_function, i+starting_index) for i in range(length)]\n",
    "    return distances\n",
    "\n",
    "def get_starting_indices(len_data, divide_into):\n",
    "    linspace = np.linspace(0, len_data, divide_into)\n",
    "    indices = [math.floor(x) for x in linspace]\n",
    "    return indices    \n",
    "\n",
    "def get_lengths(len_data, indices):\n",
    "    if len(indices) <= 1:\n",
    "        return [len_data]\n",
    "    lengths = [indices[1]]\n",
    "    for i in range(2, len(indices)):\n",
    "        lengths.append(indices[i]-indices[i-1])\n",
    "    lengths.append(len_data-indices[-1])\n",
    "    return lengths\n",
    "\n",
    "def custom_pairwise_distances_triangle_multithread(data, distance_function, divide_into=nb_cpu_cores):\n",
    "    distances = []    \n",
    "    starting_indices = get_starting_indices(len(data), divide_into)\n",
    "    lengths = get_lengths(len(data), starting_indices)\n",
    "    \n",
    "    with Pool() as p:\n",
    "        async_results = [p.apply_async(custom_pairwise_distances_triangle_for_multithread, \n",
    "                                       args=(data, distance_function, starting_indices[i], lengths[i])) for i in range(len(lengths))]\n",
    "        \n",
    "        for i in range(len(lengths)):\n",
    "            distances += async_results[i].get()\n",
    "    return distances\n",
    "    \n",
    "def custom_pairwise_distances(data, distance_function, divide_into=nb_cpu_cores):\n",
    "    distances_triangle = custom_pairwise_distances_triangle_multithread(data, distance_function, divide_into=divide_into)\n",
    "    for i in range(len(data)):\n",
    "        for j in range(i+1, len(data)):\n",
    "            distances_triangle[i].append(distances_triangle[j][i])\n",
    "    return np.array(distances_triangle)"
   ]
  },
  {
   "cell_type": "markdown",
   "id": "612ed4bf-dc7a-47c1-8a12-a00f5cabb658",
   "metadata": {
    "tags": []
   },
   "source": [
    "# K-Medoids sur les parcours de soins"
   ]
  },
  {
   "cell_type": "markdown",
   "id": "c3986935-83be-4643-8ec7-6a4ed6f2f517",
   "metadata": {},
   "source": [
    "### Calculate the custom pairwise distances"
   ]
  },
  {
   "cell_type": "code",
   "execution_count": 16,
   "id": "5f00ba80-2dd3-4500-9cd8-bc589df03ecd",
   "metadata": {
    "tags": []
   },
   "outputs": [],
   "source": [
    "dict_distance_function = dict()\n",
    "dict_distance_function['jaro_winkler'] = jaro_winkler_distance\n",
    "dict_distance_function['levenshtein'] = levenshtein_distance\n",
    "dict_distance_function['custom'] = custom_distance"
   ]
  },
  {
   "cell_type": "code",
   "execution_count": 17,
   "id": "cbc4acf3-c72e-47d7-b8ff-ff6731f62841",
   "metadata": {
    "tags": []
   },
   "outputs": [],
   "source": [
    "dict_distances = dict()"
   ]
  },
  {
   "cell_type": "code",
   "execution_count": 18,
   "id": "d621940f-6d36-43b2-b8a8-83fd02fb50f7",
   "metadata": {
    "tags": []
   },
   "outputs": [],
   "source": [
    "def calculate_distances(args):\n",
    "    data, distance = args\n",
    "    distance_function = dict_distance_function[distance]\n",
    "    distances = custom_pairwise_distances(data, distance_function)\n",
    "    return {distance: distances}"
   ]
  },
  {
   "cell_type": "code",
   "execution_count": 19,
   "id": "a1fda78f-4d21-46d5-b74c-0afc83d8fea9",
   "metadata": {
    "tags": []
   },
   "outputs": [
    {
     "name": "stderr",
     "output_type": "stream",
     "text": [
      "100%|██████████| 3/3 [04:45<00:00, 95.29s/it] \n"
     ]
    }
   ],
   "source": [
    "with tqdm(total=len(dict_distance_function)) as pbar:\n",
    "    with concurrent.futures.ProcessPoolExecutor() as exe:\n",
    "        args = [(X_patient, distance) for distance in dict_distance_function.keys()]\n",
    "        async_results = list(exe.map(calculate_distances, args))\n",
    "\n",
    "    for i in range(len(async_results)):\n",
    "        dic = async_results[i]\n",
    "        dict_distances[list(dic.keys())[0]] = list(dic.values())[0]\n",
    "        pbar.update(1)"
   ]
  },
  {
   "cell_type": "code",
   "execution_count": 20,
   "id": "04efece0-209c-4abb-a276-f66fca8e3878",
   "metadata": {
    "tags": []
   },
   "outputs": [
    {
     "name": "stdout",
     "output_type": "stream",
     "text": [
      "3\n",
      "(10051, 10051)\n",
      "(10051, 10051)\n",
      "(10051, 10051)\n"
     ]
    }
   ],
   "source": [
    "print(len(dict_distances))\n",
    "for distance in dict_distances:\n",
    "    print(dict_distances[distance].shape)"
   ]
  },
  {
   "cell_type": "code",
   "execution_count": 21,
   "id": "088b4ee1-bed3-4324-a7aa-16a87ee630e3",
   "metadata": {
    "tags": []
   },
   "outputs": [],
   "source": [
    "%%capture capt\n",
    "!pip install psutil"
   ]
  },
  {
   "cell_type": "code",
   "execution_count": 22,
   "id": "d56a62fd-84b7-4a19-9694-c7d342b9052a",
   "metadata": {
    "tags": []
   },
   "outputs": [
    {
     "name": "stdout",
     "output_type": "stream",
     "text": [
      "CPU usage -> 36.0%\n",
      "RAM usage -> 24.3%\n",
      "RAM left -> 75.71%\n"
     ]
    }
   ],
   "source": [
    "import psutil\n",
    "# gives a single float value\n",
    "print(f\"CPU usage -> {round(psutil.cpu_percent(),2)}%\")\n",
    "# you can have the percentage of used RAM\n",
    "print(f\"RAM usage -> {round(psutil.virtual_memory().percent,2)}%\")\n",
    "# you can calculate percentage of available memory\n",
    "print(f\"RAM left -> {round(psutil.virtual_memory().available * 100 / psutil.virtual_memory().total, 2)}%\")"
   ]
  },
  {
   "cell_type": "markdown",
   "id": "f46b2f4f-3407-4cf1-85d7-0107141e3c11",
   "metadata": {},
   "source": [
    "## Determiner le nombre de clusters"
   ]
  },
  {
   "cell_type": "code",
   "execution_count": 23,
   "id": "eacda7eb-7ddd-4d25-b6e4-1e4a66cb5a81",
   "metadata": {
    "tags": []
   },
   "outputs": [],
   "source": [
    "import warnings\n",
    "warnings.simplefilter(\"ignore\")"
   ]
  },
  {
   "cell_type": "code",
   "execution_count": 24,
   "id": "859b31f6-a736-460b-93ca-5c1c34629150",
   "metadata": {
    "tags": []
   },
   "outputs": [],
   "source": [
    "def bic_score(X, labels):\n",
    "\n",
    "    n_points = len(labels)\n",
    "    n_clusters = len(set(labels))\n",
    "    n_dimensions = np.shape(X)[1]\n",
    "\n",
    "    n_parameters = (n_clusters - 1) + (n_dimensions * n_clusters) + 1\n",
    "\n",
    "    loglikelihood = 0\n",
    "    for label_name in set(labels):\n",
    "        X_cluster = X[labels == label_name]\n",
    "        n_points_cluster = len(X_cluster)\n",
    "        centroid = np.mean(X_cluster, axis=0)\n",
    "        variance = np.sum((X_cluster - centroid) ** 2) / (len(X_cluster) - 1)\n",
    "        loglikelihood += \\\n",
    "          n_points_cluster * np.log(n_points_cluster) \\\n",
    "          - n_points_cluster * np.log(n_points) \\\n",
    "          - n_points_cluster * n_dimensions / 2 * np.log(2 * np.pi * variance) \\\n",
    "          - (n_points_cluster - 1) / 2\n",
    "\n",
    "        bic = loglikelihood - (n_parameters / 2) * np.log(n_points)\n",
    "\n",
    "    return bic"
   ]
  },
  {
   "cell_type": "markdown",
   "id": "9f57be1e-78d8-4cc0-a81a-c7534cf5dc49",
   "metadata": {},
   "source": [
    "### Calcul des scores"
   ]
  },
  {
   "cell_type": "code",
   "execution_count": 25,
   "id": "1318b711-b386-4280-b575-55647f3b175e",
   "metadata": {
    "tags": []
   },
   "outputs": [],
   "source": [
    "#on initialise les dictionnaires, qui garderont en memoire les scores qu'on calcule pour chaque valeur de cluster\n",
    "\n",
    "inertia = dict()\n",
    "bic_scores = dict()\n",
    "silhouette_scores = dict()"
   ]
  },
  {
   "cell_type": "code",
   "execution_count": 26,
   "id": "d7f8b3dc-ad7d-4d09-96d6-685ac1a59e0a",
   "metadata": {
    "tags": []
   },
   "outputs": [],
   "source": [
    "def calcul_score(n_clusters, distance):\n",
    "    #print(f\"START: n_clusters->{n_clusters}, distance->{distance}\\n\")\n",
    "    results = []\n",
    "    kmedoids = KMedoids(n_clusters=n_clusters, metric='precomputed')\n",
    "    kmedoids.fit(dict_distances[distance])\n",
    "    \n",
    "    try:\n",
    "        bic = bic_score(dict_distances[distance], kmedoids.labels_)\n",
    "        results.append(bic)\n",
    "    except:\n",
    "        results.append(-float('inf'))\n",
    "\n",
    "    silhouette = silhouette_score(dict_distances[distance], kmedoids.labels_)\n",
    "    results.append(silhouette)\n",
    "\n",
    "    results.append(kmedoids.inertia_)\n",
    "    #print(f\"DONE: n_clusters->{n_clusters}\")\n",
    "    return {str(n_clusters) + \" \" + str(distance) : results}"
   ]
  },
  {
   "cell_type": "code",
   "execution_count": 71,
   "id": "074f83f9-2ad9-4987-b86a-fe89587afb73",
   "metadata": {
    "scrolled": true,
    "tags": []
   },
   "outputs": [],
   "source": [
    "def calculate_all_scores_for_distance_range_(distance, range_):\n",
    "    with Pool() as p_score:\n",
    "        async_results = [p_score.apply_async(calcul_score, args=(n_clusters, distance)) for n_clusters in range_]\n",
    "\n",
    "        for i in range(len(async_results)):\n",
    "            dic = async_results[i].get()\n",
    "            key = list(dic.keys())[0]\n",
    "            results = list(dic.values())[0]\n",
    "            bic_scores[key] = results[0]\n",
    "            silhouette_scores[key] = results[1]\n",
    "            inertia[key] = results[2]\n",
    "        p_score.close()\n",
    "        \n",
    "def get_ranges(nb_clusters_max):\n",
    "    ranges = []\n",
    "    cur_cluster = min(30, nb_clusters_max)\n",
    "    ranges.append(range(2, cur_cluster))\n",
    "    while cur_cluster < nb_clusters_max:\n",
    "        new_cluster = min(nb_clusters_max, 30 + cur_cluster)\n",
    "        ranges.append(range(cur_cluster, new_cluster))\n",
    "        cur_cluster = new_cluster\n",
    "    return ranges\n",
    "\n",
    "def calculate_all_scores_for_distance(distance, nb_clusters_max):\n",
    "    print(distance)\n",
    "    ranges = get_ranges(nb_clusters_max)\n",
    "    for i in tqdm(range(len(ranges))):\n",
    "        range_ = ranges[i]\n",
    "        calculate_all_scores_for_distance_range_(distance, range_)"
   ]
  },
  {
   "cell_type": "code",
   "execution_count": 102,
   "id": "13cd2960-30af-42ee-b1a1-09d2ce173e0c",
   "metadata": {
    "tags": []
   },
   "outputs": [],
   "source": [
    "nb_clusters_max = int(np.sqrt(len(X_patient)))"
   ]
  },
  {
   "cell_type": "code",
   "execution_count": 89,
   "id": "897202b8-6a83-404e-a9a3-c06187657764",
   "metadata": {
    "tags": []
   },
   "outputs": [],
   "source": [
    "#distances_to_calculate = ['jaro_winkler', 'levenshtein', 'custom']\n",
    "distances_to_calculate = ['custom']"
   ]
  },
  {
   "cell_type": "code",
   "execution_count": 90,
   "id": "2071f5ba-9209-4816-ae8a-23058bc968bd",
   "metadata": {
    "tags": []
   },
   "outputs": [
    {
     "name": "stdout",
     "output_type": "stream",
     "text": [
      "custom\n"
     ]
    },
    {
     "name": "stderr",
     "output_type": "stream",
     "text": [
      "100%|██████████| 1/1 [00:17<00:00, 17.49s/it]\n"
     ]
    }
   ],
   "source": [
    "if __name__ == '__main__':\n",
    "    #for distance in dict_distance_function.keys():\n",
    "    for distance in distances_to_calculate:\n",
    "        calculate_all_scores_for_distance(distance, nb_clusters_max)"
   ]
  },
  {
   "cell_type": "code",
   "execution_count": 99,
   "id": "20a1c6c4-e14e-4800-bade-26508ae3d27f",
   "metadata": {
    "tags": []
   },
   "outputs": [],
   "source": [
    "def convert_to_dict(dic, distances_to_calculate):\n",
    "    distances_dic = dict()\n",
    "        \n",
    "    for distance in dict_distance_function.keys():\n",
    "        if distance in distances_to_calculate:\n",
    "            distances_dic[distance] = []\n",
    "        else:\n",
    "            distances_dic[distance] = dic[distance]\n",
    "    \n",
    "    skipped = True\n",
    "    while skipped:\n",
    "        skipped = False\n",
    "        for key in dic.keys():\n",
    "            try:\n",
    "                n_clusters, distance = key.split(\" \")\n",
    "                if len(distances_dic[distance]) == int(n_clusters) - 2:\n",
    "                    distances_dic[distance].append(dic[key])\n",
    "                else:\n",
    "                    skipped = True\n",
    "            except:\n",
    "                #on se retrouve avec les valeurs calculées précédemment et stockées dans le dictionnaire\n",
    "                #ce sont justement les valeurs que l'on veut remplacer\n",
    "                pass\n",
    "            \n",
    "    return distances_dic"
   ]
  },
  {
   "cell_type": "code",
   "execution_count": 100,
   "id": "82c4e469-8b19-4b5d-9997-d8bdab6b1ca5",
   "metadata": {
    "tags": []
   },
   "outputs": [],
   "source": [
    "inertia = convert_to_dict(inertia, distances_to_calculate)\n",
    "bic_scores = convert_to_dict(bic_scores, distances_to_calculate)\n",
    "silhouette_scores = convert_to_dict(silhouette_scores, distances_to_calculate)"
   ]
  },
  {
   "cell_type": "markdown",
   "id": "3f082b71-03da-4bfc-93a7-bf7005c25bd6",
   "metadata": {},
   "source": [
    "#### Regle du coude pour déterminer le nombre optimal de clusters"
   ]
  },
  {
   "cell_type": "code",
   "execution_count": 35,
   "id": "6edfe85e-5c8e-43ff-a5aa-fdbe3d090a44",
   "metadata": {
    "tags": []
   },
   "outputs": [
    {
     "data": {
      "image/png": "[encoded data removed]",
      "text/plain": [
       "<Figure size 1500x400 with 3 Axes>"
      ]
     },
     "metadata": {},
     "output_type": "display_data"
    }
   ],
   "source": [
    "fig, axs = plt.subplots(1, len(inertia), figsize=(5*len(inertia), 4))\n",
    "for i, distance in enumerate(inertia.keys()):\n",
    "    ax = axs[i]\n",
    "    ax.plot(range(2, len(inertia[distance])+2), inertia[distance], c = 'r', label = 'inertie', marker='o')\n",
    "    ax.legend(loc='best')\n",
    "    ax.grid('on')\n",
    "    ax.set_xlabel('Nombre de clusters')\n",
    "    ax.set_ylabel('Coût du modèle (Inertie)')\n",
    "    ax.set_title(distance)\n",
    "plt.show()"
   ]
  },
  {
   "cell_type": "code",
   "execution_count": 36,
   "id": "e1af5806-7547-4232-bcc1-bda318e7c9db",
   "metadata": {
    "tags": []
   },
   "outputs": [
    {
     "name": "stdout",
     "output_type": "stream",
     "text": [
      "distance: jaro_winkler --> nb clusters par méthode du coude = 19\n",
      "distance: levenshtein --> nb clusters par méthode du coude = 3\n",
      "distance: custom --> nb clusters par méthode du coude = 8\n"
     ]
    }
   ],
   "source": [
    "for distance in inertia.keys():\n",
    "    k_elbow = KneeLocator(\n",
    "      x=range(2, nb_clusters_max), \n",
    "      y=inertia[distance], \n",
    "      curve=\"convex\", \n",
    "      direction=\"decreasing\").elbow\n",
    "    print(f\"distance: {distance} --> nb clusters par méthode du coude = {k_elbow}\")"
   ]
  },
  {
   "cell_type": "markdown",
   "id": "79b2ae9c-48c2-4a88-a2f8-63251eff35f2",
   "metadata": {},
   "source": [
    "### BIC et Silhouette Scores"
   ]
  },
  {
   "cell_type": "markdown",
   "id": "c86966bf-88cf-4542-8545-b5852b879f3c",
   "metadata": {},
   "source": [
    "D'après ce papier: https://arxiv.org/abs/2212.12189 </br>\n",
    "et ce code (https://github.com/smazzanti/are_you_still_using_elbow_method/blob/main/are-you-still-using-elbow-method.ipynb) qui compare plusieurs méthodes (Coude, Silhouette, Davies-Bouldin, Calinski-Harabasz, BIC), </br>\n",
    "utiliser la méthode du coude n'est pas la meilleure option; il faut plutôt chercher à maximiser le score BIC, ou maximiser la silhouette (BIC donne des résultats très légèrement meilleurs). "
   ]
  },
  {
   "cell_type": "markdown",
   "id": "70e9d2d9-c92c-41b7-8ae3-006cb0a56cd4",
   "metadata": {},
   "source": [
    "Tout est résumé ici: https://towardsdatascience.com/are-you-still-using-the-elbow-method-5d271b3063bd"
   ]
  },
  {
   "cell_type": "code",
   "execution_count": 37,
   "id": "6b128188-dd71-4b71-9164-79b3e34e623c",
   "metadata": {
    "tags": []
   },
   "outputs": [
    {
     "data": {
      "image/png": "[encoded data removed]",
      "text/plain": [
       "<Figure size 1200x1500 with 6 Axes>"
      ]
     },
     "metadata": {},
     "output_type": "display_data"
    }
   ],
   "source": [
    "fig, axs = plt.subplots(len(silhouette_scores), 2, figsize=(12, 5*len(silhouette_scores)))\n",
    "\n",
    "for i, distance in enumerate(silhouette_scores.keys()):\n",
    "    ax = axs[i]\n",
    "    #plot bic score\n",
    "    ax[0].plot(range(2, len(bic_scores[distance])+2), bic_scores[distance], c = 'r', \n",
    "               label = 'BIC score', marker='o')\n",
    "    ax[0].legend(loc='best')\n",
    "    ax[0].grid('on')\n",
    "    ax[0].set_xlabel('Nombre de clusters')\n",
    "    ax[0].set_ylabel(distance)\n",
    "    #ax[0].set_title('BIC score en fonction du nombre de clusters')\n",
    "\n",
    "    #plot silhouette scores\n",
    "    ax[1].plot(range(2, len(silhouette_scores[distance])+2), silhouette_scores[distance], c = 'r', \n",
    "               label = 'Silhouette score', marker='o')\n",
    "    ax[1].legend(loc='best')\n",
    "    ax[1].grid('on')\n",
    "    ax[1].set_xlabel('clusters')\n",
    "    ax[1].set_title(distance)\n",
    "    #ax[1].set_title('Silhouette score en fonction du nombre de clusters')\n",
    "\n",
    "plt.show()"
   ]
  },
  {
   "cell_type": "code",
   "execution_count": 38,
   "id": "7ad14985-83e4-4dcb-b7a0-3ec0ee9998f0",
   "metadata": {
    "tags": []
   },
   "outputs": [
    {
     "name": "stdout",
     "output_type": "stream",
     "text": [
      "distance: jaro_winkler --> nb clusters par BIC        = 7\n",
      "distance: jaro_winkler --> nb clusters par silhouette = 8\n",
      "\n",
      "distance: levenshtein --> nb clusters par BIC        = 3\n",
      "distance: levenshtein --> nb clusters par silhouette = 4\n",
      "\n",
      "distance: custom --> nb clusters par BIC        = 6\n",
      "distance: custom --> nb clusters par silhouette = 3\n",
      "\n"
     ]
    }
   ],
   "source": [
    "for distance in silhouette_scores.keys():\n",
    "    k_elbow_sil = KneeLocator(\n",
    "      x=range(2, nb_clusters_max), \n",
    "      y=silhouette_scores[distance], \n",
    "      curve=\"convex\", \n",
    "      direction=\"decreasing\").elbow\n",
    "    k_elbow_bic = KneeLocator(\n",
    "      x=range(2, nb_clusters_max), \n",
    "      y=bic_scores[distance], \n",
    "      curve=\"concave\", \n",
    "      direction=\"increasing\").elbow\n",
    "    \n",
    "    print(f\"distance: {distance} --> nb clusters par BIC        = {k_elbow_bic}\")\n",
    "    print(f\"distance: {distance} --> nb clusters par silhouette = {k_elbow_sil}\\n\")"
   ]
  },
  {
   "cell_type": "markdown",
   "id": "af499098-9170-48ea-947d-32869344c0de",
   "metadata": {},
   "source": [
    "# Implement K-Medoids"
   ]
  },
  {
   "cell_type": "code",
   "execution_count": 54,
   "id": "8313ffbd-e22f-4f45-88b6-ff7c066e0393",
   "metadata": {
    "tags": []
   },
   "outputs": [],
   "source": [
    "n_clusters = 50"
   ]
  },
  {
   "cell_type": "code",
   "execution_count": 55,
   "id": "acf9d2e5-3b5c-47e5-8b02-8788b06fbd8f",
   "metadata": {
    "tags": []
   },
   "outputs": [],
   "source": [
    "distances = dict_distances['custom']"
   ]
  },
  {
   "cell_type": "code",
   "execution_count": 56,
   "id": "1518b606-7652-4207-a253-06fce7e93bbd",
   "metadata": {
    "tags": []
   },
   "outputs": [
    {
     "data": {
      "text/html": [
       "<style>#sk-container-id-2 {color: black;background-color: white;}#sk-container-id-2 pre{padding: 0;}#sk-container-id-2 div.sk-toggleable {background-color: white;}#sk-container-id-2 label.sk-toggleable__label {cursor: pointer;display: block;width: 100%;margin-bottom: 0;padding: 0.3em;box-sizing: border-box;text-align: center;}#sk-container-id-2 label.sk-toggleable__label-arrow:before {content: \"▸\";float: left;margin-right: 0.25em;color: #696969;}#sk-container-id-2 label.sk-toggleable__label-arrow:hover:before {color: black;}#sk-container-id-2 div.sk-estimator:hover label.sk-toggleable__label-arrow:before {color: black;}#sk-container-id-2 div.sk-toggleable__content {max-height: 0;max-width: 0;overflow: hidden;text-align: left;background-color: #f0f8ff;}#sk-container-id-2 div.sk-toggleable__content pre {margin: 0.2em;color: black;border-radius: 0.25em;background-color: #f0f8ff;}#sk-container-id-2 input.sk-toggleable__control:checked~div.sk-toggleable__content {max-height: 200px;max-width: 100%;overflow: auto;}#sk-container-id-2 input.sk-toggleable__control:checked~label.sk-toggleable__label-arrow:before {content: \"▾\";}#sk-container-id-2 div.sk-estimator input.sk-toggleable__control:checked~label.sk-toggleable__label {background-color: #d4ebff;}#sk-container-id-2 div.sk-label input.sk-toggleable__control:checked~label.sk-toggleable__label {background-color: #d4ebff;}#sk-container-id-2 input.sk-hidden--visually {border: 0;clip: rect(1px 1px 1px 1px);clip: rect(1px, 1px, 1px, 1px);height: 1px;margin: -1px;overflow: hidden;padding: 0;position: absolute;width: 1px;}#sk-container-id-2 div.sk-estimator {font-family: monospace;background-color: #f0f8ff;border: 1px dotted black;border-radius: 0.25em;box-sizing: border-box;margin-bottom: 0.5em;}#sk-container-id-2 div.sk-estimator:hover {background-color: #d4ebff;}#sk-container-id-2 div.sk-parallel-item::after {content: \"\";width: 100%;border-bottom: 1px solid gray;flex-grow: 1;}#sk-container-id-2 div.sk-label:hover label.sk-toggleable__label {background-color: #d4ebff;}#sk-container-id-2 div.sk-serial::before {content: \"\";position: absolute;border-left: 1px solid gray;box-sizing: border-box;top: 0;bottom: 0;left: 50%;z-index: 0;}#sk-container-id-2 div.sk-serial {display: flex;flex-direction: column;align-items: center;background-color: white;padding-right: 0.2em;padding-left: 0.2em;position: relative;}#sk-container-id-2 div.sk-item {position: relative;z-index: 1;}#sk-container-id-2 div.sk-parallel {display: flex;align-items: stretch;justify-content: center;background-color: white;position: relative;}#sk-container-id-2 div.sk-item::before, #sk-container-id-2 div.sk-parallel-item::before {content: \"\";position: absolute;border-left: 1px solid gray;box-sizing: border-box;top: 0;bottom: 0;left: 50%;z-index: -1;}#sk-container-id-2 div.sk-parallel-item {display: flex;flex-direction: column;z-index: 1;position: relative;background-color: white;}#sk-container-id-2 div.sk-parallel-item:first-child::after {align-self: flex-end;width: 50%;}#sk-container-id-2 div.sk-parallel-item:last-child::after {align-self: flex-start;width: 50%;}#sk-container-id-2 div.sk-parallel-item:only-child::after {width: 0;}#sk-container-id-2 div.sk-dashed-wrapped {border: 1px dashed gray;margin: 0 0.4em 0.5em 0.4em;box-sizing: border-box;padding-bottom: 0.4em;background-color: white;}#sk-container-id-2 div.sk-label label {font-family: monospace;font-weight: bold;display: inline-block;line-height: 1.2em;}#sk-container-id-2 div.sk-label-container {text-align: center;}#sk-container-id-2 div.sk-container {/* jupyter's `normalize.less` sets `[hidden] { display: none; }` but bootstrap.min.css set `[hidden] { display: none !important; }` so we also need the `!important` here to be able to override the default hidden behavior on the sphinx rendered scikit-learn.org. See: https://github.com/scikit-learn/scikit-learn/issues/21755 */display: inline-block !important;position: relative;}#sk-container-id-2 div.sk-text-repr-fallback {display: none;}</style><div id=\"sk-container-id-2\" class=\"sk-top-container\"><div class=\"sk-text-repr-fallback\"><pre>KMedoids(metric=&#x27;precomputed&#x27;, n_clusters=50)</pre><b>In a Jupyter environment, please rerun this cell to show the HTML representation or trust the notebook. <br />On GitHub, the HTML representation is unable to render, please try loading this page with nbviewer.org.</b></div><div class=\"sk-container\" hidden><div class=\"sk-item\"><div class=\"sk-estimator sk-toggleable\"><input class=\"sk-toggleable__control sk-hidden--visually\" id=\"sk-estimator-id-2\" type=\"checkbox\" checked><label for=\"sk-estimator-id-2\" class=\"sk-toggleable__label sk-toggleable__label-arrow\">KMedoids</label><div class=\"sk-toggleable__content\"><pre>KMedoids(metric=&#x27;precomputed&#x27;, n_clusters=50)</pre></div></div></div></div></div>"
      ],
      "text/plain": [
       "KMedoids(metric='precomputed', n_clusters=50)"
      ]
     },
     "execution_count": 56,
     "metadata": {},
     "output_type": "execute_result"
    }
   ],
   "source": [
    "kmedoids = KMedoids(n_clusters=n_clusters, metric='precomputed')\n",
    "kmedoids.fit(distances)"
   ]
  },
  {
   "cell_type": "code",
   "execution_count": 57,
   "id": "088145e4-cbe3-4ede-8cae-8d22a27ac536",
   "metadata": {
    "tags": []
   },
   "outputs": [
    {
     "data": {
      "image/png": "[encoded data removed]",
      "text/plain": [
       "<Figure size 1000x700 with 1 Axes>"
      ]
     },
     "metadata": {},
     "output_type": "display_data"
    }
   ],
   "source": [
    "plt.figure(figsize=(10,7))\n",
    "labels, counts = np.unique(kmedoids.labels_, return_counts=True)\n",
    "counts = counts / len(kmedoids.labels_)\n",
    "plt.bar(labels+1, counts, align='center', color = 'black')\n",
    "plt.gca().set_xticks(labels+1)\n",
    "plt.gca().yaxis.set_major_formatter(PercentFormatter(1))\n",
    "plt.title('Distribution des clusters')\n",
    "plt.xlabel(\"Cluster\")\n",
    "plt.ylabel('Pct population')\n",
    "plt.show()"
   ]
  },
  {
   "cell_type": "markdown",
   "id": "7f8f0b9c-0f25-42fe-a62a-1105e232720e",
   "metadata": {},
   "source": [
    "##### Ajout des clusters dans la base"
   ]
  },
  {
   "cell_type": "code",
   "execution_count": 58,
   "id": "c5aa044f-0527-4eb7-a93e-ecb3eeada258",
   "metadata": {
    "tags": []
   },
   "outputs": [],
   "source": [
    "base_patient_cluster = base_patient.drop(columns=[\"cluster\"])"
   ]
  },
  {
   "cell_type": "code",
   "execution_count": 59,
   "id": "4a41ea98-f030-48d6-b6ce-3ab87497077b",
   "metadata": {
    "tags": []
   },
   "outputs": [],
   "source": [
    "for i in range(1, n_clusters+1):\n",
    "    base_patient_cluster[\"cluster\"+str(i)] = [0]*len(base_patient_cluster)"
   ]
  },
  {
   "cell_type": "code",
   "execution_count": 60,
   "id": "ff2f173b-76dd-470b-a185-cf1cc763b517",
   "metadata": {
    "tags": []
   },
   "outputs": [],
   "source": [
    "for i, label in enumerate(kmedoids.labels_):\n",
    "    base_patient_cluster.loc[i, \"cluster\"+str(label+1)] = 1"
   ]
  },
  {
   "cell_type": "markdown",
   "id": "a97b0e3b-ccf0-4394-89c7-64f0f2864e29",
   "metadata": {},
   "source": [
    "##### Ajout d'une colonne contenant les parcours de soins"
   ]
  },
  {
   "cell_type": "code",
   "execution_count": 61,
   "id": "9a8fdc5f-ac5e-4aaa-8a06-6fb19fbe4237",
   "metadata": {
    "tags": []
   },
   "outputs": [],
   "source": [
    "base_patient_cluster['p_soins'] = ['']*len(base_patient_cluster)"
   ]
  },
  {
   "cell_type": "code",
   "execution_count": 62,
   "id": "36ad3b70-9b8c-436f-8102-80312afba9a6",
   "metadata": {
    "tags": []
   },
   "outputs": [],
   "source": [
    "for i, patient in enumerate(X_patient):\n",
    "    p_soin = convert_to_sentence(patient)\n",
    "    base_patient_cluster.loc[i, 'p_soins'] = p_soin"
   ]
  },
  {
   "cell_type": "code",
   "execution_count": 63,
   "id": "37a06922-db42-496e-9968-acb7669300f4",
   "metadata": {
    "tags": []
   },
   "outputs": [
    {
     "data": {
      "text/html": [
       "<div>\n",
       "<style scoped>\n",
       "    .dataframe tbody tr th:only-of-type {\n",
       "        vertical-align: middle;\n",
       "    }\n",
       "\n",
       "    .dataframe tbody tr th {\n",
       "        vertical-align: top;\n",
       "    }\n",
       "\n",
       "    .dataframe thead th {\n",
       "        text-align: right;\n",
       "    }\n",
       "</style>\n",
       "<table border=\"1\" class=\"dataframe\">\n",
       "  <thead>\n",
       "    <tr style=\"text-align: right;\">\n",
       "      <th></th>\n",
       "      <th>CODE_PATIENT</th>\n",
       "      <th>date_h0</th>\n",
       "      <th>y_nais</th>\n",
       "      <th>BEN_RES_DPT</th>\n",
       "      <th>BEN_SEX_COD</th>\n",
       "      <th>dte_deces</th>\n",
       "      <th>Mort</th>\n",
       "      <th>Nb_survie</th>\n",
       "      <th>Nb_hospit</th>\n",
       "      <th>CHOC</th>\n",
       "      <th>...</th>\n",
       "      <th>cluster42</th>\n",
       "      <th>cluster43</th>\n",
       "      <th>cluster44</th>\n",
       "      <th>cluster45</th>\n",
       "      <th>cluster46</th>\n",
       "      <th>cluster47</th>\n",
       "      <th>cluster48</th>\n",
       "      <th>cluster49</th>\n",
       "      <th>cluster50</th>\n",
       "      <th>p_soins</th>\n",
       "    </tr>\n",
       "  </thead>\n",
       "  <tbody>\n",
       "    <tr>\n",
       "      <th>0</th>\n",
       "      <td>P0</td>\n",
       "      <td>2011</td>\n",
       "      <td>1949</td>\n",
       "      <td>11</td>\n",
       "      <td>0</td>\n",
       "      <td>NaN</td>\n",
       "      <td>0</td>\n",
       "      <td>2596</td>\n",
       "      <td>9</td>\n",
       "      <td>0</td>\n",
       "      <td>...</td>\n",
       "      <td>1</td>\n",
       "      <td>0</td>\n",
       "      <td>0</td>\n",
       "      <td>0</td>\n",
       "      <td>0</td>\n",
       "      <td>0</td>\n",
       "      <td>0</td>\n",
       "      <td>0</td>\n",
       "      <td>0</td>\n",
       "      <td>05K051,05M042,05M16T,05M09T,05M092,05C191,05M2...</td>\n",
       "    </tr>\n",
       "    <tr>\n",
       "      <th>1</th>\n",
       "      <td>P6</td>\n",
       "      <td>2013</td>\n",
       "      <td>1929</td>\n",
       "      <td>14</td>\n",
       "      <td>1</td>\n",
       "      <td>2015-03</td>\n",
       "      <td>1</td>\n",
       "      <td>456</td>\n",
       "      <td>8</td>\n",
       "      <td>0</td>\n",
       "      <td>...</td>\n",
       "      <td>0</td>\n",
       "      <td>0</td>\n",
       "      <td>0</td>\n",
       "      <td>0</td>\n",
       "      <td>0</td>\n",
       "      <td>0</td>\n",
       "      <td>0</td>\n",
       "      <td>0</td>\n",
       "      <td>0</td>\n",
       "      <td>02C05J,02C05J,05M093,04M132,05C222,23M103,04M0...</td>\n",
       "    </tr>\n",
       "    <tr>\n",
       "      <th>2</th>\n",
       "      <td>P8</td>\n",
       "      <td>2015</td>\n",
       "      <td>1967</td>\n",
       "      <td>54</td>\n",
       "      <td>1</td>\n",
       "      <td>2015-08</td>\n",
       "      <td>1</td>\n",
       "      <td>41</td>\n",
       "      <td>3</td>\n",
       "      <td>1</td>\n",
       "      <td>...</td>\n",
       "      <td>0</td>\n",
       "      <td>0</td>\n",
       "      <td>0</td>\n",
       "      <td>0</td>\n",
       "      <td>0</td>\n",
       "      <td>0</td>\n",
       "      <td>0</td>\n",
       "      <td>0</td>\n",
       "      <td>0</td>\n",
       "      <td>11M041,06C194</td>\n",
       "    </tr>\n",
       "    <tr>\n",
       "      <th>3</th>\n",
       "      <td>P13</td>\n",
       "      <td>2011</td>\n",
       "      <td>1959</td>\n",
       "      <td>974</td>\n",
       "      <td>0</td>\n",
       "      <td>NaN</td>\n",
       "      <td>0</td>\n",
       "      <td>2783</td>\n",
       "      <td>2</td>\n",
       "      <td>0</td>\n",
       "      <td>...</td>\n",
       "      <td>0</td>\n",
       "      <td>0</td>\n",
       "      <td>0</td>\n",
       "      <td>0</td>\n",
       "      <td>0</td>\n",
       "      <td>0</td>\n",
       "      <td>0</td>\n",
       "      <td>0</td>\n",
       "      <td>0</td>\n",
       "      <td>05M04T,05K051</td>\n",
       "    </tr>\n",
       "    <tr>\n",
       "      <th>4</th>\n",
       "      <td>P16</td>\n",
       "      <td>2010</td>\n",
       "      <td>1947</td>\n",
       "      <td>76</td>\n",
       "      <td>0</td>\n",
       "      <td>NaN</td>\n",
       "      <td>0</td>\n",
       "      <td>3210</td>\n",
       "      <td>9</td>\n",
       "      <td>0</td>\n",
       "      <td>...</td>\n",
       "      <td>1</td>\n",
       "      <td>0</td>\n",
       "      <td>0</td>\n",
       "      <td>0</td>\n",
       "      <td>0</td>\n",
       "      <td>0</td>\n",
       "      <td>0</td>\n",
       "      <td>0</td>\n",
       "      <td>0</td>\n",
       "      <td>08C11V,23M15Z,05K102,05M08T,05K102,05C191,23M1...</td>\n",
       "    </tr>\n",
       "    <tr>\n",
       "      <th>...</th>\n",
       "      <td>...</td>\n",
       "      <td>...</td>\n",
       "      <td>...</td>\n",
       "      <td>...</td>\n",
       "      <td>...</td>\n",
       "      <td>...</td>\n",
       "      <td>...</td>\n",
       "      <td>...</td>\n",
       "      <td>...</td>\n",
       "      <td>...</td>\n",
       "      <td>...</td>\n",
       "      <td>...</td>\n",
       "      <td>...</td>\n",
       "      <td>...</td>\n",
       "      <td>...</td>\n",
       "      <td>...</td>\n",
       "      <td>...</td>\n",
       "      <td>...</td>\n",
       "      <td>...</td>\n",
       "      <td>...</td>\n",
       "      <td>...</td>\n",
       "    </tr>\n",
       "    <tr>\n",
       "      <th>10046</th>\n",
       "      <td>P24302</td>\n",
       "      <td>2014</td>\n",
       "      <td>1920</td>\n",
       "      <td>29</td>\n",
       "      <td>0</td>\n",
       "      <td>2014-12</td>\n",
       "      <td>1</td>\n",
       "      <td>318</td>\n",
       "      <td>8</td>\n",
       "      <td>0</td>\n",
       "      <td>...</td>\n",
       "      <td>0</td>\n",
       "      <td>0</td>\n",
       "      <td>0</td>\n",
       "      <td>0</td>\n",
       "      <td>0</td>\n",
       "      <td>0</td>\n",
       "      <td>0</td>\n",
       "      <td>0</td>\n",
       "      <td>0</td>\n",
       "      <td>04M05V,23M20T,05M082,06M033,09M031,05M093,10M1...</td>\n",
       "    </tr>\n",
       "    <tr>\n",
       "      <th>10047</th>\n",
       "      <td>P24303</td>\n",
       "      <td>2012</td>\n",
       "      <td>1927</td>\n",
       "      <td>61</td>\n",
       "      <td>0</td>\n",
       "      <td>2017-05</td>\n",
       "      <td>1</td>\n",
       "      <td>1924</td>\n",
       "      <td>12</td>\n",
       "      <td>0</td>\n",
       "      <td>...</td>\n",
       "      <td>1</td>\n",
       "      <td>0</td>\n",
       "      <td>0</td>\n",
       "      <td>0</td>\n",
       "      <td>0</td>\n",
       "      <td>0</td>\n",
       "      <td>0</td>\n",
       "      <td>0</td>\n",
       "      <td>0</td>\n",
       "      <td>05M094,05M09T,05K052,23M101,09M053,05C143,23M1...</td>\n",
       "    </tr>\n",
       "    <tr>\n",
       "      <th>10048</th>\n",
       "      <td>P24304</td>\n",
       "      <td>2010</td>\n",
       "      <td>1924</td>\n",
       "      <td>999</td>\n",
       "      <td>0</td>\n",
       "      <td>2010-08</td>\n",
       "      <td>1</td>\n",
       "      <td>5</td>\n",
       "      <td>1</td>\n",
       "      <td>0</td>\n",
       "      <td>...</td>\n",
       "      <td>0</td>\n",
       "      <td>0</td>\n",
       "      <td>0</td>\n",
       "      <td>0</td>\n",
       "      <td>0</td>\n",
       "      <td>0</td>\n",
       "      <td>0</td>\n",
       "      <td>0</td>\n",
       "      <td>0</td>\n",
       "      <td>05M082</td>\n",
       "    </tr>\n",
       "    <tr>\n",
       "      <th>10049</th>\n",
       "      <td>P24308</td>\n",
       "      <td>2011</td>\n",
       "      <td>1925</td>\n",
       "      <td>13</td>\n",
       "      <td>1</td>\n",
       "      <td>2013-03</td>\n",
       "      <td>1</td>\n",
       "      <td>484</td>\n",
       "      <td>7</td>\n",
       "      <td>0</td>\n",
       "      <td>...</td>\n",
       "      <td>0</td>\n",
       "      <td>0</td>\n",
       "      <td>0</td>\n",
       "      <td>0</td>\n",
       "      <td>0</td>\n",
       "      <td>0</td>\n",
       "      <td>1</td>\n",
       "      <td>0</td>\n",
       "      <td>0</td>\n",
       "      <td>05M091,04M173,04M171,04C042,23M061,07M023,04M174</td>\n",
       "    </tr>\n",
       "    <tr>\n",
       "      <th>10050</th>\n",
       "      <td>P24310</td>\n",
       "      <td>2010</td>\n",
       "      <td>1941</td>\n",
       "      <td>81</td>\n",
       "      <td>1</td>\n",
       "      <td>NaN</td>\n",
       "      <td>0</td>\n",
       "      <td>2935</td>\n",
       "      <td>4</td>\n",
       "      <td>0</td>\n",
       "      <td>...</td>\n",
       "      <td>0</td>\n",
       "      <td>0</td>\n",
       "      <td>1</td>\n",
       "      <td>0</td>\n",
       "      <td>0</td>\n",
       "      <td>0</td>\n",
       "      <td>0</td>\n",
       "      <td>0</td>\n",
       "      <td>0</td>\n",
       "      <td>08C322,08C14J,08C322,13C122</td>\n",
       "    </tr>\n",
       "  </tbody>\n",
       "</table>\n",
       "<p>10051 rows × 65 columns</p>\n",
       "</div>"
      ],
      "text/plain": [
       "      CODE_PATIENT  date_h0  y_nais BEN_RES_DPT  BEN_SEX_COD dte_deces  Mort  \\\n",
       "0               P0     2011    1949          11            0       NaN     0   \n",
       "1               P6     2013    1929          14            1   2015-03     1   \n",
       "2               P8     2015    1967          54            1   2015-08     1   \n",
       "3              P13     2011    1959         974            0       NaN     0   \n",
       "4              P16     2010    1947          76            0       NaN     0   \n",
       "...            ...      ...     ...         ...          ...       ...   ...   \n",
       "10046       P24302     2014    1920          29            0   2014-12     1   \n",
       "10047       P24303     2012    1927          61            0   2017-05     1   \n",
       "10048       P24304     2010    1924         999            0   2010-08     1   \n",
       "10049       P24308     2011    1925          13            1   2013-03     1   \n",
       "10050       P24310     2010    1941          81            1       NaN     0   \n",
       "\n",
       "       Nb_survie  Nb_hospit  CHOC  ...  cluster42  cluster43  cluster44  \\\n",
       "0           2596          9     0  ...          1          0          0   \n",
       "1            456          8     0  ...          0          0          0   \n",
       "2             41          3     1  ...          0          0          0   \n",
       "3           2783          2     0  ...          0          0          0   \n",
       "4           3210          9     0  ...          1          0          0   \n",
       "...          ...        ...   ...  ...        ...        ...        ...   \n",
       "10046        318          8     0  ...          0          0          0   \n",
       "10047       1924         12     0  ...          1          0          0   \n",
       "10048          5          1     0  ...          0          0          0   \n",
       "10049        484          7     0  ...          0          0          0   \n",
       "10050       2935          4     0  ...          0          0          1   \n",
       "\n",
       "       cluster45  cluster46  cluster47  cluster48  cluster49  cluster50  \\\n",
       "0              0          0          0          0          0          0   \n",
       "1              0          0          0          0          0          0   \n",
       "2              0          0          0          0          0          0   \n",
       "3              0          0          0          0          0          0   \n",
       "4              0          0          0          0          0          0   \n",
       "...          ...        ...        ...        ...        ...        ...   \n",
       "10046          0          0          0          0          0          0   \n",
       "10047          0          0          0          0          0          0   \n",
       "10048          0          0          0          0          0          0   \n",
       "10049          0          0          0          1          0          0   \n",
       "10050          0          0          0          0          0          0   \n",
       "\n",
       "                                                 p_soins  \n",
       "0      05K051,05M042,05M16T,05M09T,05M092,05C191,05M2...  \n",
       "1      02C05J,02C05J,05M093,04M132,05C222,23M103,04M0...  \n",
       "2                                          11M041,06C194  \n",
       "3                                          05M04T,05K051  \n",
       "4      08C11V,23M15Z,05K102,05M08T,05K102,05C191,23M1...  \n",
       "...                                                  ...  \n",
       "10046  04M05V,23M20T,05M082,06M033,09M031,05M093,10M1...  \n",
       "10047  05M094,05M09T,05K052,23M101,09M053,05C143,23M1...  \n",
       "10048                                             05M082  \n",
       "10049   05M091,04M173,04M171,04C042,23M061,07M023,04M174  \n",
       "10050                        08C322,08C14J,08C322,13C122  \n",
       "\n",
       "[10051 rows x 65 columns]"
      ]
     },
     "execution_count": 63,
     "metadata": {},
     "output_type": "execute_result"
    }
   ],
   "source": [
    "base_patient_cluster"
   ]
  },
  {
   "cell_type": "code",
   "execution_count": 64,
   "id": "0848369a-2a66-4b2a-bb3a-e226cec57bbe",
   "metadata": {
    "tags": []
   },
   "outputs": [],
   "source": [
    "base_patient_cluster.to_csv(\"../data/custom_metric/50cluster_50_10_1.csv\", index=False)"
   ]
  },
  {
   "cell_type": "code",
   "execution_count": 65,
   "id": "afc8dc4e-8802-4362-8ef1-ca32d1587eac",
   "metadata": {
    "tags": []
   },
   "outputs": [],
   "source": [
    "medoid_indices = kmedoids.medoid_indices_"
   ]
  },
  {
   "cell_type": "code",
   "execution_count": 66,
   "id": "f42a85a7-77b1-4eb4-8238-964c6249fd48",
   "metadata": {
    "tags": []
   },
   "outputs": [],
   "source": [
    "with open('../data/custom_metric/50cluster_medoids_50_10_1.npy', 'wb') as f:\n",
    "    np.save(f, medoid_indices)"
   ]
  },
  {
   "cell_type": "code",
   "execution_count": null,
   "id": "8e2cd6f2-834a-4476-910a-a07805efaf00",
   "metadata": {},
   "outputs": [],
   "source": []
  }
 ],
 "metadata": {
  "kernelspec": {
   "display_name": "Python 3 (ipykernel)",
   "language": "python",
   "name": "python3"
  },
  "language_info": {
   "codemirror_mode": {
    "name": "ipython",
    "version": 3
   },
   "file_extension": ".py",
   "mimetype": "text/x-python",
   "name": "python",
   "nbconvert_exporter": "python",
   "pygments_lexer": "ipython3",
   "version": "3.10.8"
  }
 },
 "nbformat": 4,
 "nbformat_minor": 5
}
