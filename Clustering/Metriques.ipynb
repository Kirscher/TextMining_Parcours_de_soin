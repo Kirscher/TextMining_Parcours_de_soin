{
 "cells": [
  {
   "cell_type": "code",
   "execution_count": null,
   "id": "96b0edf0-1a5c-4ab1-b1ea-35e3e030fe38",
   "metadata": {},
   "outputs": [],
   "source": [
    "print(\"Installation/Importation des librairies necessaires.\")"
   ]
  },
  {
   "cell_type": "code",
   "execution_count": null,
   "id": "5683acfc-4d9b-4a0d-9c14-0ad02f0405b8",
   "metadata": {},
   "outputs": [],
   "source": [
    "%%capture capt\n",
    "!pip install jellyfish\n",
    "!pip install levenshtein"
   ]
  },
  {
   "cell_type": "code",
   "execution_count": null,
   "id": "e80278c2-02d9-4d3c-8c45-4a78ef5f70d1",
   "metadata": {},
   "outputs": [],
   "source": [
    "%%capture capt\n",
    "import numpy as np\n",
    "from jellyfish import jaro_winkler_similarity\n",
    "import pandas as pd\n",
    "from tqdm import tqdm\n",
    "import Levenshtein\n",
    "import math"
   ]
  },
  {
   "cell_type": "markdown",
   "id": "1aed344b-0438-4a34-a8d1-d89acb262c72",
   "metadata": {
    "tags": []
   },
   "source": [
    "# Formules de distance entre string"
   ]
  },
  {
   "cell_type": "markdown",
   "id": "a8788e1b-87ab-4ddf-aa20-38610ba5cffa",
   "metadata": {},
   "source": [
    "##### Jaro-Winkler"
   ]
  },
  {
   "cell_type": "code",
   "execution_count": null,
   "id": "c8a4e3f1-7f4e-4e1a-ade7-da22d5ed5532",
   "metadata": {
    "tags": []
   },
   "outputs": [],
   "source": [
    "def convert_to_sentence(arr):\n",
    "    sentence = ''\n",
    "    for x in arr:\n",
    "        sentence += x + \",\"\n",
    "    return sentence[:-1]"
   ]
  },
  {
   "cell_type": "code",
   "execution_count": null,
   "id": "e2005026-88dc-4c0b-9c70-8be584b2d1c2",
   "metadata": {
    "tags": []
   },
   "outputs": [],
   "source": [
    "def string_distance(s1, s2):\n",
    "    # Compute distance between strings using the jaro winkler similarity formula\n",
    "    return 1 - jaro_winkler_similarity(s1, s2)\n",
    "\n",
    "def jaro_winkler_distance(arr1, arr2):\n",
    "    s1 = convert_to_sentence(arr1)\n",
    "    s2 = convert_to_sentence(arr2)\n",
    "    return abs(string_distance(s1, s2))"
   ]
  },
  {
   "cell_type": "markdown",
   "id": "e5e6d4cb-d04f-43e6-8a2f-85cda7300351",
   "metadata": {},
   "source": [
    "##### Levenshtein "
   ]
  },
  {
   "cell_type": "code",
   "execution_count": null,
   "id": "8a09545a-52cc-42d1-832e-c58711307e89",
   "metadata": {
    "tags": []
   },
   "outputs": [],
   "source": [
    "def string_distance_levenshtein(s1, s2):\n",
    "    return 1 - Levenshtein.ratio(s1, s2)\n",
    "\n",
    "def levenshtein_distance(arr1, arr2):\n",
    "    s1 = convert_to_sentence(arr1)\n",
    "    s2 = convert_to_sentence(arr2)\n",
    "    return abs(string_distance_levenshtein(s1, s2))"
   ]
  },
  {
   "cell_type": "markdown",
   "id": "7dc78974-922e-4928-bfe1-93d64b8c8258",
   "metadata": {},
   "source": [
    "##### Custom"
   ]
  },
  {
   "cell_type": "markdown",
   "id": "2e178fda-6edf-43ee-a080-b47885902547",
   "metadata": {},
   "source": [
    "Tous les GHM ont 6 caractères"
   ]
  },
  {
   "cell_type": "code",
   "execution_count": null,
   "id": "1dd8de95-7a6e-4cb0-a946-def961a099a4",
   "metadata": {
    "tags": []
   },
   "outputs": [],
   "source": [
    "def custom_ghm_distance_norm(ghm1, ghm2, distance=string_distance_levenshtein, weights=[50,10,1]):\n",
    "    return (weights[0]*distance(ghm1[:2], ghm2[:2]) + weights[1]*distance(ghm1[2], ghm2[2]) + weights[2]*distance(ghm1[2:], ghm2[2:])) / np.sum(weights)\n",
    "\n",
    "def custom_distance_norm(arr1, arr2, distance_ghm=string_distance_levenshtein, weights=[50, 10, 1]):\n",
    "    min_length = min(len(arr1), len(arr2))\n",
    "    max_length = max(len(arr1), len(arr2))\n",
    "    distance = np.sum([custom_ghm_distance_norm(arr1[i], arr2[i], distance=distance_ghm,weights=weights) for i in range(min_length)]) + (max_length - min_length)\n",
    "    return distance / max_length"
   ]
  },
  {
   "cell_type": "code",
   "execution_count": null,
   "id": "24bc8ebc-ae83-4cff-88f6-84c0d9b7c2de",
   "metadata": {},
   "outputs": [],
   "source": [
    "def custom_ghm_distance(ghm1, ghm2, distance=string_distance_levenshtein, weights=[50,10,1]):\n",
    "    return (weights[0]*distance(ghm1[:2], ghm2[:2]) + weights[1]*distance(ghm1[2], ghm2[2]) + weights[2]*distance(ghm1[2:], ghm2[2:]))\n",
    "\n",
    "def custom_distance(arr1, arr2, distance_ghm=string_distance_levenshtein,weights=[50,10,1]):\n",
    "    min_length = min(len(arr1), len(arr2))\n",
    "    max_length = max(len(arr1), len(arr2))\n",
    "    distance = np.sum([custom_ghm_distance(arr1[i], arr2[i], distance=distance_ghm,weights=weights) for i in range(min_length)]) + (max_length - min_length)\n",
    "    return distance"
   ]
  }
 ],
 "metadata": {
  "kernelspec": {
   "display_name": "Python 3 (ipykernel)",
   "language": "python",
   "name": "python3"
  },
  "language_info": {
   "codemirror_mode": {
    "name": "ipython",
    "version": 3
   },
   "file_extension": ".py",
   "mimetype": "text/x-python",
   "name": "python",
   "nbconvert_exporter": "python",
   "pygments_lexer": "ipython3",
   "version": "3.10.9"
  }
 },
 "nbformat": 4,
 "nbformat_minor": 5
}
