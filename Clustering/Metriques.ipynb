{
 "cells": [
  {
   "cell_type": "code",
   "execution_count": 1,
   "id": "96b0edf0-1a5c-4ab1-b1ea-35e3e030fe38",
   "metadata": {
    "tags": []
   },
   "outputs": [
    {
     "name": "stdout",
     "output_type": "stream",
     "text": [
      "Installation/Importation des librairies necessaires.\n"
     ]
    }
   ],
   "source": [
    "print(\"Installation/Importation des librairies necessaires.\")"
   ]
  },
  {
   "cell_type": "code",
   "execution_count": 2,
   "id": "5683acfc-4d9b-4a0d-9c14-0ad02f0405b8",
   "metadata": {
    "tags": []
   },
   "outputs": [],
   "source": [
    "%%capture capt\n",
    "!pip install jellyfish\n",
    "!pip install levenshtein"
   ]
  },
  {
   "cell_type": "code",
   "execution_count": 3,
   "id": "e80278c2-02d9-4d3c-8c45-4a78ef5f70d1",
   "metadata": {
    "tags": []
   },
   "outputs": [],
   "source": [
    "%%capture capt\n",
    "import numpy as np\n",
    "from jellyfish import jaro_winkler_similarity\n",
    "import pandas as pd\n",
    "from tqdm import tqdm\n",
    "import Levenshtein\n",
    "import math"
   ]
  },
  {
   "cell_type": "markdown",
   "id": "1aed344b-0438-4a34-a8d1-d89acb262c72",
   "metadata": {
    "tags": []
   },
   "source": [
    "# Formules de distance entre string"
   ]
  },
  {
   "cell_type": "markdown",
   "id": "a8788e1b-87ab-4ddf-aa20-38610ba5cffa",
   "metadata": {},
   "source": [
    "##### Jaro-Winkler"
   ]
  },
  {
   "cell_type": "code",
   "execution_count": 4,
   "id": "c8a4e3f1-7f4e-4e1a-ade7-da22d5ed5532",
   "metadata": {
    "tags": []
   },
   "outputs": [],
   "source": [
    "def convert_to_sentence(arr):\n",
    "    sentence = ''\n",
    "    for x in arr:\n",
    "        sentence += x + \",\"\n",
    "    return sentence[:-1]"
   ]
  },
  {
   "cell_type": "code",
   "execution_count": 5,
   "id": "e2005026-88dc-4c0b-9c70-8be584b2d1c2",
   "metadata": {
    "tags": []
   },
   "outputs": [],
   "source": [
    "def string_distance(s1, s2):\n",
    "    # Compute distance between strings using the jaro winkler similarity formula\n",
    "    return 1 - jaro_winkler_similarity(s1, s2)\n",
    "\n",
    "def jaro_winkler_distance(arr1, arr2):\n",
    "    s1 = convert_to_sentence(arr1)\n",
    "    s2 = convert_to_sentence(arr2)\n",
    "    return abs(string_distance(s1, s2))"
   ]
  },
  {
   "cell_type": "markdown",
   "id": "e5e6d4cb-d04f-43e6-8a2f-85cda7300351",
   "metadata": {},
   "source": [
    "##### Levenshtein "
   ]
  },
  {
   "cell_type": "code",
   "execution_count": 6,
   "id": "8a09545a-52cc-42d1-832e-c58711307e89",
   "metadata": {
    "tags": []
   },
   "outputs": [],
   "source": [
    "def string_distance_levenshtein(s1, s2):\n",
    "    return 1 - Levenshtein.ratio(s1, s2)\n",
    "\n",
    "def levenshtein_distance(arr1, arr2):\n",
    "    s1 = convert_to_sentence(arr1)\n",
    "    s2 = convert_to_sentence(arr2)\n",
    "    return abs(string_distance_levenshtein(s1, s2))"
   ]
  },
  {
   "cell_type": "markdown",
   "id": "7dc78974-922e-4928-bfe1-93d64b8c8258",
   "metadata": {},
   "source": [
    "##### Custom"
   ]
  },
  {
   "cell_type": "markdown",
   "id": "2e178fda-6edf-43ee-a080-b47885902547",
   "metadata": {},
   "source": [
    "Tous les GHM ont 6 caractères"
   ]
  },
  {
   "cell_type": "code",
   "execution_count": 7,
   "id": "1dd8de95-7a6e-4cb0-a946-def961a099a4",
   "metadata": {
    "tags": []
   },
   "outputs": [],
   "source": [
    "def custom_ghm_distance_norm(ghm1, ghm2, distance=string_distance_levenshtein, weights=[50,10,1]):\n",
    "    return (weights[0]*distance(ghm1[:2], ghm2[:2]) + weights[1]*distance(ghm1[2], ghm2[2]) + weights[2]*distance(ghm1[3:], ghm2[3:])) / np.sum(weights)\n",
    "\n",
    "def custom_distance_norm(arr1, arr2, distance_ghm=string_distance_levenshtein, weights=[50, 10, 1]):\n",
    "    min_length = min(len(arr1), len(arr2))\n",
    "    max_length = max(len(arr1), len(arr2))\n",
    "    distance = np.sum([custom_ghm_distance_norm(arr1[i], arr2[i], distance=distance_ghm,weights=weights) for i in range(min_length)]) + (max_length - min_length)\n",
    "    return distance / max_length"
   ]
  },
  {
   "cell_type": "code",
   "execution_count": 8,
   "id": "24bc8ebc-ae83-4cff-88f6-84c0d9b7c2de",
   "metadata": {
    "tags": []
   },
   "outputs": [],
   "source": [
    "def custom_ghm_distance(ghm1, ghm2, distance=string_distance_levenshtein, weights=[50, 10, 1]):\n",
    "    return (weights[0]*distance(ghm1[:2], ghm2[:2]) + weights[1]*distance(ghm1[2], ghm2[2]) + weights[2]*distance(ghm1[3:], ghm2[3:]))\n",
    "\n",
    "def custom_distance(arr1, arr2, distance_ghm=string_distance_levenshtein,weights=[50,10,1]):\n",
    "    min_length = min(len(arr1), len(arr2))\n",
    "    max_length = max(len(arr1), len(arr2))\n",
    "    distance = np.sum([custom_ghm_distance(arr1[i], arr2[i], distance=distance_ghm,weights=weights) for i in range(min_length)]) + sum(weights)*(max_length - min_length)\n",
    "    return distance / max_length"
   ]
  },
  {
   "cell_type": "markdown",
   "id": "4709fb67-22c0-45b0-bb8f-e5ad6ba1fba7",
   "metadata": {},
   "source": [
    "### Filter distance"
   ]
  },
  {
   "cell_type": "code",
   "execution_count": 9,
   "id": "fd95a037-0d8b-4408-9228-07853822bbf8",
   "metadata": {
    "tags": []
   },
   "outputs": [],
   "source": [
    "def custom_ghm_distance_4weights(ghm1, ghm2, distance=string_distance_levenshtein, weights=[1, 1, 1, 1]):\n",
    "    return weights[0]*distance(ghm1[:2], ghm2[:2]) + weights[1]*distance(ghm1[2], ghm2[2]) + weights[2]*distance(ghm1[3:5], ghm2[3:5]) + weights[3]*distance(ghm1[-1], ghm2[-1])"
   ]
  },
  {
   "cell_type": "code",
   "execution_count": 13,
   "id": "bb7005a2-f892-48a8-9597-a6330bdf20af",
   "metadata": {
    "tags": []
   },
   "outputs": [],
   "source": [
    "def coor_in_array(i, arr):\n",
    "    return 0 <= i and i < len(arr)\n",
    "\n",
    "def filter_distance_a_to_b__element_i(arr1, arr2, i, default_value, custom_dist, weights, distance_ghm=string_distance_levenshtein):\n",
    "    distances = [0]*3\n",
    "    for j, coor in enumerate([i-1, i, i+1]):\n",
    "        if coor_in_array(coor, arr2):\n",
    "            distances[j] = custom_dist(arr1[i], arr2[coor], distance_ghm, weights)\n",
    "        else:\n",
    "            distances[j] = float('inf')\n",
    "    min_ = min(distances)\n",
    "    if min_ == float('inf'):\n",
    "        return default_value\n",
    "    return min_\n",
    "\n",
    "def filter_distance_a_to_b(arr1, arr2, default_value, custom_dist, weights, distance_ghm=string_distance_levenshtein):\n",
    "    distance = 0\n",
    "    for i in range(len(arr1)):\n",
    "        distance += filter_distance_a_to_b__element_i(arr1, arr2, i, default_value, custom_dist, weights=weights, distance_ghm=distance_ghm)\n",
    "    return distance"
   ]
  },
  {
   "cell_type": "code",
   "execution_count": null,
   "id": "1abd1bdf-904f-46ca-9306-362af43d19dc",
   "metadata": {},
   "outputs": [],
   "source": [
    "def distance_filter(arr1, arr2, weights=[1,1,1], distance_ghm=string_distance_levenshtein):\n",
    "    min_length = min(len(arr1), len(arr2))\n",
    "    max_length = max(len(arr1), len(arr2))\n",
    "    default_value = sum(weights)*(max_length - min_length)\n",
    "    distance = filter_distance_a_to_b(arr1, arr2, default_value, custom_ghm_distance, weights=weights, distance_ghm=distance_ghm) \n",
    "    distance += filter_distance_a_to_b(arr2, arr1, default_value, custom_ghm_distance, weights=weights, distance_ghm=distance_ghm)\n",
    "    distance /= 2\n",
    "    return distance / max_length\n",
    "\n",
    "def distance_filter_4weights(arr1, arr2, weights=[1, 1, 1, 1], distance_ghm=string_distance_levenshtein):\n",
    "    min_length = min(len(arr1), len(arr2))\n",
    "    max_length = max(len(arr1), len(arr2))\n",
    "    default_value = sum(weights)*(max_length - min_length)\n",
    "    distance = filter_distance_a_to_b(arr1, arr2, default_value, custom_ghm_distance_4weights, weights=weights, distance_ghm=distance_ghm) \n",
    "    distance += filter_distance_a_to_b(arr2, arr1, default_value, custom_ghm_distance_4weights, weights=weights, distance_ghm=distance_ghm)\n",
    "    distance /= 2\n",
    "    return distance / max_length"
   ]
  }
 ],
 "metadata": {
  "kernelspec": {
   "display_name": "Python 3 (ipykernel)",
   "language": "python",
   "name": "python3"
  },
  "language_info": {
   "codemirror_mode": {
    "name": "ipython",
    "version": 3
   },
   "file_extension": ".py",
   "mimetype": "text/x-python",
   "name": "python",
   "nbconvert_exporter": "python",
   "pygments_lexer": "ipython3",
   "version": "3.10.9"
  }
 },
 "nbformat": 4,
 "nbformat_minor": 5
}
