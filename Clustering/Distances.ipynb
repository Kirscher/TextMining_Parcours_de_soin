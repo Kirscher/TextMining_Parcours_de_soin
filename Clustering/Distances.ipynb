{
 "cells": [
  {
   "cell_type": "code",
   "execution_count": null,
   "id": "882dc9ec-ac17-4f76-86de-c41b6b42304d",
   "metadata": {},
   "outputs": [],
   "source": [
    "import multiprocessing\n",
    "from multiprocessing import Pool"
   ]
  },
  {
   "cell_type": "code",
   "execution_count": null,
   "id": "a22cd0d6-4f8f-486d-8b03-a58300155951",
   "metadata": {},
   "outputs": [],
   "source": [
    "def custom_pairwise_distances_i_triangle(data, distance_function, i):\n",
    "    distance_i = [distance_function(data[i], data[j]) for j in range(i)]\n",
    "    distance_i.append(0)\n",
    "    return distance_i\n",
    "\n",
    "def custom_pairwise_distances_triangle_for_multithread(global_data, distance_function, starting_index, length):\n",
    "    distances = [custom_pairwise_distances_i_triangle(global_data, distance_function, i+starting_index) for i in range(length)]\n",
    "    return distances"
   ]
  },
  {
   "cell_type": "code",
   "execution_count": null,
   "id": "f7e7f34d-397f-4b45-8aa4-5337383bbe2b",
   "metadata": {
    "tags": []
   },
   "outputs": [],
   "source": [
    "def get_starting_indices(len_data, divide_into):\n",
    "    linspace = np.linspace(0, len_data, divide_into)\n",
    "    indices = [math.floor(x) for x in linspace]\n",
    "    return indices    \n",
    "\n",
    "def get_lengths(len_data, indices):\n",
    "    if len(indices) <= 1:\n",
    "        return [len_data]\n",
    "    lengths = [indices[1]]\n",
    "    for i in range(2, len(indices)):\n",
    "        lengths.append(indices[i]-indices[i-1])\n",
    "    lengths.append(len_data-indices[-1])\n",
    "    return lengths"
   ]
  },
  {
   "cell_type": "code",
   "execution_count": null,
   "id": "db2056cb-919e-48bc-b03c-c04506d1627f",
   "metadata": {
    "tags": []
   },
   "outputs": [],
   "source": [
    "def custom_pairwise_distances_triangle_multithread(data, distance_function, divide_into=nb_cpu_cores):\n",
    "    distances = []    \n",
    "    starting_indices = get_starting_indices(len(data), divide_into)\n",
    "    lengths = get_lengths(len(data), starting_indices)\n",
    "    \n",
    "    with Pool() as p:\n",
    "        async_results = [p.apply_async(custom_pairwise_distances_triangle_for_multithread, \n",
    "                                       args=(data, distance_function, starting_indices[i], lengths[i])) for i in range(len(lengths))]\n",
    "        \n",
    "        for i in range(len(lengths)):\n",
    "            distances += async_results[i].get()\n",
    "    return distances\n",
    "    \n",
    "def custom_pairwise_distances(data, distance_function, divide_into=nb_cpu_cores):\n",
    "    distances_triangle = custom_pairwise_distances_triangle_multithread(data, distance_function, divide_into=divide_into)\n",
    "    for i in range(len(data)):\n",
    "        for j in range(i+1, len(data)):\n",
    "            distances_triangle[i].append(distances_triangle[j][i])\n",
    "    return np.array(distances_triangle)"
   ]
  },
  {
   "cell_type": "code",
   "execution_count": null,
   "id": "2b0c8d4a-4402-487d-abff-7235a4834b17",
   "metadata": {},
   "outputs": [],
   "source": [
    "def min_distance(distances):\n",
    "    min_ = float('inf')\n",
    "    for i in range(len(distances)):\n",
    "        for j in range(i):\n",
    "            min_ = min(min_, distances[i][j])\n",
    "    return min_\n",
    "\n",
    "def scale_distances(distances):\n",
    "    min_ = min_distance(distances)\n",
    "    max_ = np.max(distances)\n",
    "    for i in range(len(distances)):\n",
    "        for j in range(len(distances[i])):\n",
    "            distances[i][j] = (distances[i][j] - min_) / (max_ - min_)\n",
    "    return"
   ]
  }
 ],
 "metadata": {
  "kernelspec": {
   "display_name": "Python 3 (ipykernel)",
   "language": "python",
   "name": "python3"
  },
  "language_info": {
   "codemirror_mode": {
    "name": "ipython",
    "version": 3
   },
   "file_extension": ".py",
   "mimetype": "text/x-python",
   "name": "python",
   "nbconvert_exporter": "python",
   "pygments_lexer": "ipython3",
   "version": "3.10.9"
  }
 },
 "nbformat": 4,
 "nbformat_minor": 5
}
