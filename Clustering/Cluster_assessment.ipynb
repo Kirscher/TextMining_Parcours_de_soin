{
 "cells": [
  {
   "cell_type": "code",
   "execution_count": null,
   "id": "a321c1a9-6f43-4403-8617-e97988f28e8b",
   "metadata": {
    "tags": []
   },
   "outputs": [],
   "source": [
    "%%capture capt\n",
    "!pip install prefixspan"
   ]
  },
  {
   "cell_type": "code",
   "execution_count": null,
   "id": "ca93dde7-711d-48f0-8c01-aa3f202a6637",
   "metadata": {
    "tags": []
   },
   "outputs": [],
   "source": [
    "%%capture capt\n",
    "import numpy as np\n",
    "import pandas as pd\n",
    "from tqdm import tqdm\n",
    "import matplotlib.pyplot as plt\n",
    "from prefixspan import PrefixSpan"
   ]
  },
  {
   "cell_type": "markdown",
   "id": "f02a1829-8147-4e92-a767-b4ef58a7b762",
   "metadata": {},
   "source": [
    "### Load Data"
   ]
  },
  {
   "cell_type": "code",
   "execution_count": null,
   "id": "6227d77c-493c-45fc-9b30-7bd98713882b",
   "metadata": {
    "tags": []
   },
   "outputs": [],
   "source": [
    "patient = pd.read_csv(\"../data/custom_metric/grid_search.csv\")"
   ]
  },
  {
   "cell_type": "code",
   "execution_count": null,
   "id": "e8c46e16-3904-42cf-93d8-e21eb995dadd",
   "metadata": {
    "tags": []
   },
   "outputs": [],
   "source": [
    "%%capture capt\n",
    "p_soins = pd.read_csv(\"../data/parcours_soins.csv\")"
   ]
  },
  {
   "cell_type": "markdown",
   "id": "75ba147c-80d7-405c-a236-18c0ffc63125",
   "metadata": {},
   "source": [
    "### Vecteurs des parcours de GHM"
   ]
  },
  {
   "cell_type": "code",
   "execution_count": null,
   "id": "037e20dc-f0bc-436f-9800-f807ddaf9545",
   "metadata": {
    "tags": []
   },
   "outputs": [],
   "source": [
    "def nb_cluster_df(df):\n",
    "    nb_cluster = 1\n",
    "    found_max = False\n",
    "    while not found_max:\n",
    "        try:\n",
    "            df['cluster'+str(nb_cluster)]\n",
    "            nb_cluster += 1\n",
    "        except:\n",
    "            found_max=True\n",
    "            \n",
    "    nb_cluster -= 1\n",
    "    return nb_cluster"
   ]
  },
  {
   "cell_type": "code",
   "execution_count": null,
   "id": "53e0b551-9caa-46d0-91ee-61d50e5f3402",
   "metadata": {
    "tags": []
   },
   "outputs": [],
   "source": [
    "nb_cluster = nb_cluster_df(patient)"
   ]
  },
  {
   "cell_type": "code",
   "execution_count": null,
   "id": "f45ca445-3e28-49f1-bd32-f4fc0c2810ab",
   "metadata": {
    "tags": []
   },
   "outputs": [],
   "source": [
    "patient['cluster'] = [1+np.argmax(patient.loc[:, 'cluster1':'cluster'+str(nb_cluster)].iloc[i]) for i in range(len(patient))]"
   ]
  },
  {
   "cell_type": "code",
   "execution_count": null,
   "id": "787038e2-00c4-43af-abda-b7ac2ae266b8",
   "metadata": {
    "tags": []
   },
   "outputs": [],
   "source": [
    "dico_cluster = {}\n",
    "for i in range(nb_cluster):\n",
    "    patient_cluster = patient.loc[patient.cluster == i+1]\n",
    "    list_p_soins = patient_cluster.p_soins.values.tolist()\n",
    "    list_list_p_soins = [x.split(',') for x in list_p_soins]\n",
    "    dico_cluster[i+1] = list_list_p_soins"
   ]
  },
  {
   "cell_type": "code",
   "execution_count": null,
   "id": "d7a854b1-33cc-4c02-8c46-e27fa60fc828",
   "metadata": {
    "tags": []
   },
   "outputs": [],
   "source": [
    "dico_full = {\"Full\": [patient.p_soins.values.tolist()[i].split(',') for i in range(len(patient))]}"
   ]
  },
  {
   "cell_type": "code",
   "execution_count": null,
   "id": "54975bba-8837-49a6-9d3b-4a2dc379f22b",
   "metadata": {
    "tags": []
   },
   "outputs": [],
   "source": [
    "nb_ghm = len(np.unique([item for sublist in dico_full['Full'] for item in sublist]))"
   ]
  },
  {
   "cell_type": "code",
   "execution_count": null,
   "id": "e7fc9c55-759a-4d35-856a-074f1225553e",
   "metadata": {
    "tags": []
   },
   "outputs": [],
   "source": [
    "def motifs_frequents_full():\n",
    "    top_freq = [[], [], []]\n",
    "    top_effectif = [[], [], []]\n",
    "    top_motif = [[], [], []]\n",
    "    \n",
    "    effectif = len(patient)\n",
    "    \n",
    "    for length in range(1,4):\n",
    "        ps = PrefixSpan(dico_full['Full'])\n",
    "        ps.minlen = length\n",
    "        ps.maxlen = length\n",
    "        list_ps = ps.topk(k=nb_ghm)\n",
    "        for i in range(len(list_ps)):\n",
    "            top_effectif[length-1].append(list_ps[i][0])\n",
    "            top_freq[length-1].append(list_ps[i][0]/effectif)\n",
    "            top_motif[length-1].append(list_ps[i][1])\n",
    "            \n",
    "    results=pd.DataFrame()\n",
    "    for i in range(1, 4):\n",
    "        results[f\"len{i}_effectif\"] = top_effectif[i-1]\n",
    "        results[f\"len{i}_freq\"] = top_freq[i-1]\n",
    "        results[f\"len{i}_motif\"] = top_motif[i-1]\n",
    "    return results"
   ]
  },
  {
   "cell_type": "code",
   "execution_count": null,
   "id": "3a7b4e5a-e0ae-4d82-8935-f3645916e8f8",
   "metadata": {
    "tags": []
   },
   "outputs": [],
   "source": [
    "motifs_full = motifs_frequents_full()"
   ]
  },
  {
   "cell_type": "code",
   "execution_count": null,
   "id": "e2ef70e7-b365-4993-8faa-d07c27e2e990",
   "metadata": {
    "tags": []
   },
   "outputs": [],
   "source": [
    "def motifs_frequents_cluster(data, dico, topk):\n",
    "    top_freq=[]\n",
    "    top_effectif=[]\n",
    "    top_motif=[]\n",
    "    results=pd.DataFrame()\n",
    "\n",
    "    for length in range(1,4):\n",
    "        for cluster_p in range(1, nb_cluster + 1):\n",
    "            ps = PrefixSpan(dico[cluster_p])\n",
    "            ps.minlen = length\n",
    "            if ps.topk(k=topk) != [] :\n",
    "                effectif_cluster = (data.cluster==cluster_p).sum()\n",
    "                top_effectif.append(ps.topk(k=topk)[topk-1][0])\n",
    "                top_freq.append(ps.topk(k=topk)[topk-1][0]/effectif_cluster)\n",
    "                top_motif.append(ps.topk(k=topk)[topk-1][1])\n",
    "            else:\n",
    "                top_freq.append(0)\n",
    "                top_effectif.append(0)\n",
    "                top_motif.append([])\n",
    "\n",
    "        results[f\"len{length}_effectif\"]=top_effectif\n",
    "        results[f\"len{length}_freq\"]=top_freq\n",
    "        results[f\"len{length}_motif\"]=top_motif\n",
    "        top_freq=[]\n",
    "        top_motif=[]\n",
    "        top_effectif=[]\n",
    "\n",
    "    return results"
   ]
  },
  {
   "cell_type": "code",
   "execution_count": null,
   "id": "63fac8ab-9d77-4fff-8b80-1c2f5a046b4a",
   "metadata": {
    "tags": []
   },
   "outputs": [],
   "source": [
    "motifs_cluster = motifs_frequents_cluster(patient, dico_cluster, 1)"
   ]
  },
  {
   "cell_type": "markdown",
   "id": "c716465b-44e3-4817-b72a-9f2b66844dae",
   "metadata": {},
   "source": [
    "### Comparer les fréquences des motifs des clusters avec celles de la base"
   ]
  },
  {
   "cell_type": "code",
   "execution_count": null,
   "id": "d109b96b-51ee-45cd-98ee-18bc6fcff5f1",
   "metadata": {
    "tags": []
   },
   "outputs": [],
   "source": [
    "df_diff = pd.DataFrame()\n",
    "for i in range(1, 4):\n",
    "    df_diff[f'diff_len{i}'] = [0]*nb_cluster\n",
    "\n",
    "for i in range(len(motifs_cluster)):\n",
    "    for length in range(1, 4):\n",
    "        ghm = motifs_cluster.iloc[i][f'len{length}_motif']\n",
    "        freq_ghm_in_cluster = motifs_cluster.iloc[i][f'len{length}_freq']\n",
    "        df_freq_ghm_full = motifs_full.loc[motifs_full[f'len{length}_motif'].apply(lambda x: str(x)) == str(ghm)][f'len{length}_freq']\n",
    "        if len(df_freq_ghm_full) == 0:\n",
    "            #print(ghm, i, length)\n",
    "            freq_ghm_full = 0\n",
    "        else:\n",
    "            freq_ghm_full = df_freq_ghm_full.iloc[0]\n",
    "        \n",
    "        diff = freq_ghm_in_cluster - freq_ghm_full\n",
    "        df_diff.loc[i, f'diff_len{length}'] = diff"
   ]
  },
  {
   "cell_type": "code",
   "execution_count": null,
   "id": "7b742fcc-9bd4-4c46-9226-2edf172ec87f",
   "metadata": {
    "tags": []
   },
   "outputs": [],
   "source": [
    "mean_of_means = np.mean([df_diff[list(df_diff.columns)[i]].mean() for i in range(len(df_diff.columns))])"
   ]
  },
  {
   "cell_type": "code",
   "execution_count": null,
   "id": "22589a50-8e79-4683-9df9-c9e8b4e4d0d0",
   "metadata": {
    "tags": []
   },
   "outputs": [],
   "source": [
    "def get_score():\n",
    "    return mean_of_means"
   ]
  }
 ],
 "metadata": {
  "kernelspec": {
   "display_name": "Python 3 (ipykernel)",
   "language": "python",
   "name": "python3"
  },
  "language_info": {
   "codemirror_mode": {
    "name": "ipython",
    "version": 3
   },
   "file_extension": ".py",
   "mimetype": "text/x-python",
   "name": "python",
   "nbconvert_exporter": "python",
   "pygments_lexer": "ipython3",
   "version": "3.10.9"
  }
 },
 "nbformat": 4,
 "nbformat_minor": 5
}
