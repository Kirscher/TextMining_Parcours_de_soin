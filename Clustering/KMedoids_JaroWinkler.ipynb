{
 "cells": [
  {
   "cell_type": "code",
   "execution_count": 1,
   "id": "04fc79b2-3c14-41b5-a237-e9a04ea7e94d",
   "metadata": {
    "tags": []
   },
   "outputs": [],
   "source": [
    "%%capture capt\n",
    "!pip install scikit-learn-extra\n",
    "!pip install jellyfish"
   ]
  },
  {
   "cell_type": "code",
   "execution_count": 40,
   "id": "4233a5b6-9782-4954-98df-083837656b05",
   "metadata": {
    "tags": []
   },
   "outputs": [],
   "source": [
    "%%capture capt\n",
    "import numpy as np\n",
    "from sklearn_extra.cluster import KMedoids\n",
    "from jellyfish import jaro_winkler_similarity\n",
    "from sklearn.metrics.pairwise import pairwise_distances\n",
    "from sklearn.metrics import silhouette_score\n",
    "import pandas as pd\n",
    "from tqdm import tqdm\n",
    "import matplotlib.pyplot as plt"
   ]
  },
  {
   "cell_type": "markdown",
   "id": "119e1309-c642-41f1-8fd8-59e563620a52",
   "metadata": {},
   "source": [
    "# Importation data"
   ]
  },
  {
   "cell_type": "code",
   "execution_count": 3,
   "id": "a7afd725-c17d-4425-94b6-d78854baec48",
   "metadata": {
    "tags": []
   },
   "outputs": [],
   "source": [
    "base_patient = pd.read_csv(\"../data/profil_patient.csv\")"
   ]
  },
  {
   "cell_type": "code",
   "execution_count": 4,
   "id": "2dc6c7ce-1bc3-40c9-bf68-36a09ed62cff",
   "metadata": {
    "tags": []
   },
   "outputs": [],
   "source": [
    "%%capture capt\n",
    "p_soins = pd.read_csv(\"../data/parcours_soins.csv\")"
   ]
  },
  {
   "cell_type": "code",
   "execution_count": 5,
   "id": "7faab721-81bc-457f-bc66-787595c482d9",
   "metadata": {
    "tags": []
   },
   "outputs": [
    {
     "data": {
      "text/html": [
       "<div>\n",
       "<style scoped>\n",
       "    .dataframe tbody tr th:only-of-type {\n",
       "        vertical-align: middle;\n",
       "    }\n",
       "\n",
       "    .dataframe tbody tr th {\n",
       "        vertical-align: top;\n",
       "    }\n",
       "\n",
       "    .dataframe thead th {\n",
       "        text-align: right;\n",
       "    }\n",
       "</style>\n",
       "<table border=\"1\" class=\"dataframe\">\n",
       "  <thead>\n",
       "    <tr style=\"text-align: right;\">\n",
       "      <th></th>\n",
       "      <th>BEN_NIR_IDT</th>\n",
       "      <th>2008-01-15</th>\n",
       "      <th>2008-02-15</th>\n",
       "      <th>2008-03-15</th>\n",
       "      <th>2008-04-15</th>\n",
       "      <th>2008-05-15</th>\n",
       "      <th>2008-06-15</th>\n",
       "      <th>2008-07-15</th>\n",
       "      <th>2008-08-15</th>\n",
       "      <th>2008-09-15</th>\n",
       "      <th>...</th>\n",
       "      <th>2018-12-19</th>\n",
       "      <th>2018-12-20</th>\n",
       "      <th>2018-12-21</th>\n",
       "      <th>2018-12-22</th>\n",
       "      <th>2018-12-24</th>\n",
       "      <th>2018-12-25</th>\n",
       "      <th>2018-12-26</th>\n",
       "      <th>2018-12-27</th>\n",
       "      <th>2018-12-28</th>\n",
       "      <th>2018-12-29</th>\n",
       "    </tr>\n",
       "  </thead>\n",
       "  <tbody>\n",
       "    <tr>\n",
       "      <th>0</th>\n",
       "      <td>P0</td>\n",
       "      <td>NaN</td>\n",
       "      <td>NaN</td>\n",
       "      <td>NaN</td>\n",
       "      <td>NaN</td>\n",
       "      <td>NaN</td>\n",
       "      <td>NaN</td>\n",
       "      <td>NaN</td>\n",
       "      <td>NaN</td>\n",
       "      <td>NaN</td>\n",
       "      <td>...</td>\n",
       "      <td>NaN</td>\n",
       "      <td>NaN</td>\n",
       "      <td>NaN</td>\n",
       "      <td>NaN</td>\n",
       "      <td>NaN</td>\n",
       "      <td>NaN</td>\n",
       "      <td>NaN</td>\n",
       "      <td>NaN</td>\n",
       "      <td>NaN</td>\n",
       "      <td>NaN</td>\n",
       "    </tr>\n",
       "    <tr>\n",
       "      <th>1</th>\n",
       "      <td>P6</td>\n",
       "      <td>NaN</td>\n",
       "      <td>NaN</td>\n",
       "      <td>NaN</td>\n",
       "      <td>NaN</td>\n",
       "      <td>NaN</td>\n",
       "      <td>NaN</td>\n",
       "      <td>NaN</td>\n",
       "      <td>NaN</td>\n",
       "      <td>NaN</td>\n",
       "      <td>...</td>\n",
       "      <td>NaN</td>\n",
       "      <td>NaN</td>\n",
       "      <td>NaN</td>\n",
       "      <td>NaN</td>\n",
       "      <td>NaN</td>\n",
       "      <td>NaN</td>\n",
       "      <td>NaN</td>\n",
       "      <td>NaN</td>\n",
       "      <td>NaN</td>\n",
       "      <td>NaN</td>\n",
       "    </tr>\n",
       "    <tr>\n",
       "      <th>2</th>\n",
       "      <td>P8</td>\n",
       "      <td>NaN</td>\n",
       "      <td>NaN</td>\n",
       "      <td>NaN</td>\n",
       "      <td>NaN</td>\n",
       "      <td>NaN</td>\n",
       "      <td>NaN</td>\n",
       "      <td>NaN</td>\n",
       "      <td>NaN</td>\n",
       "      <td>NaN</td>\n",
       "      <td>...</td>\n",
       "      <td>NaN</td>\n",
       "      <td>NaN</td>\n",
       "      <td>NaN</td>\n",
       "      <td>NaN</td>\n",
       "      <td>NaN</td>\n",
       "      <td>NaN</td>\n",
       "      <td>NaN</td>\n",
       "      <td>NaN</td>\n",
       "      <td>NaN</td>\n",
       "      <td>NaN</td>\n",
       "    </tr>\n",
       "  </tbody>\n",
       "</table>\n",
       "<p>3 rows × 3676 columns</p>\n",
       "</div>"
      ],
      "text/plain": [
       "  BEN_NIR_IDT 2008-01-15 2008-02-15 2008-03-15 2008-04-15 2008-05-15  \\\n",
       "0          P0        NaN        NaN        NaN        NaN        NaN   \n",
       "1          P6        NaN        NaN        NaN        NaN        NaN   \n",
       "2          P8        NaN        NaN        NaN        NaN        NaN   \n",
       "\n",
       "  2008-06-15 2008-07-15 2008-08-15 2008-09-15  ... 2018-12-19 2018-12-20  \\\n",
       "0        NaN        NaN        NaN        NaN  ...        NaN        NaN   \n",
       "1        NaN        NaN        NaN        NaN  ...        NaN        NaN   \n",
       "2        NaN        NaN        NaN        NaN  ...        NaN        NaN   \n",
       "\n",
       "  2018-12-21 2018-12-22 2018-12-24 2018-12-25 2018-12-26 2018-12-27  \\\n",
       "0        NaN        NaN        NaN        NaN        NaN        NaN   \n",
       "1        NaN        NaN        NaN        NaN        NaN        NaN   \n",
       "2        NaN        NaN        NaN        NaN        NaN        NaN   \n",
       "\n",
       "  2018-12-28 2018-12-29  \n",
       "0        NaN        NaN  \n",
       "1        NaN        NaN  \n",
       "2        NaN        NaN  \n",
       "\n",
       "[3 rows x 3676 columns]"
      ]
     },
     "execution_count": 5,
     "metadata": {},
     "output_type": "execute_result"
    }
   ],
   "source": [
    "p_soins.head(3)"
   ]
  },
  {
   "cell_type": "code",
   "execution_count": 6,
   "id": "f64b4a9c-d79d-4b62-bffe-0fa6794eba35",
   "metadata": {
    "tags": []
   },
   "outputs": [
    {
     "data": {
      "text/html": [
       "<div>\n",
       "<style scoped>\n",
       "    .dataframe tbody tr th:only-of-type {\n",
       "        vertical-align: middle;\n",
       "    }\n",
       "\n",
       "    .dataframe tbody tr th {\n",
       "        vertical-align: top;\n",
       "    }\n",
       "\n",
       "    .dataframe thead th {\n",
       "        text-align: right;\n",
       "    }\n",
       "</style>\n",
       "<table border=\"1\" class=\"dataframe\">\n",
       "  <thead>\n",
       "    <tr style=\"text-align: right;\">\n",
       "      <th></th>\n",
       "      <th>CODE_PATIENT</th>\n",
       "      <th>date_h0</th>\n",
       "      <th>y_nais</th>\n",
       "      <th>BEN_RES_DPT</th>\n",
       "      <th>BEN_SEX_COD</th>\n",
       "      <th>dte_deces</th>\n",
       "      <th>Mort</th>\n",
       "      <th>Nb_survie</th>\n",
       "      <th>Nb_hospit</th>\n",
       "      <th>CHOC</th>\n",
       "      <th>Nb_jours_sej</th>\n",
       "      <th>cat_age</th>\n",
       "      <th>cat_nb_hospit</th>\n",
       "      <th>cat_nb_jours_sej</th>\n",
       "      <th>cluster</th>\n",
       "    </tr>\n",
       "  </thead>\n",
       "  <tbody>\n",
       "    <tr>\n",
       "      <th>0</th>\n",
       "      <td>P0</td>\n",
       "      <td>2011-11-22</td>\n",
       "      <td>1949</td>\n",
       "      <td>11</td>\n",
       "      <td>1</td>\n",
       "      <td>NaN</td>\n",
       "      <td>False</td>\n",
       "      <td>2596</td>\n",
       "      <td>9</td>\n",
       "      <td>False</td>\n",
       "      <td>23</td>\n",
       "      <td>1</td>\n",
       "      <td>1</td>\n",
       "      <td>1</td>\n",
       "      <td>0</td>\n",
       "    </tr>\n",
       "    <tr>\n",
       "      <th>1</th>\n",
       "      <td>P6</td>\n",
       "      <td>2013-12-05</td>\n",
       "      <td>1929</td>\n",
       "      <td>14</td>\n",
       "      <td>2</td>\n",
       "      <td>2015-03</td>\n",
       "      <td>True</td>\n",
       "      <td>456</td>\n",
       "      <td>8</td>\n",
       "      <td>False</td>\n",
       "      <td>51</td>\n",
       "      <td>2</td>\n",
       "      <td>1</td>\n",
       "      <td>1</td>\n",
       "      <td>1</td>\n",
       "    </tr>\n",
       "    <tr>\n",
       "      <th>2</th>\n",
       "      <td>P8</td>\n",
       "      <td>2015-07-02</td>\n",
       "      <td>1967</td>\n",
       "      <td>54</td>\n",
       "      <td>2</td>\n",
       "      <td>2015-08</td>\n",
       "      <td>True</td>\n",
       "      <td>41</td>\n",
       "      <td>3</td>\n",
       "      <td>True</td>\n",
       "      <td>43</td>\n",
       "      <td>0</td>\n",
       "      <td>1</td>\n",
       "      <td>1</td>\n",
       "      <td>2</td>\n",
       "    </tr>\n",
       "  </tbody>\n",
       "</table>\n",
       "</div>"
      ],
      "text/plain": [
       "  CODE_PATIENT     date_h0  y_nais BEN_RES_DPT  BEN_SEX_COD dte_deces   Mort  \\\n",
       "0           P0  2011-11-22    1949          11            1       NaN  False   \n",
       "1           P6  2013-12-05    1929          14            2   2015-03   True   \n",
       "2           P8  2015-07-02    1967          54            2   2015-08   True   \n",
       "\n",
       "   Nb_survie  Nb_hospit   CHOC  Nb_jours_sej  cat_age  cat_nb_hospit  \\\n",
       "0       2596          9  False            23        1              1   \n",
       "1        456          8  False            51        2              1   \n",
       "2         41          3   True            43        0              1   \n",
       "\n",
       "   cat_nb_jours_sej  cluster  \n",
       "0                 1        0  \n",
       "1                 1        1  \n",
       "2                 1        2  "
      ]
     },
     "execution_count": 6,
     "metadata": {},
     "output_type": "execute_result"
    }
   ],
   "source": [
    "base_patient.head(3)"
   ]
  },
  {
   "cell_type": "markdown",
   "id": "149532a0-6f48-49e6-8688-dbe5a7c3d88e",
   "metadata": {},
   "source": [
    "# Data Pre-processing"
   ]
  },
  {
   "cell_type": "code",
   "execution_count": 7,
   "id": "96cbd7f0-48d2-4f52-aedc-1eed41a68e7b",
   "metadata": {
    "tags": []
   },
   "outputs": [],
   "source": [
    "base_patient.Mort = base_patient.Mort.astype(int)\n",
    "base_patient.CHOC = base_patient.CHOC.astype(int)\n",
    "base_patient.BEN_SEX_COD = base_patient.BEN_SEX_COD-1"
   ]
  },
  {
   "cell_type": "code",
   "execution_count": 8,
   "id": "4ca513f7-2799-4d57-a688-409892e63bb2",
   "metadata": {
    "tags": []
   },
   "outputs": [],
   "source": [
    "# on ne conserve que l'annee de la premiere hospitalisation\n",
    "\n",
    "base_patient.date_h0 = pd.to_datetime(base_patient.date_h0).apply(lambda date: int(date.year))"
   ]
  },
  {
   "cell_type": "markdown",
   "id": "09b956b8-8d60-4c0f-81bd-790f112ea25c",
   "metadata": {},
   "source": [
    "# Lister tous les GHM"
   ]
  },
  {
   "cell_type": "code",
   "execution_count": 9,
   "id": "9b5a4fcb-1736-474f-91f6-b8e1e4124c78",
   "metadata": {
    "tags": []
   },
   "outputs": [],
   "source": [
    "all_ghm = set()\n",
    "for i in range(len(p_soins)):\n",
    "    ghm_row = set(p_soins.iloc[i].dropna().tolist()[1:])\n",
    "    all_ghm = all_ghm.union(ghm_row)   "
   ]
  },
  {
   "cell_type": "code",
   "execution_count": 10,
   "id": "b21f6554-ecfc-438a-9d6e-043bcbb3aa99",
   "metadata": {
    "tags": []
   },
   "outputs": [
    {
     "name": "stdout",
     "output_type": "stream",
     "text": [
      "2346\n"
     ]
    }
   ],
   "source": [
    "nb_ghm = len(all_ghm)\n",
    "print(nb_ghm)"
   ]
  },
  {
   "cell_type": "markdown",
   "id": "eaaa8aa3-b4a2-471f-8151-070571231c12",
   "metadata": {},
   "source": [
    "##### On fait un One-Hot Encoding de chaque GHM, qu'on stocke dans un dictionnaire"
   ]
  },
  {
   "cell_type": "code",
   "execution_count": 11,
   "id": "26fc173a-d803-4d0f-9e62-dd01f94a379f",
   "metadata": {
    "tags": []
   },
   "outputs": [],
   "source": [
    "encoding_ghm = dict()\n",
    "encoding_ghm[''] = encoding = [0]*nb_ghm\n",
    "cur_index_to_encode_ghm = 0\n",
    "for ghm in all_ghm:\n",
    "    if encoding_ghm.get(ghm) != None:\n",
    "        pass #le ghm a deja ete encode\n",
    "    else:\n",
    "        encoding = [0]*nb_ghm\n",
    "        encoding[cur_index_to_encode_ghm] = 1\n",
    "        cur_index_to_encode_ghm+=1\n",
    "        encoding_ghm[ghm] = encoding"
   ]
  },
  {
   "cell_type": "code",
   "execution_count": 11,
   "id": "74e1321d-29c0-4794-9275-e4250fa40245",
   "metadata": {
    "tags": []
   },
   "outputs": [
    {
     "name": "stdout",
     "output_type": "stream",
     "text": [
      "\n"
     ]
    }
   ],
   "source": [
    "# on verifie que l'encodage a ete bien fait\n",
    "# i.e on verifie que chaque ghm a bien un encodage unique\n",
    "# si la boucle ne print rien, c'est que l'encodage ne presente pas de probleme\n",
    "cur_ghm = -1\n",
    "for ghm in encoding_ghm.keys():\n",
    "    if np.argmax(encoding_ghm[ghm]) != cur_ghm:\n",
    "        print(ghm)\n",
    "    cur_ghm += 1"
   ]
  },
  {
   "cell_type": "code",
   "execution_count": 12,
   "id": "fd2bbc23-e112-41c1-a578-4af5d65196e4",
   "metadata": {
    "tags": []
   },
   "outputs": [
    {
     "name": "stderr",
     "output_type": "stream",
     "text": [
      "100%|██████████| 10051/10051 [00:03<00:00, 2747.11it/s]\n"
     ]
    }
   ],
   "source": [
    "ghm_patient_encoded = []\n",
    "for i in tqdm(range(len(base_patient))):\n",
    "    ghm_row = p_soins.iloc[i].dropna().tolist()[1:]\n",
    "    encoding_ghm_row = []\n",
    "    for ghm in ghm_row:\n",
    "        encoded_ghm = encoding_ghm[ghm]\n",
    "        encoding_ghm_row.append(encoded_ghm)\n",
    "    ghm_patient_encoded.append(encoding_ghm_row)"
   ]
  },
  {
   "cell_type": "code",
   "execution_count": 13,
   "id": "5f61e329-4ed5-4a6f-841e-5289307761d2",
   "metadata": {
    "tags": []
   },
   "outputs": [
    {
     "name": "stdout",
     "output_type": "stream",
     "text": [
      "254\n"
     ]
    }
   ],
   "source": [
    "max_len = 0\n",
    "for p_soins_encoded in ghm_patient_encoded:\n",
    "    max_len = max(max_len, len(p_soins_encoded))\n",
    "    \n",
    "print(max_len)"
   ]
  },
  {
   "cell_type": "code",
   "execution_count": 14,
   "id": "6d6672df-5cd4-4d16-8517-65681a5b86ca",
   "metadata": {
    "tags": []
   },
   "outputs": [],
   "source": [
    "for i in range(len(ghm_patient_encoded)):\n",
    "    while len(ghm_patient_encoded[i]) < max_len:\n",
    "        ghm_patient_encoded[i].append(encoding_ghm[''])"
   ]
  },
  {
   "cell_type": "markdown",
   "id": "8861e315-5594-43e3-9393-2dc1f1bb92f4",
   "metadata": {},
   "source": [
    "### Encoding des patients"
   ]
  },
  {
   "cell_type": "code",
   "execution_count": 10,
   "id": "91f966dd-7184-490a-a1a8-d98908e35145",
   "metadata": {
    "tags": []
   },
   "outputs": [],
   "source": [
    "items_to_keep = [\"date_h0\", \"y_nais\", \"BEN_SEX_COD\", \"Mort\", \"Nb_survie\", \"Nb_hospit\", \"CHOC\"]"
   ]
  },
  {
   "cell_type": "code",
   "execution_count": 11,
   "id": "ec6291ce-cefa-473a-8043-a4d2dc3f98a9",
   "metadata": {
    "tags": []
   },
   "outputs": [],
   "source": [
    "patient = base_patient[items_to_keep]"
   ]
  },
  {
   "cell_type": "code",
   "execution_count": 17,
   "id": "ab3aa0b9-d860-4b97-88aa-cd0e7b1d1dc1",
   "metadata": {
    "tags": []
   },
   "outputs": [],
   "source": [
    "def flatten(l):\n",
    "    return [item for sublist in l for item in sublist]"
   ]
  },
  {
   "cell_type": "code",
   "execution_count": 18,
   "id": "0b482fd7-9d06-48ab-8295-5fb6f1f13c66",
   "metadata": {
    "tags": []
   },
   "outputs": [
    {
     "name": "stderr",
     "output_type": "stream",
     "text": [
      "100%|██████████| 10051/10051 [03:43<00:00, 44.97it/s]\n"
     ]
    }
   ],
   "source": [
    "X_patient = []\n",
    "for i in tqdm(range(len(patient))):\n",
    "    row_patient = list(patient.iloc[i])\n",
    "    ghm_patient = flatten(ghm_patient_encoded[i])\n",
    "    X_patient_i = row_patient + ghm_patient\n",
    "    X_patient.append(X_patient_i)"
   ]
  },
  {
   "cell_type": "markdown",
   "id": "8cbd74be-00c5-4a53-9907-ed6e6be56632",
   "metadata": {},
   "source": [
    "One-Hot Encoding est trop lourd: pouir chaque patient, on a un vecteur de dimension 254 x 2346 = 595,884 pour encoder les GHM"
   ]
  },
  {
   "cell_type": "markdown",
   "id": "7da0c58b-5f36-44f8-96ca-9be4a036c260",
   "metadata": {},
   "source": [
    "# Vecteur des parcours de GHM"
   ]
  },
  {
   "cell_type": "code",
   "execution_count": 12,
   "id": "6491fea8-5070-4a9c-9934-d96ddce9a3cf",
   "metadata": {
    "tags": []
   },
   "outputs": [],
   "source": [
    "X_patient = []\n",
    "for i in range(len(base_patient)):\n",
    "    ghm_row = p_soins.iloc[i].dropna().tolist()[1:]\n",
    "    X_patient.append(ghm_row)"
   ]
  },
  {
   "cell_type": "markdown",
   "id": "992cfaa1-9410-46c1-a3d6-a904539102af",
   "metadata": {},
   "source": [
    "# Formules de distance entre string"
   ]
  },
  {
   "cell_type": "code",
   "execution_count": 13,
   "id": "c0e4da1a-3fee-48a8-89ba-ccce5a3cc64c",
   "metadata": {
    "tags": []
   },
   "outputs": [],
   "source": [
    "def string_distance(s1, s2):\n",
    "    # Compute distance between strings using the jaro winkler similarity formula\n",
    "    return 1 - jaro_winkler_similarity(s1, s2)\n",
    "\n",
    "def convert_to_sentence(arr):\n",
    "    sentence = ''\n",
    "    for x in arr:\n",
    "        sentence += x + \",\"\n",
    "    return sentence[:-1]\n",
    "\n",
    "def jaro_winkler_distance(arr1, arr2):\n",
    "    s1 = convert_to_sentence(arr1)\n",
    "    s2 = convert_to_sentence(arr2)\n",
    "    return abs(string_distance(s1, s2))"
   ]
  },
  {
   "cell_type": "code",
   "execution_count": 20,
   "id": "5572d317-0991-4a50-8279-2574e4cb06e4",
   "metadata": {
    "tags": []
   },
   "outputs": [],
   "source": [
    "def custom_pairwise_distances(data, show=False):\n",
    "    distances = []\n",
    "    \n",
    "    if not show:\n",
    "        for i in range(len(data)):\n",
    "            distance_i = []\n",
    "            for j in range(len(data)):\n",
    "                distance_i_j = jaro_winkler_distance(data[i], data[j])\n",
    "                distance_i.append(distance_i_j)\n",
    "            distances.append(distance_i)\n",
    "        return np.array(distances)\n",
    "            \n",
    "    for i in tqdm(range(len(data))):\n",
    "        distance_i = []\n",
    "        for j in range(len(data)):\n",
    "            distance_i_j = jaro_winkler_distance(data[i], data[j])\n",
    "            distance_i.append(distance_i_j)\n",
    "        distances.append(distance_i)\n",
    "            \n",
    "    return np.array(distances)"
   ]
  },
  {
   "cell_type": "markdown",
   "id": "eaaa043e-678a-4ed4-acbf-d0a1495dfee8",
   "metadata": {},
   "source": [
    "##### Un exemple de clustering K-Medoids pour voir comment ca marche"
   ]
  },
  {
   "cell_type": "code",
   "execution_count": 22,
   "id": "3e0758df-d37e-4ef1-a6fb-7f68f39e2582",
   "metadata": {
    "tags": []
   },
   "outputs": [
    {
     "name": "stdout",
     "output_type": "stream",
     "text": [
      "String 0: Cluster 0\n",
      "String 1: Cluster 1\n",
      "String 2: Cluster 4\n",
      "String 3: Cluster 3\n",
      "String 4: Cluster 2\n"
     ]
    }
   ],
   "source": [
    "# List of strings\n",
    "strings = [\n",
    "    [\"butterfly\", \"dragonfly\", \"ladybug\", \"grasshopper\", \"caterpillar\", \"bumblebee\", \"ant\", \"firefly\", \"beetle\", \"mosquito\"],\n",
    "    [\"piano\", \"violin\", \"cello\", \"trumpet\", \"guitar\", \"drums\", \"saxophone\", \"clarinet\", \"flute\", \"harmonica\"],\n",
    "    [\"pizza\", \"hamburger\", \"hotdog\", \"taco\", \"sushi\", \"ramen\", \"spaghetti\", \"steak\", \"burrito\", \"fajita\"],\n",
    "    [\"ocean\", \"river\", \"lake\", \"waterfall\", \"stream\", \"pond\", \"rapids\", \"canal\", \"fjord\", \"delta\"],\n",
    "    [\"book\", \"newspaper\", \"magazine\", \"novel\", \"comic\", \"journal\", \"catalog\", \"encyclopedia\", \"dictionary\", \"almanac\"]\n",
    "]\n",
    "\n",
    "# Compute pairwise distances between strings using the custom distance metric\n",
    "distances = custom_pairwise_distances(strings)\n",
    "\n",
    "# Cluster strings using K-Medoids with 2 clusters\n",
    "kmedoids = KMedoids(n_clusters=5, metric='precomputed', random_state=0)\n",
    "clusters = kmedoids.fit_predict(distances)\n",
    "\n",
    "# Print cluster assignments\n",
    "for i, cluster in enumerate(clusters):\n",
    "    print(f'String {i}: Cluster {cluster}')"
   ]
  },
  {
   "cell_type": "markdown",
   "id": "612ed4bf-dc7a-47c1-8a12-a00f5cabb658",
   "metadata": {},
   "source": [
    "# K-Medoids sur les parcours de soins"
   ]
  },
  {
   "cell_type": "markdown",
   "id": "c3986935-83be-4643-8ec7-6a4ed6f2f517",
   "metadata": {},
   "source": [
    "### Calculate the custom pairwise distances"
   ]
  },
  {
   "cell_type": "code",
   "execution_count": 26,
   "id": "3cd50e7c-f3d2-4cf2-9c33-c4f449a71871",
   "metadata": {
    "tags": []
   },
   "outputs": [
    {
     "name": "stderr",
     "output_type": "stream",
     "text": [
      "100%|██████████| 10051/10051 [13:31<00:00, 12.39it/s]\n"
     ]
    }
   ],
   "source": [
    "distances = custom_pairwise_distances(X_patient, show=True)"
   ]
  },
  {
   "cell_type": "markdown",
   "id": "f46b2f4f-3407-4cf1-85d7-0107141e3c11",
   "metadata": {},
   "source": [
    "## Determiner le nombre de clusters"
   ]
  },
  {
   "cell_type": "markdown",
   "id": "3f082b71-03da-4bfc-93a7-bf7005c25bd6",
   "metadata": {},
   "source": [
    "#### Regle du coude pour déterminer le nombre optimal de clusters"
   ]
  },
  {
   "cell_type": "code",
   "execution_count": 31,
   "id": "b5b0917f-bb68-443d-a7be-a1d816fa2210",
   "metadata": {
    "tags": []
   },
   "outputs": [
    {
     "name": "stderr",
     "output_type": "stream",
     "text": [
      "100%|██████████| 98/98 [01:01<00:00,  1.59it/s]\n"
     ]
    }
   ],
   "source": [
    "inertia=[]\n",
    "nb_clusters_max = int(np.sqrt(len(base_patient)))\n",
    "\n",
    "for n_clusters in tqdm(range(2, nb_clusters_max)):\n",
    "    kmedoids = KMedoids(n_clusters=n_clusters, metric='precomputed')\n",
    "    kmedoids.fit(distances)\n",
    "    \n",
    "    inertia.append(kmedoids.inertia_)"
   ]
  },
  {
   "cell_type": "code",
   "execution_count": 32,
   "id": "3fe8c766-579a-43b3-b6b1-0caf6a54d826",
   "metadata": {
    "tags": []
   },
   "outputs": [
    {
     "data": {
      "image/png": "[encoded data removed]",
      "text/plain": [
       "<Figure size 500x400 with 1 Axes>"
      ]
     },
     "metadata": {},
     "output_type": "display_data"
    }
   ],
   "source": [
    "fig, ax = plt.subplots(1, 1, figsize=(5, 4))\n",
    "ax.plot(range(2, len(inertia)+2), inertia, c = 'r', label = 'inertie', marker='o')\n",
    "ax.legend(loc='best')\n",
    "ax.grid('on')\n",
    "ax.set_xlabel('Nombre de clusters')\n",
    "ax.set_ylabel('Coût du modèle (Inertie)')\n",
    "ax.set_title('Inertie en fonction du nombre de clusters')\n",
    "plt.show()"
   ]
  },
  {
   "cell_type": "code",
   "execution_count": 33,
   "id": "75f31092-0497-48c5-9b64-91c367d32a9f",
   "metadata": {
    "tags": []
   },
   "outputs": [],
   "source": [
    "%%capture capt\n",
    "!pip install kneed[plot]\n",
    "\n",
    "from kneed import KneeLocator\n",
    "\n",
    "k_elbow = KneeLocator(\n",
    "  x=range(2, nb_clusters_max), \n",
    "  y=inertia, \n",
    "  curve=\"convex\", \n",
    "  direction=\"decreasing\").elbow"
   ]
  },
  {
   "cell_type": "code",
   "execution_count": 34,
   "id": "147aeced-7a32-4496-b877-aa5a97dab8b0",
   "metadata": {
    "tags": []
   },
   "outputs": [
    {
     "name": "stdout",
     "output_type": "stream",
     "text": [
      "La méthode du coude nous indique que le nombre de clusters a faire = 19\n"
     ]
    }
   ],
   "source": [
    "print(f\"La méthode du coude nous indique que le nombre de clusters a faire = {k_elbow}\")"
   ]
  },
  {
   "cell_type": "markdown",
   "id": "79b2ae9c-48c2-4a88-a2f8-63251eff35f2",
   "metadata": {},
   "source": [
    "### BIC et Silhouette Scores"
   ]
  },
  {
   "cell_type": "markdown",
   "id": "c86966bf-88cf-4542-8545-b5852b879f3c",
   "metadata": {},
   "source": [
    "D'après ce papier: https://arxiv.org/abs/2212.12189 </br>\n",
    "et ce code (https://github.com/smazzanti/are_you_still_using_elbow_method/blob/main/are-you-still-using-elbow-method.ipynb) qui compare plusieurs méthodes (Coude, Silhouette, Davies-Bouldin, Calinski-Harabasz, BIC), </br>\n",
    "utiliser la méthode du coude n'est pas la meilleure option; il faut plutôt chercher à maximiser le score BIC, ou maximiser la silhouette (BIC donne des résultats très légèrement meilleurs). "
   ]
  },
  {
   "cell_type": "markdown",
   "id": "70e9d2d9-c92c-41b7-8ae3-006cb0a56cd4",
   "metadata": {},
   "source": [
    "Tout est résumé ici: https://towardsdatascience.com/are-you-still-using-the-elbow-method-5d271b3063bd"
   ]
  },
  {
   "cell_type": "code",
   "execution_count": 35,
   "id": "eacda7eb-7ddd-4d25-b6e4-1e4a66cb5a81",
   "metadata": {
    "tags": []
   },
   "outputs": [],
   "source": [
    "import warnings\n",
    "warnings.simplefilter(\"ignore\")"
   ]
  },
  {
   "cell_type": "code",
   "execution_count": 36,
   "id": "859b31f6-a736-460b-93ca-5c1c34629150",
   "metadata": {
    "tags": []
   },
   "outputs": [],
   "source": [
    "def bic_score(X, labels):\n",
    "\n",
    "    n_points = len(labels)\n",
    "    n_clusters = len(set(labels))\n",
    "    n_dimensions = np.shape(X)[1]\n",
    "\n",
    "    n_parameters = (n_clusters - 1) + (n_dimensions * n_clusters) + 1\n",
    "\n",
    "    loglikelihood = 0\n",
    "    for label_name in set(labels):\n",
    "        X_cluster = X[labels == label_name]\n",
    "        n_points_cluster = len(X_cluster)\n",
    "        centroid = np.mean(X_cluster, axis=0)\n",
    "        variance = np.sum((X_cluster - centroid) ** 2) / (len(X_cluster) - 1)\n",
    "        loglikelihood += \\\n",
    "          n_points_cluster * np.log(n_points_cluster) \\\n",
    "          - n_points_cluster * np.log(n_points) \\\n",
    "          - n_points_cluster * n_dimensions / 2 * np.log(2 * np.pi * variance) \\\n",
    "          - (n_points_cluster - 1) / 2\n",
    "\n",
    "        bic = loglikelihood - (n_parameters / 2) * np.log(n_points)\n",
    "\n",
    "    return bic"
   ]
  },
  {
   "cell_type": "code",
   "execution_count": null,
   "id": "1cc11c7d-e3ff-447c-b54c-6d6f3bf2e57e",
   "metadata": {},
   "outputs": [],
   "source": [
    "\n",
    "    \n",
    "    inertia.append(kmedoids.inertia_)"
   ]
  },
  {
   "cell_type": "code",
   "execution_count": 41,
   "id": "11091604-03a2-4188-940c-86dd1d2dcd9f",
   "metadata": {
    "tags": []
   },
   "outputs": [
    {
     "name": "stderr",
     "output_type": "stream",
     "text": [
      "100%|██████████| 98/98 [10:58<00:00,  6.72s/it]\n"
     ]
    }
   ],
   "source": [
    "bic_scores = []\n",
    "silhouette_scores = []\n",
    "nb_clusters_max = int(np.sqrt(len(base_patient)))\n",
    "\n",
    "for n_clusters in tqdm(range(2, nb_clusters_max)):\n",
    "    kmedoids = KMedoids(n_clusters=n_clusters, metric='precomputed')\n",
    "    kmedoids.fit(distances)\n",
    "    \n",
    "    try:\n",
    "        bic = bic_score(distances, kmedoids.labels_)\n",
    "        bic_scores.append(bic)\n",
    "    except:\n",
    "        bic_scores.append(-float('inf'))\n",
    "        \n",
    "    silhouette = silhouette_score(distances, kmedoids.labels_)\n",
    "    silhouette_scores.append(silhouette)"
   ]
  },
  {
   "cell_type": "code",
   "execution_count": 42,
   "id": "6b128188-dd71-4b71-9164-79b3e34e623c",
   "metadata": {
    "tags": []
   },
   "outputs": [
    {
     "data": {
      "image/png": "[encoded data removed]",
      "text/plain": [
       "<Figure size 700x400 with 2 Axes>"
      ]
     },
     "metadata": {},
     "output_type": "display_data"
    }
   ],
   "source": [
    "fig, ax = plt.subplots(1, 2, figsize=(7, 4))\n",
    "\n",
    "#plot bic score\n",
    "ax[0].plot(range(2, len(bic_scores)+2), bic_scores, c = 'r', label = 'BIC score', marker='o')\n",
    "ax[0].legend(loc='best')\n",
    "ax[0].grid('on')\n",
    "ax[0].set_xlabel('Nombre de clusters')\n",
    "ax[0].set_ylabel('BIC Score')\n",
    "ax[0].set_title('BIC score en fonction du nombre de clusters')\n",
    "\n",
    "#plot silhouette scores\n",
    "ax[1].plot(range(2, len(silhouette_scores)+2), silhouette_scores, c = 'r', label = 'Silhouette score', marker='o')\n",
    "ax[1].legend(loc='best')\n",
    "ax[1].grid('on')\n",
    "ax[1].set_xlabel('Nombre de clusters')\n",
    "ax[1].set_ylabel('Silhouette Score')\n",
    "ax[1].set_title('Silhouette score en fonction du nombre de clusters')\n",
    "\n",
    "plt.show()"
   ]
  }
 ],
 "metadata": {
  "kernelspec": {
   "display_name": "Python 3 (ipykernel)",
   "language": "python",
   "name": "python3"
  },
  "language_info": {
   "codemirror_mode": {
    "name": "ipython",
    "version": 3
   },
   "file_extension": ".py",
   "mimetype": "text/x-python",
   "name": "python",
   "nbconvert_exporter": "python",
   "pygments_lexer": "ipython3",
   "version": "3.10.8"
  }
 },
 "nbformat": 4,
 "nbformat_minor": 5
}
