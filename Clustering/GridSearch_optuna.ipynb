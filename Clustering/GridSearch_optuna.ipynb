{
 "cells": [
  {
   "cell_type": "code",
   "execution_count": 1,
   "id": "2c6edb99-251b-47f4-bd68-dc4f88479ecf",
   "metadata": {
    "tags": []
   },
   "outputs": [],
   "source": [
    "%%capture capt\n",
    "!pip install scikit-learn-extra\n",
    "!pip install optuna"
   ]
  },
  {
   "cell_type": "code",
   "execution_count": 2,
   "id": "1fca53a4-1b42-4bf0-aa25-18b45b42d3a4",
   "metadata": {
    "tags": []
   },
   "outputs": [],
   "source": [
    "%%capture capt\n",
    "import numpy as np\n",
    "from sklearn_extra.cluster import KMedoids\n",
    "from sklearn.metrics.pairwise import pairwise_distances\n",
    "from sklearn.metrics import silhouette_score\n",
    "from sklearn.preprocessing import MinMaxScaler\n",
    "import pandas as pd\n",
    "from tqdm import tqdm\n",
    "import matplotlib.pyplot as plt\n",
    "import multiprocessing\n",
    "from multiprocessing import Pool\n",
    "import pickle\n",
    "import random\n",
    "import optuna"
   ]
  },
  {
   "cell_type": "markdown",
   "id": "14d6eeb9-75c7-46ac-96ea-4eda76342efb",
   "metadata": {},
   "source": [
    "### Importation Data"
   ]
  },
  {
   "cell_type": "code",
   "execution_count": 3,
   "id": "012be864-176f-45c9-a6bf-e385512e9f15",
   "metadata": {
    "tags": []
   },
   "outputs": [],
   "source": [
    "base_patient = pd.read_csv(\"../data/profil_patient.csv\")"
   ]
  },
  {
   "cell_type": "code",
   "execution_count": 4,
   "id": "20ccfe54-c99e-4265-98f1-9e68875ce389",
   "metadata": {
    "tags": []
   },
   "outputs": [],
   "source": [
    "%%capture capt\n",
    "p_soins = pd.read_csv(\"../data/parcours_soins.csv\")"
   ]
  },
  {
   "cell_type": "code",
   "execution_count": 5,
   "id": "56b52225-a8b7-4efe-91fd-248f2415ea3f",
   "metadata": {
    "tags": []
   },
   "outputs": [],
   "source": [
    "X_patient = []\n",
    "for i in range(len(base_patient)):\n",
    "    ghm_row = p_soins.iloc[i].dropna().tolist()[1:]\n",
    "    X_patient.append(ghm_row)"
   ]
  },
  {
   "cell_type": "markdown",
   "id": "a8e95c5f-0cae-4a01-a61a-cfd67dda7c0c",
   "metadata": {},
   "source": [
    "### Acceder aux fonctions de métrique"
   ]
  },
  {
   "cell_type": "code",
   "execution_count": 6,
   "id": "06dc3ee4-4dcb-4707-8217-f80eb0bd4aa1",
   "metadata": {
    "tags": []
   },
   "outputs": [
    {
     "name": "stdout",
     "output_type": "stream",
     "text": [
      "Installation/Importation des librairies necessaires.\n"
     ]
    }
   ],
   "source": [
    "%run Metriques.ipynb"
   ]
  },
  {
   "cell_type": "code",
   "execution_count": 7,
   "id": "59c134eb-ea39-4683-907b-a6640dc852bd",
   "metadata": {
    "tags": []
   },
   "outputs": [],
   "source": [
    "global weights\n",
    "\n",
    "def custom_dist(arr1, arr2):\n",
    "    return custom_distance(arr1, arr2, weights=weights)\n",
    "\n",
    "def custom_dist_norm(arr1, arr2):\n",
    "    return custom_distance_norm(arr1, arr2, weights=weights)\n",
    "\n",
    "def filter_dist(arr1, arr2):\n",
    "    return distance_filter(arr1, arr2, weights=weights)\n",
    "\n",
    "def filter_dist_4weights(arr1, arr2):\n",
    "    return distance_filter_4weights(arr1, arr2, weights=weights)"
   ]
  },
  {
   "cell_type": "markdown",
   "id": "060ded09-a0ed-495c-a653-da1f03e1034f",
   "metadata": {},
   "source": [
    "### Calculer les distances"
   ]
  },
  {
   "cell_type": "code",
   "execution_count": 8,
   "id": "c68068ab-8f24-4a87-a55f-2ba095974770",
   "metadata": {
    "tags": []
   },
   "outputs": [
    {
     "name": "stdout",
     "output_type": "stream",
     "text": [
      "CPU cores available -> 72\n"
     ]
    }
   ],
   "source": [
    "nb_cpu_cores = multiprocessing.cpu_count()\n",
    "print(f\"CPU cores available -> {nb_cpu_cores}\")"
   ]
  },
  {
   "cell_type": "code",
   "execution_count": 9,
   "id": "49f9985f-a687-4ea5-b4ac-fba8092fb281",
   "metadata": {
    "tags": []
   },
   "outputs": [],
   "source": [
    "%run Distances.ipynb"
   ]
  },
  {
   "cell_type": "markdown",
   "id": "665be765-4a5d-40b9-b3e2-5a30a9c4d334",
   "metadata": {},
   "source": [
    "### Grid Search"
   ]
  },
  {
   "cell_type": "markdown",
   "id": "5dcfda1f-1755-4c05-af5f-432e13285b7d",
   "metadata": {},
   "source": [
    "### Parameters"
   ]
  },
  {
   "cell_type": "code",
   "execution_count": 10,
   "id": "74fd3ed7-3566-400b-90a9-9dfbd78b93cc",
   "metadata": {
    "tags": []
   },
   "outputs": [],
   "source": [
    "list_weights = [[i, j, k, l] for i in range(0, 101, 5) for j in range(0, i, 5) for k in range(0, j, 5) for l in range(0, k, 5)]"
   ]
  },
  {
   "cell_type": "code",
   "execution_count": 11,
   "id": "8e5dfbdc-3ea0-494c-8860-4fbf545913f1",
   "metadata": {
    "tags": []
   },
   "outputs": [],
   "source": [
    "for i in range(len(list_weights)):\n",
    "    for k in range(len(list_weights[0])):\n",
    "        if list_weights[i][k] == 0:\n",
    "            list_weights[i][k] = 1"
   ]
  },
  {
   "cell_type": "raw",
   "id": "9f9475a2-7d9b-4322-8da2-db55c9f448c3",
   "metadata": {
    "tags": []
   },
   "source": [
    "random.shuffle(list_weights)"
   ]
  },
  {
   "cell_type": "code",
   "execution_count": 12,
   "id": "4872b479-3bea-407b-aac8-38d97d4deef8",
   "metadata": {
    "tags": []
   },
   "outputs": [],
   "source": [
    "list_weights = [[1, 1, 1, 1]] + list_weights"
   ]
  },
  {
   "cell_type": "code",
   "execution_count": 13,
   "id": "b8f6fd07-5af2-4e07-ad60-e56e673bf0ce",
   "metadata": {
    "tags": []
   },
   "outputs": [],
   "source": [
    "clusters = range(5, 22, 2)"
   ]
  },
  {
   "cell_type": "markdown",
   "id": "7ca46392-cfac-4060-a4b5-2e244bbfba92",
   "metadata": {},
   "source": [
    "#### Calculate distances"
   ]
  },
  {
   "cell_type": "code",
   "execution_count": 14,
   "id": "03aa4d12-aee4-4b4b-943d-b0aa6f16b96d",
   "metadata": {
    "tags": []
   },
   "outputs": [],
   "source": [
    "weights = list_weights[0]"
   ]
  },
  {
   "cell_type": "code",
   "execution_count": 15,
   "id": "399abfdf-fa1e-4cf3-ad1b-5f0ffcbb5a65",
   "metadata": {
    "tags": []
   },
   "outputs": [],
   "source": [
    "dict_distance_function = dict()\n",
    "dict_distance_function['jaro_winkler'] = jaro_winkler_distance\n",
    "dict_distance_function['levenshtein'] = levenshtein_distance\n",
    "dict_distance_function['custom'] = custom_dist\n",
    "dict_distance_function['custom_norm'] = custom_dist_norm\n",
    "dict_distance_function['filter_dist'] = filter_dist\n",
    "dict_distance_function['filter_dist_4weights'] = filter_dist_4weights"
   ]
  },
  {
   "cell_type": "code",
   "execution_count": 16,
   "id": "f95fecce-c506-4f0f-b0e5-c4e594d749cc",
   "metadata": {
    "tags": []
   },
   "outputs": [],
   "source": [
    "def calculate_distances(data, distance, scaled=False):\n",
    "    distance_function = dict_distance_function[distance]\n",
    "    distances = custom_pairwise_distances(data, distance_function)\n",
    "    \n",
    "    if scaled:\n",
    "        scale_distances(distances)\n",
    "    return distances"
   ]
  },
  {
   "cell_type": "markdown",
   "id": "72ae5728-2065-47cc-a0c1-14a79477e62f",
   "metadata": {},
   "source": [
    "### Calculate clusters"
   ]
  },
  {
   "cell_type": "code",
   "execution_count": 17,
   "id": "0740de27-7dea-41ac-b99a-a69f9366224d",
   "metadata": {
    "tags": []
   },
   "outputs": [],
   "source": [
    "def get_kmedoids(n_clusters, distances):\n",
    "    kmedoids = KMedoids(n_clusters=n_clusters, metric='precomputed', init='k-medoids++')\n",
    "    kmedoids.fit(distances)\n",
    "    return kmedoids"
   ]
  },
  {
   "cell_type": "code",
   "execution_count": 18,
   "id": "920eeb6a-8db1-4b1a-96be-6ea784007365",
   "metadata": {
    "tags": []
   },
   "outputs": [],
   "source": [
    "def ajout_cluster_base(kmedoids, n_clusters):\n",
    "    base_patient_cluster = base_patient.drop(columns=[\"cluster\"])\n",
    "    for i in range(1, n_clusters+1):\n",
    "        base_patient_cluster[\"cluster\"+str(i)] = [0]*len(base_patient_cluster)\n",
    "    for i, label in enumerate(kmedoids.labels_):\n",
    "        base_patient_cluster.loc[i, \"cluster\"+str(label+1)] = 1\n",
    "    return base_patient_cluster\n",
    "        \n",
    "def ajout_p_soins(base_patient_cluster):\n",
    "    base_patient_cluster['p_soins'] = ['']*len(base_patient_cluster)\n",
    "    for i, patient in enumerate(X_patient):\n",
    "        p_soin = convert_to_sentence(patient)\n",
    "        base_patient_cluster.loc[i, 'p_soins'] = p_soin\n",
    "    return base_patient_cluster"
   ]
  },
  {
   "cell_type": "code",
   "execution_count": 19,
   "id": "785085e1-0ff6-4907-85cf-0133596a51cf",
   "metadata": {
    "tags": []
   },
   "outputs": [],
   "source": [
    "def get_cluster_score(n_clusters, distances):\n",
    "    kmedoids = get_kmedoids(n_clusters, distances)\n",
    "    base_patient_cluster = ajout_cluster_base(kmedoids, n_clusters)\n",
    "    base_patient_cluster = ajout_p_soins(base_patient_cluster)\n",
    "    base_patient_cluster.to_csv(\"../data/custom_metric/grid_search.csv\", index=False)\n",
    "    %run Cluster_assessment.ipynb\n",
    "    score = get_score()\n",
    "    return score"
   ]
  },
  {
   "cell_type": "code",
   "execution_count": 20,
   "id": "f47871f4-d5f3-4add-88b7-959523337cf8",
   "metadata": {
    "tags": []
   },
   "outputs": [],
   "source": [
    "def get_weights_score(distance, weights_tested, scaled=True, cv=2):\n",
    "    \n",
    "    global weights\n",
    "    if weights_tested.get(get_str_weights(weights)):\n",
    "        return weights_tested[get_str_weights(weights)]        \n",
    "    \n",
    "    distances = calculate_distances(X_patient, distance, scaled=scaled)\n",
    "\n",
    "    max_score = -np.inf\n",
    "    best_n_clusters = 0\n",
    "    for n_clusters in clusters:\n",
    "        score = np.mean([get_cluster_score(n_clusters, distances) for _ in range(cv)])\n",
    "        if score > max_score:\n",
    "            max_score = score\n",
    "            best_n_clusters = n_clusters\n",
    "    return max_score, best_n_clusters"
   ]
  },
  {
   "cell_type": "markdown",
   "id": "c2b53fc0-a3e1-48af-b612-705b08f1c573",
   "metadata": {},
   "source": [
    "# Optuna GridSearch"
   ]
  },
  {
   "cell_type": "code",
   "execution_count": 21,
   "id": "63e6b986-04dc-491b-9413-26e0092d4063",
   "metadata": {
    "tags": []
   },
   "outputs": [],
   "source": [
    "path_dict = '../data/grid_search/gridSearch_filter_4weights.pickle'"
   ]
  },
  {
   "cell_type": "code",
   "execution_count": 22,
   "id": "e198e1c7-5d10-4481-b286-9602578ac3e3",
   "metadata": {
    "tags": []
   },
   "outputs": [
    {
     "name": "stdout",
     "output_type": "stream",
     "text": [
      "9\n"
     ]
    }
   ],
   "source": [
    "try:\n",
    "    with open(path_dict, 'rb') as handle:\n",
    "        weights_tested = pickle.load(handle)\n",
    "except:\n",
    "    weights_tested = {}\n",
    "    \n",
    "print(len(weights_tested))"
   ]
  },
  {
   "cell_type": "code",
   "execution_count": 23,
   "id": "8fa184d6-7bf0-43b3-abde-c7911790f6ad",
   "metadata": {
    "tags": []
   },
   "outputs": [],
   "source": [
    "def get_str_weights(w):\n",
    "    return str(w[0]) + \" \" + str(w[1]) + \" \" + str(w[2]) + \" \" + str(w[3])"
   ]
  },
  {
   "cell_type": "code",
   "execution_count": 24,
   "id": "c3c336ad-4def-4a2e-96a4-faa89d2d43d3",
   "metadata": {
    "tags": []
   },
   "outputs": [],
   "source": [
    "def find_best_weights(trial):\n",
    "    i = trial.suggest_int('i', 0, len(list_weights)-1)\n",
    "    \n",
    "    global weights\n",
    "    weights = list_weights[i]\n",
    "    \n",
    "    score, nb_clusters = get_weights_score('filter_dist_4weights', weights_tested, scaled=True, cv=1)\n",
    "    weights_tested[f\"n_clusters:{nb_clusters}, weights: {get_str_weights(weights)}\"] = score\n",
    "    with open(path_dict, 'wb') as handle:\n",
    "        pickle.dump(weights_tested, handle)\n",
    "    return score"
   ]
  },
  {
   "cell_type": "code",
   "execution_count": 25,
   "id": "6d685b72-8aa8-49c0-a4ce-bcc080ea240b",
   "metadata": {
    "tags": []
   },
   "outputs": [
    {
     "name": "stdout",
     "output_type": "stream",
     "text": [
      "sqlite:///4weights_study.db\n"
     ]
    }
   ],
   "source": [
    "study_name = \"4weights_study\"  # Unique identifier of the study.\n",
    "storage_name = \"sqlite:///{}.db\".format(study_name)\n",
    "print(storage_name)"
   ]
  },
  {
   "cell_type": "code",
   "execution_count": null,
   "id": "468058ef-c9f0-4845-9cb5-38f406bd98c0",
   "metadata": {
    "tags": []
   },
   "outputs": [
    {
     "name": "stderr",
     "output_type": "stream",
     "text": [
      "/opt/mamba/lib/python3.10/site-packages/optuna/progress_bar.py:56: ExperimentalWarning: Progress bar is experimental (supported from v1.2.0). The interface can change in the future.\n",
      "  self._init_valid()\n"
     ]
    },
    {
     "data": {
      "application/vnd.jupyter.widget-view+json": {
       "model_id": "5740e9efc8c14d47aac3bcaec96f4491",
       "version_major": 2,
       "version_minor": 0
      },
      "text/plain": [
       "  0%|          | 0/2993 [00:00<?, ?it/s]"
      ]
     },
     "metadata": {},
     "output_type": "display_data"
    },
    {
     "name": "stdout",
     "output_type": "stream",
     "text": [
      "\u001b[32m[I 2023-04-13 10:36:10,918]\u001b[0m Trial 18 finished with value: 1.2082279018899515e-05 and parameters: {'i': 3846}. Best is trial 1 with value: 1.85647381322038e-05.\u001b[0m\n",
      "\u001b[32m[I 2023-04-13 10:45:31,082]\u001b[0m Trial 19 finished with value: 1.8548273254445637e-05 and parameters: {'i': 80}. Best is trial 1 with value: 1.85647381322038e-05.\u001b[0m\n",
      "\u001b[32m[I 2023-04-13 10:54:56,621]\u001b[0m Trial 20 finished with value: 1.676572980574659e-05 and parameters: {'i': 2364}. Best is trial 1 with value: 1.85647381322038e-05.\u001b[0m\n",
      "\u001b[32m[I 2023-04-13 11:04:13,425]\u001b[0m Trial 21 finished with value: 1.7929329173519945e-05 and parameters: {'i': 1140}. Best is trial 1 with value: 1.85647381322038e-05.\u001b[0m\n",
      "\u001b[32m[I 2023-04-13 11:13:54,277]\u001b[0m Trial 22 finished with value: 1.775879538382395e-05 and parameters: {'i': 3895}. Best is trial 1 with value: 1.85647381322038e-05.\u001b[0m\n",
      "\u001b[32m[I 2023-04-13 11:23:45,210]\u001b[0m Trial 23 finished with value: 1.4083121604331946e-05 and parameters: {'i': 2864}. Best is trial 1 with value: 1.85647381322038e-05.\u001b[0m\n",
      "\u001b[32m[I 2023-04-13 11:33:21,555]\u001b[0m Trial 24 finished with value: 1.036078133456269e-05 and parameters: {'i': 4724}. Best is trial 1 with value: 1.85647381322038e-05.\u001b[0m\n",
      "\u001b[32m[I 2023-04-13 11:42:47,322]\u001b[0m Trial 25 finished with value: 1.775042273919253e-05 and parameters: {'i': 5213}. Best is trial 1 with value: 1.85647381322038e-05.\u001b[0m\n",
      "\u001b[32m[I 2023-04-13 11:52:04,349]\u001b[0m Trial 26 finished with value: 1.855468918479058e-05 and parameters: {'i': 4185}. Best is trial 1 with value: 1.85647381322038e-05.\u001b[0m\n",
      "\u001b[32m[I 2023-04-13 12:01:45,052]\u001b[0m Trial 27 finished with value: 1.2224517870584696e-05 and parameters: {'i': 3616}. Best is trial 1 with value: 1.85647381322038e-05.\u001b[0m\n",
      "\u001b[32m[I 2023-04-13 12:11:15,848]\u001b[0m Trial 28 finished with value: 1.2229446371419654e-05 and parameters: {'i': 4183}. Best is trial 1 with value: 1.85647381322038e-05.\u001b[0m\n",
      "\u001b[32m[I 2023-04-13 12:20:53,734]\u001b[0m Trial 29 finished with value: 1.8555461130217023e-05 and parameters: {'i': 2366}. Best is trial 1 with value: 1.85647381322038e-05.\u001b[0m\n",
      "\u001b[32m[I 2023-04-13 12:30:32,252]\u001b[0m Trial 30 finished with value: 9.901466221861253e-06 and parameters: {'i': 5968}. Best is trial 1 with value: 1.85647381322038e-05.\u001b[0m\n",
      "\u001b[32m[I 2023-04-13 12:40:08,895]\u001b[0m Trial 31 finished with value: 1.856260743445726e-05 and parameters: {'i': 5159}. Best is trial 1 with value: 1.85647381322038e-05.\u001b[0m\n",
      "\u001b[32m[I 2023-04-13 12:49:38,714]\u001b[0m Trial 32 finished with value: 1.1674435483138291e-05 and parameters: {'i': 5144}. Best is trial 1 with value: 1.85647381322038e-05.\u001b[0m\n",
      "\u001b[32m[I 2023-04-13 12:59:34,225]\u001b[0m Trial 33 finished with value: 1.8554585191890722e-05 and parameters: {'i': 4910}. Best is trial 1 with value: 1.85647381322038e-05.\u001b[0m\n",
      "\u001b[32m[I 2023-04-13 13:09:16,989]\u001b[0m Trial 34 finished with value: 1.197512926086741e-05 and parameters: {'i': 4455}. Best is trial 1 with value: 1.85647381322038e-05.\u001b[0m\n",
      "\u001b[32m[I 2023-04-13 13:18:55,317]\u001b[0m Trial 35 finished with value: 1.855238777721396e-05 and parameters: {'i': 5382}. Best is trial 1 with value: 1.85647381322038e-05.\u001b[0m\n",
      "\u001b[32m[I 2023-04-13 13:28:38,445]\u001b[0m Trial 36 finished with value: 1.1078872235478627e-05 and parameters: {'i': 4929}. Best is trial 1 with value: 1.85647381322038e-05.\u001b[0m\n",
      "\u001b[32m[I 2023-04-13 13:38:17,285]\u001b[0m Trial 37 finished with value: 1.2425923465998185e-05 and parameters: {'i': 4559}. Best is trial 1 with value: 1.85647381322038e-05.\u001b[0m\n",
      "\u001b[32m[I 2023-04-13 13:47:53,824]\u001b[0m Trial 38 finished with value: 1.16322958969783e-05 and parameters: {'i': 5714}. Best is trial 1 with value: 1.85647381322038e-05.\u001b[0m\n",
      "\u001b[32m[I 2023-04-13 13:57:29,113]\u001b[0m Trial 39 finished with value: 1.1418220895895156e-05 and parameters: {'i': 3511}. Best is trial 1 with value: 1.85647381322038e-05.\u001b[0m\n",
      "\u001b[32m[I 2023-04-13 14:07:23,074]\u001b[0m Trial 40 finished with value: 1.1149352334239474e-05 and parameters: {'i': 4172}. Best is trial 1 with value: 1.85647381322038e-05.\u001b[0m\n",
      "\u001b[32m[I 2023-04-13 14:18:51,237]\u001b[0m Trial 41 finished with value: 1.4892000028039366e-05 and parameters: {'i': 2423}. Best is trial 1 with value: 1.85647381322038e-05.\u001b[0m\n",
      "\u001b[32m[I 2023-04-13 14:28:44,178]\u001b[0m Trial 42 finished with value: 1.15791041682124e-05 and parameters: {'i': 3125}. Best is trial 1 with value: 1.85647381322038e-05.\u001b[0m\n",
      "\u001b[32m[I 2023-04-13 14:38:21,063]\u001b[0m Trial 43 finished with value: 1.1028488023958346e-05 and parameters: {'i': 5669}. Best is trial 1 with value: 1.85647381322038e-05.\u001b[0m\n",
      "\u001b[32m[I 2023-04-13 14:48:28,517]\u001b[0m Trial 44 finished with value: 1.109143735629747e-05 and parameters: {'i': 4498}. Best is trial 1 with value: 1.85647381322038e-05.\u001b[0m\n"
     ]
    }
   ],
   "source": [
    "study = optuna.create_study(direction = 'maximize', study_name=study_name, storage=storage_name, load_if_exists=True)\n",
    "study.optimize(find_best_weights, n_trials=len(list_weights)//2, show_progress_bar=True)"
   ]
  },
  {
   "cell_type": "code",
   "execution_count": 25,
   "id": "9c7c4357-1e3a-4712-adfe-e4b149944f66",
   "metadata": {
    "tags": []
   },
   "outputs": [
    {
     "data": {
      "text/plain": [
       "{'i': 712}"
      ]
     },
     "execution_count": 25,
     "metadata": {},
     "output_type": "execute_result"
    }
   ],
   "source": [
    "study.best_params"
   ]
  },
  {
   "cell_type": "markdown",
   "id": "8c62eda3-9b52-4258-b2a0-5279e62de3d8",
   "metadata": {},
   "source": [
    "### Check best params found"
   ]
  },
  {
   "cell_type": "code",
   "execution_count": 29,
   "id": "a4236338-81bf-4057-8b63-de3b4b8678fc",
   "metadata": {
    "tags": []
   },
   "outputs": [],
   "source": [
    "index_best_weights = list(study.best_params.values())[0]"
   ]
  },
  {
   "cell_type": "code",
   "execution_count": 30,
   "id": "d91f094d-6e85-4a46-8c2c-8f3da994034f",
   "metadata": {
    "tags": []
   },
   "outputs": [
    {
     "data": {
      "text/plain": [
       "712"
      ]
     },
     "execution_count": 30,
     "metadata": {},
     "output_type": "execute_result"
    }
   ],
   "source": [
    "index_best_weights"
   ]
  },
  {
   "cell_type": "code",
   "execution_count": 31,
   "id": "95801c3f-6b13-4bcf-8c68-f6fd69703ef3",
   "metadata": {
    "tags": []
   },
   "outputs": [
    {
     "data": {
      "text/plain": [
       "[60, 55, 50, 30]"
      ]
     },
     "execution_count": 31,
     "metadata": {},
     "output_type": "execute_result"
    }
   ],
   "source": [
    "list_weights[index_best_weights]"
   ]
  },
  {
   "cell_type": "code",
   "execution_count": 32,
   "id": "508bbaab-5ea3-4364-82d6-26a8d13ed212",
   "metadata": {
    "tags": []
   },
   "outputs": [],
   "source": [
    "global weights\n",
    "weights = list_weights[index_best_weights]\n",
    "best_score = get_weights_score('filter_dist_4weights', scaled=True, cv=3)"
   ]
  },
  {
   "cell_type": "code",
   "execution_count": 33,
   "id": "06198ea7-bc2d-45e5-b811-6f3936098b5c",
   "metadata": {
    "tags": []
   },
   "outputs": [
    {
     "data": {
      "text/plain": [
       "1.4902595147040688e-05"
      ]
     },
     "execution_count": 33,
     "metadata": {},
     "output_type": "execute_result"
    }
   ],
   "source": [
    "best_score"
   ]
  },
  {
   "cell_type": "code",
   "execution_count": 36,
   "id": "39f43087-2012-4909-a24c-8506fc27abb6",
   "metadata": {
    "tags": []
   },
   "outputs": [],
   "source": [
    "nb_keys = 0\n",
    "nb = 0\n",
    "max_ = 0\n",
    "for key in weights_tested.keys():\n",
    "    if weights_tested[key] >= 1:\n",
    "        nb += 1\n",
    "        nb_keys += weights_tested[key]\n",
    "        max_ = max(max_, weights_tested[key])"
   ]
  },
  {
   "cell_type": "code",
   "execution_count": 37,
   "id": "32895b9c-ccdd-4c20-80ee-5470c29d7d99",
   "metadata": {
    "tags": []
   },
   "outputs": [
    {
     "name": "stdout",
     "output_type": "stream",
     "text": [
      "233\n",
      "240\n",
      "2\n"
     ]
    }
   ],
   "source": [
    "print(nb)\n",
    "print(nb_keys)\n",
    "print(max_)"
   ]
  }
 ],
 "metadata": {
  "kernelspec": {
   "display_name": "Python 3 (ipykernel)",
   "language": "python",
   "name": "python3"
  },
  "language_info": {
   "codemirror_mode": {
    "name": "ipython",
    "version": 3
   },
   "file_extension": ".py",
   "mimetype": "text/x-python",
   "name": "python",
   "nbconvert_exporter": "python",
   "pygments_lexer": "ipython3",
   "version": "3.10.9"
  }
 },
 "nbformat": 4,
 "nbformat_minor": 5
}
