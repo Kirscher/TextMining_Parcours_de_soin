{
 "cells": [
  {
   "cell_type": "code",
   "execution_count": 1,
   "id": "2c6edb99-251b-47f4-bd68-dc4f88479ecf",
   "metadata": {
    "tags": []
   },
   "outputs": [],
   "source": [
    "%%capture capt\n",
    "!pip install scikit-learn-extra\n",
    "!pip install optuna"
   ]
  },
  {
   "cell_type": "code",
   "execution_count": 2,
   "id": "1fca53a4-1b42-4bf0-aa25-18b45b42d3a4",
   "metadata": {
    "tags": []
   },
   "outputs": [],
   "source": [
    "%%capture capt\n",
    "import numpy as np\n",
    "from sklearn_extra.cluster import KMedoids\n",
    "from sklearn.metrics.pairwise import pairwise_distances\n",
    "from sklearn.metrics import silhouette_score\n",
    "from sklearn.preprocessing import MinMaxScaler\n",
    "import pandas as pd\n",
    "from tqdm import tqdm\n",
    "import matplotlib.pyplot as plt\n",
    "import multiprocessing\n",
    "from multiprocessing import Pool\n",
    "import pickle\n",
    "import random\n",
    "import optuna"
   ]
  },
  {
   "cell_type": "markdown",
   "id": "14d6eeb9-75c7-46ac-96ea-4eda76342efb",
   "metadata": {},
   "source": [
    "### Importation Data"
   ]
  },
  {
   "cell_type": "code",
   "execution_count": 3,
   "id": "012be864-176f-45c9-a6bf-e385512e9f15",
   "metadata": {
    "tags": []
   },
   "outputs": [],
   "source": [
    "base_patient = pd.read_csv(\"../data/profil_patient.csv\")"
   ]
  },
  {
   "cell_type": "code",
   "execution_count": 4,
   "id": "20ccfe54-c99e-4265-98f1-9e68875ce389",
   "metadata": {
    "tags": []
   },
   "outputs": [],
   "source": [
    "%%capture capt\n",
    "p_soins = pd.read_csv(\"../data/parcours_soins.csv\")"
   ]
  },
  {
   "cell_type": "code",
   "execution_count": 5,
   "id": "56b52225-a8b7-4efe-91fd-248f2415ea3f",
   "metadata": {
    "tags": []
   },
   "outputs": [],
   "source": [
    "X_patient = []\n",
    "for i in range(len(base_patient)):\n",
    "    ghm_row = p_soins.iloc[i].dropna().tolist()[1:]\n",
    "    X_patient.append(ghm_row)"
   ]
  },
  {
   "cell_type": "markdown",
   "id": "a8e95c5f-0cae-4a01-a61a-cfd67dda7c0c",
   "metadata": {},
   "source": [
    "### Acceder aux fonctions de métrique"
   ]
  },
  {
   "cell_type": "code",
   "execution_count": 6,
   "id": "06dc3ee4-4dcb-4707-8217-f80eb0bd4aa1",
   "metadata": {
    "tags": []
   },
   "outputs": [
    {
     "name": "stdout",
     "output_type": "stream",
     "text": [
      "Installation/Importation des librairies necessaires.\n"
     ]
    }
   ],
   "source": [
    "%run Metriques.ipynb"
   ]
  },
  {
   "cell_type": "code",
   "execution_count": 7,
   "id": "59c134eb-ea39-4683-907b-a6640dc852bd",
   "metadata": {
    "tags": []
   },
   "outputs": [],
   "source": [
    "global weights\n",
    "\n",
    "def custom_dist(arr1, arr2):\n",
    "    return custom_distance(arr1, arr2, weights=weights)\n",
    "\n",
    "def custom_dist_norm(arr1, arr2):\n",
    "    return custom_distance_norm(arr1, arr2, weights=weights)\n",
    "\n",
    "def filter_dist(arr1, arr2):\n",
    "    return distance_filter(arr1, arr2, weights=weights)\n",
    "\n",
    "def filter_dist_4weights(arr1, arr2):\n",
    "    return distance_filter_4weights(arr1, arr2, weights=weights)"
   ]
  },
  {
   "cell_type": "markdown",
   "id": "060ded09-a0ed-495c-a653-da1f03e1034f",
   "metadata": {},
   "source": [
    "### Calculer les distances"
   ]
  },
  {
   "cell_type": "code",
   "execution_count": 8,
   "id": "c68068ab-8f24-4a87-a55f-2ba095974770",
   "metadata": {
    "tags": []
   },
   "outputs": [
    {
     "name": "stdout",
     "output_type": "stream",
     "text": [
      "CPU cores available -> 72\n"
     ]
    }
   ],
   "source": [
    "nb_cpu_cores = multiprocessing.cpu_count()\n",
    "print(f\"CPU cores available -> {nb_cpu_cores}\")"
   ]
  },
  {
   "cell_type": "code",
   "execution_count": 9,
   "id": "49f9985f-a687-4ea5-b4ac-fba8092fb281",
   "metadata": {
    "tags": []
   },
   "outputs": [],
   "source": [
    "%run Distances.ipynb"
   ]
  },
  {
   "cell_type": "markdown",
   "id": "665be765-4a5d-40b9-b3e2-5a30a9c4d334",
   "metadata": {},
   "source": [
    "### Grid Search"
   ]
  },
  {
   "cell_type": "markdown",
   "id": "5dcfda1f-1755-4c05-af5f-432e13285b7d",
   "metadata": {},
   "source": [
    "### Parameters"
   ]
  },
  {
   "cell_type": "raw",
   "id": "25e28b90-f130-4da9-b7dd-8a3b0b57eaa5",
   "metadata": {
    "tags": []
   },
   "source": [
    "list_weights = [[i, j, k, l] for i in range(0, 101, 5) for j in range(0, i, 5) for k in range(0, j, 5) for l in range(0, k, 5)]"
   ]
  },
  {
   "cell_type": "raw",
   "id": "37c8f7c0-9778-47a1-a2da-329f4e884c07",
   "metadata": {
    "tags": []
   },
   "source": [
    "for i in range(len(list_weights)):\n",
    "    for k in range(len(list_weights[0])):\n",
    "        if list_weights[i][k] == 0:\n",
    "            list_weights[i][k] = 1"
   ]
  },
  {
   "cell_type": "raw",
   "id": "9f9475a2-7d9b-4322-8da2-db55c9f448c3",
   "metadata": {
    "tags": []
   },
   "source": [
    "random.shuffle(list_weights)"
   ]
  },
  {
   "cell_type": "raw",
   "id": "a95a9564-cfb8-48df-b3a3-cc65d3b0e304",
   "metadata": {
    "tags": []
   },
   "source": [
    "list_weights = [[1, 1, 1, 1]] + list_weights"
   ]
  },
  {
   "cell_type": "code",
   "execution_count": 10,
   "id": "b8f6fd07-5af2-4e07-ad60-e56e673bf0ce",
   "metadata": {
    "tags": []
   },
   "outputs": [],
   "source": [
    "clusters = range(5, 22, 2)"
   ]
  },
  {
   "cell_type": "markdown",
   "id": "7ca46392-cfac-4060-a4b5-2e244bbfba92",
   "metadata": {},
   "source": [
    "#### Calculate distances"
   ]
  },
  {
   "cell_type": "code",
   "execution_count": 11,
   "id": "399abfdf-fa1e-4cf3-ad1b-5f0ffcbb5a65",
   "metadata": {
    "tags": []
   },
   "outputs": [],
   "source": [
    "dict_distance_function = dict()\n",
    "dict_distance_function['jaro_winkler'] = jaro_winkler_distance\n",
    "dict_distance_function['levenshtein'] = levenshtein_distance\n",
    "dict_distance_function['custom'] = custom_dist\n",
    "dict_distance_function['custom_norm'] = custom_dist_norm\n",
    "dict_distance_function['filter_dist'] = filter_dist\n",
    "dict_distance_function['filter_dist_4weights'] = filter_dist_4weights"
   ]
  },
  {
   "cell_type": "code",
   "execution_count": 12,
   "id": "f95fecce-c506-4f0f-b0e5-c4e594d749cc",
   "metadata": {
    "tags": []
   },
   "outputs": [],
   "source": [
    "def calculate_distances(data, distance, scaled=False):\n",
    "    distance_function = dict_distance_function[distance]\n",
    "    distances = custom_pairwise_distances(data, distance_function)\n",
    "    \n",
    "    if scaled:\n",
    "        scale_distances(distances)\n",
    "    return distances"
   ]
  },
  {
   "cell_type": "markdown",
   "id": "72ae5728-2065-47cc-a0c1-14a79477e62f",
   "metadata": {},
   "source": [
    "### Calculate clusters"
   ]
  },
  {
   "cell_type": "code",
   "execution_count": 13,
   "id": "0740de27-7dea-41ac-b99a-a69f9366224d",
   "metadata": {
    "tags": []
   },
   "outputs": [],
   "source": [
    "def get_kmedoids(n_clusters, distances):\n",
    "    kmedoids = KMedoids(n_clusters=n_clusters, metric='precomputed', init='k-medoids++')\n",
    "    kmedoids.fit(distances)\n",
    "    return kmedoids"
   ]
  },
  {
   "cell_type": "code",
   "execution_count": 14,
   "id": "920eeb6a-8db1-4b1a-96be-6ea784007365",
   "metadata": {
    "tags": []
   },
   "outputs": [],
   "source": [
    "def ajout_cluster_base(kmedoids, n_clusters):\n",
    "    base_patient_cluster = base_patient.drop(columns=[\"cluster\"])\n",
    "    for i in range(1, n_clusters+1):\n",
    "        base_patient_cluster[\"cluster\"+str(i)] = [0]*len(base_patient_cluster)\n",
    "    for i, label in enumerate(kmedoids.labels_):\n",
    "        base_patient_cluster.loc[i, \"cluster\"+str(label+1)] = 1\n",
    "    return base_patient_cluster\n",
    "        \n",
    "def ajout_p_soins(base_patient_cluster):\n",
    "    base_patient_cluster['p_soins'] = ['']*len(base_patient_cluster)\n",
    "    for i, patient in enumerate(X_patient):\n",
    "        p_soin = convert_to_sentence(patient)\n",
    "        base_patient_cluster.loc[i, 'p_soins'] = p_soin\n",
    "    return base_patient_cluster"
   ]
  },
  {
   "cell_type": "code",
   "execution_count": 15,
   "id": "785085e1-0ff6-4907-85cf-0133596a51cf",
   "metadata": {
    "tags": []
   },
   "outputs": [],
   "source": [
    "def get_cluster_score(n_clusters, distances):\n",
    "    kmedoids = get_kmedoids(n_clusters, distances)\n",
    "    base_patient_cluster = ajout_cluster_base(kmedoids, n_clusters)\n",
    "    base_patient_cluster = ajout_p_soins(base_patient_cluster)\n",
    "    base_patient_cluster.to_csv(\"../data/custom_metric/grid_search.csv\", index=False)\n",
    "    %run Cluster_assessment.ipynb\n",
    "    score = get_score()\n",
    "    return score"
   ]
  },
  {
   "cell_type": "code",
   "execution_count": 16,
   "id": "f47871f4-d5f3-4add-88b7-959523337cf8",
   "metadata": {
    "tags": []
   },
   "outputs": [],
   "source": [
    "def get_weights_score(distance, weights_tested, scaled=True, cv=2):\n",
    "    \n",
    "    global weights\n",
    "    if weights_tested.get(get_str_weights(weights)):\n",
    "        return weights_tested[get_str_weights(weights)]        \n",
    "    \n",
    "    distances = calculate_distances(X_patient, distance, scaled=scaled)\n",
    "\n",
    "    max_score = -np.inf\n",
    "    best_n_clusters = 0\n",
    "    for n_clusters in clusters:\n",
    "        score = np.mean([get_cluster_score(n_clusters, distances) for _ in range(cv)])\n",
    "        if score > max_score:\n",
    "            max_score = score\n",
    "            best_n_clusters = n_clusters\n",
    "    return max_score, best_n_clusters"
   ]
  },
  {
   "cell_type": "markdown",
   "id": "c2b53fc0-a3e1-48af-b612-705b08f1c573",
   "metadata": {},
   "source": [
    "# Optuna GridSearch"
   ]
  },
  {
   "cell_type": "code",
   "execution_count": 17,
   "id": "63e6b986-04dc-491b-9413-26e0092d4063",
   "metadata": {
    "tags": []
   },
   "outputs": [],
   "source": [
    "path_dict = '../data/grid_search/gridSearch_filter_4weights.pickle'"
   ]
  },
  {
   "cell_type": "code",
   "execution_count": 18,
   "id": "e198e1c7-5d10-4481-b286-9602578ac3e3",
   "metadata": {
    "tags": []
   },
   "outputs": [
    {
     "name": "stdout",
     "output_type": "stream",
     "text": [
      "176\n"
     ]
    }
   ],
   "source": [
    "try:\n",
    "    with open(path_dict, 'rb') as handle:\n",
    "        weights_tested = pickle.load(handle)\n",
    "except:\n",
    "    weights_tested = {}\n",
    "    \n",
    "print(len(weights_tested))"
   ]
  },
  {
   "cell_type": "code",
   "execution_count": 19,
   "id": "8fa184d6-7bf0-43b3-abde-c7911790f6ad",
   "metadata": {
    "tags": []
   },
   "outputs": [],
   "source": [
    "def get_str_weights(w):\n",
    "    return str(w[0]) + \" \" + str(w[1]) + \" \" + str(w[2]) + \" \" + str(w[3])"
   ]
  },
  {
   "cell_type": "code",
   "execution_count": 26,
   "id": "c3c336ad-4def-4a2e-96a4-faa89d2d43d3",
   "metadata": {
    "tags": []
   },
   "outputs": [],
   "source": [
    "def find_best_weights(trial):\n",
    "    w1 = trial.suggest_int('w1', 15, 100, 5)\n",
    "    w2 = trial.suggest_int('w2', 10, w1-5, 5)\n",
    "    w3 = trial.suggest_int('w3', 5, w2-5, 5)\n",
    "    w4 = trial.suggest_int('w4', 0, w3-5, 5)\n",
    "    \n",
    "    global weights\n",
    "    weights = [w1, w2, w3, w4]\n",
    "    \n",
    "    score, nb_clusters = get_weights_score('filter_dist_4weights', weights_tested, scaled=True, cv=1)\n",
    "    if weights_tested.get(f\"n_clusters:{nb_clusters}, weights: {get_str_weights(weights)}\"):\n",
    "        weights_tested[f\"n_clusters:{nb_clusters}, weights: {get_str_weights(weights)}\"] = max(score, weights_tested[f\"n_clusters:{nb_clusters}, weights: {get_str_weights(weights)}\"])\n",
    "    else:\n",
    "        weights_tested[f\"n_clusters:{nb_clusters}, weights: {get_str_weights(weights)}\"] = score\n",
    "        \n",
    "    with open(path_dict, 'wb') as handle:\n",
    "        pickle.dump(weights_tested, handle)\n",
    "    return score"
   ]
  },
  {
   "cell_type": "code",
   "execution_count": 27,
   "id": "6d685b72-8aa8-49c0-a4ce-bcc080ea240b",
   "metadata": {
    "tags": []
   },
   "outputs": [
    {
     "name": "stdout",
     "output_type": "stream",
     "text": [
      "sqlite:///4weights_study.db\n"
     ]
    }
   ],
   "source": [
    "study_name = \"4weights_study\"  # Unique identifier of the study.\n",
    "storage_name = \"sqlite:///{}.db\".format(study_name)\n",
    "print(storage_name)"
   ]
  },
  {
   "cell_type": "code",
   "execution_count": null,
   "id": "468058ef-c9f0-4845-9cb5-38f406bd98c0",
   "metadata": {
    "tags": []
   },
   "outputs": [],
   "source": [
    "study = optuna.create_study(direction = 'maximize', study_name=study_name, storage=storage_name, load_if_exists=True)\n",
    "study.optimize(find_best_weights, n_trials=2500, show_progress_bar=True)"
   ]
  },
  {
   "cell_type": "code",
   "execution_count": 29,
   "id": "9c7c4357-1e3a-4712-adfe-e4b149944f66",
   "metadata": {
    "tags": []
   },
   "outputs": [
    {
     "data": {
      "text/plain": [
       "{'w1': 80, 'w2': 75, 'w3': 55, 'w4': 40}"
      ]
     },
     "execution_count": 29,
     "metadata": {},
     "output_type": "execute_result"
    }
   ],
   "source": [
    "study.best_params"
   ]
  },
  {
   "cell_type": "markdown",
   "id": "8c62eda3-9b52-4258-b2a0-5279e62de3d8",
   "metadata": {},
   "source": [
    "### Check best params found"
   ]
  },
  {
   "cell_type": "code",
   "execution_count": 32,
   "id": "a4236338-81bf-4057-8b63-de3b4b8678fc",
   "metadata": {
    "tags": []
   },
   "outputs": [],
   "source": [
    "best_weights = list(study.best_params.values())"
   ]
  },
  {
   "cell_type": "code",
   "execution_count": 33,
   "id": "d91f094d-6e85-4a46-8c2c-8f3da994034f",
   "metadata": {
    "tags": []
   },
   "outputs": [
    {
     "data": {
      "text/plain": [
       "[80, 75, 55, 40]"
      ]
     },
     "execution_count": 33,
     "metadata": {},
     "output_type": "execute_result"
    }
   ],
   "source": [
    "best_weights"
   ]
  },
  {
   "cell_type": "code",
   "execution_count": 36,
   "id": "508bbaab-5ea3-4364-82d6-26a8d13ed212",
   "metadata": {
    "tags": []
   },
   "outputs": [],
   "source": [
    "global weights\n",
    "weights = best_weights\n",
    "best_score, best_n_clusters = get_weights_score('filter_dist_4weights', weights_tested, scaled=True, cv=5)"
   ]
  },
  {
   "cell_type": "code",
   "execution_count": 37,
   "id": "06198ea7-bc2d-45e5-b811-6f3936098b5c",
   "metadata": {
    "tags": []
   },
   "outputs": [
    {
     "data": {
      "text/plain": [
       "1.061238419217001e-05"
      ]
     },
     "execution_count": 37,
     "metadata": {},
     "output_type": "execute_result"
    }
   ],
   "source": [
    "best_score"
   ]
  },
  {
   "cell_type": "code",
   "execution_count": 38,
   "id": "a7bc2a0a-d670-44d7-9914-af7f0d974b12",
   "metadata": {
    "tags": []
   },
   "outputs": [
    {
     "data": {
      "text/plain": [
       "19"
      ]
     },
     "execution_count": 38,
     "metadata": {},
     "output_type": "execute_result"
    }
   ],
   "source": [
    "best_n_clusters"
   ]
  }
 ],
 "metadata": {
  "kernelspec": {
   "display_name": "Python 3 (ipykernel)",
   "language": "python",
   "name": "python3"
  },
  "language_info": {
   "codemirror_mode": {
    "name": "ipython",
    "version": 3
   },
   "file_extension": ".py",
   "mimetype": "text/x-python",
   "name": "python",
   "nbconvert_exporter": "python",
   "pygments_lexer": "ipython3",
   "version": "3.10.9"
  }
 },
 "nbformat": 4,
 "nbformat_minor": 5
}
