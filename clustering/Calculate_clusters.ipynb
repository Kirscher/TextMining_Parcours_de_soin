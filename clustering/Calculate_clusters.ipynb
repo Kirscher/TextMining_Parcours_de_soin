{
 "cells": [
  {
   "cell_type": "code",
   "execution_count": 1,
   "id": "cdd7a51b-673f-4cc9-9bad-edcdac022405",
   "metadata": {
    "tags": []
   },
   "outputs": [],
   "source": [
    "%%capture capt\n",
    "!pip install scikit-learn-extra"
   ]
  },
  {
   "cell_type": "code",
   "execution_count": 2,
   "id": "423ddbab-e22a-4324-a4e0-82499fc3bed2",
   "metadata": {
    "tags": []
   },
   "outputs": [],
   "source": [
    "%%capture capt\n",
    "import numpy as np\n",
    "from sklearn_extra.cluster import KMedoids\n",
    "from sklearn.metrics.pairwise import pairwise_distances\n",
    "from sklearn.metrics import silhouette_score\n",
    "from sklearn.preprocessing import MinMaxScaler\n",
    "import pandas as pd\n",
    "from tqdm import tqdm\n",
    "import matplotlib.pyplot as plt\n",
    "import multiprocessing\n",
    "from multiprocessing import Pool\n",
    "import pickle\n",
    "import time"
   ]
  },
  {
   "cell_type": "markdown",
   "id": "280e0cc6-fd7f-4420-83d8-b55626b31158",
   "metadata": {},
   "source": [
    "### Importation Data"
   ]
  },
  {
   "cell_type": "code",
   "execution_count": 3,
   "id": "f714de05-b631-4a81-a5c4-f57ac8a314a3",
   "metadata": {
    "tags": []
   },
   "outputs": [],
   "source": [
    "base_patient = pd.read_csv(\"../data/profil_patient.csv\")"
   ]
  },
  {
   "cell_type": "code",
   "execution_count": 4,
   "id": "35f838de-572f-405f-9535-160e50979ca6",
   "metadata": {
    "tags": []
   },
   "outputs": [],
   "source": [
    "%%capture capt\n",
    "p_soins = pd.read_csv(\"../data/parcours_soins.csv\")"
   ]
  },
  {
   "cell_type": "code",
   "execution_count": 5,
   "id": "3a8fe46e-9acf-4ee2-8617-6196dab0c98b",
   "metadata": {
    "tags": []
   },
   "outputs": [],
   "source": [
    "X_patient = []\n",
    "for i in range(len(base_patient)):\n",
    "    ghm_row = p_soins.iloc[i].dropna().tolist()[1:]\n",
    "    X_patient.append(ghm_row)"
   ]
  },
  {
   "cell_type": "markdown",
   "id": "1402ab19-105e-40d6-add6-6287d847caa9",
   "metadata": {},
   "source": [
    "### Acceder aux fonctions de métrique"
   ]
  },
  {
   "cell_type": "code",
   "execution_count": 6,
   "id": "81527c28-b4f2-4526-aa34-943d5cbbacc6",
   "metadata": {
    "tags": []
   },
   "outputs": [
    {
     "name": "stdout",
     "output_type": "stream",
     "text": [
      "Installation/Importation des librairies necessaires.\n"
     ]
    }
   ],
   "source": [
    "%run Metriques.ipynb"
   ]
  },
  {
   "cell_type": "code",
   "execution_count": 7,
   "id": "b0eb5779-cf78-4ff9-a442-9666ea3b311c",
   "metadata": {
    "tags": []
   },
   "outputs": [],
   "source": [
    "#weights = [1, 1, 1]\n",
    "\n",
    "def custom_dist(arr1, arr2):\n",
    "    return custom_distance(arr1, arr2, weights=weights)\n",
    "\n",
    "def custom_dist_norm(arr1, arr2):\n",
    "    return custom_distance_norm(arr1, arr2, weights=weights)\n",
    "\n",
    "def filter_dist(arr1, arr2):\n",
    "    return distance_filter(arr1, arr2, weights=weights)\n",
    "\n",
    "def filter_dist_4weights(arr1, arr2):\n",
    "    return distance_filter_4weights(arr1, arr2, weights=weights)"
   ]
  },
  {
   "cell_type": "markdown",
   "id": "9d11df82-4445-4c8e-8e53-15f8ac69c76f",
   "metadata": {},
   "source": [
    "### Calculer les distances"
   ]
  },
  {
   "cell_type": "code",
   "execution_count": 8,
   "id": "d030c582-79d1-4a84-bc5f-574c5a5675c8",
   "metadata": {
    "tags": []
   },
   "outputs": [
    {
     "name": "stdout",
     "output_type": "stream",
     "text": [
      "CPU cores available -> 56\n"
     ]
    }
   ],
   "source": [
    "nb_cpu_cores = multiprocessing.cpu_count()\n",
    "print(f\"CPU cores available -> {nb_cpu_cores}\")"
   ]
  },
  {
   "cell_type": "code",
   "execution_count": 9,
   "id": "b61ab517-5158-42b4-ba0f-62e906d5c283",
   "metadata": {
    "tags": []
   },
   "outputs": [],
   "source": [
    "%run Distances.ipynb"
   ]
  },
  {
   "cell_type": "code",
   "execution_count": 10,
   "id": "399abfdf-fa1e-4cf3-ad1b-5f0ffcbb5a65",
   "metadata": {
    "tags": []
   },
   "outputs": [],
   "source": [
    "dict_distance_function = dict()\n",
    "dict_distance_function['jaro_winkler'] = jaro_winkler_distance\n",
    "dict_distance_function['levenshtein'] = levenshtein_distance\n",
    "dict_distance_function['custom'] = custom_dist\n",
    "dict_distance_function['custom_norm'] = custom_dist_norm\n",
    "dict_distance_function['filter_dist'] = filter_dist\n",
    "dict_distance_function['filter_dist_4weights'] = filter_dist_4weights"
   ]
  },
  {
   "cell_type": "code",
   "execution_count": 11,
   "id": "f95fecce-c506-4f0f-b0e5-c4e594d749cc",
   "metadata": {
    "tags": []
   },
   "outputs": [],
   "source": [
    "def calculate_distances(data, distance, scaled, weights):\n",
    "    distance_function = dict_distance_function[distance]\n",
    "    distances = custom_pairwise_distances(data, distance_function)\n",
    "    #print()\n",
    "    #print(f\"max before scaling = {np.max(distances)}\")\n",
    "    if scaled:\n",
    "        scale_distances(distances)\n",
    "        #distances /= np.mean(distances)\n",
    "        #print(f\"After scaling --> max = {np.max(distances)}\")\n",
    "    return distances"
   ]
  },
  {
   "cell_type": "markdown",
   "id": "537887cc-9f53-47c0-8e34-ea9069641450",
   "metadata": {},
   "source": [
    "### Implementation du clustering"
   ]
  },
  {
   "cell_type": "code",
   "execution_count": 12,
   "id": "0740de27-7dea-41ac-b99a-a69f9366224d",
   "metadata": {
    "tags": []
   },
   "outputs": [],
   "source": [
    "def get_kmedoids(n_clusters, distances):\n",
    "    kmedoids = KMedoids(n_clusters=n_clusters, metric='precomputed', init='k-medoids++')\n",
    "    kmedoids.fit(distances)\n",
    "    return kmedoids"
   ]
  },
  {
   "cell_type": "code",
   "execution_count": 13,
   "id": "920eeb6a-8db1-4b1a-96be-6ea784007365",
   "metadata": {
    "tags": []
   },
   "outputs": [],
   "source": [
    "def ajout_cluster_base(kmedoids, n_clusters):\n",
    "    base_patient_cluster = base_patient.drop(columns=[\"cluster\"])\n",
    "    for i in range(1, n_clusters+1):\n",
    "        base_patient_cluster[\"cluster\"+str(i)] = [0]*len(base_patient_cluster)\n",
    "    for i, label in enumerate(kmedoids.labels_):\n",
    "        base_patient_cluster.loc[i, \"cluster\"+str(label+1)] = 1\n",
    "    return base_patient_cluster\n",
    "        \n",
    "def ajout_p_soins(base_patient_cluster):\n",
    "    base_patient_cluster['p_soins'] = ['']*len(base_patient_cluster)\n",
    "    for i, patient in enumerate(X_patient):\n",
    "        p_soin = convert_to_sentence(patient)\n",
    "        base_patient_cluster.loc[i, 'p_soins'] = p_soin\n",
    "    return base_patient_cluster"
   ]
  },
  {
   "cell_type": "markdown",
   "id": "5f93ea70-517d-45e2-acfd-dde50064dea7",
   "metadata": {},
   "source": [
    "##### Obtention de la base finale"
   ]
  },
  {
   "cell_type": "code",
   "execution_count": 14,
   "id": "e3bb3974-4d6d-4358-b763-a0b7dac9ac67",
   "metadata": {
    "tags": []
   },
   "outputs": [],
   "source": [
    "global weights"
   ]
  },
  {
   "cell_type": "code",
   "execution_count": 15,
   "id": "785085e1-0ff6-4907-85cf-0133596a51cf",
   "metadata": {
    "tags": []
   },
   "outputs": [],
   "source": [
    "def base_finale(data, distance, scaled, weights_metric, n_clusters):\n",
    "    global weights\n",
    "    weights = weights_metric\n",
    "    \n",
    "    if distance not in list(dict_distance_function.keys()):\n",
    "        print(f'Distance doit etre choisie parmi: {list(dict_distance_function.keys())}')\n",
    "        return \n",
    "    \n",
    "    if __name__ == '__main__':\n",
    "        print(f'Calcul des distances, weights={weights}', end='\\r')\n",
    "        start = time.time()\n",
    "        distances = calculate_distances(data, distance, scaled, weights)\n",
    "        stop = time.time()\n",
    "        print()\n",
    "        print(f'Distances calculees en {round(stop-start)}s, calcul des clusters -> n_clusters={n_clusters}', end = '\\r')\n",
    "        kmedoids = get_kmedoids(n_clusters, distances)\n",
    "        print()\n",
    "        print('Clusters definis, construction de la base finale', end='\\r')\n",
    "        base_patient_cluster = ajout_cluster_base(kmedoids, n_clusters)\n",
    "        base_patient_cluster = ajout_p_soins(base_patient_cluster)\n",
    "\n",
    "        return kmedoids, base_patient_cluster"
   ]
  }
 ],
 "metadata": {
  "kernelspec": {
   "display_name": "Python 3 (ipykernel)",
   "language": "python",
   "name": "python3"
  },
  "language_info": {
   "codemirror_mode": {
    "name": "ipython",
    "version": 3
   },
   "file_extension": ".py",
   "mimetype": "text/x-python",
   "name": "python",
   "nbconvert_exporter": "python",
   "pygments_lexer": "ipython3",
   "version": "3.11.4"
  }
 },
 "nbformat": 4,
 "nbformat_minor": 5
}
