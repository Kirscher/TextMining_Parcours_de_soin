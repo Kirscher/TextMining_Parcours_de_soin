{
 "cells": [
  {
   "cell_type": "code",
   "execution_count": 1,
   "id": "04fc79b2-3c14-41b5-a237-e9a04ea7e94d",
   "metadata": {
    "tags": []
   },
   "outputs": [],
   "source": [
    "%%capture capt\n",
    "!pip install scikit-learn-extra\n",
    "!pip install jellyfish\n",
    "!pip install kneed[plot]"
   ]
  },
  {
   "cell_type": "code",
   "execution_count": 2,
   "id": "4233a5b6-9782-4954-98df-083837656b05",
   "metadata": {
    "tags": []
   },
   "outputs": [],
   "source": [
    "%%capture capt\n",
    "import numpy as np\n",
    "from sklearn_extra.cluster import KMedoids\n",
    "from jellyfish import jaro_winkler_similarity\n",
    "from sklearn.metrics.pairwise import pairwise_distances\n",
    "from sklearn.metrics import silhouette_score\n",
    "from matplotlib.ticker import PercentFormatter\n",
    "import pandas as pd\n",
    "from tqdm import tqdm\n",
    "import matplotlib.pyplot as plt\n",
    "from kneed import KneeLocator"
   ]
  },
  {
   "cell_type": "markdown",
   "id": "119e1309-c642-41f1-8fd8-59e563620a52",
   "metadata": {},
   "source": [
    "# Importation data"
   ]
  },
  {
   "cell_type": "code",
   "execution_count": 3,
   "id": "a7afd725-c17d-4425-94b6-d78854baec48",
   "metadata": {
    "tags": []
   },
   "outputs": [],
   "source": [
    "base_patient = pd.read_csv(\"../data/profil_patient.csv\")"
   ]
  },
  {
   "cell_type": "code",
   "execution_count": 4,
   "id": "2dc6c7ce-1bc3-40c9-bf68-36a09ed62cff",
   "metadata": {
    "tags": []
   },
   "outputs": [],
   "source": [
    "%%capture capt\n",
    "p_soins = pd.read_csv(\"../data/parcours_soins.csv\")"
   ]
  },
  {
   "cell_type": "code",
   "execution_count": 5,
   "id": "7faab721-81bc-457f-bc66-787595c482d9",
   "metadata": {
    "tags": []
   },
   "outputs": [
    {
     "data": {
      "text/html": [
       "<div>\n",
       "<style scoped>\n",
       "    .dataframe tbody tr th:only-of-type {\n",
       "        vertical-align: middle;\n",
       "    }\n",
       "\n",
       "    .dataframe tbody tr th {\n",
       "        vertical-align: top;\n",
       "    }\n",
       "\n",
       "    .dataframe thead th {\n",
       "        text-align: right;\n",
       "    }\n",
       "</style>\n",
       "<table border=\"1\" class=\"dataframe\">\n",
       "  <thead>\n",
       "    <tr style=\"text-align: right;\">\n",
       "      <th></th>\n",
       "      <th>BEN_NIR_IDT</th>\n",
       "      <th>2008-01-15</th>\n",
       "      <th>2008-02-15</th>\n",
       "      <th>2008-03-15</th>\n",
       "      <th>2008-04-15</th>\n",
       "      <th>2008-05-15</th>\n",
       "      <th>2008-06-15</th>\n",
       "      <th>2008-07-15</th>\n",
       "      <th>2008-08-15</th>\n",
       "      <th>2008-09-15</th>\n",
       "      <th>...</th>\n",
       "      <th>2018-12-19</th>\n",
       "      <th>2018-12-20</th>\n",
       "      <th>2018-12-21</th>\n",
       "      <th>2018-12-22</th>\n",
       "      <th>2018-12-24</th>\n",
       "      <th>2018-12-25</th>\n",
       "      <th>2018-12-26</th>\n",
       "      <th>2018-12-27</th>\n",
       "      <th>2018-12-28</th>\n",
       "      <th>2018-12-29</th>\n",
       "    </tr>\n",
       "  </thead>\n",
       "  <tbody>\n",
       "    <tr>\n",
       "      <th>0</th>\n",
       "      <td>P0</td>\n",
       "      <td>NaN</td>\n",
       "      <td>NaN</td>\n",
       "      <td>NaN</td>\n",
       "      <td>NaN</td>\n",
       "      <td>NaN</td>\n",
       "      <td>NaN</td>\n",
       "      <td>NaN</td>\n",
       "      <td>NaN</td>\n",
       "      <td>NaN</td>\n",
       "      <td>...</td>\n",
       "      <td>NaN</td>\n",
       "      <td>NaN</td>\n",
       "      <td>NaN</td>\n",
       "      <td>NaN</td>\n",
       "      <td>NaN</td>\n",
       "      <td>NaN</td>\n",
       "      <td>NaN</td>\n",
       "      <td>NaN</td>\n",
       "      <td>NaN</td>\n",
       "      <td>NaN</td>\n",
       "    </tr>\n",
       "    <tr>\n",
       "      <th>1</th>\n",
       "      <td>P6</td>\n",
       "      <td>NaN</td>\n",
       "      <td>NaN</td>\n",
       "      <td>NaN</td>\n",
       "      <td>NaN</td>\n",
       "      <td>NaN</td>\n",
       "      <td>NaN</td>\n",
       "      <td>NaN</td>\n",
       "      <td>NaN</td>\n",
       "      <td>NaN</td>\n",
       "      <td>...</td>\n",
       "      <td>NaN</td>\n",
       "      <td>NaN</td>\n",
       "      <td>NaN</td>\n",
       "      <td>NaN</td>\n",
       "      <td>NaN</td>\n",
       "      <td>NaN</td>\n",
       "      <td>NaN</td>\n",
       "      <td>NaN</td>\n",
       "      <td>NaN</td>\n",
       "      <td>NaN</td>\n",
       "    </tr>\n",
       "    <tr>\n",
       "      <th>2</th>\n",
       "      <td>P8</td>\n",
       "      <td>NaN</td>\n",
       "      <td>NaN</td>\n",
       "      <td>NaN</td>\n",
       "      <td>NaN</td>\n",
       "      <td>NaN</td>\n",
       "      <td>NaN</td>\n",
       "      <td>NaN</td>\n",
       "      <td>NaN</td>\n",
       "      <td>NaN</td>\n",
       "      <td>...</td>\n",
       "      <td>NaN</td>\n",
       "      <td>NaN</td>\n",
       "      <td>NaN</td>\n",
       "      <td>NaN</td>\n",
       "      <td>NaN</td>\n",
       "      <td>NaN</td>\n",
       "      <td>NaN</td>\n",
       "      <td>NaN</td>\n",
       "      <td>NaN</td>\n",
       "      <td>NaN</td>\n",
       "    </tr>\n",
       "  </tbody>\n",
       "</table>\n",
       "<p>3 rows × 3676 columns</p>\n",
       "</div>"
      ],
      "text/plain": [
       "  BEN_NIR_IDT 2008-01-15 2008-02-15 2008-03-15 2008-04-15 2008-05-15  \\\n",
       "0          P0        NaN        NaN        NaN        NaN        NaN   \n",
       "1          P6        NaN        NaN        NaN        NaN        NaN   \n",
       "2          P8        NaN        NaN        NaN        NaN        NaN   \n",
       "\n",
       "  2008-06-15 2008-07-15 2008-08-15 2008-09-15  ... 2018-12-19 2018-12-20  \\\n",
       "0        NaN        NaN        NaN        NaN  ...        NaN        NaN   \n",
       "1        NaN        NaN        NaN        NaN  ...        NaN        NaN   \n",
       "2        NaN        NaN        NaN        NaN  ...        NaN        NaN   \n",
       "\n",
       "  2018-12-21 2018-12-22 2018-12-24 2018-12-25 2018-12-26 2018-12-27  \\\n",
       "0        NaN        NaN        NaN        NaN        NaN        NaN   \n",
       "1        NaN        NaN        NaN        NaN        NaN        NaN   \n",
       "2        NaN        NaN        NaN        NaN        NaN        NaN   \n",
       "\n",
       "  2018-12-28 2018-12-29  \n",
       "0        NaN        NaN  \n",
       "1        NaN        NaN  \n",
       "2        NaN        NaN  \n",
       "\n",
       "[3 rows x 3676 columns]"
      ]
     },
     "execution_count": 5,
     "metadata": {},
     "output_type": "execute_result"
    }
   ],
   "source": [
    "p_soins.head(3)"
   ]
  },
  {
   "cell_type": "code",
   "execution_count": 6,
   "id": "f64b4a9c-d79d-4b62-bffe-0fa6794eba35",
   "metadata": {
    "tags": []
   },
   "outputs": [
    {
     "data": {
      "text/html": [
       "<div>\n",
       "<style scoped>\n",
       "    .dataframe tbody tr th:only-of-type {\n",
       "        vertical-align: middle;\n",
       "    }\n",
       "\n",
       "    .dataframe tbody tr th {\n",
       "        vertical-align: top;\n",
       "    }\n",
       "\n",
       "    .dataframe thead th {\n",
       "        text-align: right;\n",
       "    }\n",
       "</style>\n",
       "<table border=\"1\" class=\"dataframe\">\n",
       "  <thead>\n",
       "    <tr style=\"text-align: right;\">\n",
       "      <th></th>\n",
       "      <th>CODE_PATIENT</th>\n",
       "      <th>date_h0</th>\n",
       "      <th>y_nais</th>\n",
       "      <th>BEN_RES_DPT</th>\n",
       "      <th>BEN_SEX_COD</th>\n",
       "      <th>dte_deces</th>\n",
       "      <th>Mort</th>\n",
       "      <th>Nb_survie</th>\n",
       "      <th>Nb_hospit</th>\n",
       "      <th>CHOC</th>\n",
       "      <th>Nb_jours_sej</th>\n",
       "      <th>cat_age</th>\n",
       "      <th>cat_nb_hospit</th>\n",
       "      <th>cat_nb_jours_sej</th>\n",
       "      <th>cluster</th>\n",
       "    </tr>\n",
       "  </thead>\n",
       "  <tbody>\n",
       "    <tr>\n",
       "      <th>0</th>\n",
       "      <td>P0</td>\n",
       "      <td>2011-11-22</td>\n",
       "      <td>1949</td>\n",
       "      <td>11</td>\n",
       "      <td>1</td>\n",
       "      <td>NaN</td>\n",
       "      <td>False</td>\n",
       "      <td>2596</td>\n",
       "      <td>9</td>\n",
       "      <td>False</td>\n",
       "      <td>23</td>\n",
       "      <td>1</td>\n",
       "      <td>1</td>\n",
       "      <td>1</td>\n",
       "      <td>0</td>\n",
       "    </tr>\n",
       "    <tr>\n",
       "      <th>1</th>\n",
       "      <td>P6</td>\n",
       "      <td>2013-12-05</td>\n",
       "      <td>1929</td>\n",
       "      <td>14</td>\n",
       "      <td>2</td>\n",
       "      <td>2015-03</td>\n",
       "      <td>True</td>\n",
       "      <td>456</td>\n",
       "      <td>8</td>\n",
       "      <td>False</td>\n",
       "      <td>51</td>\n",
       "      <td>2</td>\n",
       "      <td>1</td>\n",
       "      <td>1</td>\n",
       "      <td>1</td>\n",
       "    </tr>\n",
       "    <tr>\n",
       "      <th>2</th>\n",
       "      <td>P8</td>\n",
       "      <td>2015-07-02</td>\n",
       "      <td>1967</td>\n",
       "      <td>54</td>\n",
       "      <td>2</td>\n",
       "      <td>2015-08</td>\n",
       "      <td>True</td>\n",
       "      <td>41</td>\n",
       "      <td>3</td>\n",
       "      <td>True</td>\n",
       "      <td>43</td>\n",
       "      <td>0</td>\n",
       "      <td>1</td>\n",
       "      <td>1</td>\n",
       "      <td>2</td>\n",
       "    </tr>\n",
       "  </tbody>\n",
       "</table>\n",
       "</div>"
      ],
      "text/plain": [
       "  CODE_PATIENT     date_h0  y_nais BEN_RES_DPT  BEN_SEX_COD dte_deces   Mort  \\\n",
       "0           P0  2011-11-22    1949          11            1       NaN  False   \n",
       "1           P6  2013-12-05    1929          14            2   2015-03   True   \n",
       "2           P8  2015-07-02    1967          54            2   2015-08   True   \n",
       "\n",
       "   Nb_survie  Nb_hospit   CHOC  Nb_jours_sej  cat_age  cat_nb_hospit  \\\n",
       "0       2596          9  False            23        1              1   \n",
       "1        456          8  False            51        2              1   \n",
       "2         41          3   True            43        0              1   \n",
       "\n",
       "   cat_nb_jours_sej  cluster  \n",
       "0                 1        0  \n",
       "1                 1        1  \n",
       "2                 1        2  "
      ]
     },
     "execution_count": 6,
     "metadata": {},
     "output_type": "execute_result"
    }
   ],
   "source": [
    "base_patient.head(3)"
   ]
  },
  {
   "cell_type": "markdown",
   "id": "149532a0-6f48-49e6-8688-dbe5a7c3d88e",
   "metadata": {},
   "source": [
    "# Data Pre-processing"
   ]
  },
  {
   "cell_type": "code",
   "execution_count": 7,
   "id": "96cbd7f0-48d2-4f52-aedc-1eed41a68e7b",
   "metadata": {
    "tags": []
   },
   "outputs": [],
   "source": [
    "base_patient.Mort = base_patient.Mort.astype(int)\n",
    "base_patient.CHOC = base_patient.CHOC.astype(int)\n",
    "base_patient.BEN_SEX_COD = base_patient.BEN_SEX_COD-1"
   ]
  },
  {
   "cell_type": "code",
   "execution_count": 8,
   "id": "4ca513f7-2799-4d57-a688-409892e63bb2",
   "metadata": {
    "tags": []
   },
   "outputs": [],
   "source": [
    "# on ne conserve que l'annee de la premiere hospitalisation\n",
    "\n",
    "base_patient.date_h0 = pd.to_datetime(base_patient.date_h0).apply(lambda date: int(date.year))"
   ]
  },
  {
   "cell_type": "markdown",
   "id": "09b956b8-8d60-4c0f-81bd-790f112ea25c",
   "metadata": {},
   "source": [
    "# Lister tous les GHM"
   ]
  },
  {
   "cell_type": "code",
   "execution_count": 9,
   "id": "9b5a4fcb-1736-474f-91f6-b8e1e4124c78",
   "metadata": {
    "tags": []
   },
   "outputs": [],
   "source": [
    "all_ghm = set()\n",
    "for i in range(len(p_soins)):\n",
    "    ghm_row = set(p_soins.iloc[i].dropna().tolist()[1:])\n",
    "    all_ghm = all_ghm.union(ghm_row)   "
   ]
  },
  {
   "cell_type": "code",
   "execution_count": 10,
   "id": "b21f6554-ecfc-438a-9d6e-043bcbb3aa99",
   "metadata": {
    "tags": []
   },
   "outputs": [
    {
     "name": "stdout",
     "output_type": "stream",
     "text": [
      "2346\n"
     ]
    }
   ],
   "source": [
    "nb_ghm = len(all_ghm)\n",
    "print(nb_ghm)"
   ]
  },
  {
   "cell_type": "markdown",
   "id": "7da0c58b-5f36-44f8-96ca-9be4a036c260",
   "metadata": {},
   "source": [
    "# Vecteur des parcours de GHM"
   ]
  },
  {
   "cell_type": "code",
   "execution_count": 11,
   "id": "6491fea8-5070-4a9c-9934-d96ddce9a3cf",
   "metadata": {
    "tags": []
   },
   "outputs": [],
   "source": [
    "X_patient = []\n",
    "for i in range(len(base_patient)):\n",
    "    ghm_row = p_soins.iloc[i].dropna().tolist()[1:]\n",
    "    X_patient.append(ghm_row)"
   ]
  },
  {
   "cell_type": "markdown",
   "id": "992cfaa1-9410-46c1-a3d6-a904539102af",
   "metadata": {},
   "source": [
    "# Formules de distance entre string"
   ]
  },
  {
   "cell_type": "code",
   "execution_count": 12,
   "id": "c0e4da1a-3fee-48a8-89ba-ccce5a3cc64c",
   "metadata": {
    "tags": []
   },
   "outputs": [],
   "source": [
    "def string_distance(s1, s2):\n",
    "    # Compute distance between strings using the jaro winkler similarity formula\n",
    "    return 1 - jaro_winkler_similarity(s1, s2)\n",
    "\n",
    "def convert_to_sentence(arr):\n",
    "    sentence = ''\n",
    "    for x in arr:\n",
    "        sentence += x + \",\"\n",
    "    return sentence[:-1]\n",
    "\n",
    "def jaro_winkler_distance(arr1, arr2):\n",
    "    s1 = convert_to_sentence(arr1)\n",
    "    s2 = convert_to_sentence(arr2)\n",
    "    return abs(string_distance(s1, s2))"
   ]
  },
  {
   "cell_type": "code",
   "execution_count": 13,
   "id": "73aba930-90c0-4c5e-ab72-2a7a0e0a60cb",
   "metadata": {
    "tags": []
   },
   "outputs": [],
   "source": [
    "def custom_pairwise_distances_i_triangle(data, distance_function, i):\n",
    "    distance_i = []\n",
    "    for j in range(i):\n",
    "        distance_i_j = distance_function(data[i], data[j])\n",
    "        distance_i.append(distance_i_j)\n",
    "    distance_i.append(0)\n",
    "    return distance_i\n",
    "    \n",
    "def custom_pairwise_distances_triangle(data, distance_function):\n",
    "    distances = []   \n",
    "    for i in tqdm(range(len(data))):\n",
    "        distance_i = custom_pairwise_distances_i_triangle(data, distance_function, i)\n",
    "        distances.append(distance_i)\n",
    "            \n",
    "    return distances\n",
    "\n",
    "def custom_pairwise_distances(data, distance_function):\n",
    "    distances_triangle = custom_pairwise_distances_triangle(data, distance_function)\n",
    "    for i in range(len(data)):\n",
    "        for j in range(i+1, len(data)):\n",
    "            distances_triangle[i].append(distances_triangle[j][i])\n",
    "    return distances_triangle"
   ]
  },
  {
   "cell_type": "markdown",
   "id": "612ed4bf-dc7a-47c1-8a12-a00f5cabb658",
   "metadata": {},
   "source": [
    "# K-Medoids sur les parcours de soins"
   ]
  },
  {
   "cell_type": "markdown",
   "id": "c3986935-83be-4643-8ec7-6a4ed6f2f517",
   "metadata": {},
   "source": [
    "### Calculate the custom pairwise distances"
   ]
  },
  {
   "cell_type": "code",
   "execution_count": 14,
   "id": "e9653a1b-6b31-4982-a348-906cb3acea2d",
   "metadata": {
    "tags": []
   },
   "outputs": [
    {
     "name": "stderr",
     "output_type": "stream",
     "text": [
      "100%|██████████| 10051/10051 [08:36<00:00, 19.46it/s]\n"
     ]
    }
   ],
   "source": [
    "distances = custom_pairwise_distances(X_patient, jaro_winkler_distance)"
   ]
  },
  {
   "cell_type": "markdown",
   "id": "f46b2f4f-3407-4cf1-85d7-0107141e3c11",
   "metadata": {},
   "source": [
    "## Determiner le nombre de clusters"
   ]
  },
  {
   "cell_type": "markdown",
   "id": "3f082b71-03da-4bfc-93a7-bf7005c25bd6",
   "metadata": {},
   "source": [
    "#### Regle du coude pour déterminer le nombre optimal de clusters"
   ]
  },
  {
   "cell_type": "code",
   "execution_count": 15,
   "id": "b5b0917f-bb68-443d-a7be-a1d816fa2210",
   "metadata": {
    "tags": []
   },
   "outputs": [
    {
     "name": "stderr",
     "output_type": "stream",
     "text": [
      "100%|██████████| 98/98 [29:36<00:00, 18.13s/it]\n"
     ]
    }
   ],
   "source": [
    "inertia=[]\n",
    "nb_clusters_max = int(np.sqrt(len(base_patient)))\n",
    "\n",
    "for n_clusters in tqdm(range(2, nb_clusters_max)):\n",
    "    kmedoids = KMedoids(n_clusters=n_clusters, metric='precomputed')\n",
    "    kmedoids.fit(distances)\n",
    "    \n",
    "    inertia.append(kmedoids.inertia_)"
   ]
  },
  {
   "cell_type": "code",
   "execution_count": 16,
   "id": "3fe8c766-579a-43b3-b6b1-0caf6a54d826",
   "metadata": {
    "tags": []
   },
   "outputs": [
    {
     "data": {
      "image/png": "[encoded data removed]",
      "text/plain": [
       "<Figure size 500x400 with 1 Axes>"
      ]
     },
     "metadata": {},
     "output_type": "display_data"
    }
   ],
   "source": [
    "fig, ax = plt.subplots(1, 1, figsize=(5, 4))\n",
    "ax.plot(range(2, len(inertia)+2), inertia, c = 'r', label = 'inertie', marker='o')\n",
    "ax.legend(loc='best')\n",
    "ax.grid('on')\n",
    "ax.set_xlabel('Nombre de clusters')\n",
    "ax.set_ylabel('Coût du modèle (Inertie)')\n",
    "ax.set_title('Inertie en fonction du nombre de clusters')\n",
    "plt.show()"
   ]
  },
  {
   "cell_type": "code",
   "execution_count": 17,
   "id": "75f31092-0497-48c5-9b64-91c367d32a9f",
   "metadata": {
    "tags": []
   },
   "outputs": [],
   "source": [
    "k_elbow = KneeLocator(\n",
    "  x=range(2, nb_clusters_max), \n",
    "  y=inertia, \n",
    "  curve=\"convex\", \n",
    "  direction=\"decreasing\").elbow"
   ]
  },
  {
   "cell_type": "code",
   "execution_count": 18,
   "id": "147aeced-7a32-4496-b877-aa5a97dab8b0",
   "metadata": {
    "tags": []
   },
   "outputs": [
    {
     "name": "stdout",
     "output_type": "stream",
     "text": [
      "La méthode du coude nous indique que le nombre de clusters a faire = 19\n"
     ]
    }
   ],
   "source": [
    "print(f\"La méthode du coude nous indique que le nombre de clusters a faire = {k_elbow}\")"
   ]
  },
  {
   "cell_type": "markdown",
   "id": "79b2ae9c-48c2-4a88-a2f8-63251eff35f2",
   "metadata": {},
   "source": [
    "### BIC et Silhouette Scores"
   ]
  },
  {
   "cell_type": "markdown",
   "id": "c86966bf-88cf-4542-8545-b5852b879f3c",
   "metadata": {},
   "source": [
    "D'après ce papier: https://arxiv.org/abs/2212.12189 </br>\n",
    "et ce code (https://github.com/smazzanti/are_you_still_using_elbow_method/blob/main/are-you-still-using-elbow-method.ipynb) qui compare plusieurs méthodes (Coude, Silhouette, Davies-Bouldin, Calinski-Harabasz, BIC), </br>\n",
    "utiliser la méthode du coude n'est pas la meilleure option; il faut plutôt chercher à maximiser le score BIC, ou maximiser la silhouette (BIC donne des résultats très légèrement meilleurs). "
   ]
  },
  {
   "cell_type": "markdown",
   "id": "70e9d2d9-c92c-41b7-8ae3-006cb0a56cd4",
   "metadata": {},
   "source": [
    "Tout est résumé ici: https://towardsdatascience.com/are-you-still-using-the-elbow-method-5d271b3063bd"
   ]
  },
  {
   "cell_type": "code",
   "execution_count": 19,
   "id": "eacda7eb-7ddd-4d25-b6e4-1e4a66cb5a81",
   "metadata": {
    "tags": []
   },
   "outputs": [],
   "source": [
    "import warnings\n",
    "warnings.simplefilter(\"ignore\")"
   ]
  },
  {
   "cell_type": "code",
   "execution_count": 20,
   "id": "859b31f6-a736-460b-93ca-5c1c34629150",
   "metadata": {
    "tags": []
   },
   "outputs": [],
   "source": [
    "def bic_score(X, labels):\n",
    "\n",
    "    n_points = len(labels)\n",
    "    n_clusters = len(set(labels))\n",
    "    n_dimensions = np.shape(X)[1]\n",
    "\n",
    "    n_parameters = (n_clusters - 1) + (n_dimensions * n_clusters) + 1\n",
    "\n",
    "    loglikelihood = 0\n",
    "    for label_name in set(labels):\n",
    "        X_cluster = X[labels == label_name]\n",
    "        n_points_cluster = len(X_cluster)\n",
    "        centroid = np.mean(X_cluster, axis=0)\n",
    "        variance = np.sum((X_cluster - centroid) ** 2) / (len(X_cluster) - 1)\n",
    "        loglikelihood += \\\n",
    "          n_points_cluster * np.log(n_points_cluster) \\\n",
    "          - n_points_cluster * np.log(n_points) \\\n",
    "          - n_points_cluster * n_dimensions / 2 * np.log(2 * np.pi * variance) \\\n",
    "          - (n_points_cluster - 1) / 2\n",
    "\n",
    "        bic = loglikelihood - (n_parameters / 2) * np.log(n_points)\n",
    "\n",
    "    return bic"
   ]
  },
  {
   "cell_type": "code",
   "execution_count": 21,
   "id": "11091604-03a2-4188-940c-86dd1d2dcd9f",
   "metadata": {
    "tags": []
   },
   "outputs": [
    {
     "name": "stderr",
     "output_type": "stream",
     "text": [
      "100%|██████████| 98/98 [1:37:51<00:00, 59.91s/it]\n"
     ]
    }
   ],
   "source": [
    "bic_scores = []\n",
    "silhouette_scores = []\n",
    "nb_clusters_max = int(np.sqrt(len(base_patient)))\n",
    "\n",
    "for n_clusters in tqdm(range(2, nb_clusters_max)):\n",
    "    kmedoids = KMedoids(n_clusters=n_clusters, metric='precomputed')\n",
    "    kmedoids.fit(distances)\n",
    "    \n",
    "    try:\n",
    "        bic = bic_score(distances, kmedoids.labels_)\n",
    "        bic_scores.append(bic)\n",
    "    except:\n",
    "        bic_scores.append(-float('inf'))\n",
    "        \n",
    "    silhouette = silhouette_score(distances, kmedoids.labels_)\n",
    "    silhouette_scores.append(silhouette)"
   ]
  },
  {
   "cell_type": "code",
   "execution_count": 22,
   "id": "6b128188-dd71-4b71-9164-79b3e34e623c",
   "metadata": {
    "tags": []
   },
   "outputs": [
    {
     "data": {
      "image/png": "[encoded data removed]",
      "text/plain": [
       "<Figure size 700x400 with 2 Axes>"
      ]
     },
     "metadata": {},
     "output_type": "display_data"
    }
   ],
   "source": [
    "fig, ax = plt.subplots(1, 2, figsize=(7, 4))\n",
    "\n",
    "#plot bic score\n",
    "ax[0].plot(range(2, len(bic_scores)+2), bic_scores, c = 'r', label = 'BIC score', marker='o')\n",
    "ax[0].legend(loc='best')\n",
    "ax[0].grid('on')\n",
    "ax[0].set_xlabel('Nombre de clusters')\n",
    "ax[0].set_ylabel('BIC Score')\n",
    "ax[0].set_title('BIC score en fonction du nombre de clusters')\n",
    "\n",
    "#plot silhouette scores\n",
    "ax[1].plot(range(2, len(silhouette_scores)+2), silhouette_scores, c = 'r', label = 'Silhouette score', marker='o')\n",
    "ax[1].legend(loc='best')\n",
    "ax[1].grid('on')\n",
    "ax[1].set_xlabel('Nombre de clusters')\n",
    "ax[1].set_ylabel('Silhouette Score')\n",
    "ax[1].set_title('Silhouette score en fonction du nombre de clusters')\n",
    "\n",
    "plt.show()"
   ]
  },
  {
   "cell_type": "code",
   "execution_count": 23,
   "id": "7ad14985-83e4-4dcb-b7a0-3ec0ee9998f0",
   "metadata": {
    "tags": []
   },
   "outputs": [],
   "source": [
    "k_elbow = KneeLocator(\n",
    "  x=range(2, nb_clusters_max), \n",
    "  y=silhouette_scores, \n",
    "  curve=\"convex\", \n",
    "  direction=\"decreasing\").elbow"
   ]
  },
  {
   "cell_type": "code",
   "execution_count": 37,
   "id": "312a3087-fb97-440e-b410-5b9567ed7024",
   "metadata": {
    "tags": []
   },
   "outputs": [
    {
     "data": {
      "text/plain": [
       "8"
      ]
     },
     "execution_count": 37,
     "metadata": {},
     "output_type": "execute_result"
    }
   ],
   "source": [
    "k_elbow"
   ]
  },
  {
   "cell_type": "markdown",
   "id": "af499098-9170-48ea-947d-32869344c0de",
   "metadata": {},
   "source": [
    "# Implement K-Medoids"
   ]
  },
  {
   "cell_type": "code",
   "execution_count": 39,
   "id": "8313ffbd-e22f-4f45-88b6-ff7c066e0393",
   "metadata": {
    "tags": []
   },
   "outputs": [],
   "source": [
    "n_clusters = 20"
   ]
  },
  {
   "cell_type": "code",
   "execution_count": 40,
   "id": "1518b606-7652-4207-a253-06fce7e93bbd",
   "metadata": {
    "tags": []
   },
   "outputs": [
    {
     "data": {
      "text/html": [
       "<style>#sk-container-id-2 {color: black;background-color: white;}#sk-container-id-2 pre{padding: 0;}#sk-container-id-2 div.sk-toggleable {background-color: white;}#sk-container-id-2 label.sk-toggleable__label {cursor: pointer;display: block;width: 100%;margin-bottom: 0;padding: 0.3em;box-sizing: border-box;text-align: center;}#sk-container-id-2 label.sk-toggleable__label-arrow:before {content: \"▸\";float: left;margin-right: 0.25em;color: #696969;}#sk-container-id-2 label.sk-toggleable__label-arrow:hover:before {color: black;}#sk-container-id-2 div.sk-estimator:hover label.sk-toggleable__label-arrow:before {color: black;}#sk-container-id-2 div.sk-toggleable__content {max-height: 0;max-width: 0;overflow: hidden;text-align: left;background-color: #f0f8ff;}#sk-container-id-2 div.sk-toggleable__content pre {margin: 0.2em;color: black;border-radius: 0.25em;background-color: #f0f8ff;}#sk-container-id-2 input.sk-toggleable__control:checked~div.sk-toggleable__content {max-height: 200px;max-width: 100%;overflow: auto;}#sk-container-id-2 input.sk-toggleable__control:checked~label.sk-toggleable__label-arrow:before {content: \"▾\";}#sk-container-id-2 div.sk-estimator input.sk-toggleable__control:checked~label.sk-toggleable__label {background-color: #d4ebff;}#sk-container-id-2 div.sk-label input.sk-toggleable__control:checked~label.sk-toggleable__label {background-color: #d4ebff;}#sk-container-id-2 input.sk-hidden--visually {border: 0;clip: rect(1px 1px 1px 1px);clip: rect(1px, 1px, 1px, 1px);height: 1px;margin: -1px;overflow: hidden;padding: 0;position: absolute;width: 1px;}#sk-container-id-2 div.sk-estimator {font-family: monospace;background-color: #f0f8ff;border: 1px dotted black;border-radius: 0.25em;box-sizing: border-box;margin-bottom: 0.5em;}#sk-container-id-2 div.sk-estimator:hover {background-color: #d4ebff;}#sk-container-id-2 div.sk-parallel-item::after {content: \"\";width: 100%;border-bottom: 1px solid gray;flex-grow: 1;}#sk-container-id-2 div.sk-label:hover label.sk-toggleable__label {background-color: #d4ebff;}#sk-container-id-2 div.sk-serial::before {content: \"\";position: absolute;border-left: 1px solid gray;box-sizing: border-box;top: 0;bottom: 0;left: 50%;z-index: 0;}#sk-container-id-2 div.sk-serial {display: flex;flex-direction: column;align-items: center;background-color: white;padding-right: 0.2em;padding-left: 0.2em;position: relative;}#sk-container-id-2 div.sk-item {position: relative;z-index: 1;}#sk-container-id-2 div.sk-parallel {display: flex;align-items: stretch;justify-content: center;background-color: white;position: relative;}#sk-container-id-2 div.sk-item::before, #sk-container-id-2 div.sk-parallel-item::before {content: \"\";position: absolute;border-left: 1px solid gray;box-sizing: border-box;top: 0;bottom: 0;left: 50%;z-index: -1;}#sk-container-id-2 div.sk-parallel-item {display: flex;flex-direction: column;z-index: 1;position: relative;background-color: white;}#sk-container-id-2 div.sk-parallel-item:first-child::after {align-self: flex-end;width: 50%;}#sk-container-id-2 div.sk-parallel-item:last-child::after {align-self: flex-start;width: 50%;}#sk-container-id-2 div.sk-parallel-item:only-child::after {width: 0;}#sk-container-id-2 div.sk-dashed-wrapped {border: 1px dashed gray;margin: 0 0.4em 0.5em 0.4em;box-sizing: border-box;padding-bottom: 0.4em;background-color: white;}#sk-container-id-2 div.sk-label label {font-family: monospace;font-weight: bold;display: inline-block;line-height: 1.2em;}#sk-container-id-2 div.sk-label-container {text-align: center;}#sk-container-id-2 div.sk-container {/* jupyter's `normalize.less` sets `[hidden] { display: none; }` but bootstrap.min.css set `[hidden] { display: none !important; }` so we also need the `!important` here to be able to override the default hidden behavior on the sphinx rendered scikit-learn.org. See: https://github.com/scikit-learn/scikit-learn/issues/21755 */display: inline-block !important;position: relative;}#sk-container-id-2 div.sk-text-repr-fallback {display: none;}</style><div id=\"sk-container-id-2\" class=\"sk-top-container\"><div class=\"sk-text-repr-fallback\"><pre>KMedoids(metric=&#x27;precomputed&#x27;, n_clusters=20)</pre><b>In a Jupyter environment, please rerun this cell to show the HTML representation or trust the notebook. <br />On GitHub, the HTML representation is unable to render, please try loading this page with nbviewer.org.</b></div><div class=\"sk-container\" hidden><div class=\"sk-item\"><div class=\"sk-estimator sk-toggleable\"><input class=\"sk-toggleable__control sk-hidden--visually\" id=\"sk-estimator-id-2\" type=\"checkbox\" checked><label for=\"sk-estimator-id-2\" class=\"sk-toggleable__label sk-toggleable__label-arrow\">KMedoids</label><div class=\"sk-toggleable__content\"><pre>KMedoids(metric=&#x27;precomputed&#x27;, n_clusters=20)</pre></div></div></div></div></div>"
      ],
      "text/plain": [
       "KMedoids(metric='precomputed', n_clusters=20)"
      ]
     },
     "execution_count": 40,
     "metadata": {},
     "output_type": "execute_result"
    }
   ],
   "source": [
    "kmedoids = KMedoids(n_clusters=n_clusters, metric='precomputed')\n",
    "kmedoids.fit(distances)"
   ]
  },
  {
   "cell_type": "code",
   "execution_count": 41,
   "id": "088145e4-cbe3-4ede-8cae-8d22a27ac536",
   "metadata": {
    "tags": []
   },
   "outputs": [
    {
     "data": {
      "image/png": "[encoded data removed]",
      "text/plain": [
       "<Figure size 1000x700 with 1 Axes>"
      ]
     },
     "metadata": {},
     "output_type": "display_data"
    }
   ],
   "source": [
    "plt.figure(figsize=(10,7))\n",
    "labels, counts = np.unique(kmedoids.labels_, return_counts=True)\n",
    "counts = counts / len(kmedoids.labels_)\n",
    "plt.bar(labels+1, counts, align='center', color = 'black')\n",
    "plt.gca().set_xticks(labels+1)\n",
    "plt.gca().yaxis.set_major_formatter(PercentFormatter(1))\n",
    "plt.title('Distribution des clusters')\n",
    "plt.xlabel(\"Cluster\")\n",
    "plt.ylabel('Pct population')\n",
    "plt.show()"
   ]
  },
  {
   "cell_type": "markdown",
   "id": "7f8f0b9c-0f25-42fe-a62a-1105e232720e",
   "metadata": {
    "jp-MarkdownHeadingCollapsed": true,
    "tags": []
   },
   "source": [
    "##### Ajout des clusters dans la base"
   ]
  },
  {
   "cell_type": "code",
   "execution_count": 27,
   "id": "c5aa044f-0527-4eb7-a93e-ecb3eeada258",
   "metadata": {
    "tags": []
   },
   "outputs": [],
   "source": [
    "base_patient = base_patient.drop(columns=[\"cluster\"])"
   ]
  },
  {
   "cell_type": "code",
   "execution_count": 28,
   "id": "4a41ea98-f030-48d6-b6ce-3ab87497077b",
   "metadata": {
    "tags": []
   },
   "outputs": [],
   "source": [
    "for i in range(1, n_clusters+1):\n",
    "    base_patient[\"cluster\"+str(i)] = [0]*len(base_patient)"
   ]
  },
  {
   "cell_type": "code",
   "execution_count": 29,
   "id": "ff2f173b-76dd-470b-a185-cf1cc763b517",
   "metadata": {
    "tags": []
   },
   "outputs": [],
   "source": [
    "for i, label in enumerate(kmedoids.labels_):\n",
    "    base_patient.loc[i, \"cluster\"+str(label+1)] = 1"
   ]
  },
  {
   "cell_type": "markdown",
   "id": "a97b0e3b-ccf0-4394-89c7-64f0f2864e29",
   "metadata": {
    "jp-MarkdownHeadingCollapsed": true,
    "tags": []
   },
   "source": [
    "##### Ajout d'une colonne contenant les parcours de soins"
   ]
  },
  {
   "cell_type": "code",
   "execution_count": 30,
   "id": "9a8fdc5f-ac5e-4aaa-8a06-6fb19fbe4237",
   "metadata": {
    "tags": []
   },
   "outputs": [],
   "source": [
    "base_patient['p_soins'] = ['']*len(base_patient)"
   ]
  },
  {
   "cell_type": "code",
   "execution_count": 31,
   "id": "36ad3b70-9b8c-436f-8102-80312afba9a6",
   "metadata": {
    "tags": []
   },
   "outputs": [],
   "source": [
    "for i, patient in enumerate(X_patient):\n",
    "    p_soin = convert_to_sentence(patient)\n",
    "    base_patient.loc[i, 'p_soins'] = p_soin"
   ]
  },
  {
   "cell_type": "code",
   "execution_count": 32,
   "id": "37a06922-db42-496e-9968-acb7669300f4",
   "metadata": {
    "tags": []
   },
   "outputs": [
    {
     "data": {
      "text/html": [
       "<div>\n",
       "<style scoped>\n",
       "    .dataframe tbody tr th:only-of-type {\n",
       "        vertical-align: middle;\n",
       "    }\n",
       "\n",
       "    .dataframe tbody tr th {\n",
       "        vertical-align: top;\n",
       "    }\n",
       "\n",
       "    .dataframe thead th {\n",
       "        text-align: right;\n",
       "    }\n",
       "</style>\n",
       "<table border=\"1\" class=\"dataframe\">\n",
       "  <thead>\n",
       "    <tr style=\"text-align: right;\">\n",
       "      <th></th>\n",
       "      <th>CODE_PATIENT</th>\n",
       "      <th>date_h0</th>\n",
       "      <th>y_nais</th>\n",
       "      <th>BEN_RES_DPT</th>\n",
       "      <th>BEN_SEX_COD</th>\n",
       "      <th>dte_deces</th>\n",
       "      <th>Mort</th>\n",
       "      <th>Nb_survie</th>\n",
       "      <th>Nb_hospit</th>\n",
       "      <th>CHOC</th>\n",
       "      <th>...</th>\n",
       "      <th>cluster12</th>\n",
       "      <th>cluster13</th>\n",
       "      <th>cluster14</th>\n",
       "      <th>cluster15</th>\n",
       "      <th>cluster16</th>\n",
       "      <th>cluster17</th>\n",
       "      <th>cluster18</th>\n",
       "      <th>cluster19</th>\n",
       "      <th>cluster20</th>\n",
       "      <th>p_soins</th>\n",
       "    </tr>\n",
       "  </thead>\n",
       "  <tbody>\n",
       "    <tr>\n",
       "      <th>0</th>\n",
       "      <td>P0</td>\n",
       "      <td>2011</td>\n",
       "      <td>1949</td>\n",
       "      <td>11</td>\n",
       "      <td>0</td>\n",
       "      <td>NaN</td>\n",
       "      <td>0</td>\n",
       "      <td>2596</td>\n",
       "      <td>9</td>\n",
       "      <td>0</td>\n",
       "      <td>...</td>\n",
       "      <td>0</td>\n",
       "      <td>0</td>\n",
       "      <td>0</td>\n",
       "      <td>0</td>\n",
       "      <td>0</td>\n",
       "      <td>0</td>\n",
       "      <td>0</td>\n",
       "      <td>0</td>\n",
       "      <td>0</td>\n",
       "      <td>05K051,05M042,05M16T,05M09T,05M092,05C191,05M2...</td>\n",
       "    </tr>\n",
       "    <tr>\n",
       "      <th>1</th>\n",
       "      <td>P6</td>\n",
       "      <td>2013</td>\n",
       "      <td>1929</td>\n",
       "      <td>14</td>\n",
       "      <td>1</td>\n",
       "      <td>2015-03</td>\n",
       "      <td>1</td>\n",
       "      <td>456</td>\n",
       "      <td>8</td>\n",
       "      <td>0</td>\n",
       "      <td>...</td>\n",
       "      <td>0</td>\n",
       "      <td>0</td>\n",
       "      <td>0</td>\n",
       "      <td>0</td>\n",
       "      <td>0</td>\n",
       "      <td>1</td>\n",
       "      <td>0</td>\n",
       "      <td>0</td>\n",
       "      <td>0</td>\n",
       "      <td>02C05J,02C05J,05M093,04M132,05C222,23M103,04M0...</td>\n",
       "    </tr>\n",
       "    <tr>\n",
       "      <th>2</th>\n",
       "      <td>P8</td>\n",
       "      <td>2015</td>\n",
       "      <td>1967</td>\n",
       "      <td>54</td>\n",
       "      <td>1</td>\n",
       "      <td>2015-08</td>\n",
       "      <td>1</td>\n",
       "      <td>41</td>\n",
       "      <td>3</td>\n",
       "      <td>1</td>\n",
       "      <td>...</td>\n",
       "      <td>0</td>\n",
       "      <td>0</td>\n",
       "      <td>0</td>\n",
       "      <td>0</td>\n",
       "      <td>0</td>\n",
       "      <td>0</td>\n",
       "      <td>1</td>\n",
       "      <td>0</td>\n",
       "      <td>0</td>\n",
       "      <td>11M041,06C194</td>\n",
       "    </tr>\n",
       "  </tbody>\n",
       "</table>\n",
       "<p>3 rows × 35 columns</p>\n",
       "</div>"
      ],
      "text/plain": [
       "  CODE_PATIENT  date_h0  y_nais BEN_RES_DPT  BEN_SEX_COD dte_deces  Mort  \\\n",
       "0           P0     2011    1949          11            0       NaN     0   \n",
       "1           P6     2013    1929          14            1   2015-03     1   \n",
       "2           P8     2015    1967          54            1   2015-08     1   \n",
       "\n",
       "   Nb_survie  Nb_hospit  CHOC  ...  cluster12  cluster13  cluster14  \\\n",
       "0       2596          9     0  ...          0          0          0   \n",
       "1        456          8     0  ...          0          0          0   \n",
       "2         41          3     1  ...          0          0          0   \n",
       "\n",
       "   cluster15  cluster16  cluster17  cluster18  cluster19  cluster20  \\\n",
       "0          0          0          0          0          0          0   \n",
       "1          0          0          1          0          0          0   \n",
       "2          0          0          0          1          0          0   \n",
       "\n",
       "                                             p_soins  \n",
       "0  05K051,05M042,05M16T,05M09T,05M092,05C191,05M2...  \n",
       "1  02C05J,02C05J,05M093,04M132,05C222,23M103,04M0...  \n",
       "2                                      11M041,06C194  \n",
       "\n",
       "[3 rows x 35 columns]"
      ]
     },
     "execution_count": 32,
     "metadata": {},
     "output_type": "execute_result"
    }
   ],
   "source": [
    "base_patient.head(3)"
   ]
  },
  {
   "cell_type": "code",
   "execution_count": 33,
   "id": "0848369a-2a66-4b2a-bb3a-e226cec57bbe",
   "metadata": {
    "tags": []
   },
   "outputs": [],
   "source": [
    "base_patient.to_csv(\"../data/profil_patient_cluster.csv\", index=False)"
   ]
  },
  {
   "cell_type": "markdown",
   "id": "8bfd6ec9-e8b4-4c97-8f40-3debb7a09175",
   "metadata": {},
   "source": [
    "# Visualisation des clusters"
   ]
  },
  {
   "cell_type": "code",
   "execution_count": 42,
   "id": "58250bd0-7894-4b95-b480-3d31d9ed0554",
   "metadata": {
    "tags": []
   },
   "outputs": [],
   "source": [
    "clusters = kmedoids.labels_"
   ]
  },
  {
   "cell_type": "markdown",
   "id": "7e95c42f-4362-41c7-9a0a-624b96ded44f",
   "metadata": {},
   "source": [
    "##### Moyenne age"
   ]
  },
  {
   "cell_type": "code",
   "execution_count": 43,
   "id": "8473fe02-c821-4503-8ba0-a74c0a0e7f7d",
   "metadata": {
    "tags": []
   },
   "outputs": [],
   "source": [
    "avg_ynais_cluster = [0]*n_clusters\n",
    "for i in range(1, n_clusters+1):\n",
    "    base_patient_cluster_i = base_patient.loc[base_patient[\"cluster\" + str(i)] == 1]\n",
    "    avg_ynais_cluster[i-1] = base_patient_cluster_i.y_nais.mean()"
   ]
  },
  {
   "cell_type": "code",
   "execution_count": 45,
   "id": "7e148644-a837-4d75-b9af-52625076b362",
   "metadata": {
    "tags": []
   },
   "outputs": [
    {
     "data": {
      "image/png": "[encoded data removed]",
      "text/plain": [
       "<Figure size 640x480 with 1 Axes>"
      ]
     },
     "metadata": {},
     "output_type": "display_data"
    }
   ],
   "source": [
    "plt.plot(range(1, n_clusters+1), avg_ynais_cluster)\n",
    "plt.title('y_nais moyen par cluster')\n",
    "plt.show()"
   ]
  },
  {
   "cell_type": "code",
   "execution_count": null,
   "id": "b74477b3-3de3-4e94-91e6-689a7bd797df",
   "metadata": {},
   "outputs": [],
   "source": []
  }
 ],
 "metadata": {
  "kernelspec": {
   "display_name": "Python 3 (ipykernel)",
   "language": "python",
   "name": "python3"
  },
  "language_info": {
   "codemirror_mode": {
    "name": "ipython",
    "version": 3
   },
   "file_extension": ".py",
   "mimetype": "text/x-python",
   "name": "python",
   "nbconvert_exporter": "python",
   "pygments_lexer": "ipython3",
   "version": "3.10.8"
  }
 },
 "nbformat": 4,
 "nbformat_minor": 5
}
