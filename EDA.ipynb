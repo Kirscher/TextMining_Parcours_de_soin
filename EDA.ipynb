{
 "cells": [
  {
   "cell_type": "markdown",
   "id": "d27bcb7d-a1a7-4058-9eaa-c9c7a87dcce1",
   "metadata": {},
   "source": [
    "## EDA - Bases de données patient, consommant et hospitalisation"
   ]
  },
  {
   "cell_type": "code",
   "execution_count": 19,
   "id": "6146a50d-d923-4285-b6a0-19a8535cbc93",
   "metadata": {},
   "outputs": [
    {
     "name": "stdout",
     "output_type": "stream",
     "text": [
      "Collecting pandas_profiling\n",
      "  Downloading pandas_profiling-3.5.0-py2.py3-none-any.whl (325 kB)\n",
      "\u001b[2K     \u001b[90m━━━━━━━━━━━━━━━━━━━━━━━━━━━━━━━━━━━━━━\u001b[0m \u001b[32m325.0/325.0 kB\u001b[0m \u001b[31m10.8 MB/s\u001b[0m eta \u001b[36m0:00:00\u001b[0m\n",
      "\u001b[?25hCollecting pydantic<1.11,>=1.8.1\n",
      "  Downloading pydantic-1.10.2-cp310-cp310-manylinux_2_17_x86_64.manylinux2014_x86_64.whl (12.8 MB)\n",
      "\u001b[2K     \u001b[90m━━━━━━━━━━━━━━━━━━━━━━━━━━━━━━━━━━━━━━━━\u001b[0m \u001b[32m12.8/12.8 MB\u001b[0m \u001b[31m17.2 MB/s\u001b[0m eta \u001b[36m0:00:00\u001b[0m00:01\u001b[0m00:01\u001b[0m\n",
      "\u001b[?25hRequirement already satisfied: PyYAML<6.1,>=5.0.0 in /opt/mamba/lib/python3.10/site-packages (from pandas_profiling) (6.0)\n",
      "Requirement already satisfied: numpy<1.24,>=1.16.0 in /opt/mamba/lib/python3.10/site-packages (from pandas_profiling) (1.23.5)\n",
      "Collecting htmlmin==0.1.12\n",
      "  Downloading htmlmin-0.1.12.tar.gz (19 kB)\n",
      "  Preparing metadata (setup.py) ... \u001b[?25ldone\n",
      "\u001b[?25hRequirement already satisfied: requests<2.29,>=2.24.0 in /opt/mamba/lib/python3.10/site-packages (from pandas_profiling) (2.28.1)\n",
      "Requirement already satisfied: seaborn<0.13,>=0.10.1 in /opt/mamba/lib/python3.10/site-packages (from pandas_profiling) (0.12.1)\n",
      "Collecting multimethod<1.10,>=1.4\n",
      "  Downloading multimethod-1.9-py3-none-any.whl (10 kB)\n",
      "Requirement already satisfied: matplotlib<3.7,>=3.2 in /opt/mamba/lib/python3.10/site-packages (from pandas_profiling) (3.6.2)\n",
      "Requirement already satisfied: statsmodels<0.14,>=0.13.2 in /opt/mamba/lib/python3.10/site-packages (from pandas_profiling) (0.13.5)\n",
      "Requirement already satisfied: jinja2<3.2,>=2.11.1 in /opt/mamba/lib/python3.10/site-packages (from pandas_profiling) (3.1.2)\n",
      "Collecting visions[type_image_path]==0.7.5\n",
      "  Downloading visions-0.7.5-py3-none-any.whl (102 kB)\n",
      "\u001b[2K     \u001b[90m━━━━━━━━━━━━━━━━━━━━━━━━━━━━━━━━━━━━━━\u001b[0m \u001b[32m102.7/102.7 kB\u001b[0m \u001b[31m35.4 MB/s\u001b[0m eta \u001b[36m0:00:00\u001b[0m\n",
      "\u001b[?25hCollecting phik<0.13,>=0.11.1\n",
      "  Downloading phik-0.12.3-cp310-cp310-manylinux_2_17_x86_64.manylinux2014_x86_64.whl (679 kB)\n",
      "\u001b[2K     \u001b[90m━━━━━━━━━━━━━━━━━━━━━━━━━━━━━━━━━━━━━━\u001b[0m \u001b[32m679.5/679.5 kB\u001b[0m \u001b[31m20.6 MB/s\u001b[0m eta \u001b[36m0:00:00\u001b[0m\n",
      "\u001b[?25hRequirement already satisfied: tqdm<4.65,>=4.48.2 in /opt/mamba/lib/python3.10/site-packages (from pandas_profiling) (4.64.1)\n",
      "Requirement already satisfied: scipy<1.10,>=1.4.1 in /opt/mamba/lib/python3.10/site-packages (from pandas_profiling) (1.9.3)\n",
      "Collecting typeguard<2.14,>=2.13.2\n",
      "  Downloading typeguard-2.13.3-py3-none-any.whl (17 kB)\n",
      "Requirement already satisfied: pandas!=1.4.0,<1.6,>1.1 in /opt/mamba/lib/python3.10/site-packages (from pandas_profiling) (1.5.1)\n",
      "Collecting tangled-up-in-unicode>=0.0.4\n",
      "  Downloading tangled_up_in_unicode-0.2.0-py3-none-any.whl (4.7 MB)\n",
      "\u001b[2K     \u001b[90m━━━━━━━━━━━━━━━━━━━━━━━━━━━━━━━━━━━━━━━━\u001b[0m \u001b[32m4.7/4.7 MB\u001b[0m \u001b[31m20.3 MB/s\u001b[0m eta \u001b[36m0:00:00\u001b[0ma \u001b[36m0:00:01\u001b[0m\n",
      "\u001b[?25hRequirement already satisfied: networkx>=2.4 in /opt/mamba/lib/python3.10/site-packages (from visions[type_image_path]==0.7.5->pandas_profiling) (2.8.8)\n",
      "Requirement already satisfied: attrs>=19.3.0 in /opt/mamba/lib/python3.10/site-packages (from visions[type_image_path]==0.7.5->pandas_profiling) (22.1.0)\n",
      "Collecting imagehash\n",
      "  Downloading ImageHash-4.3.1-py2.py3-none-any.whl (296 kB)\n",
      "\u001b[2K     \u001b[90m━━━━━━━━━━━━━━━━━━━━━━━━━━━━━━━━━━━━━━\u001b[0m \u001b[32m296.5/296.5 kB\u001b[0m \u001b[31m21.3 MB/s\u001b[0m eta \u001b[36m0:00:00\u001b[0m\n",
      "\u001b[?25hRequirement already satisfied: Pillow in /opt/mamba/lib/python3.10/site-packages (from visions[type_image_path]==0.7.5->pandas_profiling) (9.2.0)\n",
      "Requirement already satisfied: MarkupSafe>=2.0 in /opt/mamba/lib/python3.10/site-packages (from jinja2<3.2,>=2.11.1->pandas_profiling) (2.1.1)\n",
      "Requirement already satisfied: cycler>=0.10 in /opt/mamba/lib/python3.10/site-packages (from matplotlib<3.7,>=3.2->pandas_profiling) (0.11.0)\n",
      "Requirement already satisfied: kiwisolver>=1.0.1 in /opt/mamba/lib/python3.10/site-packages (from matplotlib<3.7,>=3.2->pandas_profiling) (1.4.4)\n",
      "Requirement already satisfied: packaging>=20.0 in /opt/mamba/lib/python3.10/site-packages (from matplotlib<3.7,>=3.2->pandas_profiling) (21.3)\n",
      "Requirement already satisfied: contourpy>=1.0.1 in /opt/mamba/lib/python3.10/site-packages (from matplotlib<3.7,>=3.2->pandas_profiling) (1.0.6)\n",
      "Requirement already satisfied: pyparsing>=2.2.1 in /opt/mamba/lib/python3.10/site-packages (from matplotlib<3.7,>=3.2->pandas_profiling) (3.0.9)\n",
      "Requirement already satisfied: fonttools>=4.22.0 in /opt/mamba/lib/python3.10/site-packages (from matplotlib<3.7,>=3.2->pandas_profiling) (4.38.0)\n",
      "Requirement already satisfied: python-dateutil>=2.7 in /opt/mamba/lib/python3.10/site-packages (from matplotlib<3.7,>=3.2->pandas_profiling) (2.8.2)\n",
      "Requirement already satisfied: pytz>=2020.1 in /opt/mamba/lib/python3.10/site-packages (from pandas!=1.4.0,<1.6,>1.1->pandas_profiling) (2022.6)\n",
      "Requirement already satisfied: joblib>=0.14.1 in /opt/mamba/lib/python3.10/site-packages (from phik<0.13,>=0.11.1->pandas_profiling) (1.2.0)\n",
      "Requirement already satisfied: typing-extensions>=4.1.0 in /opt/mamba/lib/python3.10/site-packages (from pydantic<1.11,>=1.8.1->pandas_profiling) (4.4.0)\n",
      "Requirement already satisfied: certifi>=2017.4.17 in /opt/mamba/lib/python3.10/site-packages (from requests<2.29,>=2.24.0->pandas_profiling) (2022.9.24)\n",
      "Requirement already satisfied: urllib3<1.27,>=1.21.1 in /opt/mamba/lib/python3.10/site-packages (from requests<2.29,>=2.24.0->pandas_profiling) (1.26.11)\n",
      "Requirement already satisfied: idna<4,>=2.5 in /opt/mamba/lib/python3.10/site-packages (from requests<2.29,>=2.24.0->pandas_profiling) (3.4)\n",
      "Requirement already satisfied: charset-normalizer<3,>=2 in /opt/mamba/lib/python3.10/site-packages (from requests<2.29,>=2.24.0->pandas_profiling) (2.1.1)\n",
      "Requirement already satisfied: patsy>=0.5.2 in /opt/mamba/lib/python3.10/site-packages (from statsmodels<0.14,>=0.13.2->pandas_profiling) (0.5.3)\n",
      "Requirement already satisfied: six in /opt/mamba/lib/python3.10/site-packages (from patsy>=0.5.2->statsmodels<0.14,>=0.13.2->pandas_profiling) (1.16.0)\n",
      "Collecting PyWavelets\n",
      "  Downloading PyWavelets-1.4.1-cp310-cp310-manylinux_2_17_x86_64.manylinux2014_x86_64.whl (6.8 MB)\n",
      "\u001b[2K     \u001b[90m━━━━━━━━━━━━━━━━━━━━━━━━━━━━━━━━━━━━━━━━\u001b[0m \u001b[32m6.8/6.8 MB\u001b[0m \u001b[31m22.4 MB/s\u001b[0m eta \u001b[36m0:00:00\u001b[0m00:01\u001b[0m00:01\u001b[0m\n",
      "\u001b[?25hBuilding wheels for collected packages: htmlmin\n",
      "  Building wheel for htmlmin (setup.py) ... \u001b[?25ldone\n",
      "\u001b[?25h  Created wheel for htmlmin: filename=htmlmin-0.1.12-py3-none-any.whl size=27081 sha256=9e6f316438168bfeaa66af9b1561dbc316deb4a3f098a4e376e97a1785f3617b\n",
      "  Stored in directory: /home/onyxia/.cache/pip/wheels/ea/1c/a8/5cec3479cd45136a7111e2d96aac299b219b199c411665250b\n",
      "Successfully built htmlmin\n",
      "Installing collected packages: htmlmin, typeguard, tangled-up-in-unicode, PyWavelets, pydantic, multimethod, imagehash, visions, phik, pandas_profiling\n",
      "Successfully installed PyWavelets-1.4.1 htmlmin-0.1.12 imagehash-4.3.1 multimethod-1.9 pandas_profiling-3.5.0 phik-0.12.3 pydantic-1.10.2 tangled-up-in-unicode-0.2.0 typeguard-2.13.3 visions-0.7.5\n"
     ]
    }
   ],
   "source": [
    "!pip install pandas_profiling"
   ]
  },
  {
   "cell_type": "code",
   "execution_count": 77,
   "id": "be4672c9-f172-43c0-9dab-05fb8119befb",
   "metadata": {},
   "outputs": [],
   "source": [
    "import numpy as np\n",
    "import os\n",
    "import pandas as pd\n",
    "from pandas_profiling import ProfileReport"
   ]
  },
  {
   "cell_type": "code",
   "execution_count": null,
   "id": "9e9d0df4-85d9-441c-a1f9-ff4b670e66c7",
   "metadata": {},
   "outputs": [],
   "source": [
    "hospit=pd.read_csv(\"base_hospit.csv\")\n",
    "patient=pd.read_csv(\"base_patient.csv\")\n",
    "conso=pd.read_csv(\"consommant.csv\")"
   ]
  },
  {
   "cell_type": "markdown",
   "id": "6b829bdd-89cc-432c-af6e-210f3c943b46",
   "metadata": {},
   "source": [
    "### Hospitalisation"
   ]
  },
  {
   "cell_type": "code",
   "execution_count": 40,
   "id": "c0270c9a-76d8-43da-9f1e-31be2e9f77c0",
   "metadata": {},
   "outputs": [],
   "source": [
    "hospit['EXE_SOI_DTD']=pd.to_datetime(hospit['EXE_SOI_DTD'], dayfirst=True)\n",
    "hospit['SEJ_NBJ']=hospit['SEJ_NBJ'].fillna(np.nan).astype(float)\n",
    "hospit['SEJ_NBJ']=hospit['SEJ_NBJ'].astype('Int64')"
   ]
  },
  {
   "cell_type": "code",
   "execution_count": 30,
   "id": "efd37cf7-301d-4e70-b1e6-9040080f27a1",
   "metadata": {},
   "outputs": [
    {
     "name": "stdout",
     "output_type": "stream",
     "text": [
      "<class 'pandas.core.frame.DataFrame'>\n",
      "RangeIndex: 226127 entries, 0 to 226126\n",
      "Data columns (total 8 columns):\n",
      " #   Column       Non-Null Count   Dtype         \n",
      "---  ------       --------------   -----         \n",
      " 0   BEN_NIR_IDT  226127 non-null  object        \n",
      " 1   RSA_NUM      226127 non-null  object        \n",
      " 2   ETA_NUM      226127 non-null  object        \n",
      " 3   EXE_SOI_DTD  226125 non-null  datetime64[ns]\n",
      " 4   SEJ_NBJ      222634 non-null  float64       \n",
      " 5   GRG_GHM      226127 non-null  object        \n",
      " 6   DGN_PAL      226127 non-null  object        \n",
      " 7   DGN_REL      95653 non-null   object        \n",
      "dtypes: datetime64[ns](1), float64(1), object(6)\n",
      "memory usage: 13.8+ MB\n"
     ]
    }
   ],
   "source": [
    "hospit.info()"
   ]
  },
  {
   "cell_type": "code",
   "execution_count": 51,
   "id": "aeaf3965-539e-4443-934f-9a9b0ce4193d",
   "metadata": {},
   "outputs": [],
   "source": [
    "profile_hospit = ProfileReport(hospit, title=\"Hospit Profile Report\")"
   ]
  },
  {
   "cell_type": "code",
   "execution_count": 76,
   "id": "6cdbf195-7081-42fb-9dc1-0a650ede9d4b",
   "metadata": {},
   "outputs": [],
   "source": [
    "#profile_hospit.to_notebook_iframe()"
   ]
  },
  {
   "cell_type": "code",
   "execution_count": 53,
   "id": "82f6e39e-36e3-4457-b55f-8c03a4d6c615",
   "metadata": {},
   "outputs": [
    {
     "data": {
      "application/vnd.jupyter.widget-view+json": {
       "model_id": "46a89b4ba9f546f7887ccd96b324c3eb",
       "version_major": 2,
       "version_minor": 0
      },
      "text/plain": [
       "Export report to file:   0%|          | 0/1 [00:00<?, ?it/s]"
      ]
     },
     "metadata": {},
     "output_type": "display_data"
    }
   ],
   "source": [
    "profile_hospit.to_file(\"profile_hospit.html\")"
   ]
  },
  {
   "cell_type": "markdown",
   "id": "fc115b90-460d-44e8-a47a-18b39516aef3",
   "metadata": {},
   "source": [
    "### Consommant"
   ]
  },
  {
   "cell_type": "code",
   "execution_count": 78,
   "id": "b043d43f-0d7b-49ee-aeee-5fbce2017706",
   "metadata": {},
   "outputs": [],
   "source": [
    "#consommant.head()"
   ]
  },
  {
   "cell_type": "code",
   "execution_count": 60,
   "id": "9ef0326c-a10a-46a2-a465-1059f51cbe2e",
   "metadata": {},
   "outputs": [
    {
     "name": "stdout",
     "output_type": "stream",
     "text": [
      "<class 'pandas.core.frame.DataFrame'>\n",
      "RangeIndex: 24232 entries, 0 to 24231\n",
      "Data columns (total 3 columns):\n",
      " #   Column        Non-Null Count  Dtype \n",
      "---  ------        --------------  ----- \n",
      " 0   CODE_PATIENT  24232 non-null  object\n",
      " 1   _TEMG001      24232 non-null  int64 \n",
      " 2   datemax       24232 non-null  object\n",
      "dtypes: int64(1), object(2)\n",
      "memory usage: 568.1+ KB\n"
     ]
    }
   ],
   "source": [
    "consommant.info()"
   ]
  },
  {
   "cell_type": "code",
   "execution_count": 62,
   "id": "77f42eb6-0933-4c83-89f7-e8eed272a19d",
   "metadata": {},
   "outputs": [],
   "source": [
    "consommant['datemax']=pd.to_datetime(consommant['datemax'], dayfirst=True)"
   ]
  },
  {
   "cell_type": "code",
   "execution_count": 63,
   "id": "4d7bf12c-62e6-4578-8908-6fb005283ac8",
   "metadata": {},
   "outputs": [],
   "source": [
    "profile_conso = ProfileReport(consommant, title=\"Consommant Profile Report\")"
   ]
  },
  {
   "cell_type": "code",
   "execution_count": 80,
   "id": "4516c983-4358-45a1-bfb0-d1e30dbf25aa",
   "metadata": {},
   "outputs": [],
   "source": [
    "#profile_conso.to_notebook_iframe()"
   ]
  },
  {
   "cell_type": "code",
   "execution_count": 66,
   "id": "ab6ea17f-9199-4633-917c-98301588eaaf",
   "metadata": {},
   "outputs": [
    {
     "data": {
      "application/vnd.jupyter.widget-view+json": {
       "model_id": "24270ced50094b138e5d596c081cfa95",
       "version_major": 2,
       "version_minor": 0
      },
      "text/plain": [
       "Export report to file:   0%|          | 0/1 [00:00<?, ?it/s]"
      ]
     },
     "metadata": {},
     "output_type": "display_data"
    }
   ],
   "source": [
    "profile_conso.to_file(\"profile_conso.html\")"
   ]
  },
  {
   "cell_type": "markdown",
   "id": "63a58b10-c1ae-4760-bc61-8b638d22f6e4",
   "metadata": {},
   "source": [
    "### Patient"
   ]
  },
  {
   "cell_type": "code",
   "execution_count": 79,
   "id": "f18806fa-d351-44ac-975e-f26dd2d11eb5",
   "metadata": {},
   "outputs": [],
   "source": [
    "#patient.head()"
   ]
  },
  {
   "cell_type": "code",
   "execution_count": 69,
   "id": "9cb45bfd-aab4-4486-a743-6bf0b2713519",
   "metadata": {},
   "outputs": [],
   "source": [
    "patient['date_h0']=pd.to_datetime(patient['date_h0'], dayfirst=True)"
   ]
  },
  {
   "cell_type": "code",
   "execution_count": 70,
   "id": "c66b1fdd-2e31-48d4-8ccc-5fc46f8b9946",
   "metadata": {},
   "outputs": [],
   "source": [
    "patient['dte_deces']=pd.to_datetime(patient['dte_deces'], dayfirst=True)"
   ]
  },
  {
   "cell_type": "code",
   "execution_count": 71,
   "id": "70bcf163-e65e-4d5e-9d1c-fa4e6a657c2f",
   "metadata": {},
   "outputs": [
    {
     "name": "stdout",
     "output_type": "stream",
     "text": [
      "<class 'pandas.core.frame.DataFrame'>\n",
      "RangeIndex: 24311 entries, 0 to 24310\n",
      "Data columns (total 8 columns):\n",
      " #   Column        Non-Null Count  Dtype         \n",
      "---  ------        --------------  -----         \n",
      " 0   CODE_PATIENT  24311 non-null  object        \n",
      " 1   date_h0       24311 non-null  datetime64[ns]\n",
      " 2   ALD_before    24311 non-null  int64         \n",
      " 3   pop           24311 non-null  int64         \n",
      " 4   y_nais        24311 non-null  int64         \n",
      " 5   BEN_RES_DPT   24311 non-null  object        \n",
      " 6   BEN_SEX_COD   24311 non-null  int64         \n",
      " 7   dte_deces     14375 non-null  datetime64[ns]\n",
      "dtypes: datetime64[ns](2), int64(4), object(2)\n",
      "memory usage: 1.5+ MB\n"
     ]
    }
   ],
   "source": [
    "patient.info()"
   ]
  },
  {
   "cell_type": "code",
   "execution_count": 72,
   "id": "16300d2f-7024-4d72-adcf-404cba63bb92",
   "metadata": {},
   "outputs": [],
   "source": [
    "profile_patient = ProfileReport(patient, title=\"Patient Profile Report\")"
   ]
  },
  {
   "cell_type": "code",
   "execution_count": 75,
   "id": "24348732-a86d-4432-bf9a-e67ec67495f0",
   "metadata": {},
   "outputs": [],
   "source": [
    "#profile_patient.to_notebook_iframe()"
   ]
  },
  {
   "cell_type": "code",
   "execution_count": 74,
   "id": "577bbf50-99e4-4f14-9247-942ba458533e",
   "metadata": {},
   "outputs": [
    {
     "data": {
      "application/vnd.jupyter.widget-view+json": {
       "model_id": "04206b1a694b4c54bf9d4c5322bb52ba",
       "version_major": 2,
       "version_minor": 0
      },
      "text/plain": [
       "Export report to file:   0%|          | 0/1 [00:00<?, ?it/s]"
      ]
     },
     "metadata": {},
     "output_type": "display_data"
    }
   ],
   "source": [
    "profile_patient.to_file(\"profile_patient.html\")"
   ]
  }
 ],
 "metadata": {
  "kernelspec": {
   "display_name": "Python 3 (ipykernel)",
   "language": "python",
   "name": "python3"
  },
  "language_info": {
   "codemirror_mode": {
    "name": "ipython",
    "version": 3
   },
   "file_extension": ".py",
   "mimetype": "text/x-python",
   "name": "python",
   "nbconvert_exporter": "python",
   "pygments_lexer": "ipython3",
   "version": "3.10.4"
  }
 },
 "nbformat": 4,
 "nbformat_minor": 5
}
