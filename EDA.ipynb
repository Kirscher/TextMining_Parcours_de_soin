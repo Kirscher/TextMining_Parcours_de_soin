{
 "cells": [
  {
   "cell_type": "markdown",
   "id": "d27bcb7d-a1a7-4058-9eaa-c9c7a87dcce1",
   "metadata": {},
   "source": [
    "# EDA - Bases de données patient, consommant et hospitalisation"
   ]
  },
  {
   "cell_type": "markdown",
   "id": "a94b4444-587f-4876-8cdd-d8741f13f273",
   "metadata": {
    "tags": []
   },
   "source": [
    "### Installation libraire requise"
   ]
  },
  {
   "cell_type": "code",
   "execution_count": null,
   "id": "6146a50d-d923-4285-b6a0-19a8535cbc93",
   "metadata": {},
   "outputs": [],
   "source": [
    "!pip install pandas_profiling"
   ]
  },
  {
   "cell_type": "markdown",
   "id": "272933d6-b586-4b9d-b80b-3c369f0731fb",
   "metadata": {},
   "source": [
    "### Import librairies"
   ]
  },
  {
   "cell_type": "code",
   "execution_count": 1,
   "id": "be4672c9-f172-43c0-9dab-05fb8119befb",
   "metadata": {},
   "outputs": [],
   "source": [
    "import numpy as np\n",
    "import os\n",
    "import pandas as pd\n",
    "from pandas_profiling import ProfileReport\n",
    "from tqdm import tqdm\n",
    "import warnings\n",
    "warnings.simplefilter(\"ignore\")"
   ]
  },
  {
   "cell_type": "markdown",
   "id": "778f270a-4b22-40d3-8895-759d5522d194",
   "metadata": {},
   "source": [
    "### Import des bases de données"
   ]
  },
  {
   "cell_type": "code",
   "execution_count": 2,
   "id": "9e9d0df4-85d9-441c-a1f9-ff4b670e66c7",
   "metadata": {},
   "outputs": [],
   "source": [
    "hospit=pd.read_csv(\"base_hospit.csv\", sep=';')\n",
    "patient=pd.read_csv(\"base_patient.csv\", sep=';')\n",
    "consommant=pd.read_csv(\"consommant.csv\", sep=';')"
   ]
  },
  {
   "cell_type": "markdown",
   "id": "e44760e3-da63-4bf1-b34c-9c537f272416",
   "metadata": {},
   "source": [
    "### Function utile"
   ]
  },
  {
   "cell_type": "code",
   "execution_count": 3,
   "id": "a6fe7d02-2017-4d20-9aa1-d35a8d6f18cb",
   "metadata": {},
   "outputs": [],
   "source": [
    "def count():\n",
    "    print(f\"Nb patients = {len(patient)}\")\n",
    "    print(f\"Nb hospit = {len(hospit)}\")\n",
    "    print(f\"Nb conso = {len(consommant)}\")"
   ]
  },
  {
   "cell_type": "markdown",
   "id": "f46e590d-ed15-49df-9f7f-4462990fb0e7",
   "metadata": {},
   "source": [
    "### Conversion des dates en datetime"
   ]
  },
  {
   "cell_type": "code",
   "execution_count": 4,
   "id": "c0270c9a-76d8-43da-9f1e-31be2e9f77c0",
   "metadata": {},
   "outputs": [],
   "source": [
    "hospit['EXE_SOI_DTD']=pd.to_datetime(hospit['EXE_SOI_DTD'], dayfirst=True)\n",
    "hospit['SEJ_NBJ']=hospit['SEJ_NBJ'].fillna(np.nan).astype(float)\n",
    "hospit['SEJ_NBJ']=hospit['SEJ_NBJ'].astype('Int64')"
   ]
  },
  {
   "cell_type": "code",
   "execution_count": 5,
   "id": "77f42eb6-0933-4c83-89f7-e8eed272a19d",
   "metadata": {},
   "outputs": [],
   "source": [
    "consommant['datemax']=pd.to_datetime(consommant['datemax'], dayfirst=True)"
   ]
  },
  {
   "cell_type": "code",
   "execution_count": 6,
   "id": "9cb45bfd-aab4-4486-a743-6bf0b2713519",
   "metadata": {},
   "outputs": [],
   "source": [
    "patient['date_h0']=pd.to_datetime(patient['date_h0'], dayfirst=True)\n",
    "patient['dte_deces']=pd.to_datetime(patient['dte_deces'], dayfirst=True)"
   ]
  },
  {
   "cell_type": "markdown",
   "id": "a75c2f81-f2fc-43ff-8782-68be75d494eb",
   "metadata": {},
   "source": [
    "## Encodage des patients"
   ]
  },
  {
   "cell_type": "code",
   "execution_count": 7,
   "id": "313a7cba-90c2-4c1f-9a16-1c95e3369e13",
   "metadata": {},
   "outputs": [],
   "source": [
    "dict_patients = {}\n",
    "for i in range(len(patient)):\n",
    "    code = patient.CODE_PATIENT.iloc[i]\n",
    "    dict_patients[code] = i"
   ]
  },
  {
   "cell_type": "code",
   "execution_count": 8,
   "id": "7df32b26-ab29-4f2f-996b-a28b9ebda478",
   "metadata": {},
   "outputs": [],
   "source": [
    "patient['CODE_PATIENT_ENC'] = ['P' + str(i) for i in range(len(patient))]"
   ]
  },
  {
   "cell_type": "code",
   "execution_count": 9,
   "id": "e40aa4a3-d216-4a10-b5e2-7d895bae3915",
   "metadata": {},
   "outputs": [],
   "source": [
    "enc_conso = []\n",
    "for i in range(len(consommant)):\n",
    "    code = consommant.CODE_PATIENT.iloc[i]\n",
    "    patient_n = dict_patients[code]\n",
    "    enc_conso.append('P'+str(patient_n))\n",
    "consommant['CODE_PATIENT_ENC'] = enc_conso"
   ]
  },
  {
   "cell_type": "code",
   "execution_count": 10,
   "id": "2f5f3e57-0f98-49b6-bb29-3124f0df250e",
   "metadata": {},
   "outputs": [],
   "source": [
    "enc_hospit = []\n",
    "for i in range(len(hospit)):\n",
    "    code = hospit.BEN_NIR_IDT.iloc[i]\n",
    "    patient_n = dict_patients[code]\n",
    "    enc_hospit.append('P' + str(patient_n))\n",
    "hospit['BEN_NIR_IDT_ENC'] = enc_hospit"
   ]
  },
  {
   "cell_type": "code",
   "execution_count": 11,
   "id": "d8064164-813a-4d8d-a1b9-4a32d112ebd2",
   "metadata": {},
   "outputs": [],
   "source": [
    "patient=patient.drop(columns=['CODE_PATIENT'])\n",
    "consommant=consommant.drop(columns=['CODE_PATIENT'])\n",
    "hospit=hospit.drop(columns=['BEN_NIR_IDT'])"
   ]
  },
  {
   "cell_type": "code",
   "execution_count": 12,
   "id": "a6b3518d-de02-457d-b857-3a09db532b39",
   "metadata": {},
   "outputs": [],
   "source": [
    "import pickle\n",
    "    \n",
    "with open('dict_codes_patients.pickle', 'wb') as handle:\n",
    "    pickle.dump(dict_patients, handle)"
   ]
  },
  {
   "cell_type": "code",
   "execution_count": 13,
   "id": "29efdd99-e98d-4ffe-8174-6c4fc1455e37",
   "metadata": {},
   "outputs": [],
   "source": [
    "patient=patient.rename(columns={'CODE_PATIENT_ENC':'CODE_PATIENT'})\n",
    "consommant=consommant.rename(columns={'CODE_PATIENT_ENC':'CODE_PATIENT'})\n",
    "hospit=hospit.rename(columns={'BEN_NIR_IDT_ENC':'BEN_NIR_IDT'})"
   ]
  },
  {
   "cell_type": "markdown",
   "id": "193644a1-ba58-4bae-8aa9-21d7d7418174",
   "metadata": {
    "tags": []
   },
   "source": [
    "## Suppression des patients dont la première hospitalisation est postérieure à 2016 ou antérieure à 2010"
   ]
  },
  {
   "cell_type": "code",
   "execution_count": 14,
   "id": "c328b90d-21a7-46d6-9c83-f3effcd4c776",
   "metadata": {},
   "outputs": [
    {
     "name": "stdout",
     "output_type": "stream",
     "text": [
      "Nb patients = 24311\n",
      "Nb hospit = 226127\n",
      "Nb conso = 24232\n"
     ]
    }
   ],
   "source": [
    "count()"
   ]
  },
  {
   "cell_type": "code",
   "execution_count": 15,
   "id": "550de676-3aa3-4441-9e2d-df7cc1c682e1",
   "metadata": {},
   "outputs": [],
   "source": [
    "patient=patient[(patient['date_h0']<'01-01-2016')&(patient['date_h0']>='01-01-2010')]"
   ]
  },
  {
   "cell_type": "code",
   "execution_count": 16,
   "id": "0bb655fe-0335-4838-9917-0a1d12177ae8",
   "metadata": {},
   "outputs": [],
   "source": [
    "patient['date_h0']=pd.to_datetime(patient['date_h0'], dayfirst=True)"
   ]
  },
  {
   "cell_type": "code",
   "execution_count": 17,
   "id": "3d29e18b-4f8b-4afd-a470-5d025f323a00",
   "metadata": {},
   "outputs": [],
   "source": [
    "consommant = consommant[consommant['CODE_PATIENT'].isin(patient['CODE_PATIENT'])].reset_index(drop=True)"
   ]
  },
  {
   "cell_type": "code",
   "execution_count": 18,
   "id": "c34928c4-46fd-41c0-9ef4-58ce72ee04da",
   "metadata": {},
   "outputs": [
    {
     "data": {
      "text/html": [
       "<div>\n",
       "<style scoped>\n",
       "    .dataframe tbody tr th:only-of-type {\n",
       "        vertical-align: middle;\n",
       "    }\n",
       "\n",
       "    .dataframe tbody tr th {\n",
       "        vertical-align: top;\n",
       "    }\n",
       "\n",
       "    .dataframe thead th {\n",
       "        text-align: right;\n",
       "    }\n",
       "</style>\n",
       "<table border=\"1\" class=\"dataframe\">\n",
       "  <thead>\n",
       "    <tr style=\"text-align: right;\">\n",
       "      <th></th>\n",
       "      <th>_TEMG001</th>\n",
       "      <th>datemax</th>\n",
       "      <th>CODE_PATIENT</th>\n",
       "    </tr>\n",
       "  </thead>\n",
       "  <tbody>\n",
       "    <tr>\n",
       "      <th>0</th>\n",
       "      <td>21769</td>\n",
       "      <td>2019-08-08</td>\n",
       "      <td>P0</td>\n",
       "    </tr>\n",
       "    <tr>\n",
       "      <th>1</th>\n",
       "      <td>20150</td>\n",
       "      <td>2015-03-03</td>\n",
       "      <td>P6</td>\n",
       "    </tr>\n",
       "    <tr>\n",
       "      <th>2</th>\n",
       "      <td>20312</td>\n",
       "      <td>2015-08-12</td>\n",
       "      <td>P8</td>\n",
       "    </tr>\n",
       "    <tr>\n",
       "      <th>3</th>\n",
       "      <td>21545</td>\n",
       "      <td>2018-12-27</td>\n",
       "      <td>P10</td>\n",
       "    </tr>\n",
       "    <tr>\n",
       "      <th>4</th>\n",
       "      <td>21769</td>\n",
       "      <td>2019-08-08</td>\n",
       "      <td>P13</td>\n",
       "    </tr>\n",
       "  </tbody>\n",
       "</table>\n",
       "</div>"
      ],
      "text/plain": [
       "   _TEMG001    datemax CODE_PATIENT\n",
       "0     21769 2019-08-08           P0\n",
       "1     20150 2015-03-03           P6\n",
       "2     20312 2015-08-12           P8\n",
       "3     21545 2018-12-27          P10\n",
       "4     21769 2019-08-08          P13"
      ]
     },
     "execution_count": 18,
     "metadata": {},
     "output_type": "execute_result"
    }
   ],
   "source": [
    "consommant.head()"
   ]
  },
  {
   "cell_type": "code",
   "execution_count": 19,
   "id": "1c6223a4-0c72-4075-b009-bf043cc8b559",
   "metadata": {},
   "outputs": [
    {
     "data": {
      "text/html": [
       "<div>\n",
       "<style scoped>\n",
       "    .dataframe tbody tr th:only-of-type {\n",
       "        vertical-align: middle;\n",
       "    }\n",
       "\n",
       "    .dataframe tbody tr th {\n",
       "        vertical-align: top;\n",
       "    }\n",
       "\n",
       "    .dataframe thead th {\n",
       "        text-align: right;\n",
       "    }\n",
       "</style>\n",
       "<table border=\"1\" class=\"dataframe\">\n",
       "  <thead>\n",
       "    <tr style=\"text-align: right;\">\n",
       "      <th></th>\n",
       "      <th>RSA_NUM</th>\n",
       "      <th>ETA_NUM</th>\n",
       "      <th>EXE_SOI_DTD</th>\n",
       "      <th>SEJ_NBJ</th>\n",
       "      <th>GRG_GHM</th>\n",
       "      <th>DGN_PAL</th>\n",
       "      <th>DGN_REL</th>\n",
       "      <th>BEN_NIR_IDT</th>\n",
       "    </tr>\n",
       "  </thead>\n",
       "  <tbody>\n",
       "    <tr>\n",
       "      <th>0</th>\n",
       "      <td>144689</td>\n",
       "      <td>310781406</td>\n",
       "      <td>2011-11-22</td>\n",
       "      <td>2</td>\n",
       "      <td>05K051</td>\n",
       "      <td>I2100</td>\n",
       "      <td>NaN</td>\n",
       "      <td>P0</td>\n",
       "    </tr>\n",
       "    <tr>\n",
       "      <th>1</th>\n",
       "      <td>2763</td>\n",
       "      <td>110780061</td>\n",
       "      <td>2011-11-24</td>\n",
       "      <td>8</td>\n",
       "      <td>05M042</td>\n",
       "      <td>I21000</td>\n",
       "      <td>NaN</td>\n",
       "      <td>P0</td>\n",
       "    </tr>\n",
       "    <tr>\n",
       "      <th>2</th>\n",
       "      <td>15548</td>\n",
       "      <td>110780061</td>\n",
       "      <td>2011-12-08</td>\n",
       "      <td>0</td>\n",
       "      <td>05M16T</td>\n",
       "      <td>I255</td>\n",
       "      <td>NaN</td>\n",
       "      <td>P0</td>\n",
       "    </tr>\n",
       "    <tr>\n",
       "      <th>3</th>\n",
       "      <td>5260</td>\n",
       "      <td>110780061</td>\n",
       "      <td>2012-03-04</td>\n",
       "      <td>1</td>\n",
       "      <td>05M09T</td>\n",
       "      <td>I501</td>\n",
       "      <td>NaN</td>\n",
       "      <td>P0</td>\n",
       "    </tr>\n",
       "    <tr>\n",
       "      <th>4</th>\n",
       "      <td>112258</td>\n",
       "      <td>310781406</td>\n",
       "      <td>2012-03-05</td>\n",
       "      <td>7</td>\n",
       "      <td>05M092</td>\n",
       "      <td>I501</td>\n",
       "      <td>NaN</td>\n",
       "      <td>P0</td>\n",
       "    </tr>\n",
       "  </tbody>\n",
       "</table>\n",
       "</div>"
      ],
      "text/plain": [
       "  RSA_NUM    ETA_NUM EXE_SOI_DTD  SEJ_NBJ GRG_GHM DGN_PAL DGN_REL BEN_NIR_IDT\n",
       "0  144689  310781406  2011-11-22        2  05K051   I2100     NaN          P0\n",
       "1    2763  110780061  2011-11-24        8  05M042  I21000     NaN          P0\n",
       "2   15548  110780061  2011-12-08        0  05M16T    I255     NaN          P0\n",
       "3    5260  110780061  2012-03-04        1  05M09T    I501     NaN          P0\n",
       "4  112258  310781406  2012-03-05        7  05M092    I501     NaN          P0"
      ]
     },
     "execution_count": 19,
     "metadata": {},
     "output_type": "execute_result"
    }
   ],
   "source": [
    "hospit.head()"
   ]
  },
  {
   "cell_type": "code",
   "execution_count": 20,
   "id": "44247923-ef9b-4282-a204-2e8d2261a90e",
   "metadata": {},
   "outputs": [],
   "source": [
    "hospit = hospit[hospit['BEN_NIR_IDT'].isin(patient['CODE_PATIENT'])].reset_index(drop=True)"
   ]
  },
  {
   "cell_type": "code",
   "execution_count": 21,
   "id": "fa919189-ca01-4dd9-99bf-d96b9f5127df",
   "metadata": {},
   "outputs": [
    {
     "name": "stdout",
     "output_type": "stream",
     "text": [
      "<class 'pandas.core.frame.DataFrame'>\n",
      "RangeIndex: 158715 entries, 0 to 158714\n",
      "Data columns (total 8 columns):\n",
      " #   Column       Non-Null Count   Dtype         \n",
      "---  ------       --------------   -----         \n",
      " 0   RSA_NUM      158715 non-null  object        \n",
      " 1   ETA_NUM      158715 non-null  object        \n",
      " 2   EXE_SOI_DTD  158713 non-null  datetime64[ns]\n",
      " 3   SEJ_NBJ      155779 non-null  Int64         \n",
      " 4   GRG_GHM      158715 non-null  object        \n",
      " 5   DGN_PAL      158715 non-null  object        \n",
      " 6   DGN_REL      68448 non-null   object        \n",
      " 7   BEN_NIR_IDT  158715 non-null  object        \n",
      "dtypes: Int64(1), datetime64[ns](1), object(6)\n",
      "memory usage: 9.8+ MB\n"
     ]
    }
   ],
   "source": [
    "hospit.info()"
   ]
  },
  {
   "cell_type": "code",
   "execution_count": 22,
   "id": "048ae492-fe25-402a-a3ee-5a512657d025",
   "metadata": {},
   "outputs": [
    {
     "name": "stdout",
     "output_type": "stream",
     "text": [
      "Nb patients = 13310\n",
      "Nb hospit = 158715\n",
      "Nb conso = 13241\n"
     ]
    }
   ],
   "source": [
    "count()"
   ]
  },
  {
   "cell_type": "markdown",
   "id": "6f5ef211-c778-4bf3-9c0e-9cf9c3da1d48",
   "metadata": {},
   "source": [
    "## On conserve uniquement les mois de décès"
   ]
  },
  {
   "cell_type": "code",
   "execution_count": 23,
   "id": "e36434a7-dbd4-437b-8be3-18ba1d6e2fc4",
   "metadata": {},
   "outputs": [],
   "source": [
    "patient['dte_deces']=patient['dte_deces'].dt.to_period('M')"
   ]
  },
  {
   "cell_type": "code",
   "execution_count": 24,
   "id": "9d7f480a-60a4-4fb5-ae31-7bc95c595947",
   "metadata": {},
   "outputs": [
    {
     "data": {
      "text/html": [
       "<div>\n",
       "<style scoped>\n",
       "    .dataframe tbody tr th:only-of-type {\n",
       "        vertical-align: middle;\n",
       "    }\n",
       "\n",
       "    .dataframe tbody tr th {\n",
       "        vertical-align: top;\n",
       "    }\n",
       "\n",
       "    .dataframe thead th {\n",
       "        text-align: right;\n",
       "    }\n",
       "</style>\n",
       "<table border=\"1\" class=\"dataframe\">\n",
       "  <thead>\n",
       "    <tr style=\"text-align: right;\">\n",
       "      <th></th>\n",
       "      <th>date_h0</th>\n",
       "      <th>ALD_before</th>\n",
       "      <th>pop</th>\n",
       "      <th>y_nais</th>\n",
       "      <th>BEN_RES_DPT</th>\n",
       "      <th>BEN_SEX_COD</th>\n",
       "      <th>dte_deces</th>\n",
       "      <th>CODE_PATIENT</th>\n",
       "    </tr>\n",
       "  </thead>\n",
       "  <tbody>\n",
       "    <tr>\n",
       "      <th>0</th>\n",
       "      <td>2011-11-22</td>\n",
       "      <td>0</td>\n",
       "      <td>1</td>\n",
       "      <td>1949</td>\n",
       "      <td>11</td>\n",
       "      <td>1</td>\n",
       "      <td>NaT</td>\n",
       "      <td>P0</td>\n",
       "    </tr>\n",
       "    <tr>\n",
       "      <th>6</th>\n",
       "      <td>2013-12-05</td>\n",
       "      <td>0</td>\n",
       "      <td>1</td>\n",
       "      <td>1929</td>\n",
       "      <td>14</td>\n",
       "      <td>2</td>\n",
       "      <td>2015-03</td>\n",
       "      <td>P6</td>\n",
       "    </tr>\n",
       "    <tr>\n",
       "      <th>8</th>\n",
       "      <td>2015-07-02</td>\n",
       "      <td>0</td>\n",
       "      <td>1</td>\n",
       "      <td>1967</td>\n",
       "      <td>54</td>\n",
       "      <td>2</td>\n",
       "      <td>2015-08</td>\n",
       "      <td>P8</td>\n",
       "    </tr>\n",
       "    <tr>\n",
       "      <th>10</th>\n",
       "      <td>2014-11-21</td>\n",
       "      <td>1</td>\n",
       "      <td>0</td>\n",
       "      <td>1932</td>\n",
       "      <td>30</td>\n",
       "      <td>1</td>\n",
       "      <td>2018-12</td>\n",
       "      <td>P10</td>\n",
       "    </tr>\n",
       "    <tr>\n",
       "      <th>13</th>\n",
       "      <td>2011-05-19</td>\n",
       "      <td>0</td>\n",
       "      <td>1</td>\n",
       "      <td>1959</td>\n",
       "      <td>974</td>\n",
       "      <td>1</td>\n",
       "      <td>NaT</td>\n",
       "      <td>P13</td>\n",
       "    </tr>\n",
       "  </tbody>\n",
       "</table>\n",
       "</div>"
      ],
      "text/plain": [
       "      date_h0  ALD_before  pop  y_nais BEN_RES_DPT  BEN_SEX_COD dte_deces  \\\n",
       "0  2011-11-22           0    1    1949          11            1       NaT   \n",
       "6  2013-12-05           0    1    1929          14            2   2015-03   \n",
       "8  2015-07-02           0    1    1967          54            2   2015-08   \n",
       "10 2014-11-21           1    0    1932          30            1   2018-12   \n",
       "13 2011-05-19           0    1    1959         974            1       NaT   \n",
       "\n",
       "   CODE_PATIENT  \n",
       "0            P0  \n",
       "6            P6  \n",
       "8            P8  \n",
       "10          P10  \n",
       "13          P13  "
      ]
     },
     "execution_count": 24,
     "metadata": {},
     "output_type": "execute_result"
    }
   ],
   "source": [
    "patient.head()"
   ]
  },
  {
   "cell_type": "code",
   "execution_count": 25,
   "id": "7bc15a72-ab2b-4b88-8700-e2e6ba101b0f",
   "metadata": {},
   "outputs": [
    {
     "name": "stdout",
     "output_type": "stream",
     "text": [
      "Nb patients = 13310\n",
      "Nb hospit = 158715\n",
      "Nb conso = 13241\n"
     ]
    }
   ],
   "source": [
    "count()"
   ]
  },
  {
   "cell_type": "markdown",
   "id": "2f392c31-cd11-4368-b46c-1eb46e194da8",
   "metadata": {},
   "source": [
    "## On conserve uniquement les patients majeurs au moment de leur première hospitalisation"
   ]
  },
  {
   "cell_type": "markdown",
   "id": "f6d45b7e-c1ac-4431-a903-d87c8d46becc",
   "metadata": {},
   "source": [
    "#### Nombre de patients mineurs dans les données"
   ]
  },
  {
   "cell_type": "code",
   "execution_count": 26,
   "id": "ca4e58e1-fa37-440f-aaf8-185de19b798e",
   "metadata": {},
   "outputs": [
    {
     "data": {
      "text/plain": [
       "(array([False,  True]), array([13220,    90]))"
      ]
     },
     "execution_count": 26,
     "metadata": {},
     "output_type": "execute_result"
    }
   ],
   "source": [
    "np.unique(((pd.to_datetime(patient.date_h0).apply(lambda x : x.year) - patient.y_nais) < 18), return_counts=True)"
   ]
  },
  {
   "cell_type": "code",
   "execution_count": 27,
   "id": "3da7647c-7991-46ef-b18e-7a07e199f546",
   "metadata": {},
   "outputs": [],
   "source": [
    "patient = patient[pd.to_datetime(patient.date_h0).apply(lambda x : x.year) - patient.y_nais >= 18]"
   ]
  },
  {
   "cell_type": "code",
   "execution_count": 28,
   "id": "70b562cd-9684-4bb6-a295-f24276040053",
   "metadata": {},
   "outputs": [],
   "source": [
    "consommant = consommant[consommant['CODE_PATIENT'].isin(patient['CODE_PATIENT'])].reset_index(drop=True)"
   ]
  },
  {
   "cell_type": "code",
   "execution_count": 29,
   "id": "022057de-7658-4307-ae27-bf70cd9d9c9a",
   "metadata": {},
   "outputs": [],
   "source": [
    "hospit = hospit[hospit['BEN_NIR_IDT'].isin(patient['CODE_PATIENT'])].reset_index(drop=True)"
   ]
  },
  {
   "cell_type": "code",
   "execution_count": 30,
   "id": "659d5918-4a15-4946-865e-6cf56d7cc0e4",
   "metadata": {},
   "outputs": [
    {
     "data": {
      "text/html": [
       "<div>\n",
       "<style scoped>\n",
       "    .dataframe tbody tr th:only-of-type {\n",
       "        vertical-align: middle;\n",
       "    }\n",
       "\n",
       "    .dataframe tbody tr th {\n",
       "        vertical-align: top;\n",
       "    }\n",
       "\n",
       "    .dataframe thead th {\n",
       "        text-align: right;\n",
       "    }\n",
       "</style>\n",
       "<table border=\"1\" class=\"dataframe\">\n",
       "  <thead>\n",
       "    <tr style=\"text-align: right;\">\n",
       "      <th></th>\n",
       "      <th>date_h0</th>\n",
       "      <th>ALD_before</th>\n",
       "      <th>pop</th>\n",
       "      <th>y_nais</th>\n",
       "      <th>BEN_RES_DPT</th>\n",
       "      <th>BEN_SEX_COD</th>\n",
       "      <th>dte_deces</th>\n",
       "      <th>CODE_PATIENT</th>\n",
       "    </tr>\n",
       "  </thead>\n",
       "  <tbody>\n",
       "    <tr>\n",
       "      <th>0</th>\n",
       "      <td>2011-11-22</td>\n",
       "      <td>0</td>\n",
       "      <td>1</td>\n",
       "      <td>1949</td>\n",
       "      <td>11</td>\n",
       "      <td>1</td>\n",
       "      <td>NaT</td>\n",
       "      <td>P0</td>\n",
       "    </tr>\n",
       "    <tr>\n",
       "      <th>6</th>\n",
       "      <td>2013-12-05</td>\n",
       "      <td>0</td>\n",
       "      <td>1</td>\n",
       "      <td>1929</td>\n",
       "      <td>14</td>\n",
       "      <td>2</td>\n",
       "      <td>2015-03</td>\n",
       "      <td>P6</td>\n",
       "    </tr>\n",
       "    <tr>\n",
       "      <th>8</th>\n",
       "      <td>2015-07-02</td>\n",
       "      <td>0</td>\n",
       "      <td>1</td>\n",
       "      <td>1967</td>\n",
       "      <td>54</td>\n",
       "      <td>2</td>\n",
       "      <td>2015-08</td>\n",
       "      <td>P8</td>\n",
       "    </tr>\n",
       "    <tr>\n",
       "      <th>10</th>\n",
       "      <td>2014-11-21</td>\n",
       "      <td>1</td>\n",
       "      <td>0</td>\n",
       "      <td>1932</td>\n",
       "      <td>30</td>\n",
       "      <td>1</td>\n",
       "      <td>2018-12</td>\n",
       "      <td>P10</td>\n",
       "    </tr>\n",
       "    <tr>\n",
       "      <th>13</th>\n",
       "      <td>2011-05-19</td>\n",
       "      <td>0</td>\n",
       "      <td>1</td>\n",
       "      <td>1959</td>\n",
       "      <td>974</td>\n",
       "      <td>1</td>\n",
       "      <td>NaT</td>\n",
       "      <td>P13</td>\n",
       "    </tr>\n",
       "    <tr>\n",
       "      <th>...</th>\n",
       "      <td>...</td>\n",
       "      <td>...</td>\n",
       "      <td>...</td>\n",
       "      <td>...</td>\n",
       "      <td>...</td>\n",
       "      <td>...</td>\n",
       "      <td>...</td>\n",
       "      <td>...</td>\n",
       "    </tr>\n",
       "    <tr>\n",
       "      <th>24302</th>\n",
       "      <td>2014-02-08</td>\n",
       "      <td>0</td>\n",
       "      <td>1</td>\n",
       "      <td>1920</td>\n",
       "      <td>29</td>\n",
       "      <td>1</td>\n",
       "      <td>2014-12</td>\n",
       "      <td>P24302</td>\n",
       "    </tr>\n",
       "    <tr>\n",
       "      <th>24303</th>\n",
       "      <td>2012-02-09</td>\n",
       "      <td>0</td>\n",
       "      <td>1</td>\n",
       "      <td>1927</td>\n",
       "      <td>61</td>\n",
       "      <td>1</td>\n",
       "      <td>2017-05</td>\n",
       "      <td>P24303</td>\n",
       "    </tr>\n",
       "    <tr>\n",
       "      <th>24304</th>\n",
       "      <td>2010-07-27</td>\n",
       "      <td>0</td>\n",
       "      <td>1</td>\n",
       "      <td>1924</td>\n",
       "      <td>999</td>\n",
       "      <td>1</td>\n",
       "      <td>2010-08</td>\n",
       "      <td>P24304</td>\n",
       "    </tr>\n",
       "    <tr>\n",
       "      <th>24308</th>\n",
       "      <td>2011-11-25</td>\n",
       "      <td>0</td>\n",
       "      <td>1</td>\n",
       "      <td>1925</td>\n",
       "      <td>13</td>\n",
       "      <td>2</td>\n",
       "      <td>2013-03</td>\n",
       "      <td>P24308</td>\n",
       "    </tr>\n",
       "    <tr>\n",
       "      <th>24310</th>\n",
       "      <td>2010-12-18</td>\n",
       "      <td>0</td>\n",
       "      <td>1</td>\n",
       "      <td>1941</td>\n",
       "      <td>81</td>\n",
       "      <td>2</td>\n",
       "      <td>NaT</td>\n",
       "      <td>P24310</td>\n",
       "    </tr>\n",
       "  </tbody>\n",
       "</table>\n",
       "<p>13220 rows × 8 columns</p>\n",
       "</div>"
      ],
      "text/plain": [
       "         date_h0  ALD_before  pop  y_nais BEN_RES_DPT  BEN_SEX_COD dte_deces  \\\n",
       "0     2011-11-22           0    1    1949          11            1       NaT   \n",
       "6     2013-12-05           0    1    1929          14            2   2015-03   \n",
       "8     2015-07-02           0    1    1967          54            2   2015-08   \n",
       "10    2014-11-21           1    0    1932          30            1   2018-12   \n",
       "13    2011-05-19           0    1    1959         974            1       NaT   \n",
       "...          ...         ...  ...     ...         ...          ...       ...   \n",
       "24302 2014-02-08           0    1    1920          29            1   2014-12   \n",
       "24303 2012-02-09           0    1    1927          61            1   2017-05   \n",
       "24304 2010-07-27           0    1    1924         999            1   2010-08   \n",
       "24308 2011-11-25           0    1    1925          13            2   2013-03   \n",
       "24310 2010-12-18           0    1    1941          81            2       NaT   \n",
       "\n",
       "      CODE_PATIENT  \n",
       "0               P0  \n",
       "6               P6  \n",
       "8               P8  \n",
       "10             P10  \n",
       "13             P13  \n",
       "...            ...  \n",
       "24302       P24302  \n",
       "24303       P24303  \n",
       "24304       P24304  \n",
       "24308       P24308  \n",
       "24310       P24310  \n",
       "\n",
       "[13220 rows x 8 columns]"
      ]
     },
     "execution_count": 30,
     "metadata": {},
     "output_type": "execute_result"
    }
   ],
   "source": [
    "patient"
   ]
  },
  {
   "cell_type": "code",
   "execution_count": 31,
   "id": "2742ddaf-cc88-4831-b79b-8c53ce1202e8",
   "metadata": {},
   "outputs": [
    {
     "name": "stdout",
     "output_type": "stream",
     "text": [
      "Nb patients = 13220\n",
      "Nb hospit = 157199\n",
      "Nb conso = 13151\n"
     ]
    }
   ],
   "source": [
    "count()"
   ]
  },
  {
   "cell_type": "markdown",
   "id": "9ed4cbbc-169a-4376-923b-eaa73ed8220e",
   "metadata": {},
   "source": [
    "## On retire les patients ayant déjà connu une hospitalisation avant l'étude (pop=0)"
   ]
  },
  {
   "cell_type": "code",
   "execution_count": 32,
   "id": "d1981972-826b-4125-a151-90879092a347",
   "metadata": {},
   "outputs": [],
   "source": [
    "patient=patient[patient[\"pop\"]==1].reset_index(drop=True)"
   ]
  },
  {
   "cell_type": "code",
   "execution_count": 33,
   "id": "dd9c6402-2548-42c8-b103-7b0daaffdbd9",
   "metadata": {},
   "outputs": [],
   "source": [
    "consommant = consommant[consommant['CODE_PATIENT'].isin(patient['CODE_PATIENT'])].reset_index(drop=True)"
   ]
  },
  {
   "cell_type": "code",
   "execution_count": 34,
   "id": "95d39836-3563-4870-8c96-5f8fef96b886",
   "metadata": {},
   "outputs": [],
   "source": [
    "hospit = hospit[hospit['BEN_NIR_IDT'].isin(patient['CODE_PATIENT'])].reset_index(drop=True)"
   ]
  },
  {
   "cell_type": "code",
   "execution_count": 35,
   "id": "ae8db21b-78d0-4a23-8e0f-080b4e18e883",
   "metadata": {},
   "outputs": [],
   "source": [
    "patient = patient.drop(columns=['pop'])"
   ]
  },
  {
   "cell_type": "code",
   "execution_count": 36,
   "id": "8396ed8e-4d82-4918-80e4-a1be5fad0e09",
   "metadata": {},
   "outputs": [
    {
     "name": "stdout",
     "output_type": "stream",
     "text": [
      "Nb patients = 10204\n",
      "Nb hospit = 157199\n",
      "Nb conso = 10138\n"
     ]
    }
   ],
   "source": [
    "count()"
   ]
  },
  {
   "cell_type": "markdown",
   "id": "b3b84442-e603-4560-8e18-09be7e1e1f72",
   "metadata": {},
   "source": [
    "## On retire les patients sans consommation depuis plus de 5 ans, non déclarés décédés"
   ]
  },
  {
   "cell_type": "code",
   "execution_count": 37,
   "id": "495347f2-4f80-45b7-8bd8-1a413f5107f2",
   "metadata": {},
   "outputs": [],
   "source": [
    "patient_non_décédés=patient[patient['dte_deces'].fillna(0)==0][\"CODE_PATIENT\"]"
   ]
  },
  {
   "cell_type": "code",
   "execution_count": 38,
   "id": "b2aa64a7-4510-4e5e-aeba-ab9eebceb508",
   "metadata": {
    "tags": []
   },
   "outputs": [],
   "source": [
    "patients_sans_conso=consommant[(consommant[\"CODE_PATIENT\"].isin(patient_non_décédés))&(consommant['datemax']<'01-01-2014')]['CODE_PATIENT']"
   ]
  },
  {
   "cell_type": "code",
   "execution_count": 39,
   "id": "a32e0f10-cdd7-45ea-8f12-683991818038",
   "metadata": {},
   "outputs": [],
   "source": [
    "patient = patient[~patient[\"CODE_PATIENT\"].isin(patients_sans_conso)].reset_index(drop=True)"
   ]
  },
  {
   "cell_type": "code",
   "execution_count": 40,
   "id": "9a94c4b5-5d79-4240-9c27-83bc7842ba2f",
   "metadata": {},
   "outputs": [],
   "source": [
    "consommant = consommant[consommant['CODE_PATIENT'].isin(patient['CODE_PATIENT'])].reset_index(drop=True)"
   ]
  },
  {
   "cell_type": "code",
   "execution_count": 41,
   "id": "19235aa2-9b31-4fb7-bed5-bb0b285a3a9f",
   "metadata": {},
   "outputs": [],
   "source": [
    "hospit = hospit[hospit['BEN_NIR_IDT'].isin(patient['CODE_PATIENT'])].reset_index(drop=True)"
   ]
  },
  {
   "cell_type": "code",
   "execution_count": 42,
   "id": "6fd2cfe1-c3a5-4230-9d5b-b5f4a2415261",
   "metadata": {},
   "outputs": [
    {
     "name": "stdout",
     "output_type": "stream",
     "text": [
      "Nb patients = 10052\n",
      "Nb hospit = 156336\n",
      "Nb conso = 9986\n"
     ]
    }
   ],
   "source": [
    "count()"
   ]
  },
  {
   "cell_type": "markdown",
   "id": "31d4c42f-2a0e-454e-9833-9e64b1ecb741",
   "metadata": {},
   "source": [
    "## Ajout des insuffisances cardiaques avec état de choc cardiogénique"
   ]
  },
  {
   "cell_type": "code",
   "execution_count": 43,
   "id": "fa435db8-cb0a-43f9-8c44-fcf228da45fc",
   "metadata": {},
   "outputs": [],
   "source": [
    "#Insuffisances cardiaques et états de choc circulatoire\n",
    "#hospit[hospit['GRG_GHM'].str.startswith('05M09')]\n",
    "\n",
    "#Insuffisances cardiaques et états de choc cardiogénique (code R57)\n",
    "#hospit[(hospit['GRG_GHM'].str.startswith('05M09'))&(hospit['DGN_PAL'].str.startswith('R57'))]\n",
    "\n",
    "#Ajout d'une colonne CHOC\n",
    "hospit['CHOC']=hospit.index.isin(hospit[(hospit['GRG_GHM'].str.startswith('05M09'))&(hospit['DGN_PAL'].str.startswith('R57'))|(hospit['DGN_REL'].str.startswith('R57'))].index)\n",
    "hospit['CHOC']=hospit['CHOC'].astype('int')"
   ]
  },
  {
   "cell_type": "code",
   "execution_count": 44,
   "id": "bbb49af1-446a-441d-a5e4-06e6970dec5c",
   "metadata": {},
   "outputs": [
    {
     "data": {
      "text/plain": [
       "478"
      ]
     },
     "execution_count": 44,
     "metadata": {},
     "output_type": "execute_result"
    }
   ],
   "source": [
    "hospit.CHOC.sum()"
   ]
  },
  {
   "cell_type": "markdown",
   "id": "9aad76c0-e6eb-464e-8412-c2b5e2e537f6",
   "metadata": {},
   "source": [
    "## Ajout des hémodialyses"
   ]
  },
  {
   "cell_type": "code",
   "execution_count": 47,
   "id": "9f70ff91-2cc2-4093-9533-df012fba22b3",
   "metadata": {},
   "outputs": [],
   "source": [
    "hospit['HEMOD']=hospit.index.isin(hospit[(hospit['DGN_PAL'].str.startswith('Z49'))].index)\n",
    "hospit['HEMOD']=hospit['HEMOD'].astype('int')"
   ]
  },
  {
   "cell_type": "code",
   "execution_count": 48,
   "id": "152ad629-3c6f-42ef-99d0-c51446fedf37",
   "metadata": {},
   "outputs": [
    {
     "data": {
      "text/plain": [
       "51150"
      ]
     },
     "execution_count": 48,
     "metadata": {},
     "output_type": "execute_result"
    }
   ],
   "source": [
    "hospit['DGN_PAL'].str.startswith('Z49').sum()"
   ]
  },
  {
   "cell_type": "markdown",
   "id": "09041ee8-1847-449a-a271-34195973babe",
   "metadata": {},
   "source": [
    "## Ajout des chimiothérapies"
   ]
  },
  {
   "cell_type": "code",
   "execution_count": 49,
   "id": "c21de73c-a04f-44a7-9ac4-e04f246abccf",
   "metadata": {},
   "outputs": [],
   "source": [
    "hospit['CHIMIO']=hospit.index.isin(hospit[(hospit['DGN_PAL'].str.startswith('Z511'))|(hospit['DGN_PAL'].str.startswith('Z512'))].index)\n",
    "hospit['CHIMIO']=hospit['CHIMIO'].astype('int')"
   ]
  },
  {
   "cell_type": "code",
   "execution_count": 50,
   "id": "0df9b6b8-e8e7-447c-b62f-32eab240d9ce",
   "metadata": {},
   "outputs": [
    {
     "data": {
      "text/plain": [
       "(9819, 1822)"
      ]
     },
     "execution_count": 50,
     "metadata": {},
     "output_type": "execute_result"
    }
   ],
   "source": [
    "hospit['DGN_PAL'].str.startswith('Z511').sum(), hospit['DGN_PAL'].str.startswith('Z512').sum()"
   ]
  },
  {
   "cell_type": "markdown",
   "id": "a28ea6e2-554a-4007-a964-7c274d2a5fe2",
   "metadata": {},
   "source": [
    "## Ajout des radiothérapies"
   ]
  },
  {
   "cell_type": "code",
   "execution_count": 51,
   "id": "ac18a0c8-216f-4f9d-9d3d-f2883705037d",
   "metadata": {},
   "outputs": [],
   "source": [
    "hospit['Radiotherapie']=hospit.index.isin(hospit[(hospit['DGN_PAL'].str.startswith('Z510'))|(hospit['DGN_REL'].str.startswith('Z510'))].index)\n",
    "hospit['Radiotherapie']=hospit['Radiotherapie'].astype('int')"
   ]
  },
  {
   "cell_type": "code",
   "execution_count": 52,
   "id": "8dcea50e-913b-47ba-b53e-b6eaddd12ef5",
   "metadata": {},
   "outputs": [
    {
     "data": {
      "text/plain": [
       "5660"
      ]
     },
     "execution_count": 52,
     "metadata": {},
     "output_type": "execute_result"
    }
   ],
   "source": [
    "hospit.Radiotherapie.sum()"
   ]
  },
  {
   "cell_type": "markdown",
   "id": "d909e82e-1328-49a9-a4c9-79773474a12e",
   "metadata": {},
   "source": [
    "## Ajout des transfusions"
   ]
  },
  {
   "cell_type": "code",
   "execution_count": 53,
   "id": "808f8909-6181-4b29-8e06-0ed92913795d",
   "metadata": {},
   "outputs": [],
   "source": [
    "hospit['Transfusion']=hospit.index.isin(hospit[(hospit['GRG_GHM'].str.startswith('28Z14Z'))].index)\n",
    "hospit['Transfusion']=hospit['Transfusion'].astype('int')"
   ]
  },
  {
   "cell_type": "code",
   "execution_count": 54,
   "id": "4573bd4e-27ae-41e4-8565-ae18873e3a5d",
   "metadata": {},
   "outputs": [
    {
     "data": {
      "text/plain": [
       "2291"
      ]
     },
     "execution_count": 54,
     "metadata": {},
     "output_type": "execute_result"
    }
   ],
   "source": [
    "hospit.Transfusion.sum()"
   ]
  },
  {
   "cell_type": "markdown",
   "id": "b241884b-8007-4272-bf7e-d758d82b5231",
   "metadata": {
    "tags": []
   },
   "source": [
    "## Statistiques descriptives sur les datasets"
   ]
  },
  {
   "cell_type": "markdown",
   "id": "6b829bdd-89cc-432c-af6e-210f3c943b46",
   "metadata": {},
   "source": [
    "### Hospitalisation"
   ]
  },
  {
   "cell_type": "code",
   "execution_count": 55,
   "id": "efd37cf7-301d-4e70-b1e6-9040080f27a1",
   "metadata": {},
   "outputs": [
    {
     "name": "stdout",
     "output_type": "stream",
     "text": [
      "<class 'pandas.core.frame.DataFrame'>\n",
      "RangeIndex: 156336 entries, 0 to 156335\n",
      "Data columns (total 13 columns):\n",
      " #   Column         Non-Null Count   Dtype         \n",
      "---  ------         --------------   -----         \n",
      " 0   RSA_NUM        156336 non-null  object        \n",
      " 1   ETA_NUM        156336 non-null  object        \n",
      " 2   EXE_SOI_DTD    156334 non-null  datetime64[ns]\n",
      " 3   SEJ_NBJ        153403 non-null  Int64         \n",
      " 4   GRG_GHM        156336 non-null  object        \n",
      " 5   DGN_PAL        156336 non-null  object        \n",
      " 6   DGN_REL        67298 non-null   object        \n",
      " 7   BEN_NIR_IDT    156336 non-null  object        \n",
      " 8   CHOC           156336 non-null  int64         \n",
      " 9   HEMOD          156336 non-null  int64         \n",
      " 10  CHIMIO         156336 non-null  int64         \n",
      " 11  Radiotherapie  156336 non-null  int64         \n",
      " 12  Transfusion    156336 non-null  int64         \n",
      "dtypes: Int64(1), datetime64[ns](1), int64(5), object(6)\n",
      "memory usage: 15.7+ MB\n"
     ]
    }
   ],
   "source": [
    "hospit.info()"
   ]
  },
  {
   "cell_type": "code",
   "execution_count": 52,
   "id": "aeaf3965-539e-4443-934f-9a9b0ce4193d",
   "metadata": {},
   "outputs": [],
   "source": [
    "profile_hospit = ProfileReport(hospit, title=\"Hospit Profile Report\")"
   ]
  },
  {
   "cell_type": "raw",
   "id": "fbfaa90b-3709-4faa-a806-a6f9a3340402",
   "metadata": {},
   "source": [
    "profile_hospit.to_notebook_iframe()"
   ]
  },
  {
   "cell_type": "code",
   "execution_count": 53,
   "id": "82f6e39e-36e3-4457-b55f-8c03a4d6c615",
   "metadata": {},
   "outputs": [
    {
     "data": {
      "application/vnd.jupyter.widget-view+json": {
       "model_id": "6bccb316b1df411b922710fc3b0b7f51",
       "version_major": 2,
       "version_minor": 0
      },
      "text/plain": [
       "Summarize dataset:   0%|          | 0/5 [00:00<?, ?it/s]"
      ]
     },
     "metadata": {},
     "output_type": "display_data"
    },
    {
     "data": {
      "application/vnd.jupyter.widget-view+json": {
       "model_id": "e50256a5d9684eeea22381ebc1096b79",
       "version_major": 2,
       "version_minor": 0
      },
      "text/plain": [
       "Generate report structure:   0%|          | 0/1 [00:00<?, ?it/s]"
      ]
     },
     "metadata": {},
     "output_type": "display_data"
    },
    {
     "data": {
      "application/vnd.jupyter.widget-view+json": {
       "model_id": "55c31a7997a94cc2891268c4670817cf",
       "version_major": 2,
       "version_minor": 0
      },
      "text/plain": [
       "Render HTML:   0%|          | 0/1 [00:00<?, ?it/s]"
      ]
     },
     "metadata": {},
     "output_type": "display_data"
    },
    {
     "data": {
      "application/vnd.jupyter.widget-view+json": {
       "model_id": "9e0daf7e899148ee972c48626b99c7cb",
       "version_major": 2,
       "version_minor": 0
      },
      "text/plain": [
       "Export report to file:   0%|          | 0/1 [00:00<?, ?it/s]"
      ]
     },
     "metadata": {},
     "output_type": "display_data"
    }
   ],
   "source": [
    "profile_hospit.to_file(\"profile_hospit.html\")"
   ]
  },
  {
   "cell_type": "markdown",
   "id": "fc115b90-460d-44e8-a47a-18b39516aef3",
   "metadata": {},
   "source": [
    "### Consommant"
   ]
  },
  {
   "cell_type": "code",
   "execution_count": 54,
   "id": "b043d43f-0d7b-49ee-aeee-5fbce2017706",
   "metadata": {},
   "outputs": [
    {
     "data": {
      "text/html": [
       "<div>\n",
       "<style scoped>\n",
       "    .dataframe tbody tr th:only-of-type {\n",
       "        vertical-align: middle;\n",
       "    }\n",
       "\n",
       "    .dataframe tbody tr th {\n",
       "        vertical-align: top;\n",
       "    }\n",
       "\n",
       "    .dataframe thead th {\n",
       "        text-align: right;\n",
       "    }\n",
       "</style>\n",
       "<table border=\"1\" class=\"dataframe\">\n",
       "  <thead>\n",
       "    <tr style=\"text-align: right;\">\n",
       "      <th></th>\n",
       "      <th>_TEMG001</th>\n",
       "      <th>datemax</th>\n",
       "      <th>CODE_PATIENT</th>\n",
       "    </tr>\n",
       "  </thead>\n",
       "  <tbody>\n",
       "    <tr>\n",
       "      <th>0</th>\n",
       "      <td>21769</td>\n",
       "      <td>2019-08-08</td>\n",
       "      <td>P0</td>\n",
       "    </tr>\n",
       "    <tr>\n",
       "      <th>1</th>\n",
       "      <td>20150</td>\n",
       "      <td>2015-03-03</td>\n",
       "      <td>P6</td>\n",
       "    </tr>\n",
       "    <tr>\n",
       "      <th>2</th>\n",
       "      <td>20312</td>\n",
       "      <td>2015-08-12</td>\n",
       "      <td>P8</td>\n",
       "    </tr>\n",
       "    <tr>\n",
       "      <th>3</th>\n",
       "      <td>21769</td>\n",
       "      <td>2019-08-08</td>\n",
       "      <td>P13</td>\n",
       "    </tr>\n",
       "    <tr>\n",
       "      <th>4</th>\n",
       "      <td>21787</td>\n",
       "      <td>2019-08-26</td>\n",
       "      <td>P16</td>\n",
       "    </tr>\n",
       "  </tbody>\n",
       "</table>\n",
       "</div>"
      ],
      "text/plain": [
       "   _TEMG001    datemax CODE_PATIENT\n",
       "0     21769 2019-08-08           P0\n",
       "1     20150 2015-03-03           P6\n",
       "2     20312 2015-08-12           P8\n",
       "3     21769 2019-08-08          P13\n",
       "4     21787 2019-08-26          P16"
      ]
     },
     "execution_count": 54,
     "metadata": {},
     "output_type": "execute_result"
    }
   ],
   "source": [
    "consommant.head()"
   ]
  },
  {
   "cell_type": "code",
   "execution_count": 55,
   "id": "9ef0326c-a10a-46a2-a465-1059f51cbe2e",
   "metadata": {},
   "outputs": [
    {
     "name": "stdout",
     "output_type": "stream",
     "text": [
      "<class 'pandas.core.frame.DataFrame'>\n",
      "RangeIndex: 9986 entries, 0 to 9985\n",
      "Data columns (total 3 columns):\n",
      " #   Column        Non-Null Count  Dtype         \n",
      "---  ------        --------------  -----         \n",
      " 0   _TEMG001      9986 non-null   int64         \n",
      " 1   datemax       9986 non-null   datetime64[ns]\n",
      " 2   CODE_PATIENT  9986 non-null   object        \n",
      "dtypes: datetime64[ns](1), int64(1), object(1)\n",
      "memory usage: 234.2+ KB\n"
     ]
    }
   ],
   "source": [
    "consommant.info()"
   ]
  },
  {
   "cell_type": "code",
   "execution_count": 56,
   "id": "4d7bf12c-62e6-4578-8908-6fb005283ac8",
   "metadata": {},
   "outputs": [],
   "source": [
    "profile_conso = ProfileReport(consommant, title=\"Consommant Profile Report\")"
   ]
  },
  {
   "cell_type": "raw",
   "id": "793663ee-8eed-42b4-8b60-f0c648d7c926",
   "metadata": {},
   "source": [
    "profile_conso.to_notebook_iframe()"
   ]
  },
  {
   "cell_type": "code",
   "execution_count": 57,
   "id": "ab6ea17f-9199-4633-917c-98301588eaaf",
   "metadata": {},
   "outputs": [
    {
     "data": {
      "application/vnd.jupyter.widget-view+json": {
       "model_id": "8c999b487fb74ab7acb5e7db6cd69e69",
       "version_major": 2,
       "version_minor": 0
      },
      "text/plain": [
       "Summarize dataset:   0%|          | 0/5 [00:00<?, ?it/s]"
      ]
     },
     "metadata": {},
     "output_type": "display_data"
    },
    {
     "data": {
      "application/vnd.jupyter.widget-view+json": {
       "model_id": "0567c603bd644b8d9c9d8feaaf6e0b61",
       "version_major": 2,
       "version_minor": 0
      },
      "text/plain": [
       "Generate report structure:   0%|          | 0/1 [00:00<?, ?it/s]"
      ]
     },
     "metadata": {},
     "output_type": "display_data"
    },
    {
     "data": {
      "application/vnd.jupyter.widget-view+json": {
       "model_id": "e9e3ec93bee8400caa7edc3a002ce6ef",
       "version_major": 2,
       "version_minor": 0
      },
      "text/plain": [
       "Render HTML:   0%|          | 0/1 [00:00<?, ?it/s]"
      ]
     },
     "metadata": {},
     "output_type": "display_data"
    },
    {
     "data": {
      "application/vnd.jupyter.widget-view+json": {
       "model_id": "22a3cea0a81349e9bab3755b3c961f19",
       "version_major": 2,
       "version_minor": 0
      },
      "text/plain": [
       "Export report to file:   0%|          | 0/1 [00:00<?, ?it/s]"
      ]
     },
     "metadata": {},
     "output_type": "display_data"
    }
   ],
   "source": [
    "profile_conso.to_file(\"profile_conso.html\")"
   ]
  },
  {
   "cell_type": "markdown",
   "id": "63a58b10-c1ae-4760-bc61-8b638d22f6e4",
   "metadata": {},
   "source": [
    "### Patient"
   ]
  },
  {
   "cell_type": "code",
   "execution_count": 58,
   "id": "f18806fa-d351-44ac-975e-f26dd2d11eb5",
   "metadata": {},
   "outputs": [
    {
     "data": {
      "text/html": [
       "<div>\n",
       "<style scoped>\n",
       "    .dataframe tbody tr th:only-of-type {\n",
       "        vertical-align: middle;\n",
       "    }\n",
       "\n",
       "    .dataframe tbody tr th {\n",
       "        vertical-align: top;\n",
       "    }\n",
       "\n",
       "    .dataframe thead th {\n",
       "        text-align: right;\n",
       "    }\n",
       "</style>\n",
       "<table border=\"1\" class=\"dataframe\">\n",
       "  <thead>\n",
       "    <tr style=\"text-align: right;\">\n",
       "      <th></th>\n",
       "      <th>date_h0</th>\n",
       "      <th>ALD_before</th>\n",
       "      <th>y_nais</th>\n",
       "      <th>BEN_RES_DPT</th>\n",
       "      <th>BEN_SEX_COD</th>\n",
       "      <th>dte_deces</th>\n",
       "      <th>CODE_PATIENT</th>\n",
       "    </tr>\n",
       "  </thead>\n",
       "  <tbody>\n",
       "    <tr>\n",
       "      <th>0</th>\n",
       "      <td>2011-11-22</td>\n",
       "      <td>0</td>\n",
       "      <td>1949</td>\n",
       "      <td>11</td>\n",
       "      <td>1</td>\n",
       "      <td>NaT</td>\n",
       "      <td>P0</td>\n",
       "    </tr>\n",
       "    <tr>\n",
       "      <th>1</th>\n",
       "      <td>2013-12-05</td>\n",
       "      <td>0</td>\n",
       "      <td>1929</td>\n",
       "      <td>14</td>\n",
       "      <td>2</td>\n",
       "      <td>2015-03</td>\n",
       "      <td>P6</td>\n",
       "    </tr>\n",
       "    <tr>\n",
       "      <th>2</th>\n",
       "      <td>2015-07-02</td>\n",
       "      <td>0</td>\n",
       "      <td>1967</td>\n",
       "      <td>54</td>\n",
       "      <td>2</td>\n",
       "      <td>2015-08</td>\n",
       "      <td>P8</td>\n",
       "    </tr>\n",
       "    <tr>\n",
       "      <th>3</th>\n",
       "      <td>2011-05-19</td>\n",
       "      <td>0</td>\n",
       "      <td>1959</td>\n",
       "      <td>974</td>\n",
       "      <td>1</td>\n",
       "      <td>NaT</td>\n",
       "      <td>P13</td>\n",
       "    </tr>\n",
       "    <tr>\n",
       "      <th>4</th>\n",
       "      <td>2010-03-18</td>\n",
       "      <td>0</td>\n",
       "      <td>1947</td>\n",
       "      <td>76</td>\n",
       "      <td>1</td>\n",
       "      <td>NaT</td>\n",
       "      <td>P16</td>\n",
       "    </tr>\n",
       "  </tbody>\n",
       "</table>\n",
       "</div>"
      ],
      "text/plain": [
       "     date_h0  ALD_before  y_nais BEN_RES_DPT  BEN_SEX_COD dte_deces  \\\n",
       "0 2011-11-22           0    1949          11            1       NaT   \n",
       "1 2013-12-05           0    1929          14            2   2015-03   \n",
       "2 2015-07-02           0    1967          54            2   2015-08   \n",
       "3 2011-05-19           0    1959         974            1       NaT   \n",
       "4 2010-03-18           0    1947          76            1       NaT   \n",
       "\n",
       "  CODE_PATIENT  \n",
       "0           P0  \n",
       "1           P6  \n",
       "2           P8  \n",
       "3          P13  \n",
       "4          P16  "
      ]
     },
     "execution_count": 58,
     "metadata": {},
     "output_type": "execute_result"
    }
   ],
   "source": [
    "patient.head()"
   ]
  },
  {
   "cell_type": "code",
   "execution_count": 59,
   "id": "70bcf163-e65e-4d5e-9d1c-fa4e6a657c2f",
   "metadata": {},
   "outputs": [
    {
     "name": "stdout",
     "output_type": "stream",
     "text": [
      "<class 'pandas.core.frame.DataFrame'>\n",
      "RangeIndex: 10052 entries, 0 to 10051\n",
      "Data columns (total 7 columns):\n",
      " #   Column        Non-Null Count  Dtype         \n",
      "---  ------        --------------  -----         \n",
      " 0   date_h0       10052 non-null  datetime64[ns]\n",
      " 1   ALD_before    10052 non-null  int64         \n",
      " 2   y_nais        10052 non-null  int64         \n",
      " 3   BEN_RES_DPT   10052 non-null  object        \n",
      " 4   BEN_SEX_COD   10052 non-null  int64         \n",
      " 5   dte_deces     6619 non-null   period[M]     \n",
      " 6   CODE_PATIENT  10052 non-null  object        \n",
      "dtypes: datetime64[ns](1), int64(3), object(2), period[M](1)\n",
      "memory usage: 549.8+ KB\n"
     ]
    }
   ],
   "source": [
    "patient.info()"
   ]
  },
  {
   "cell_type": "code",
   "execution_count": 60,
   "id": "16300d2f-7024-4d72-adcf-404cba63bb92",
   "metadata": {},
   "outputs": [],
   "source": [
    "profile_patient = ProfileReport(patient, title=\"Patient Profile Report\")"
   ]
  },
  {
   "cell_type": "raw",
   "id": "8e64bbd1-fd31-4a47-b7e6-8cf92dddca45",
   "metadata": {},
   "source": [
    "profile_patient.to_notebook_iframe()"
   ]
  },
  {
   "cell_type": "code",
   "execution_count": 61,
   "id": "577bbf50-99e4-4f14-9247-942ba458533e",
   "metadata": {},
   "outputs": [
    {
     "data": {
      "application/vnd.jupyter.widget-view+json": {
       "model_id": "4a324b04e71b41b69826c16f520b22c1",
       "version_major": 2,
       "version_minor": 0
      },
      "text/plain": [
       "Summarize dataset:   0%|          | 0/5 [00:00<?, ?it/s]"
      ]
     },
     "metadata": {},
     "output_type": "display_data"
    },
    {
     "data": {
      "application/vnd.jupyter.widget-view+json": {
       "model_id": "c0d725a85d3c47e8b40e5ad468f337b9",
       "version_major": 2,
       "version_minor": 0
      },
      "text/plain": [
       "Generate report structure:   0%|          | 0/1 [00:00<?, ?it/s]"
      ]
     },
     "metadata": {},
     "output_type": "display_data"
    },
    {
     "data": {
      "application/vnd.jupyter.widget-view+json": {
       "model_id": "80b1044422e2441581cb18e7e2b7cda5",
       "version_major": 2,
       "version_minor": 0
      },
      "text/plain": [
       "Render HTML:   0%|          | 0/1 [00:00<?, ?it/s]"
      ]
     },
     "metadata": {},
     "output_type": "display_data"
    },
    {
     "data": {
      "application/vnd.jupyter.widget-view+json": {
       "model_id": "2b8d284e40f94e929d123d1f639a92d8",
       "version_major": 2,
       "version_minor": 0
      },
      "text/plain": [
       "Export report to file:   0%|          | 0/1 [00:00<?, ?it/s]"
      ]
     },
     "metadata": {},
     "output_type": "display_data"
    }
   ],
   "source": [
    "profile_patient.to_file(\"profile_patient.html\")"
   ]
  },
  {
   "cell_type": "markdown",
   "id": "fe08f12f-fa66-4e4f-a304-396a57b1f11c",
   "metadata": {},
   "source": [
    "####"
   ]
  },
  {
   "cell_type": "markdown",
   "id": "e3c2bd7a-4ae2-4e5b-bf0f-f68a6cd9e55e",
   "metadata": {},
   "source": [
    "#### Nombres de patients et d'hospitalisations après processing"
   ]
  },
  {
   "cell_type": "code",
   "execution_count": 56,
   "id": "2086c0ef-d3ba-42e2-8172-818fa7e3352b",
   "metadata": {},
   "outputs": [
    {
     "name": "stdout",
     "output_type": "stream",
     "text": [
      "Il y avait 24311 patients initialement. Suite à l'ensemble des critères de rejet, il en reste 10052.\n",
      "On en a enlevé 14259.\n"
     ]
    }
   ],
   "source": [
    "#Nombre de patients\n",
    "patient_init = pd.read_csv(\"base_patient.csv\", sep=';')\n",
    "print(f\"Il y avait {len(patient_init)} patients initialement. Suite à l'ensemble des critères de rejet, il en reste {len(patient)}.\")\n",
    "print(f\"On en a enlevé {len(patient_init) - len(patient)}.\")"
   ]
  },
  {
   "cell_type": "code",
   "execution_count": 57,
   "id": "ca14a38d-b334-44b2-a925-e29f9f48c50f",
   "metadata": {},
   "outputs": [
    {
     "name": "stdout",
     "output_type": "stream",
     "text": [
      "Il y avait 226127 hospitalisations initialement. Suite à l'ensemble des critères de rejet, il en reste 156336.\n",
      "On en a enlevé 69791.\n"
     ]
    }
   ],
   "source": [
    "hospit_init = pd.read_csv(\"base_hospit.csv\", sep=';')\n",
    "print(f\"Il y avait {len(hospit_init)} hospitalisations initialement. Suite à l'ensemble des critères de rejet, il en reste {len(hospit)}.\")\n",
    "print(f\"On en a enlevé {len(hospit_init) - len(hospit)}.\")"
   ]
  },
  {
   "cell_type": "code",
   "execution_count": 64,
   "id": "624fed56-2a7f-44d9-b2cd-34fc38df8f37",
   "metadata": {},
   "outputs": [
    {
     "name": "stdout",
     "output_type": "stream",
     "text": [
      "Il y avait 24232 consommations initialement. Suite à l'ensemble des critères de rejet, il en reste 9986.\n",
      "On en a enlevé 14246.\n"
     ]
    }
   ],
   "source": [
    "conso_init = pd.read_csv(\"consommant.csv\", sep=';')\n",
    "print(f\"Il y avait {len(conso_init)} consommations initialement. Suite à l'ensemble des critères de rejet, il en reste {len(consommant)}.\")\n",
    "print(f\"On en a enlevé {len(conso_init) - len(consommant)}.\")"
   ]
  },
  {
   "cell_type": "markdown",
   "id": "3ae1650d-b2f6-4b93-95b4-0aceaea4a6b6",
   "metadata": {
    "tags": []
   },
   "source": [
    "#### Nombre de patients dialysés"
   ]
  },
  {
   "cell_type": "markdown",
   "id": "11b8f5d5-d9e9-4ad7-95c7-b5842f80677a",
   "metadata": {},
   "source": [
    "###### Chimiothérapie"
   ]
  },
  {
   "cell_type": "code",
   "execution_count": 58,
   "id": "5706d4fb-016e-45dc-b7d8-40c3ce1a439f",
   "metadata": {},
   "outputs": [
    {
     "name": "stdout",
     "output_type": "stream",
     "text": [
      "Il y a 11641 hospitalisations pour des raisons de chimiothérapie.\n",
      "Cela concerne 916 patients.\n"
     ]
    }
   ],
   "source": [
    "hospit_chimio = hospit.loc[hospit.CHIMIO == 1]\n",
    "nb_patients_chimio = hospit_chimio.BEN_NIR_IDT.nunique()\n",
    "print(f\"Il y a {len(hospit_chimio)} hospitalisations pour des raisons de chimiothérapie.\")\n",
    "print(f\"Cela concerne {nb_patients_chimio} patients.\")"
   ]
  },
  {
   "cell_type": "markdown",
   "id": "27de5d72-ce52-4756-a694-713a4e09aec0",
   "metadata": {},
   "source": [
    "###### Hémodialyse"
   ]
  },
  {
   "cell_type": "code",
   "execution_count": 59,
   "id": "8bbf307d-19ca-4b14-a1ba-bed48184e1eb",
   "metadata": {},
   "outputs": [
    {
     "name": "stdout",
     "output_type": "stream",
     "text": [
      "Il y a 51150 hospitalisations pour des raisons d'hémodialyse.\n",
      "Cela concerne 343 patients.\n"
     ]
    }
   ],
   "source": [
    "hospit_hemod = hospit.loc[hospit.HEMOD == 1]\n",
    "nb_patients_hemod = hospit_hemod.BEN_NIR_IDT.nunique()\n",
    "print(f\"Il y a {len(hospit_hemod)} hospitalisations pour des raisons d'hémodialyse.\")\n",
    "print(f\"Cela concerne {nb_patients_hemod} patients.\")"
   ]
  },
  {
   "cell_type": "markdown",
   "id": "2257a5a4-2a88-4116-b2e2-2a2d19f3233b",
   "metadata": {},
   "source": [
    "###### Radiothérapie"
   ]
  },
  {
   "cell_type": "code",
   "execution_count": 60,
   "id": "42e1dcd8-5359-4bc3-b007-00abeb3e34d3",
   "metadata": {},
   "outputs": [
    {
     "name": "stdout",
     "output_type": "stream",
     "text": [
      "Il y a 5660 hospitalisations pour des raisons de radiothérapie.\n",
      "Cela concerne 302 patients.\n"
     ]
    }
   ],
   "source": [
    "hospit_radiotherapie = hospit.loc[hospit.Radiotherapie == 1]\n",
    "nb_patients_radiotherapie = hospit_radiotherapie.BEN_NIR_IDT.nunique()\n",
    "print(f\"Il y a {len(hospit_radiotherapie)} hospitalisations pour des raisons de radiothérapie.\")\n",
    "print(f\"Cela concerne {nb_patients_radiotherapie} patients.\")"
   ]
  },
  {
   "cell_type": "markdown",
   "id": "a89cadf6-52fb-4a84-8bfc-c84a0952013e",
   "metadata": {},
   "source": [
    "###### Transfusions"
   ]
  },
  {
   "cell_type": "code",
   "execution_count": 61,
   "id": "27e23cca-175b-4079-bcdd-00f13608dfeb",
   "metadata": {},
   "outputs": [
    {
     "name": "stdout",
     "output_type": "stream",
     "text": [
      "Il y a 2291 hospitalisations pour des raisons de transfusion.\n",
      "Cela concerne 382 patients.\n"
     ]
    }
   ],
   "source": [
    "hospit_transfusion = hospit.loc[hospit.Transfusion == 1]\n",
    "nb_patients_transfusion = hospit_transfusion.BEN_NIR_IDT.nunique()\n",
    "print(f\"Il y a {len(hospit_transfusion)} hospitalisations pour des raisons de transfusion.\")\n",
    "print(f\"Cela concerne {nb_patients_transfusion} patients.\")"
   ]
  },
  {
   "cell_type": "markdown",
   "id": "ba2f64d2-bcf2-4c7a-9466-a347efd14471",
   "metadata": {},
   "source": [
    "###### Hospitalisations autres"
   ]
  },
  {
   "cell_type": "code",
   "execution_count": 62,
   "id": "17d4d29c-9a21-448e-bc08-e65cb6dc3156",
   "metadata": {},
   "outputs": [
    {
     "name": "stdout",
     "output_type": "stream",
     "text": [
      "Il y a 85594 hospitalisations non chroniques.\n",
      "Cela concerne 10051 patients.\n",
      "Tous les patients de la base ont au moins une hospitalisation qui n'est pas chronique.\n",
      "On a enlevé, en tout, 140533 hospitalisations.\n"
     ]
    }
   ],
   "source": [
    "hospit_non_chronique = hospit.loc[(hospit.HEMOD == 0) & (hospit.CHIMIO==0) & (hospit.Radiotherapie==0) & (hospit.Transfusion==0)]\n",
    "nb_patients_non_chronique = hospit_non_chronique.BEN_NIR_IDT.nunique()\n",
    "print(f\"Il y a {len(hospit_non_chronique)} hospitalisations non chroniques.\")\n",
    "print(f\"Cela concerne {nb_patients_non_chronique} patients.\")\n",
    "print(\"Tous les patients de la base ont au moins une hospitalisation qui n'est pas chronique.\")\n",
    "print(f\"On a enlevé, en tout, {len(hospit_init) - len(hospit_non_chronique)} hospitalisations.\")"
   ]
  },
  {
   "cell_type": "markdown",
   "id": "0f570272-c210-4863-a88b-8e33339fbf2f",
   "metadata": {},
   "source": [
    "#### Profiling sur les hospitalisations après processing et pas chroniques"
   ]
  },
  {
   "cell_type": "code",
   "execution_count": 67,
   "id": "822f1ba4-00fa-403a-ae58-c40c1c0600ad",
   "metadata": {},
   "outputs": [
    {
     "data": {
      "application/vnd.jupyter.widget-view+json": {
       "model_id": "d51596a1e52b4ddf9532addde8adde0a",
       "version_major": 2,
       "version_minor": 0
      },
      "text/plain": [
       "Summarize dataset:   0%|          | 0/5 [00:00<?, ?it/s]"
      ]
     },
     "metadata": {},
     "output_type": "display_data"
    },
    {
     "data": {
      "application/vnd.jupyter.widget-view+json": {
       "model_id": "0c7c84e28a124801b203c99577a88aa9",
       "version_major": 2,
       "version_minor": 0
      },
      "text/plain": [
       "Generate report structure:   0%|          | 0/1 [00:00<?, ?it/s]"
      ]
     },
     "metadata": {},
     "output_type": "display_data"
    },
    {
     "data": {
      "application/vnd.jupyter.widget-view+json": {
       "model_id": "f003b03dfacf4696ae756cedeaa1a101",
       "version_major": 2,
       "version_minor": 0
      },
      "text/plain": [
       "Render HTML:   0%|          | 0/1 [00:00<?, ?it/s]"
      ]
     },
     "metadata": {},
     "output_type": "display_data"
    },
    {
     "data": {
      "application/vnd.jupyter.widget-view+json": {
       "model_id": "c6d1b20c2ec24d2498ada1f4999310a6",
       "version_major": 2,
       "version_minor": 0
      },
      "text/plain": [
       "Export report to file:   0%|          | 0/1 [00:00<?, ?it/s]"
      ]
     },
     "metadata": {},
     "output_type": "display_data"
    }
   ],
   "source": [
    "profile_hospit_non_chroniques = ProfileReport(hospit_non_chronique, title=\"Hospitalisations Non Chroniques\")\n",
    "profile_hospit_non_chroniques.to_file(\"profile_hospit_non_chr.html\")"
   ]
  },
  {
   "cell_type": "markdown",
   "id": "a08697f0-9d6a-4645-9a98-c95af53b7696",
   "metadata": {},
   "source": [
    "## Export des bases de données nettoyées"
   ]
  },
  {
   "cell_type": "code",
   "execution_count": 77,
   "id": "dc80500a-920a-4146-a40d-373b07f9f694",
   "metadata": {},
   "outputs": [],
   "source": [
    "hospit.to_csv(\"base_full_hospit_anonyme.csv\", index=False)"
   ]
  },
  {
   "cell_type": "code",
   "execution_count": 78,
   "id": "b85bb4d9-8d70-4776-a6a1-f87622e7acc0",
   "metadata": {},
   "outputs": [],
   "source": [
    "hospit_non_chronique.to_csv(\"base_hospit_non_chr_anonyme.csv\", index=False)"
   ]
  },
  {
   "cell_type": "code",
   "execution_count": 79,
   "id": "df3a7d4d-26aa-473c-b074-13ea4c7bb058",
   "metadata": {},
   "outputs": [],
   "source": [
    "patient.to_csv(\"patient_anonyme.csv\", index=False)"
   ]
  },
  {
   "cell_type": "code",
   "execution_count": 80,
   "id": "02fba10a-7c98-4c46-bb3b-db1b4949b878",
   "metadata": {},
   "outputs": [],
   "source": [
    "consommant.to_csv(\"consommant_anonyme.csv\", index=False)"
   ]
  }
 ],
 "metadata": {
  "kernelspec": {
   "display_name": "Python 3 (ipykernel)",
   "language": "python",
   "name": "python3"
  },
  "language_info": {
   "codemirror_mode": {
    "name": "ipython",
    "version": 3
   },
   "file_extension": ".py",
   "mimetype": "text/x-python",
   "name": "python",
   "nbconvert_exporter": "python",
   "pygments_lexer": "ipython3",
   "version": "3.10.4"
  }
 },
 "nbformat": 4,
 "nbformat_minor": 5
}
