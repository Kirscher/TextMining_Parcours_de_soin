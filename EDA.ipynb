{
 "cells": [
  {
   "cell_type": "markdown",
   "id": "d27bcb7d-a1a7-4058-9eaa-c9c7a87dcce1",
   "metadata": {},
   "source": [
    "# EDA - Bases de données patient, consommant et hospitalisation"
   ]
  },
  {
   "cell_type": "markdown",
   "id": "a94b4444-587f-4876-8cdd-d8741f13f273",
   "metadata": {
    "tags": []
   },
   "source": [
    "### Installation libraire requise"
   ]
  },
  {
   "cell_type": "code",
   "execution_count": null,
   "id": "6146a50d-d923-4285-b6a0-19a8535cbc93",
   "metadata": {},
   "outputs": [],
   "source": [
    "!pip install pandas_profiling"
   ]
  },
  {
   "cell_type": "markdown",
   "id": "272933d6-b586-4b9d-b80b-3c369f0731fb",
   "metadata": {},
   "source": [
    "### Import librairies"
   ]
  },
  {
   "cell_type": "code",
   "execution_count": null,
   "id": "be4672c9-f172-43c0-9dab-05fb8119befb",
   "metadata": {},
   "outputs": [],
   "source": [
    "import numpy as np\n",
    "import os\n",
    "import pandas as pd\n",
    "from pandas_profiling import ProfileReport\n",
    "from tqdm import tqdm\n",
    "import warnings\n",
    "warnings.simplefilter(\"ignore\")"
   ]
  },
  {
   "cell_type": "markdown",
   "id": "778f270a-4b22-40d3-8895-759d5522d194",
   "metadata": {},
   "source": [
    "### Import des bases de données"
   ]
  },
  {
   "cell_type": "code",
   "execution_count": null,
   "id": "9e9d0df4-85d9-441c-a1f9-ff4b670e66c7",
   "metadata": {},
   "outputs": [],
   "source": [
    "hospit=pd.read_csv(\"base_hospit.csv\", sep=';')\n",
    "patient=pd.read_csv(\"base_patient.csv\", sep=';')\n",
    "consommant=pd.read_csv(\"consommant.csv\", sep=';')"
   ]
  },
  {
   "cell_type": "markdown",
   "id": "e44760e3-da63-4bf1-b34c-9c537f272416",
   "metadata": {},
   "source": [
    "### Function utile"
   ]
  },
  {
   "cell_type": "code",
   "execution_count": null,
   "id": "a6fe7d02-2017-4d20-9aa1-d35a8d6f18cb",
   "metadata": {},
   "outputs": [],
   "source": [
    "def count():\n",
    "    print(f\"Nb patients = {len(patient)}\")\n",
    "    print(f\"Nb hospit = {len(hospit)}\")\n",
    "    print(f\"Nb conso = {len(consommant)}\")"
   ]
  },
  {
   "cell_type": "markdown",
   "id": "f46e590d-ed15-49df-9f7f-4462990fb0e7",
   "metadata": {},
   "source": [
    "### Conversion des dates en datetime"
   ]
  },
  {
   "cell_type": "code",
   "execution_count": null,
   "id": "c0270c9a-76d8-43da-9f1e-31be2e9f77c0",
   "metadata": {},
   "outputs": [],
   "source": [
    "hospit['EXE_SOI_DTD']=pd.to_datetime(hospit['EXE_SOI_DTD'], dayfirst=True)\n",
    "hospit['SEJ_NBJ']=hospit['SEJ_NBJ'].fillna(np.nan).astype(float)\n",
    "hospit['SEJ_NBJ']=hospit['SEJ_NBJ'].astype('Int64')"
   ]
  },
  {
   "cell_type": "code",
   "execution_count": null,
   "id": "77f42eb6-0933-4c83-89f7-e8eed272a19d",
   "metadata": {},
   "outputs": [],
   "source": [
    "consommant['datemax']=pd.to_datetime(consommant['datemax'], dayfirst=True)"
   ]
  },
  {
   "cell_type": "code",
   "execution_count": null,
   "id": "9cb45bfd-aab4-4486-a743-6bf0b2713519",
   "metadata": {},
   "outputs": [],
   "source": [
    "patient['date_h0']=pd.to_datetime(patient['date_h0'], dayfirst=True)\n",
    "patient['dte_deces']=pd.to_datetime(patient['dte_deces'], dayfirst=True)"
   ]
  },
  {
   "cell_type": "markdown",
   "id": "a75c2f81-f2fc-43ff-8782-68be75d494eb",
   "metadata": {},
   "source": [
    "## Encodage des patients"
   ]
  },
  {
   "cell_type": "code",
   "execution_count": null,
   "id": "313a7cba-90c2-4c1f-9a16-1c95e3369e13",
   "metadata": {},
   "outputs": [],
   "source": [
    "dict_patients = {}\n",
    "for i in range(len(patient)):\n",
    "    code = patient.CODE_PATIENT.iloc[i]\n",
    "    dict_patients[code] = i"
   ]
  },
  {
   "cell_type": "code",
   "execution_count": null,
   "id": "7df32b26-ab29-4f2f-996b-a28b9ebda478",
   "metadata": {},
   "outputs": [],
   "source": [
    "patient['CODE_PATIENT_ENC'] = ['P' + str(i) for i in range(len(patient))]"
   ]
  },
  {
   "cell_type": "code",
   "execution_count": null,
   "id": "e40aa4a3-d216-4a10-b5e2-7d895bae3915",
   "metadata": {},
   "outputs": [],
   "source": [
    "enc_conso = []\n",
    "for i in range(len(consommant)):\n",
    "    code = consommant.CODE_PATIENT.iloc[i]\n",
    "    patient_n = dict_patients[code]\n",
    "    enc_conso.append('P'+str(patient_n))\n",
    "consommant['CODE_PATIENT_ENC'] = enc_conso"
   ]
  },
  {
   "cell_type": "code",
   "execution_count": null,
   "id": "2f5f3e57-0f98-49b6-bb29-3124f0df250e",
   "metadata": {},
   "outputs": [],
   "source": [
    "enc_hospit = []\n",
    "for i in range(len(hospit)):\n",
    "    code = hospit.BEN_NIR_IDT.iloc[i]\n",
    "    patient_n = dict_patients[code]\n",
    "    enc_hospit.append('P' + str(patient_n))\n",
    "hospit['BEN_NIR_IDT_ENC'] = enc_hospit"
   ]
  },
  {
   "cell_type": "code",
   "execution_count": null,
   "id": "d8064164-813a-4d8d-a1b9-4a32d112ebd2",
   "metadata": {},
   "outputs": [],
   "source": [
    "patient=patient.drop(columns=['CODE_PATIENT'])\n",
    "consommant=consommant.drop(columns=['CODE_PATIENT'])\n",
    "hospit=hospit.drop(columns=['BEN_NIR_IDT'])"
   ]
  },
  {
   "cell_type": "code",
   "execution_count": null,
   "id": "a6b3518d-de02-457d-b857-3a09db532b39",
   "metadata": {},
   "outputs": [],
   "source": [
    "import pickle\n",
    "    \n",
    "with open('dict_codes_patients.pickle', 'wb') as handle:\n",
    "    pickle.dump(dict_patients, handle)"
   ]
  },
  {
   "cell_type": "code",
   "execution_count": null,
   "id": "29efdd99-e98d-4ffe-8174-6c4fc1455e37",
   "metadata": {},
   "outputs": [],
   "source": [
    "patient=patient.rename(columns={'CODE_PATIENT_ENC':'CODE_PATIENT'})\n",
    "consommant=consommant.rename(columns={'CODE_PATIENT_ENC':'CODE_PATIENT'})\n",
    "hospit=hospit.rename(columns={'BEN_NIR_IDT_ENC':'BEN_NIR_IDT'})"
   ]
  },
  {
   "cell_type": "markdown",
   "id": "193644a1-ba58-4bae-8aa9-21d7d7418174",
   "metadata": {
    "tags": []
   },
   "source": [
    "## Suppression des patients dont la première hospitalisation est postérieure à 2016 ou antérieure à 2010"
   ]
  },
  {
   "cell_type": "code",
   "execution_count": null,
   "id": "550de676-3aa3-4441-9e2d-df7cc1c682e1",
   "metadata": {},
   "outputs": [],
   "source": [
    "patient=patient[(patient['date_h0']<'01-01-2016')&(patient['date_h0']>='01-01-2010')]"
   ]
  },
  {
   "cell_type": "code",
   "execution_count": null,
   "id": "0bb655fe-0335-4838-9917-0a1d12177ae8",
   "metadata": {},
   "outputs": [],
   "source": [
    "patient['date_h0']=pd.to_datetime(patient['date_h0'], dayfirst=True)"
   ]
  },
  {
   "cell_type": "code",
   "execution_count": null,
   "id": "3d29e18b-4f8b-4afd-a470-5d025f323a00",
   "metadata": {},
   "outputs": [],
   "source": [
    "consommant = consommant[consommant['CODE_PATIENT'].isin(patient['CODE_PATIENT'])].reset_index(drop=True)"
   ]
  },
  {
   "cell_type": "code",
   "execution_count": null,
   "id": "c34928c4-46fd-41c0-9ef4-58ce72ee04da",
   "metadata": {},
   "outputs": [],
   "source": [
    "consommant.head()"
   ]
  },
  {
   "cell_type": "code",
   "execution_count": null,
   "id": "1c6223a4-0c72-4075-b009-bf043cc8b559",
   "metadata": {},
   "outputs": [],
   "source": [
    "hospit.head()"
   ]
  },
  {
   "cell_type": "code",
   "execution_count": null,
   "id": "44247923-ef9b-4282-a204-2e8d2261a90e",
   "metadata": {},
   "outputs": [],
   "source": [
    "hospit = hospit[hospit['BEN_NIR_IDT'].isin(patient['CODE_PATIENT'])].reset_index(drop=True)"
   ]
  },
  {
   "cell_type": "code",
   "execution_count": null,
   "id": "fa919189-ca01-4dd9-99bf-d96b9f5127df",
   "metadata": {},
   "outputs": [],
   "source": [
    "hospit.info()"
   ]
  },
  {
   "cell_type": "code",
   "execution_count": null,
   "id": "048ae492-fe25-402a-a3ee-5a512657d025",
   "metadata": {},
   "outputs": [],
   "source": [
    "count()"
   ]
  },
  {
   "cell_type": "markdown",
   "id": "6f5ef211-c778-4bf3-9c0e-9cf9c3da1d48",
   "metadata": {},
   "source": [
    "## On conserve uniquement les mois de décès"
   ]
  },
  {
   "cell_type": "code",
   "execution_count": null,
   "id": "e36434a7-dbd4-437b-8be3-18ba1d6e2fc4",
   "metadata": {},
   "outputs": [],
   "source": [
    "patient['dte_deces']=patient['dte_deces'].dt.to_period('M')"
   ]
  },
  {
   "cell_type": "code",
   "execution_count": null,
   "id": "9d7f480a-60a4-4fb5-ae31-7bc95c595947",
   "metadata": {},
   "outputs": [],
   "source": [
    "patient.head()"
   ]
  },
  {
   "cell_type": "code",
   "execution_count": null,
   "id": "7bc15a72-ab2b-4b88-8700-e2e6ba101b0f",
   "metadata": {},
   "outputs": [],
   "source": [
    "count()"
   ]
  },
  {
   "cell_type": "markdown",
   "id": "2f392c31-cd11-4368-b46c-1eb46e194da8",
   "metadata": {},
   "source": [
    "## On conserve uniquement les patients majeurs au moment de leur première hospitalisation"
   ]
  },
  {
   "cell_type": "markdown",
   "id": "f6d45b7e-c1ac-4431-a903-d87c8d46becc",
   "metadata": {},
   "source": [
    "#### Nombre de patients mineurs dans les données"
   ]
  },
  {
   "cell_type": "code",
   "execution_count": null,
   "id": "ca4e58e1-fa37-440f-aaf8-185de19b798e",
   "metadata": {},
   "outputs": [],
   "source": [
    "np.unique(((pd.to_datetime(patient.date_h0).apply(lambda x : x.year) - patient.y_nais) < 18), return_counts=True)"
   ]
  },
  {
   "cell_type": "code",
   "execution_count": null,
   "id": "3da7647c-7991-46ef-b18e-7a07e199f546",
   "metadata": {},
   "outputs": [],
   "source": [
    "patient = patient[pd.to_datetime(patient.date_h0).apply(lambda x : x.year) - patient.y_nais >= 18]"
   ]
  },
  {
   "cell_type": "code",
   "execution_count": null,
   "id": "70b562cd-9684-4bb6-a295-f24276040053",
   "metadata": {},
   "outputs": [],
   "source": [
    "consommant = consommant[consommant['CODE_PATIENT'].isin(patient['CODE_PATIENT'])].reset_index(drop=True)"
   ]
  },
  {
   "cell_type": "code",
   "execution_count": null,
   "id": "022057de-7658-4307-ae27-bf70cd9d9c9a",
   "metadata": {},
   "outputs": [],
   "source": [
    "hospit = hospit[hospit['BEN_NIR_IDT'].isin(patient['CODE_PATIENT'])].reset_index(drop=True)"
   ]
  },
  {
   "cell_type": "code",
   "execution_count": null,
   "id": "659d5918-4a15-4946-865e-6cf56d7cc0e4",
   "metadata": {},
   "outputs": [],
   "source": [
    "patient"
   ]
  },
  {
   "cell_type": "code",
   "execution_count": null,
   "id": "2742ddaf-cc88-4831-b79b-8c53ce1202e8",
   "metadata": {},
   "outputs": [],
   "source": [
    "count()"
   ]
  },
  {
   "cell_type": "markdown",
   "id": "9ed4cbbc-169a-4376-923b-eaa73ed8220e",
   "metadata": {},
   "source": [
    "## On retire les patients ayant déjà connu une hospitalisation avant l'étude (pop=0)"
   ]
  },
  {
   "cell_type": "code",
   "execution_count": null,
   "id": "d1981972-826b-4125-a151-90879092a347",
   "metadata": {},
   "outputs": [],
   "source": [
    "patient=patient[patient[\"pop\"]==1].reset_index(drop=True)"
   ]
  },
  {
   "cell_type": "code",
   "execution_count": null,
   "id": "dd9c6402-2548-42c8-b103-7b0daaffdbd9",
   "metadata": {},
   "outputs": [],
   "source": [
    "consommant = consommant[consommant['CODE_PATIENT'].isin(patient['CODE_PATIENT'])].reset_index(drop=True)"
   ]
  },
  {
   "cell_type": "code",
   "execution_count": null,
   "id": "95d39836-3563-4870-8c96-5f8fef96b886",
   "metadata": {},
   "outputs": [],
   "source": [
    "hospit = hospit[hospit['BEN_NIR_IDT'].isin(patient['CODE_PATIENT'])].reset_index(drop=True)"
   ]
  },
  {
   "cell_type": "code",
   "execution_count": null,
   "id": "ae8db21b-78d0-4a23-8e0f-080b4e18e883",
   "metadata": {},
   "outputs": [],
   "source": [
    "patient = patient.drop(columns=['pop'])"
   ]
  },
  {
   "cell_type": "code",
   "execution_count": null,
   "id": "8396ed8e-4d82-4918-80e4-a1be5fad0e09",
   "metadata": {},
   "outputs": [],
   "source": [
    "count()"
   ]
  },
  {
   "cell_type": "markdown",
   "id": "b3b84442-e603-4560-8e18-09be7e1e1f72",
   "metadata": {},
   "source": [
    "## On retire les patients sans consommation depuis plus de 5 ans, non déclarés décédés"
   ]
  },
  {
   "cell_type": "code",
   "execution_count": null,
   "id": "495347f2-4f80-45b7-8bd8-1a413f5107f2",
   "metadata": {},
   "outputs": [],
   "source": [
    "patient_non_décédés=patient[patient['dte_deces'].fillna(0)==0][\"CODE_PATIENT\"]"
   ]
  },
  {
   "cell_type": "code",
   "execution_count": null,
   "id": "b2aa64a7-4510-4e5e-aeba-ab9eebceb508",
   "metadata": {
    "tags": []
   },
   "outputs": [],
   "source": [
    "patients_sans_conso=consommant[(consommant[\"CODE_PATIENT\"].isin(patient_non_décédés))&(consommant['datemax']<'01-01-2014')]['CODE_PATIENT']"
   ]
  },
  {
   "cell_type": "code",
   "execution_count": null,
   "id": "a32e0f10-cdd7-45ea-8f12-683991818038",
   "metadata": {},
   "outputs": [],
   "source": [
    "patient = patient[~patient[\"CODE_PATIENT\"].isin(patients_sans_conso)].reset_index(drop=True)"
   ]
  },
  {
   "cell_type": "code",
   "execution_count": null,
   "id": "9a94c4b5-5d79-4240-9c27-83bc7842ba2f",
   "metadata": {},
   "outputs": [],
   "source": [
    "consommant = consommant[consommant['CODE_PATIENT'].isin(patient['CODE_PATIENT'])].reset_index(drop=True)"
   ]
  },
  {
   "cell_type": "code",
   "execution_count": null,
   "id": "19235aa2-9b31-4fb7-bed5-bb0b285a3a9f",
   "metadata": {},
   "outputs": [],
   "source": [
    "hospit = hospit[hospit['BEN_NIR_IDT'].isin(patient['CODE_PATIENT'])].reset_index(drop=True)"
   ]
  },
  {
   "cell_type": "code",
   "execution_count": null,
   "id": "6fd2cfe1-c3a5-4230-9d5b-b5f4a2415261",
   "metadata": {},
   "outputs": [],
   "source": [
    "count()"
   ]
  },
  {
   "cell_type": "markdown",
   "id": "31d4c42f-2a0e-454e-9833-9e64b1ecb741",
   "metadata": {},
   "source": [
    "## Ajout des insuffisances cardiaques avec état de choc cardiogénique"
   ]
  },
  {
   "cell_type": "code",
   "execution_count": null,
   "id": "fa435db8-cb0a-43f9-8c44-fcf228da45fc",
   "metadata": {},
   "outputs": [],
   "source": [
    "#Insuffisances cardiaques et états de choc circulatoire\n",
    "#hospit[hospit['GRG_GHM'].str.startswith('05M09')]\n",
    "\n",
    "#Insuffisances cardiaques et états de choc cardiogénique (code R57)\n",
    "#hospit[(hospit['GRG_GHM'].str.startswith('05M09'))&(hospit['DGN_PAL'].str.startswith('R57'))]\n",
    "\n",
    "#Ajout d'une colonne CHOC\n",
    "hospit['CHOC']=hospit.index.isin(hospit[(hospit['GRG_GHM'].str.startswith('05M09'))&(hospit['DGN_PAL'].str.startswith('R57'))|(hospit['DGN_REL'].str.startswith('R57'))].index)\n",
    "hospit['CHOC']=hospit['CHOC'].astype('int')"
   ]
  },
  {
   "cell_type": "code",
   "execution_count": null,
   "id": "bbb49af1-446a-441d-a5e4-06e6970dec5c",
   "metadata": {},
   "outputs": [],
   "source": [
    "hospit.CHOC.sum()"
   ]
  },
  {
   "cell_type": "markdown",
   "id": "9aad76c0-e6eb-464e-8412-c2b5e2e537f6",
   "metadata": {},
   "source": [
    "## Ajout des hémodialyses"
   ]
  },
  {
   "cell_type": "code",
   "execution_count": null,
   "id": "9f70ff91-2cc2-4093-9533-df012fba22b3",
   "metadata": {},
   "outputs": [],
   "source": [
    "hospit['HEMOD']=hospit.index.isin(hospit[(hospit['DGN_PAL'].str.startswith('Z49'))].index)\n",
    "hospit['HEMOD']=hospit['HEMOD'].astype('int')"
   ]
  },
  {
   "cell_type": "code",
   "execution_count": null,
   "id": "152ad629-3c6f-42ef-99d0-c51446fedf37",
   "metadata": {},
   "outputs": [],
   "source": [
    "hospit['DGN_PAL'].str.startswith('Z49').sum()"
   ]
  },
  {
   "cell_type": "markdown",
   "id": "09041ee8-1847-449a-a271-34195973babe",
   "metadata": {},
   "source": [
    "## Ajout des chimiothérapies"
   ]
  },
  {
   "cell_type": "code",
   "execution_count": null,
   "id": "c21de73c-a04f-44a7-9ac4-e04f246abccf",
   "metadata": {},
   "outputs": [],
   "source": [
    "hospit['CHIMIO']=hospit.index.isin(hospit[(hospit['DGN_PAL'].str.startswith('Z511'))|(hospit['DGN_PAL'].str.startswith('Z512'))].index)\n",
    "hospit['CHIMIO']=hospit['CHIMIO'].astype('int')"
   ]
  },
  {
   "cell_type": "code",
   "execution_count": null,
   "id": "0df9b6b8-e8e7-447c-b62f-32eab240d9ce",
   "metadata": {},
   "outputs": [],
   "source": [
    "hospit['DGN_PAL'].str.startswith('Z511').sum(), hospit['DGN_PAL'].str.startswith('Z512').sum()"
   ]
  },
  {
   "cell_type": "markdown",
   "id": "a28ea6e2-554a-4007-a964-7c274d2a5fe2",
   "metadata": {},
   "source": [
    "## Ajout des radiothérapies"
   ]
  },
  {
   "cell_type": "code",
   "execution_count": null,
   "id": "ac18a0c8-216f-4f9d-9d3d-f2883705037d",
   "metadata": {},
   "outputs": [],
   "source": [
    "hospit['Radiotherapie']=hospit.index.isin(hospit[(hospit['DGN_PAL'].str.startswith('Z510'))|(hospit['DGN_REL'].str.startswith('Z510'))].index)\n",
    "hospit['Radiotherapie']=hospit['Radiotherapie'].astype('int')"
   ]
  },
  {
   "cell_type": "code",
   "execution_count": null,
   "id": "8dcea50e-913b-47ba-b53e-b6eaddd12ef5",
   "metadata": {},
   "outputs": [],
   "source": [
    "hospit.Radiotherapie.sum()"
   ]
  },
  {
   "cell_type": "markdown",
   "id": "d909e82e-1328-49a9-a4c9-79773474a12e",
   "metadata": {},
   "source": [
    "## Ajout des transfusions"
   ]
  },
  {
   "cell_type": "code",
   "execution_count": null,
   "id": "808f8909-6181-4b29-8e06-0ed92913795d",
   "metadata": {},
   "outputs": [],
   "source": [
    "hospit['Transfusion']=hospit.index.isin(hospit[(hospit['GRG_GHM'].str.startswith('28Z14Z'))].index)\n",
    "hospit['Transfusion']=hospit['Transfusion'].astype('int')"
   ]
  },
  {
   "cell_type": "code",
   "execution_count": null,
   "id": "4573bd4e-27ae-41e4-8565-ae18873e3a5d",
   "metadata": {},
   "outputs": [],
   "source": [
    "hospit.Transfusion.sum()"
   ]
  },
  {
   "cell_type": "markdown",
   "id": "b241884b-8007-4272-bf7e-d758d82b5231",
   "metadata": {
    "tags": []
   },
   "source": [
    "## Statistiques descriptives sur les datasets"
   ]
  },
  {
   "cell_type": "markdown",
   "id": "6b829bdd-89cc-432c-af6e-210f3c943b46",
   "metadata": {},
   "source": [
    "### Hospitalisation"
   ]
  },
  {
   "cell_type": "code",
   "execution_count": null,
   "id": "efd37cf7-301d-4e70-b1e6-9040080f27a1",
   "metadata": {},
   "outputs": [],
   "source": [
    "hospit.info()"
   ]
  },
  {
   "cell_type": "code",
   "execution_count": null,
   "id": "aeaf3965-539e-4443-934f-9a9b0ce4193d",
   "metadata": {},
   "outputs": [],
   "source": [
    "profile_hospit = ProfileReport(hospit, title=\"Hospit Profile Report\")"
   ]
  },
  {
   "cell_type": "raw",
   "id": "fbfaa90b-3709-4faa-a806-a6f9a3340402",
   "metadata": {},
   "source": [
    "profile_hospit.to_notebook_iframe()"
   ]
  },
  {
   "cell_type": "code",
   "execution_count": null,
   "id": "82f6e39e-36e3-4457-b55f-8c03a4d6c615",
   "metadata": {},
   "outputs": [],
   "source": [
    "profile_hospit.to_file(\"profile_hospit.html\")"
   ]
  },
  {
   "cell_type": "markdown",
   "id": "fc115b90-460d-44e8-a47a-18b39516aef3",
   "metadata": {},
   "source": [
    "### Consommant"
   ]
  },
  {
   "cell_type": "code",
   "execution_count": null,
   "id": "b043d43f-0d7b-49ee-aeee-5fbce2017706",
   "metadata": {},
   "outputs": [],
   "source": [
    "consommant.head()"
   ]
  },
  {
   "cell_type": "code",
   "execution_count": null,
   "id": "9ef0326c-a10a-46a2-a465-1059f51cbe2e",
   "metadata": {},
   "outputs": [],
   "source": [
    "consommant.info()"
   ]
  },
  {
   "cell_type": "code",
   "execution_count": null,
   "id": "4d7bf12c-62e6-4578-8908-6fb005283ac8",
   "metadata": {},
   "outputs": [],
   "source": [
    "profile_conso = ProfileReport(consommant, title=\"Consommant Profile Report\")"
   ]
  },
  {
   "cell_type": "raw",
   "id": "793663ee-8eed-42b4-8b60-f0c648d7c926",
   "metadata": {},
   "source": [
    "profile_conso.to_notebook_iframe()"
   ]
  },
  {
   "cell_type": "code",
   "execution_count": null,
   "id": "ab6ea17f-9199-4633-917c-98301588eaaf",
   "metadata": {},
   "outputs": [],
   "source": [
    "profile_conso.to_file(\"profile_conso.html\")"
   ]
  },
  {
   "cell_type": "markdown",
   "id": "63a58b10-c1ae-4760-bc61-8b638d22f6e4",
   "metadata": {},
   "source": [
    "### Patient"
   ]
  },
  {
   "cell_type": "code",
   "execution_count": null,
   "id": "f18806fa-d351-44ac-975e-f26dd2d11eb5",
   "metadata": {},
   "outputs": [],
   "source": [
    "patient.head()"
   ]
  },
  {
   "cell_type": "code",
   "execution_count": null,
   "id": "70bcf163-e65e-4d5e-9d1c-fa4e6a657c2f",
   "metadata": {},
   "outputs": [],
   "source": [
    "patient.info()"
   ]
  },
  {
   "cell_type": "code",
   "execution_count": null,
   "id": "16300d2f-7024-4d72-adcf-404cba63bb92",
   "metadata": {},
   "outputs": [],
   "source": [
    "profile_patient = ProfileReport(patient, title=\"Patient Profile Report\")"
   ]
  },
  {
   "cell_type": "raw",
   "id": "8e64bbd1-fd31-4a47-b7e6-8cf92dddca45",
   "metadata": {},
   "source": [
    "profile_patient.to_notebook_iframe()"
   ]
  },
  {
   "cell_type": "code",
   "execution_count": null,
   "id": "577bbf50-99e4-4f14-9247-942ba458533e",
   "metadata": {},
   "outputs": [],
   "source": [
    "profile_patient.to_file(\"profile_patient.html\")"
   ]
  },
  {
   "cell_type": "markdown",
   "id": "fe08f12f-fa66-4e4f-a304-396a57b1f11c",
   "metadata": {},
   "source": [
    "####"
   ]
  },
  {
   "cell_type": "markdown",
   "id": "e3c2bd7a-4ae2-4e5b-bf0f-f68a6cd9e55e",
   "metadata": {},
   "source": [
    "#### Nombres de patients et d'hospitalisations après processing"
   ]
  },
  {
   "cell_type": "code",
   "execution_count": null,
   "id": "2086c0ef-d3ba-42e2-8172-818fa7e3352b",
   "metadata": {},
   "outputs": [],
   "source": [
    "#Nombre de patients\n",
    "patient_init = pd.read_csv(\"base_patient.csv\", sep=';')\n",
    "print(f\"Il y avait {len(patient_init)} patients initialement. Suite à l'ensemble des critères de rejet, il en reste {len(patient)}.\")\n",
    "print(f\"On en a enlevé {len(patient_init) - len(patient)}.\")"
   ]
  },
  {
   "cell_type": "code",
   "execution_count": null,
   "id": "ca14a38d-b334-44b2-a925-e29f9f48c50f",
   "metadata": {},
   "outputs": [],
   "source": [
    "hospit_init = pd.read_csv(\"base_hospit.csv\", sep=';')\n",
    "print(f\"Il y avait {len(hospit_init)} hospitalisations initialement. Suite à l'ensemble des critères de rejet, il en reste {len(hospit)}.\")\n",
    "print(f\"On en a enlevé {len(hospit_init) - len(hospit)}.\")"
   ]
  },
  {
   "cell_type": "code",
   "execution_count": null,
   "id": "624fed56-2a7f-44d9-b2cd-34fc38df8f37",
   "metadata": {},
   "outputs": [],
   "source": [
    "conso_init = pd.read_csv(\"consommant.csv\", sep=';')\n",
    "print(f\"Il y avait {len(conso_init)} consommations initialement. Suite à l'ensemble des critères de rejet, il en reste {len(consommant)}.\")\n",
    "print(f\"On en a enlevé {len(conso_init) - len(consommant)}.\")"
   ]
  },
  {
   "cell_type": "markdown",
   "id": "3ae1650d-b2f6-4b93-95b4-0aceaea4a6b6",
   "metadata": {
    "tags": []
   },
   "source": [
    "#### Nombre de patients dialysés"
   ]
  },
  {
   "cell_type": "markdown",
   "id": "11b8f5d5-d9e9-4ad7-95c7-b5842f80677a",
   "metadata": {},
   "source": [
    "###### Chimiothérapie"
   ]
  },
  {
   "cell_type": "code",
   "execution_count": null,
   "id": "5706d4fb-016e-45dc-b7d8-40c3ce1a439f",
   "metadata": {},
   "outputs": [],
   "source": [
    "hospit_chimio = hospit.loc[hospit.CHIMIO == 1]\n",
    "nb_patients_chimio = hospit_chimio.BEN_NIR_IDT.nunique()\n",
    "print(f\"Il y a {len(hospit_chimio)} hospitalisations pour des raisons de chimiothérapie.\")\n",
    "print(f\"Cela concerne {nb_patients_chimio} patients.\")"
   ]
  },
  {
   "cell_type": "markdown",
   "id": "27de5d72-ce52-4756-a694-713a4e09aec0",
   "metadata": {},
   "source": [
    "###### Hémodialyse"
   ]
  },
  {
   "cell_type": "code",
   "execution_count": null,
   "id": "8bbf307d-19ca-4b14-a1ba-bed48184e1eb",
   "metadata": {},
   "outputs": [],
   "source": [
    "hospit_hemod = hospit.loc[hospit.HEMOD == 1]\n",
    "nb_patients_hemod = hospit_hemod.BEN_NIR_IDT.nunique()\n",
    "print(f\"Il y a {len(hospit_hemod)} hospitalisations pour des raisons d'hémodialyse.\")\n",
    "print(f\"Cela concerne {nb_patients_hemod} patients.\")"
   ]
  },
  {
   "cell_type": "markdown",
   "id": "2257a5a4-2a88-4116-b2e2-2a2d19f3233b",
   "metadata": {},
   "source": [
    "###### Radiothérapie"
   ]
  },
  {
   "cell_type": "code",
   "execution_count": null,
   "id": "42e1dcd8-5359-4bc3-b007-00abeb3e34d3",
   "metadata": {},
   "outputs": [],
   "source": [
    "hospit_radiotherapie = hospit.loc[hospit.Radiotherapie == 1]\n",
    "nb_patients_radiotherapie = hospit_radiotherapie.BEN_NIR_IDT.nunique()\n",
    "print(f\"Il y a {len(hospit_radiotherapie)} hospitalisations pour des raisons de radiothérapie.\")\n",
    "print(f\"Cela concerne {nb_patients_radiotherapie} patients.\")"
   ]
  },
  {
   "cell_type": "markdown",
   "id": "a89cadf6-52fb-4a84-8bfc-c84a0952013e",
   "metadata": {},
   "source": [
    "###### Transfusions"
   ]
  },
  {
   "cell_type": "code",
   "execution_count": null,
   "id": "27e23cca-175b-4079-bcdd-00f13608dfeb",
   "metadata": {},
   "outputs": [],
   "source": [
    "hospit_transfusion = hospit.loc[hospit.Transfusion == 1]\n",
    "nb_patients_transfusion = hospit_transfusion.BEN_NIR_IDT.nunique()\n",
    "print(f\"Il y a {len(hospit_transfusion)} hospitalisations pour des raisons de transfusion.\")\n",
    "print(f\"Cela concerne {nb_patients_transfusion} patients.\")"
   ]
  },
  {
   "cell_type": "markdown",
   "id": "ba2f64d2-bcf2-4c7a-9466-a347efd14471",
   "metadata": {},
   "source": [
    "###### Hospitalisations autres"
   ]
  },
  {
   "cell_type": "code",
   "execution_count": null,
   "id": "17d4d29c-9a21-448e-bc08-e65cb6dc3156",
   "metadata": {},
   "outputs": [],
   "source": [
    "hospit_non_chronique = hospit.loc[(hospit.HEMOD == 0) & (hospit.CHIMIO==0) & (hospit.Radiotherapie==0) & (hospit.Transfusion==0)]\n",
    "nb_patients_non_chronique = hospit_non_chronique.BEN_NIR_IDT.nunique()\n",
    "print(f\"Il y a {len(hospit_non_chronique)} hospitalisations non chroniques.\")\n",
    "print(f\"Cela concerne {nb_patients_non_chronique} patients.\")\n",
    "print(\"Tous les patients de la base ont au moins une hospitalisation qui n'est pas chronique.\")\n",
    "print(f\"On a enlevé, en tout, {len(hospit_init) - len(hospit_non_chronique)} hospitalisations.\")"
   ]
  },
  {
   "cell_type": "markdown",
   "id": "0f570272-c210-4863-a88b-8e33339fbf2f",
   "metadata": {},
   "source": [
    "#### Profiling sur les hospitalisations après processing et pas chroniques"
   ]
  },
  {
   "cell_type": "code",
   "execution_count": null,
   "id": "822f1ba4-00fa-403a-ae58-c40c1c0600ad",
   "metadata": {},
   "outputs": [],
   "source": [
    "profile_hospit_non_chroniques = ProfileReport(hospit_non_chronique, title=\"Hospitalisations Non Chroniques\")\n",
    "profile_hospit_non_chroniques.to_file(\"profile_hospit_non_chr.html\")"
   ]
  },
  {
   "cell_type": "markdown",
   "id": "a08697f0-9d6a-4645-9a98-c95af53b7696",
   "metadata": {},
   "source": [
    "## Export des bases de données nettoyées"
   ]
  },
  {
   "cell_type": "code",
   "execution_count": null,
   "id": "dc80500a-920a-4146-a40d-373b07f9f694",
   "metadata": {},
   "outputs": [],
   "source": [
    "hospit.to_csv(\"base_full_hospit_anonyme.csv\", index=False)"
   ]
  },
  {
   "cell_type": "code",
   "execution_count": null,
   "id": "b85bb4d9-8d70-4776-a6a1-f87622e7acc0",
   "metadata": {},
   "outputs": [],
   "source": [
    "hospit_non_chronique.to_csv(\"base_hospit_non_chr_anonyme.csv\", index=False)"
   ]
  },
  {
   "cell_type": "code",
   "execution_count": null,
   "id": "df3a7d4d-26aa-473c-b074-13ea4c7bb058",
   "metadata": {},
   "outputs": [],
   "source": [
    "patient.to_csv(\"patient_anonyme.csv\", index=False)"
   ]
  },
  {
   "cell_type": "code",
   "execution_count": null,
   "id": "02fba10a-7c98-4c46-bb3b-db1b4949b878",
   "metadata": {},
   "outputs": [],
   "source": [
    "consommant.to_csv(\"consommant_anonyme.csv\", index=False)"
   ]
  }
 ],
 "metadata": {
  "kernelspec": {
   "display_name": "Python 3 (ipykernel)",
   "language": "python",
   "name": "python3"
  },
  "language_info": {
   "codemirror_mode": {
    "name": "ipython",
    "version": 3
   },
   "file_extension": ".py",
   "mimetype": "text/x-python",
   "name": "python",
   "nbconvert_exporter": "python",
   "pygments_lexer": "ipython3",
   "version": "3.10.4"
  }
 },
 "nbformat": 4,
 "nbformat_minor": 5
}
