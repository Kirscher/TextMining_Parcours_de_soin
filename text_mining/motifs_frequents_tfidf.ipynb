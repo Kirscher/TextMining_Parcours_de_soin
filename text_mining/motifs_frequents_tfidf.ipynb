{
 "cells": [
  {
   "cell_type": "markdown",
   "id": "8377e6fb-0662-4698-aee5-4c4d05b1a2a3",
   "metadata": {
    "tags": []
   },
   "source": [
    "# Identification des motifs d'hospitalisation fréquents"
   ]
  },
  {
   "cell_type": "markdown",
   "id": "e34d54d8-3f18-4df9-a542-67b4d125eff5",
   "metadata": {},
   "source": [
    "## tf-idf (Term Frequency - Inverse Document Frequency)"
   ]
  },
  {
   "cell_type": "code",
   "execution_count": 1,
   "id": "3350b6a0-67cb-4305-83b8-04df960815d2",
   "metadata": {},
   "outputs": [],
   "source": [
    "from sklearn.feature_extraction.text import TfidfVectorizer"
   ]
  },
  {
   "cell_type": "code",
   "execution_count": null,
   "id": "8e19444e-11ed-48f3-9756-ad5fee55d00c",
   "metadata": {},
   "outputs": [],
   "source": []
  }
 ],
 "metadata": {
  "kernelspec": {
   "display_name": "Python 3 (ipykernel)",
   "language": "python",
   "name": "python3"
  },
  "language_info": {
   "codemirror_mode": {
    "name": "ipython",
    "version": 3
   },
   "file_extension": ".py",
   "mimetype": "text/x-python",
   "name": "python",
   "nbconvert_exporter": "python",
   "pygments_lexer": "ipython3",
   "version": "3.10.4"
  }
 },
 "nbformat": 4,
 "nbformat_minor": 5
}
