{
 "cells": [
  {
   "cell_type": "markdown",
   "id": "649d0bc1",
   "metadata": {},
   "source": [
    "# Test de l'algorithme PrefixSpan\n",
    "\n",
    "Implémentation tirée du tutoriel de l'API Python prefixspan :\n",
    "https://pypi.org/project/prefixspan/\n",
    "\n",
    "Utilisation de codes GHM pour l'exemple"
   ]
  },
  {
   "cell_type": "code",
   "execution_count": 1,
   "id": "45b13ce9",
   "metadata": {
    "scrolled": false
   },
   "outputs": [
    {
     "name": "stdout",
     "output_type": "stream",
     "text": [
      "Requirement already satisfied: prefixspan in c:\\users\\trist\\anaconda3\\lib\\site-packages (0.5.2)\n",
      "Note: you may need to restart the kernel to use updated packages.\n",
      "Requirement already satisfied: docopt>=0.6.2 in c:\\users\\trist\\anaconda3\\lib\\site-packages (from prefixspan) (0.6.2)\n",
      "Requirement already satisfied: extratools>=0.8.1 in c:\\users\\trist\\anaconda3\\lib\\site-packages (from prefixspan) (0.8.2.1)\n",
      "Requirement already satisfied: toolz>=0.9.0 in c:\\users\\trist\\anaconda3\\lib\\site-packages (from extratools>=0.8.1->prefixspan) (0.11.1)\n",
      "Requirement already satisfied: sortedcontainers>=1.5.10 in c:\\users\\trist\\anaconda3\\lib\\site-packages (from extratools>=0.8.1->prefixspan) (2.3.0)\n"
     ]
    }
   ],
   "source": [
    "pip install prefixspan"
   ]
  },
  {
   "cell_type": "code",
   "execution_count": 2,
   "id": "6bea825a",
   "metadata": {},
   "outputs": [],
   "source": [
    "from prefixspan import PrefixSpan\n",
    "import random as rd"
   ]
  },
  {
   "cell_type": "code",
   "execution_count": 3,
   "id": "e81365d6",
   "metadata": {},
   "outputs": [],
   "source": [
    "#exemples de codes GHM\n",
    "\n",
    "GHM= [\"28z04z\", \"28z07z\", \"05m092\",\n",
    "      #\"02c05j\", \"28z14z\", \"05m093\",\n",
    "      #\"28z17z\", \"28z18z\", \"05k101\",\n",
    "      #\"05k051\", \"05m042\", \"08c322\"\n",
    "     ]"
   ]
  },
  {
   "cell_type": "code",
   "execution_count": 4,
   "id": "fb3f116a",
   "metadata": {},
   "outputs": [
    {
     "data": {
      "text/plain": [
       "[['28z07z', '05m092', '05m092'],\n",
       " ['28z07z', '05m092', '28z07z'],\n",
       " ['28z07z', '28z04z', '28z07z', '28z04z', '05m092', '05m092'],\n",
       " ['28z04z', '05m092', '05m092', '28z07z', '28z07z', '28z07z'],\n",
       " ['28z07z', '05m092', '28z07z', '28z04z', '28z04z'],\n",
       " ['28z04z', '05m092', '28z04z', '05m092', '28z07z', '28z04z'],\n",
       " ['28z04z', '28z04z', '28z04z', '28z04z', '05m092'],\n",
       " ['28z04z', '28z04z', '28z04z', '05m092', '28z04z'],\n",
       " ['28z04z', '28z04z', '28z04z', '28z07z'],\n",
       " ['28z07z', '05m092', '05m092', '28z07z', '28z07z']]"
      ]
     },
     "execution_count": 4,
     "metadata": {},
     "output_type": "execute_result"
    }
   ],
   "source": [
    "#creation d'une base de données fictives\n",
    "db=[]\n",
    "nb_patients=10\n",
    "\n",
    "for i in range(nb_patients):\n",
    "    db.append(rd.choices(GHM, k=rd.randint(3,6)))\n",
    "db"
   ]
  },
  {
   "cell_type": "code",
   "execution_count": 5,
   "id": "0821716d",
   "metadata": {},
   "outputs": [],
   "source": [
    "ps = PrefixSpan(db)"
   ]
  },
  {
   "cell_type": "code",
   "execution_count": 7,
   "id": "4a5f0e6b",
   "metadata": {
    "scrolled": true
   },
   "outputs": [
    {
     "data": {
      "text/plain": [
       "[(8, ['28z07z']),\n",
       " (5, ['28z07z', '05m092']),\n",
       " (3, ['28z07z', '05m092', '05m092']),\n",
       " (3, ['28z07z', '05m092', '28z07z']),\n",
       " (5, ['28z07z', '28z07z']),\n",
       " (3, ['28z07z', '28z04z']),\n",
       " (9, ['05m092']),\n",
       " (5, ['05m092', '05m092']),\n",
       " (3, ['05m092', '05m092', '28z07z']),\n",
       " (5, ['05m092', '28z07z']),\n",
       " (3, ['05m092', '28z04z']),\n",
       " (7, ['28z04z']),\n",
       " (4, ['28z04z', '28z07z']),\n",
       " (6, ['28z04z', '28z04z']),\n",
       " (4, ['28z04z', '28z04z', '05m092']),\n",
       " (4, ['28z04z', '28z04z', '28z04z']),\n",
       " (5, ['28z04z', '05m092']),\n",
       " (3, ['28z04z', '05m092', '05m092'])]"
      ]
     },
     "execution_count": 7,
     "metadata": {},
     "output_type": "execute_result"
    }
   ],
   "source": [
    "ps.frequent(3)"
   ]
  },
  {
   "cell_type": "code",
   "execution_count": 8,
   "id": "d738180d",
   "metadata": {},
   "outputs": [
    {
     "data": {
      "text/plain": [
       "[(9, ['05m092']),\n",
       " (8, ['28z07z']),\n",
       " (7, ['28z04z']),\n",
       " (6, ['28z04z', '28z04z']),\n",
       " (5, ['28z07z', '05m092'])]"
      ]
     },
     "execution_count": 8,
     "metadata": {},
     "output_type": "execute_result"
    }
   ],
   "source": [
    "ps.topk(5)"
   ]
  },
  {
   "cell_type": "markdown",
   "id": "644929a1",
   "metadata": {},
   "source": [
    "## Closed patterns"
   ]
  },
  {
   "cell_type": "markdown",
   "id": "bad4bb91",
   "metadata": {},
   "source": [
    "A pattern is *closed* if there is no super-pattern with the same frequency."
   ]
  },
  {
   "cell_type": "code",
   "execution_count": 9,
   "id": "435c6cac",
   "metadata": {},
   "outputs": [
    {
     "data": {
      "text/plain": [
       "[(9, ['05m092']),\n",
       " (8, ['28z07z']),\n",
       " (7, ['28z04z']),\n",
       " (6, ['28z04z', '28z04z']),\n",
       " (5, ['28z07z', '05m092'])]"
      ]
     },
     "execution_count": 9,
     "metadata": {},
     "output_type": "execute_result"
    }
   ],
   "source": [
    "ps.topk(5, closed=True)"
   ]
  },
  {
   "cell_type": "markdown",
   "id": "075c9d2f",
   "metadata": {},
   "source": [
    "## Generator patterns"
   ]
  },
  {
   "cell_type": "markdown",
   "id": "3dcf68a1",
   "metadata": {},
   "source": [
    "A pattern is *generator* if there is no sub-pattern with the same frequency.\n",
    "\n",
    "+ The generator patterns are even more compact due to both the smaller number and the shorter lengths.\n",
    "+ Due to the high compactness, generator patterns are useful as features for classification, etc."
   ]
  },
  {
   "cell_type": "code",
   "execution_count": 10,
   "id": "83a66b32",
   "metadata": {},
   "outputs": [
    {
     "data": {
      "text/plain": [
       "[(8, ['28z07z']),\n",
       " (5, ['28z07z', '05m092']),\n",
       " (3, ['28z07z', '05m092', '05m092']),\n",
       " (3, ['28z07z', '05m092', '28z07z']),\n",
       " (5, ['28z07z', '28z07z']),\n",
       " (3, ['28z07z', '28z04z']),\n",
       " (9, ['05m092']),\n",
       " (5, ['05m092', '05m092']),\n",
       " (3, ['05m092', '05m092', '28z07z']),\n",
       " (5, ['05m092', '28z07z']),\n",
       " (3, ['05m092', '28z04z']),\n",
       " (7, ['28z04z']),\n",
       " (4, ['28z04z', '28z07z']),\n",
       " (6, ['28z04z', '28z04z']),\n",
       " (4, ['28z04z', '28z04z', '05m092']),\n",
       " (5, ['28z04z', '05m092']),\n",
       " (3, ['28z04z', '05m092', '05m092'])]"
      ]
     },
     "execution_count": 10,
     "metadata": {},
     "output_type": "execute_result"
    }
   ],
   "source": [
    "ps.frequent(3, generator=True)"
   ]
  }
 ],
 "metadata": {
  "kernelspec": {
   "display_name": "Python 3",
   "language": "python",
   "name": "python3"
  },
  "language_info": {
   "codemirror_mode": {
    "name": "ipython",
    "version": 3
   },
   "file_extension": ".py",
   "mimetype": "text/x-python",
   "name": "python",
   "nbconvert_exporter": "python",
   "pygments_lexer": "ipython3",
   "version": "3.8.8"
  }
 },
 "nbformat": 4,
 "nbformat_minor": 5
}
