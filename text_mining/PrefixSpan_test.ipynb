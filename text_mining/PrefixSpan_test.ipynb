{
 "cells": [
  {
   "cell_type": "markdown",
   "id": "916b4003",
   "metadata": {},
   "source": [
    "# Test de l'algorithme PrefixSpan\n",
    "\n",
    "Exemples tirés du tutoriel de l'API Python prefixspan :\n",
    "https://pypi.org/project/prefixspan/"
   ]
  },
  {
   "cell_type": "code",
   "execution_count": 1,
   "id": "3570850e",
   "metadata": {
    "scrolled": true
   },
   "outputs": [
    {
     "name": "stdout",
     "output_type": "stream",
     "text": [
      "Collecting prefixspan\n",
      "  Downloading prefixspan-0.5.2.tar.gz (10 kB)\n",
      "  Preparing metadata (setup.py): started\n",
      "  Preparing metadata (setup.py): finished with status 'done'\n",
      "Collecting docopt>=0.6.2\n",
      "  Downloading docopt-0.6.2.tar.gz (25 kB)\n",
      "  Preparing metadata (setup.py): started\n",
      "  Preparing metadata (setup.py): finished with status 'done'\n",
      "Collecting extratools>=0.8.1\n",
      "  Downloading extratools-0.8.2.1.tar.gz (25 kB)\n",
      "  Preparing metadata (setup.py): started\n",
      "  Preparing metadata (setup.py): finished with status 'done'\n",
      "Requirement already satisfied: sortedcontainers>=1.5.10 in c:\\users\\trist\\anaconda3\\lib\\site-packages (from extratools>=0.8.1->prefixspan) (2.3.0)\n",
      "Requirement already satisfied: toolz>=0.9.0 in c:\\users\\trist\\anaconda3\\lib\\site-packages (from extratools>=0.8.1->prefixspan) (0.11.1)\n",
      "Building wheels for collected packages: prefixspan, docopt, extratools\n",
      "  Building wheel for prefixspan (setup.py): started\n",
      "  Building wheel for prefixspan (setup.py): finished with status 'done'\n",
      "  Created wheel for prefixspan: filename=prefixspan-0.5.2-py3-none-any.whl size=11219 sha256=78adcab02e2221ea650165c1d572267a4e774bafc92e4ddb05b8966f2f55449e\n",
      "  Stored in directory: c:\\users\\trist\\appdata\\local\\pip\\cache\\wheels\\85\\bb\\09\\05c3cad48d0336b16e608274276fb337c3f7b2ec1d79136c9e\n",
      "  Building wheel for docopt (setup.py): started\n",
      "  Building wheel for docopt (setup.py): finished with status 'done'\n",
      "  Created wheel for docopt: filename=docopt-0.6.2-py2.py3-none-any.whl size=13705 sha256=82096442d339e69f1c833f5305507c7fa62fedc117b8b7173417bff16e480777\n",
      "  Stored in directory: c:\\users\\trist\\appdata\\local\\pip\\cache\\wheels\\ca\\cc\\e3\\f1e272f628fdb013d969acc99cfe2e031ea15b3efb74ffe842\n",
      "  Building wheel for extratools (setup.py): started\n",
      "  Building wheel for extratools (setup.py): finished with status 'done'\n",
      "  Created wheel for extratools: filename=extratools-0.8.2.1-py3-none-any.whl size=28867 sha256=a2b037ed217939c536ed915d1b001e7d709e62578e5a4d908419dc4597119759\n",
      "  Stored in directory: c:\\users\\trist\\appdata\\local\\pip\\cache\\wheels\\2e\\86\\49\\a0b4d796909797500e25d4d0e25a381c2d569397311f993579\n",
      "Successfully built prefixspan docopt extratools\n",
      "Installing collected packages: docopt, extratools, prefixspan\n",
      "Successfully installed docopt-0.6.2 extratools-0.8.2.1 prefixspan-0.5.2\n",
      "Note: you may need to restart the kernel to use updated packages.\n"
     ]
    }
   ],
   "source": [
    "pip install prefixspan"
   ]
  },
  {
   "cell_type": "code",
   "execution_count": 3,
   "id": "3daffbe0",
   "metadata": {},
   "outputs": [],
   "source": [
    "from prefixspan import PrefixSpan"
   ]
  },
  {
   "cell_type": "code",
   "execution_count": 4,
   "id": "c7f80ef6",
   "metadata": {},
   "outputs": [],
   "source": [
    "db = [\n",
    "    [0, 1, 2, 3, 4],\n",
    "    [1, 1, 1, 3, 4],\n",
    "    [2, 1, 2, 2, 0],\n",
    "    [1, 1, 1, 2, 2],\n",
    "]\n",
    "\n",
    "ps = PrefixSpan(db)"
   ]
  },
  {
   "cell_type": "code",
   "execution_count": 10,
   "id": "4b293f2f",
   "metadata": {},
   "outputs": [
    {
     "data": {
      "text/plain": [
       "[(2, [0]),\n",
       " (4, [1]),\n",
       " (3, [1, 2]),\n",
       " (2, [1, 2, 2]),\n",
       " (2, [1, 3]),\n",
       " (2, [1, 3, 4]),\n",
       " (2, [1, 4]),\n",
       " (2, [1, 1]),\n",
       " (2, [1, 1, 1]),\n",
       " (3, [2]),\n",
       " (2, [2, 2]),\n",
       " (2, [3]),\n",
       " (2, [3, 4]),\n",
       " (2, [4])]"
      ]
     },
     "execution_count": 10,
     "metadata": {},
     "output_type": "execute_result"
    }
   ],
   "source": [
    "ps.frequent(2)"
   ]
  },
  {
   "cell_type": "code",
   "execution_count": 8,
   "id": "c1cdad15",
   "metadata": {},
   "outputs": [
    {
     "data": {
      "text/plain": [
       "[(4, [1]), (3, [1, 2]), (3, [2]), (2, [1, 3]), (2, [1, 3, 4])]"
      ]
     },
     "execution_count": 8,
     "metadata": {},
     "output_type": "execute_result"
    }
   ],
   "source": [
    "ps.topk(5)"
   ]
  },
  {
   "cell_type": "markdown",
   "id": "bdf877c4",
   "metadata": {},
   "source": [
    "## Closed patterns"
   ]
  },
  {
   "cell_type": "markdown",
   "id": "908d6823",
   "metadata": {},
   "source": [
    "A pattern is *closed* if there is no super-pattern with the same frequency."
   ]
  },
  {
   "cell_type": "code",
   "execution_count": 11,
   "id": "ec74eaf0",
   "metadata": {},
   "outputs": [
    {
     "data": {
      "text/plain": [
       "[(4, [1]), (3, [1, 2]), (2, [1, 1, 1]), (2, [1, 2, 2]), (2, [1, 3, 4])]"
      ]
     },
     "execution_count": 11,
     "metadata": {},
     "output_type": "execute_result"
    }
   ],
   "source": [
    "ps.topk(5, closed=True)"
   ]
  },
  {
   "cell_type": "markdown",
   "id": "c1276575",
   "metadata": {},
   "source": [
    "## Generator patterns"
   ]
  },
  {
   "cell_type": "markdown",
   "id": "5cd6eca6",
   "metadata": {},
   "source": [
    "A pattern is *generator* if there is no sub-pattern with the same frequency.\n",
    "\n",
    "+ The generator patterns are even more compact due to both the smaller number and the shorter lengths.\n",
    "+ Due to the high compactness, generator patterns are useful as features for classification, etc."
   ]
  },
  {
   "cell_type": "code",
   "execution_count": 12,
   "id": "44010fbf",
   "metadata": {},
   "outputs": [
    {
     "data": {
      "text/plain": [
       "[(2, [0]), (2, [1, 1]), (3, [2]), (2, [2, 2]), (2, [3]), (2, [4])]"
      ]
     },
     "execution_count": 12,
     "metadata": {},
     "output_type": "execute_result"
    }
   ],
   "source": [
    "ps.frequent(2, generator=True)"
   ]
  }
 ],
 "metadata": {
  "kernelspec": {
   "display_name": "Python 3",
   "language": "python",
   "name": "python3"
  },
  "language_info": {
   "codemirror_mode": {
    "name": "ipython",
    "version": 3
   },
   "file_extension": ".py",
   "mimetype": "text/x-python",
   "name": "python",
   "nbconvert_exporter": "python",
   "pygments_lexer": "ipython3",
   "version": "3.8.8"
  }
 },
 "nbformat": 4,
 "nbformat_minor": 5
}
