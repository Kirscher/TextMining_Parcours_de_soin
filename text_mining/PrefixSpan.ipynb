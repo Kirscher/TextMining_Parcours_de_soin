{
 "cells": [
  {
   "cell_type": "markdown",
   "id": "649d0bc1",
   "metadata": {},
   "source": [
    "# PrefixSpan"
   ]
  },
  {
   "cell_type": "markdown",
   "id": "3028f9a6-dc34-4271-b033-21c6999ad68d",
   "metadata": {},
   "source": [
    "Les algorithmes de **sequential-pattern-mining** sont utilisés pour extraire des motifs fréquents dans des séquences de données. Il existe deux approches principales pour effectuer cette tâche: l'approche basée sur la génération de candidats (ou candidates generation) et l'approche basée sur la croissance de motifs (ou pattern growth).\n",
    "\n",
    "+ Les algorithmes de **candidates generation**, tels que *AprioriAll* et *GSP* (Generalized Sequential Pattern), génèrent des candidats de motifs en combinant des ensembles de motifs de taille inférieure. Ils passent ensuite à travers la base de données pour compter le nombre d'occurrences de chaque candidat généré et éliminer les candidats non fréquents. Ces étapes de génération de candidats et de filtrage sont répétées jusqu'à ce que tous les motifs fréquents soient extraits.\n",
    "\n",
    "+ En revanche, les algorithmes de **pattern growth**, tels que *PrefixSpan*, utilisent une approche différente. Ils construisent des motifs fréquents de manière récursive à partir d'un ensemble initial de préfixes. Ils développent ensuite chaque préfixe en ajoutant des éléments de la séquence qui sont fréquents. Cette approche évite la génération de tous les candidats et la comparaison avec la base de données, ce qui la rend souvent plus efficace que l'approche de candidates generation."
   ]
  },
  {
   "cell_type": "code",
   "execution_count": 1,
   "id": "45b13ce9",
   "metadata": {},
   "outputs": [
    {
     "name": "stdout",
     "output_type": "stream",
     "text": [
      "Collecting prefixspan\n",
      "  Using cached prefixspan-0.5.2.tar.gz (10 kB)\n",
      "  Preparing metadata (setup.py): started\n",
      "  Preparing metadata (setup.py): finished with status 'done'\n",
      "Collecting docopt>=0.6.2\n",
      "  Using cached docopt-0.6.2.tar.gz (25 kB)\n",
      "  Preparing metadata (setup.py): started\n",
      "  Preparing metadata (setup.py): finished with status 'done'\n",
      "Collecting extratools>=0.8.1\n",
      "  Using cached extratools-0.8.2.1.tar.gz (25 kB)\n",
      "  Preparing metadata (setup.py): started\n",
      "  Preparing metadata (setup.py): finished with status 'done'\n",
      "Requirement already satisfied: sortedcontainers>=1.5.10 in c:\\users\\trist\\anaconda3\\lib\\site-packages (from extratools>=0.8.1->prefixspan) (2.4.0)\n",
      "Requirement already satisfied: toolz>=0.9.0 in c:\\users\\trist\\anaconda3\\lib\\site-packages (from extratools>=0.8.1->prefixspan) (0.11.2)\n",
      "Building wheels for collected packages: prefixspan, docopt, extratools\n",
      "  Building wheel for prefixspan (setup.py): started\n",
      "  Building wheel for prefixspan (setup.py): finished with status 'done'\n",
      "  Created wheel for prefixspan: filename=prefixspan-0.5.2-py3-none-any.whl size=11239 sha256=3bfab22eebf9ef5769f427d10e2ef8452692af1945d0cb53caf57bb45cfb7604\n",
      "  Stored in directory: c:\\users\\trist\\appdata\\local\\pip\\cache\\wheels\\1b\\96\\e2\\4eafa983829d97cbdd88d66b06221e28a35ff5b8c618c9910d\n",
      "  Building wheel for docopt (setup.py): started\n",
      "  Building wheel for docopt (setup.py): finished with status 'done'\n",
      "  Created wheel for docopt: filename=docopt-0.6.2-py2.py3-none-any.whl size=13706 sha256=8b010f40f102dcf0c1af40f6266855fd2b47222e42d11f24e3cb6d6bf0cec42a\n",
      "  Stored in directory: c:\\users\\trist\\appdata\\local\\pip\\cache\\wheels\\70\\4a\\46\\1309fc853b8d395e60bafaf1b6df7845bdd82c95fd59dd8d2b\n",
      "  Building wheel for extratools (setup.py): started\n",
      "  Building wheel for extratools (setup.py): finished with status 'done'\n",
      "  Created wheel for extratools: filename=extratools-0.8.2.1-py3-none-any.whl size=28897 sha256=80a349bcb5168b52d38b5c5801e3c9514990d8ccf5b53f1df485613a68f5df4a\n",
      "  Stored in directory: c:\\users\\trist\\appdata\\local\\pip\\cache\\wheels\\70\\da\\ea\\30cdb9e0582afe1366c233eb955481c3676edc00249844295c\n",
      "Successfully built prefixspan docopt extratools\n",
      "Installing collected packages: docopt, extratools, prefixspan\n",
      "Successfully installed docopt-0.6.2 extratools-0.8.2.1 prefixspan-0.5.2\n",
      "Note: you may need to restart the kernel to use updated packages.\n"
     ]
    }
   ],
   "source": [
    "pip install prefixspan"
   ]
  },
  {
   "cell_type": "code",
   "execution_count": 2,
   "id": "6bea825a",
   "metadata": {},
   "outputs": [],
   "source": [
    "from prefixspan import PrefixSpan\n",
    "import pandas as pd\n",
    "import numpy as np\n",
    "from tqdm import tqdm\n",
    "import pickle"
   ]
  },
  {
   "cell_type": "code",
   "execution_count": 3,
   "id": "e81365d6",
   "metadata": {
    "jupyter": {
     "outputs_hidden": true
    },
    "scrolled": true,
    "tags": []
   },
   "outputs": [],
   "source": [
    "%%capture capt\n",
    "p_soins=pd.read_csv(\"../data/parcours_soins.csv\")\n",
    "patients=pd.read_csv(\"../data/profil_patient.csv\")"
   ]
  },
  {
   "cell_type": "markdown",
   "id": "fa2332e4",
   "metadata": {},
   "source": [
    "## Motifs fréquents selon les clusters de patients"
   ]
  },
  {
   "cell_type": "code",
   "execution_count": 4,
   "id": "d43c8b4e-9460-4c32-9af6-18aaa95f9211",
   "metadata": {},
   "outputs": [
    {
     "name": "stderr",
     "output_type": "stream",
     "text": [
      "C:\\Users\\trist\\AppData\\Local\\Temp\\ipykernel_3748\\3737135568.py:4: PerformanceWarning: DataFrame is highly fragmented.  This is usually the result of calling `frame.insert` many times, which has poor performance.  Consider joining all columns at once using pd.concat(axis=1) instead. To get a de-fragmented frame, use `newframe = frame.copy()`\n",
      "  p_soins[\"cluster\"]=patients[\"cluster\"]\n"
     ]
    }
   ],
   "source": [
    "p_soins=p_soins.rename(columns={\"BEN_NIR_IDT\": \"CODE_PATIENT\"})\n",
    "p_soins=p_soins.set_index(\"CODE_PATIENT\")\n",
    "patients=patients.set_index(\"CODE_PATIENT\")\n",
    "p_soins[\"cluster\"]=patients[\"cluster\"]"
   ]
  },
  {
   "cell_type": "code",
   "execution_count": 5,
   "id": "a5a324ae-40d1-48db-a825-d001f671874f",
   "metadata": {
    "tags": []
   },
   "outputs": [],
   "source": [
    "with open('../data/parcours_soins.pickle', 'rb') as handle:\n",
    "    p_soin=pickle.load(handle)\n",
    "    \n",
    "with open('../data/parcours_soins_dp.pickle', 'rb') as handle:\n",
    "    p_soin_dp=pickle.load(handle)"
   ]
  },
  {
   "cell_type": "code",
   "execution_count": 6,
   "id": "18683802-46b2-4b16-af25-9d16eafac599",
   "metadata": {
    "tags": []
   },
   "outputs": [],
   "source": [
    "def motifs_frequents(data, dico, topk):\n",
    "    top_freq=[]\n",
    "    top_effectif=[]\n",
    "    top_motif=[]\n",
    "    results=pd.DataFrame()\n",
    "\n",
    "    for length in range(1,4):\n",
    "        for cluster_p in range(18):\n",
    "            ps = PrefixSpan(dico[f\"Cluster {cluster_p}\"])\n",
    "            ps.minlen = length\n",
    "            if ps.topk(k=topk) != [] :\n",
    "                effectif_cluster = (data.cluster==cluster_p).sum()\n",
    "                top_effectif.append(ps.topk(k=topk)[topk-1][0])\n",
    "                top_freq.append(round(ps.topk(k=topk)[topk-1][0]/effectif_cluster,3))\n",
    "                top_motif.append(ps.topk(k=topk)[topk-1][1])\n",
    "            else:\n",
    "                top_freq.append(0)\n",
    "                top_effectif.append(0)\n",
    "                top_motif.append([])\n",
    "\n",
    "        results[f\"len{length}_effectif\"]=top_effectif\n",
    "        results[f\"len{length}_freq\"]=top_freq\n",
    "        results[f\"len{length}_motif\"]=top_motif\n",
    "        top_freq=[]\n",
    "        top_motif=[]\n",
    "        top_effectif=[]\n",
    "\n",
    "    return results"
   ]
  },
  {
   "cell_type": "code",
   "execution_count": 7,
   "id": "89edacc4-9fb8-4c2a-8c9d-9ad98c55d9fe",
   "metadata": {},
   "outputs": [
    {
     "data": {
      "text/html": [
       "<div>\n",
       "<style scoped>\n",
       "    .dataframe tbody tr th:only-of-type {\n",
       "        vertical-align: middle;\n",
       "    }\n",
       "\n",
       "    .dataframe tbody tr th {\n",
       "        vertical-align: top;\n",
       "    }\n",
       "\n",
       "    .dataframe thead th {\n",
       "        text-align: right;\n",
       "    }\n",
       "</style>\n",
       "<table border=\"1\" class=\"dataframe\">\n",
       "  <thead>\n",
       "    <tr style=\"text-align: right;\">\n",
       "      <th></th>\n",
       "      <th>len1_effectif</th>\n",
       "      <th>len1_freq</th>\n",
       "      <th>len1_motif</th>\n",
       "      <th>len2_effectif</th>\n",
       "      <th>len2_freq</th>\n",
       "      <th>len2_motif</th>\n",
       "      <th>len3_effectif</th>\n",
       "      <th>len3_freq</th>\n",
       "      <th>len3_motif</th>\n",
       "    </tr>\n",
       "  </thead>\n",
       "  <tbody>\n",
       "    <tr>\n",
       "      <th>0</th>\n",
       "      <td>207</td>\n",
       "      <td>0.162</td>\n",
       "      <td>[02C05J]</td>\n",
       "      <td>28</td>\n",
       "      <td>0.022</td>\n",
       "      <td>[05M092, 05M092]</td>\n",
       "      <td>7</td>\n",
       "      <td>0.005</td>\n",
       "      <td>[05M091, 05M092, 05M092]</td>\n",
       "    </tr>\n",
       "    <tr>\n",
       "      <th>1</th>\n",
       "      <td>553</td>\n",
       "      <td>0.195</td>\n",
       "      <td>[05M093]</td>\n",
       "      <td>96</td>\n",
       "      <td>0.034</td>\n",
       "      <td>[05M092, 05M092]</td>\n",
       "      <td>18</td>\n",
       "      <td>0.006</td>\n",
       "      <td>[05M092, 05M092, 05M092]</td>\n",
       "    </tr>\n",
       "    <tr>\n",
       "      <th>2</th>\n",
       "      <td>38</td>\n",
       "      <td>0.158</td>\n",
       "      <td>[06K04J]</td>\n",
       "      <td>7</td>\n",
       "      <td>0.029</td>\n",
       "      <td>[06K04J, 06K04J]</td>\n",
       "      <td>4</td>\n",
       "      <td>0.017</td>\n",
       "      <td>[06K04J, 06K04J, 06K04J]</td>\n",
       "    </tr>\n",
       "    <tr>\n",
       "      <th>3</th>\n",
       "      <td>112</td>\n",
       "      <td>0.232</td>\n",
       "      <td>[05K101]</td>\n",
       "      <td>15</td>\n",
       "      <td>0.031</td>\n",
       "      <td>[05K101, 05K061]</td>\n",
       "      <td>3</td>\n",
       "      <td>0.006</td>\n",
       "      <td>[05K101, 05K061, 05K101]</td>\n",
       "    </tr>\n",
       "    <tr>\n",
       "      <th>4</th>\n",
       "      <td>180</td>\n",
       "      <td>0.377</td>\n",
       "      <td>[05M092]</td>\n",
       "      <td>83</td>\n",
       "      <td>0.174</td>\n",
       "      <td>[05M092, 05M092]</td>\n",
       "      <td>40</td>\n",
       "      <td>0.084</td>\n",
       "      <td>[05M092, 05M092, 05M092]</td>\n",
       "    </tr>\n",
       "    <tr>\n",
       "      <th>5</th>\n",
       "      <td>53</td>\n",
       "      <td>0.262</td>\n",
       "      <td>[05K101]</td>\n",
       "      <td>14</td>\n",
       "      <td>0.069</td>\n",
       "      <td>[05K101, 05K101]</td>\n",
       "      <td>10</td>\n",
       "      <td>0.050</td>\n",
       "      <td>[11M171, 11M171, 11M171]</td>\n",
       "    </tr>\n",
       "    <tr>\n",
       "      <th>6</th>\n",
       "      <td>136</td>\n",
       "      <td>0.350</td>\n",
       "      <td>[05M092]</td>\n",
       "      <td>49</td>\n",
       "      <td>0.126</td>\n",
       "      <td>[05M092, 05M092]</td>\n",
       "      <td>20</td>\n",
       "      <td>0.051</td>\n",
       "      <td>[05M092, 05M093, 05M093]</td>\n",
       "    </tr>\n",
       "    <tr>\n",
       "      <th>7</th>\n",
       "      <td>139</td>\n",
       "      <td>0.166</td>\n",
       "      <td>[02C05J]</td>\n",
       "      <td>13</td>\n",
       "      <td>0.016</td>\n",
       "      <td>[05K101, 02C05J]</td>\n",
       "      <td>4</td>\n",
       "      <td>0.005</td>\n",
       "      <td>[05M092, 05M092, 05M092]</td>\n",
       "    </tr>\n",
       "    <tr>\n",
       "      <th>8</th>\n",
       "      <td>109</td>\n",
       "      <td>0.304</td>\n",
       "      <td>[05M092]</td>\n",
       "      <td>41</td>\n",
       "      <td>0.115</td>\n",
       "      <td>[05M092, 05M092]</td>\n",
       "      <td>14</td>\n",
       "      <td>0.039</td>\n",
       "      <td>[05M092, 05M092, 05M092]</td>\n",
       "    </tr>\n",
       "    <tr>\n",
       "      <th>9</th>\n",
       "      <td>185</td>\n",
       "      <td>0.304</td>\n",
       "      <td>[05K101]</td>\n",
       "      <td>60</td>\n",
       "      <td>0.099</td>\n",
       "      <td>[05M092, 05M092]</td>\n",
       "      <td>28</td>\n",
       "      <td>0.046</td>\n",
       "      <td>[05M092, 05M092, 05M092]</td>\n",
       "    </tr>\n",
       "    <tr>\n",
       "      <th>10</th>\n",
       "      <td>0</td>\n",
       "      <td>0.000</td>\n",
       "      <td>[]</td>\n",
       "      <td>0</td>\n",
       "      <td>0.000</td>\n",
       "      <td>[]</td>\n",
       "      <td>0</td>\n",
       "      <td>0.000</td>\n",
       "      <td>[]</td>\n",
       "    </tr>\n",
       "    <tr>\n",
       "      <th>11</th>\n",
       "      <td>0</td>\n",
       "      <td>0.000</td>\n",
       "      <td>[]</td>\n",
       "      <td>0</td>\n",
       "      <td>0.000</td>\n",
       "      <td>[]</td>\n",
       "      <td>0</td>\n",
       "      <td>0.000</td>\n",
       "      <td>[]</td>\n",
       "    </tr>\n",
       "    <tr>\n",
       "      <th>12</th>\n",
       "      <td>354</td>\n",
       "      <td>0.205</td>\n",
       "      <td>[05M092]</td>\n",
       "      <td>56</td>\n",
       "      <td>0.032</td>\n",
       "      <td>[05M092, 05M092]</td>\n",
       "      <td>12</td>\n",
       "      <td>0.007</td>\n",
       "      <td>[05M092, 05M092, 05M093]</td>\n",
       "    </tr>\n",
       "    <tr>\n",
       "      <th>13</th>\n",
       "      <td>0</td>\n",
       "      <td>0.000</td>\n",
       "      <td>[]</td>\n",
       "      <td>0</td>\n",
       "      <td>0.000</td>\n",
       "      <td>[]</td>\n",
       "      <td>0</td>\n",
       "      <td>0.000</td>\n",
       "      <td>[]</td>\n",
       "    </tr>\n",
       "    <tr>\n",
       "      <th>14</th>\n",
       "      <td>0</td>\n",
       "      <td>0.000</td>\n",
       "      <td>[]</td>\n",
       "      <td>0</td>\n",
       "      <td>0.000</td>\n",
       "      <td>[]</td>\n",
       "      <td>0</td>\n",
       "      <td>0.000</td>\n",
       "      <td>[]</td>\n",
       "    </tr>\n",
       "    <tr>\n",
       "      <th>15</th>\n",
       "      <td>32</td>\n",
       "      <td>0.248</td>\n",
       "      <td>[23M20Z]</td>\n",
       "      <td>10</td>\n",
       "      <td>0.078</td>\n",
       "      <td>[23M20Z, 23M20Z]</td>\n",
       "      <td>6</td>\n",
       "      <td>0.047</td>\n",
       "      <td>[23M20T, 23M20T, 23M20T]</td>\n",
       "    </tr>\n",
       "    <tr>\n",
       "      <th>16</th>\n",
       "      <td>0</td>\n",
       "      <td>0.000</td>\n",
       "      <td>[]</td>\n",
       "      <td>0</td>\n",
       "      <td>0.000</td>\n",
       "      <td>[]</td>\n",
       "      <td>0</td>\n",
       "      <td>0.000</td>\n",
       "      <td>[]</td>\n",
       "    </tr>\n",
       "    <tr>\n",
       "      <th>17</th>\n",
       "      <td>0</td>\n",
       "      <td>0.000</td>\n",
       "      <td>[]</td>\n",
       "      <td>0</td>\n",
       "      <td>0.000</td>\n",
       "      <td>[]</td>\n",
       "      <td>0</td>\n",
       "      <td>0.000</td>\n",
       "      <td>[]</td>\n",
       "    </tr>\n",
       "  </tbody>\n",
       "</table>\n",
       "</div>"
      ],
      "text/plain": [
       "    len1_effectif  len1_freq len1_motif  len2_effectif  len2_freq  \\\n",
       "0             207      0.162   [02C05J]             28      0.022   \n",
       "1             553      0.195   [05M093]             96      0.034   \n",
       "2              38      0.158   [06K04J]              7      0.029   \n",
       "3             112      0.232   [05K101]             15      0.031   \n",
       "4             180      0.377   [05M092]             83      0.174   \n",
       "5              53      0.262   [05K101]             14      0.069   \n",
       "6             136      0.350   [05M092]             49      0.126   \n",
       "7             139      0.166   [02C05J]             13      0.016   \n",
       "8             109      0.304   [05M092]             41      0.115   \n",
       "9             185      0.304   [05K101]             60      0.099   \n",
       "10              0      0.000         []              0      0.000   \n",
       "11              0      0.000         []              0      0.000   \n",
       "12            354      0.205   [05M092]             56      0.032   \n",
       "13              0      0.000         []              0      0.000   \n",
       "14              0      0.000         []              0      0.000   \n",
       "15             32      0.248   [23M20Z]             10      0.078   \n",
       "16              0      0.000         []              0      0.000   \n",
       "17              0      0.000         []              0      0.000   \n",
       "\n",
       "          len2_motif  len3_effectif  len3_freq                len3_motif  \n",
       "0   [05M092, 05M092]              7      0.005  [05M091, 05M092, 05M092]  \n",
       "1   [05M092, 05M092]             18      0.006  [05M092, 05M092, 05M092]  \n",
       "2   [06K04J, 06K04J]              4      0.017  [06K04J, 06K04J, 06K04J]  \n",
       "3   [05K101, 05K061]              3      0.006  [05K101, 05K061, 05K101]  \n",
       "4   [05M092, 05M092]             40      0.084  [05M092, 05M092, 05M092]  \n",
       "5   [05K101, 05K101]             10      0.050  [11M171, 11M171, 11M171]  \n",
       "6   [05M092, 05M092]             20      0.051  [05M092, 05M093, 05M093]  \n",
       "7   [05K101, 02C05J]              4      0.005  [05M092, 05M092, 05M092]  \n",
       "8   [05M092, 05M092]             14      0.039  [05M092, 05M092, 05M092]  \n",
       "9   [05M092, 05M092]             28      0.046  [05M092, 05M092, 05M092]  \n",
       "10                []              0      0.000                        []  \n",
       "11                []              0      0.000                        []  \n",
       "12  [05M092, 05M092]             12      0.007  [05M092, 05M092, 05M093]  \n",
       "13                []              0      0.000                        []  \n",
       "14                []              0      0.000                        []  \n",
       "15  [23M20Z, 23M20Z]              6      0.047  [23M20T, 23M20T, 23M20T]  \n",
       "16                []              0      0.000                        []  \n",
       "17                []              0      0.000                        []  "
      ]
     },
     "execution_count": 7,
     "metadata": {},
     "output_type": "execute_result"
    }
   ],
   "source": [
    "motifs_frequents(p_soins, p_soin, 1)"
   ]
  },
  {
   "cell_type": "code",
   "execution_count": 8,
   "id": "29b79632-a06b-4fd7-9ea1-86506dc75ca6",
   "metadata": {
    "tags": []
   },
   "outputs": [
    {
     "data": {
      "text/html": [
       "<div>\n",
       "<style scoped>\n",
       "    .dataframe tbody tr th:only-of-type {\n",
       "        vertical-align: middle;\n",
       "    }\n",
       "\n",
       "    .dataframe tbody tr th {\n",
       "        vertical-align: top;\n",
       "    }\n",
       "\n",
       "    .dataframe thead th {\n",
       "        text-align: right;\n",
       "    }\n",
       "</style>\n",
       "<table border=\"1\" class=\"dataframe\">\n",
       "  <thead>\n",
       "    <tr style=\"text-align: right;\">\n",
       "      <th></th>\n",
       "      <th>len1_effectif</th>\n",
       "      <th>len1_freq</th>\n",
       "      <th>len1_motif</th>\n",
       "      <th>len2_effectif</th>\n",
       "      <th>len2_freq</th>\n",
       "      <th>len2_motif</th>\n",
       "      <th>len3_effectif</th>\n",
       "      <th>len3_freq</th>\n",
       "      <th>len3_motif</th>\n",
       "    </tr>\n",
       "  </thead>\n",
       "  <tbody>\n",
       "    <tr>\n",
       "      <th>0</th>\n",
       "      <td>229</td>\n",
       "      <td>0.179</td>\n",
       "      <td>[I500]</td>\n",
       "      <td>58</td>\n",
       "      <td>0.045</td>\n",
       "      <td>[I500, I500]</td>\n",
       "      <td>22</td>\n",
       "      <td>0.017</td>\n",
       "      <td>[I500, I500, I500]</td>\n",
       "    </tr>\n",
       "    <tr>\n",
       "      <th>1</th>\n",
       "      <td>703</td>\n",
       "      <td>0.248</td>\n",
       "      <td>[I500]</td>\n",
       "      <td>156</td>\n",
       "      <td>0.055</td>\n",
       "      <td>[I500, I500]</td>\n",
       "      <td>38</td>\n",
       "      <td>0.013</td>\n",
       "      <td>[I500, I500, I500]</td>\n",
       "    </tr>\n",
       "    <tr>\n",
       "      <th>2</th>\n",
       "      <td>28</td>\n",
       "      <td>0.116</td>\n",
       "      <td>[I500]</td>\n",
       "      <td>6</td>\n",
       "      <td>0.025</td>\n",
       "      <td>[Z098, Z098]</td>\n",
       "      <td>2</td>\n",
       "      <td>0.008</td>\n",
       "      <td>[Z098, Z098, Z098]</td>\n",
       "    </tr>\n",
       "    <tr>\n",
       "      <th>3</th>\n",
       "      <td>67</td>\n",
       "      <td>0.139</td>\n",
       "      <td>[I501]</td>\n",
       "      <td>16</td>\n",
       "      <td>0.033</td>\n",
       "      <td>[Z098, Z098]</td>\n",
       "      <td>4</td>\n",
       "      <td>0.008</td>\n",
       "      <td>[Z098, Z098, Z098]</td>\n",
       "    </tr>\n",
       "    <tr>\n",
       "      <th>4</th>\n",
       "      <td>205</td>\n",
       "      <td>0.429</td>\n",
       "      <td>[I500]</td>\n",
       "      <td>89</td>\n",
       "      <td>0.186</td>\n",
       "      <td>[I500, I500]</td>\n",
       "      <td>52</td>\n",
       "      <td>0.109</td>\n",
       "      <td>[I500, I500, I500]</td>\n",
       "    </tr>\n",
       "    <tr>\n",
       "      <th>5</th>\n",
       "      <td>48</td>\n",
       "      <td>0.238</td>\n",
       "      <td>[I501]</td>\n",
       "      <td>23</td>\n",
       "      <td>0.114</td>\n",
       "      <td>[I501, I501]</td>\n",
       "      <td>14</td>\n",
       "      <td>0.069</td>\n",
       "      <td>[Z940, Z940, Z940]</td>\n",
       "    </tr>\n",
       "    <tr>\n",
       "      <th>6</th>\n",
       "      <td>141</td>\n",
       "      <td>0.362</td>\n",
       "      <td>[I500]</td>\n",
       "      <td>72</td>\n",
       "      <td>0.185</td>\n",
       "      <td>[I500, I500]</td>\n",
       "      <td>38</td>\n",
       "      <td>0.098</td>\n",
       "      <td>[I500, I500, I500]</td>\n",
       "    </tr>\n",
       "    <tr>\n",
       "      <th>7</th>\n",
       "      <td>146</td>\n",
       "      <td>0.175</td>\n",
       "      <td>[I500]</td>\n",
       "      <td>22</td>\n",
       "      <td>0.026</td>\n",
       "      <td>[I500, I500]</td>\n",
       "      <td>7</td>\n",
       "      <td>0.008</td>\n",
       "      <td>[I500, I500, I500]</td>\n",
       "    </tr>\n",
       "    <tr>\n",
       "      <th>8</th>\n",
       "      <td>138</td>\n",
       "      <td>0.385</td>\n",
       "      <td>[I501]</td>\n",
       "      <td>53</td>\n",
       "      <td>0.148</td>\n",
       "      <td>[I501, I501]</td>\n",
       "      <td>27</td>\n",
       "      <td>0.075</td>\n",
       "      <td>[I501, I501, I501]</td>\n",
       "    </tr>\n",
       "    <tr>\n",
       "      <th>9</th>\n",
       "      <td>198</td>\n",
       "      <td>0.326</td>\n",
       "      <td>[I500]</td>\n",
       "      <td>87</td>\n",
       "      <td>0.143</td>\n",
       "      <td>[I500, I500]</td>\n",
       "      <td>47</td>\n",
       "      <td>0.077</td>\n",
       "      <td>[I500, I500, I500]</td>\n",
       "    </tr>\n",
       "    <tr>\n",
       "      <th>10</th>\n",
       "      <td>0</td>\n",
       "      <td>0.000</td>\n",
       "      <td>[]</td>\n",
       "      <td>0</td>\n",
       "      <td>0.000</td>\n",
       "      <td>[]</td>\n",
       "      <td>0</td>\n",
       "      <td>0.000</td>\n",
       "      <td>[]</td>\n",
       "    </tr>\n",
       "    <tr>\n",
       "      <th>11</th>\n",
       "      <td>0</td>\n",
       "      <td>0.000</td>\n",
       "      <td>[]</td>\n",
       "      <td>0</td>\n",
       "      <td>0.000</td>\n",
       "      <td>[]</td>\n",
       "      <td>0</td>\n",
       "      <td>0.000</td>\n",
       "      <td>[]</td>\n",
       "    </tr>\n",
       "    <tr>\n",
       "      <th>12</th>\n",
       "      <td>444</td>\n",
       "      <td>0.257</td>\n",
       "      <td>[I500]</td>\n",
       "      <td>107</td>\n",
       "      <td>0.062</td>\n",
       "      <td>[I500, I500]</td>\n",
       "      <td>30</td>\n",
       "      <td>0.017</td>\n",
       "      <td>[I500, I500, I500]</td>\n",
       "    </tr>\n",
       "    <tr>\n",
       "      <th>13</th>\n",
       "      <td>0</td>\n",
       "      <td>0.000</td>\n",
       "      <td>[]</td>\n",
       "      <td>0</td>\n",
       "      <td>0.000</td>\n",
       "      <td>[]</td>\n",
       "      <td>0</td>\n",
       "      <td>0.000</td>\n",
       "      <td>[]</td>\n",
       "    </tr>\n",
       "    <tr>\n",
       "      <th>14</th>\n",
       "      <td>0</td>\n",
       "      <td>0.000</td>\n",
       "      <td>[]</td>\n",
       "      <td>0</td>\n",
       "      <td>0.000</td>\n",
       "      <td>[]</td>\n",
       "      <td>0</td>\n",
       "      <td>0.000</td>\n",
       "      <td>[]</td>\n",
       "    </tr>\n",
       "    <tr>\n",
       "      <th>15</th>\n",
       "      <td>40</td>\n",
       "      <td>0.310</td>\n",
       "      <td>[Z098]</td>\n",
       "      <td>19</td>\n",
       "      <td>0.147</td>\n",
       "      <td>[Z098, Z098]</td>\n",
       "      <td>15</td>\n",
       "      <td>0.116</td>\n",
       "      <td>[Z098, Z098, Z098]</td>\n",
       "    </tr>\n",
       "    <tr>\n",
       "      <th>16</th>\n",
       "      <td>0</td>\n",
       "      <td>0.000</td>\n",
       "      <td>[]</td>\n",
       "      <td>0</td>\n",
       "      <td>0.000</td>\n",
       "      <td>[]</td>\n",
       "      <td>0</td>\n",
       "      <td>0.000</td>\n",
       "      <td>[]</td>\n",
       "    </tr>\n",
       "    <tr>\n",
       "      <th>17</th>\n",
       "      <td>0</td>\n",
       "      <td>0.000</td>\n",
       "      <td>[]</td>\n",
       "      <td>0</td>\n",
       "      <td>0.000</td>\n",
       "      <td>[]</td>\n",
       "      <td>0</td>\n",
       "      <td>0.000</td>\n",
       "      <td>[]</td>\n",
       "    </tr>\n",
       "  </tbody>\n",
       "</table>\n",
       "</div>"
      ],
      "text/plain": [
       "    len1_effectif  len1_freq len1_motif  len2_effectif  len2_freq  \\\n",
       "0             229      0.179     [I500]             58      0.045   \n",
       "1             703      0.248     [I500]            156      0.055   \n",
       "2              28      0.116     [I500]              6      0.025   \n",
       "3              67      0.139     [I501]             16      0.033   \n",
       "4             205      0.429     [I500]             89      0.186   \n",
       "5              48      0.238     [I501]             23      0.114   \n",
       "6             141      0.362     [I500]             72      0.185   \n",
       "7             146      0.175     [I500]             22      0.026   \n",
       "8             138      0.385     [I501]             53      0.148   \n",
       "9             198      0.326     [I500]             87      0.143   \n",
       "10              0      0.000         []              0      0.000   \n",
       "11              0      0.000         []              0      0.000   \n",
       "12            444      0.257     [I500]            107      0.062   \n",
       "13              0      0.000         []              0      0.000   \n",
       "14              0      0.000         []              0      0.000   \n",
       "15             40      0.310     [Z098]             19      0.147   \n",
       "16              0      0.000         []              0      0.000   \n",
       "17              0      0.000         []              0      0.000   \n",
       "\n",
       "      len2_motif  len3_effectif  len3_freq          len3_motif  \n",
       "0   [I500, I500]             22      0.017  [I500, I500, I500]  \n",
       "1   [I500, I500]             38      0.013  [I500, I500, I500]  \n",
       "2   [Z098, Z098]              2      0.008  [Z098, Z098, Z098]  \n",
       "3   [Z098, Z098]              4      0.008  [Z098, Z098, Z098]  \n",
       "4   [I500, I500]             52      0.109  [I500, I500, I500]  \n",
       "5   [I501, I501]             14      0.069  [Z940, Z940, Z940]  \n",
       "6   [I500, I500]             38      0.098  [I500, I500, I500]  \n",
       "7   [I500, I500]              7      0.008  [I500, I500, I500]  \n",
       "8   [I501, I501]             27      0.075  [I501, I501, I501]  \n",
       "9   [I500, I500]             47      0.077  [I500, I500, I500]  \n",
       "10            []              0      0.000                  []  \n",
       "11            []              0      0.000                  []  \n",
       "12  [I500, I500]             30      0.017  [I500, I500, I500]  \n",
       "13            []              0      0.000                  []  \n",
       "14            []              0      0.000                  []  \n",
       "15  [Z098, Z098]             15      0.116  [Z098, Z098, Z098]  \n",
       "16            []              0      0.000                  []  \n",
       "17            []              0      0.000                  []  "
      ]
     },
     "execution_count": 8,
     "metadata": {},
     "output_type": "execute_result"
    }
   ],
   "source": [
    "motifs_frequents(p_soins, p_soin_dp, 1)"
   ]
  },
  {
   "cell_type": "markdown",
   "id": "eacb4eba",
   "metadata": {},
   "source": [
    "## Sur tout le dataset"
   ]
  },
  {
   "cell_type": "code",
   "execution_count": 9,
   "id": "344e329f",
   "metadata": {},
   "outputs": [],
   "source": [
    "corpus = []\n",
    "for i in range(18):\n",
    "    corpus += p_soin[f\"Cluster {i}\"]"
   ]
  },
  {
   "cell_type": "code",
   "execution_count": 10,
   "id": "23dd2b81",
   "metadata": {},
   "outputs": [
    {
     "data": {
      "text/plain": [
       "[(1838, ['05M092']),\n",
       " (1631, ['05M093']),\n",
       " (1390, ['02C05J']),\n",
       " (985, ['05K101']),\n",
       " (855, ['04M053']),\n",
       " (803, ['05M091']),\n",
       " (790, ['05M09T']),\n",
       " (664, ['23M20Z']),\n",
       " (584, ['23M20T']),\n",
       " (555, ['06K04J']),\n",
       " (542, ['05K061']),\n",
       " (519, ['04M052']),\n",
       " (494, ['23Z02Z']),\n",
       " (482, ['05M094']),\n",
       " (438, ['05M092', '05M092']),\n",
       " (429, ['05K102']),\n",
       " (414, ['06K02Z']),\n",
       " (366, ['02C051']),\n",
       " (366, ['05K062']),\n",
       " (366, ['05M092', '05M093'])]"
      ]
     },
     "execution_count": 10,
     "metadata": {},
     "output_type": "execute_result"
    }
   ],
   "source": [
    "ps = PrefixSpan(corpus)\n",
    "ps.topk(k=20)"
   ]
  },
  {
   "cell_type": "code",
   "execution_count": 11,
   "id": "880ba839",
   "metadata": {},
   "outputs": [],
   "source": [
    "freq=[]; motifs=[]\n",
    "for i in range(20):\n",
    "    freq.append(ps.topk(k=20)[i][0]/len(corpus))\n",
    "    motifs.append(ps.topk(k=20)[i][1])"
   ]
  },
  {
   "cell_type": "code",
   "execution_count": 12,
   "id": "90ce2ad8",
   "metadata": {},
   "outputs": [
    {
     "data": {
      "text/html": [
       "<div>\n",
       "<style scoped>\n",
       "    .dataframe tbody tr th:only-of-type {\n",
       "        vertical-align: middle;\n",
       "    }\n",
       "\n",
       "    .dataframe tbody tr th {\n",
       "        vertical-align: top;\n",
       "    }\n",
       "\n",
       "    .dataframe thead th {\n",
       "        text-align: right;\n",
       "    }\n",
       "</style>\n",
       "<table border=\"1\" class=\"dataframe\">\n",
       "  <thead>\n",
       "    <tr style=\"text-align: right;\">\n",
       "      <th></th>\n",
       "      <th>Motif</th>\n",
       "      <th>Frequence</th>\n",
       "    </tr>\n",
       "  </thead>\n",
       "  <tbody>\n",
       "    <tr>\n",
       "      <th>0</th>\n",
       "      <td>[05M092]</td>\n",
       "      <td>0.182867</td>\n",
       "    </tr>\n",
       "    <tr>\n",
       "      <th>1</th>\n",
       "      <td>[05M093]</td>\n",
       "      <td>0.162272</td>\n",
       "    </tr>\n",
       "    <tr>\n",
       "      <th>2</th>\n",
       "      <td>[02C05J]</td>\n",
       "      <td>0.138295</td>\n",
       "    </tr>\n",
       "    <tr>\n",
       "      <th>3</th>\n",
       "      <td>[05K101]</td>\n",
       "      <td>0.098000</td>\n",
       "    </tr>\n",
       "    <tr>\n",
       "      <th>4</th>\n",
       "      <td>[04M053]</td>\n",
       "      <td>0.085066</td>\n",
       "    </tr>\n",
       "    <tr>\n",
       "      <th>5</th>\n",
       "      <td>[05M091]</td>\n",
       "      <td>0.079893</td>\n",
       "    </tr>\n",
       "    <tr>\n",
       "      <th>6</th>\n",
       "      <td>[05M09T]</td>\n",
       "      <td>0.078599</td>\n",
       "    </tr>\n",
       "    <tr>\n",
       "      <th>7</th>\n",
       "      <td>[23M20Z]</td>\n",
       "      <td>0.066063</td>\n",
       "    </tr>\n",
       "    <tr>\n",
       "      <th>8</th>\n",
       "      <td>[23M20T]</td>\n",
       "      <td>0.058104</td>\n",
       "    </tr>\n",
       "    <tr>\n",
       "      <th>9</th>\n",
       "      <td>[06K04J]</td>\n",
       "      <td>0.055218</td>\n",
       "    </tr>\n",
       "    <tr>\n",
       "      <th>10</th>\n",
       "      <td>[05K061]</td>\n",
       "      <td>0.053925</td>\n",
       "    </tr>\n",
       "    <tr>\n",
       "      <th>11</th>\n",
       "      <td>[04M052]</td>\n",
       "      <td>0.051637</td>\n",
       "    </tr>\n",
       "    <tr>\n",
       "      <th>12</th>\n",
       "      <td>[23Z02Z]</td>\n",
       "      <td>0.049149</td>\n",
       "    </tr>\n",
       "    <tr>\n",
       "      <th>13</th>\n",
       "      <td>[05M094]</td>\n",
       "      <td>0.047955</td>\n",
       "    </tr>\n",
       "    <tr>\n",
       "      <th>14</th>\n",
       "      <td>[05M092, 05M092]</td>\n",
       "      <td>0.043578</td>\n",
       "    </tr>\n",
       "    <tr>\n",
       "      <th>15</th>\n",
       "      <td>[05K102]</td>\n",
       "      <td>0.042682</td>\n",
       "    </tr>\n",
       "    <tr>\n",
       "      <th>16</th>\n",
       "      <td>[06K02Z]</td>\n",
       "      <td>0.041190</td>\n",
       "    </tr>\n",
       "    <tr>\n",
       "      <th>17</th>\n",
       "      <td>[02C051]</td>\n",
       "      <td>0.036414</td>\n",
       "    </tr>\n",
       "    <tr>\n",
       "      <th>18</th>\n",
       "      <td>[05K062]</td>\n",
       "      <td>0.036414</td>\n",
       "    </tr>\n",
       "    <tr>\n",
       "      <th>19</th>\n",
       "      <td>[05M092, 05M093]</td>\n",
       "      <td>0.036414</td>\n",
       "    </tr>\n",
       "  </tbody>\n",
       "</table>\n",
       "</div>"
      ],
      "text/plain": [
       "               Motif  Frequence\n",
       "0           [05M092]   0.182867\n",
       "1           [05M093]   0.162272\n",
       "2           [02C05J]   0.138295\n",
       "3           [05K101]   0.098000\n",
       "4           [04M053]   0.085066\n",
       "5           [05M091]   0.079893\n",
       "6           [05M09T]   0.078599\n",
       "7           [23M20Z]   0.066063\n",
       "8           [23M20T]   0.058104\n",
       "9           [06K04J]   0.055218\n",
       "10          [05K061]   0.053925\n",
       "11          [04M052]   0.051637\n",
       "12          [23Z02Z]   0.049149\n",
       "13          [05M094]   0.047955\n",
       "14  [05M092, 05M092]   0.043578\n",
       "15          [05K102]   0.042682\n",
       "16          [06K02Z]   0.041190\n",
       "17          [02C051]   0.036414\n",
       "18          [05K062]   0.036414\n",
       "19  [05M092, 05M093]   0.036414"
      ]
     },
     "execution_count": 12,
     "metadata": {},
     "output_type": "execute_result"
    }
   ],
   "source": [
    "pd.DataFrame({\"Motif\":motifs, \"Frequence\":freq})"
   ]
  },
  {
   "cell_type": "code",
   "execution_count": 166,
   "id": "6a29f8b0",
   "metadata": {},
   "outputs": [],
   "source": [
    "p_soins_IC=pd.read_csv(\"../data/p_soins_IC.csv\")"
   ]
  },
  {
   "cell_type": "code",
   "execution_count": 174,
   "id": "66c3f9bc",
   "metadata": {},
   "outputs": [
    {
     "data": {
      "text/html": [
       "<div>\n",
       "<style scoped>\n",
       "    .dataframe tbody tr th:only-of-type {\n",
       "        vertical-align: middle;\n",
       "    }\n",
       "\n",
       "    .dataframe tbody tr th {\n",
       "        vertical-align: top;\n",
       "    }\n",
       "\n",
       "    .dataframe thead th {\n",
       "        text-align: right;\n",
       "    }\n",
       "</style>\n",
       "<table border=\"1\" class=\"dataframe\">\n",
       "  <thead>\n",
       "    <tr style=\"text-align: right;\">\n",
       "      <th></th>\n",
       "      <th>1</th>\n",
       "      <th>2</th>\n",
       "    </tr>\n",
       "  </thead>\n",
       "  <tbody>\n",
       "    <tr>\n",
       "      <th>0</th>\n",
       "      <td>05M09T</td>\n",
       "      <td>05M092</td>\n",
       "    </tr>\n",
       "    <tr>\n",
       "      <th>1</th>\n",
       "      <td>05M093</td>\n",
       "      <td>04M132</td>\n",
       "    </tr>\n",
       "    <tr>\n",
       "      <th>2</th>\n",
       "      <td>05M093</td>\n",
       "      <td>04M143</td>\n",
       "    </tr>\n",
       "    <tr>\n",
       "      <th>3</th>\n",
       "      <td>05M091</td>\n",
       "      <td>05M171</td>\n",
       "    </tr>\n",
       "    <tr>\n",
       "      <th>4</th>\n",
       "      <td>05M091</td>\n",
       "      <td>23K02Z</td>\n",
       "    </tr>\n",
       "  </tbody>\n",
       "</table>\n",
       "</div>"
      ],
      "text/plain": [
       "        1       2\n",
       "0  05M09T  05M092\n",
       "1  05M093  04M132\n",
       "2  05M093  04M143\n",
       "3  05M091  05M171\n",
       "4  05M091  23K02Z"
      ]
     },
     "execution_count": 174,
     "metadata": {},
     "output_type": "execute_result"
    }
   ],
   "source": [
    "p_soins_IC_2=p_soins_IC.iloc[:,1:3]\n",
    "p_soins_IC_2.head()"
   ]
  },
  {
   "cell_type": "code",
   "execution_count": 175,
   "id": "01ebb810",
   "metadata": {},
   "outputs": [],
   "source": [
    "corpus_IC=[]\n",
    "for patient in range(len(p_soins_IC_2)):\n",
    "    corpus_IC.append([p_soins_IC_2.iloc[patient][0], p_soins_IC_2.iloc[patient][1]])"
   ]
  },
  {
   "cell_type": "code",
   "execution_count": 176,
   "id": "cb583b57",
   "metadata": {},
   "outputs": [],
   "source": [
    "ps = PrefixSpan(corpus_IC)\n",
    "ps.minlen=2\n",
    "output=ps.topk(k=20)"
   ]
  },
  {
   "cell_type": "code",
   "execution_count": 177,
   "id": "158dcfa5",
   "metadata": {},
   "outputs": [
    {
     "data": {
      "text/plain": [
       "3749"
      ]
     },
     "execution_count": 177,
     "metadata": {},
     "output_type": "execute_result"
    }
   ],
   "source": [
    "len(p_soins_IC)"
   ]
  },
  {
   "cell_type": "code",
   "execution_count": 178,
   "id": "7395460b",
   "metadata": {},
   "outputs": [
    {
     "name": "stdout",
     "output_type": "stream",
     "text": [
      "['05M092' ,'nan ', 0.066 ],\n",
      "['05M093' ,'nan ', 0.057 ],\n",
      "['05M092' ,'05M092 ', 0.027 ],\n",
      "['05M091' ,'nan ', 0.024 ],\n",
      "['05M09T' ,'nan ', 0.024 ],\n",
      "['05M092' ,'05M093 ', 0.014 ],\n",
      "['05M093' ,'05M092 ', 0.014 ],\n",
      "['05M094' ,'nan ', 0.014 ],\n",
      "['05M091' ,'05K101 ', 0.013 ],\n",
      "['05M093' ,'05M093 ', 0.013 ],\n",
      "['05M091' ,'05M092 ', 0.012 ],\n",
      "['05M092' ,'05M091 ', 0.01 ],\n",
      "['05M09T' ,'05M092 ', 0.01 ],\n",
      "['05M091' ,'05M091 ', 0.009 ],\n",
      "['05M092' ,'05K101 ', 0.009 ],\n",
      "['05M09T' ,'05M093 ', 0.006 ],\n",
      "['05M092' ,'05M09T ', 0.006 ],\n",
      "['05M092' ,'02C05J ', 0.006 ],\n",
      "['05M093' ,'05K101 ', 0.006 ],\n",
      "['05M09T' ,'05M091 ', 0.006 ],\n"
     ]
    }
   ],
   "source": [
    "for i in output:\n",
    "    ghm1=str(i[1][0])\n",
    "    ghm2=str(i[1][1])\n",
    "    print(\"['\"+ghm1+'\\'',\",\\'\"+ghm2+\" ',\",round(i[0]/len(corpus_IC),3),\"],\")"
   ]
  },
  {
   "cell_type": "code",
   "execution_count": 179,
   "id": "6b19ce52",
   "metadata": {},
   "outputs": [
    {
     "data": {
      "text/html": [
       "<div>\n",
       "<style scoped>\n",
       "    .dataframe tbody tr th:only-of-type {\n",
       "        vertical-align: middle;\n",
       "    }\n",
       "\n",
       "    .dataframe tbody tr th {\n",
       "        vertical-align: top;\n",
       "    }\n",
       "\n",
       "    .dataframe thead th {\n",
       "        text-align: right;\n",
       "    }\n",
       "</style>\n",
       "<table border=\"1\" class=\"dataframe\">\n",
       "  <thead>\n",
       "    <tr style=\"text-align: right;\">\n",
       "      <th></th>\n",
       "      <th>2</th>\n",
       "      <th>3</th>\n",
       "    </tr>\n",
       "  </thead>\n",
       "  <tbody>\n",
       "    <tr>\n",
       "      <th>0</th>\n",
       "      <td>05M092</td>\n",
       "      <td>05C191</td>\n",
       "    </tr>\n",
       "    <tr>\n",
       "      <th>1</th>\n",
       "      <td>04M132</td>\n",
       "      <td>05C222</td>\n",
       "    </tr>\n",
       "    <tr>\n",
       "      <th>2</th>\n",
       "      <td>04M143</td>\n",
       "      <td>11M044</td>\n",
       "    </tr>\n",
       "    <tr>\n",
       "      <th>3</th>\n",
       "      <td>05M171</td>\n",
       "      <td>05M13T</td>\n",
       "    </tr>\n",
       "    <tr>\n",
       "      <th>4</th>\n",
       "      <td>23K02Z</td>\n",
       "      <td>09C081</td>\n",
       "    </tr>\n",
       "  </tbody>\n",
       "</table>\n",
       "</div>"
      ],
      "text/plain": [
       "        2       3\n",
       "0  05M092  05C191\n",
       "1  04M132  05C222\n",
       "2  04M143  11M044\n",
       "3  05M171  05M13T\n",
       "4  23K02Z  09C081"
      ]
     },
     "execution_count": 179,
     "metadata": {},
     "output_type": "execute_result"
    }
   ],
   "source": [
    "p_soins_IC_3=p_soins_IC.iloc[:,2:4]\n",
    "p_soins_IC_3.head()"
   ]
  },
  {
   "cell_type": "code",
   "execution_count": 180,
   "id": "416becdb",
   "metadata": {},
   "outputs": [],
   "source": [
    "corpus_IC_2=[]\n",
    "for patient in range(len(p_soins_IC_3)):\n",
    "    if str(p_soins_IC_3.iloc[patient][1])!='nan':\n",
    "        corpus_IC_2.append([p_soins_IC_3.iloc[patient][0], p_soins_IC_3.iloc[patient][1]])\n",
    "    else:\n",
    "        corpus_IC_2.append([p_soins_IC_3.iloc[patient][0], 'nan'])"
   ]
  },
  {
   "cell_type": "code",
   "execution_count": 181,
   "id": "711afdb1",
   "metadata": {},
   "outputs": [],
   "source": [
    "ps = PrefixSpan(corpus_IC_2)\n",
    "ps.minlen=2\n",
    "output=ps.topk(k=20)"
   ]
  },
  {
   "cell_type": "code",
   "execution_count": 183,
   "id": "9facd090",
   "metadata": {},
   "outputs": [
    {
     "name": "stdout",
     "output_type": "stream",
     "text": [
      "['nan ' ,' nan ', 0.186 ],\n",
      "['05M092 ' ,' nan ', 0.011 ],\n",
      "['05M092 ' ,' 05M092 ', 0.01 ],\n",
      "['05M093 ' ,' nan ', 0.009 ],\n",
      "['02C05J ' ,' 02C05J ', 0.007 ],\n",
      "['05K101 ' ,' nan ', 0.006 ],\n",
      "['05M091 ' ,' nan ', 0.005 ],\n",
      "['05M092 ' ,' 05M093 ', 0.005 ],\n",
      "['02C05J ' ,' nan ', 0.004 ],\n",
      "['04M053 ' ,' nan ', 0.004 ],\n",
      "['05M093 ' ,' 05M092 ', 0.004 ],\n",
      "['05M091 ' ,' 05M092 ', 0.003 ],\n",
      "['05M09T ' ,' 05M092 ', 0.003 ],\n",
      "['05M09T ' ,' nan ', 0.003 ],\n",
      "['05M091 ' ,' 05M091 ', 0.003 ],\n",
      "['05M092 ' ,' 05M091 ', 0.003 ],\n",
      "['05M093 ' ,' 05M093 ', 0.002 ],\n",
      "['04M132 ' ,' nan ', 0.002 ],\n",
      "['05M094 ' ,' nan ', 0.002 ],\n",
      "['23M20Z ' ,' nan ', 0.002 ],\n"
     ]
    }
   ],
   "source": [
    "for i in output:\n",
    "    ghm1=str(i[1][0])\n",
    "    ghm2=str(i[1][1])\n",
    "    print(\"['\"+ghm1+' \\'',\",\\' \"+ghm2+\" ',\",round(i[0]/len(corpus_IC),3),\"],\")"
   ]
  },
  {
   "cell_type": "code",
   "execution_count": 102,
   "id": "6c8ba588",
   "metadata": {},
   "outputs": [],
   "source": [
    "dictionnaire={\"05M091\":0, \"05M092\":1, \"05M093\":2, \"05M09T\":3, '05K101':4, '02C05J':5, 'nan':6}"
   ]
  },
  {
   "cell_type": "code",
   "execution_count": 103,
   "id": "1b8b8081",
   "metadata": {},
   "outputs": [],
   "source": [
    "source=[]\n",
    "target=[]\n",
    "value=[]\n",
    "\n",
    "for i in ps.topk(k=20):\n",
    "    ghm1=str(i[1][0]); source.append(dictionnaire[ghm1])\n",
    "    ghm2=str(i[1][1]); target.append(dictionnaire[ghm2])\n",
    "    nb=i[0]; value.append(nb)"
   ]
  },
  {
   "cell_type": "code",
   "execution_count": 104,
   "id": "bd873717",
   "metadata": {},
   "outputs": [
    {
     "data": {
      "application/vnd.plotly.v1+json": {
       "config": {
        "plotlyServerURL": "https://plot.ly"
       },
       "data": [
        {
         "link": {
          "source": [
           1,
           2,
           1,
           3,
           0,
           1,
           2,
           0,
           2,
           0,
           1,
           3,
           0,
           1,
           3,
           1,
           1,
           2,
           3,
           0
          ],
          "target": [
           6,
           6,
           1,
           6,
           6,
           2,
           1,
           4,
           2,
           1,
           0,
           1,
           0,
           4,
           2,
           3,
           5,
           4,
           0,
           2
          ],
          "value": [
           255,
           213,
           104,
           92,
           91,
           54,
           53,
           48,
           48,
           45,
           37,
           37,
           35,
           35,
           23,
           22,
           21,
           21,
           21,
           19
          ]
         },
         "node": {
          "color": "blue",
          "label": [
           "05M091",
           "05M092",
           "05M093",
           "05M09T"
          ],
          "line": {
           "color": "black",
           "width": 0.5
          },
          "pad": 15,
          "thickness": 20
         },
         "type": "sankey"
        }
       ],
       "layout": {
        "font": {
         "size": 10
        },
        "template": {
         "data": {
          "bar": [
           {
            "error_x": {
             "color": "#2a3f5f"
            },
            "error_y": {
             "color": "#2a3f5f"
            },
            "marker": {
             "line": {
              "color": "#E5ECF6",
              "width": 0.5
             },
             "pattern": {
              "fillmode": "overlay",
              "size": 10,
              "solidity": 0.2
             }
            },
            "type": "bar"
           }
          ],
          "barpolar": [
           {
            "marker": {
             "line": {
              "color": "#E5ECF6",
              "width": 0.5
             },
             "pattern": {
              "fillmode": "overlay",
              "size": 10,
              "solidity": 0.2
             }
            },
            "type": "barpolar"
           }
          ],
          "carpet": [
           {
            "aaxis": {
             "endlinecolor": "#2a3f5f",
             "gridcolor": "white",
             "linecolor": "white",
             "minorgridcolor": "white",
             "startlinecolor": "#2a3f5f"
            },
            "baxis": {
             "endlinecolor": "#2a3f5f",
             "gridcolor": "white",
             "linecolor": "white",
             "minorgridcolor": "white",
             "startlinecolor": "#2a3f5f"
            },
            "type": "carpet"
           }
          ],
          "choropleth": [
           {
            "colorbar": {
             "outlinewidth": 0,
             "ticks": ""
            },
            "type": "choropleth"
           }
          ],
          "contour": [
           {
            "colorbar": {
             "outlinewidth": 0,
             "ticks": ""
            },
            "colorscale": [
             [
              0,
              "#0d0887"
             ],
             [
              0.1111111111111111,
              "#46039f"
             ],
             [
              0.2222222222222222,
              "#7201a8"
             ],
             [
              0.3333333333333333,
              "#9c179e"
             ],
             [
              0.4444444444444444,
              "#bd3786"
             ],
             [
              0.5555555555555556,
              "#d8576b"
             ],
             [
              0.6666666666666666,
              "#ed7953"
             ],
             [
              0.7777777777777778,
              "#fb9f3a"
             ],
             [
              0.8888888888888888,
              "#fdca26"
             ],
             [
              1,
              "#f0f921"
             ]
            ],
            "type": "contour"
           }
          ],
          "contourcarpet": [
           {
            "colorbar": {
             "outlinewidth": 0,
             "ticks": ""
            },
            "type": "contourcarpet"
           }
          ],
          "heatmap": [
           {
            "colorbar": {
             "outlinewidth": 0,
             "ticks": ""
            },
            "colorscale": [
             [
              0,
              "#0d0887"
             ],
             [
              0.1111111111111111,
              "#46039f"
             ],
             [
              0.2222222222222222,
              "#7201a8"
             ],
             [
              0.3333333333333333,
              "#9c179e"
             ],
             [
              0.4444444444444444,
              "#bd3786"
             ],
             [
              0.5555555555555556,
              "#d8576b"
             ],
             [
              0.6666666666666666,
              "#ed7953"
             ],
             [
              0.7777777777777778,
              "#fb9f3a"
             ],
             [
              0.8888888888888888,
              "#fdca26"
             ],
             [
              1,
              "#f0f921"
             ]
            ],
            "type": "heatmap"
           }
          ],
          "heatmapgl": [
           {
            "colorbar": {
             "outlinewidth": 0,
             "ticks": ""
            },
            "colorscale": [
             [
              0,
              "#0d0887"
             ],
             [
              0.1111111111111111,
              "#46039f"
             ],
             [
              0.2222222222222222,
              "#7201a8"
             ],
             [
              0.3333333333333333,
              "#9c179e"
             ],
             [
              0.4444444444444444,
              "#bd3786"
             ],
             [
              0.5555555555555556,
              "#d8576b"
             ],
             [
              0.6666666666666666,
              "#ed7953"
             ],
             [
              0.7777777777777778,
              "#fb9f3a"
             ],
             [
              0.8888888888888888,
              "#fdca26"
             ],
             [
              1,
              "#f0f921"
             ]
            ],
            "type": "heatmapgl"
           }
          ],
          "histogram": [
           {
            "marker": {
             "pattern": {
              "fillmode": "overlay",
              "size": 10,
              "solidity": 0.2
             }
            },
            "type": "histogram"
           }
          ],
          "histogram2d": [
           {
            "colorbar": {
             "outlinewidth": 0,
             "ticks": ""
            },
            "colorscale": [
             [
              0,
              "#0d0887"
             ],
             [
              0.1111111111111111,
              "#46039f"
             ],
             [
              0.2222222222222222,
              "#7201a8"
             ],
             [
              0.3333333333333333,
              "#9c179e"
             ],
             [
              0.4444444444444444,
              "#bd3786"
             ],
             [
              0.5555555555555556,
              "#d8576b"
             ],
             [
              0.6666666666666666,
              "#ed7953"
             ],
             [
              0.7777777777777778,
              "#fb9f3a"
             ],
             [
              0.8888888888888888,
              "#fdca26"
             ],
             [
              1,
              "#f0f921"
             ]
            ],
            "type": "histogram2d"
           }
          ],
          "histogram2dcontour": [
           {
            "colorbar": {
             "outlinewidth": 0,
             "ticks": ""
            },
            "colorscale": [
             [
              0,
              "#0d0887"
             ],
             [
              0.1111111111111111,
              "#46039f"
             ],
             [
              0.2222222222222222,
              "#7201a8"
             ],
             [
              0.3333333333333333,
              "#9c179e"
             ],
             [
              0.4444444444444444,
              "#bd3786"
             ],
             [
              0.5555555555555556,
              "#d8576b"
             ],
             [
              0.6666666666666666,
              "#ed7953"
             ],
             [
              0.7777777777777778,
              "#fb9f3a"
             ],
             [
              0.8888888888888888,
              "#fdca26"
             ],
             [
              1,
              "#f0f921"
             ]
            ],
            "type": "histogram2dcontour"
           }
          ],
          "mesh3d": [
           {
            "colorbar": {
             "outlinewidth": 0,
             "ticks": ""
            },
            "type": "mesh3d"
           }
          ],
          "parcoords": [
           {
            "line": {
             "colorbar": {
              "outlinewidth": 0,
              "ticks": ""
             }
            },
            "type": "parcoords"
           }
          ],
          "pie": [
           {
            "automargin": true,
            "type": "pie"
           }
          ],
          "scatter": [
           {
            "fillpattern": {
             "fillmode": "overlay",
             "size": 10,
             "solidity": 0.2
            },
            "type": "scatter"
           }
          ],
          "scatter3d": [
           {
            "line": {
             "colorbar": {
              "outlinewidth": 0,
              "ticks": ""
             }
            },
            "marker": {
             "colorbar": {
              "outlinewidth": 0,
              "ticks": ""
             }
            },
            "type": "scatter3d"
           }
          ],
          "scattercarpet": [
           {
            "marker": {
             "colorbar": {
              "outlinewidth": 0,
              "ticks": ""
             }
            },
            "type": "scattercarpet"
           }
          ],
          "scattergeo": [
           {
            "marker": {
             "colorbar": {
              "outlinewidth": 0,
              "ticks": ""
             }
            },
            "type": "scattergeo"
           }
          ],
          "scattergl": [
           {
            "marker": {
             "colorbar": {
              "outlinewidth": 0,
              "ticks": ""
             }
            },
            "type": "scattergl"
           }
          ],
          "scattermapbox": [
           {
            "marker": {
             "colorbar": {
              "outlinewidth": 0,
              "ticks": ""
             }
            },
            "type": "scattermapbox"
           }
          ],
          "scatterpolar": [
           {
            "marker": {
             "colorbar": {
              "outlinewidth": 0,
              "ticks": ""
             }
            },
            "type": "scatterpolar"
           }
          ],
          "scatterpolargl": [
           {
            "marker": {
             "colorbar": {
              "outlinewidth": 0,
              "ticks": ""
             }
            },
            "type": "scatterpolargl"
           }
          ],
          "scatterternary": [
           {
            "marker": {
             "colorbar": {
              "outlinewidth": 0,
              "ticks": ""
             }
            },
            "type": "scatterternary"
           }
          ],
          "surface": [
           {
            "colorbar": {
             "outlinewidth": 0,
             "ticks": ""
            },
            "colorscale": [
             [
              0,
              "#0d0887"
             ],
             [
              0.1111111111111111,
              "#46039f"
             ],
             [
              0.2222222222222222,
              "#7201a8"
             ],
             [
              0.3333333333333333,
              "#9c179e"
             ],
             [
              0.4444444444444444,
              "#bd3786"
             ],
             [
              0.5555555555555556,
              "#d8576b"
             ],
             [
              0.6666666666666666,
              "#ed7953"
             ],
             [
              0.7777777777777778,
              "#fb9f3a"
             ],
             [
              0.8888888888888888,
              "#fdca26"
             ],
             [
              1,
              "#f0f921"
             ]
            ],
            "type": "surface"
           }
          ],
          "table": [
           {
            "cells": {
             "fill": {
              "color": "#EBF0F8"
             },
             "line": {
              "color": "white"
             }
            },
            "header": {
             "fill": {
              "color": "#C8D4E3"
             },
             "line": {
              "color": "white"
             }
            },
            "type": "table"
           }
          ]
         },
         "layout": {
          "annotationdefaults": {
           "arrowcolor": "#2a3f5f",
           "arrowhead": 0,
           "arrowwidth": 1
          },
          "autotypenumbers": "strict",
          "coloraxis": {
           "colorbar": {
            "outlinewidth": 0,
            "ticks": ""
           }
          },
          "colorscale": {
           "diverging": [
            [
             0,
             "#8e0152"
            ],
            [
             0.1,
             "#c51b7d"
            ],
            [
             0.2,
             "#de77ae"
            ],
            [
             0.3,
             "#f1b6da"
            ],
            [
             0.4,
             "#fde0ef"
            ],
            [
             0.5,
             "#f7f7f7"
            ],
            [
             0.6,
             "#e6f5d0"
            ],
            [
             0.7,
             "#b8e186"
            ],
            [
             0.8,
             "#7fbc41"
            ],
            [
             0.9,
             "#4d9221"
            ],
            [
             1,
             "#276419"
            ]
           ],
           "sequential": [
            [
             0,
             "#0d0887"
            ],
            [
             0.1111111111111111,
             "#46039f"
            ],
            [
             0.2222222222222222,
             "#7201a8"
            ],
            [
             0.3333333333333333,
             "#9c179e"
            ],
            [
             0.4444444444444444,
             "#bd3786"
            ],
            [
             0.5555555555555556,
             "#d8576b"
            ],
            [
             0.6666666666666666,
             "#ed7953"
            ],
            [
             0.7777777777777778,
             "#fb9f3a"
            ],
            [
             0.8888888888888888,
             "#fdca26"
            ],
            [
             1,
             "#f0f921"
            ]
           ],
           "sequentialminus": [
            [
             0,
             "#0d0887"
            ],
            [
             0.1111111111111111,
             "#46039f"
            ],
            [
             0.2222222222222222,
             "#7201a8"
            ],
            [
             0.3333333333333333,
             "#9c179e"
            ],
            [
             0.4444444444444444,
             "#bd3786"
            ],
            [
             0.5555555555555556,
             "#d8576b"
            ],
            [
             0.6666666666666666,
             "#ed7953"
            ],
            [
             0.7777777777777778,
             "#fb9f3a"
            ],
            [
             0.8888888888888888,
             "#fdca26"
            ],
            [
             1,
             "#f0f921"
            ]
           ]
          },
          "colorway": [
           "#636efa",
           "#EF553B",
           "#00cc96",
           "#ab63fa",
           "#FFA15A",
           "#19d3f3",
           "#FF6692",
           "#B6E880",
           "#FF97FF",
           "#FECB52"
          ],
          "font": {
           "color": "#2a3f5f"
          },
          "geo": {
           "bgcolor": "white",
           "lakecolor": "white",
           "landcolor": "#E5ECF6",
           "showlakes": true,
           "showland": true,
           "subunitcolor": "white"
          },
          "hoverlabel": {
           "align": "left"
          },
          "hovermode": "closest",
          "mapbox": {
           "style": "light"
          },
          "paper_bgcolor": "white",
          "plot_bgcolor": "#E5ECF6",
          "polar": {
           "angularaxis": {
            "gridcolor": "white",
            "linecolor": "white",
            "ticks": ""
           },
           "bgcolor": "#E5ECF6",
           "radialaxis": {
            "gridcolor": "white",
            "linecolor": "white",
            "ticks": ""
           }
          },
          "scene": {
           "xaxis": {
            "backgroundcolor": "#E5ECF6",
            "gridcolor": "white",
            "gridwidth": 2,
            "linecolor": "white",
            "showbackground": true,
            "ticks": "",
            "zerolinecolor": "white"
           },
           "yaxis": {
            "backgroundcolor": "#E5ECF6",
            "gridcolor": "white",
            "gridwidth": 2,
            "linecolor": "white",
            "showbackground": true,
            "ticks": "",
            "zerolinecolor": "white"
           },
           "zaxis": {
            "backgroundcolor": "#E5ECF6",
            "gridcolor": "white",
            "gridwidth": 2,
            "linecolor": "white",
            "showbackground": true,
            "ticks": "",
            "zerolinecolor": "white"
           }
          },
          "shapedefaults": {
           "line": {
            "color": "#2a3f5f"
           }
          },
          "ternary": {
           "aaxis": {
            "gridcolor": "white",
            "linecolor": "white",
            "ticks": ""
           },
           "baxis": {
            "gridcolor": "white",
            "linecolor": "white",
            "ticks": ""
           },
           "bgcolor": "#E5ECF6",
           "caxis": {
            "gridcolor": "white",
            "linecolor": "white",
            "ticks": ""
           }
          },
          "title": {
           "x": 0.05
          },
          "xaxis": {
           "automargin": true,
           "gridcolor": "white",
           "linecolor": "white",
           "ticks": "",
           "title": {
            "standoff": 15
           },
           "zerolinecolor": "white",
           "zerolinewidth": 2
          },
          "yaxis": {
           "automargin": true,
           "gridcolor": "white",
           "linecolor": "white",
           "ticks": "",
           "title": {
            "standoff": 15
           },
           "zerolinecolor": "white",
           "zerolinewidth": 2
          }
         }
        },
        "title": {
         "text": "Basic Sankey Diagram"
        }
       }
      },
      "text/html": [
       "<div>                            <div id=\"c09342db-7053-41d5-bf3b-ccc2453d0b2d\" class=\"plotly-graph-div\" style=\"height:525px; width:100%;\"></div>            <script type=\"text/javascript\">                require([\"plotly\"], function(Plotly) {                    window.PLOTLYENV=window.PLOTLYENV || {};                                    if (document.getElementById(\"c09342db-7053-41d5-bf3b-ccc2453d0b2d\")) {                    Plotly.newPlot(                        \"c09342db-7053-41d5-bf3b-ccc2453d0b2d\",                        [{\"link\":{\"source\":[1,2,1,3,0,1,2,0,2,0,1,3,0,1,3,1,1,2,3,0],\"target\":[6,6,1,6,6,2,1,4,2,1,0,1,0,4,2,3,5,4,0,2],\"value\":[255,213,104,92,91,54,53,48,48,45,37,37,35,35,23,22,21,21,21,19]},\"node\":{\"color\":\"blue\",\"label\":[\"05M091\",\"05M092\",\"05M093\",\"05M09T\"],\"line\":{\"color\":\"black\",\"width\":0.5},\"pad\":15,\"thickness\":20},\"type\":\"sankey\"}],                        {\"template\":{\"data\":{\"histogram2dcontour\":[{\"type\":\"histogram2dcontour\",\"colorbar\":{\"outlinewidth\":0,\"ticks\":\"\"},\"colorscale\":[[0.0,\"#0d0887\"],[0.1111111111111111,\"#46039f\"],[0.2222222222222222,\"#7201a8\"],[0.3333333333333333,\"#9c179e\"],[0.4444444444444444,\"#bd3786\"],[0.5555555555555556,\"#d8576b\"],[0.6666666666666666,\"#ed7953\"],[0.7777777777777778,\"#fb9f3a\"],[0.8888888888888888,\"#fdca26\"],[1.0,\"#f0f921\"]]}],\"choropleth\":[{\"type\":\"choropleth\",\"colorbar\":{\"outlinewidth\":0,\"ticks\":\"\"}}],\"histogram2d\":[{\"type\":\"histogram2d\",\"colorbar\":{\"outlinewidth\":0,\"ticks\":\"\"},\"colorscale\":[[0.0,\"#0d0887\"],[0.1111111111111111,\"#46039f\"],[0.2222222222222222,\"#7201a8\"],[0.3333333333333333,\"#9c179e\"],[0.4444444444444444,\"#bd3786\"],[0.5555555555555556,\"#d8576b\"],[0.6666666666666666,\"#ed7953\"],[0.7777777777777778,\"#fb9f3a\"],[0.8888888888888888,\"#fdca26\"],[1.0,\"#f0f921\"]]}],\"heatmap\":[{\"type\":\"heatmap\",\"colorbar\":{\"outlinewidth\":0,\"ticks\":\"\"},\"colorscale\":[[0.0,\"#0d0887\"],[0.1111111111111111,\"#46039f\"],[0.2222222222222222,\"#7201a8\"],[0.3333333333333333,\"#9c179e\"],[0.4444444444444444,\"#bd3786\"],[0.5555555555555556,\"#d8576b\"],[0.6666666666666666,\"#ed7953\"],[0.7777777777777778,\"#fb9f3a\"],[0.8888888888888888,\"#fdca26\"],[1.0,\"#f0f921\"]]}],\"heatmapgl\":[{\"type\":\"heatmapgl\",\"colorbar\":{\"outlinewidth\":0,\"ticks\":\"\"},\"colorscale\":[[0.0,\"#0d0887\"],[0.1111111111111111,\"#46039f\"],[0.2222222222222222,\"#7201a8\"],[0.3333333333333333,\"#9c179e\"],[0.4444444444444444,\"#bd3786\"],[0.5555555555555556,\"#d8576b\"],[0.6666666666666666,\"#ed7953\"],[0.7777777777777778,\"#fb9f3a\"],[0.8888888888888888,\"#fdca26\"],[1.0,\"#f0f921\"]]}],\"contourcarpet\":[{\"type\":\"contourcarpet\",\"colorbar\":{\"outlinewidth\":0,\"ticks\":\"\"}}],\"contour\":[{\"type\":\"contour\",\"colorbar\":{\"outlinewidth\":0,\"ticks\":\"\"},\"colorscale\":[[0.0,\"#0d0887\"],[0.1111111111111111,\"#46039f\"],[0.2222222222222222,\"#7201a8\"],[0.3333333333333333,\"#9c179e\"],[0.4444444444444444,\"#bd3786\"],[0.5555555555555556,\"#d8576b\"],[0.6666666666666666,\"#ed7953\"],[0.7777777777777778,\"#fb9f3a\"],[0.8888888888888888,\"#fdca26\"],[1.0,\"#f0f921\"]]}],\"surface\":[{\"type\":\"surface\",\"colorbar\":{\"outlinewidth\":0,\"ticks\":\"\"},\"colorscale\":[[0.0,\"#0d0887\"],[0.1111111111111111,\"#46039f\"],[0.2222222222222222,\"#7201a8\"],[0.3333333333333333,\"#9c179e\"],[0.4444444444444444,\"#bd3786\"],[0.5555555555555556,\"#d8576b\"],[0.6666666666666666,\"#ed7953\"],[0.7777777777777778,\"#fb9f3a\"],[0.8888888888888888,\"#fdca26\"],[1.0,\"#f0f921\"]]}],\"mesh3d\":[{\"type\":\"mesh3d\",\"colorbar\":{\"outlinewidth\":0,\"ticks\":\"\"}}],\"scatter\":[{\"fillpattern\":{\"fillmode\":\"overlay\",\"size\":10,\"solidity\":0.2},\"type\":\"scatter\"}],\"parcoords\":[{\"type\":\"parcoords\",\"line\":{\"colorbar\":{\"outlinewidth\":0,\"ticks\":\"\"}}}],\"scatterpolargl\":[{\"type\":\"scatterpolargl\",\"marker\":{\"colorbar\":{\"outlinewidth\":0,\"ticks\":\"\"}}}],\"bar\":[{\"error_x\":{\"color\":\"#2a3f5f\"},\"error_y\":{\"color\":\"#2a3f5f\"},\"marker\":{\"line\":{\"color\":\"#E5ECF6\",\"width\":0.5},\"pattern\":{\"fillmode\":\"overlay\",\"size\":10,\"solidity\":0.2}},\"type\":\"bar\"}],\"scattergeo\":[{\"type\":\"scattergeo\",\"marker\":{\"colorbar\":{\"outlinewidth\":0,\"ticks\":\"\"}}}],\"scatterpolar\":[{\"type\":\"scatterpolar\",\"marker\":{\"colorbar\":{\"outlinewidth\":0,\"ticks\":\"\"}}}],\"histogram\":[{\"marker\":{\"pattern\":{\"fillmode\":\"overlay\",\"size\":10,\"solidity\":0.2}},\"type\":\"histogram\"}],\"scattergl\":[{\"type\":\"scattergl\",\"marker\":{\"colorbar\":{\"outlinewidth\":0,\"ticks\":\"\"}}}],\"scatter3d\":[{\"type\":\"scatter3d\",\"line\":{\"colorbar\":{\"outlinewidth\":0,\"ticks\":\"\"}},\"marker\":{\"colorbar\":{\"outlinewidth\":0,\"ticks\":\"\"}}}],\"scattermapbox\":[{\"type\":\"scattermapbox\",\"marker\":{\"colorbar\":{\"outlinewidth\":0,\"ticks\":\"\"}}}],\"scatterternary\":[{\"type\":\"scatterternary\",\"marker\":{\"colorbar\":{\"outlinewidth\":0,\"ticks\":\"\"}}}],\"scattercarpet\":[{\"type\":\"scattercarpet\",\"marker\":{\"colorbar\":{\"outlinewidth\":0,\"ticks\":\"\"}}}],\"carpet\":[{\"aaxis\":{\"endlinecolor\":\"#2a3f5f\",\"gridcolor\":\"white\",\"linecolor\":\"white\",\"minorgridcolor\":\"white\",\"startlinecolor\":\"#2a3f5f\"},\"baxis\":{\"endlinecolor\":\"#2a3f5f\",\"gridcolor\":\"white\",\"linecolor\":\"white\",\"minorgridcolor\":\"white\",\"startlinecolor\":\"#2a3f5f\"},\"type\":\"carpet\"}],\"table\":[{\"cells\":{\"fill\":{\"color\":\"#EBF0F8\"},\"line\":{\"color\":\"white\"}},\"header\":{\"fill\":{\"color\":\"#C8D4E3\"},\"line\":{\"color\":\"white\"}},\"type\":\"table\"}],\"barpolar\":[{\"marker\":{\"line\":{\"color\":\"#E5ECF6\",\"width\":0.5},\"pattern\":{\"fillmode\":\"overlay\",\"size\":10,\"solidity\":0.2}},\"type\":\"barpolar\"}],\"pie\":[{\"automargin\":true,\"type\":\"pie\"}]},\"layout\":{\"autotypenumbers\":\"strict\",\"colorway\":[\"#636efa\",\"#EF553B\",\"#00cc96\",\"#ab63fa\",\"#FFA15A\",\"#19d3f3\",\"#FF6692\",\"#B6E880\",\"#FF97FF\",\"#FECB52\"],\"font\":{\"color\":\"#2a3f5f\"},\"hovermode\":\"closest\",\"hoverlabel\":{\"align\":\"left\"},\"paper_bgcolor\":\"white\",\"plot_bgcolor\":\"#E5ECF6\",\"polar\":{\"bgcolor\":\"#E5ECF6\",\"angularaxis\":{\"gridcolor\":\"white\",\"linecolor\":\"white\",\"ticks\":\"\"},\"radialaxis\":{\"gridcolor\":\"white\",\"linecolor\":\"white\",\"ticks\":\"\"}},\"ternary\":{\"bgcolor\":\"#E5ECF6\",\"aaxis\":{\"gridcolor\":\"white\",\"linecolor\":\"white\",\"ticks\":\"\"},\"baxis\":{\"gridcolor\":\"white\",\"linecolor\":\"white\",\"ticks\":\"\"},\"caxis\":{\"gridcolor\":\"white\",\"linecolor\":\"white\",\"ticks\":\"\"}},\"coloraxis\":{\"colorbar\":{\"outlinewidth\":0,\"ticks\":\"\"}},\"colorscale\":{\"sequential\":[[0.0,\"#0d0887\"],[0.1111111111111111,\"#46039f\"],[0.2222222222222222,\"#7201a8\"],[0.3333333333333333,\"#9c179e\"],[0.4444444444444444,\"#bd3786\"],[0.5555555555555556,\"#d8576b\"],[0.6666666666666666,\"#ed7953\"],[0.7777777777777778,\"#fb9f3a\"],[0.8888888888888888,\"#fdca26\"],[1.0,\"#f0f921\"]],\"sequentialminus\":[[0.0,\"#0d0887\"],[0.1111111111111111,\"#46039f\"],[0.2222222222222222,\"#7201a8\"],[0.3333333333333333,\"#9c179e\"],[0.4444444444444444,\"#bd3786\"],[0.5555555555555556,\"#d8576b\"],[0.6666666666666666,\"#ed7953\"],[0.7777777777777778,\"#fb9f3a\"],[0.8888888888888888,\"#fdca26\"],[1.0,\"#f0f921\"]],\"diverging\":[[0,\"#8e0152\"],[0.1,\"#c51b7d\"],[0.2,\"#de77ae\"],[0.3,\"#f1b6da\"],[0.4,\"#fde0ef\"],[0.5,\"#f7f7f7\"],[0.6,\"#e6f5d0\"],[0.7,\"#b8e186\"],[0.8,\"#7fbc41\"],[0.9,\"#4d9221\"],[1,\"#276419\"]]},\"xaxis\":{\"gridcolor\":\"white\",\"linecolor\":\"white\",\"ticks\":\"\",\"title\":{\"standoff\":15},\"zerolinecolor\":\"white\",\"automargin\":true,\"zerolinewidth\":2},\"yaxis\":{\"gridcolor\":\"white\",\"linecolor\":\"white\",\"ticks\":\"\",\"title\":{\"standoff\":15},\"zerolinecolor\":\"white\",\"automargin\":true,\"zerolinewidth\":2},\"scene\":{\"xaxis\":{\"backgroundcolor\":\"#E5ECF6\",\"gridcolor\":\"white\",\"linecolor\":\"white\",\"showbackground\":true,\"ticks\":\"\",\"zerolinecolor\":\"white\",\"gridwidth\":2},\"yaxis\":{\"backgroundcolor\":\"#E5ECF6\",\"gridcolor\":\"white\",\"linecolor\":\"white\",\"showbackground\":true,\"ticks\":\"\",\"zerolinecolor\":\"white\",\"gridwidth\":2},\"zaxis\":{\"backgroundcolor\":\"#E5ECF6\",\"gridcolor\":\"white\",\"linecolor\":\"white\",\"showbackground\":true,\"ticks\":\"\",\"zerolinecolor\":\"white\",\"gridwidth\":2}},\"shapedefaults\":{\"line\":{\"color\":\"#2a3f5f\"}},\"annotationdefaults\":{\"arrowcolor\":\"#2a3f5f\",\"arrowhead\":0,\"arrowwidth\":1},\"geo\":{\"bgcolor\":\"white\",\"landcolor\":\"#E5ECF6\",\"subunitcolor\":\"white\",\"showland\":true,\"showlakes\":true,\"lakecolor\":\"white\"},\"title\":{\"x\":0.05},\"mapbox\":{\"style\":\"light\"}}},\"title\":{\"text\":\"Basic Sankey Diagram\"},\"font\":{\"size\":10}},                        {\"responsive\": true}                    ).then(function(){\n",
       "                            \n",
       "var gd = document.getElementById('c09342db-7053-41d5-bf3b-ccc2453d0b2d');\n",
       "var x = new MutationObserver(function (mutations, observer) {{\n",
       "        var display = window.getComputedStyle(gd).display;\n",
       "        if (!display || display === 'none') {{\n",
       "            console.log([gd, 'removed!']);\n",
       "            Plotly.purge(gd);\n",
       "            observer.disconnect();\n",
       "        }}\n",
       "}});\n",
       "\n",
       "// Listen for the removal of the full notebook cells\n",
       "var notebookContainer = gd.closest('#notebook-container');\n",
       "if (notebookContainer) {{\n",
       "    x.observe(notebookContainer, {childList: true});\n",
       "}}\n",
       "\n",
       "// Listen for the clearing of the current output cell\n",
       "var outputEl = gd.closest('.output');\n",
       "if (outputEl) {{\n",
       "    x.observe(outputEl, {childList: true});\n",
       "}}\n",
       "\n",
       "                        })                };                });            </script>        </div>"
      ]
     },
     "metadata": {},
     "output_type": "display_data"
    }
   ],
   "source": [
    "import plotly.graph_objects as go\n",
    "\n",
    "fig = go.Figure(data=[go.Sankey(\n",
    "    node = dict(\n",
    "      pad = 15,\n",
    "      thickness = 20,\n",
    "      line = dict(color = \"black\", width = 0.5),\n",
    "      label = [\"05M091\", \"05M092\", \"05M093\", \"05M09T\"],\n",
    "      color = \"blue\"\n",
    "    ),\n",
    "    link = dict(\n",
    "      source = source, # indices correspond to labels, eg A1, A2, A1, B1, ...\n",
    "      target = target,\n",
    "      value = value\n",
    "  ))])\n",
    "\n",
    "fig.update_layout(title_text=\"Basic Sankey Diagram\", font_size=10)\n",
    "fig.show()"
   ]
  }
 ],
 "metadata": {
  "kernelspec": {
   "display_name": "Python 3 (ipykernel)",
   "language": "python",
   "name": "python3"
  },
  "language_info": {
   "codemirror_mode": {
    "name": "ipython",
    "version": 3
   },
   "file_extension": ".py",
   "mimetype": "text/x-python",
   "name": "python",
   "nbconvert_exporter": "python",
   "pygments_lexer": "ipython3",
   "version": "3.9.13"
  }
 },
 "nbformat": 4,
 "nbformat_minor": 5
}
