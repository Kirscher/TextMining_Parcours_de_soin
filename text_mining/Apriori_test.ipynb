{
 "cells": [
  {
   "cell_type": "markdown",
   "id": "7c708ae0-4dee-4294-b81f-5459fdb50bd7",
   "metadata": {},
   "source": [
    "# Apriori algorithm"
   ]
  },
  {
   "cell_type": "markdown",
   "id": "0806bc7b",
   "metadata": {},
   "source": [
    "$Support(GHM_i) = \\frac{\\text{Nb d'hospitalisations pour le } GHM_i}{\\text{Nb total d'hospitalisations}}$"
   ]
  },
  {
   "cell_type": "markdown",
   "id": "175c0b44",
   "metadata": {},
   "source": [
    "$Confidence(GHM_i\\longrightarrow GHM_j) = \\frac{Support(GHM_i \\cup GHM_j)}{Support(GHM_i)}$"
   ]
  },
  {
   "cell_type": "code",
   "execution_count": 1,
   "id": "2ebf1502-4587-43b9-a214-ae01919a116a",
   "metadata": {
    "tags": []
   },
   "outputs": [
    {
     "name": "stdout",
     "output_type": "stream",
     "text": [
      "Collecting apyori\n",
      "  Downloading apyori-1.1.2.tar.gz (8.6 kB)\n",
      "  Preparing metadata (setup.py): started\n",
      "  Preparing metadata (setup.py): finished with status 'done'\n",
      "Building wheels for collected packages: apyori\n",
      "  Building wheel for apyori (setup.py): started\n",
      "  Building wheel for apyori (setup.py): finished with status 'done'\n",
      "  Created wheel for apyori: filename=apyori-1.1.2-py3-none-any.whl size=5975 sha256=3dc48574f27f7bcdb6541802b5bb1a689f30cefb72f26b85e5fbfdd690cb0cc1\n",
      "  Stored in directory: c:\\users\\trist\\appdata\\local\\pip\\cache\\wheels\\97\\ce\\c4\\97735b0ec10257b6ae27640840bb4f8647b776833f037f87e3\n",
      "Successfully built apyori\n",
      "Installing collected packages: apyori\n",
      "Successfully installed apyori-1.1.2\n"
     ]
    },
    {
     "name": "stderr",
     "output_type": "stream",
     "text": [
      "\n",
      "[notice] A new release of pip available: 22.3.1 -> 23.0.1\n",
      "[notice] To update, run: python.exe -m pip install --upgrade pip\n"
     ]
    }
   ],
   "source": [
    "!pip install apyori"
   ]
  },
  {
   "cell_type": "code",
   "execution_count": 143,
   "id": "2dc04a6e-e0de-4496-9d84-3f1787ade751",
   "metadata": {
    "tags": []
   },
   "outputs": [],
   "source": [
    "from apyori import apriori\n",
    "import random as rd\n",
    "import pandas as pd"
   ]
  },
  {
   "cell_type": "code",
   "execution_count": 3,
   "id": "0aca80d9-cc70-4cd0-9cf3-844eda8948ef",
   "metadata": {
    "tags": []
   },
   "outputs": [],
   "source": [
    "#exemples de codes GHM\n",
    "\n",
    "GHM= [\"28z04z\", \"28z07z\", \"05m092\",\n",
    "      #\"02c05j\", \"28z14z\", \"05m093\",\n",
    "      #\"28z17z\", \"28z18z\", \"05k101\",\n",
    "      #\"05k051\", \"05m042\", \"08c322\"\n",
    "     ]"
   ]
  },
  {
   "cell_type": "code",
   "execution_count": 4,
   "id": "e27dae55-e5dc-4cca-8107-6ba72dba3d8d",
   "metadata": {
    "tags": []
   },
   "outputs": [
    {
     "data": {
      "text/plain": [
       "[['05m092', '28z07z', '28z07z', '28z04z', '28z07z', '05m092'],\n",
       " ['28z07z', '28z04z', '28z07z', '28z07z', '28z07z', '05m092'],\n",
       " ['28z07z', '28z04z', '28z07z'],\n",
       " ['28z04z', '28z04z', '28z07z', '28z07z', '28z04z', '28z04z'],\n",
       " ['05m092', '05m092', '05m092', '05m092'],\n",
       " ['28z04z', '28z07z', '05m092', '28z07z', '05m092'],\n",
       " ['28z07z', '28z04z', '28z07z', '28z04z', '28z04z'],\n",
       " ['28z04z', '05m092', '28z04z', '28z04z', '05m092', '28z07z'],\n",
       " ['28z04z', '05m092', '05m092', '28z07z', '28z04z'],\n",
       " ['05m092', '05m092', '05m092', '28z07z', '28z04z', '28z07z']]"
      ]
     },
     "execution_count": 4,
     "metadata": {},
     "output_type": "execute_result"
    }
   ],
   "source": [
    "#creation d'une base de données fictives\n",
    "db=[]\n",
    "nb_patients=10\n",
    "\n",
    "for i in range(nb_patients):\n",
    "    db.append(rd.choices(GHM, k=rd.randint(3,6)))\n",
    "db"
   ]
  },
  {
   "cell_type": "code",
   "execution_count": 147,
   "id": "2f42a2c1",
   "metadata": {},
   "outputs": [],
   "source": [
    "    association_rules = apriori(db,\n",
    "                            min_support=0.02,\n",
    "                            min_confidence=0.40,\n",
    "                            min_lift=1,\n",
    "                            max_length=None)"
   ]
  },
  {
   "cell_type": "code",
   "execution_count": 148,
   "id": "d4084ef3",
   "metadata": {},
   "outputs": [],
   "source": [
    "    association_results = list(association_rules)\n"
   ]
  },
  {
   "cell_type": "code",
   "execution_count": 141,
   "id": "31b90d8f",
   "metadata": {},
   "outputs": [],
   "source": [
    "def generate_output():\n",
    "    association_rules = apriori(db,\n",
    "                            min_support=0.02,\n",
    "                            min_confidence=0.40,\n",
    "                            min_lift=1,\n",
    "                            max_length=None)\n",
    "    \n",
    "    association_results = list(association_rules)\n",
    "    \n",
    "    listRules = [list(association_results[i][0]) for i in range(0,len(association_results))]\n",
    "    listSupport = [association_results[i].support for i in range(0,len(association_results))]\n",
    "    \n",
    "    return listRules,listSupport"
   ]
  },
  {
   "cell_type": "code",
   "execution_count": 144,
   "id": "750059cb",
   "metadata": {},
   "outputs": [],
   "source": [
    "listRules,listSupport=generate_output()"
   ]
  },
  {
   "cell_type": "code",
   "execution_count": 146,
   "id": "9a06ff65",
   "metadata": {},
   "outputs": [
    {
     "data": {
      "text/html": [
       "<div>\n",
       "<style scoped>\n",
       "    .dataframe tbody tr th:only-of-type {\n",
       "        vertical-align: middle;\n",
       "    }\n",
       "\n",
       "    .dataframe tbody tr th {\n",
       "        vertical-align: top;\n",
       "    }\n",
       "\n",
       "    .dataframe thead th {\n",
       "        text-align: right;\n",
       "    }\n",
       "</style>\n",
       "<table border=\"1\" class=\"dataframe\">\n",
       "  <thead>\n",
       "    <tr style=\"text-align: right;\">\n",
       "      <th></th>\n",
       "      <th>Motif</th>\n",
       "      <th>Support</th>\n",
       "    </tr>\n",
       "  </thead>\n",
       "  <tbody>\n",
       "    <tr>\n",
       "      <th>0</th>\n",
       "      <td>[05m092]</td>\n",
       "      <td>0.7</td>\n",
       "    </tr>\n",
       "    <tr>\n",
       "      <th>1</th>\n",
       "      <td>[28z04z]</td>\n",
       "      <td>0.9</td>\n",
       "    </tr>\n",
       "    <tr>\n",
       "      <th>2</th>\n",
       "      <td>[28z07z]</td>\n",
       "      <td>0.9</td>\n",
       "    </tr>\n",
       "    <tr>\n",
       "      <th>3</th>\n",
       "      <td>[05m092, 28z04z]</td>\n",
       "      <td>0.6</td>\n",
       "    </tr>\n",
       "    <tr>\n",
       "      <th>4</th>\n",
       "      <td>[28z07z, 05m092]</td>\n",
       "      <td>0.6</td>\n",
       "    </tr>\n",
       "    <tr>\n",
       "      <th>5</th>\n",
       "      <td>[28z07z, 28z04z]</td>\n",
       "      <td>0.9</td>\n",
       "    </tr>\n",
       "    <tr>\n",
       "      <th>6</th>\n",
       "      <td>[28z07z, 05m092, 28z04z]</td>\n",
       "      <td>0.6</td>\n",
       "    </tr>\n",
       "  </tbody>\n",
       "</table>\n",
       "</div>"
      ],
      "text/plain": [
       "                      Motif  Support\n",
       "0                  [05m092]      0.7\n",
       "1                  [28z04z]      0.9\n",
       "2                  [28z07z]      0.9\n",
       "3          [05m092, 28z04z]      0.6\n",
       "4          [28z07z, 05m092]      0.6\n",
       "5          [28z07z, 28z04z]      0.9\n",
       "6  [28z07z, 05m092, 28z04z]      0.6"
      ]
     },
     "execution_count": 146,
     "metadata": {},
     "output_type": "execute_result"
    }
   ],
   "source": [
    "pd.DataFrame({\"Motif\":listRules, \"Support\":listSupport})"
   ]
  }
 ],
 "metadata": {
  "kernelspec": {
   "display_name": "Python 3",
   "language": "python",
   "name": "python3"
  },
  "language_info": {
   "codemirror_mode": {
    "name": "ipython",
    "version": 3
   },
   "file_extension": ".py",
   "mimetype": "text/x-python",
   "name": "python",
   "nbconvert_exporter": "python",
   "pygments_lexer": "ipython3",
   "version": "3.8.8"
  }
 },
 "nbformat": 4,
 "nbformat_minor": 5
}
