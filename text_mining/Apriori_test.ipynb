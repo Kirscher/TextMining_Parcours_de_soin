{
 "cells": [
  {
   "cell_type": "markdown",
   "id": "7c708ae0-4dee-4294-b81f-5459fdb50bd7",
   "metadata": {},
   "source": [
    "# Apriori algorithm"
   ]
  },
  {
   "cell_type": "code",
   "execution_count": 5,
   "id": "2ebf1502-4587-43b9-a214-ae01919a116a",
   "metadata": {
    "tags": []
   },
   "outputs": [
    {
     "name": "stdout",
     "output_type": "stream",
     "text": [
      "Collecting apyori\n",
      "  Downloading apyori-1.1.2.tar.gz (8.6 kB)\n",
      "  Preparing metadata (setup.py) ... \u001b[?25ldone\n",
      "\u001b[?25hBuilding wheels for collected packages: apyori\n",
      "  Building wheel for apyori (setup.py) ... \u001b[?25ldone\n",
      "\u001b[?25h  Created wheel for apyori: filename=apyori-1.1.2-py3-none-any.whl size=5955 sha256=74f19d96641dbafa001a68c073ecfb7b6eea28370dd80288cbf52c3076e5b245\n",
      "  Stored in directory: /home/onyxia/.cache/pip/wheels/c4/1a/79/20f55c470a50bb3702a8cb7c94d8ada15573538c7f4baebe2d\n",
      "Successfully built apyori\n",
      "Installing collected packages: apyori\n",
      "Successfully installed apyori-1.1.2\n"
     ]
    }
   ],
   "source": [
    "!pip install apyori"
   ]
  },
  {
   "cell_type": "code",
   "execution_count": 12,
   "id": "2dc04a6e-e0de-4496-9d84-3f1787ade751",
   "metadata": {
    "tags": []
   },
   "outputs": [],
   "source": [
    "from apyori import apriori\n",
    "import random as rd"
   ]
  },
  {
   "cell_type": "code",
   "execution_count": 14,
   "id": "0aca80d9-cc70-4cd0-9cf3-844eda8948ef",
   "metadata": {
    "tags": []
   },
   "outputs": [],
   "source": [
    "#exemples de codes GHM\n",
    "\n",
    "GHM= [\"28z04z\", \"28z07z\", \"05m092\",\n",
    "      #\"02c05j\", \"28z14z\", \"05m093\",\n",
    "      #\"28z17z\", \"28z18z\", \"05k101\",\n",
    "      #\"05k051\", \"05m042\", \"08c322\"\n",
    "     ]"
   ]
  },
  {
   "cell_type": "code",
   "execution_count": 15,
   "id": "e27dae55-e5dc-4cca-8107-6ba72dba3d8d",
   "metadata": {
    "tags": []
   },
   "outputs": [
    {
     "data": {
      "text/plain": [
       "[['05m092', '28z07z', '05m092', '05m092', '05m092', '05m092'],\n",
       " ['05m092', '28z04z', '05m092', '28z07z'],\n",
       " ['05m092', '05m092', '28z07z', '28z04z', '28z07z', '05m092'],\n",
       " ['28z04z', '28z04z', '28z04z', '05m092'],\n",
       " ['28z07z', '28z07z', '28z04z', '28z04z', '05m092'],\n",
       " ['28z07z', '28z04z', '28z07z', '28z07z'],\n",
       " ['28z07z', '05m092', '05m092', '28z04z'],\n",
       " ['28z04z', '28z07z', '28z04z', '28z07z'],\n",
       " ['05m092', '05m092', '28z07z', '28z04z', '05m092', '05m092'],\n",
       " ['28z07z', '28z07z', '05m092']]"
      ]
     },
     "execution_count": 15,
     "metadata": {},
     "output_type": "execute_result"
    }
   ],
   "source": [
    "#creation d'une base de données fictives\n",
    "db=[]\n",
    "nb_patients=10\n",
    "\n",
    "for i in range(nb_patients):\n",
    "    db.append(rd.choices(GHM, k=rd.randint(3,6)))\n",
    "db"
   ]
  },
  {
   "cell_type": "code",
   "execution_count": 17,
   "id": "a642c896-a6c4-45b5-8cc5-1b846430b8ea",
   "metadata": {
    "tags": []
   },
   "outputs": [],
   "source": [
    "results = list(apriori(db))"
   ]
  },
  {
   "cell_type": "code",
   "execution_count": 19,
   "id": "99ea2975-8713-4c42-84ae-8a14ca8b16bf",
   "metadata": {
    "tags": []
   },
   "outputs": [
    {
     "name": "stdout",
     "output_type": "stream",
     "text": [
      "[RelationRecord(items=frozenset({'05m092'}), support=0.8, ordered_statistics=[OrderedStatistic(items_base=frozenset(), items_add=frozenset({'05m092'}), confidence=0.8, lift=1.0)]), RelationRecord(items=frozenset({'28z04z'}), support=0.8, ordered_statistics=[OrderedStatistic(items_base=frozenset(), items_add=frozenset({'28z04z'}), confidence=0.8, lift=1.0)]), RelationRecord(items=frozenset({'28z07z'}), support=0.9, ordered_statistics=[OrderedStatistic(items_base=frozenset(), items_add=frozenset({'28z07z'}), confidence=0.9, lift=1.0)]), RelationRecord(items=frozenset({'05m092', '28z04z'}), support=0.6, ordered_statistics=[OrderedStatistic(items_base=frozenset(), items_add=frozenset({'05m092', '28z04z'}), confidence=0.6, lift=1.0), OrderedStatistic(items_base=frozenset({'05m092'}), items_add=frozenset({'28z04z'}), confidence=0.7499999999999999, lift=0.9374999999999998), OrderedStatistic(items_base=frozenset({'28z04z'}), items_add=frozenset({'05m092'}), confidence=0.7499999999999999, lift=0.9374999999999998)]), RelationRecord(items=frozenset({'05m092', '28z07z'}), support=0.7, ordered_statistics=[OrderedStatistic(items_base=frozenset(), items_add=frozenset({'05m092', '28z07z'}), confidence=0.7, lift=1.0), OrderedStatistic(items_base=frozenset({'05m092'}), items_add=frozenset({'28z07z'}), confidence=0.8749999999999999, lift=0.9722222222222221), OrderedStatistic(items_base=frozenset({'28z07z'}), items_add=frozenset({'05m092'}), confidence=0.7777777777777777, lift=0.9722222222222221)]), RelationRecord(items=frozenset({'28z07z', '28z04z'}), support=0.7, ordered_statistics=[OrderedStatistic(items_base=frozenset(), items_add=frozenset({'28z07z', '28z04z'}), confidence=0.7, lift=1.0), OrderedStatistic(items_base=frozenset({'28z04z'}), items_add=frozenset({'28z07z'}), confidence=0.8749999999999999, lift=0.9722222222222221), OrderedStatistic(items_base=frozenset({'28z07z'}), items_add=frozenset({'28z04z'}), confidence=0.7777777777777777, lift=0.9722222222222221)]), RelationRecord(items=frozenset({'05m092', '28z07z', '28z04z'}), support=0.5, ordered_statistics=[OrderedStatistic(items_base=frozenset(), items_add=frozenset({'05m092', '28z07z', '28z04z'}), confidence=0.5, lift=1.0), OrderedStatistic(items_base=frozenset({'05m092'}), items_add=frozenset({'28z07z', '28z04z'}), confidence=0.625, lift=0.8928571428571429), OrderedStatistic(items_base=frozenset({'28z04z'}), items_add=frozenset({'05m092', '28z07z'}), confidence=0.625, lift=0.8928571428571429), OrderedStatistic(items_base=frozenset({'28z07z'}), items_add=frozenset({'05m092', '28z04z'}), confidence=0.5555555555555556, lift=0.925925925925926), OrderedStatistic(items_base=frozenset({'05m092', '28z04z'}), items_add=frozenset({'28z07z'}), confidence=0.8333333333333334, lift=0.9259259259259259), OrderedStatistic(items_base=frozenset({'05m092', '28z07z'}), items_add=frozenset({'28z04z'}), confidence=0.7142857142857143, lift=0.8928571428571428), OrderedStatistic(items_base=frozenset({'28z07z', '28z04z'}), items_add=frozenset({'05m092'}), confidence=0.7142857142857143, lift=0.8928571428571428)])]\n"
     ]
    }
   ],
   "source": [
    "print(results)"
   ]
  }
 ],
 "metadata": {
  "kernelspec": {
   "display_name": "Python 3 (ipykernel)",
   "language": "python",
   "name": "python3"
  },
  "language_info": {
   "codemirror_mode": {
    "name": "ipython",
    "version": 3
   },
   "file_extension": ".py",
   "mimetype": "text/x-python",
   "name": "python",
   "nbconvert_exporter": "python",
   "pygments_lexer": "ipython3",
   "version": "3.10.8"
  }
 },
 "nbformat": 4,
 "nbformat_minor": 5
}
