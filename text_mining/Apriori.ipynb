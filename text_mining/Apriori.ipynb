{
 "cells": [
  {
   "cell_type": "markdown",
   "id": "7c708ae0-4dee-4294-b81f-5459fdb50bd7",
   "metadata": {},
   "source": [
    "# Apriori algorithm\n",
    "\n",
    "Implémentation de l'algorithme Apriori sur notre jeu de données. Les métriques calculées sont expliquées ci-dessous, avec des explications adaptées à notre cas d'utilisation et inspirée du tutoriel suivant : https://towardsdatascience.com/apriori-algorithm-for-association-rule-learning-how-to-find-clear-links-between-transactions-bf7ebc22cf0a"
   ]
  },
  {
   "cell_type": "markdown",
   "id": "86d55d40",
   "metadata": {},
   "source": [
    "## Support\n",
    "La première étape consiste à trouver les GHM fréquents. Le calcul du support est basé sur la fréquence : \\\n",
    "\\\n",
    "$Support(GHM_i) = \\frac{\\text{Nb d'hospitalisations pour le } GHM_i}{\\text{Nb total d'hospitalisations}}$"
   ]
  },
  {
   "cell_type": "markdown",
   "id": "414484fc",
   "metadata": {},
   "source": [
    "## Confidence\n",
    "La confiance nous indique à quel point nous pouvons être sûrs (d'après nos données) qu'un GHM se trouvera dans le parcours de soins d'un patient, étant donné qu'un autre GHM a été observé.\\\n",
    "\\\n",
    "$Confidence(GHM_i\\longrightarrow GHM_j) = \\frac{Support(GHM_i \\cup GHM_j)}{Support(GHM_i)}$"
   ]
  },
  {
   "cell_type": "markdown",
   "id": "4070aa1b-ea96-4203-b0e3-9b35b8854d35",
   "metadata": {},
   "source": [
    "## Lift\n",
    "\n",
    "Lift est une mesure qui nous indique si la probabilité d'apparition d'un GHM augmente ou diminue compte tenu de la présence d'un autre GHM dans le parcours de soin:\\\n",
    "\\\n",
    "$Lift(GHM_i \\longrightarrow GHM_j) = \\frac{\\mathbb{P}(GHM_i \\cup GHM_j)}{Support(GHM_i) \\times Support(GHM_j)}$ \\\n",
    "\\\n",
    "On peut simplifier cette formule en remplaçant\n",
    "$\\frac{\\mathbb{P}(GHM_i \\cup GHM_j)}{Support(GHM_i)}$\n",
    "par $Confidence(GHM_i\\longrightarrow GHM_j)$. Ansi, on obtient : \\\n",
    "\\\n",
    "$Lift(GHM_i \\longrightarrow GHM_j) = \\frac{Confidence(GHM_i\\longrightarrow GHM_j)}{Support(GHM_j)}$"
   ]
  },
  {
   "cell_type": "code",
   "execution_count": 1,
   "id": "2ebf1502-4587-43b9-a214-ae01919a116a",
   "metadata": {
    "tags": []
   },
   "outputs": [
    {
     "name": "stdout",
     "output_type": "stream",
     "text": [
      "Collecting apyori\n",
      "  Downloading apyori-1.1.2.tar.gz (8.6 kB)\n",
      "  Preparing metadata (setup.py) ... \u001b[?25ldone\n",
      "\u001b[?25hBuilding wheels for collected packages: apyori\n",
      "  Building wheel for apyori (setup.py) ... \u001b[?25ldone\n",
      "\u001b[?25h  Created wheel for apyori: filename=apyori-1.1.2-py3-none-any.whl size=5955 sha256=7283bdfc1bc45406f6650b5a815aa42209e7db124d697bf984a5eef61204be9e\n",
      "  Stored in directory: /home/onyxia/.cache/pip/wheels/c4/1a/79/20f55c470a50bb3702a8cb7c94d8ada15573538c7f4baebe2d\n",
      "Successfully built apyori\n",
      "Installing collected packages: apyori\n",
      "Successfully installed apyori-1.1.2\n"
     ]
    }
   ],
   "source": [
    "!pip install apyori"
   ]
  },
  {
   "cell_type": "code",
   "execution_count": 2,
   "id": "2dc04a6e-e0de-4496-9d84-3f1787ade751",
   "metadata": {
    "tags": []
   },
   "outputs": [],
   "source": [
    "from apyori import apriori\n",
    "import pandas as pd\n",
    "import pickle"
   ]
  },
  {
   "cell_type": "code",
   "execution_count": 3,
   "id": "463fcc59",
   "metadata": {
    "tags": []
   },
   "outputs": [],
   "source": [
    "def generate_output(db):\n",
    "    association_rules = apriori(db,\n",
    "                            min_support=0.02,\n",
    "                            min_confidence=0.05,\n",
    "                            #min_lift=1,\n",
    "                            max_length=None)\n",
    "    \n",
    "    association_results = list(association_rules)\n",
    "    \n",
    "    listRules = [list(association_results[i][0]) for i in range(0,len(association_results))]\n",
    "    listSupport = [association_results[i].support for i in range(0,len(association_results))]\n",
    "    \n",
    "    return pd.DataFrame({\"Motif\":listRules, \"Support\":listSupport}).sort_values(by=\"Support\", ascending=False).reset_index(drop=True)"
   ]
  },
  {
   "cell_type": "code",
   "execution_count": 4,
   "id": "a505a5d5",
   "metadata": {
    "tags": []
   },
   "outputs": [],
   "source": [
    "%%capture capt\n",
    "p_soins=pd.read_csv(\"../data/parcours_soins.csv\")\n",
    "patients=pd.read_csv(\"../data/profil_patient.csv\")"
   ]
  },
  {
   "cell_type": "code",
   "execution_count": 5,
   "id": "eb719f82",
   "metadata": {
    "tags": []
   },
   "outputs": [
    {
     "name": "stderr",
     "output_type": "stream",
     "text": [
      "/tmp/ipykernel_294/3737135568.py:4: PerformanceWarning: DataFrame is highly fragmented.  This is usually the result of calling `frame.insert` many times, which has poor performance.  Consider joining all columns at once using pd.concat(axis=1) instead. To get a de-fragmented frame, use `newframe = frame.copy()`\n",
      "  p_soins[\"cluster\"]=patients[\"cluster\"]\n"
     ]
    }
   ],
   "source": [
    "p_soins=p_soins.rename(columns={\"BEN_NIR_IDT\": \"CODE_PATIENT\"})\n",
    "p_soins=p_soins.set_index(\"CODE_PATIENT\")\n",
    "patients=patients.set_index(\"CODE_PATIENT\")\n",
    "p_soins[\"cluster\"]=patients[\"cluster\"]"
   ]
  },
  {
   "cell_type": "code",
   "execution_count": 6,
   "id": "7cd16215",
   "metadata": {
    "tags": []
   },
   "outputs": [],
   "source": [
    "with open('../data/parcours_soins.pickle', 'rb') as handle:\n",
    "    p_soin=pickle.load(handle)\n",
    "    \n",
    "with open('../data/parcours_soins_dp.pickle', 'rb') as handle:\n",
    "    p_soin_dp=pickle.load(handle)"
   ]
  },
  {
   "cell_type": "code",
   "execution_count": 7,
   "id": "ee63f1b6",
   "metadata": {
    "tags": []
   },
   "outputs": [],
   "source": [
    "corpus = []\n",
    "for i in range(18):\n",
    "    corpus += p_soin[f\"Cluster {i}\"]"
   ]
  },
  {
   "cell_type": "code",
   "execution_count": 8,
   "id": "084fb0c1",
   "metadata": {
    "tags": []
   },
   "outputs": [
    {
     "data": {
      "text/plain": [
       "10051"
      ]
     },
     "execution_count": 8,
     "metadata": {},
     "output_type": "execute_result"
    }
   ],
   "source": [
    "len(corpus)"
   ]
  },
  {
   "cell_type": "code",
   "execution_count": 9,
   "id": "d4770ad6",
   "metadata": {
    "tags": []
   },
   "outputs": [
    {
     "data": {
      "text/html": [
       "<div>\n",
       "<style scoped>\n",
       "    .dataframe tbody tr th:only-of-type {\n",
       "        vertical-align: middle;\n",
       "    }\n",
       "\n",
       "    .dataframe tbody tr th {\n",
       "        vertical-align: top;\n",
       "    }\n",
       "\n",
       "    .dataframe thead th {\n",
       "        text-align: right;\n",
       "    }\n",
       "</style>\n",
       "<table border=\"1\" class=\"dataframe\">\n",
       "  <thead>\n",
       "    <tr style=\"text-align: right;\">\n",
       "      <th></th>\n",
       "      <th>Motif</th>\n",
       "      <th>Support</th>\n",
       "    </tr>\n",
       "  </thead>\n",
       "  <tbody>\n",
       "    <tr>\n",
       "      <th>0</th>\n",
       "      <td>[05M092]</td>\n",
       "      <td>0.182867</td>\n",
       "    </tr>\n",
       "    <tr>\n",
       "      <th>1</th>\n",
       "      <td>[05M093]</td>\n",
       "      <td>0.162272</td>\n",
       "    </tr>\n",
       "    <tr>\n",
       "      <th>2</th>\n",
       "      <td>[02C05J]</td>\n",
       "      <td>0.138295</td>\n",
       "    </tr>\n",
       "    <tr>\n",
       "      <th>3</th>\n",
       "      <td>[05K101]</td>\n",
       "      <td>0.098000</td>\n",
       "    </tr>\n",
       "    <tr>\n",
       "      <th>4</th>\n",
       "      <td>[04M053]</td>\n",
       "      <td>0.085066</td>\n",
       "    </tr>\n",
       "    <tr>\n",
       "      <th>5</th>\n",
       "      <td>[05M091]</td>\n",
       "      <td>0.079893</td>\n",
       "    </tr>\n",
       "    <tr>\n",
       "      <th>6</th>\n",
       "      <td>[05M09T]</td>\n",
       "      <td>0.078599</td>\n",
       "    </tr>\n",
       "    <tr>\n",
       "      <th>7</th>\n",
       "      <td>[23M20Z]</td>\n",
       "      <td>0.066063</td>\n",
       "    </tr>\n",
       "    <tr>\n",
       "      <th>8</th>\n",
       "      <td>[23M20T]</td>\n",
       "      <td>0.058104</td>\n",
       "    </tr>\n",
       "    <tr>\n",
       "      <th>9</th>\n",
       "      <td>[06K04J]</td>\n",
       "      <td>0.055218</td>\n",
       "    </tr>\n",
       "    <tr>\n",
       "      <th>10</th>\n",
       "      <td>[05K061]</td>\n",
       "      <td>0.053925</td>\n",
       "    </tr>\n",
       "    <tr>\n",
       "      <th>11</th>\n",
       "      <td>[04M052]</td>\n",
       "      <td>0.051637</td>\n",
       "    </tr>\n",
       "    <tr>\n",
       "      <th>12</th>\n",
       "      <td>[05M093, 05M092]</td>\n",
       "      <td>0.050542</td>\n",
       "    </tr>\n",
       "    <tr>\n",
       "      <th>13</th>\n",
       "      <td>[05M092, 02C05J]</td>\n",
       "      <td>0.030047</td>\n",
       "    </tr>\n",
       "    <tr>\n",
       "      <th>14</th>\n",
       "      <td>[05M091, 05M092]</td>\n",
       "      <td>0.027460</td>\n",
       "    </tr>\n",
       "    <tr>\n",
       "      <th>15</th>\n",
       "      <td>[05M09T, 05M092]</td>\n",
       "      <td>0.023381</td>\n",
       "    </tr>\n",
       "    <tr>\n",
       "      <th>16</th>\n",
       "      <td>[05M093, 02C05J]</td>\n",
       "      <td>0.022784</td>\n",
       "    </tr>\n",
       "    <tr>\n",
       "      <th>17</th>\n",
       "      <td>[05M091, 05M093]</td>\n",
       "      <td>0.021789</td>\n",
       "    </tr>\n",
       "    <tr>\n",
       "      <th>18</th>\n",
       "      <td>[05M092, 05K101]</td>\n",
       "      <td>0.020296</td>\n",
       "    </tr>\n",
       "  </tbody>\n",
       "</table>\n",
       "</div>"
      ],
      "text/plain": [
       "               Motif   Support\n",
       "0           [05M092]  0.182867\n",
       "1           [05M093]  0.162272\n",
       "2           [02C05J]  0.138295\n",
       "3           [05K101]  0.098000\n",
       "4           [04M053]  0.085066\n",
       "5           [05M091]  0.079893\n",
       "6           [05M09T]  0.078599\n",
       "7           [23M20Z]  0.066063\n",
       "8           [23M20T]  0.058104\n",
       "9           [06K04J]  0.055218\n",
       "10          [05K061]  0.053925\n",
       "11          [04M052]  0.051637\n",
       "12  [05M093, 05M092]  0.050542\n",
       "13  [05M092, 02C05J]  0.030047\n",
       "14  [05M091, 05M092]  0.027460\n",
       "15  [05M09T, 05M092]  0.023381\n",
       "16  [05M093, 02C05J]  0.022784\n",
       "17  [05M091, 05M093]  0.021789\n",
       "18  [05M092, 05K101]  0.020296"
      ]
     },
     "execution_count": 9,
     "metadata": {},
     "output_type": "execute_result"
    }
   ],
   "source": [
    "generate_output(corpus)"
   ]
  },
  {
   "cell_type": "code",
   "execution_count": null,
   "id": "35233f1f-f0c8-4eb8-885f-770882b245ce",
   "metadata": {},
   "outputs": [],
   "source": []
  },
  {
   "cell_type": "code",
   "execution_count": null,
   "id": "1dca870f-4f66-469d-ae3b-e38d3557af15",
   "metadata": {},
   "outputs": [],
   "source": []
  }
 ],
 "metadata": {
  "kernelspec": {
   "display_name": "Python 3 (ipykernel)",
   "language": "python",
   "name": "python3"
  },
  "language_info": {
   "codemirror_mode": {
    "name": "ipython",
    "version": 3
   },
   "file_extension": ".py",
   "mimetype": "text/x-python",
   "name": "python",
   "nbconvert_exporter": "python",
   "pygments_lexer": "ipython3",
   "version": "3.10.8"
  }
 },
 "nbformat": 4,
 "nbformat_minor": 5
}
