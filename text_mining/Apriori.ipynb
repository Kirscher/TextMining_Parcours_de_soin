{
 "cells": [
  {
   "cell_type": "markdown",
   "id": "7c708ae0-4dee-4294-b81f-5459fdb50bd7",
   "metadata": {},
   "source": [
    "# Apriori algorithm\n",
    "\n",
    "Implémentation de l'algorithme *Apriori* sur notre jeu de données. Les métriques calculées sont détaillées ci-dessous, avec des explications adaptées à notre cas d'utilisation et inspirées du tutoriel suivant : https://towardsdatascience.com/apriori-algorithm-for-association-rule-learning-how-to-find-clear-links-between-transactions-bf7ebc22cf0a\n",
    "\n",
    "## Apprentissage de règles d'association\n",
    "\n",
    "*Apriori* fait partie des algorithmes d'apprentissage de règles d'association (*association rule learning*), qui appartiennent à la branche non supervisée de l'apprentissage automatique. L'objectif de ces algorithmes est de découvrir des relations intéressantes entre des variables dans de grandes bases de données."
   ]
  },
  {
   "cell_type": "markdown",
   "id": "85d1d395-654a-4e94-85df-595bbfa1fc7b",
   "metadata": {},
   "source": [
    "## Métriques"
   ]
  },
  {
   "cell_type": "markdown",
   "id": "86d55d40",
   "metadata": {},
   "source": [
    "### Support\n",
    "La première étape consiste à trouver les GHM fréquents. Le calcul du support est basé sur la fréquence : \\\n",
    "\\\n",
    "$Support(GHM_i) = \\frac{\\text{Nb d'hospitalisations pour le } GHM_i}{\\text{Nb total d'hospitalisations}}$"
   ]
  },
  {
   "cell_type": "markdown",
   "id": "414484fc",
   "metadata": {},
   "source": [
    "### Confidence\n",
    "La confiance nous indique à quel point nous pouvons être sûrs (d'après nos données) qu'un GHM se trouvera dans le parcours de soins d'un patient, étant donné qu'un autre GHM a été observé.\\\n",
    "\\\n",
    "$Confidence(GHM_i\\longrightarrow GHM_j) = \\frac{Support(GHM_i \\cup GHM_j)}{Support(GHM_i)}$"
   ]
  },
  {
   "cell_type": "markdown",
   "id": "4070aa1b-ea96-4203-b0e3-9b35b8854d35",
   "metadata": {},
   "source": [
    "### Lift\n",
    "\n",
    "Lift est une mesure qui nous indique si la probabilité d'apparition d'un GHM augmente ou diminue compte tenu de la présence d'un autre GHM dans le parcours de soin.\\\n",
    "\\\n",
    "$Lift(GHM_i \\longrightarrow GHM_j) = \\frac{\\mathbb{P}(GHM_i \\cup GHM_j)}{Support(GHM_i) \\times Support(GHM_j)}$ \\\n",
    "\\\n",
    "On peut simplifier cette formule en remplaçant\n",
    "$\\frac{\\mathbb{P}(GHM_i \\cup GHM_j)}{Support(GHM_i)}$\n",
    "par $Confidence(GHM_i\\longrightarrow GHM_j)$. Ansi, on obtient : \\\n",
    "\\\n",
    "$Lift(GHM_i \\longrightarrow GHM_j) = \\frac{Confidence(GHM_i\\longrightarrow GHM_j)}{Support(GHM_j)}$\n",
    "\n",
    "+ $Lift>1$ : les deux GHM sont plus susceptibles d'être présents dans un même parcours de soins\n",
    "+ $Lift<1$ : les deux GHM sont plus susceptibles d'être présents dans des parcours de soins différents\n",
    "+ $Lift=1$ : il n'y a pas d'association entre les deux GHM"
   ]
  },
  {
   "cell_type": "markdown",
   "id": "76a3f519-15eb-4842-b820-cd66ff0c49aa",
   "metadata": {},
   "source": [
    "## Implémentation"
   ]
  },
  {
   "cell_type": "code",
   "execution_count": 1,
   "id": "2ebf1502-4587-43b9-a214-ae01919a116a",
   "metadata": {
    "tags": []
   },
   "outputs": [
    {
     "name": "stdout",
     "output_type": "stream",
     "text": [
      "Requirement already satisfied: apyori in /opt/mamba/lib/python3.10/site-packages (1.1.2)\n"
     ]
    }
   ],
   "source": [
    "!pip install apyori"
   ]
  },
  {
   "cell_type": "code",
   "execution_count": 10,
   "id": "2dc04a6e-e0de-4496-9d84-3f1787ade751",
   "metadata": {
    "tags": []
   },
   "outputs": [],
   "source": [
    "from apyori import apriori\n",
    "import pandas as pd\n",
    "import pickle"
   ]
  },
  {
   "cell_type": "code",
   "execution_count": 3,
   "id": "463fcc59",
   "metadata": {
    "tags": []
   },
   "outputs": [],
   "source": [
    "def generate_output(db):\n",
    "    association_rules = apriori(db,\n",
    "                            min_support=0.02,\n",
    "                            min_confidence=0.05,\n",
    "                            #min_lift=1,\n",
    "                            max_length=None)\n",
    "    \n",
    "    association_results = list(association_rules)\n",
    "    \n",
    "    listRules = [list(association_results[i][0]) for i in range(0,len(association_results))]\n",
    "    listSupport = [association_results[i].support for i in range(0,len(association_results))]\n",
    "    listConfidence = [association_results[i].ordered_statistics[0].confidence for i in range(0,len(association_results))]\n",
    "    listLift = [association_results[i].ordered_statistics[0].lift for i in range(0,len(association_results))]\n",
    "    \n",
    "    return pd.DataFrame({\"Motif\":listRules,\n",
    "                         \"Support\":listSupport,\n",
    "                         \"Confidence\":listConfidence,\n",
    "                         \"Lift\":listLift}).sort_values(by=\"Support\", ascending=False).reset_index(drop=True)"
   ]
  },
  {
   "cell_type": "code",
   "execution_count": 4,
   "id": "a505a5d5",
   "metadata": {
    "tags": []
   },
   "outputs": [],
   "source": [
    "%%capture capt\n",
    "p_soins=pd.read_csv(\"../data/parcours_soins.csv\")\n",
    "patients=pd.read_csv(\"../data/profil_patient.csv\")"
   ]
  },
  {
   "cell_type": "code",
   "execution_count": 5,
   "id": "eb719f82",
   "metadata": {
    "tags": []
   },
   "outputs": [],
   "source": [
    "%%capture capt\n",
    "p_soins=p_soins.rename(columns={\"BEN_NIR_IDT\": \"CODE_PATIENT\"})\n",
    "p_soins=p_soins.set_index(\"CODE_PATIENT\")\n",
    "patients=patients.set_index(\"CODE_PATIENT\")\n",
    "p_soins[\"cluster\"]=patients[\"cluster\"]"
   ]
  },
  {
   "cell_type": "code",
   "execution_count": 6,
   "id": "7cd16215",
   "metadata": {
    "tags": []
   },
   "outputs": [],
   "source": [
    "with open('../data/parcours_soins.pickle', 'rb') as handle:\n",
    "    p_soin=pickle.load(handle)\n",
    "    \n",
    "with open('../data/parcours_soins_dp.pickle', 'rb') as handle:\n",
    "    p_soin_dp=pickle.load(handle)"
   ]
  },
  {
   "cell_type": "code",
   "execution_count": 7,
   "id": "ee63f1b6",
   "metadata": {
    "tags": []
   },
   "outputs": [],
   "source": [
    "corpus = []\n",
    "for i in range(18):\n",
    "    corpus += p_soin[f\"Cluster {i}\"]"
   ]
  },
  {
   "cell_type": "code",
   "execution_count": 8,
   "id": "084fb0c1",
   "metadata": {
    "tags": []
   },
   "outputs": [
    {
     "data": {
      "text/plain": [
       "10051"
      ]
     },
     "execution_count": 8,
     "metadata": {},
     "output_type": "execute_result"
    }
   ],
   "source": [
    "len(corpus)"
   ]
  },
  {
   "cell_type": "markdown",
   "id": "b7fb93c4-9a45-40e9-85f8-5e9cf3c2efcf",
   "metadata": {},
   "source": [
    "### Sortie pour l'ensemble des parcours de soins"
   ]
  },
  {
   "cell_type": "code",
   "execution_count": 9,
   "id": "d4770ad6",
   "metadata": {
    "tags": []
   },
   "outputs": [
    {
     "data": {
      "text/html": [
       "<div>\n",
       "<style scoped>\n",
       "    .dataframe tbody tr th:only-of-type {\n",
       "        vertical-align: middle;\n",
       "    }\n",
       "\n",
       "    .dataframe tbody tr th {\n",
       "        vertical-align: top;\n",
       "    }\n",
       "\n",
       "    .dataframe thead th {\n",
       "        text-align: right;\n",
       "    }\n",
       "</style>\n",
       "<table border=\"1\" class=\"dataframe\">\n",
       "  <thead>\n",
       "    <tr style=\"text-align: right;\">\n",
       "      <th></th>\n",
       "      <th>Motif</th>\n",
       "      <th>Support</th>\n",
       "      <th>Confidence</th>\n",
       "      <th>Lift</th>\n",
       "    </tr>\n",
       "  </thead>\n",
       "  <tbody>\n",
       "    <tr>\n",
       "      <th>0</th>\n",
       "      <td>[05M092]</td>\n",
       "      <td>0.182867</td>\n",
       "      <td>0.182867</td>\n",
       "      <td>1.000000</td>\n",
       "    </tr>\n",
       "    <tr>\n",
       "      <th>1</th>\n",
       "      <td>[05M093]</td>\n",
       "      <td>0.162272</td>\n",
       "      <td>0.162272</td>\n",
       "      <td>1.000000</td>\n",
       "    </tr>\n",
       "    <tr>\n",
       "      <th>2</th>\n",
       "      <td>[02C05J]</td>\n",
       "      <td>0.138295</td>\n",
       "      <td>0.138295</td>\n",
       "      <td>1.000000</td>\n",
       "    </tr>\n",
       "    <tr>\n",
       "      <th>3</th>\n",
       "      <td>[05K101]</td>\n",
       "      <td>0.098000</td>\n",
       "      <td>0.098000</td>\n",
       "      <td>1.000000</td>\n",
       "    </tr>\n",
       "    <tr>\n",
       "      <th>4</th>\n",
       "      <td>[04M053]</td>\n",
       "      <td>0.085066</td>\n",
       "      <td>0.085066</td>\n",
       "      <td>1.000000</td>\n",
       "    </tr>\n",
       "    <tr>\n",
       "      <th>5</th>\n",
       "      <td>[05M091]</td>\n",
       "      <td>0.079893</td>\n",
       "      <td>0.079893</td>\n",
       "      <td>1.000000</td>\n",
       "    </tr>\n",
       "    <tr>\n",
       "      <th>6</th>\n",
       "      <td>[05M09T]</td>\n",
       "      <td>0.078599</td>\n",
       "      <td>0.078599</td>\n",
       "      <td>1.000000</td>\n",
       "    </tr>\n",
       "    <tr>\n",
       "      <th>7</th>\n",
       "      <td>[23M20Z]</td>\n",
       "      <td>0.066063</td>\n",
       "      <td>0.066063</td>\n",
       "      <td>1.000000</td>\n",
       "    </tr>\n",
       "    <tr>\n",
       "      <th>8</th>\n",
       "      <td>[23M20T]</td>\n",
       "      <td>0.058104</td>\n",
       "      <td>0.058104</td>\n",
       "      <td>1.000000</td>\n",
       "    </tr>\n",
       "    <tr>\n",
       "      <th>9</th>\n",
       "      <td>[06K04J]</td>\n",
       "      <td>0.055218</td>\n",
       "      <td>0.055218</td>\n",
       "      <td>1.000000</td>\n",
       "    </tr>\n",
       "    <tr>\n",
       "      <th>10</th>\n",
       "      <td>[05K061]</td>\n",
       "      <td>0.053925</td>\n",
       "      <td>0.053925</td>\n",
       "      <td>1.000000</td>\n",
       "    </tr>\n",
       "    <tr>\n",
       "      <th>11</th>\n",
       "      <td>[04M052]</td>\n",
       "      <td>0.051637</td>\n",
       "      <td>0.051637</td>\n",
       "      <td>1.000000</td>\n",
       "    </tr>\n",
       "    <tr>\n",
       "      <th>12</th>\n",
       "      <td>[05M093, 05M092]</td>\n",
       "      <td>0.050542</td>\n",
       "      <td>0.050542</td>\n",
       "      <td>1.000000</td>\n",
       "    </tr>\n",
       "    <tr>\n",
       "      <th>13</th>\n",
       "      <td>[05M092, 02C05J]</td>\n",
       "      <td>0.030047</td>\n",
       "      <td>0.217266</td>\n",
       "      <td>1.188108</td>\n",
       "    </tr>\n",
       "    <tr>\n",
       "      <th>14</th>\n",
       "      <td>[05M091, 05M092]</td>\n",
       "      <td>0.027460</td>\n",
       "      <td>0.343711</td>\n",
       "      <td>1.879565</td>\n",
       "    </tr>\n",
       "    <tr>\n",
       "      <th>15</th>\n",
       "      <td>[05M09T, 05M092]</td>\n",
       "      <td>0.023381</td>\n",
       "      <td>0.127856</td>\n",
       "      <td>1.626689</td>\n",
       "    </tr>\n",
       "    <tr>\n",
       "      <th>16</th>\n",
       "      <td>[05M093, 02C05J]</td>\n",
       "      <td>0.022784</td>\n",
       "      <td>0.164748</td>\n",
       "      <td>1.015257</td>\n",
       "    </tr>\n",
       "    <tr>\n",
       "      <th>17</th>\n",
       "      <td>[05M091, 05M093]</td>\n",
       "      <td>0.021789</td>\n",
       "      <td>0.272727</td>\n",
       "      <td>1.680676</td>\n",
       "    </tr>\n",
       "    <tr>\n",
       "      <th>18</th>\n",
       "      <td>[05K101, 05M092]</td>\n",
       "      <td>0.020296</td>\n",
       "      <td>0.207107</td>\n",
       "      <td>1.132551</td>\n",
       "    </tr>\n",
       "  </tbody>\n",
       "</table>\n",
       "</div>"
      ],
      "text/plain": [
       "               Motif   Support  Confidence      Lift\n",
       "0           [05M092]  0.182867    0.182867  1.000000\n",
       "1           [05M093]  0.162272    0.162272  1.000000\n",
       "2           [02C05J]  0.138295    0.138295  1.000000\n",
       "3           [05K101]  0.098000    0.098000  1.000000\n",
       "4           [04M053]  0.085066    0.085066  1.000000\n",
       "5           [05M091]  0.079893    0.079893  1.000000\n",
       "6           [05M09T]  0.078599    0.078599  1.000000\n",
       "7           [23M20Z]  0.066063    0.066063  1.000000\n",
       "8           [23M20T]  0.058104    0.058104  1.000000\n",
       "9           [06K04J]  0.055218    0.055218  1.000000\n",
       "10          [05K061]  0.053925    0.053925  1.000000\n",
       "11          [04M052]  0.051637    0.051637  1.000000\n",
       "12  [05M093, 05M092]  0.050542    0.050542  1.000000\n",
       "13  [05M092, 02C05J]  0.030047    0.217266  1.188108\n",
       "14  [05M091, 05M092]  0.027460    0.343711  1.879565\n",
       "15  [05M09T, 05M092]  0.023381    0.127856  1.626689\n",
       "16  [05M093, 02C05J]  0.022784    0.164748  1.015257\n",
       "17  [05M091, 05M093]  0.021789    0.272727  1.680676\n",
       "18  [05K101, 05M092]  0.020296    0.207107  1.132551"
      ]
     },
     "execution_count": 9,
     "metadata": {},
     "output_type": "execute_result"
    }
   ],
   "source": [
    "generate_output(corpus)"
   ]
  },
  {
   "cell_type": "code",
   "execution_count": 11,
   "id": "95282b04-6210-4b84-bf1a-54c0d5fb0458",
   "metadata": {
    "tags": []
   },
   "outputs": [],
   "source": [
    "corpus_dp = []\n",
    "for i in range(18):\n",
    "    corpus_dp += p_soin_dp[f\"Cluster {i}\"]"
   ]
  },
  {
   "cell_type": "code",
   "execution_count": 12,
   "id": "3e1603e7-bd1f-4c57-aaa8-2905eca20e2c",
   "metadata": {
    "tags": []
   },
   "outputs": [
    {
     "data": {
      "text/plain": [
       "10051"
      ]
     },
     "execution_count": 12,
     "metadata": {},
     "output_type": "execute_result"
    }
   ],
   "source": [
    "len(corpus_dp)"
   ]
  },
  {
   "cell_type": "code",
   "execution_count": 13,
   "id": "e526e1fa-0e0d-4e05-a026-4c0232bf7b75",
   "metadata": {
    "tags": []
   },
   "outputs": [
    {
     "data": {
      "text/html": [
       "<div>\n",
       "<style scoped>\n",
       "    .dataframe tbody tr th:only-of-type {\n",
       "        vertical-align: middle;\n",
       "    }\n",
       "\n",
       "    .dataframe tbody tr th {\n",
       "        vertical-align: top;\n",
       "    }\n",
       "\n",
       "    .dataframe thead th {\n",
       "        text-align: right;\n",
       "    }\n",
       "</style>\n",
       "<table border=\"1\" class=\"dataframe\">\n",
       "  <thead>\n",
       "    <tr style=\"text-align: right;\">\n",
       "      <th></th>\n",
       "      <th>Motif</th>\n",
       "      <th>Support</th>\n",
       "      <th>Confidence</th>\n",
       "      <th>Lift</th>\n",
       "    </tr>\n",
       "  </thead>\n",
       "  <tbody>\n",
       "    <tr>\n",
       "      <th>0</th>\n",
       "      <td>[I500]</td>\n",
       "      <td>0.232415</td>\n",
       "      <td>0.232415</td>\n",
       "      <td>1.000000</td>\n",
       "    </tr>\n",
       "    <tr>\n",
       "      <th>1</th>\n",
       "      <td>[I501]</td>\n",
       "      <td>0.214705</td>\n",
       "      <td>0.214705</td>\n",
       "      <td>1.000000</td>\n",
       "    </tr>\n",
       "    <tr>\n",
       "      <th>2</th>\n",
       "      <td>[H251]</td>\n",
       "      <td>0.069048</td>\n",
       "      <td>0.069048</td>\n",
       "      <td>1.000000</td>\n",
       "    </tr>\n",
       "    <tr>\n",
       "      <th>3</th>\n",
       "      <td>[I501, I500]</td>\n",
       "      <td>0.068550</td>\n",
       "      <td>0.068550</td>\n",
       "      <td>1.000000</td>\n",
       "    </tr>\n",
       "    <tr>\n",
       "      <th>4</th>\n",
       "      <td>[I509]</td>\n",
       "      <td>0.067456</td>\n",
       "      <td>0.067456</td>\n",
       "      <td>1.000000</td>\n",
       "    </tr>\n",
       "    <tr>\n",
       "      <th>5</th>\n",
       "      <td>[Z098]</td>\n",
       "      <td>0.061785</td>\n",
       "      <td>0.061785</td>\n",
       "      <td>1.000000</td>\n",
       "    </tr>\n",
       "    <tr>\n",
       "      <th>6</th>\n",
       "      <td>[I48]</td>\n",
       "      <td>0.055517</td>\n",
       "      <td>0.055517</td>\n",
       "      <td>1.000000</td>\n",
       "    </tr>\n",
       "    <tr>\n",
       "      <th>7</th>\n",
       "      <td>[J960]</td>\n",
       "      <td>0.050244</td>\n",
       "      <td>0.050244</td>\n",
       "      <td>1.000000</td>\n",
       "    </tr>\n",
       "    <tr>\n",
       "      <th>8</th>\n",
       "      <td>[Z515]</td>\n",
       "      <td>0.050045</td>\n",
       "      <td>0.050045</td>\n",
       "      <td>1.000000</td>\n",
       "    </tr>\n",
       "    <tr>\n",
       "      <th>9</th>\n",
       "      <td>[I509, I500]</td>\n",
       "      <td>0.025968</td>\n",
       "      <td>0.111729</td>\n",
       "      <td>1.656331</td>\n",
       "    </tr>\n",
       "    <tr>\n",
       "      <th>10</th>\n",
       "      <td>[I501, I509]</td>\n",
       "      <td>0.022087</td>\n",
       "      <td>0.102873</td>\n",
       "      <td>1.525040</td>\n",
       "    </tr>\n",
       "    <tr>\n",
       "      <th>11</th>\n",
       "      <td>[H251, I500]</td>\n",
       "      <td>0.021192</td>\n",
       "      <td>0.306916</td>\n",
       "      <td>1.320555</td>\n",
       "    </tr>\n",
       "  </tbody>\n",
       "</table>\n",
       "</div>"
      ],
      "text/plain": [
       "           Motif   Support  Confidence      Lift\n",
       "0         [I500]  0.232415    0.232415  1.000000\n",
       "1         [I501]  0.214705    0.214705  1.000000\n",
       "2         [H251]  0.069048    0.069048  1.000000\n",
       "3   [I501, I500]  0.068550    0.068550  1.000000\n",
       "4         [I509]  0.067456    0.067456  1.000000\n",
       "5         [Z098]  0.061785    0.061785  1.000000\n",
       "6          [I48]  0.055517    0.055517  1.000000\n",
       "7         [J960]  0.050244    0.050244  1.000000\n",
       "8         [Z515]  0.050045    0.050045  1.000000\n",
       "9   [I509, I500]  0.025968    0.111729  1.656331\n",
       "10  [I501, I509]  0.022087    0.102873  1.525040\n",
       "11  [H251, I500]  0.021192    0.306916  1.320555"
      ]
     },
     "execution_count": 13,
     "metadata": {},
     "output_type": "execute_result"
    }
   ],
   "source": [
    "generate_output(corpus_dp)"
   ]
  }
 ],
 "metadata": {
  "kernelspec": {
   "display_name": "Python 3 (ipykernel)",
   "language": "python",
   "name": "python3"
  },
  "language_info": {
   "codemirror_mode": {
    "name": "ipython",
    "version": 3
   },
   "file_extension": ".py",
   "mimetype": "text/x-python",
   "name": "python",
   "nbconvert_exporter": "python",
   "pygments_lexer": "ipython3",
   "version": "3.10.8"
  }
 },
 "nbformat": 4,
 "nbformat_minor": 5
}
